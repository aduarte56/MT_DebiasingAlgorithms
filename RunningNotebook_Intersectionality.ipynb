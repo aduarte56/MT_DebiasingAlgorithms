{
 "cells": [
  {
   "cell_type": "code",
   "execution_count": 1,
   "metadata": {},
   "outputs": [],
   "source": [
    "import codecs\n",
    "import json\n",
    "import numpy as np\n",
    "import sklearn"
   ]
  },
  {
   "cell_type": "code",
   "execution_count": 2,
   "metadata": {},
   "outputs": [],
   "source": [
    "from Scripts.ProcessingEmbeddings import *\n",
    "import Scripts.utils as utils"
   ]
  },
  {
   "cell_type": "code",
   "execution_count": 3,
   "metadata": {},
   "outputs": [
    {
     "name": "stdout",
     "output_type": "stream",
     "text": [
      "Loading Data/glove-wiki-gigaword-300.txt embeddings\n",
      "vectors shape: (400000, 300), word2idx length: 400000, vocab length: 400000\n"
     ]
    }
   ],
   "source": [
    "#Creating an embeddings object: 400k words, 50 dimensions\n",
    "glove=Embeddings('Data/glove-wiki-gigaword-300.txt', gensim=False)\n",
    "#word2vec=Embeddings('Data/word2vec-google-news-300.txt', gensim=False)"
   ]
  },
  {
   "cell_type": "code",
   "execution_count": 4,
   "metadata": {},
   "outputs": [],
   "source": [
    "#Getting the attributes of the embeddings \n",
    "vectors=glove.vectors\n",
    "word2idx=glove.word2idx\n",
    "vocab=glove.words\n",
    "dict_vectors = glove.get_word_vector_dict()\n"
   ]
  },
  {
   "cell_type": "code",
   "execution_count": 5,
   "metadata": {},
   "outputs": [
    {
     "data": {
      "text/plain": [
       "False"
      ]
     },
     "execution_count": 5,
     "metadata": {},
     "output_type": "execute_result"
    }
   ],
   "source": [
    "#Verifying the attributes: there shouldn't be any null values\n",
    "np.isnan(vectors).any()"
   ]
  },
  {
   "cell_type": "code",
   "execution_count": 6,
   "metadata": {},
   "outputs": [
    {
     "name": "stderr",
     "output_type": "stream",
     "text": [
      "100%|██████████| 400000/400000 [00:00<00:00, 606034.04it/s]\n"
     ]
    },
    {
     "name": "stdout",
     "output_type": "stream",
     "text": [
      "Size of limited vocabulary: 327185\n"
     ]
    }
   ],
   "source": [
    "#Removing puntuation and numbers from the embeddings\n",
    "vocab_cleaned, vectors_cleaned, word2idx_cleaned, dict_vec_cleaned = glove.limit_vocab(\n",
    "    vectors, word2idx, vocab)\n"
   ]
  },
  {
   "cell_type": "code",
   "execution_count": 7,
   "metadata": {},
   "outputs": [
    {
     "data": {
      "text/plain": [
       "array([5.18139682, 5.45449219, 5.91459155, ..., 5.73745479, 6.25541744,\n",
       "       3.3774816 ])"
      ]
     },
     "execution_count": 7,
     "metadata": {},
     "output_type": "execute_result"
    }
   ],
   "source": [
    "#Checking if vector are normalized\n",
    "np.apply_along_axis(np.linalg.norm, 1, vectors_cleaned)\n",
    "#They are not!"
   ]
  },
  {
   "attachments": {},
   "cell_type": "markdown",
   "metadata": {},
   "source": [
    "## Hard-Debias Algorithm"
   ]
  },
  {
   "attachments": {},
   "cell_type": "markdown",
   "metadata": {},
   "source": [
    "#### Preliminaries"
   ]
  },
  {
   "cell_type": "code",
   "execution_count": 8,
   "metadata": {},
   "outputs": [],
   "source": [
    "from Scripts.HardDebias import *"
   ]
  },
  {
   "cell_type": "code",
   "execution_count": 9,
   "metadata": {},
   "outputs": [],
   "source": [
    "#Gender specific vocabulary from Bolukbasi's paper.\n",
    "gender_specific = []\n",
    "female_vocab = []\n",
    "male_vocab = []\n",
    "with open('./Data/male_word_file.txt') as f:\n",
    "    male_vocab = [line.strip() for line in f]\n",
    "\n",
    "with open('./Data/female_word_file.txt') as f:\n",
    "    for l in f:\n",
    "        female_vocab.append(l.strip())\n",
    "\n",
    "gender_specific = female_vocab+female_vocab\n",
    "\n",
    "with codecs.open('./Data/gender_specific_full.json') as f:\n",
    "    gender_specific.extend(json.load(f))\n"
   ]
  },
  {
   "cell_type": "code",
   "execution_count": 10,
   "metadata": {},
   "outputs": [],
   "source": [
    "#Getting the definitional sets to calculate afterwards the gender direction. The first 10 gender sets were proposed by Bolukbasi et al. (2016)\n",
    "#Definitional sets for race where proposed by Manzini et al. in Multiclass debiasing of embeddings: https://github.com/TManzini/DebiasMulticlassWordEmbedding/blob/master/Debiasing/data/vocab/race_attributes_optm.json\n",
    "\n",
    "def_sets={\n",
    "    \"gender\" : [\n",
    "    ['she', 'he'], ['herself', 'himself'], ['her', 'his'], ['daughter', 'son'], ['girl', 'boy'],\n",
    "    ['mother', 'father'], ['woman', 'man'], ['mary', 'john'], ['gal', 'guy'], ['female', 'male'],['aunt', 'uncle']],\n",
    "    \n",
    "    \"race\":[\n",
    "\t\t[\"black\", \"caucasian\", \"asian\", \"hispanic\"],\n",
    "\t\t[\"african\", \"caucasian\", \"asian\", \"hispanic\"],\n",
    "\t\t[\"black\", \"white\", \"asian\", \"latino\"],\n",
    "\t\t[\"africa\", \"europe\", \"asia\", \"mexico\"],\n",
    "\t\t[\"africa\", \"america\", \"china\", \"latin-america\"],\n",
    "    ]\n",
    "\t}\n",
    "\n",
    "#Equalizing pairs for gender debiasing were first published by Bolukbasi et al. in https://github.com/tolga-b/debiaswe/blob/master/data/equalize_pairs.json\n",
    "# Equalizing sets for race where defined by Manzini as equal to the defining set (Manzini et al., 2019.p.3)\n",
    "equalizing_lists = {\n",
    "    \"gender\": [\n",
    "        [\"monastery\", \"convent\"], [\"spokesman\", \"spokeswoman\"], [\n",
    "            \"Catholic_priest\", \"nun\"], [\"Dad\", \"Mom\"], [\"Men\", \"Women\"],\n",
    "        [\"councilman\", \"councilwoman\"], [\"grandpa\", \"grandma\"], [\n",
    "            \"grandsons\", \"granddaughters\"], [\"prostate_cancer\", \"ovarian_cancer\"],\n",
    "        [\"testosterone\", \"estrogen\"], [\"uncle\", \"aunt\"], [\n",
    "            \"wives\", \"husbands\"], [\"Father\", \"Mother\"], [\"Grandpa\", \"Grandma\"],\n",
    "        [\"He\", \"She\"], [\"boy\", \"girl\"], [\"boys\", \"girls\"], [\"brother\", \"sister\"], [\n",
    "            \"brothers\", \"sisters\"], [\"businessman\", \"businesswoman\"],\n",
    "        [\"chairman\", \"chairwoman\"], [\"colt\", \"filly\"], [\"congressman\",\n",
    "                                                        \"congresswoman\"], [\"dad\", \"mom\"], [\"dads\", \"moms\"], [\"dudes\", \"gals\"],\n",
    "        [\"ex_girlfriend\", \"ex_boyfriend\"], [\"father\", \"mother\"], [\n",
    "            \"fatherhood\", \"motherhood\"], [\"fathers\", \"mothers\"], [\"fella\", \"granny\"],\n",
    "        [\"fraternity\", \"sorority\"], [\"gelding\", \"mare\"], [\"gentleman\", \"lady\"], [\n",
    "            \"gentlemen\", \"ladies\"], [\"grandfather\", \"grandmother\"],\n",
    "        [\"grandson\", \"granddaughter\"], [\"he\", \"she\"], [\"himself\", \"herself\"], [\n",
    "            \"his\", \"her\"], [\"king\", \"queen\"], [\"kings\", \"queens\"],\n",
    "        [\"male\", \"female\"], [\"males\", \"females\"], [\"man\", \"woman\"], [\n",
    "            \"men\", \"women\"], [\"nephew\", \"niece\"], [\"prince\", \"princess\"],\n",
    "        [\"schoolboy\", \"schoolgirl\"], [\"son\", \"daughter\"], [\"sons\", \"daughters\"], [\"twin_brother\", \"twin_sister\"]],\n",
    "\n",
    "    \"race\": [\n",
    "        [\"black\", \"caucasian\", \"asian\"],\n",
    "      \t[\"african\", \"caucasian\", \"asian\"],\n",
    "      \t[\"black\", \"white\", \"asian\"],\n",
    "      \t[\"africa\", \"america\", \"asia\"],\n",
    "      \t[\"africa\", \"america\", \"china\"],\n",
    "      \t[\"africa\", \"europe\", \"asia\"]\n",
    "    ]}\n",
    "\n",
    "#Some of the words were taken from the analogies' templates from Cheng and Manzini.\n",
    "#The list is not the same, however, because some of the words were not neutral, but carried some\n",
    "#relation to the social categories.\n",
    "neutral_words = [\"manager\", \"executive\", \"doctor\", \"lawyer\", \"programmer\",\n",
    "                 \"scientist\", \"soldier\", \"supervisor\", \"rancher\", \"janitor\",\n",
    "                 \"firefighter\", \"officer\", \"secretary\", \"nurse\", \"clerk\", \"artist\",\n",
    "                 \"homemaker\", \"dancer\", \"singer\", \"librarian\", \"maid\", \"hairdresser\", \"stylist\",\n",
    "                 \"receptionist\", \"counselor\", \"leader\", \"farmer\",\n",
    "                 \"engineer\", \"laborer\", \"teacher\",\n",
    "                 \"slave\", \"musician\", \"runner\", \"criminal\", \"homeless\",\n",
    "                 \"greedy\", \"cheap\", \"hairy\", \"liberal\",\n",
    "                 \"judgemental\", \"conservative\", \"familial\",\n",
    "                 \"violent\", \"terrorist\", \"dirty\", \"uneducated\", \"educated\"]\n",
    "\n",
    "\n",
    "#However, also the vocabulary without the gendered words from the list can be conceived as neutral, according to Bolukbasi et al.\n"
   ]
  },
  {
   "cell_type": "code",
   "execution_count": 11,
   "metadata": {},
   "outputs": [],
   "source": [
    "#Lists of names for validation\n",
    "#Adapted from Speer's tutorial on racism in sentiment analysis. http://blog.conceptnet.io/posts/2017/how-to-make-a-racist-ai-without-really-trying/\n",
    "names_ethnicity = {\n",
    "    # The first two lists are from the Caliskan et al. appendix describing the\n",
    "    # Word Embedding Association Test.\n",
    "    'White': [\n",
    "        'Adam', 'Chip', 'Harry', 'Josh', 'Roger', 'Alan', 'Frank', 'Ian', 'Justin',\n",
    "        'Ryan', 'Andrew', 'Fred', 'Jack', 'Matthew', 'Stephen', 'Brad', 'Greg', 'Jed',\n",
    "        'Paul', 'Todd', 'Brandon', 'Hank', 'Jonathan', 'Peter', 'Wilbur', 'Amanda',\n",
    "        'Courtney', 'Heather', 'Melanie', 'Sara', 'Amber', 'Crystal', 'Katie',\n",
    "        'Meredith', 'Shannon', 'Betsy', 'Donna', 'Kristin', 'Nancy', 'Stephanie',\n",
    "        'Bobbie-Sue', 'Ellen', 'Lauren', 'Peggy', 'Sue-Ellen', 'Colleen', 'Emily',\n",
    "        'Megan', 'Rachel', 'Wendy'\n",
    "    ],\n",
    "\n",
    "    'Black': [\n",
    "        'Alonzo', 'Jamel', 'Jamal', 'Lerone', 'Percell', 'Theo', 'Alphonse', 'Jerome',\n",
    "        'Leroy', 'Rasaan', 'Torrance', 'Darnell', 'Lamar', 'Lionel', 'Rashaun',\n",
    "        'Tyree', 'Deion', 'Lamont', 'Malik', 'Terrence', 'Tyrone', 'Everol',\n",
    "        'Lavon', 'Marcellus', 'Terryl', 'Wardell', 'Aiesha', 'Lashelle', 'Nichelle',\n",
    "        'Shereen', 'Temeka', 'Ebony', 'Latisha', 'Shaniqua', 'Tameisha', 'Teretha',\n",
    "        'Jasmine', 'Latonya', 'Shanise', 'Tanisha', 'Tia', 'Lakisha', 'Latoya',\n",
    "        'Sharise', 'Tashika', 'Yolanda', 'Lashandra', 'Malika', 'Shavonn',\n",
    "        'Tawanda', 'Yvette'\n",
    "    ],\n",
    "    \n",
    "    # This list comes from statistics about common Hispanic-origin names in the US.\n",
    "    'Hispanic': [\n",
    "        'Juan', 'José', 'Miguel', 'Luís', 'Jorge', 'Santiago', 'Matías', 'Sebastián',\n",
    "        'Mateo', 'Nicolás', 'Alejandro', 'Samuel', 'Diego', 'Daniel', 'Tomás',\n",
    "        'Juana', 'Ana', 'Luisa', 'María', 'Elena', 'Sofía', 'Isabella', 'Valentina',\n",
    "        'Camila', 'Valeria', 'Ximena', 'Luciana', 'Mariana', 'Victoria', 'Martina'\n",
    "    ],\n",
    "    \n",
    "   \n",
    "}\n",
    "#Following Bolukbasi et al. Implementing notebook: https://github.com/tolga-b/debiaswe/blob/master/tutorial_example1.ipynb\n",
    "names = [\"Emily\", \"Aisha\", \"Anne\", \"Keisha\", \"Jill\", \"Tamika\", \"Allison\", \"Lakisha\", \"Laurie\", \"Tanisha\", \"Sarah\",\n",
    "         \"Latoya\", \"Meredith\", \"Kenya\", \"Carrie\", \"Latonya\", \"Kristen\", \"Ebony\", \"Todd\", \"Rasheed\", \"Neil\", \"Tremayne\",\n",
    "         \"Geoffrey\", \"Kareem\", \"Brett\", \"Darnell\", \"Brendan\", \"Tyrone\", \"Greg\", \"Hakim\", \"Matthew\", \"Jamal\", \"Jay\",\n",
    "         \"Leroy\", \"Brad\", \"Jermaine\"]\n",
    "#names_group1 = [names[2 * i] for i in range(len(names) // 2)]\n",
    "#names_group2 = [names[2 * i + 1] for i in range(len(names) // 2)]\n",
    "\n"
   ]
  },
  {
   "cell_type": "code",
   "execution_count": 12,
   "metadata": {},
   "outputs": [],
   "source": [
    "#Preparing the definite sets for debiasing\n",
    "def_set_gender=utils.prepare_def_sets_subspace(def_sets[\"gender\"])\n",
    "def_set_race=utils.prepare_def_sets_subspace(def_sets[\"race\"])"
   ]
  },
  {
   "cell_type": "code",
   "execution_count": 13,
   "metadata": {},
   "outputs": [
    {
     "name": "stdout",
     "output_type": "stream",
     "text": [
      "Length of vectors set: 22\n",
      "Running PCA with 1 components\n"
     ]
    }
   ],
   "source": [
    "deb_vect_gender, deb_vocab_gender, deb_word2idx_gender, deb_dict_gender = hard_debias(vectors,\n",
    "                                                                                      dict_vectors,\n",
    "                                                                                      word2idx_cleaned,\n",
    "                                                                                      vocab_cleaned,\n",
    "                                                                                      equalizing_lists['gender'],\n",
    "                                                                                      def_set_gender,\n",
    "                                                                                      1,\n",
    "                                                                                      normalize_dir=False,\n",
    "                                                                                      normalize=None,\n",
    "                                                                                      centralizing=True)\n"
   ]
  },
  {
   "attachments": {},
   "cell_type": "markdown",
   "metadata": {},
   "source": [
    "## Intersectionality study\n",
    "Bias is not binary nor one dimensional, if clusters are shuffled, what is the effect of the shuffling on other social classes? Is there a way to measure it?"
   ]
  },
  {
   "cell_type": "code",
   "execution_count": 14,
   "metadata": {},
   "outputs": [
    {
     "name": "stdout",
     "output_type": "stream",
     "text": [
      "Number of female words in embeddings: 195\n",
      "Number of male words in embeddings: 204\n"
     ]
    }
   ],
   "source": [
    "#Find the words in the female_vocab that are also in the embeddings\n",
    "female_words_emb=[word for word in female_vocab if word in dict_vec_cleaned.keys()]\n",
    "male_words_emb = [word for word in male_vocab if word in dict_vec_cleaned.keys()]\n",
    "\n",
    "print('Number of female words in embeddings:', len(female_words_emb))\n",
    "print('Number of male words in embeddings:', len(male_words_emb))\n"
   ]
  },
  {
   "cell_type": "code",
   "execution_count": 15,
   "metadata": {},
   "outputs": [
    {
     "name": "stdout",
     "output_type": "stream",
     "text": [
      "Length of vectors set: 22\n",
      "Running PCA with 1 components\n"
     ]
    }
   ],
   "source": [
    "#getting the gender directions\n",
    "gen_dir_centralized=identify_bias_subspace(dict_vec_cleaned, def_set_gender, 1, centralizing=True)\n",
    "#flattening them\n",
    "gen_dir_centralized_flat=np.squeeze(gen_dir_centralized)\n"
   ]
  },
  {
   "cell_type": "code",
   "execution_count": 16,
   "metadata": {},
   "outputs": [],
   "source": [
    "from Scripts.Evaluation import compute_gender_simple_bias, compute_similarity_to_bias_direction\n",
    "similarity_centralized=compute_similarity_to_bias_direction(dict_vec_cleaned, gen_dir_centralized_flat)\n",
    "simple_gender_bias=compute_gender_simple_bias(dict_vec_cleaned, dict_vec_cleaned['he'], dict_vec_cleaned['she'])\n",
    "deb_similarity_centralized=compute_similarity_to_bias_direction(deb_dict_gender, gen_dir_centralized_flat)\n",
    "deb_simple_gender_bias=compute_gender_simple_bias(deb_dict_gender, deb_dict_gender['he'], deb_dict_gender['she'])"
   ]
  },
  {
   "cell_type": "code",
   "execution_count": 17,
   "metadata": {},
   "outputs": [
    {
     "name": "stdout",
     "output_type": "stream",
     "text": [
      "Number of white names in embeddings: 48\n",
      "Number of black names in embeddings: 39\n",
      "Number of hispanic names in embeddings: 30\n"
     ]
    }
   ],
   "source": [
    "#Find the words in the female_vocab that are also in the embeddings\n",
    "names_white_emb = [\n",
    "    word.lower() for word in names_ethnicity['White'] if word.lower() in dict_vec_cleaned.keys()]\n",
    "names_black_emb = [\n",
    "    word.lower() for word in names_ethnicity['Black'] if word.lower() in dict_vec_cleaned.keys()]\n",
    "\n",
    "names_hispanic_emb = [\n",
    "    word.lower() for word in names_ethnicity['Hispanic'] if word.lower() in dict_vec_cleaned.keys()]\n",
    "\n",
    "\n",
    "print('Number of white names in embeddings:', len(names_white_emb))\n",
    "print('Number of black names in embeddings:', len(names_black_emb))\n",
    "print('Number of hispanic names in embeddings:', len(names_hispanic_emb))\n",
    "\n"
   ]
  },
  {
   "cell_type": "code",
   "execution_count": 18,
   "metadata": {},
   "outputs": [],
   "source": [
    "import pandas as pd\n",
    "#get a dataframe with the bias scores of the female_words_emb and male_words_emb in the similarity, similarity_centralized and simple_gender_bias\n",
    "\n",
    "\n",
    "def get_df_bias_scores(word_list, similarity_centralized, simple_bias_score):\n",
    "    scores = {}\n",
    "    for word in word_list:\n",
    "        scores[word] = {\"centralized_similarity_score\": (similarity_centralized[word]),\n",
    "                        \"simple_bias_score\": simple_bias_score[word]}\n",
    "    df = pd.DataFrame.from_dict(scores, orient='index')\n",
    "    return df\n"
   ]
  },
  {
   "cell_type": "code",
   "execution_count": 19,
   "metadata": {},
   "outputs": [
    {
     "data": {
      "text/html": [
       "<div>\n",
       "<style scoped>\n",
       "    .dataframe tbody tr th:only-of-type {\n",
       "        vertical-align: middle;\n",
       "    }\n",
       "\n",
       "    .dataframe tbody tr th {\n",
       "        vertical-align: top;\n",
       "    }\n",
       "\n",
       "    .dataframe thead th {\n",
       "        text-align: right;\n",
       "    }\n",
       "</style>\n",
       "<table border=\"1\" class=\"dataframe\">\n",
       "  <thead>\n",
       "    <tr style=\"text-align: right;\">\n",
       "      <th></th>\n",
       "      <th>centralized_similarity_score_orig</th>\n",
       "      <th>simple_bias_score_orig</th>\n",
       "      <th>centralized_similarity_score_deb</th>\n",
       "      <th>simple_bias_score_deb</th>\n",
       "    </tr>\n",
       "  </thead>\n",
       "  <tbody>\n",
       "    <tr>\n",
       "      <th>adam</th>\n",
       "      <td>-0.185898</td>\n",
       "      <td>-0.094373</td>\n",
       "      <td>-1.402362e-07</td>\n",
       "      <td>1.493309e-09</td>\n",
       "    </tr>\n",
       "    <tr>\n",
       "      <th>chip</th>\n",
       "      <td>-0.044571</td>\n",
       "      <td>-0.020428</td>\n",
       "      <td>-7.884275e-08</td>\n",
       "      <td>5.179480e-09</td>\n",
       "    </tr>\n",
       "    <tr>\n",
       "      <th>harry</th>\n",
       "      <td>-0.071752</td>\n",
       "      <td>0.006493</td>\n",
       "      <td>-1.990548e-07</td>\n",
       "      <td>3.913110e-09</td>\n",
       "    </tr>\n",
       "    <tr>\n",
       "      <th>josh</th>\n",
       "      <td>-0.096062</td>\n",
       "      <td>-0.014186</td>\n",
       "      <td>-1.646718e-07</td>\n",
       "      <td>6.410092e-09</td>\n",
       "    </tr>\n",
       "    <tr>\n",
       "      <th>roger</th>\n",
       "      <td>-0.231225</td>\n",
       "      <td>-0.110803</td>\n",
       "      <td>-1.328456e-07</td>\n",
       "      <td>7.128524e-09</td>\n",
       "    </tr>\n",
       "    <tr>\n",
       "      <th>alan</th>\n",
       "      <td>-0.129366</td>\n",
       "      <td>-0.048589</td>\n",
       "      <td>-9.871449e-08</td>\n",
       "      <td>5.221612e-09</td>\n",
       "    </tr>\n",
       "    <tr>\n",
       "      <th>frank</th>\n",
       "      <td>-0.176201</td>\n",
       "      <td>-0.068455</td>\n",
       "      <td>-8.353230e-09</td>\n",
       "      <td>1.151710e-09</td>\n",
       "    </tr>\n",
       "    <tr>\n",
       "      <th>ian</th>\n",
       "      <td>-0.137793</td>\n",
       "      <td>-0.049633</td>\n",
       "      <td>-2.072702e-08</td>\n",
       "      <td>1.013679e-08</td>\n",
       "    </tr>\n",
       "    <tr>\n",
       "      <th>justin</th>\n",
       "      <td>-0.122327</td>\n",
       "      <td>-0.019525</td>\n",
       "      <td>-1.249698e-07</td>\n",
       "      <td>-5.482692e-09</td>\n",
       "    </tr>\n",
       "    <tr>\n",
       "      <th>ryan</th>\n",
       "      <td>-0.077191</td>\n",
       "      <td>-0.017689</td>\n",
       "      <td>-1.789196e-07</td>\n",
       "      <td>1.025711e-08</td>\n",
       "    </tr>\n",
       "    <tr>\n",
       "      <th>andrew</th>\n",
       "      <td>-0.189930</td>\n",
       "      <td>-0.096075</td>\n",
       "      <td>-1.035642e-07</td>\n",
       "      <td>4.218563e-09</td>\n",
       "    </tr>\n",
       "    <tr>\n",
       "      <th>fred</th>\n",
       "      <td>-0.122691</td>\n",
       "      <td>-0.041800</td>\n",
       "      <td>-2.583231e-08</td>\n",
       "      <td>4.867957e-09</td>\n",
       "    </tr>\n",
       "    <tr>\n",
       "      <th>jack</th>\n",
       "      <td>-0.121273</td>\n",
       "      <td>-0.035740</td>\n",
       "      <td>-2.188569e-07</td>\n",
       "      <td>-1.016055e-08</td>\n",
       "    </tr>\n",
       "    <tr>\n",
       "      <th>matthew</th>\n",
       "      <td>-0.110362</td>\n",
       "      <td>-0.020964</td>\n",
       "      <td>-6.771748e-09</td>\n",
       "      <td>1.272975e-08</td>\n",
       "    </tr>\n",
       "    <tr>\n",
       "      <th>stephen</th>\n",
       "      <td>-0.214726</td>\n",
       "      <td>-0.100459</td>\n",
       "      <td>-1.457580e-07</td>\n",
       "      <td>6.677130e-10</td>\n",
       "    </tr>\n",
       "    <tr>\n",
       "      <th>brad</th>\n",
       "      <td>-0.130284</td>\n",
       "      <td>-0.053200</td>\n",
       "      <td>-9.253428e-08</td>\n",
       "      <td>6.253110e-09</td>\n",
       "    </tr>\n",
       "    <tr>\n",
       "      <th>greg</th>\n",
       "      <td>-0.194453</td>\n",
       "      <td>-0.074344</td>\n",
       "      <td>-9.030311e-08</td>\n",
       "      <td>-1.738048e-09</td>\n",
       "    </tr>\n",
       "    <tr>\n",
       "      <th>jed</th>\n",
       "      <td>-0.041211</td>\n",
       "      <td>-0.021692</td>\n",
       "      <td>1.731052e-08</td>\n",
       "      <td>-4.695826e-09</td>\n",
       "    </tr>\n",
       "    <tr>\n",
       "      <th>paul</th>\n",
       "      <td>-0.227191</td>\n",
       "      <td>-0.113225</td>\n",
       "      <td>-1.457010e-07</td>\n",
       "      <td>5.188165e-09</td>\n",
       "    </tr>\n",
       "    <tr>\n",
       "      <th>todd</th>\n",
       "      <td>-0.059653</td>\n",
       "      <td>0.017310</td>\n",
       "      <td>-1.232821e-07</td>\n",
       "      <td>-4.494275e-09</td>\n",
       "    </tr>\n",
       "    <tr>\n",
       "      <th>brandon</th>\n",
       "      <td>-0.070875</td>\n",
       "      <td>-0.022180</td>\n",
       "      <td>-8.625165e-08</td>\n",
       "      <td>-2.554458e-09</td>\n",
       "    </tr>\n",
       "    <tr>\n",
       "      <th>hank</th>\n",
       "      <td>-0.087281</td>\n",
       "      <td>-0.035888</td>\n",
       "      <td>-4.827150e-08</td>\n",
       "      <td>1.666936e-08</td>\n",
       "    </tr>\n",
       "    <tr>\n",
       "      <th>jonathan</th>\n",
       "      <td>-0.126644</td>\n",
       "      <td>-0.042783</td>\n",
       "      <td>-1.856979e-07</td>\n",
       "      <td>8.397771e-09</td>\n",
       "    </tr>\n",
       "    <tr>\n",
       "      <th>peter</th>\n",
       "      <td>-0.216297</td>\n",
       "      <td>-0.090993</td>\n",
       "      <td>-5.452508e-08</td>\n",
       "      <td>7.865946e-09</td>\n",
       "    </tr>\n",
       "    <tr>\n",
       "      <th>wilbur</th>\n",
       "      <td>0.021999</td>\n",
       "      <td>0.063743</td>\n",
       "      <td>7.655740e-08</td>\n",
       "      <td>4.224204e-10</td>\n",
       "    </tr>\n",
       "    <tr>\n",
       "      <th>amanda</th>\n",
       "      <td>0.284590</td>\n",
       "      <td>0.250297</td>\n",
       "      <td>4.488301e-08</td>\n",
       "      <td>1.183238e-08</td>\n",
       "    </tr>\n",
       "    <tr>\n",
       "      <th>courtney</th>\n",
       "      <td>0.083957</td>\n",
       "      <td>0.102521</td>\n",
       "      <td>-2.630273e-08</td>\n",
       "      <td>5.806993e-09</td>\n",
       "    </tr>\n",
       "    <tr>\n",
       "      <th>heather</th>\n",
       "      <td>0.226251</td>\n",
       "      <td>0.193770</td>\n",
       "      <td>1.426730e-07</td>\n",
       "      <td>6.045334e-09</td>\n",
       "    </tr>\n",
       "    <tr>\n",
       "      <th>melanie</th>\n",
       "      <td>0.285961</td>\n",
       "      <td>0.254718</td>\n",
       "      <td>-1.131128e-07</td>\n",
       "      <td>-3.542574e-09</td>\n",
       "    </tr>\n",
       "    <tr>\n",
       "      <th>sara</th>\n",
       "      <td>0.267650</td>\n",
       "      <td>0.187402</td>\n",
       "      <td>-4.692363e-08</td>\n",
       "      <td>4.116392e-09</td>\n",
       "    </tr>\n",
       "    <tr>\n",
       "      <th>amber</th>\n",
       "      <td>0.184056</td>\n",
       "      <td>0.113414</td>\n",
       "      <td>-5.691459e-08</td>\n",
       "      <td>1.429136e-09</td>\n",
       "    </tr>\n",
       "    <tr>\n",
       "      <th>crystal</th>\n",
       "      <td>0.032055</td>\n",
       "      <td>0.022183</td>\n",
       "      <td>-2.229231e-07</td>\n",
       "      <td>4.993375e-10</td>\n",
       "    </tr>\n",
       "    <tr>\n",
       "      <th>katie</th>\n",
       "      <td>0.266298</td>\n",
       "      <td>0.259524</td>\n",
       "      <td>-9.112436e-09</td>\n",
       "      <td>6.032789e-09</td>\n",
       "    </tr>\n",
       "    <tr>\n",
       "      <th>meredith</th>\n",
       "      <td>0.119911</td>\n",
       "      <td>0.100545</td>\n",
       "      <td>-1.807518e-08</td>\n",
       "      <td>5.454919e-09</td>\n",
       "    </tr>\n",
       "    <tr>\n",
       "      <th>shannon</th>\n",
       "      <td>0.069693</td>\n",
       "      <td>0.070266</td>\n",
       "      <td>-2.588014e-08</td>\n",
       "      <td>-3.814843e-09</td>\n",
       "    </tr>\n",
       "    <tr>\n",
       "      <th>betsy</th>\n",
       "      <td>0.216223</td>\n",
       "      <td>0.168720</td>\n",
       "      <td>-5.097439e-08</td>\n",
       "      <td>-1.531861e-08</td>\n",
       "    </tr>\n",
       "    <tr>\n",
       "      <th>donna</th>\n",
       "      <td>0.254052</td>\n",
       "      <td>0.204152</td>\n",
       "      <td>-1.775765e-07</td>\n",
       "      <td>-2.971774e-09</td>\n",
       "    </tr>\n",
       "    <tr>\n",
       "      <th>kristin</th>\n",
       "      <td>0.201049</td>\n",
       "      <td>0.169462</td>\n",
       "      <td>-1.210155e-07</td>\n",
       "      <td>4.371137e-10</td>\n",
       "    </tr>\n",
       "    <tr>\n",
       "      <th>nancy</th>\n",
       "      <td>0.230054</td>\n",
       "      <td>0.203215</td>\n",
       "      <td>-7.814555e-08</td>\n",
       "      <td>-2.225409e-09</td>\n",
       "    </tr>\n",
       "    <tr>\n",
       "      <th>stephanie</th>\n",
       "      <td>0.296362</td>\n",
       "      <td>0.282828</td>\n",
       "      <td>2.044331e-08</td>\n",
       "      <td>-1.189961e-08</td>\n",
       "    </tr>\n",
       "    <tr>\n",
       "      <th>ellen</th>\n",
       "      <td>0.324045</td>\n",
       "      <td>0.240541</td>\n",
       "      <td>5.981530e-08</td>\n",
       "      <td>2.552641e-10</td>\n",
       "    </tr>\n",
       "    <tr>\n",
       "      <th>lauren</th>\n",
       "      <td>0.186109</td>\n",
       "      <td>0.212271</td>\n",
       "      <td>3.097098e-08</td>\n",
       "      <td>2.402670e-09</td>\n",
       "    </tr>\n",
       "    <tr>\n",
       "      <th>peggy</th>\n",
       "      <td>0.231276</td>\n",
       "      <td>0.199953</td>\n",
       "      <td>-7.827369e-08</td>\n",
       "      <td>9.629865e-12</td>\n",
       "    </tr>\n",
       "    <tr>\n",
       "      <th>colleen</th>\n",
       "      <td>0.169323</td>\n",
       "      <td>0.168880</td>\n",
       "      <td>-2.816350e-08</td>\n",
       "      <td>-1.324895e-08</td>\n",
       "    </tr>\n",
       "    <tr>\n",
       "      <th>emily</th>\n",
       "      <td>0.291476</td>\n",
       "      <td>0.241137</td>\n",
       "      <td>2.760817e-08</td>\n",
       "      <td>-7.268021e-10</td>\n",
       "    </tr>\n",
       "    <tr>\n",
       "      <th>megan</th>\n",
       "      <td>0.263545</td>\n",
       "      <td>0.235742</td>\n",
       "      <td>-2.497348e-08</td>\n",
       "      <td>1.885635e-09</td>\n",
       "    </tr>\n",
       "    <tr>\n",
       "      <th>rachel</th>\n",
       "      <td>0.303697</td>\n",
       "      <td>0.259042</td>\n",
       "      <td>-1.372481e-07</td>\n",
       "      <td>-4.347846e-09</td>\n",
       "    </tr>\n",
       "    <tr>\n",
       "      <th>wendy</th>\n",
       "      <td>0.186066</td>\n",
       "      <td>0.191772</td>\n",
       "      <td>3.850626e-08</td>\n",
       "      <td>2.598158e-09</td>\n",
       "    </tr>\n",
       "  </tbody>\n",
       "</table>\n",
       "</div>"
      ],
      "text/plain": [
       "           centralized_similarity_score_orig  simple_bias_score_orig  \\\n",
       "adam                               -0.185898               -0.094373   \n",
       "chip                               -0.044571               -0.020428   \n",
       "harry                              -0.071752                0.006493   \n",
       "josh                               -0.096062               -0.014186   \n",
       "roger                              -0.231225               -0.110803   \n",
       "alan                               -0.129366               -0.048589   \n",
       "frank                              -0.176201               -0.068455   \n",
       "ian                                -0.137793               -0.049633   \n",
       "justin                             -0.122327               -0.019525   \n",
       "ryan                               -0.077191               -0.017689   \n",
       "andrew                             -0.189930               -0.096075   \n",
       "fred                               -0.122691               -0.041800   \n",
       "jack                               -0.121273               -0.035740   \n",
       "matthew                            -0.110362               -0.020964   \n",
       "stephen                            -0.214726               -0.100459   \n",
       "brad                               -0.130284               -0.053200   \n",
       "greg                               -0.194453               -0.074344   \n",
       "jed                                -0.041211               -0.021692   \n",
       "paul                               -0.227191               -0.113225   \n",
       "todd                               -0.059653                0.017310   \n",
       "brandon                            -0.070875               -0.022180   \n",
       "hank                               -0.087281               -0.035888   \n",
       "jonathan                           -0.126644               -0.042783   \n",
       "peter                              -0.216297               -0.090993   \n",
       "wilbur                              0.021999                0.063743   \n",
       "amanda                              0.284590                0.250297   \n",
       "courtney                            0.083957                0.102521   \n",
       "heather                             0.226251                0.193770   \n",
       "melanie                             0.285961                0.254718   \n",
       "sara                                0.267650                0.187402   \n",
       "amber                               0.184056                0.113414   \n",
       "crystal                             0.032055                0.022183   \n",
       "katie                               0.266298                0.259524   \n",
       "meredith                            0.119911                0.100545   \n",
       "shannon                             0.069693                0.070266   \n",
       "betsy                               0.216223                0.168720   \n",
       "donna                               0.254052                0.204152   \n",
       "kristin                             0.201049                0.169462   \n",
       "nancy                               0.230054                0.203215   \n",
       "stephanie                           0.296362                0.282828   \n",
       "ellen                               0.324045                0.240541   \n",
       "lauren                              0.186109                0.212271   \n",
       "peggy                               0.231276                0.199953   \n",
       "colleen                             0.169323                0.168880   \n",
       "emily                               0.291476                0.241137   \n",
       "megan                               0.263545                0.235742   \n",
       "rachel                              0.303697                0.259042   \n",
       "wendy                               0.186066                0.191772   \n",
       "\n",
       "           centralized_similarity_score_deb  simple_bias_score_deb  \n",
       "adam                          -1.402362e-07           1.493309e-09  \n",
       "chip                          -7.884275e-08           5.179480e-09  \n",
       "harry                         -1.990548e-07           3.913110e-09  \n",
       "josh                          -1.646718e-07           6.410092e-09  \n",
       "roger                         -1.328456e-07           7.128524e-09  \n",
       "alan                          -9.871449e-08           5.221612e-09  \n",
       "frank                         -8.353230e-09           1.151710e-09  \n",
       "ian                           -2.072702e-08           1.013679e-08  \n",
       "justin                        -1.249698e-07          -5.482692e-09  \n",
       "ryan                          -1.789196e-07           1.025711e-08  \n",
       "andrew                        -1.035642e-07           4.218563e-09  \n",
       "fred                          -2.583231e-08           4.867957e-09  \n",
       "jack                          -2.188569e-07          -1.016055e-08  \n",
       "matthew                       -6.771748e-09           1.272975e-08  \n",
       "stephen                       -1.457580e-07           6.677130e-10  \n",
       "brad                          -9.253428e-08           6.253110e-09  \n",
       "greg                          -9.030311e-08          -1.738048e-09  \n",
       "jed                            1.731052e-08          -4.695826e-09  \n",
       "paul                          -1.457010e-07           5.188165e-09  \n",
       "todd                          -1.232821e-07          -4.494275e-09  \n",
       "brandon                       -8.625165e-08          -2.554458e-09  \n",
       "hank                          -4.827150e-08           1.666936e-08  \n",
       "jonathan                      -1.856979e-07           8.397771e-09  \n",
       "peter                         -5.452508e-08           7.865946e-09  \n",
       "wilbur                         7.655740e-08           4.224204e-10  \n",
       "amanda                         4.488301e-08           1.183238e-08  \n",
       "courtney                      -2.630273e-08           5.806993e-09  \n",
       "heather                        1.426730e-07           6.045334e-09  \n",
       "melanie                       -1.131128e-07          -3.542574e-09  \n",
       "sara                          -4.692363e-08           4.116392e-09  \n",
       "amber                         -5.691459e-08           1.429136e-09  \n",
       "crystal                       -2.229231e-07           4.993375e-10  \n",
       "katie                         -9.112436e-09           6.032789e-09  \n",
       "meredith                      -1.807518e-08           5.454919e-09  \n",
       "shannon                       -2.588014e-08          -3.814843e-09  \n",
       "betsy                         -5.097439e-08          -1.531861e-08  \n",
       "donna                         -1.775765e-07          -2.971774e-09  \n",
       "kristin                       -1.210155e-07           4.371137e-10  \n",
       "nancy                         -7.814555e-08          -2.225409e-09  \n",
       "stephanie                      2.044331e-08          -1.189961e-08  \n",
       "ellen                          5.981530e-08           2.552641e-10  \n",
       "lauren                         3.097098e-08           2.402670e-09  \n",
       "peggy                         -7.827369e-08           9.629865e-12  \n",
       "colleen                       -2.816350e-08          -1.324895e-08  \n",
       "emily                          2.760817e-08          -7.268021e-10  \n",
       "megan                         -2.497348e-08           1.885635e-09  \n",
       "rachel                        -1.372481e-07          -4.347846e-09  \n",
       "wendy                          3.850626e-08           2.598158e-09  "
      ]
     },
     "execution_count": 19,
     "metadata": {},
     "output_type": "execute_result"
    }
   ],
   "source": [
    "df_names_white=get_df_bias_scores(names_white_emb, similarity_centralized,simple_gender_bias)\n",
    "df_names_black=get_df_bias_scores(names_black_emb, similarity_centralized,simple_gender_bias)\n",
    "df_names_hispanic=get_df_bias_scores(names_hispanic_emb, similarity_centralized,simple_gender_bias)\n",
    "\n",
    "#now the dataframe for the debiased embeddings\n",
    "df_names_white_deb=get_df_bias_scores(names_white_emb, deb_similarity_centralized,deb_simple_gender_bias)\n",
    "df_names_black_deb = get_df_bias_scores(names_black_emb, deb_similarity_centralized,deb_simple_gender_bias)\n",
    "df_names_hispanic_deb = get_df_bias_scores(\n",
    "    names_hispanic_emb, deb_similarity_centralized, deb_simple_gender_bias)\n",
    "\n",
    "#merging the dataframes\n",
    "df_names_white_merged=pd.merge(df_names_white, df_names_white_deb, left_index=True, right_index=True, suffixes=('_orig', '_deb'))\n",
    "df_names_black_merged=pd.merge(df_names_black, df_names_black_deb, left_index=True, right_index=True, suffixes=('_orig', '_deb'))\n",
    "df_names_hispanic_merged=pd.merge(df_names_hispanic, df_names_hispanic_deb, left_index=True, right_index=True, suffixes=('_orig', '_deb'))\n",
    "\n",
    "\n",
    "df_names_white_merged\n"
   ]
  },
  {
   "cell_type": "code",
   "execution_count": 20,
   "metadata": {},
   "outputs": [
    {
     "data": {
      "application/vnd.plotly.v1+json": {
       "config": {
        "plotlyServerURL": "https://plot.ly"
       },
       "data": [
        {
         "marker": {
          "color": "indianred"
         },
         "name": "Original",
         "type": "bar",
         "x": [
          "adam",
          "chip",
          "harry",
          "josh",
          "roger",
          "alan",
          "frank",
          "ian",
          "justin",
          "ryan",
          "andrew",
          "fred",
          "jack",
          "matthew",
          "stephen",
          "brad",
          "greg",
          "jed",
          "paul",
          "todd",
          "brandon",
          "hank",
          "jonathan",
          "peter",
          "wilbur",
          "amanda",
          "courtney",
          "heather",
          "melanie",
          "sara",
          "amber",
          "crystal",
          "katie",
          "meredith",
          "shannon",
          "betsy",
          "donna",
          "kristin",
          "nancy",
          "stephanie",
          "ellen",
          "lauren",
          "peggy",
          "colleen",
          "emily",
          "megan",
          "rachel",
          "wendy"
         ],
         "y": [
          -0.18589805544941254,
          -0.044570565439093886,
          -0.0717523104105927,
          -0.09606160906516643,
          -0.23122539445189969,
          -0.1293658302474666,
          -0.17620134325070846,
          -0.13779256575197196,
          -0.12232691002293584,
          -0.07719114465912867,
          -0.1899297102119825,
          -0.12269110933927636,
          -0.12127316472080224,
          -0.11036157338792975,
          -0.21472628096534593,
          -0.13028371605070652,
          -0.19445251507120065,
          -0.04121149821856899,
          -0.22719135116225433,
          -0.059653172637502146,
          -0.07087461239533929,
          -0.08728067641049381,
          -0.1266440171380168,
          -0.21629689972029814,
          0.02199949428209775,
          0.2845900609411206,
          0.08395706023048181,
          0.22625117386669358,
          0.285960967460518,
          0.2676499234577065,
          0.18405555485242456,
          0.03205520680087955,
          0.2662975772982689,
          0.11991130522556215,
          0.0696928916349015,
          0.21622345398052412,
          0.25405209362866255,
          0.20104901958469398,
          0.2300538887638773,
          0.2963623067303028,
          0.3240446834697261,
          0.1861094796443251,
          0.2312755507631497,
          0.1693226848116439,
          0.2914757952214559,
          0.2635447501191635,
          0.30369724502409245,
          0.1860660610959607
         ]
        },
        {
         "marker": {
          "color": "green"
         },
         "name": "Original_ simple",
         "type": "bar",
         "x": [
          "adam",
          "chip",
          "harry",
          "josh",
          "roger",
          "alan",
          "frank",
          "ian",
          "justin",
          "ryan",
          "andrew",
          "fred",
          "jack",
          "matthew",
          "stephen",
          "brad",
          "greg",
          "jed",
          "paul",
          "todd",
          "brandon",
          "hank",
          "jonathan",
          "peter",
          "wilbur",
          "amanda",
          "courtney",
          "heather",
          "melanie",
          "sara",
          "amber",
          "crystal",
          "katie",
          "meredith",
          "shannon",
          "betsy",
          "donna",
          "kristin",
          "nancy",
          "stephanie",
          "ellen",
          "lauren",
          "peggy",
          "colleen",
          "emily",
          "megan",
          "rachel",
          "wendy"
         ],
         "y": [
          -0.094372804533193,
          -0.020428005328442272,
          0.006492669534465673,
          -0.014186126652990405,
          -0.1108034884245743,
          -0.0485893860488453,
          -0.06845542477270633,
          -0.04963283971552869,
          -0.01952456862517525,
          -0.017689254666563653,
          -0.09607513659400306,
          -0.04179980746188475,
          -0.03574009233045192,
          -0.020963846955861842,
          -0.10045896737599713,
          -0.05320038098097936,
          -0.07434419691544095,
          -0.021692064359288138,
          -0.11322494527537427,
          0.017310393152542153,
          -0.022179752256929072,
          -0.03588756737193467,
          -0.042783409497810704,
          -0.09099316272178704,
          0.06374329188901943,
          0.2502965127913419,
          0.10252073075773421,
          0.19377009982437837,
          0.2547182535377438,
          0.1874021693964443,
          0.11341381737139289,
          0.02218291299846037,
          0.2595235356417964,
          0.10054461181167607,
          0.0702658101364205,
          0.16871998140079847,
          0.20415182002784077,
          0.16946155063896695,
          0.2032153464285895,
          0.2828284935506455,
          0.24054052914387883,
          0.2122712388988563,
          0.19995279650614078,
          0.1688801238841212,
          0.2411372048155459,
          0.2357419242091644,
          0.2590420661405907,
          0.19177233634451413
         ]
        }
       ],
       "layout": {
        "template": {
         "data": {
          "bar": [
           {
            "error_x": {
             "color": "#2a3f5f"
            },
            "error_y": {
             "color": "#2a3f5f"
            },
            "marker": {
             "line": {
              "color": "#E5ECF6",
              "width": 0.5
             },
             "pattern": {
              "fillmode": "overlay",
              "size": 10,
              "solidity": 0.2
             }
            },
            "type": "bar"
           }
          ],
          "barpolar": [
           {
            "marker": {
             "line": {
              "color": "#E5ECF6",
              "width": 0.5
             },
             "pattern": {
              "fillmode": "overlay",
              "size": 10,
              "solidity": 0.2
             }
            },
            "type": "barpolar"
           }
          ],
          "carpet": [
           {
            "aaxis": {
             "endlinecolor": "#2a3f5f",
             "gridcolor": "white",
             "linecolor": "white",
             "minorgridcolor": "white",
             "startlinecolor": "#2a3f5f"
            },
            "baxis": {
             "endlinecolor": "#2a3f5f",
             "gridcolor": "white",
             "linecolor": "white",
             "minorgridcolor": "white",
             "startlinecolor": "#2a3f5f"
            },
            "type": "carpet"
           }
          ],
          "choropleth": [
           {
            "colorbar": {
             "outlinewidth": 0,
             "ticks": ""
            },
            "type": "choropleth"
           }
          ],
          "contour": [
           {
            "colorbar": {
             "outlinewidth": 0,
             "ticks": ""
            },
            "colorscale": [
             [
              0,
              "#0d0887"
             ],
             [
              0.1111111111111111,
              "#46039f"
             ],
             [
              0.2222222222222222,
              "#7201a8"
             ],
             [
              0.3333333333333333,
              "#9c179e"
             ],
             [
              0.4444444444444444,
              "#bd3786"
             ],
             [
              0.5555555555555556,
              "#d8576b"
             ],
             [
              0.6666666666666666,
              "#ed7953"
             ],
             [
              0.7777777777777778,
              "#fb9f3a"
             ],
             [
              0.8888888888888888,
              "#fdca26"
             ],
             [
              1,
              "#f0f921"
             ]
            ],
            "type": "contour"
           }
          ],
          "contourcarpet": [
           {
            "colorbar": {
             "outlinewidth": 0,
             "ticks": ""
            },
            "type": "contourcarpet"
           }
          ],
          "heatmap": [
           {
            "colorbar": {
             "outlinewidth": 0,
             "ticks": ""
            },
            "colorscale": [
             [
              0,
              "#0d0887"
             ],
             [
              0.1111111111111111,
              "#46039f"
             ],
             [
              0.2222222222222222,
              "#7201a8"
             ],
             [
              0.3333333333333333,
              "#9c179e"
             ],
             [
              0.4444444444444444,
              "#bd3786"
             ],
             [
              0.5555555555555556,
              "#d8576b"
             ],
             [
              0.6666666666666666,
              "#ed7953"
             ],
             [
              0.7777777777777778,
              "#fb9f3a"
             ],
             [
              0.8888888888888888,
              "#fdca26"
             ],
             [
              1,
              "#f0f921"
             ]
            ],
            "type": "heatmap"
           }
          ],
          "heatmapgl": [
           {
            "colorbar": {
             "outlinewidth": 0,
             "ticks": ""
            },
            "colorscale": [
             [
              0,
              "#0d0887"
             ],
             [
              0.1111111111111111,
              "#46039f"
             ],
             [
              0.2222222222222222,
              "#7201a8"
             ],
             [
              0.3333333333333333,
              "#9c179e"
             ],
             [
              0.4444444444444444,
              "#bd3786"
             ],
             [
              0.5555555555555556,
              "#d8576b"
             ],
             [
              0.6666666666666666,
              "#ed7953"
             ],
             [
              0.7777777777777778,
              "#fb9f3a"
             ],
             [
              0.8888888888888888,
              "#fdca26"
             ],
             [
              1,
              "#f0f921"
             ]
            ],
            "type": "heatmapgl"
           }
          ],
          "histogram": [
           {
            "marker": {
             "pattern": {
              "fillmode": "overlay",
              "size": 10,
              "solidity": 0.2
             }
            },
            "type": "histogram"
           }
          ],
          "histogram2d": [
           {
            "colorbar": {
             "outlinewidth": 0,
             "ticks": ""
            },
            "colorscale": [
             [
              0,
              "#0d0887"
             ],
             [
              0.1111111111111111,
              "#46039f"
             ],
             [
              0.2222222222222222,
              "#7201a8"
             ],
             [
              0.3333333333333333,
              "#9c179e"
             ],
             [
              0.4444444444444444,
              "#bd3786"
             ],
             [
              0.5555555555555556,
              "#d8576b"
             ],
             [
              0.6666666666666666,
              "#ed7953"
             ],
             [
              0.7777777777777778,
              "#fb9f3a"
             ],
             [
              0.8888888888888888,
              "#fdca26"
             ],
             [
              1,
              "#f0f921"
             ]
            ],
            "type": "histogram2d"
           }
          ],
          "histogram2dcontour": [
           {
            "colorbar": {
             "outlinewidth": 0,
             "ticks": ""
            },
            "colorscale": [
             [
              0,
              "#0d0887"
             ],
             [
              0.1111111111111111,
              "#46039f"
             ],
             [
              0.2222222222222222,
              "#7201a8"
             ],
             [
              0.3333333333333333,
              "#9c179e"
             ],
             [
              0.4444444444444444,
              "#bd3786"
             ],
             [
              0.5555555555555556,
              "#d8576b"
             ],
             [
              0.6666666666666666,
              "#ed7953"
             ],
             [
              0.7777777777777778,
              "#fb9f3a"
             ],
             [
              0.8888888888888888,
              "#fdca26"
             ],
             [
              1,
              "#f0f921"
             ]
            ],
            "type": "histogram2dcontour"
           }
          ],
          "mesh3d": [
           {
            "colorbar": {
             "outlinewidth": 0,
             "ticks": ""
            },
            "type": "mesh3d"
           }
          ],
          "parcoords": [
           {
            "line": {
             "colorbar": {
              "outlinewidth": 0,
              "ticks": ""
             }
            },
            "type": "parcoords"
           }
          ],
          "pie": [
           {
            "automargin": true,
            "type": "pie"
           }
          ],
          "scatter": [
           {
            "fillpattern": {
             "fillmode": "overlay",
             "size": 10,
             "solidity": 0.2
            },
            "type": "scatter"
           }
          ],
          "scatter3d": [
           {
            "line": {
             "colorbar": {
              "outlinewidth": 0,
              "ticks": ""
             }
            },
            "marker": {
             "colorbar": {
              "outlinewidth": 0,
              "ticks": ""
             }
            },
            "type": "scatter3d"
           }
          ],
          "scattercarpet": [
           {
            "marker": {
             "colorbar": {
              "outlinewidth": 0,
              "ticks": ""
             }
            },
            "type": "scattercarpet"
           }
          ],
          "scattergeo": [
           {
            "marker": {
             "colorbar": {
              "outlinewidth": 0,
              "ticks": ""
             }
            },
            "type": "scattergeo"
           }
          ],
          "scattergl": [
           {
            "marker": {
             "colorbar": {
              "outlinewidth": 0,
              "ticks": ""
             }
            },
            "type": "scattergl"
           }
          ],
          "scattermapbox": [
           {
            "marker": {
             "colorbar": {
              "outlinewidth": 0,
              "ticks": ""
             }
            },
            "type": "scattermapbox"
           }
          ],
          "scatterpolar": [
           {
            "marker": {
             "colorbar": {
              "outlinewidth": 0,
              "ticks": ""
             }
            },
            "type": "scatterpolar"
           }
          ],
          "scatterpolargl": [
           {
            "marker": {
             "colorbar": {
              "outlinewidth": 0,
              "ticks": ""
             }
            },
            "type": "scatterpolargl"
           }
          ],
          "scatterternary": [
           {
            "marker": {
             "colorbar": {
              "outlinewidth": 0,
              "ticks": ""
             }
            },
            "type": "scatterternary"
           }
          ],
          "surface": [
           {
            "colorbar": {
             "outlinewidth": 0,
             "ticks": ""
            },
            "colorscale": [
             [
              0,
              "#0d0887"
             ],
             [
              0.1111111111111111,
              "#46039f"
             ],
             [
              0.2222222222222222,
              "#7201a8"
             ],
             [
              0.3333333333333333,
              "#9c179e"
             ],
             [
              0.4444444444444444,
              "#bd3786"
             ],
             [
              0.5555555555555556,
              "#d8576b"
             ],
             [
              0.6666666666666666,
              "#ed7953"
             ],
             [
              0.7777777777777778,
              "#fb9f3a"
             ],
             [
              0.8888888888888888,
              "#fdca26"
             ],
             [
              1,
              "#f0f921"
             ]
            ],
            "type": "surface"
           }
          ],
          "table": [
           {
            "cells": {
             "fill": {
              "color": "#EBF0F8"
             },
             "line": {
              "color": "white"
             }
            },
            "header": {
             "fill": {
              "color": "#C8D4E3"
             },
             "line": {
              "color": "white"
             }
            },
            "type": "table"
           }
          ]
         },
         "layout": {
          "annotationdefaults": {
           "arrowcolor": "#2a3f5f",
           "arrowhead": 0,
           "arrowwidth": 1
          },
          "autotypenumbers": "strict",
          "coloraxis": {
           "colorbar": {
            "outlinewidth": 0,
            "ticks": ""
           }
          },
          "colorscale": {
           "diverging": [
            [
             0,
             "#8e0152"
            ],
            [
             0.1,
             "#c51b7d"
            ],
            [
             0.2,
             "#de77ae"
            ],
            [
             0.3,
             "#f1b6da"
            ],
            [
             0.4,
             "#fde0ef"
            ],
            [
             0.5,
             "#f7f7f7"
            ],
            [
             0.6,
             "#e6f5d0"
            ],
            [
             0.7,
             "#b8e186"
            ],
            [
             0.8,
             "#7fbc41"
            ],
            [
             0.9,
             "#4d9221"
            ],
            [
             1,
             "#276419"
            ]
           ],
           "sequential": [
            [
             0,
             "#0d0887"
            ],
            [
             0.1111111111111111,
             "#46039f"
            ],
            [
             0.2222222222222222,
             "#7201a8"
            ],
            [
             0.3333333333333333,
             "#9c179e"
            ],
            [
             0.4444444444444444,
             "#bd3786"
            ],
            [
             0.5555555555555556,
             "#d8576b"
            ],
            [
             0.6666666666666666,
             "#ed7953"
            ],
            [
             0.7777777777777778,
             "#fb9f3a"
            ],
            [
             0.8888888888888888,
             "#fdca26"
            ],
            [
             1,
             "#f0f921"
            ]
           ],
           "sequentialminus": [
            [
             0,
             "#0d0887"
            ],
            [
             0.1111111111111111,
             "#46039f"
            ],
            [
             0.2222222222222222,
             "#7201a8"
            ],
            [
             0.3333333333333333,
             "#9c179e"
            ],
            [
             0.4444444444444444,
             "#bd3786"
            ],
            [
             0.5555555555555556,
             "#d8576b"
            ],
            [
             0.6666666666666666,
             "#ed7953"
            ],
            [
             0.7777777777777778,
             "#fb9f3a"
            ],
            [
             0.8888888888888888,
             "#fdca26"
            ],
            [
             1,
             "#f0f921"
            ]
           ]
          },
          "colorway": [
           "#636efa",
           "#EF553B",
           "#00cc96",
           "#ab63fa",
           "#FFA15A",
           "#19d3f3",
           "#FF6692",
           "#B6E880",
           "#FF97FF",
           "#FECB52"
          ],
          "font": {
           "color": "#2a3f5f"
          },
          "geo": {
           "bgcolor": "white",
           "lakecolor": "white",
           "landcolor": "#E5ECF6",
           "showlakes": true,
           "showland": true,
           "subunitcolor": "white"
          },
          "hoverlabel": {
           "align": "left"
          },
          "hovermode": "closest",
          "mapbox": {
           "style": "light"
          },
          "paper_bgcolor": "white",
          "plot_bgcolor": "#E5ECF6",
          "polar": {
           "angularaxis": {
            "gridcolor": "white",
            "linecolor": "white",
            "ticks": ""
           },
           "bgcolor": "#E5ECF6",
           "radialaxis": {
            "gridcolor": "white",
            "linecolor": "white",
            "ticks": ""
           }
          },
          "scene": {
           "xaxis": {
            "backgroundcolor": "#E5ECF6",
            "gridcolor": "white",
            "gridwidth": 2,
            "linecolor": "white",
            "showbackground": true,
            "ticks": "",
            "zerolinecolor": "white"
           },
           "yaxis": {
            "backgroundcolor": "#E5ECF6",
            "gridcolor": "white",
            "gridwidth": 2,
            "linecolor": "white",
            "showbackground": true,
            "ticks": "",
            "zerolinecolor": "white"
           },
           "zaxis": {
            "backgroundcolor": "#E5ECF6",
            "gridcolor": "white",
            "gridwidth": 2,
            "linecolor": "white",
            "showbackground": true,
            "ticks": "",
            "zerolinecolor": "white"
           }
          },
          "shapedefaults": {
           "line": {
            "color": "#2a3f5f"
           }
          },
          "ternary": {
           "aaxis": {
            "gridcolor": "white",
            "linecolor": "white",
            "ticks": ""
           },
           "baxis": {
            "gridcolor": "white",
            "linecolor": "white",
            "ticks": ""
           },
           "bgcolor": "#E5ECF6",
           "caxis": {
            "gridcolor": "white",
            "linecolor": "white",
            "ticks": ""
           }
          },
          "title": {
           "x": 0.05
          },
          "xaxis": {
           "automargin": true,
           "gridcolor": "white",
           "linecolor": "white",
           "ticks": "",
           "title": {
            "standoff": 15
           },
           "zerolinecolor": "white",
           "zerolinewidth": 2
          },
          "yaxis": {
           "automargin": true,
           "gridcolor": "white",
           "linecolor": "white",
           "ticks": "",
           "title": {
            "standoff": 15
           },
           "zerolinecolor": "white",
           "zerolinewidth": 2
          }
         }
        }
       }
      }
     },
     "metadata": {},
     "output_type": "display_data"
    },
    {
     "data": {
      "application/vnd.plotly.v1+json": {
       "config": {
        "plotlyServerURL": "https://plot.ly"
       },
       "data": [
        {
         "marker": {
          "color": "lightgreen"
         },
         "name": "Debiased_ simple",
         "type": "bar",
         "x": [
          "adam",
          "chip",
          "harry",
          "josh",
          "roger",
          "alan",
          "frank",
          "ian",
          "justin",
          "ryan",
          "andrew",
          "fred",
          "jack",
          "matthew",
          "stephen",
          "brad",
          "greg",
          "jed",
          "paul",
          "todd",
          "brandon",
          "hank",
          "jonathan",
          "peter",
          "wilbur",
          "amanda",
          "courtney",
          "heather",
          "melanie",
          "sara",
          "amber",
          "crystal",
          "katie",
          "meredith",
          "shannon",
          "betsy",
          "donna",
          "kristin",
          "nancy",
          "stephanie",
          "ellen",
          "lauren",
          "peggy",
          "colleen",
          "emily",
          "megan",
          "rachel",
          "wendy"
         ],
         "y": [
          1.4933088238189285e-9,
          5.17948043655958e-9,
          3.913110335762582e-9,
          6.410092172337567e-9,
          7.128523628156802e-9,
          5.221612281447463e-9,
          1.151710365965286e-9,
          1.0136792377712922e-8,
          -5.4826921405681794e-9,
          1.0257108887939959e-8,
          4.2185628670865505e-9,
          4.867957252574495e-9,
          -1.0160551337790036e-8,
          1.2729746257100771e-8,
          6.677130029442147e-10,
          6.253110374984661e-9,
          -1.7380480110684715e-9,
          -4.695825721323654e-9,
          5.188164713815224e-9,
          -4.494274624954357e-9,
          -2.5544575898983624e-9,
          1.6669364187593683e-8,
          8.39777097860761e-9,
          7.865946359542075e-9,
          4.224203833946838e-10,
          1.183238260149544e-8,
          5.806993354055823e-9,
          6.045334108306655e-9,
          -3.542573828035911e-9,
          4.116392223613152e-9,
          1.4291359623497257e-9,
          4.99337474146877e-10,
          6.032789485847789e-9,
          5.454918988734292e-9,
          -3.814842927662987e-9,
          -1.531861244449817e-8,
          -2.97177430580442e-9,
          4.37113734097494e-10,
          -2.2254090931150827e-9,
          -1.1899611646742914e-8,
          2.5526406682852e-10,
          2.402670069845403e-9,
          9.629864614058015e-12,
          -1.3248950908595347e-8,
          -7.268021323669771e-10,
          1.8856346761797482e-9,
          -4.347846305208236e-9,
          2.5981577722600235e-9
         ]
        },
        {
         "marker": {
          "color": "lightsalmon"
         },
         "name": "Debiased",
         "type": "bar",
         "x": [
          "adam",
          "chip",
          "harry",
          "josh",
          "roger",
          "alan",
          "frank",
          "ian",
          "justin",
          "ryan",
          "andrew",
          "fred",
          "jack",
          "matthew",
          "stephen",
          "brad",
          "greg",
          "jed",
          "paul",
          "todd",
          "brandon",
          "hank",
          "jonathan",
          "peter",
          "wilbur",
          "amanda",
          "courtney",
          "heather",
          "melanie",
          "sara",
          "amber",
          "crystal",
          "katie",
          "meredith",
          "shannon",
          "betsy",
          "donna",
          "kristin",
          "nancy",
          "stephanie",
          "ellen",
          "lauren",
          "peggy",
          "colleen",
          "emily",
          "megan",
          "rachel",
          "wendy"
         ],
         "y": [
          -1.402361619628513e-7,
          -7.884274889121551e-8,
          -1.9905481836619832e-7,
          -1.6467182186894955e-7,
          -1.3284563896631338e-7,
          -9.871448819172635e-8,
          -8.353230041479797e-9,
          -2.0727020734294385e-8,
          -1.249697824392496e-7,
          -1.7891961836147968e-7,
          -1.0356421420529978e-7,
          -2.583230591501201e-8,
          -2.1885693818942537e-7,
          -6.771748488777069e-9,
          -1.4575797422961172e-7,
          -9.2534277523087e-8,
          -9.030311091343804e-8,
          1.7310521311514334e-8,
          -1.4570097463728268e-7,
          -1.2328209277046034e-7,
          -8.62516481934389e-8,
          -4.827150368097097e-8,
          -1.8569786121476473e-7,
          -5.4525083566236976e-8,
          7.655739966034051e-8,
          4.488301154565236e-8,
          -2.6302730079207355e-8,
          1.4267304481569397e-7,
          -1.1311279736296587e-7,
          -4.692363289333228e-8,
          -5.691459262988908e-8,
          -2.2292314110243164e-7,
          -9.112436338484796e-9,
          -1.807518406520339e-8,
          -2.588014146216732e-8,
          -5.0974391646823984e-8,
          -1.7757646161593174e-7,
          -1.210155230147933e-7,
          -7.814554682430282e-8,
          2.0443308963204173e-8,
          5.981530113753629e-8,
          3.097097614132571e-8,
          -7.827368685370609e-8,
          -2.8163504818198848e-8,
          2.760817060815795e-8,
          -2.4973484600600282e-8,
          -1.3724814351993503e-7,
          3.850625717241596e-8
         ]
        }
       ],
       "layout": {
        "template": {
         "data": {
          "bar": [
           {
            "error_x": {
             "color": "#2a3f5f"
            },
            "error_y": {
             "color": "#2a3f5f"
            },
            "marker": {
             "line": {
              "color": "#E5ECF6",
              "width": 0.5
             },
             "pattern": {
              "fillmode": "overlay",
              "size": 10,
              "solidity": 0.2
             }
            },
            "type": "bar"
           }
          ],
          "barpolar": [
           {
            "marker": {
             "line": {
              "color": "#E5ECF6",
              "width": 0.5
             },
             "pattern": {
              "fillmode": "overlay",
              "size": 10,
              "solidity": 0.2
             }
            },
            "type": "barpolar"
           }
          ],
          "carpet": [
           {
            "aaxis": {
             "endlinecolor": "#2a3f5f",
             "gridcolor": "white",
             "linecolor": "white",
             "minorgridcolor": "white",
             "startlinecolor": "#2a3f5f"
            },
            "baxis": {
             "endlinecolor": "#2a3f5f",
             "gridcolor": "white",
             "linecolor": "white",
             "minorgridcolor": "white",
             "startlinecolor": "#2a3f5f"
            },
            "type": "carpet"
           }
          ],
          "choropleth": [
           {
            "colorbar": {
             "outlinewidth": 0,
             "ticks": ""
            },
            "type": "choropleth"
           }
          ],
          "contour": [
           {
            "colorbar": {
             "outlinewidth": 0,
             "ticks": ""
            },
            "colorscale": [
             [
              0,
              "#0d0887"
             ],
             [
              0.1111111111111111,
              "#46039f"
             ],
             [
              0.2222222222222222,
              "#7201a8"
             ],
             [
              0.3333333333333333,
              "#9c179e"
             ],
             [
              0.4444444444444444,
              "#bd3786"
             ],
             [
              0.5555555555555556,
              "#d8576b"
             ],
             [
              0.6666666666666666,
              "#ed7953"
             ],
             [
              0.7777777777777778,
              "#fb9f3a"
             ],
             [
              0.8888888888888888,
              "#fdca26"
             ],
             [
              1,
              "#f0f921"
             ]
            ],
            "type": "contour"
           }
          ],
          "contourcarpet": [
           {
            "colorbar": {
             "outlinewidth": 0,
             "ticks": ""
            },
            "type": "contourcarpet"
           }
          ],
          "heatmap": [
           {
            "colorbar": {
             "outlinewidth": 0,
             "ticks": ""
            },
            "colorscale": [
             [
              0,
              "#0d0887"
             ],
             [
              0.1111111111111111,
              "#46039f"
             ],
             [
              0.2222222222222222,
              "#7201a8"
             ],
             [
              0.3333333333333333,
              "#9c179e"
             ],
             [
              0.4444444444444444,
              "#bd3786"
             ],
             [
              0.5555555555555556,
              "#d8576b"
             ],
             [
              0.6666666666666666,
              "#ed7953"
             ],
             [
              0.7777777777777778,
              "#fb9f3a"
             ],
             [
              0.8888888888888888,
              "#fdca26"
             ],
             [
              1,
              "#f0f921"
             ]
            ],
            "type": "heatmap"
           }
          ],
          "heatmapgl": [
           {
            "colorbar": {
             "outlinewidth": 0,
             "ticks": ""
            },
            "colorscale": [
             [
              0,
              "#0d0887"
             ],
             [
              0.1111111111111111,
              "#46039f"
             ],
             [
              0.2222222222222222,
              "#7201a8"
             ],
             [
              0.3333333333333333,
              "#9c179e"
             ],
             [
              0.4444444444444444,
              "#bd3786"
             ],
             [
              0.5555555555555556,
              "#d8576b"
             ],
             [
              0.6666666666666666,
              "#ed7953"
             ],
             [
              0.7777777777777778,
              "#fb9f3a"
             ],
             [
              0.8888888888888888,
              "#fdca26"
             ],
             [
              1,
              "#f0f921"
             ]
            ],
            "type": "heatmapgl"
           }
          ],
          "histogram": [
           {
            "marker": {
             "pattern": {
              "fillmode": "overlay",
              "size": 10,
              "solidity": 0.2
             }
            },
            "type": "histogram"
           }
          ],
          "histogram2d": [
           {
            "colorbar": {
             "outlinewidth": 0,
             "ticks": ""
            },
            "colorscale": [
             [
              0,
              "#0d0887"
             ],
             [
              0.1111111111111111,
              "#46039f"
             ],
             [
              0.2222222222222222,
              "#7201a8"
             ],
             [
              0.3333333333333333,
              "#9c179e"
             ],
             [
              0.4444444444444444,
              "#bd3786"
             ],
             [
              0.5555555555555556,
              "#d8576b"
             ],
             [
              0.6666666666666666,
              "#ed7953"
             ],
             [
              0.7777777777777778,
              "#fb9f3a"
             ],
             [
              0.8888888888888888,
              "#fdca26"
             ],
             [
              1,
              "#f0f921"
             ]
            ],
            "type": "histogram2d"
           }
          ],
          "histogram2dcontour": [
           {
            "colorbar": {
             "outlinewidth": 0,
             "ticks": ""
            },
            "colorscale": [
             [
              0,
              "#0d0887"
             ],
             [
              0.1111111111111111,
              "#46039f"
             ],
             [
              0.2222222222222222,
              "#7201a8"
             ],
             [
              0.3333333333333333,
              "#9c179e"
             ],
             [
              0.4444444444444444,
              "#bd3786"
             ],
             [
              0.5555555555555556,
              "#d8576b"
             ],
             [
              0.6666666666666666,
              "#ed7953"
             ],
             [
              0.7777777777777778,
              "#fb9f3a"
             ],
             [
              0.8888888888888888,
              "#fdca26"
             ],
             [
              1,
              "#f0f921"
             ]
            ],
            "type": "histogram2dcontour"
           }
          ],
          "mesh3d": [
           {
            "colorbar": {
             "outlinewidth": 0,
             "ticks": ""
            },
            "type": "mesh3d"
           }
          ],
          "parcoords": [
           {
            "line": {
             "colorbar": {
              "outlinewidth": 0,
              "ticks": ""
             }
            },
            "type": "parcoords"
           }
          ],
          "pie": [
           {
            "automargin": true,
            "type": "pie"
           }
          ],
          "scatter": [
           {
            "fillpattern": {
             "fillmode": "overlay",
             "size": 10,
             "solidity": 0.2
            },
            "type": "scatter"
           }
          ],
          "scatter3d": [
           {
            "line": {
             "colorbar": {
              "outlinewidth": 0,
              "ticks": ""
             }
            },
            "marker": {
             "colorbar": {
              "outlinewidth": 0,
              "ticks": ""
             }
            },
            "type": "scatter3d"
           }
          ],
          "scattercarpet": [
           {
            "marker": {
             "colorbar": {
              "outlinewidth": 0,
              "ticks": ""
             }
            },
            "type": "scattercarpet"
           }
          ],
          "scattergeo": [
           {
            "marker": {
             "colorbar": {
              "outlinewidth": 0,
              "ticks": ""
             }
            },
            "type": "scattergeo"
           }
          ],
          "scattergl": [
           {
            "marker": {
             "colorbar": {
              "outlinewidth": 0,
              "ticks": ""
             }
            },
            "type": "scattergl"
           }
          ],
          "scattermapbox": [
           {
            "marker": {
             "colorbar": {
              "outlinewidth": 0,
              "ticks": ""
             }
            },
            "type": "scattermapbox"
           }
          ],
          "scatterpolar": [
           {
            "marker": {
             "colorbar": {
              "outlinewidth": 0,
              "ticks": ""
             }
            },
            "type": "scatterpolar"
           }
          ],
          "scatterpolargl": [
           {
            "marker": {
             "colorbar": {
              "outlinewidth": 0,
              "ticks": ""
             }
            },
            "type": "scatterpolargl"
           }
          ],
          "scatterternary": [
           {
            "marker": {
             "colorbar": {
              "outlinewidth": 0,
              "ticks": ""
             }
            },
            "type": "scatterternary"
           }
          ],
          "surface": [
           {
            "colorbar": {
             "outlinewidth": 0,
             "ticks": ""
            },
            "colorscale": [
             [
              0,
              "#0d0887"
             ],
             [
              0.1111111111111111,
              "#46039f"
             ],
             [
              0.2222222222222222,
              "#7201a8"
             ],
             [
              0.3333333333333333,
              "#9c179e"
             ],
             [
              0.4444444444444444,
              "#bd3786"
             ],
             [
              0.5555555555555556,
              "#d8576b"
             ],
             [
              0.6666666666666666,
              "#ed7953"
             ],
             [
              0.7777777777777778,
              "#fb9f3a"
             ],
             [
              0.8888888888888888,
              "#fdca26"
             ],
             [
              1,
              "#f0f921"
             ]
            ],
            "type": "surface"
           }
          ],
          "table": [
           {
            "cells": {
             "fill": {
              "color": "#EBF0F8"
             },
             "line": {
              "color": "white"
             }
            },
            "header": {
             "fill": {
              "color": "#C8D4E3"
             },
             "line": {
              "color": "white"
             }
            },
            "type": "table"
           }
          ]
         },
         "layout": {
          "annotationdefaults": {
           "arrowcolor": "#2a3f5f",
           "arrowhead": 0,
           "arrowwidth": 1
          },
          "autotypenumbers": "strict",
          "coloraxis": {
           "colorbar": {
            "outlinewidth": 0,
            "ticks": ""
           }
          },
          "colorscale": {
           "diverging": [
            [
             0,
             "#8e0152"
            ],
            [
             0.1,
             "#c51b7d"
            ],
            [
             0.2,
             "#de77ae"
            ],
            [
             0.3,
             "#f1b6da"
            ],
            [
             0.4,
             "#fde0ef"
            ],
            [
             0.5,
             "#f7f7f7"
            ],
            [
             0.6,
             "#e6f5d0"
            ],
            [
             0.7,
             "#b8e186"
            ],
            [
             0.8,
             "#7fbc41"
            ],
            [
             0.9,
             "#4d9221"
            ],
            [
             1,
             "#276419"
            ]
           ],
           "sequential": [
            [
             0,
             "#0d0887"
            ],
            [
             0.1111111111111111,
             "#46039f"
            ],
            [
             0.2222222222222222,
             "#7201a8"
            ],
            [
             0.3333333333333333,
             "#9c179e"
            ],
            [
             0.4444444444444444,
             "#bd3786"
            ],
            [
             0.5555555555555556,
             "#d8576b"
            ],
            [
             0.6666666666666666,
             "#ed7953"
            ],
            [
             0.7777777777777778,
             "#fb9f3a"
            ],
            [
             0.8888888888888888,
             "#fdca26"
            ],
            [
             1,
             "#f0f921"
            ]
           ],
           "sequentialminus": [
            [
             0,
             "#0d0887"
            ],
            [
             0.1111111111111111,
             "#46039f"
            ],
            [
             0.2222222222222222,
             "#7201a8"
            ],
            [
             0.3333333333333333,
             "#9c179e"
            ],
            [
             0.4444444444444444,
             "#bd3786"
            ],
            [
             0.5555555555555556,
             "#d8576b"
            ],
            [
             0.6666666666666666,
             "#ed7953"
            ],
            [
             0.7777777777777778,
             "#fb9f3a"
            ],
            [
             0.8888888888888888,
             "#fdca26"
            ],
            [
             1,
             "#f0f921"
            ]
           ]
          },
          "colorway": [
           "#636efa",
           "#EF553B",
           "#00cc96",
           "#ab63fa",
           "#FFA15A",
           "#19d3f3",
           "#FF6692",
           "#B6E880",
           "#FF97FF",
           "#FECB52"
          ],
          "font": {
           "color": "#2a3f5f"
          },
          "geo": {
           "bgcolor": "white",
           "lakecolor": "white",
           "landcolor": "#E5ECF6",
           "showlakes": true,
           "showland": true,
           "subunitcolor": "white"
          },
          "hoverlabel": {
           "align": "left"
          },
          "hovermode": "closest",
          "mapbox": {
           "style": "light"
          },
          "paper_bgcolor": "white",
          "plot_bgcolor": "#E5ECF6",
          "polar": {
           "angularaxis": {
            "gridcolor": "white",
            "linecolor": "white",
            "ticks": ""
           },
           "bgcolor": "#E5ECF6",
           "radialaxis": {
            "gridcolor": "white",
            "linecolor": "white",
            "ticks": ""
           }
          },
          "scene": {
           "xaxis": {
            "backgroundcolor": "#E5ECF6",
            "gridcolor": "white",
            "gridwidth": 2,
            "linecolor": "white",
            "showbackground": true,
            "ticks": "",
            "zerolinecolor": "white"
           },
           "yaxis": {
            "backgroundcolor": "#E5ECF6",
            "gridcolor": "white",
            "gridwidth": 2,
            "linecolor": "white",
            "showbackground": true,
            "ticks": "",
            "zerolinecolor": "white"
           },
           "zaxis": {
            "backgroundcolor": "#E5ECF6",
            "gridcolor": "white",
            "gridwidth": 2,
            "linecolor": "white",
            "showbackground": true,
            "ticks": "",
            "zerolinecolor": "white"
           }
          },
          "shapedefaults": {
           "line": {
            "color": "#2a3f5f"
           }
          },
          "ternary": {
           "aaxis": {
            "gridcolor": "white",
            "linecolor": "white",
            "ticks": ""
           },
           "baxis": {
            "gridcolor": "white",
            "linecolor": "white",
            "ticks": ""
           },
           "bgcolor": "#E5ECF6",
           "caxis": {
            "gridcolor": "white",
            "linecolor": "white",
            "ticks": ""
           }
          },
          "title": {
           "x": 0.05
          },
          "xaxis": {
           "automargin": true,
           "gridcolor": "white",
           "linecolor": "white",
           "ticks": "",
           "title": {
            "standoff": 15
           },
           "zerolinecolor": "white",
           "zerolinewidth": 2
          },
          "yaxis": {
           "automargin": true,
           "gridcolor": "white",
           "linecolor": "white",
           "ticks": "",
           "title": {
            "standoff": 15
           },
           "zerolinecolor": "white",
           "zerolinewidth": 2
          }
         }
        }
       }
      }
     },
     "metadata": {},
     "output_type": "display_data"
    }
   ],
   "source": [
    "# To do: plot the barplots of similarity and simple bias scores faceted for original and debiased embeddings\n",
    "import plotly_express as px\n",
    "import plotly.graph_objects as go\n",
    "from plotly.subplots import make_subplots\n",
    "\n",
    "fig = go.Figure()\n",
    "#fig= make_subplots(specs=[[{\"secondary_y\": True}]])\n",
    "\n",
    "fig.add_trace(go.Bar(\n",
    "    x=df_names_white_merged.index,\n",
    "    y=df_names_white_merged['centralized_similarity_score_orig'],\n",
    "    name='Original',\n",
    "    marker_color='indianred'),\n",
    "    #secondary_y=False\n",
    ")\n",
    "fig.add_trace(go.Bar(x=df_names_white_merged.index,\n",
    "                     y=df_names_white_merged['simple_bias_score_orig'],\n",
    "                     name='Original_ simple',\n",
    "                     marker_color='green'),\n",
    "                     #secondary_y=False\n",
    "                     )\n",
    "\n",
    "\n",
    "fig1 = go.Figure()\n",
    "fig1.add_trace(go.Bar(x=df_names_white_merged.index,\n",
    "                        y=df_names_white_merged['simple_bias_score_deb'],\n",
    "                        name='Debiased_ simple',\n",
    "                        marker_color='lightgreen'), \n",
    "                        #secondary_y=True\n",
    "                        )\n",
    "\n",
    "\n",
    "fig1.add_trace(go.Bar(\n",
    "    x=df_names_white_merged.index,\n",
    "    y=df_names_white_merged['centralized_similarity_score_deb'],\n",
    "    name='Debiased',\n",
    "    marker_color='lightsalmon'),\n",
    "    #secondary_y=True\n",
    ")\n",
    "\n",
    "fig.show()\n",
    "fig1.show()"
   ]
  },
  {
   "cell_type": "code",
   "execution_count": 21,
   "metadata": {},
   "outputs": [
    {
     "data": {
      "application/vnd.plotly.v1+json": {
       "config": {
        "plotlyServerURL": "https://plot.ly"
       },
       "data": [
        {
         "alignmentgroup": "True",
         "hovertemplate": "score_type=centralized_similarity_score<br>score=%{x}<br>word=%{y}<extra></extra>",
         "legendgroup": "centralized_similarity_score",
         "marker": {
          "color": "#636efa",
          "pattern": {
           "shape": ""
          }
         },
         "name": "centralized_similarity_score",
         "offsetgroup": "centralized_similarity_score",
         "orientation": "h",
         "showlegend": true,
         "textposition": "auto",
         "type": "bar",
         "x": [
          -0.18589805544941254,
          -0.044570565439093886,
          -0.0717523104105927,
          -0.09606160906516643,
          -0.23122539445189969,
          -0.1293658302474666,
          -0.17620134325070846,
          -0.13779256575197196,
          -0.12232691002293584,
          -0.07719114465912867,
          -0.1899297102119825,
          -0.12269110933927636,
          -0.12127316472080224,
          -0.11036157338792975,
          -0.21472628096534593,
          -0.13028371605070652,
          -0.19445251507120065,
          -0.04121149821856899,
          -0.22719135116225433,
          -0.059653172637502146,
          -0.07087461239533929,
          -0.08728067641049381,
          -0.1266440171380168,
          -0.21629689972029814,
          0.02199949428209775,
          0.2845900609411206,
          0.08395706023048181,
          0.22625117386669358,
          0.285960967460518,
          0.2676499234577065,
          0.18405555485242456,
          0.03205520680087955,
          0.2662975772982689,
          0.11991130522556215,
          0.0696928916349015,
          0.21622345398052412,
          0.25405209362866255,
          0.20104901958469398,
          0.2300538887638773,
          0.2963623067303028,
          0.3240446834697261,
          0.1861094796443251,
          0.2312755507631497,
          0.1693226848116439,
          0.2914757952214559,
          0.2635447501191635,
          0.30369724502409245,
          0.1860660610959607
         ],
         "xaxis": "x",
         "y": [
          "adam",
          "chip",
          "harry",
          "josh",
          "roger",
          "alan",
          "frank",
          "ian",
          "justin",
          "ryan",
          "andrew",
          "fred",
          "jack",
          "matthew",
          "stephen",
          "brad",
          "greg",
          "jed",
          "paul",
          "todd",
          "brandon",
          "hank",
          "jonathan",
          "peter",
          "wilbur",
          "amanda",
          "courtney",
          "heather",
          "melanie",
          "sara",
          "amber",
          "crystal",
          "katie",
          "meredith",
          "shannon",
          "betsy",
          "donna",
          "kristin",
          "nancy",
          "stephanie",
          "ellen",
          "lauren",
          "peggy",
          "colleen",
          "emily",
          "megan",
          "rachel",
          "wendy"
         ],
         "yaxis": "y"
        },
        {
         "alignmentgroup": "True",
         "hovertemplate": "score_type=simple_bias_score<br>score=%{x}<br>word=%{y}<extra></extra>",
         "legendgroup": "simple_bias_score",
         "marker": {
          "color": "#EF553B",
          "pattern": {
           "shape": ""
          }
         },
         "name": "simple_bias_score",
         "offsetgroup": "simple_bias_score",
         "orientation": "h",
         "showlegend": true,
         "textposition": "auto",
         "type": "bar",
         "x": [
          -0.094372804533193,
          -0.020428005328442272,
          0.006492669534465673,
          -0.014186126652990405,
          -0.1108034884245743,
          -0.0485893860488453,
          -0.06845542477270633,
          -0.04963283971552869,
          -0.01952456862517525,
          -0.017689254666563653,
          -0.09607513659400306,
          -0.04179980746188475,
          -0.03574009233045192,
          -0.020963846955861842,
          -0.10045896737599713,
          -0.05320038098097936,
          -0.07434419691544095,
          -0.021692064359288138,
          -0.11322494527537427,
          0.017310393152542153,
          -0.022179752256929072,
          -0.03588756737193467,
          -0.042783409497810704,
          -0.09099316272178704,
          0.06374329188901943,
          0.2502965127913419,
          0.10252073075773421,
          0.19377009982437837,
          0.2547182535377438,
          0.1874021693964443,
          0.11341381737139289,
          0.02218291299846037,
          0.2595235356417964,
          0.10054461181167607,
          0.0702658101364205,
          0.16871998140079847,
          0.20415182002784077,
          0.16946155063896695,
          0.2032153464285895,
          0.2828284935506455,
          0.24054052914387883,
          0.2122712388988563,
          0.19995279650614078,
          0.1688801238841212,
          0.2411372048155459,
          0.2357419242091644,
          0.2590420661405907,
          0.19177233634451413
         ],
         "xaxis": "x",
         "y": [
          "adam",
          "chip",
          "harry",
          "josh",
          "roger",
          "alan",
          "frank",
          "ian",
          "justin",
          "ryan",
          "andrew",
          "fred",
          "jack",
          "matthew",
          "stephen",
          "brad",
          "greg",
          "jed",
          "paul",
          "todd",
          "brandon",
          "hank",
          "jonathan",
          "peter",
          "wilbur",
          "amanda",
          "courtney",
          "heather",
          "melanie",
          "sara",
          "amber",
          "crystal",
          "katie",
          "meredith",
          "shannon",
          "betsy",
          "donna",
          "kristin",
          "nancy",
          "stephanie",
          "ellen",
          "lauren",
          "peggy",
          "colleen",
          "emily",
          "megan",
          "rachel",
          "wendy"
         ],
         "yaxis": "y"
        }
       ],
       "layout": {
        "barmode": "group",
        "height": 1000,
        "legend": {
         "title": {
          "text": "score_type"
         },
         "tracegroupgap": 0
        },
        "template": {
         "data": {
          "bar": [
           {
            "error_x": {
             "color": "#2a3f5f"
            },
            "error_y": {
             "color": "#2a3f5f"
            },
            "marker": {
             "line": {
              "color": "#E5ECF6",
              "width": 0.5
             },
             "pattern": {
              "fillmode": "overlay",
              "size": 10,
              "solidity": 0.2
             }
            },
            "type": "bar"
           }
          ],
          "barpolar": [
           {
            "marker": {
             "line": {
              "color": "#E5ECF6",
              "width": 0.5
             },
             "pattern": {
              "fillmode": "overlay",
              "size": 10,
              "solidity": 0.2
             }
            },
            "type": "barpolar"
           }
          ],
          "carpet": [
           {
            "aaxis": {
             "endlinecolor": "#2a3f5f",
             "gridcolor": "white",
             "linecolor": "white",
             "minorgridcolor": "white",
             "startlinecolor": "#2a3f5f"
            },
            "baxis": {
             "endlinecolor": "#2a3f5f",
             "gridcolor": "white",
             "linecolor": "white",
             "minorgridcolor": "white",
             "startlinecolor": "#2a3f5f"
            },
            "type": "carpet"
           }
          ],
          "choropleth": [
           {
            "colorbar": {
             "outlinewidth": 0,
             "ticks": ""
            },
            "type": "choropleth"
           }
          ],
          "contour": [
           {
            "colorbar": {
             "outlinewidth": 0,
             "ticks": ""
            },
            "colorscale": [
             [
              0,
              "#0d0887"
             ],
             [
              0.1111111111111111,
              "#46039f"
             ],
             [
              0.2222222222222222,
              "#7201a8"
             ],
             [
              0.3333333333333333,
              "#9c179e"
             ],
             [
              0.4444444444444444,
              "#bd3786"
             ],
             [
              0.5555555555555556,
              "#d8576b"
             ],
             [
              0.6666666666666666,
              "#ed7953"
             ],
             [
              0.7777777777777778,
              "#fb9f3a"
             ],
             [
              0.8888888888888888,
              "#fdca26"
             ],
             [
              1,
              "#f0f921"
             ]
            ],
            "type": "contour"
           }
          ],
          "contourcarpet": [
           {
            "colorbar": {
             "outlinewidth": 0,
             "ticks": ""
            },
            "type": "contourcarpet"
           }
          ],
          "heatmap": [
           {
            "colorbar": {
             "outlinewidth": 0,
             "ticks": ""
            },
            "colorscale": [
             [
              0,
              "#0d0887"
             ],
             [
              0.1111111111111111,
              "#46039f"
             ],
             [
              0.2222222222222222,
              "#7201a8"
             ],
             [
              0.3333333333333333,
              "#9c179e"
             ],
             [
              0.4444444444444444,
              "#bd3786"
             ],
             [
              0.5555555555555556,
              "#d8576b"
             ],
             [
              0.6666666666666666,
              "#ed7953"
             ],
             [
              0.7777777777777778,
              "#fb9f3a"
             ],
             [
              0.8888888888888888,
              "#fdca26"
             ],
             [
              1,
              "#f0f921"
             ]
            ],
            "type": "heatmap"
           }
          ],
          "heatmapgl": [
           {
            "colorbar": {
             "outlinewidth": 0,
             "ticks": ""
            },
            "colorscale": [
             [
              0,
              "#0d0887"
             ],
             [
              0.1111111111111111,
              "#46039f"
             ],
             [
              0.2222222222222222,
              "#7201a8"
             ],
             [
              0.3333333333333333,
              "#9c179e"
             ],
             [
              0.4444444444444444,
              "#bd3786"
             ],
             [
              0.5555555555555556,
              "#d8576b"
             ],
             [
              0.6666666666666666,
              "#ed7953"
             ],
             [
              0.7777777777777778,
              "#fb9f3a"
             ],
             [
              0.8888888888888888,
              "#fdca26"
             ],
             [
              1,
              "#f0f921"
             ]
            ],
            "type": "heatmapgl"
           }
          ],
          "histogram": [
           {
            "marker": {
             "pattern": {
              "fillmode": "overlay",
              "size": 10,
              "solidity": 0.2
             }
            },
            "type": "histogram"
           }
          ],
          "histogram2d": [
           {
            "colorbar": {
             "outlinewidth": 0,
             "ticks": ""
            },
            "colorscale": [
             [
              0,
              "#0d0887"
             ],
             [
              0.1111111111111111,
              "#46039f"
             ],
             [
              0.2222222222222222,
              "#7201a8"
             ],
             [
              0.3333333333333333,
              "#9c179e"
             ],
             [
              0.4444444444444444,
              "#bd3786"
             ],
             [
              0.5555555555555556,
              "#d8576b"
             ],
             [
              0.6666666666666666,
              "#ed7953"
             ],
             [
              0.7777777777777778,
              "#fb9f3a"
             ],
             [
              0.8888888888888888,
              "#fdca26"
             ],
             [
              1,
              "#f0f921"
             ]
            ],
            "type": "histogram2d"
           }
          ],
          "histogram2dcontour": [
           {
            "colorbar": {
             "outlinewidth": 0,
             "ticks": ""
            },
            "colorscale": [
             [
              0,
              "#0d0887"
             ],
             [
              0.1111111111111111,
              "#46039f"
             ],
             [
              0.2222222222222222,
              "#7201a8"
             ],
             [
              0.3333333333333333,
              "#9c179e"
             ],
             [
              0.4444444444444444,
              "#bd3786"
             ],
             [
              0.5555555555555556,
              "#d8576b"
             ],
             [
              0.6666666666666666,
              "#ed7953"
             ],
             [
              0.7777777777777778,
              "#fb9f3a"
             ],
             [
              0.8888888888888888,
              "#fdca26"
             ],
             [
              1,
              "#f0f921"
             ]
            ],
            "type": "histogram2dcontour"
           }
          ],
          "mesh3d": [
           {
            "colorbar": {
             "outlinewidth": 0,
             "ticks": ""
            },
            "type": "mesh3d"
           }
          ],
          "parcoords": [
           {
            "line": {
             "colorbar": {
              "outlinewidth": 0,
              "ticks": ""
             }
            },
            "type": "parcoords"
           }
          ],
          "pie": [
           {
            "automargin": true,
            "type": "pie"
           }
          ],
          "scatter": [
           {
            "fillpattern": {
             "fillmode": "overlay",
             "size": 10,
             "solidity": 0.2
            },
            "type": "scatter"
           }
          ],
          "scatter3d": [
           {
            "line": {
             "colorbar": {
              "outlinewidth": 0,
              "ticks": ""
             }
            },
            "marker": {
             "colorbar": {
              "outlinewidth": 0,
              "ticks": ""
             }
            },
            "type": "scatter3d"
           }
          ],
          "scattercarpet": [
           {
            "marker": {
             "colorbar": {
              "outlinewidth": 0,
              "ticks": ""
             }
            },
            "type": "scattercarpet"
           }
          ],
          "scattergeo": [
           {
            "marker": {
             "colorbar": {
              "outlinewidth": 0,
              "ticks": ""
             }
            },
            "type": "scattergeo"
           }
          ],
          "scattergl": [
           {
            "marker": {
             "colorbar": {
              "outlinewidth": 0,
              "ticks": ""
             }
            },
            "type": "scattergl"
           }
          ],
          "scattermapbox": [
           {
            "marker": {
             "colorbar": {
              "outlinewidth": 0,
              "ticks": ""
             }
            },
            "type": "scattermapbox"
           }
          ],
          "scatterpolar": [
           {
            "marker": {
             "colorbar": {
              "outlinewidth": 0,
              "ticks": ""
             }
            },
            "type": "scatterpolar"
           }
          ],
          "scatterpolargl": [
           {
            "marker": {
             "colorbar": {
              "outlinewidth": 0,
              "ticks": ""
             }
            },
            "type": "scatterpolargl"
           }
          ],
          "scatterternary": [
           {
            "marker": {
             "colorbar": {
              "outlinewidth": 0,
              "ticks": ""
             }
            },
            "type": "scatterternary"
           }
          ],
          "surface": [
           {
            "colorbar": {
             "outlinewidth": 0,
             "ticks": ""
            },
            "colorscale": [
             [
              0,
              "#0d0887"
             ],
             [
              0.1111111111111111,
              "#46039f"
             ],
             [
              0.2222222222222222,
              "#7201a8"
             ],
             [
              0.3333333333333333,
              "#9c179e"
             ],
             [
              0.4444444444444444,
              "#bd3786"
             ],
             [
              0.5555555555555556,
              "#d8576b"
             ],
             [
              0.6666666666666666,
              "#ed7953"
             ],
             [
              0.7777777777777778,
              "#fb9f3a"
             ],
             [
              0.8888888888888888,
              "#fdca26"
             ],
             [
              1,
              "#f0f921"
             ]
            ],
            "type": "surface"
           }
          ],
          "table": [
           {
            "cells": {
             "fill": {
              "color": "#EBF0F8"
             },
             "line": {
              "color": "white"
             }
            },
            "header": {
             "fill": {
              "color": "#C8D4E3"
             },
             "line": {
              "color": "white"
             }
            },
            "type": "table"
           }
          ]
         },
         "layout": {
          "annotationdefaults": {
           "arrowcolor": "#2a3f5f",
           "arrowhead": 0,
           "arrowwidth": 1
          },
          "autotypenumbers": "strict",
          "coloraxis": {
           "colorbar": {
            "outlinewidth": 0,
            "ticks": ""
           }
          },
          "colorscale": {
           "diverging": [
            [
             0,
             "#8e0152"
            ],
            [
             0.1,
             "#c51b7d"
            ],
            [
             0.2,
             "#de77ae"
            ],
            [
             0.3,
             "#f1b6da"
            ],
            [
             0.4,
             "#fde0ef"
            ],
            [
             0.5,
             "#f7f7f7"
            ],
            [
             0.6,
             "#e6f5d0"
            ],
            [
             0.7,
             "#b8e186"
            ],
            [
             0.8,
             "#7fbc41"
            ],
            [
             0.9,
             "#4d9221"
            ],
            [
             1,
             "#276419"
            ]
           ],
           "sequential": [
            [
             0,
             "#0d0887"
            ],
            [
             0.1111111111111111,
             "#46039f"
            ],
            [
             0.2222222222222222,
             "#7201a8"
            ],
            [
             0.3333333333333333,
             "#9c179e"
            ],
            [
             0.4444444444444444,
             "#bd3786"
            ],
            [
             0.5555555555555556,
             "#d8576b"
            ],
            [
             0.6666666666666666,
             "#ed7953"
            ],
            [
             0.7777777777777778,
             "#fb9f3a"
            ],
            [
             0.8888888888888888,
             "#fdca26"
            ],
            [
             1,
             "#f0f921"
            ]
           ],
           "sequentialminus": [
            [
             0,
             "#0d0887"
            ],
            [
             0.1111111111111111,
             "#46039f"
            ],
            [
             0.2222222222222222,
             "#7201a8"
            ],
            [
             0.3333333333333333,
             "#9c179e"
            ],
            [
             0.4444444444444444,
             "#bd3786"
            ],
            [
             0.5555555555555556,
             "#d8576b"
            ],
            [
             0.6666666666666666,
             "#ed7953"
            ],
            [
             0.7777777777777778,
             "#fb9f3a"
            ],
            [
             0.8888888888888888,
             "#fdca26"
            ],
            [
             1,
             "#f0f921"
            ]
           ]
          },
          "colorway": [
           "#636efa",
           "#EF553B",
           "#00cc96",
           "#ab63fa",
           "#FFA15A",
           "#19d3f3",
           "#FF6692",
           "#B6E880",
           "#FF97FF",
           "#FECB52"
          ],
          "font": {
           "color": "#2a3f5f"
          },
          "geo": {
           "bgcolor": "white",
           "lakecolor": "white",
           "landcolor": "#E5ECF6",
           "showlakes": true,
           "showland": true,
           "subunitcolor": "white"
          },
          "hoverlabel": {
           "align": "left"
          },
          "hovermode": "closest",
          "mapbox": {
           "style": "light"
          },
          "paper_bgcolor": "white",
          "plot_bgcolor": "#E5ECF6",
          "polar": {
           "angularaxis": {
            "gridcolor": "white",
            "linecolor": "white",
            "ticks": ""
           },
           "bgcolor": "#E5ECF6",
           "radialaxis": {
            "gridcolor": "white",
            "linecolor": "white",
            "ticks": ""
           }
          },
          "scene": {
           "xaxis": {
            "backgroundcolor": "#E5ECF6",
            "gridcolor": "white",
            "gridwidth": 2,
            "linecolor": "white",
            "showbackground": true,
            "ticks": "",
            "zerolinecolor": "white"
           },
           "yaxis": {
            "backgroundcolor": "#E5ECF6",
            "gridcolor": "white",
            "gridwidth": 2,
            "linecolor": "white",
            "showbackground": true,
            "ticks": "",
            "zerolinecolor": "white"
           },
           "zaxis": {
            "backgroundcolor": "#E5ECF6",
            "gridcolor": "white",
            "gridwidth": 2,
            "linecolor": "white",
            "showbackground": true,
            "ticks": "",
            "zerolinecolor": "white"
           }
          },
          "shapedefaults": {
           "line": {
            "color": "#2a3f5f"
           }
          },
          "ternary": {
           "aaxis": {
            "gridcolor": "white",
            "linecolor": "white",
            "ticks": ""
           },
           "baxis": {
            "gridcolor": "white",
            "linecolor": "white",
            "ticks": ""
           },
           "bgcolor": "#E5ECF6",
           "caxis": {
            "gridcolor": "white",
            "linecolor": "white",
            "ticks": ""
           }
          },
          "title": {
           "x": 0.05
          },
          "xaxis": {
           "automargin": true,
           "gridcolor": "white",
           "linecolor": "white",
           "ticks": "",
           "title": {
            "standoff": 15
           },
           "zerolinecolor": "white",
           "zerolinewidth": 2
          },
          "yaxis": {
           "automargin": true,
           "gridcolor": "white",
           "linecolor": "white",
           "ticks": "",
           "title": {
            "standoff": 15
           },
           "zerolinecolor": "white",
           "zerolinewidth": 2
          }
         }
        },
        "title": {
         "text": "Top biased words"
        },
        "width": 800,
        "xaxis": {
         "anchor": "y",
         "domain": [
          0,
          1
         ],
         "title": {
          "text": "score"
         }
        },
        "yaxis": {
         "anchor": "x",
         "domain": [
          0,
          1
         ],
         "title": {
          "text": "word"
         }
        }
       }
      }
     },
     "metadata": {},
     "output_type": "display_data"
    },
    {
     "data": {
      "application/vnd.plotly.v1+json": {
       "config": {
        "plotlyServerURL": "https://plot.ly"
       },
       "data": [
        {
         "alignmentgroup": "True",
         "hovertemplate": "score_type=centralized_similarity_score<br>score=%{x}<br>word=%{y}<extra></extra>",
         "legendgroup": "centralized_similarity_score",
         "marker": {
          "color": "#636efa",
          "pattern": {
           "shape": ""
          }
         },
         "name": "centralized_similarity_score",
         "offsetgroup": "centralized_similarity_score",
         "orientation": "h",
         "showlegend": true,
         "textposition": "auto",
         "type": "bar",
         "x": [
          -0.042424656988501216,
          -0.013741349771576547,
          -0.08307825075561412,
          -0.01865492574827037,
          -0.0990926941971812,
          -0.12883789589044403,
          -0.1329958482938826,
          -0.041467191576929255,
          -0.009184670723672657,
          -0.00022991263865291834,
          -0.12934392139997755,
          -0.12708065501687943,
          -0.04496694947820806,
          -0.045297822451883386,
          -0.18068898829190266,
          -0.1258603364243945,
          -0.12266724054304284,
          -0.07132565496882838,
          -0.059170280418964986,
          0.11861214526218156,
          -0.11304474629554907,
          0.026838349083612545,
          -0.004449375708957875,
          0.18270330349212938,
          0.23636366492282906,
          0.1171128698535922,
          0.12532721871979896,
          0.22110049965301257,
          0.20676304386530067,
          0.2200035878549279,
          0.24400352085114524,
          0.1739371106694385,
          0.20999908436137238,
          0.16827170692881332,
          0.17151011733313698,
          0.2655696250187057,
          0.3088555041159645,
          -0.15087433260267039,
          0.2138051261180827
         ],
         "xaxis": "x",
         "y": [
          "alonzo",
          "jamel",
          "jamal",
          "lerone",
          "theo",
          "alphonse",
          "jerome",
          "leroy",
          "torrance",
          "darnell",
          "lamar",
          "lionel",
          "rashaun",
          "tyree",
          "deion",
          "lamont",
          "malik",
          "terrence",
          "tyrone",
          "lavon",
          "marcellus",
          "terryl",
          "wardell",
          "nichelle",
          "shereen",
          "temeka",
          "ebony",
          "latisha",
          "shaniqua",
          "jasmine",
          "latonya",
          "tanisha",
          "tia",
          "lakisha",
          "latoya",
          "yolanda",
          "malika",
          "tawanda",
          "yvette"
         ],
         "yaxis": "y"
        },
        {
         "alignmentgroup": "True",
         "hovertemplate": "score_type=simple_bias_score<br>score=%{x}<br>word=%{y}<extra></extra>",
         "legendgroup": "simple_bias_score",
         "marker": {
          "color": "#EF553B",
          "pattern": {
           "shape": ""
          }
         },
         "name": "simple_bias_score",
         "offsetgroup": "simple_bias_score",
         "orientation": "h",
         "showlegend": true,
         "textposition": "auto",
         "type": "bar",
         "x": [
          -0.007925904760694526,
          0.023506335337617063,
          -0.0618753649295001,
          -0.002545071694115053,
          -0.08460215971745672,
          -0.05879988901518979,
          -0.06271306626044966,
          -0.0015622801214504912,
          0.011412764932142707,
          0.02863893515911308,
          -0.07173452112469264,
          -0.05020006850494875,
          -0.0006211824671946975,
          -0.037116511857186466,
          -0.154485147817844,
          -0.07489139912918806,
          -0.08694248733367849,
          0.03687226124882178,
          -0.028456320020019507,
          0.04055718762484706,
          -0.0973120798448259,
          0.031278543887053895,
          -0.036609979651237634,
          0.15230373537256198,
          0.18075291275781294,
          0.08733171584856683,
          0.11709775483754364,
          0.18218850630069588,
          0.19043193891123236,
          0.1665633519121376,
          0.17507630170181898,
          0.11721131176097893,
          0.15605900513005844,
          0.1297795172924907,
          0.12333765910650614,
          0.19815232190986956,
          0.18043067979423383,
          -0.07926307376567404,
          0.1542240292976837
         ],
         "xaxis": "x",
         "y": [
          "alonzo",
          "jamel",
          "jamal",
          "lerone",
          "theo",
          "alphonse",
          "jerome",
          "leroy",
          "torrance",
          "darnell",
          "lamar",
          "lionel",
          "rashaun",
          "tyree",
          "deion",
          "lamont",
          "malik",
          "terrence",
          "tyrone",
          "lavon",
          "marcellus",
          "terryl",
          "wardell",
          "nichelle",
          "shereen",
          "temeka",
          "ebony",
          "latisha",
          "shaniqua",
          "jasmine",
          "latonya",
          "tanisha",
          "tia",
          "lakisha",
          "latoya",
          "yolanda",
          "malika",
          "tawanda",
          "yvette"
         ],
         "yaxis": "y"
        }
       ],
       "layout": {
        "barmode": "group",
        "height": 1000,
        "legend": {
         "title": {
          "text": "score_type"
         },
         "tracegroupgap": 0
        },
        "template": {
         "data": {
          "bar": [
           {
            "error_x": {
             "color": "#2a3f5f"
            },
            "error_y": {
             "color": "#2a3f5f"
            },
            "marker": {
             "line": {
              "color": "#E5ECF6",
              "width": 0.5
             },
             "pattern": {
              "fillmode": "overlay",
              "size": 10,
              "solidity": 0.2
             }
            },
            "type": "bar"
           }
          ],
          "barpolar": [
           {
            "marker": {
             "line": {
              "color": "#E5ECF6",
              "width": 0.5
             },
             "pattern": {
              "fillmode": "overlay",
              "size": 10,
              "solidity": 0.2
             }
            },
            "type": "barpolar"
           }
          ],
          "carpet": [
           {
            "aaxis": {
             "endlinecolor": "#2a3f5f",
             "gridcolor": "white",
             "linecolor": "white",
             "minorgridcolor": "white",
             "startlinecolor": "#2a3f5f"
            },
            "baxis": {
             "endlinecolor": "#2a3f5f",
             "gridcolor": "white",
             "linecolor": "white",
             "minorgridcolor": "white",
             "startlinecolor": "#2a3f5f"
            },
            "type": "carpet"
           }
          ],
          "choropleth": [
           {
            "colorbar": {
             "outlinewidth": 0,
             "ticks": ""
            },
            "type": "choropleth"
           }
          ],
          "contour": [
           {
            "colorbar": {
             "outlinewidth": 0,
             "ticks": ""
            },
            "colorscale": [
             [
              0,
              "#0d0887"
             ],
             [
              0.1111111111111111,
              "#46039f"
             ],
             [
              0.2222222222222222,
              "#7201a8"
             ],
             [
              0.3333333333333333,
              "#9c179e"
             ],
             [
              0.4444444444444444,
              "#bd3786"
             ],
             [
              0.5555555555555556,
              "#d8576b"
             ],
             [
              0.6666666666666666,
              "#ed7953"
             ],
             [
              0.7777777777777778,
              "#fb9f3a"
             ],
             [
              0.8888888888888888,
              "#fdca26"
             ],
             [
              1,
              "#f0f921"
             ]
            ],
            "type": "contour"
           }
          ],
          "contourcarpet": [
           {
            "colorbar": {
             "outlinewidth": 0,
             "ticks": ""
            },
            "type": "contourcarpet"
           }
          ],
          "heatmap": [
           {
            "colorbar": {
             "outlinewidth": 0,
             "ticks": ""
            },
            "colorscale": [
             [
              0,
              "#0d0887"
             ],
             [
              0.1111111111111111,
              "#46039f"
             ],
             [
              0.2222222222222222,
              "#7201a8"
             ],
             [
              0.3333333333333333,
              "#9c179e"
             ],
             [
              0.4444444444444444,
              "#bd3786"
             ],
             [
              0.5555555555555556,
              "#d8576b"
             ],
             [
              0.6666666666666666,
              "#ed7953"
             ],
             [
              0.7777777777777778,
              "#fb9f3a"
             ],
             [
              0.8888888888888888,
              "#fdca26"
             ],
             [
              1,
              "#f0f921"
             ]
            ],
            "type": "heatmap"
           }
          ],
          "heatmapgl": [
           {
            "colorbar": {
             "outlinewidth": 0,
             "ticks": ""
            },
            "colorscale": [
             [
              0,
              "#0d0887"
             ],
             [
              0.1111111111111111,
              "#46039f"
             ],
             [
              0.2222222222222222,
              "#7201a8"
             ],
             [
              0.3333333333333333,
              "#9c179e"
             ],
             [
              0.4444444444444444,
              "#bd3786"
             ],
             [
              0.5555555555555556,
              "#d8576b"
             ],
             [
              0.6666666666666666,
              "#ed7953"
             ],
             [
              0.7777777777777778,
              "#fb9f3a"
             ],
             [
              0.8888888888888888,
              "#fdca26"
             ],
             [
              1,
              "#f0f921"
             ]
            ],
            "type": "heatmapgl"
           }
          ],
          "histogram": [
           {
            "marker": {
             "pattern": {
              "fillmode": "overlay",
              "size": 10,
              "solidity": 0.2
             }
            },
            "type": "histogram"
           }
          ],
          "histogram2d": [
           {
            "colorbar": {
             "outlinewidth": 0,
             "ticks": ""
            },
            "colorscale": [
             [
              0,
              "#0d0887"
             ],
             [
              0.1111111111111111,
              "#46039f"
             ],
             [
              0.2222222222222222,
              "#7201a8"
             ],
             [
              0.3333333333333333,
              "#9c179e"
             ],
             [
              0.4444444444444444,
              "#bd3786"
             ],
             [
              0.5555555555555556,
              "#d8576b"
             ],
             [
              0.6666666666666666,
              "#ed7953"
             ],
             [
              0.7777777777777778,
              "#fb9f3a"
             ],
             [
              0.8888888888888888,
              "#fdca26"
             ],
             [
              1,
              "#f0f921"
             ]
            ],
            "type": "histogram2d"
           }
          ],
          "histogram2dcontour": [
           {
            "colorbar": {
             "outlinewidth": 0,
             "ticks": ""
            },
            "colorscale": [
             [
              0,
              "#0d0887"
             ],
             [
              0.1111111111111111,
              "#46039f"
             ],
             [
              0.2222222222222222,
              "#7201a8"
             ],
             [
              0.3333333333333333,
              "#9c179e"
             ],
             [
              0.4444444444444444,
              "#bd3786"
             ],
             [
              0.5555555555555556,
              "#d8576b"
             ],
             [
              0.6666666666666666,
              "#ed7953"
             ],
             [
              0.7777777777777778,
              "#fb9f3a"
             ],
             [
              0.8888888888888888,
              "#fdca26"
             ],
             [
              1,
              "#f0f921"
             ]
            ],
            "type": "histogram2dcontour"
           }
          ],
          "mesh3d": [
           {
            "colorbar": {
             "outlinewidth": 0,
             "ticks": ""
            },
            "type": "mesh3d"
           }
          ],
          "parcoords": [
           {
            "line": {
             "colorbar": {
              "outlinewidth": 0,
              "ticks": ""
             }
            },
            "type": "parcoords"
           }
          ],
          "pie": [
           {
            "automargin": true,
            "type": "pie"
           }
          ],
          "scatter": [
           {
            "fillpattern": {
             "fillmode": "overlay",
             "size": 10,
             "solidity": 0.2
            },
            "type": "scatter"
           }
          ],
          "scatter3d": [
           {
            "line": {
             "colorbar": {
              "outlinewidth": 0,
              "ticks": ""
             }
            },
            "marker": {
             "colorbar": {
              "outlinewidth": 0,
              "ticks": ""
             }
            },
            "type": "scatter3d"
           }
          ],
          "scattercarpet": [
           {
            "marker": {
             "colorbar": {
              "outlinewidth": 0,
              "ticks": ""
             }
            },
            "type": "scattercarpet"
           }
          ],
          "scattergeo": [
           {
            "marker": {
             "colorbar": {
              "outlinewidth": 0,
              "ticks": ""
             }
            },
            "type": "scattergeo"
           }
          ],
          "scattergl": [
           {
            "marker": {
             "colorbar": {
              "outlinewidth": 0,
              "ticks": ""
             }
            },
            "type": "scattergl"
           }
          ],
          "scattermapbox": [
           {
            "marker": {
             "colorbar": {
              "outlinewidth": 0,
              "ticks": ""
             }
            },
            "type": "scattermapbox"
           }
          ],
          "scatterpolar": [
           {
            "marker": {
             "colorbar": {
              "outlinewidth": 0,
              "ticks": ""
             }
            },
            "type": "scatterpolar"
           }
          ],
          "scatterpolargl": [
           {
            "marker": {
             "colorbar": {
              "outlinewidth": 0,
              "ticks": ""
             }
            },
            "type": "scatterpolargl"
           }
          ],
          "scatterternary": [
           {
            "marker": {
             "colorbar": {
              "outlinewidth": 0,
              "ticks": ""
             }
            },
            "type": "scatterternary"
           }
          ],
          "surface": [
           {
            "colorbar": {
             "outlinewidth": 0,
             "ticks": ""
            },
            "colorscale": [
             [
              0,
              "#0d0887"
             ],
             [
              0.1111111111111111,
              "#46039f"
             ],
             [
              0.2222222222222222,
              "#7201a8"
             ],
             [
              0.3333333333333333,
              "#9c179e"
             ],
             [
              0.4444444444444444,
              "#bd3786"
             ],
             [
              0.5555555555555556,
              "#d8576b"
             ],
             [
              0.6666666666666666,
              "#ed7953"
             ],
             [
              0.7777777777777778,
              "#fb9f3a"
             ],
             [
              0.8888888888888888,
              "#fdca26"
             ],
             [
              1,
              "#f0f921"
             ]
            ],
            "type": "surface"
           }
          ],
          "table": [
           {
            "cells": {
             "fill": {
              "color": "#EBF0F8"
             },
             "line": {
              "color": "white"
             }
            },
            "header": {
             "fill": {
              "color": "#C8D4E3"
             },
             "line": {
              "color": "white"
             }
            },
            "type": "table"
           }
          ]
         },
         "layout": {
          "annotationdefaults": {
           "arrowcolor": "#2a3f5f",
           "arrowhead": 0,
           "arrowwidth": 1
          },
          "autotypenumbers": "strict",
          "coloraxis": {
           "colorbar": {
            "outlinewidth": 0,
            "ticks": ""
           }
          },
          "colorscale": {
           "diverging": [
            [
             0,
             "#8e0152"
            ],
            [
             0.1,
             "#c51b7d"
            ],
            [
             0.2,
             "#de77ae"
            ],
            [
             0.3,
             "#f1b6da"
            ],
            [
             0.4,
             "#fde0ef"
            ],
            [
             0.5,
             "#f7f7f7"
            ],
            [
             0.6,
             "#e6f5d0"
            ],
            [
             0.7,
             "#b8e186"
            ],
            [
             0.8,
             "#7fbc41"
            ],
            [
             0.9,
             "#4d9221"
            ],
            [
             1,
             "#276419"
            ]
           ],
           "sequential": [
            [
             0,
             "#0d0887"
            ],
            [
             0.1111111111111111,
             "#46039f"
            ],
            [
             0.2222222222222222,
             "#7201a8"
            ],
            [
             0.3333333333333333,
             "#9c179e"
            ],
            [
             0.4444444444444444,
             "#bd3786"
            ],
            [
             0.5555555555555556,
             "#d8576b"
            ],
            [
             0.6666666666666666,
             "#ed7953"
            ],
            [
             0.7777777777777778,
             "#fb9f3a"
            ],
            [
             0.8888888888888888,
             "#fdca26"
            ],
            [
             1,
             "#f0f921"
            ]
           ],
           "sequentialminus": [
            [
             0,
             "#0d0887"
            ],
            [
             0.1111111111111111,
             "#46039f"
            ],
            [
             0.2222222222222222,
             "#7201a8"
            ],
            [
             0.3333333333333333,
             "#9c179e"
            ],
            [
             0.4444444444444444,
             "#bd3786"
            ],
            [
             0.5555555555555556,
             "#d8576b"
            ],
            [
             0.6666666666666666,
             "#ed7953"
            ],
            [
             0.7777777777777778,
             "#fb9f3a"
            ],
            [
             0.8888888888888888,
             "#fdca26"
            ],
            [
             1,
             "#f0f921"
            ]
           ]
          },
          "colorway": [
           "#636efa",
           "#EF553B",
           "#00cc96",
           "#ab63fa",
           "#FFA15A",
           "#19d3f3",
           "#FF6692",
           "#B6E880",
           "#FF97FF",
           "#FECB52"
          ],
          "font": {
           "color": "#2a3f5f"
          },
          "geo": {
           "bgcolor": "white",
           "lakecolor": "white",
           "landcolor": "#E5ECF6",
           "showlakes": true,
           "showland": true,
           "subunitcolor": "white"
          },
          "hoverlabel": {
           "align": "left"
          },
          "hovermode": "closest",
          "mapbox": {
           "style": "light"
          },
          "paper_bgcolor": "white",
          "plot_bgcolor": "#E5ECF6",
          "polar": {
           "angularaxis": {
            "gridcolor": "white",
            "linecolor": "white",
            "ticks": ""
           },
           "bgcolor": "#E5ECF6",
           "radialaxis": {
            "gridcolor": "white",
            "linecolor": "white",
            "ticks": ""
           }
          },
          "scene": {
           "xaxis": {
            "backgroundcolor": "#E5ECF6",
            "gridcolor": "white",
            "gridwidth": 2,
            "linecolor": "white",
            "showbackground": true,
            "ticks": "",
            "zerolinecolor": "white"
           },
           "yaxis": {
            "backgroundcolor": "#E5ECF6",
            "gridcolor": "white",
            "gridwidth": 2,
            "linecolor": "white",
            "showbackground": true,
            "ticks": "",
            "zerolinecolor": "white"
           },
           "zaxis": {
            "backgroundcolor": "#E5ECF6",
            "gridcolor": "white",
            "gridwidth": 2,
            "linecolor": "white",
            "showbackground": true,
            "ticks": "",
            "zerolinecolor": "white"
           }
          },
          "shapedefaults": {
           "line": {
            "color": "#2a3f5f"
           }
          },
          "ternary": {
           "aaxis": {
            "gridcolor": "white",
            "linecolor": "white",
            "ticks": ""
           },
           "baxis": {
            "gridcolor": "white",
            "linecolor": "white",
            "ticks": ""
           },
           "bgcolor": "#E5ECF6",
           "caxis": {
            "gridcolor": "white",
            "linecolor": "white",
            "ticks": ""
           }
          },
          "title": {
           "x": 0.05
          },
          "xaxis": {
           "automargin": true,
           "gridcolor": "white",
           "linecolor": "white",
           "ticks": "",
           "title": {
            "standoff": 15
           },
           "zerolinecolor": "white",
           "zerolinewidth": 2
          },
          "yaxis": {
           "automargin": true,
           "gridcolor": "white",
           "linecolor": "white",
           "ticks": "",
           "title": {
            "standoff": 15
           },
           "zerolinecolor": "white",
           "zerolinewidth": 2
          }
         }
        },
        "title": {
         "text": "Top biased words"
        },
        "width": 800,
        "xaxis": {
         "anchor": "y",
         "domain": [
          0,
          1
         ],
         "title": {
          "text": "score"
         }
        },
        "yaxis": {
         "anchor": "x",
         "domain": [
          0,
          1
         ],
         "title": {
          "text": "word"
         }
        }
       }
      }
     },
     "metadata": {},
     "output_type": "display_data"
    },
    {
     "data": {
      "application/vnd.plotly.v1+json": {
       "config": {
        "plotlyServerURL": "https://plot.ly"
       },
       "data": [
        {
         "alignmentgroup": "True",
         "hovertemplate": "score_type=centralized_similarity_score<br>score=%{x}<br>word=%{y}<extra></extra>",
         "legendgroup": "centralized_similarity_score",
         "marker": {
          "color": "#636efa",
          "pattern": {
           "shape": ""
          }
         },
         "name": "centralized_similarity_score",
         "offsetgroup": "centralized_similarity_score",
         "orientation": "h",
         "showlegend": true,
         "textposition": "auto",
         "type": "bar",
         "x": [
          -0.12057115426722004,
          -0.0896784981425873,
          -0.12958921594957187,
          -0.07486830039020262,
          -0.14235819381310238,
          -0.029098470967543293,
          -0.03435660306958182,
          -0.014805911491420161,
          0.038402820945098254,
          -0.04060072659573051,
          -0.03194385799829472,
          -0.2067488522066678,
          -0.05507807016940558,
          -0.0800652441896665,
          -0.04536586852301967,
          0.2703673051827139,
          0.30101409126282774,
          0.2614301901677939,
          0.23682355733824909,
          0.2923181360487631,
          0.23788456265489605,
          0.2282761496325772,
          0.2851401679626661,
          0.1864798126465894,
          0.2609263707561147,
          0.17583635368553266,
          0.23626491826807952,
          0.21572937524234442,
          0.16946401491027743,
          0.3190029114001292
         ],
         "xaxis": "x",
         "y": [
          "juan",
          "josé",
          "miguel",
          "luís",
          "jorge",
          "santiago",
          "matías",
          "sebastián",
          "mateo",
          "nicolás",
          "alejandro",
          "samuel",
          "diego",
          "daniel",
          "tomás",
          "juana",
          "ana",
          "luisa",
          "maría",
          "elena",
          "sofía",
          "isabella",
          "valentina",
          "camila",
          "valeria",
          "ximena",
          "luciana",
          "mariana",
          "victoria",
          "martina"
         ],
         "yaxis": "y"
        },
        {
         "alignmentgroup": "True",
         "hovertemplate": "score_type=simple_bias_score<br>score=%{x}<br>word=%{y}<extra></extra>",
         "legendgroup": "simple_bias_score",
         "marker": {
          "color": "#EF553B",
          "pattern": {
           "shape": ""
          }
         },
         "name": "simple_bias_score",
         "offsetgroup": "simple_bias_score",
         "orientation": "h",
         "showlegend": true,
         "textposition": "auto",
         "type": "bar",
         "x": [
          -0.06351725957579599,
          -0.055885106439236734,
          -0.09569432549844217,
          -0.055679513665619594,
          -0.10286211795531683,
          -0.03917932941255814,
          -0.0022922352280385083,
          0.01684255860721974,
          0.007086184598445915,
          -0.0054438029258699755,
          0.005861474683737954,
          -0.0919398913619318,
          -0.0051241234061778496,
          0.008863327763149825,
          0.010143862543775459,
          0.16333471751123943,
          0.20309670528771656,
          0.18360013197038283,
          0.1473073628243456,
          0.258243547402769,
          0.11504538242829085,
          0.1837805055458144,
          0.20405087796657645,
          0.16536452212078123,
          0.20144750986519988,
          0.11919469358681277,
          0.15257003705651068,
          0.1772103417259709,
          0.12454396469351794,
          0.2792985489954387
         ],
         "xaxis": "x",
         "y": [
          "juan",
          "josé",
          "miguel",
          "luís",
          "jorge",
          "santiago",
          "matías",
          "sebastián",
          "mateo",
          "nicolás",
          "alejandro",
          "samuel",
          "diego",
          "daniel",
          "tomás",
          "juana",
          "ana",
          "luisa",
          "maría",
          "elena",
          "sofía",
          "isabella",
          "valentina",
          "camila",
          "valeria",
          "ximena",
          "luciana",
          "mariana",
          "victoria",
          "martina"
         ],
         "yaxis": "y"
        }
       ],
       "layout": {
        "barmode": "group",
        "height": 1000,
        "legend": {
         "title": {
          "text": "score_type"
         },
         "tracegroupgap": 0
        },
        "template": {
         "data": {
          "bar": [
           {
            "error_x": {
             "color": "#2a3f5f"
            },
            "error_y": {
             "color": "#2a3f5f"
            },
            "marker": {
             "line": {
              "color": "#E5ECF6",
              "width": 0.5
             },
             "pattern": {
              "fillmode": "overlay",
              "size": 10,
              "solidity": 0.2
             }
            },
            "type": "bar"
           }
          ],
          "barpolar": [
           {
            "marker": {
             "line": {
              "color": "#E5ECF6",
              "width": 0.5
             },
             "pattern": {
              "fillmode": "overlay",
              "size": 10,
              "solidity": 0.2
             }
            },
            "type": "barpolar"
           }
          ],
          "carpet": [
           {
            "aaxis": {
             "endlinecolor": "#2a3f5f",
             "gridcolor": "white",
             "linecolor": "white",
             "minorgridcolor": "white",
             "startlinecolor": "#2a3f5f"
            },
            "baxis": {
             "endlinecolor": "#2a3f5f",
             "gridcolor": "white",
             "linecolor": "white",
             "minorgridcolor": "white",
             "startlinecolor": "#2a3f5f"
            },
            "type": "carpet"
           }
          ],
          "choropleth": [
           {
            "colorbar": {
             "outlinewidth": 0,
             "ticks": ""
            },
            "type": "choropleth"
           }
          ],
          "contour": [
           {
            "colorbar": {
             "outlinewidth": 0,
             "ticks": ""
            },
            "colorscale": [
             [
              0,
              "#0d0887"
             ],
             [
              0.1111111111111111,
              "#46039f"
             ],
             [
              0.2222222222222222,
              "#7201a8"
             ],
             [
              0.3333333333333333,
              "#9c179e"
             ],
             [
              0.4444444444444444,
              "#bd3786"
             ],
             [
              0.5555555555555556,
              "#d8576b"
             ],
             [
              0.6666666666666666,
              "#ed7953"
             ],
             [
              0.7777777777777778,
              "#fb9f3a"
             ],
             [
              0.8888888888888888,
              "#fdca26"
             ],
             [
              1,
              "#f0f921"
             ]
            ],
            "type": "contour"
           }
          ],
          "contourcarpet": [
           {
            "colorbar": {
             "outlinewidth": 0,
             "ticks": ""
            },
            "type": "contourcarpet"
           }
          ],
          "heatmap": [
           {
            "colorbar": {
             "outlinewidth": 0,
             "ticks": ""
            },
            "colorscale": [
             [
              0,
              "#0d0887"
             ],
             [
              0.1111111111111111,
              "#46039f"
             ],
             [
              0.2222222222222222,
              "#7201a8"
             ],
             [
              0.3333333333333333,
              "#9c179e"
             ],
             [
              0.4444444444444444,
              "#bd3786"
             ],
             [
              0.5555555555555556,
              "#d8576b"
             ],
             [
              0.6666666666666666,
              "#ed7953"
             ],
             [
              0.7777777777777778,
              "#fb9f3a"
             ],
             [
              0.8888888888888888,
              "#fdca26"
             ],
             [
              1,
              "#f0f921"
             ]
            ],
            "type": "heatmap"
           }
          ],
          "heatmapgl": [
           {
            "colorbar": {
             "outlinewidth": 0,
             "ticks": ""
            },
            "colorscale": [
             [
              0,
              "#0d0887"
             ],
             [
              0.1111111111111111,
              "#46039f"
             ],
             [
              0.2222222222222222,
              "#7201a8"
             ],
             [
              0.3333333333333333,
              "#9c179e"
             ],
             [
              0.4444444444444444,
              "#bd3786"
             ],
             [
              0.5555555555555556,
              "#d8576b"
             ],
             [
              0.6666666666666666,
              "#ed7953"
             ],
             [
              0.7777777777777778,
              "#fb9f3a"
             ],
             [
              0.8888888888888888,
              "#fdca26"
             ],
             [
              1,
              "#f0f921"
             ]
            ],
            "type": "heatmapgl"
           }
          ],
          "histogram": [
           {
            "marker": {
             "pattern": {
              "fillmode": "overlay",
              "size": 10,
              "solidity": 0.2
             }
            },
            "type": "histogram"
           }
          ],
          "histogram2d": [
           {
            "colorbar": {
             "outlinewidth": 0,
             "ticks": ""
            },
            "colorscale": [
             [
              0,
              "#0d0887"
             ],
             [
              0.1111111111111111,
              "#46039f"
             ],
             [
              0.2222222222222222,
              "#7201a8"
             ],
             [
              0.3333333333333333,
              "#9c179e"
             ],
             [
              0.4444444444444444,
              "#bd3786"
             ],
             [
              0.5555555555555556,
              "#d8576b"
             ],
             [
              0.6666666666666666,
              "#ed7953"
             ],
             [
              0.7777777777777778,
              "#fb9f3a"
             ],
             [
              0.8888888888888888,
              "#fdca26"
             ],
             [
              1,
              "#f0f921"
             ]
            ],
            "type": "histogram2d"
           }
          ],
          "histogram2dcontour": [
           {
            "colorbar": {
             "outlinewidth": 0,
             "ticks": ""
            },
            "colorscale": [
             [
              0,
              "#0d0887"
             ],
             [
              0.1111111111111111,
              "#46039f"
             ],
             [
              0.2222222222222222,
              "#7201a8"
             ],
             [
              0.3333333333333333,
              "#9c179e"
             ],
             [
              0.4444444444444444,
              "#bd3786"
             ],
             [
              0.5555555555555556,
              "#d8576b"
             ],
             [
              0.6666666666666666,
              "#ed7953"
             ],
             [
              0.7777777777777778,
              "#fb9f3a"
             ],
             [
              0.8888888888888888,
              "#fdca26"
             ],
             [
              1,
              "#f0f921"
             ]
            ],
            "type": "histogram2dcontour"
           }
          ],
          "mesh3d": [
           {
            "colorbar": {
             "outlinewidth": 0,
             "ticks": ""
            },
            "type": "mesh3d"
           }
          ],
          "parcoords": [
           {
            "line": {
             "colorbar": {
              "outlinewidth": 0,
              "ticks": ""
             }
            },
            "type": "parcoords"
           }
          ],
          "pie": [
           {
            "automargin": true,
            "type": "pie"
           }
          ],
          "scatter": [
           {
            "fillpattern": {
             "fillmode": "overlay",
             "size": 10,
             "solidity": 0.2
            },
            "type": "scatter"
           }
          ],
          "scatter3d": [
           {
            "line": {
             "colorbar": {
              "outlinewidth": 0,
              "ticks": ""
             }
            },
            "marker": {
             "colorbar": {
              "outlinewidth": 0,
              "ticks": ""
             }
            },
            "type": "scatter3d"
           }
          ],
          "scattercarpet": [
           {
            "marker": {
             "colorbar": {
              "outlinewidth": 0,
              "ticks": ""
             }
            },
            "type": "scattercarpet"
           }
          ],
          "scattergeo": [
           {
            "marker": {
             "colorbar": {
              "outlinewidth": 0,
              "ticks": ""
             }
            },
            "type": "scattergeo"
           }
          ],
          "scattergl": [
           {
            "marker": {
             "colorbar": {
              "outlinewidth": 0,
              "ticks": ""
             }
            },
            "type": "scattergl"
           }
          ],
          "scattermapbox": [
           {
            "marker": {
             "colorbar": {
              "outlinewidth": 0,
              "ticks": ""
             }
            },
            "type": "scattermapbox"
           }
          ],
          "scatterpolar": [
           {
            "marker": {
             "colorbar": {
              "outlinewidth": 0,
              "ticks": ""
             }
            },
            "type": "scatterpolar"
           }
          ],
          "scatterpolargl": [
           {
            "marker": {
             "colorbar": {
              "outlinewidth": 0,
              "ticks": ""
             }
            },
            "type": "scatterpolargl"
           }
          ],
          "scatterternary": [
           {
            "marker": {
             "colorbar": {
              "outlinewidth": 0,
              "ticks": ""
             }
            },
            "type": "scatterternary"
           }
          ],
          "surface": [
           {
            "colorbar": {
             "outlinewidth": 0,
             "ticks": ""
            },
            "colorscale": [
             [
              0,
              "#0d0887"
             ],
             [
              0.1111111111111111,
              "#46039f"
             ],
             [
              0.2222222222222222,
              "#7201a8"
             ],
             [
              0.3333333333333333,
              "#9c179e"
             ],
             [
              0.4444444444444444,
              "#bd3786"
             ],
             [
              0.5555555555555556,
              "#d8576b"
             ],
             [
              0.6666666666666666,
              "#ed7953"
             ],
             [
              0.7777777777777778,
              "#fb9f3a"
             ],
             [
              0.8888888888888888,
              "#fdca26"
             ],
             [
              1,
              "#f0f921"
             ]
            ],
            "type": "surface"
           }
          ],
          "table": [
           {
            "cells": {
             "fill": {
              "color": "#EBF0F8"
             },
             "line": {
              "color": "white"
             }
            },
            "header": {
             "fill": {
              "color": "#C8D4E3"
             },
             "line": {
              "color": "white"
             }
            },
            "type": "table"
           }
          ]
         },
         "layout": {
          "annotationdefaults": {
           "arrowcolor": "#2a3f5f",
           "arrowhead": 0,
           "arrowwidth": 1
          },
          "autotypenumbers": "strict",
          "coloraxis": {
           "colorbar": {
            "outlinewidth": 0,
            "ticks": ""
           }
          },
          "colorscale": {
           "diverging": [
            [
             0,
             "#8e0152"
            ],
            [
             0.1,
             "#c51b7d"
            ],
            [
             0.2,
             "#de77ae"
            ],
            [
             0.3,
             "#f1b6da"
            ],
            [
             0.4,
             "#fde0ef"
            ],
            [
             0.5,
             "#f7f7f7"
            ],
            [
             0.6,
             "#e6f5d0"
            ],
            [
             0.7,
             "#b8e186"
            ],
            [
             0.8,
             "#7fbc41"
            ],
            [
             0.9,
             "#4d9221"
            ],
            [
             1,
             "#276419"
            ]
           ],
           "sequential": [
            [
             0,
             "#0d0887"
            ],
            [
             0.1111111111111111,
             "#46039f"
            ],
            [
             0.2222222222222222,
             "#7201a8"
            ],
            [
             0.3333333333333333,
             "#9c179e"
            ],
            [
             0.4444444444444444,
             "#bd3786"
            ],
            [
             0.5555555555555556,
             "#d8576b"
            ],
            [
             0.6666666666666666,
             "#ed7953"
            ],
            [
             0.7777777777777778,
             "#fb9f3a"
            ],
            [
             0.8888888888888888,
             "#fdca26"
            ],
            [
             1,
             "#f0f921"
            ]
           ],
           "sequentialminus": [
            [
             0,
             "#0d0887"
            ],
            [
             0.1111111111111111,
             "#46039f"
            ],
            [
             0.2222222222222222,
             "#7201a8"
            ],
            [
             0.3333333333333333,
             "#9c179e"
            ],
            [
             0.4444444444444444,
             "#bd3786"
            ],
            [
             0.5555555555555556,
             "#d8576b"
            ],
            [
             0.6666666666666666,
             "#ed7953"
            ],
            [
             0.7777777777777778,
             "#fb9f3a"
            ],
            [
             0.8888888888888888,
             "#fdca26"
            ],
            [
             1,
             "#f0f921"
            ]
           ]
          },
          "colorway": [
           "#636efa",
           "#EF553B",
           "#00cc96",
           "#ab63fa",
           "#FFA15A",
           "#19d3f3",
           "#FF6692",
           "#B6E880",
           "#FF97FF",
           "#FECB52"
          ],
          "font": {
           "color": "#2a3f5f"
          },
          "geo": {
           "bgcolor": "white",
           "lakecolor": "white",
           "landcolor": "#E5ECF6",
           "showlakes": true,
           "showland": true,
           "subunitcolor": "white"
          },
          "hoverlabel": {
           "align": "left"
          },
          "hovermode": "closest",
          "mapbox": {
           "style": "light"
          },
          "paper_bgcolor": "white",
          "plot_bgcolor": "#E5ECF6",
          "polar": {
           "angularaxis": {
            "gridcolor": "white",
            "linecolor": "white",
            "ticks": ""
           },
           "bgcolor": "#E5ECF6",
           "radialaxis": {
            "gridcolor": "white",
            "linecolor": "white",
            "ticks": ""
           }
          },
          "scene": {
           "xaxis": {
            "backgroundcolor": "#E5ECF6",
            "gridcolor": "white",
            "gridwidth": 2,
            "linecolor": "white",
            "showbackground": true,
            "ticks": "",
            "zerolinecolor": "white"
           },
           "yaxis": {
            "backgroundcolor": "#E5ECF6",
            "gridcolor": "white",
            "gridwidth": 2,
            "linecolor": "white",
            "showbackground": true,
            "ticks": "",
            "zerolinecolor": "white"
           },
           "zaxis": {
            "backgroundcolor": "#E5ECF6",
            "gridcolor": "white",
            "gridwidth": 2,
            "linecolor": "white",
            "showbackground": true,
            "ticks": "",
            "zerolinecolor": "white"
           }
          },
          "shapedefaults": {
           "line": {
            "color": "#2a3f5f"
           }
          },
          "ternary": {
           "aaxis": {
            "gridcolor": "white",
            "linecolor": "white",
            "ticks": ""
           },
           "baxis": {
            "gridcolor": "white",
            "linecolor": "white",
            "ticks": ""
           },
           "bgcolor": "#E5ECF6",
           "caxis": {
            "gridcolor": "white",
            "linecolor": "white",
            "ticks": ""
           }
          },
          "title": {
           "x": 0.05
          },
          "xaxis": {
           "automargin": true,
           "gridcolor": "white",
           "linecolor": "white",
           "ticks": "",
           "title": {
            "standoff": 15
           },
           "zerolinecolor": "white",
           "zerolinewidth": 2
          },
          "yaxis": {
           "automargin": true,
           "gridcolor": "white",
           "linecolor": "white",
           "ticks": "",
           "title": {
            "standoff": 15
           },
           "zerolinecolor": "white",
           "zerolinewidth": 2
          }
         }
        },
        "title": {
         "text": "Top biased words"
        },
        "width": 800,
        "xaxis": {
         "anchor": "y",
         "domain": [
          0,
          1
         ],
         "title": {
          "text": "score"
         }
        },
        "yaxis": {
         "anchor": "x",
         "domain": [
          0,
          1
         ],
         "title": {
          "text": "word"
         }
        }
       }
      }
     },
     "metadata": {},
     "output_type": "display_data"
    }
   ],
   "source": [
    "#plot a bar plot of the top 20 most biased words with all the scores of the three methods\n",
    "import plotly_express as px\n",
    "\n",
    "\n",
    "def plot_top_biased_words(df, n_words=20):\n",
    "    df_top = df.head(n_words)\n",
    "    #remove the simple_bias_score column\n",
    "    #df_top = df_top.drop(columns=['simple_bias_score'])\n",
    "    df_top = df_top.reset_index()\n",
    "    df_top = df_top.rename(columns={'index': 'word'})\n",
    "    df_top = df_top.melt(\n",
    "        id_vars=['word'], var_name='score_type', value_name='score')\n",
    "    fig = px.bar(df_top, x=\"score\", y=\"word\",\n",
    "                 color=\"score_type\", barmode=\"group\", orientation='h',\n",
    "                 height=1000, width=800, title=\"Top biased words\")\n",
    "   \n",
    "    \n",
    "    fig.show()\n",
    "\n",
    "\n",
    "plot_top_biased_words(df_names_white, n_words=50)\n",
    "plot_top_biased_words(df_names_black, n_words=50)\n",
    "plot_top_biased_words(df_names_hispanic, n_words=50)\n"
   ]
  },
  {
   "attachments": {},
   "cell_type": "markdown",
   "metadata": {},
   "source": [
    "1.2 Neutral words associated with ethnic names"
   ]
  },
  {
   "cell_type": "code",
   "execution_count": 22,
   "metadata": {},
   "outputs": [],
   "source": [
    "from Scripts.Evaluation import *"
   ]
  },
  {
   "cell_type": "code",
   "execution_count": 23,
   "metadata": {},
   "outputs": [],
   "source": [
    "def get_frequency_neutral_words(names, neutral_words, dict_vect_debiased, vocab_debiased, vectors_debiased, w2i_debiased, neighbours_num=50):\n",
    "    \"\"\"\"\n",
    "    Function to get the frequency of the original neighbors among the 50 nearest neighbors of selected words\n",
    "    :param list_words: list of words to compute the bias for\n",
    "    :param list_neigh: list of the neighbors for each word of the dictionary k_neigh\n",
    "    :param dict_vect_debiased: dictionary of words and their embeddings\n",
    "    :param vocab_debiased: list of words in the vocabulary\n",
    "    :param vectors_debiased: list of embeddings\n",
    "    :param w2i_debiased: dictionary of words and their indices\n",
    "    :param neighbours_num: number of neighbors to find\n",
    "    :return: list of the frequency of the original neighbors among the 50 nearest neighbors of selected words\n",
    "    \"\"\"\n",
    "    scores = []\n",
    "    for word in tqdm(set(names)):\n",
    "        which_words=[]\n",
    "        #get the top 50 neighbors of the word\n",
    "        _, top = get_topK_neighbors(word, dict_vect_debiased, vocab_debiased, vectors_debiased, w2i_debiased,\n",
    "                                    k=neighbours_num)\n",
    "\n",
    "        count = 0\n",
    "        #check if the original neighbors are in the top 50\n",
    "        for t in top:\n",
    "            if t in set(neutral_words):\n",
    "                print(t)\n",
    "                count += 1\n",
    "                which_words.append(t)\n",
    "\n",
    "        scores.append([word, which_words, count, count/neighbours_num])\n",
    "        #print(top)\n",
    "    return scores\n"
   ]
  },
  {
   "cell_type": "code",
   "execution_count": 24,
   "metadata": {},
   "outputs": [
    {
     "data": {
      "text/plain": [
       "['manager',\n",
       " 'executive',\n",
       " 'doctor',\n",
       " 'lawyer',\n",
       " 'programmer',\n",
       " 'scientist',\n",
       " 'soldier',\n",
       " 'supervisor',\n",
       " 'rancher',\n",
       " 'janitor',\n",
       " 'firefighter',\n",
       " 'officer',\n",
       " 'secretary',\n",
       " 'nurse',\n",
       " 'clerk',\n",
       " 'artist',\n",
       " 'homemaker',\n",
       " 'dancer',\n",
       " 'singer',\n",
       " 'librarian',\n",
       " 'maid',\n",
       " 'hairdresser',\n",
       " 'stylist',\n",
       " 'receptionist',\n",
       " 'counselor',\n",
       " 'leader',\n",
       " 'farmer',\n",
       " 'engineer',\n",
       " 'laborer',\n",
       " 'teacher',\n",
       " 'slave',\n",
       " 'musician',\n",
       " 'runner',\n",
       " 'criminal',\n",
       " 'homeless',\n",
       " 'greedy',\n",
       " 'cheap',\n",
       " 'hairy',\n",
       " 'liberal',\n",
       " 'judgemental',\n",
       " 'conservative',\n",
       " 'familial',\n",
       " 'violent',\n",
       " 'terrorist',\n",
       " 'dirty',\n",
       " 'uneducated',\n",
       " 'educated']"
      ]
     },
     "execution_count": 24,
     "metadata": {},
     "output_type": "execute_result"
    }
   ],
   "source": [
    "neutral_words"
   ]
  },
  {
   "cell_type": "code",
   "execution_count": 25,
   "metadata": {},
   "outputs": [
    {
     "name": "stderr",
     "output_type": "stream",
     "text": [
      " 17%|█▋        | 8/48 [00:14<01:10,  1.77s/it]"
     ]
    },
    {
     "name": "stdout",
     "output_type": "stream",
     "text": [
      "executive\n",
      "manager\n"
     ]
    },
    {
     "name": "stderr",
     "output_type": "stream",
     "text": [
      " 25%|██▌       | 12/48 [00:21<01:03,  1.76s/it]"
     ]
    },
    {
     "name": "stdout",
     "output_type": "stream",
     "text": [
      "singer\n"
     ]
    },
    {
     "name": "stderr",
     "output_type": "stream",
     "text": [
      " 29%|██▉       | 14/48 [00:24<00:59,  1.76s/it]"
     ]
    },
    {
     "name": "stdout",
     "output_type": "stream",
     "text": [
      "executive\n"
     ]
    },
    {
     "name": "stderr",
     "output_type": "stream",
     "text": [
      " 67%|██████▋   | 32/48 [00:56<00:28,  1.77s/it]"
     ]
    },
    {
     "name": "stdout",
     "output_type": "stream",
     "text": [
      "manager\n"
     ]
    },
    {
     "name": "stderr",
     "output_type": "stream",
     "text": [
      "100%|██████████| 48/48 [01:24<00:00,  1.77s/it]\n",
      "  2%|▏         | 1/48 [00:01<01:13,  1.56s/it]"
     ]
    },
    {
     "name": "stdout",
     "output_type": "stream",
     "text": [
      "musician\n"
     ]
    },
    {
     "name": "stderr",
     "output_type": "stream",
     "text": [
      "  8%|▊         | 4/48 [00:06<01:09,  1.57s/it]"
     ]
    },
    {
     "name": "stdout",
     "output_type": "stream",
     "text": [
      "counselor\n"
     ]
    },
    {
     "name": "stderr",
     "output_type": "stream",
     "text": [
      " 17%|█▋        | 8/48 [00:12<01:03,  1.58s/it]"
     ]
    },
    {
     "name": "stdout",
     "output_type": "stream",
     "text": [
      "executive\n"
     ]
    },
    {
     "name": "stderr",
     "output_type": "stream",
     "text": [
      " 19%|█▉        | 9/48 [00:14<01:01,  1.58s/it]"
     ]
    },
    {
     "name": "stdout",
     "output_type": "stream",
     "text": [
      "scientist\n",
      "secretary\n"
     ]
    },
    {
     "name": "stderr",
     "output_type": "stream",
     "text": [
      " 35%|███▌      | 17/48 [00:26<00:49,  1.58s/it]"
     ]
    },
    {
     "name": "stdout",
     "output_type": "stream",
     "text": [
      "liberal\n"
     ]
    },
    {
     "name": "stderr",
     "output_type": "stream",
     "text": [
      " 42%|████▏     | 20/48 [00:31<00:44,  1.58s/it]"
     ]
    },
    {
     "name": "stdout",
     "output_type": "stream",
     "text": [
      "secretary\n"
     ]
    },
    {
     "name": "stderr",
     "output_type": "stream",
     "text": [
      " 62%|██████▎   | 30/48 [00:47<00:28,  1.57s/it]"
     ]
    },
    {
     "name": "stdout",
     "output_type": "stream",
     "text": [
      "homeless\n"
     ]
    },
    {
     "name": "stderr",
     "output_type": "stream",
     "text": [
      " 67%|██████▋   | 32/48 [00:50<00:25,  1.57s/it]"
     ]
    },
    {
     "name": "stdout",
     "output_type": "stream",
     "text": [
      "dirty\n"
     ]
    },
    {
     "name": "stderr",
     "output_type": "stream",
     "text": [
      " 81%|████████▏ | 39/48 [01:01<00:14,  1.57s/it]"
     ]
    },
    {
     "name": "stdout",
     "output_type": "stream",
     "text": [
      "executive\n"
     ]
    },
    {
     "name": "stderr",
     "output_type": "stream",
     "text": [
      " 90%|████████▉ | 43/48 [01:07<00:07,  1.57s/it]"
     ]
    },
    {
     "name": "stdout",
     "output_type": "stream",
     "text": [
      "homeless\n"
     ]
    },
    {
     "name": "stderr",
     "output_type": "stream",
     "text": [
      " 96%|█████████▌| 46/48 [01:12<00:03,  1.58s/it]"
     ]
    },
    {
     "name": "stdout",
     "output_type": "stream",
     "text": [
      "counselor\n"
     ]
    },
    {
     "name": "stderr",
     "output_type": "stream",
     "text": [
      "100%|██████████| 48/48 [01:15<00:00,  1.58s/it]\n"
     ]
    }
   ],
   "source": [
    "#frequencies of neighbors\n",
    "neutral_on_white=get_frequency_neutral_words(\n",
    "    names_white_emb, neutral_words, dict_vectors, vocab_cleaned, vectors_cleaned, word2idx_cleaned, neighbours_num=100)\n",
    "\n",
    "neutral_on_white_deb = get_frequency_neutral_words(\n",
    "    names_white_emb, neutral_words, deb_dict_gender, deb_vocab_gender, deb_vect_gender, deb_word2idx_gender, neighbours_num=100)\n"
   ]
  },
  {
   "cell_type": "code",
   "execution_count": 26,
   "metadata": {},
   "outputs": [
    {
     "name": "stderr",
     "output_type": "stream",
     "text": [
      "100%|██████████| 39/39 [01:09<00:00,  1.79s/it]\n",
      " 49%|████▊     | 19/39 [00:29<00:31,  1.56s/it]"
     ]
    },
    {
     "name": "stdout",
     "output_type": "stream",
     "text": [
      "counselor\n"
     ]
    },
    {
     "name": "stderr",
     "output_type": "stream",
     "text": [
      "100%|██████████| 39/39 [01:00<00:00,  1.56s/it]\n"
     ]
    }
   ],
   "source": [
    "neutral_on_black = get_frequency_neutral_words(\n",
    "    names_black_emb, neutral_words, dict_vectors, vocab_cleaned, vectors_cleaned, word2idx_cleaned, neighbours_num=100)\n",
    "\n",
    "\n",
    "neutral_on_black_deb = get_frequency_neutral_words(\n",
    "    names_black_emb, neutral_words, deb_dict_gender, deb_vocab_gender, deb_vect_gender, deb_word2idx_gender, neighbours_num=100)\n"
   ]
  },
  {
   "cell_type": "code",
   "execution_count": 27,
   "metadata": {},
   "outputs": [
    {
     "data": {
      "text/plain": [
       "[['alonzo', [], 0, 0.0],\n",
       " ['tyree', [], 0, 0.0],\n",
       " ['torrance', [], 0, 0.0],\n",
       " ['malik', [], 0, 0.0],\n",
       " ['theo', [], 0, 0.0],\n",
       " ['alphonse', [], 0, 0.0],\n",
       " ['latoya', [], 0, 0.0],\n",
       " ['latisha', [], 0, 0.0],\n",
       " ['temeka', [], 0, 0.0],\n",
       " ['shaniqua', [], 0, 0.0],\n",
       " ['marcellus', [], 0, 0.0],\n",
       " ['tawanda', [], 0, 0.0],\n",
       " ['lamont', [], 0, 0.0],\n",
       " ['lamar', [], 0, 0.0],\n",
       " ['shereen', [], 0, 0.0],\n",
       " ['jasmine', [], 0, 0.0],\n",
       " ['latonya', [], 0, 0.0],\n",
       " ['wardell', [], 0, 0.0],\n",
       " ['jerome', ['counselor'], 1, 0.01],\n",
       " ['lavon', [], 0, 0.0],\n",
       " ['darnell', [], 0, 0.0],\n",
       " ['deion', [], 0, 0.0],\n",
       " ['rashaun', [], 0, 0.0],\n",
       " ['terrence', [], 0, 0.0],\n",
       " ['leroy', [], 0, 0.0],\n",
       " ['lakisha', [], 0, 0.0],\n",
       " ['lerone', [], 0, 0.0],\n",
       " ['nichelle', [], 0, 0.0],\n",
       " ['jamel', [], 0, 0.0],\n",
       " ['ebony', [], 0, 0.0],\n",
       " ['tyrone', [], 0, 0.0],\n",
       " ['tanisha', [], 0, 0.0],\n",
       " ['lionel', [], 0, 0.0],\n",
       " ['yolanda', [], 0, 0.0],\n",
       " ['malika', [], 0, 0.0],\n",
       " ['jamal', [], 0, 0.0],\n",
       " ['tia', [], 0, 0.0],\n",
       " ['terryl', [], 0, 0.0],\n",
       " ['yvette', [], 0, 0.0]]"
      ]
     },
     "execution_count": 27,
     "metadata": {},
     "output_type": "execute_result"
    }
   ],
   "source": [
    "neutral_on_black_deb\n"
   ]
  },
  {
   "cell_type": "code",
   "execution_count": 28,
   "metadata": {},
   "outputs": [
    {
     "name": "stderr",
     "output_type": "stream",
     "text": [
      "100%|██████████| 30/30 [00:53<00:00,  1.78s/it]\n",
      "  3%|▎         | 1/30 [00:01<00:45,  1.57s/it]"
     ]
    },
    {
     "name": "stdout",
     "output_type": "stream",
     "text": [
      "janitor\n"
     ]
    },
    {
     "name": "stderr",
     "output_type": "stream",
     "text": [
      " 57%|█████▋    | 17/30 [00:26<00:20,  1.58s/it]"
     ]
    },
    {
     "name": "stdout",
     "output_type": "stream",
     "text": [
      "scientist\n"
     ]
    },
    {
     "name": "stderr",
     "output_type": "stream",
     "text": [
      " 63%|██████▎   | 19/30 [00:29<00:17,  1.59s/it]"
     ]
    },
    {
     "name": "stdout",
     "output_type": "stream",
     "text": [
      "leader\n",
      "runner\n"
     ]
    },
    {
     "name": "stderr",
     "output_type": "stream",
     "text": [
      " 73%|███████▎  | 22/30 [00:34<00:12,  1.59s/it]"
     ]
    },
    {
     "name": "stdout",
     "output_type": "stream",
     "text": [
      "runner\n",
      "executive\n"
     ]
    },
    {
     "name": "stderr",
     "output_type": "stream",
     "text": [
      " 90%|█████████ | 27/30 [00:42<00:04,  1.59s/it]"
     ]
    },
    {
     "name": "stdout",
     "output_type": "stream",
     "text": [
      "musician\n"
     ]
    },
    {
     "name": "stderr",
     "output_type": "stream",
     "text": [
      "100%|██████████| 30/30 [00:47<00:00,  1.58s/it]\n"
     ]
    }
   ],
   "source": [
    "neutral_on_hispanic = get_frequency_neutral_words(\n",
    "    names_hispanic_emb, neutral_words, dict_vectors, vocab_cleaned, vectors_cleaned, word2idx_cleaned, neighbours_num=100)\n",
    "\n",
    "neutral_on_hispanic_deb = get_frequency_neutral_words(\n",
    "    names_hispanic_emb, neutral_words, deb_dict_gender, deb_vocab_gender, deb_vect_gender, deb_word2idx_gender, neighbours_num=100)\n"
   ]
  },
  {
   "cell_type": "code",
   "execution_count": 30,
   "metadata": {},
   "outputs": [],
   "source": [
    "\n",
    "#df2 = pd.DataFrame(neig_freq2, columns=['word', 'previous_neighbours', 'freq'])\n",
    "#merge the two dataframes on the word column\n",
    "#merge df and df average on word\n",
    "#df_merged_punct = df2.merge(df_average, on='word')\n",
    "#df=pd.concat([df,df_merged], axis=1, keys='words')\n"
   ]
  },
  {
   "cell_type": "code",
   "execution_count": 25,
   "metadata": {},
   "outputs": [],
   "source": [
    "#WEAT\n",
    "# Auxiliary functions for experiments by Caliskan et al.\n",
    "\n",
    "import scipy\n",
    "import scipy.misc as misc\n",
    "import itertools\n",
    "\n",
    "\n",
    "def similarity(word_dict, word1, word2):\n",
    "\n",
    "    \n",
    "    vec1 = word_dict[word1]\n",
    "    vec2 = word_dict[word2]\n",
    "\n",
    "    return cosine_similarity(vec1, vec2)\n",
    "\n",
    "def s_word(word_dict,w, A, B,all_s_words):\n",
    "\n",
    "    if w in all_s_words:\n",
    "        return all_s_words[w]\n",
    "\n",
    "    mean_a = []\n",
    "    mean_b = []\n",
    "\n",
    "    for a in A:\n",
    "        mean_a.append(similarity(word_dict,w, a))\n",
    "    for b in B:\n",
    "        mean_b.append(similarity(word_dict,w, b))\n",
    "\n",
    "    mean_a = sum(mean_a)/float(len(mean_a))\n",
    "    mean_b = sum(mean_b)/float(len(mean_b))\n",
    "\n",
    "    all_s_words[w] = mean_a - mean_b\n",
    "\n",
    "    return all_s_words[w]\n",
    "\n",
    "\n",
    "def s_group(word_dict,X, Y, A, B,all_s_words):\n",
    "\n",
    "    total = 0\n",
    "    for x in X:\n",
    "        total += s_word(word_dict,x, A, B,all_s_words)\n",
    "    for y in Y:\n",
    "        total -= s_word(word_dict,y, A, B, all_s_words)\n",
    "\n",
    "    return total\n",
    "\n",
    "\n",
    "def p_value_exhust(word_dict,X, Y, A, B):\n",
    "\n",
    "    if len(X) > 20:\n",
    "        print('might take too long, use sampled version: p_value')\n",
    "        return\n",
    "\n",
    "    assert(len(X) == len(Y))\n",
    "\n",
    "    all_s_words = {}\n",
    "    s_orig = s_group(word_dict,X, Y, A, B, all_s_words)\n",
    "\n",
    "    union = set(X+Y)\n",
    "    subset_size = len(union)/2\n",
    "\n",
    "    larger = 0\n",
    "    total = 0\n",
    "    for subset in tqdm(set(itertools.combinations(union, int(subset_size)))):\n",
    "        total += 1\n",
    "        Xi = list(set(subset))\n",
    "        Yi = list(union - set(subset))\n",
    "        if s_group(word_dict,Xi, Yi, A, B, all_s_words) > s_orig:\n",
    "            larger += 1\n",
    "    print('num of samples', total)\n",
    "    #print(all_s_words)\n",
    "    return larger/float(total)\n",
    "\n",
    "\n",
    "def p_value_sample(word_dict,X, Y, A, B):\n",
    "\n",
    "    np.random.seed(42)\n",
    "    \n",
    "    all_s_words = {}\n",
    "\n",
    "    assert(len(X) == len(Y))\n",
    "    length = len(X)\n",
    "\n",
    "    s_orig = s_group(word_dict, X, Y, A, B, all_s_words)\n",
    "\n",
    "    num_of_samples = min(1000000, int(\n",
    "        scipy.special.comb(length*2, length)*100))\n",
    "    print('num of samples', num_of_samples)\n",
    "    larger = 0\n",
    "    for i in range(num_of_samples):\n",
    "        permute = np.random.permutation(X+Y)\n",
    "        Xi = permute[:length]\n",
    "        Yi = permute[length:]\n",
    "        if s_group(word_dict,Xi, Yi, A, B, all_s_words) > s_orig:\n",
    "            larger += 1\n",
    "\n",
    "    return larger/float(num_of_samples)\n"
   ]
  },
  {
   "cell_type": "code",
   "execution_count": 26,
   "metadata": {},
   "outputs": [],
   "source": [
    "\n",
    "def effect_size(X, Y, A, B,  wv, w2i, vocab):\n",
    "\n",
    "    assert(len(X) == len(Y))\n",
    "    assert(len(A) == len(B))\n",
    "\n",
    "    norm_x = []\n",
    "    norm_y = []\n",
    "\n",
    "    for x in X:\n",
    "        norm_x.append(association_diff(x, A, B, wv, w2i))\n",
    "    for y in Y:\n",
    "        norm_y.append(association_diff(y, A, B, wv, w2i))\n",
    "\n",
    "    std = np.std(norm_x+norm_y, ddof=1)\n",
    "    norm_x = sum(norm_x) / float(len(norm_x))\n",
    "    norm_y = sum(norm_y) / float(len(norm_y))\n",
    "\n",
    "    return (norm_x-norm_y)/std\n"
   ]
  },
  {
   "cell_type": "code",
   "execution_count": 27,
   "metadata": {},
   "outputs": [
    {
     "name": "stderr",
     "output_type": "stream",
     "text": [
      "100%|██████████| 12870/12870 [00:00<00:00, 241526.51it/s]\n"
     ]
    },
    {
     "name": "stdout",
     "output_type": "stream",
     "text": [
      "num of samples 12870\n",
      "7.77000777000777e-05\n"
     ]
    },
    {
     "name": "stderr",
     "output_type": "stream",
     "text": [
      "100%|██████████| 12870/12870 [00:00<00:00, 242017.05it/s]\n"
     ]
    },
    {
     "name": "stdout",
     "output_type": "stream",
     "text": [
      "num of samples 12870\n",
      "0.0005439005439005439\n"
     ]
    },
    {
     "name": "stderr",
     "output_type": "stream",
     "text": [
      "100%|██████████| 12870/12870 [00:00<00:00, 247110.03it/s]\n"
     ]
    },
    {
     "name": "stdout",
     "output_type": "stream",
     "text": [
      "num of samples 12870\n",
      "0.0\n"
     ]
    },
    {
     "name": "stderr",
     "output_type": "stream",
     "text": [
      "100%|██████████| 12870/12870 [00:00<00:00, 246660.63it/s]"
     ]
    },
    {
     "name": "stdout",
     "output_type": "stream",
     "text": [
      "num of samples 12870\n",
      "0.34444444444444444\n"
     ]
    },
    {
     "name": "stderr",
     "output_type": "stream",
     "text": [
      "\n"
     ]
    }
   ],
   "source": [
    "# Experiment 1\n",
    "\n",
    "A = ['john', 'paul', 'mike', 'kevin', 'steve', 'greg', 'jeff', 'bill']\n",
    "B = ['amy', 'joan', 'lisa', 'sarah', 'diana', 'kate', 'ann', 'donna']\n",
    "C = ['executive', 'management', 'professional',\n",
    "     'corporation', 'salary', 'office', 'business', 'career']\n",
    "D = ['home', 'parents', 'children', 'family',\n",
    "     'cousins', 'marriage', 'wedding', 'relatives']\n",
    "\n",
    "print(p_value_exhust(dict_vec_cleaned,A, B, C, D))\n",
    "\n",
    "\n",
    "# Experiment 2\n",
    "\n",
    "E = ['math', 'algebra', 'geometry', 'calculus',\n",
    "     'equations', 'computation', 'numbers', 'addition']\n",
    "F = ['poetry', 'art', 'dance', 'literature',\n",
    "     'novel', 'symphony', 'drama', 'sculpture']\n",
    "\n",
    "print(p_value_exhust(dict_vec_cleaned,A, B, E, F))\n",
    "\n",
    "low_wage_occupations=['janitor', 'maid', 'clerk', 'assistant', 'laborer', 'operator', 'helper', 'fireman', 'guard', 'carpenter', 'electrician', 'plumber', 'mechanic', 'cook', 'waiter', 'porter', 'cleaner', 'tailor', 'mechanic', 'hairdresser', 'janitor', 'maid', 'clerk', 'assistant', 'laborer', 'operator', 'helper', 'fireman', 'guard', 'carpenter', 'electrician', 'plumber', 'mechanic', 'cook', 'waiter', 'porter', 'cleaner', 'tailor', 'mechanic', 'hairdresser', 'janitor', 'maid', 'clerk', 'assistant', 'laborer', 'operator', 'helper', 'fireman', 'guard', 'carpenter', 'electrician', 'plumber', 'mechanic', 'cook', 'waiter', 'porter', 'cleaner', 'tailor', 'mechanic', 'hairdresser', 'janitor', 'maid', 'clerk', 'assistant', 'laborer', 'operator', 'helper', 'fireman', 'guard', 'carpenter', 'electrician', 'plumber', 'mechanic', 'cook', 'waiter', 'porter', 'cleaner', 'tailor', 'mechanic', 'hairdresser', 'janitor', 'maid', 'clerk', 'assistant', 'laborer', 'operator', 'helper', 'fireman', 'guard', 'carpenter', 'electrician', 'plumber', 'mechanic', 'cook', 'waiter', 'porter', 'cleaner', 'tailor', 'mechanic', 'hairdresser', 'janitor', 'maid', 'clerk', 'assistant', 'laborer', 'operator', 'helper', 'fireman', 'guard', 'carpenter', 'electrician', 'plumber', 'mechanic', 'cook', 'waiter', 'porter', 'cleaner', 'tailor', 'mechanic', 'hairdresser', 'janitor', 'maid', 'clerk', 'assistant', 'laborer', 'operator', 'helper', 'fireman', 'guard',]\n",
    "\n",
    "# Experiment 3\n",
    "\n",
    "G = ['science', 'technology', 'physics', 'chemistry',\n",
    "     'einstein', 'nasa', 'experiment', 'astronomy']\n",
    "H = ['poetry', 'art', 'shakespeare', 'dance',\n",
    "     'literature', 'novel', 'symphony', 'drama']\n",
    "\n",
    "print(p_value_exhust(dict_vec_cleaned,A, B, G, H))\n",
    "\n",
    "pleasant = [\"caress\", \"freedom\", \"health\", \"love\", \"peace\", \"cheer\", \"friend\", \"heaven\", \"loyal\", \"pleasure\", \"diamond\", \"gentle\",\n",
    "            \"honest\", \"lucky\", \"rainbow\", \"diploma\", \"gift\", \"honor\", \"miracle\", \"sunrise\", \"family\", \"happy\", \"laughter\", \"paradise\", \"vacation\"]\n",
    "\n",
    "unpleasant=[\"abuse\",\"crash\",\"filth\",\"murder\",\"sickness\",\"accident\",\"death\",\"grief\",\"poison\",\"stink\",\"assault\",\"disaster\",\"hatred\",\"pollute\",\"tragedy\",\"bomb\",\"divorce\",\"jail\",\"poverty\",\"ugly\",\"cancer\",\"evil\",\"kill\",\"rotten\",\"vomit\"]\n",
    "\n",
    "\n",
    "print(p_value_exhust(dict_vec_cleaned,A, B, pleasant, unpleasant))"
   ]
  },
  {
   "cell_type": "code",
   "execution_count": 28,
   "metadata": {},
   "outputs": [
    {
     "name": "stderr",
     "output_type": "stream",
     "text": [
      "100%|██████████| 12870/12870 [00:00<00:00, 240246.26it/s]\n"
     ]
    },
    {
     "name": "stdout",
     "output_type": "stream",
     "text": [
      "num of samples 12870\n",
      "0.002874902874902875\n"
     ]
    },
    {
     "name": "stderr",
     "output_type": "stream",
     "text": [
      "100%|██████████| 12870/12870 [00:00<00:00, 243510.57it/s]\n"
     ]
    },
    {
     "name": "stdout",
     "output_type": "stream",
     "text": [
      "num of samples 12870\n",
      "0.7176379176379176\n"
     ]
    },
    {
     "name": "stderr",
     "output_type": "stream",
     "text": [
      "100%|██████████| 12870/12870 [00:00<00:00, 245221.88it/s]\n"
     ]
    },
    {
     "name": "stdout",
     "output_type": "stream",
     "text": [
      "num of samples 12870\n",
      "0.671095571095571\n"
     ]
    },
    {
     "name": "stderr",
     "output_type": "stream",
     "text": [
      "100%|██████████| 12870/12870 [00:00<00:00, 246864.80it/s]"
     ]
    },
    {
     "name": "stdout",
     "output_type": "stream",
     "text": [
      "num of samples 12870\n",
      "0.662004662004662\n"
     ]
    },
    {
     "name": "stderr",
     "output_type": "stream",
     "text": [
      "\n"
     ]
    }
   ],
   "source": [
    "print(p_value_exhust(deb_dict_gender,A, B, C, D))\n",
    "print(p_value_exhust(deb_dict_gender, A, B, E, F))\n",
    "print(p_value_exhust(deb_dict_gender, A, B, G, H))\n",
    "\n",
    "print(p_value_exhust(deb_dict_gender,A, B, pleasant, unpleasant))"
   ]
  },
  {
   "cell_type": "code",
   "execution_count": 29,
   "metadata": {},
   "outputs": [],
   "source": [
    "male_black_names=names_black_emb[:8]\n",
    "male_white_names=names_white_emb[:8]\n",
    "female_black_names=names_black_emb[-8:]\n",
    "female_white_names=names_white_emb[-8:]\n",
    "neutral_test=neutral_words[-9:-1]"
   ]
  },
  {
   "cell_type": "code",
   "execution_count": 30,
   "metadata": {},
   "outputs": [
    {
     "name": "stdout",
     "output_type": "stream",
     "text": [
      "Black and white male names with career and family\n"
     ]
    },
    {
     "name": "stderr",
     "output_type": "stream",
     "text": [
      "100%|██████████| 12870/12870 [00:00<00:00, 239816.13it/s]\n"
     ]
    },
    {
     "name": "stdout",
     "output_type": "stream",
     "text": [
      "num of samples 12870\n",
      "0.8673659673659674\n",
      "num of samples 1000000\n",
      "0.867311\n"
     ]
    },
    {
     "name": "stderr",
     "output_type": "stream",
     "text": [
      "100%|██████████| 12870/12870 [00:00<00:00, 245934.67it/s]\n"
     ]
    },
    {
     "name": "stdout",
     "output_type": "stream",
     "text": [
      "num of samples 12870\n",
      "0.5536130536130536\n",
      "Black and white male names with math and arts\n"
     ]
    },
    {
     "name": "stderr",
     "output_type": "stream",
     "text": [
      "100%|██████████| 12870/12870 [00:00<00:00, 249633.24it/s]\n"
     ]
    },
    {
     "name": "stdout",
     "output_type": "stream",
     "text": [
      "num of samples 12870\n",
      "0.015073815073815075\n"
     ]
    },
    {
     "name": "stderr",
     "output_type": "stream",
     "text": [
      "100%|██████████| 12870/12870 [00:00<00:00, 249124.03it/s]\n"
     ]
    },
    {
     "name": "stdout",
     "output_type": "stream",
     "text": [
      "num of samples 12870\n",
      "0.017094017094017096\n",
      "Black and white male names with science and arts\n"
     ]
    },
    {
     "name": "stderr",
     "output_type": "stream",
     "text": [
      "100%|██████████| 12870/12870 [00:00<00:00, 245319.95it/s]\n"
     ]
    },
    {
     "name": "stdout",
     "output_type": "stream",
     "text": [
      "num of samples 12870\n",
      "0.4267288267288267\n"
     ]
    },
    {
     "name": "stderr",
     "output_type": "stream",
     "text": [
      "100%|██████████| 12870/12870 [00:00<00:00, 248264.71it/s]\n"
     ]
    },
    {
     "name": "stdout",
     "output_type": "stream",
     "text": [
      "num of samples 12870\n",
      "0.155011655011655\n",
      "Black and white male names with career and values (liberality, education, violence)\n"
     ]
    },
    {
     "name": "stderr",
     "output_type": "stream",
     "text": [
      "100%|██████████| 12870/12870 [00:00<00:00, 247534.97it/s]\n"
     ]
    },
    {
     "name": "stdout",
     "output_type": "stream",
     "text": [
      "num of samples 12870\n",
      "0.9999222999223\n"
     ]
    },
    {
     "name": "stderr",
     "output_type": "stream",
     "text": [
      "100%|██████████| 12870/12870 [00:00<00:00, 247829.31it/s]\n"
     ]
    },
    {
     "name": "stdout",
     "output_type": "stream",
     "text": [
      "num of samples 12870\n",
      "0.9344211344211344\n",
      "Black and white male names with career and low_wage_occupations\n"
     ]
    },
    {
     "name": "stderr",
     "output_type": "stream",
     "text": [
      "100%|██████████| 12870/12870 [00:00<00:00, 250417.24it/s]\n"
     ]
    },
    {
     "name": "stdout",
     "output_type": "stream",
     "text": [
      "num of samples 12870\n",
      "1.0\n"
     ]
    },
    {
     "name": "stderr",
     "output_type": "stream",
     "text": [
      "100%|██████████| 12870/12870 [00:00<00:00, 238917.11it/s]\n"
     ]
    },
    {
     "name": "stdout",
     "output_type": "stream",
     "text": [
      "num of samples 12870\n",
      "0.9917637917637918\n",
      "Black and white male names with pleasant and unpleasant words\n"
     ]
    },
    {
     "name": "stderr",
     "output_type": "stream",
     "text": [
      "100%|██████████| 12870/12870 [00:00<00:00, 248984.99it/s]\n"
     ]
    },
    {
     "name": "stdout",
     "output_type": "stream",
     "text": [
      "num of samples 12870\n",
      "0.9971250971250971\n"
     ]
    },
    {
     "name": "stderr",
     "output_type": "stream",
     "text": [
      "100%|██████████| 12870/12870 [00:00<00:00, 249370.31it/s]"
     ]
    },
    {
     "name": "stdout",
     "output_type": "stream",
     "text": [
      "num of samples 12870\n",
      "0.8027195027195028\n"
     ]
    },
    {
     "name": "stderr",
     "output_type": "stream",
     "text": [
      "\n"
     ]
    }
   ],
   "source": [
    "#Black and white names with career and family\n",
    "print('Black and white male names with career and family')\n",
    "print(p_value_exhust(dict_vec_cleaned,male_black_names, male_white_names, C, D))\n",
    "print(p_value_sample(dict_vec_cleaned,male_black_names, male_white_names, C, D))\n",
    "print(p_value_exhust(deb_dict_gender,male_black_names, male_white_names, C, D))\n",
    "\n",
    "#Black and white names with math and arts\n",
    "print('Black and white male names with math and arts')\n",
    "print(p_value_exhust(dict_vec_cleaned,male_black_names, male_white_names, E, F))\n",
    "print(p_value_exhust(deb_dict_gender,male_black_names, male_white_names, E, F))\n",
    "\n",
    "#Black and white names with science and arts\n",
    "print('Black and white male names with science and arts')\n",
    "print(p_value_exhust(dict_vec_cleaned,male_black_names, male_white_names, G,H))\n",
    "print(p_value_exhust(deb_dict_gender, male_black_names, male_white_names, G, H))\n",
    "\n",
    "#Black and white names with career and values (liberality, education, violence)\n",
    "print('Black and white male names with career and values (liberality, education, violence)')\n",
    "print(p_value_exhust(dict_vec_cleaned,male_black_names, male_white_names, C, neutral_test))\n",
    "print(p_value_exhust(deb_dict_gender,male_black_names, male_white_names, C, neutral_test))\n",
    "\n",
    "#Black and white names with career and values (liberality, education, violence)\n",
    "print('Black and white male names with career and low_wage_occupations')\n",
    "print(p_value_exhust(dict_vec_cleaned, male_black_names,\n",
    "      male_white_names, C, low_wage_occupations))\n",
    "print(p_value_exhust(deb_dict_gender, male_black_names,\n",
    "      male_white_names, C, low_wage_occupations))\n",
    "\n",
    "#Black and white names with career and values (liberality, education, violence)\n",
    "print('Black and white male names with pleasant and unpleasant words')\n",
    "print(p_value_exhust(dict_vec_cleaned,male_black_names, male_white_names, pleasant, unpleasant))\n",
    "print(p_value_exhust(deb_dict_gender,male_black_names, male_white_names, pleasant, unpleasant))"
   ]
  },
  {
   "cell_type": "code",
   "execution_count": 31,
   "metadata": {},
   "outputs": [
    {
     "name": "stdout",
     "output_type": "stream",
     "text": [
      "Black and white female names with career and family\n"
     ]
    },
    {
     "name": "stderr",
     "output_type": "stream",
     "text": [
      "100%|██████████| 12870/12870 [00:00<00:00, 240548.17it/s]\n"
     ]
    },
    {
     "name": "stdout",
     "output_type": "stream",
     "text": [
      "num of samples 12870\n",
      "0.21623931623931625\n"
     ]
    },
    {
     "name": "stderr",
     "output_type": "stream",
     "text": [
      "100%|██████████| 12870/12870 [00:00<00:00, 246911.10it/s]\n"
     ]
    },
    {
     "name": "stdout",
     "output_type": "stream",
     "text": [
      "num of samples 12870\n",
      "0.9826728826728827\n",
      "Black and white female names with math and arts\n"
     ]
    },
    {
     "name": "stderr",
     "output_type": "stream",
     "text": [
      "100%|██████████| 12870/12870 [00:00<00:00, 244759.34it/s]\n"
     ]
    },
    {
     "name": "stdout",
     "output_type": "stream",
     "text": [
      "num of samples 12870\n",
      "0.0010878010878010878\n"
     ]
    },
    {
     "name": "stderr",
     "output_type": "stream",
     "text": [
      "100%|██████████| 12870/12870 [00:00<00:00, 245592.28it/s]\n"
     ]
    },
    {
     "name": "stdout",
     "output_type": "stream",
     "text": [
      "num of samples 12870\n",
      "0.03566433566433566\n",
      "Black and white female names with science and arts\n"
     ]
    },
    {
     "name": "stderr",
     "output_type": "stream",
     "text": [
      "100%|██████████| 12870/12870 [00:00<00:00, 234687.44it/s]\n"
     ]
    },
    {
     "name": "stdout",
     "output_type": "stream",
     "text": [
      "num of samples 12870\n",
      "0.00808080808080808\n"
     ]
    },
    {
     "name": "stderr",
     "output_type": "stream",
     "text": [
      "100%|██████████| 12870/12870 [00:00<00:00, 247438.52it/s]\n"
     ]
    },
    {
     "name": "stdout",
     "output_type": "stream",
     "text": [
      "num of samples 12870\n",
      "0.18306138306138306\n",
      "Black and white female names with career and values (liberality, education, violence)\n"
     ]
    },
    {
     "name": "stderr",
     "output_type": "stream",
     "text": [
      "100%|██████████| 12870/12870 [00:00<00:00, 237265.25it/s]\n"
     ]
    },
    {
     "name": "stdout",
     "output_type": "stream",
     "text": [
      "num of samples 12870\n",
      "0.9998445998445998\n"
     ]
    },
    {
     "name": "stderr",
     "output_type": "stream",
     "text": [
      "100%|██████████| 12870/12870 [00:00<00:00, 248248.73it/s]\n"
     ]
    },
    {
     "name": "stdout",
     "output_type": "stream",
     "text": [
      "num of samples 12870\n",
      "0.9990675990675991\n",
      "Black and white female names with pleasant and unpleasant words\n"
     ]
    },
    {
     "name": "stderr",
     "output_type": "stream",
     "text": [
      "100%|██████████| 12870/12870 [00:00<00:00, 237104.76it/s]\n"
     ]
    },
    {
     "name": "stdout",
     "output_type": "stream",
     "text": [
      "num of samples 12870\n",
      "0.9979020979020979\n"
     ]
    },
    {
     "name": "stderr",
     "output_type": "stream",
     "text": [
      "100%|██████████| 12870/12870 [00:00<00:00, 247462.34it/s]"
     ]
    },
    {
     "name": "stdout",
     "output_type": "stream",
     "text": [
      "num of samples 12870\n",
      "0.7763791763791764\n"
     ]
    },
    {
     "name": "stderr",
     "output_type": "stream",
     "text": [
      "\n"
     ]
    }
   ],
   "source": [
    "print('Black and white female names with career and family')\n",
    "print(p_value_exhust(dict_vec_cleaned,female_black_names, female_white_names, C, D))\n",
    "print(p_value_exhust(deb_dict_gender,female_black_names, female_white_names, C, D))\n",
    "\n",
    "#Black and white names with math and arts\n",
    "print('Black and white female names with math and arts')\n",
    "print(p_value_exhust(dict_vec_cleaned,female_black_names, female_white_names, E, F))\n",
    "print(p_value_exhust(deb_dict_gender,female_black_names, female_white_names, E, F))\n",
    "\n",
    "#Black and white names with science and arts\n",
    "print('Black and white female names with science and arts')\n",
    "print(p_value_exhust(dict_vec_cleaned,female_black_names, female_white_names, G,H))\n",
    "print(p_value_exhust(deb_dict_gender, female_black_names, female_white_names, G, H))\n",
    "\n",
    "#Black and white names with career and values (liberality, education, violence)\n",
    "print('Black and white female names with career and values (liberality, education, violence)')\n",
    "print(p_value_exhust(dict_vec_cleaned,female_black_names, female_white_names, C, neutral_test))\n",
    "print(p_value_exhust(deb_dict_gender,female_black_names, female_white_names, C, neutral_test))\n",
    "\n",
    "\n",
    "print('Black and white female names with pleasant and unpleasant words')\n",
    "print(p_value_exhust(dict_vec_cleaned, female_black_names,\n",
    "      female_white_names, pleasant,unpleasant))\n",
    "print(p_value_exhust(deb_dict_gender, female_black_names,\n",
    "      female_white_names, pleasant, unpleasant))\n"
   ]
  },
  {
   "cell_type": "code",
   "execution_count": 32,
   "metadata": {},
   "outputs": [
    {
     "name": "stdout",
     "output_type": "stream",
     "text": [
      "males vs female names with career and family\n",
      "num of samples 1000000\n",
      "1e-05\n",
      "num of samples 1000000\n",
      "0.029729\n",
      "Black and white female names with math and arts\n",
      "num of samples 1000000\n",
      "0.611626\n",
      "num of samples 1000000\n",
      "0.977509\n",
      "Black and white female names with science and arts\n",
      "num of samples 1000000\n",
      "0.346551\n",
      "num of samples 1000000\n",
      "0.391843\n",
      "Black and white female names with career and values (liberality, education, violence)\n",
      "num of samples 1000000\n",
      "0.011153\n",
      "num of samples 1000000\n",
      "0.032476\n",
      "Black and white female names with pleasant and unpleasant words\n",
      "num of samples 1000000\n",
      "0.222511\n",
      "num of samples 1000000\n",
      "0.769125\n"
     ]
    }
   ],
   "source": [
    "print('males vs female names with career and family')\n",
    "print(p_value_sample(dict_vec_cleaned,male_black_names+male_white_names, female_white_names+female_black_names, C, D))\n",
    "print(p_value_sample(deb_dict_gender,male_black_names+male_white_names, female_white_names+female_black_names, C, D))\n",
    "\n",
    "#Black and white names with math and arts\n",
    "print('Black and white female names with math and arts')\n",
    "print(p_value_sample(dict_vec_cleaned, male_black_names +\n",
    "      male_white_names, female_white_names+female_black_names, E, F))\n",
    "print(p_value_sample(deb_dict_gender,male_black_names+male_white_names, female_white_names+female_black_names, E, F))\n",
    "\n",
    "#Black and white names with science and arts\n",
    "print('Black and white female names with science and arts')\n",
    "print(p_value_sample(dict_vec_cleaned, male_black_names +\n",
    "      male_white_names, female_white_names+female_black_names, G, H))\n",
    "print(p_value_sample(deb_dict_gender, male_black_names +\n",
    "      male_white_names, female_white_names+female_black_names, G, H))\n",
    "\n",
    "#Black and white names with career and values (liberality, education, violence)\n",
    "print('Black and white female names with career and values (liberality, education, violence)')\n",
    "print(p_value_sample(dict_vec_cleaned,male_black_names+male_white_names, female_white_names+female_black_names, C, neutral_words[-17:-1]))\n",
    "print(p_value_sample(deb_dict_gender,male_black_names+male_white_names, female_white_names+female_black_names, C, neutral_words[-17:-1]))\n",
    "\n",
    "print('Black and white female names with pleasant and unpleasant words')\n",
    "print(p_value_sample(dict_vec_cleaned,male_black_names+male_white_names, female_white_names+female_black_names, pleasant, unpleasant))\n",
    "print(p_value_sample(deb_dict_gender,male_black_names+male_white_names, female_white_names+female_black_names, pleasant, unpleasant))"
   ]
  },
  {
   "cell_type": "code",
   "execution_count": 35,
   "metadata": {},
   "outputs": [
    {
     "name": "stdout",
     "output_type": "stream",
     "text": [
      "Black and white female names with career and low wage occupations\n",
      "num of samples 1000000\n",
      "0.002291\n",
      "num of samples 1000000\n",
      "0.015557\n"
     ]
    }
   ],
   "source": [
    "#Black and white names with career and values (liberality, education, violence)\n",
    "print('Black and white names with career and low wage occupations')\n",
    "print(p_value_sample(dict_vec_cleaned,male_black_names+male_white_names, female_white_names+female_black_names, C, low_wage_occupations))\n",
    "print(p_value_sample(deb_dict_gender,male_black_names+male_white_names, female_white_names+female_black_names, C, low_wage_occupations))"
   ]
  },
  {
   "cell_type": "code",
   "execution_count": 36,
   "metadata": {},
   "outputs": [
    {
     "name": "stdout",
     "output_type": "stream",
     "text": [
      "Black and white female names with career and family\n"
     ]
    },
    {
     "name": "stderr",
     "output_type": "stream",
     "text": [
      "100%|██████████| 12870/12870 [00:00<00:00, 206855.86it/s]\n"
     ]
    },
    {
     "name": "stdout",
     "output_type": "stream",
     "text": [
      "num of samples 12870\n",
      "0.00202020202020202\n"
     ]
    },
    {
     "name": "stderr",
     "output_type": "stream",
     "text": [
      "100%|██████████| 12870/12870 [00:00<00:00, 237086.02it/s]\n"
     ]
    },
    {
     "name": "stdout",
     "output_type": "stream",
     "text": [
      "num of samples 12870\n",
      "0.34763014763014766\n",
      "Black and white female names with math and arts\n"
     ]
    },
    {
     "name": "stderr",
     "output_type": "stream",
     "text": [
      "100%|██████████| 12870/12870 [00:00<00:00, 229464.87it/s]\n"
     ]
    },
    {
     "name": "stdout",
     "output_type": "stream",
     "text": [
      "num of samples 12870\n",
      "0.0016317016317016317\n"
     ]
    },
    {
     "name": "stderr",
     "output_type": "stream",
     "text": [
      "100%|██████████| 12870/12870 [00:00<00:00, 231762.33it/s]\n"
     ]
    },
    {
     "name": "stdout",
     "output_type": "stream",
     "text": [
      "num of samples 12870\n",
      "0.31033411033411035\n",
      "Black and white female names with science and arts\n"
     ]
    },
    {
     "name": "stderr",
     "output_type": "stream",
     "text": [
      "100%|██████████| 12870/12870 [00:00<00:00, 237455.21it/s]\n"
     ]
    },
    {
     "name": "stdout",
     "output_type": "stream",
     "text": [
      "num of samples 12870\n",
      "0.022999222999223\n"
     ]
    },
    {
     "name": "stderr",
     "output_type": "stream",
     "text": [
      "100%|██████████| 12870/12870 [00:00<00:00, 239654.30it/s]\n"
     ]
    },
    {
     "name": "stdout",
     "output_type": "stream",
     "text": [
      "num of samples 12870\n",
      "0.11810411810411811\n",
      "Black and white female names with career and values (liberality, education, violence)\n"
     ]
    },
    {
     "name": "stderr",
     "output_type": "stream",
     "text": [
      "100%|██████████| 12870/12870 [00:00<00:00, 233587.60it/s]\n"
     ]
    },
    {
     "name": "stdout",
     "output_type": "stream",
     "text": [
      "num of samples 12870\n",
      "0.9171717171717172\n"
     ]
    },
    {
     "name": "stderr",
     "output_type": "stream",
     "text": [
      "100%|██████████| 12870/12870 [00:00<00:00, 235050.22it/s]\n"
     ]
    },
    {
     "name": "stdout",
     "output_type": "stream",
     "text": [
      "num of samples 12870\n",
      "0.7763791763791764\n",
      "Black and white female names with pleasant and unpleasant words\n"
     ]
    },
    {
     "name": "stderr",
     "output_type": "stream",
     "text": [
      "100%|██████████| 12870/12870 [00:00<00:00, 235572.33it/s]\n"
     ]
    },
    {
     "name": "stdout",
     "output_type": "stream",
     "text": [
      "num of samples 12870\n",
      "0.015462315462315463\n"
     ]
    },
    {
     "name": "stderr",
     "output_type": "stream",
     "text": [
      "100%|██████████| 12870/12870 [00:00<00:00, 232713.52it/s]\n"
     ]
    },
    {
     "name": "stdout",
     "output_type": "stream",
     "text": [
      "num of samples 12870\n",
      "0.10411810411810411\n",
      "Black and white female names with pleasant and unpleasant words\n"
     ]
    },
    {
     "name": "stderr",
     "output_type": "stream",
     "text": [
      "100%|██████████| 12870/12870 [00:00<00:00, 234730.30it/s]\n"
     ]
    },
    {
     "name": "stdout",
     "output_type": "stream",
     "text": [
      "num of samples 12870\n",
      "0.8461538461538461\n"
     ]
    },
    {
     "name": "stderr",
     "output_type": "stream",
     "text": [
      "100%|██████████| 12870/12870 [00:00<00:00, 230616.75it/s]"
     ]
    },
    {
     "name": "stdout",
     "output_type": "stream",
     "text": [
      "num of samples 12870\n",
      "0.9298368298368298\n"
     ]
    },
    {
     "name": "stderr",
     "output_type": "stream",
     "text": [
      "\n"
     ]
    }
   ],
   "source": [
    "print('Black and white female names with career and family')\n",
    "print(p_value_exhust(dict_vec_cleaned,male_black_names, female_white_names, C, D))\n",
    "print(p_value_exhust(deb_dict_gender,male_black_names, female_white_names, C, D))\n",
    "\n",
    "#Black and white names with math and arts\n",
    "print('Black and white female names with math and arts')\n",
    "print(p_value_exhust(dict_vec_cleaned,male_black_names, female_white_names, E, F))\n",
    "print(p_value_exhust(deb_dict_gender,male_black_names, female_white_names, E, F))\n",
    "\n",
    "#Black and white names with science and arts\n",
    "print('Black and white female names with science and arts')\n",
    "print(p_value_exhust(dict_vec_cleaned,male_black_names, female_white_names, G,H))\n",
    "print(p_value_exhust(deb_dict_gender, male_black_names, female_white_names, G, H))\n",
    "\n",
    "#Black and white names with career and values (liberality, education, violence)\n",
    "print('Black and white female names with career and values (liberality, education, violence)')\n",
    "print(p_value_exhust(dict_vec_cleaned,male_black_names, female_white_names, C, neutral_test))\n",
    "print(p_value_exhust(deb_dict_gender,male_black_names, female_white_names, C, neutral_test))\n",
    "\n",
    "#Black and white names with pleasant and unpleasant words\n",
    "print('Black and white female names with pleasant and unpleasant words')\n",
    "print(p_value_exhust(dict_vec_cleaned,male_black_names, female_white_names, unpleasant, pleasant))\n",
    "print(p_value_exhust(deb_dict_gender,male_black_names, female_white_names, unpleasant, pleasant))\n",
    "\n",
    "#Black and white names with career and low wage occupations\n",
    "print('Black and white female names with pleasant and unpleasant words')\n",
    "print(p_value_exhust(dict_vec_cleaned,male_black_names, female_white_names, C, low_wage_occupations))\n",
    "print(p_value_exhust(deb_dict_gender,male_black_names, female_white_names, C, low_wage_occupations))"
   ]
  },
  {
   "cell_type": "code",
   "execution_count": 38,
   "metadata": {},
   "outputs": [
    {
     "name": "stdout",
     "output_type": "stream",
     "text": [
      "Black and white female names with career and family\n"
     ]
    },
    {
     "name": "stderr",
     "output_type": "stream",
     "text": [
      "100%|██████████| 12870/12870 [00:00<00:00, 223418.92it/s]\n"
     ]
    },
    {
     "name": "stdout",
     "output_type": "stream",
     "text": [
      "num of samples 12870\n",
      "0.0017094017094017094\n"
     ]
    },
    {
     "name": "stderr",
     "output_type": "stream",
     "text": [
      "100%|██████████| 12870/12870 [00:00<00:00, 236533.34it/s]\n"
     ]
    },
    {
     "name": "stdout",
     "output_type": "stream",
     "text": [
      "num of samples 12870\n",
      "0.014452214452214453\n",
      "Black and white female names with math and arts\n"
     ]
    },
    {
     "name": "stderr",
     "output_type": "stream",
     "text": [
      "100%|██████████| 12870/12870 [00:00<00:00, 227828.16it/s]\n"
     ]
    },
    {
     "name": "stdout",
     "output_type": "stream",
     "text": [
      "num of samples 12870\n",
      "0.9926184926184927\n"
     ]
    },
    {
     "name": "stderr",
     "output_type": "stream",
     "text": [
      "100%|██████████| 12870/12870 [00:00<00:00, 235304.32it/s]\n"
     ]
    },
    {
     "name": "stdout",
     "output_type": "stream",
     "text": [
      "num of samples 12870\n",
      "0.9986013986013986\n",
      "Black and white female names with science and arts\n"
     ]
    },
    {
     "name": "stderr",
     "output_type": "stream",
     "text": [
      "100%|██████████| 12870/12870 [00:00<00:00, 233686.70it/s]\n"
     ]
    },
    {
     "name": "stdout",
     "output_type": "stream",
     "text": [
      "num of samples 12870\n",
      "0.8206682206682206\n"
     ]
    },
    {
     "name": "stderr",
     "output_type": "stream",
     "text": [
      "100%|██████████| 12870/12870 [00:00<00:00, 234238.33it/s]\n"
     ]
    },
    {
     "name": "stdout",
     "output_type": "stream",
     "text": [
      "num of samples 12870\n",
      "0.7691530691530691\n",
      "Black and white female names with career and values (liberality, education, violence)\n"
     ]
    },
    {
     "name": "stderr",
     "output_type": "stream",
     "text": [
      "100%|██████████| 12870/12870 [00:00<00:00, 221766.77it/s]\n"
     ]
    },
    {
     "name": "stdout",
     "output_type": "stream",
     "text": [
      "num of samples 12870\n",
      "7.77000777000777e-05\n"
     ]
    },
    {
     "name": "stderr",
     "output_type": "stream",
     "text": [
      "100%|██████████| 12870/12870 [00:00<00:00, 234700.70it/s]\n"
     ]
    },
    {
     "name": "stdout",
     "output_type": "stream",
     "text": [
      "num of samples 12870\n",
      "0.0\n",
      "Black and white female names with career and low wage occupations\n"
     ]
    },
    {
     "name": "stderr",
     "output_type": "stream",
     "text": [
      "100%|██████████| 12870/12870 [00:00<00:00, 233546.16it/s]\n"
     ]
    },
    {
     "name": "stdout",
     "output_type": "stream",
     "text": [
      "num of samples 12870\n",
      "7.77000777000777e-05\n"
     ]
    },
    {
     "name": "stderr",
     "output_type": "stream",
     "text": [
      "100%|██████████| 12870/12870 [00:00<00:00, 237130.80it/s]\n"
     ]
    },
    {
     "name": "stdout",
     "output_type": "stream",
     "text": [
      "num of samples 12870\n",
      "0.0\n",
      "Black and white female names with pleasant and unpleasant words\n"
     ]
    },
    {
     "name": "stderr",
     "output_type": "stream",
     "text": [
      "100%|██████████| 12870/12870 [00:00<00:00, 234520.22it/s]\n"
     ]
    },
    {
     "name": "stdout",
     "output_type": "stream",
     "text": [
      "num of samples 12870\n",
      "0.0\n"
     ]
    },
    {
     "name": "stderr",
     "output_type": "stream",
     "text": [
      "100%|██████████| 12870/12870 [00:00<00:00, 233902.38it/s]"
     ]
    },
    {
     "name": "stdout",
     "output_type": "stream",
     "text": [
      "num of samples 12870\n",
      "0.38578088578088576\n"
     ]
    },
    {
     "name": "stderr",
     "output_type": "stream",
     "text": [
      "\n"
     ]
    }
   ],
   "source": [
    "print('Black and white female names with career and family')\n",
    "print(p_value_exhust(dict_vec_cleaned,male_white_names, female_black_names, C, D))\n",
    "print(p_value_exhust(deb_dict_gender,male_white_names, female_black_names, C, D))\n",
    "\n",
    "#Black and white names with math and arts\n",
    "print('Black and white female names with math and arts')\n",
    "print(p_value_exhust(dict_vec_cleaned,male_white_names, female_black_names, E, F))\n",
    "print(p_value_exhust(deb_dict_gender,male_white_names, female_black_names, E, F))\n",
    "\n",
    "#Black and white names with science and arts\n",
    "print('Black and white female names with science and arts')\n",
    "print(p_value_exhust(dict_vec_cleaned,male_white_names, female_black_names, G,H))\n",
    "print(p_value_exhust(deb_dict_gender, male_white_names, female_black_names, G, H))\n",
    "\n",
    "#Black and white names with career and values (liberality, education, violence)\n",
    "print('Black and white female names with career and values (liberality, education, violence)')\n",
    "print(p_value_exhust(dict_vec_cleaned,male_white_names, female_black_names, C, neutral_test))\n",
    "print(p_value_exhust(deb_dict_gender,male_white_names, female_black_names, C, neutral_test))\n",
    "\n",
    "#Black and white names with career and low wage occupations\n",
    "print('Black and white female names with career and low wage occupations')\n",
    "print(p_value_exhust(dict_vec_cleaned, male_white_names,\n",
    "      female_black_names, C, neutral_test))\n",
    "print(p_value_exhust(deb_dict_gender, male_white_names,\n",
    "      female_black_names, C, neutral_test))\n",
    "\n",
    "#Black and white names with pleasant and unpleasant words\n",
    "print('Black and white female names with pleasant and unpleasant words')\n",
    "print(p_value_exhust(dict_vec_cleaned,male_white_names, female_black_names, pleasant, unpleasant))\n",
    "print(p_value_exhust(deb_dict_gender,male_white_names, female_black_names, pleasant, unpleasant))"
   ]
  },
  {
   "cell_type": "code",
   "execution_count": 41,
   "metadata": {},
   "outputs": [
    {
     "name": "stderr",
     "output_type": "stream",
     "text": [
      "  0%|          | 0/8 [00:00<?, ?it/s]\n"
     ]
    },
    {
     "ename": "TypeError",
     "evalue": "'int' object is not subscriptable",
     "output_type": "error",
     "traceback": [
      "\u001b[0;31m---------------------------------------------------------------------------\u001b[0m",
      "\u001b[0;31mTypeError\u001b[0m                                 Traceback (most recent call last)",
      "Cell \u001b[0;32mIn[41], line 1\u001b[0m\n\u001b[0;32m----> 1\u001b[0m get_k_nearest_neighbors(male_black_names, dict_vec_cleaned, vocab_cleaned,word2idx_cleaned, \u001b[39m50\u001b[39;49m)\n",
      "File \u001b[0;32m~/Python/VersionControl/MT_DebiasingAlgorithms/Scripts/Evaluation.py:284\u001b[0m, in \u001b[0;36mget_k_nearest_neighbors\u001b[0;34m(list_words, dict_vect, vocab, vectors, w2i, k)\u001b[0m\n\u001b[1;32m    282\u001b[0m k_neigh \u001b[39m=\u001b[39m{}\n\u001b[1;32m    283\u001b[0m \u001b[39mfor\u001b[39;00m w \u001b[39min\u001b[39;00m tqdm(list_words):\n\u001b[0;32m--> 284\u001b[0m     dict_neigh, _ \u001b[39m=\u001b[39m get_topK_neighbors(\n\u001b[1;32m    285\u001b[0m         w, dict_vect, vocab, vectors, w2i, k)\n\u001b[1;32m    286\u001b[0m     k_neigh\u001b[39m.\u001b[39mupdate(dict_neigh)\n\u001b[1;32m    287\u001b[0m \u001b[39mreturn\u001b[39;00m k_neigh\n",
      "File \u001b[0;32m~/Python/VersionControl/MT_DebiasingAlgorithms/Scripts/Evaluation.py:249\u001b[0m, in \u001b[0;36mget_topK_neighbors\u001b[0;34m(word, dict_vect, vocab, vectors, w2i, k)\u001b[0m\n\u001b[1;32m    247\u001b[0m list_neigh \u001b[39m=\u001b[39m []\n\u001b[1;32m    248\u001b[0m \u001b[39m# extract the word vector for word w\u001b[39;00m\n\u001b[0;32m--> 249\u001b[0m idx \u001b[39m=\u001b[39m w2i[word]\n\u001b[1;32m    250\u001b[0m chosen_vec \u001b[39m=\u001b[39m dict_vect[word]\n\u001b[1;32m    252\u001b[0m \u001b[39m# compute cosine similarity between chosen_vec and all other words. Store in similarities list\u001b[39;00m\n",
      "\u001b[0;31mTypeError\u001b[0m: 'int' object is not subscriptable"
     ]
    }
   ],
   "source": [
    "get_k_nearest_neighbors(male_black_names, dict_vec_cleaned, vocab_cleaned,word2idx_cleaned, 50)"
   ]
  },
  {
   "cell_type": "code",
   "execution_count": 49,
   "metadata": {},
   "outputs": [
    {
     "data": {
      "text/plain": [
       "'alonzo'"
      ]
     },
     "execution_count": 49,
     "metadata": {},
     "output_type": "execute_result"
    }
   ],
   "source": [
    "male_black_names[0]"
   ]
  },
  {
   "cell_type": "code",
   "execution_count": 47,
   "metadata": {},
   "outputs": [],
   "source": [
    "#Function to find the top-k most similar words to a given word using the cosine similarity\n",
    "def get_topK_neighbors(word, dict_vect, vocab, vectors, w2i, k=10):\n",
    "    \"\"\"\"\n",
    "    Function to find the top-k most similar words to a given word using the cosine similarity\n",
    "    :param word: word to compute the bias for\n",
    "    :param dict_vect: dictionary of words and their embeddings\n",
    "    :param vocab: list of words in the vocabulary\n",
    "    :param vectors: list of embeddings\n",
    "    :param w2i: dictionary of words and their indices\n",
    "    :param k: number of neighbors to find\n",
    "    :return: dictionary of words and their neighbors before and after debiasing\n",
    "    \"\"\"\n",
    "    k_neigh = {}\n",
    "    list_neigh = []\n",
    "    # extract the word vector for word w\n",
    "    idx = w2i[word]\n",
    "    chosen_vec = dict_vect[word]\n",
    "\n",
    "    # compute cosine similarity between chosen_vec and all other words. Store in similarities list\n",
    "    similarities = np.zeros(len(vocab))\n",
    "    for i in range(len(vocab)):\n",
    "        similarities[i] = cosine_similarity(chosen_vec, vectors[i])\n",
    "    #similarities =[cosine_similarity(vectors.dot(chosen_vec)\n",
    "    # sort similarities by descending order\n",
    "    sorted_similarities = (similarities.argsort())[::-1]\n",
    "\n",
    "    # choose topK\n",
    "    best = sorted_similarities[:(k+1)]\n",
    "\n",
    "    #create a list with the word and similarity score for each of the topK words\n",
    "    k_neig_similarities = [(vocab[i], similarities[i])\n",
    "                           for i in best if i != idx]\n",
    "    k_neigh[word] = k_neig_similarities\n",
    "    list_neigh = [vocab[i] for i in best if i != idx]\n",
    "    return k_neigh, list_neigh\n"
   ]
  },
  {
   "cell_type": "code",
   "execution_count": 53,
   "metadata": {},
   "outputs": [
    {
     "ename": "TypeError",
     "evalue": "'int' object is not subscriptable",
     "output_type": "error",
     "traceback": [
      "\u001b[0;31m---------------------------------------------------------------------------\u001b[0m",
      "\u001b[0;31mTypeError\u001b[0m                                 Traceback (most recent call last)",
      "Cell \u001b[0;32mIn[53], line 1\u001b[0m\n\u001b[0;32m----> 1\u001b[0m get_topK_neighbors(\u001b[39m'\u001b[39;49m\u001b[39malonzo\u001b[39;49m\u001b[39m'\u001b[39;49m, dict_vec_cleaned, vocab_cleaned, word2idx_cleaned, \u001b[39m50\u001b[39;49m)\n",
      "Cell \u001b[0;32mIn[47], line 16\u001b[0m, in \u001b[0;36mget_topK_neighbors\u001b[0;34m(word, dict_vect, vocab, vectors, w2i, k)\u001b[0m\n\u001b[1;32m     14\u001b[0m list_neigh \u001b[39m=\u001b[39m []\n\u001b[1;32m     15\u001b[0m \u001b[39m# extract the word vector for word w\u001b[39;00m\n\u001b[0;32m---> 16\u001b[0m idx \u001b[39m=\u001b[39m w2i[word]\n\u001b[1;32m     17\u001b[0m chosen_vec \u001b[39m=\u001b[39m dict_vect[word]\n\u001b[1;32m     19\u001b[0m \u001b[39m# compute cosine similarity between chosen_vec and all other words. Store in similarities list\u001b[39;00m\n",
      "\u001b[0;31mTypeError\u001b[0m: 'int' object is not subscriptable"
     ]
    }
   ],
   "source": [
    "get_topK_neighbors('alonzo', dict_vec_cleaned, vocab_cleaned, word2idx_cleaned, 50)\n"
   ]
  },
  {
   "cell_type": "code",
   "execution_count": 51,
   "metadata": {},
   "outputs": [],
   "source": [
    "idx = word2idx_cleaned['alonzo']\n"
   ]
  },
  {
   "attachments": {},
   "cell_type": "markdown",
   "metadata": {},
   "source": [
    "2. Words associated with race: "
   ]
  },
  {
   "cell_type": "code",
   "execution_count": 39,
   "metadata": {},
   "outputs": [
    {
     "name": "stdout",
     "output_type": "stream",
     "text": [
      "Length of vectors set: 19\n",
      "Running PCA with 1 components\n"
     ]
    }
   ],
   "source": [
    "race_direction = identify_bias_subspace(\n",
    "    deb_dict_gender, def_set_race, 1, centralizing=True)\n"
   ]
  },
  {
   "cell_type": "code",
   "execution_count": 18,
   "metadata": {},
   "outputs": [],
   "source": [
    "from operator import itemgetter\n",
    "#function to get the most biased words in dict_vec_cleaned rated my similarity to the bias direction\n",
    "\n",
    "\n",
    "def get_most_biased_words_similarity(similarity, n_words=2500):\n",
    "    #get the absolute values of the similarity values\n",
    "    similarity = {word: abs(sim) for word, sim in similarity.items()}\n",
    "    #sort the similarity values\n",
    "    sorted_similarity = sorted(\n",
    "        similarity.items(), key=itemgetter(1), reverse=True)\n",
    "    biased_words = [word for word, bias in sorted_similarity[:n_words*2]]\n",
    "    neutral_words = [word for word, bias in sorted_similarity[-n_words:]]\n",
    "    return biased_words, neutral_words\n",
    "\n",
    "\n",
    "#count how many female_words_emb and male_words_emb are in the biased_words\n",
    "def count_gendered_words_in_most_biased(female_words, male_words, biased_words):\n",
    "    count_female=0\n",
    "    count_male=0\n",
    "    data={}\n",
    "    for word in set(female_words):\n",
    "        if word in set(biased_words):\n",
    "            count_female+=1\n",
    "\n",
    "    for word in set(male_words):\n",
    "        if word in set(biased_words):\n",
    "            count_male+=1\n",
    "    \n",
    "    data.update({'count_female': count_female, 'proportion_female': count_female/len(female_words),\n",
    "                     'count_male': count_male, 'proportion_male': count_male/len(male_words)})\n",
    "    return data"
   ]
  },
  {
   "cell_type": "code",
   "execution_count": 20,
   "metadata": {},
   "outputs": [],
   "source": [
    "biased_words, neutral_words=get_most_biased_words_similarity(similarity_centralized, n_words=40000)"
   ]
  },
  {
   "cell_type": "code",
   "execution_count": null,
   "metadata": {},
   "outputs": [],
   "source": [
    "count_gendered_words_in_most_biased(female_words_emb, male_words_emb, biased_words)\n"
   ]
  },
  {
   "cell_type": "code",
   "execution_count": null,
   "metadata": {},
   "outputs": [],
   "source": [
    "biased_words_centralized, neutral_words_centralized=get_most_biased_words_similarity(similarity_centralized, n_words=40000)\n",
    "count_gendered_words_in_most_biased(female_words_emb, male_words_emb, biased_words_centralized)"
   ]
  },
  {
   "cell_type": "code",
   "execution_count": null,
   "metadata": {},
   "outputs": [],
   "source": [
    "_, _, female_simple, male_simple, _ = utils.getting_biased_words(\n",
    "    simple_gender_bias, def_sets['gender'], 40000, word2idx)\n",
    "\n",
    "count_gendered_words_in_most_biased(female_words_emb, male_words_emb,female_simple+male_simple )"
   ]
  },
  {
   "attachments": {},
   "cell_type": "markdown",
   "metadata": {},
   "source": [
    "#### Now let's plot the results"
   ]
  },
  {
   "cell_type": "code",
   "execution_count": null,
   "metadata": {},
   "outputs": [],
   "source": [
    "#turn the similarity scores into a dataframe to find the 20 words with the highest similarity score\n",
    "df_similarity=pd.DataFrame.from_dict(similarity, orient='index')\n",
    "df_similarity=df_similarity.rename(columns={0: 'similarity_score'})\n",
    "df_similarity.sort_values(by=['similarity_score'], ascending=False, inplace=True)\n",
    "df_similarity_male=df_similarity.head(20)\n",
    "df_similarity_female=df_similarity.tail(20)\n",
    "\n",
    "print('Top biased words according to the similarity score:',biased_words[:20])\n",
    "\n",
    "#turn the centralized similarity scores into a dataframe to find the 20 words with the highest similarity score\n",
    "df_similarity_centralized=pd.DataFrame.from_dict(similarity_centralized, orient='index')\n",
    "df_similarity_centralized=df_similarity_centralized.rename(columns={0: 'similarity_score'})\n",
    "df_similarity_centralized.sort_values(by=['similarity_score'], ascending=False, inplace=True)\n",
    "df_centralized_female= df_similarity_centralized.head(20)\n",
    "df_centralized_male=df_similarity_centralized.tail(20)\n",
    "\n",
    "print('Top biased words according to the centralized similarity score:',biased_words_centralized[:20])\n",
    "\n",
    "#simple_biased = {word: abs(sim) for word, sim in simple_gender_bias.items()}\n",
    "df_simple_bias = pd.DataFrame.from_dict(simple_gender_bias, orient='index')\n",
    "df_simple_bias=df_simple_bias.rename(columns={0: 'simple_bias_score'})\n",
    "df_simple_bias.sort_values(by=['simple_bias_score'], ascending=False, inplace=True)\n",
    "df_simple_fem=df_simple_bias.head(20)\n",
    "df_simple_masc=df_simple_bias.tail(20)\n",
    "print('Top biased words simple_score', list(df_simple_bias.head(10).index)+list(df_simple_bias.tail(10).index))\n",
    "\n"
   ]
  },
  {
   "cell_type": "code",
   "execution_count": null,
   "metadata": {},
   "outputs": [],
   "source": [
    "df_centralized_male\n"
   ]
  },
  {
   "cell_type": "code",
   "execution_count": null,
   "metadata": {},
   "outputs": [],
   "source": [
    "#get a histogram of the similarity.values()\n",
    "import matplotlib.pyplot as plt\n",
    "import pandas as pd\n",
    "import numpy as np\n",
    "\n",
    "def plot_histogram(similarity, title):\n",
    "    plt.hist(similarity.values())\n",
    "    plt.title(title)\n",
    "    plt.show()"
   ]
  },
  {
   "cell_type": "code",
   "execution_count": null,
   "metadata": {},
   "outputs": [],
   "source": [
    "plot_histogram(similarity, 'Histogram of similarity values')"
   ]
  },
  {
   "cell_type": "code",
   "execution_count": null,
   "metadata": {},
   "outputs": [],
   "source": [
    "plot_histogram(similarity_centralized, 'Histogram of centralized similarity values')\n"
   ]
  },
  {
   "cell_type": "code",
   "execution_count": null,
   "metadata": {},
   "outputs": [],
   "source": [
    "plot_histogram(simple_gender_bias, 'Histogram of simple gender bias values')\n"
   ]
  },
  {
   "cell_type": "code",
   "execution_count": null,
   "metadata": {},
   "outputs": [],
   "source": [
    "#get the words in similirity that have values 0\n",
    "def get_words_with_value_zero(similarity):\n",
    "    words=[]\n",
    "    for word in similarity.keys():\n",
    "        if np.allclose(similarity[word],0.5):\n",
    "            words.append(word)\n",
    "    return words"
   ]
  },
  {
   "cell_type": "code",
   "execution_count": null,
   "metadata": {},
   "outputs": [],
   "source": [
    "get_words_with_value_zero(similarity)"
   ]
  },
  {
   "cell_type": "code",
   "execution_count": null,
   "metadata": {},
   "outputs": [],
   "source": []
  }
 ],
 "metadata": {
  "kernelspec": {
   "display_name": ".venv",
   "language": "python",
   "name": "python3"
  },
  "language_info": {
   "codemirror_mode": {
    "name": "ipython",
    "version": 3
   },
   "file_extension": ".py",
   "mimetype": "text/x-python",
   "name": "python",
   "nbconvert_exporter": "python",
   "pygments_lexer": "ipython3",
   "version": "3.10.10"
  },
  "orig_nbformat": 4
 },
 "nbformat": 4,
 "nbformat_minor": 2
}
