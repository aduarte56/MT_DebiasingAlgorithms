{
 "cells": [
  {
   "cell_type": "code",
   "execution_count": 1,
   "metadata": {},
   "outputs": [],
   "source": [
    "import codecs\n",
    "import json\n",
    "import numpy as np\n",
    "import sklearn"
   ]
  },
  {
   "cell_type": "code",
   "execution_count": 2,
   "metadata": {},
   "outputs": [],
   "source": [
    "from Scripts.ProcessingEmbeddings import *\n",
    "import Scripts.utils as utils"
   ]
  },
  {
   "cell_type": "code",
   "execution_count": 3,
   "metadata": {},
   "outputs": [
    {
     "name": "stdout",
     "output_type": "stream",
     "text": [
      "Loading Data/glove-wiki-gigaword-50.txt embeddings\n",
      "vectors shape: (400000, 50), word2idx length: 400000, vocab length: 400000\n"
     ]
    }
   ],
   "source": [
    "#Creating an embeddings object: 400k words, 50 dimensions\n",
    "glove=Embeddings('Data/glove-wiki-gigaword-50.txt', gensim=False)\n",
    "#glove_300=Embeddings('glove-wiki-gigaword-300')"
   ]
  },
  {
   "cell_type": "code",
   "execution_count": 4,
   "metadata": {},
   "outputs": [],
   "source": [
    "#Getting the attributes of the embeddings \n",
    "vectors=glove.vectors\n",
    "word2idx=glove.word2idx\n",
    "vocab=glove.words\n",
    "dict_vectors = glove.get_word_vector_dict()"
   ]
  },
  {
   "cell_type": "code",
   "execution_count": 5,
   "metadata": {},
   "outputs": [
    {
     "data": {
      "text/plain": [
       "False"
      ]
     },
     "execution_count": 5,
     "metadata": {},
     "output_type": "execute_result"
    }
   ],
   "source": [
    "#Verifying the attributes: there shouldn't be any null values\n",
    "np.isnan(vectors).any()"
   ]
  },
  {
   "cell_type": "code",
   "execution_count": 6,
   "metadata": {},
   "outputs": [
    {
     "name": "stderr",
     "output_type": "stream",
     "text": [
      "100%|██████████| 400000/400000 [00:00<00:00, 614695.27it/s]\n"
     ]
    },
    {
     "name": "stdout",
     "output_type": "stream",
     "text": [
      "Size of limited vocabulary: 327185\n"
     ]
    }
   ],
   "source": [
    "#Removing puntuation and numbers from the embeddings\n",
    "vocab_cleaned, vectors_cleaned, word2idx_cleaned, dict_vec_cleaned = glove.limit_vocab(vectors, word2idx, vocab)"
   ]
  },
  {
   "cell_type": "code",
   "execution_count": 37,
   "metadata": {},
   "outputs": [
    {
     "data": {
      "text/plain": [
       "array([4.96782699, 4.95609794, 4.9568709 , ..., 4.51387709, 4.40890635,\n",
       "       3.25460327])"
      ]
     },
     "execution_count": 37,
     "metadata": {},
     "output_type": "execute_result"
    }
   ],
   "source": [
    "#Checking if vector are normalized\n",
    "np.apply_along_axis(np.linalg.norm, 1, vectors_cleaned)\n",
    "#They are not!"
   ]
  },
  {
   "attachments": {},
   "cell_type": "markdown",
   "metadata": {},
   "source": [
    "## Hard-Debias Algorithm"
   ]
  },
  {
   "attachments": {},
   "cell_type": "markdown",
   "metadata": {},
   "source": [
    "#### Preliminaries"
   ]
  },
  {
   "cell_type": "code",
   "execution_count": 38,
   "metadata": {},
   "outputs": [],
   "source": [
    "from Scripts.HardDebias import *"
   ]
  },
  {
   "cell_type": "code",
   "execution_count": 39,
   "metadata": {},
   "outputs": [],
   "source": [
    "#Gender specific vocabulary from Bolukbasi's paper.\n",
    "gender_specific = []\n",
    "female_vocab = []\n",
    "male_vocab = []\n",
    "with open('./Data/male_word_file.txt') as f:\n",
    "    male_vocab = [line.strip() for line in f]\n",
    "\n",
    "with open('./Data/female_word_file.txt') as f:\n",
    "    for l in f:\n",
    "        female_vocab.append(l.strip())\n",
    "\n",
    "gender_specific = female_vocab+female_vocab\n",
    "\n",
    "with codecs.open('./Data/gender_specific_full.json') as f:\n",
    "    gender_specific.extend(json.load(f))\n"
   ]
  },
  {
   "cell_type": "code",
   "execution_count": 40,
   "metadata": {},
   "outputs": [],
   "source": [
    "#Getting the definitional sets to calculate afterwards the gender direction. The first 10 gender sets were proposed by Bolukbasi et al. (2016)\n",
    "#Definitional sets for race where proposed by Manzini et al. in Multiclass debiasing of embeddings: https://github.com/TManzini/DebiasMulticlassWordEmbedding/blob/master/Debiasing/data/vocab/race_attributes_optm.json\n",
    "\n",
    "def_sets={\n",
    "    \"gender\" : [\n",
    "    ['she', 'he'], ['herself', 'himself'], ['her', 'his'], ['daughter', 'son'], ['girl', 'boy'],\n",
    "    ['mother', 'father'], ['woman', 'man'], ['mary', 'john'], ['gal', 'guy'], ['female', 'male'],['aunt', 'uncle']],\n",
    "    \n",
    "    \"race\":[\n",
    "\t\t[\"black\", \"caucasian\", \"asian\", \"hispanic\"],\n",
    "\t\t[\"african\", \"caucasian\", \"asian\", \"hispanic\"],\n",
    "\t\t[\"black\", \"white\", \"asian\", \"latino\"],\n",
    "\t\t[\"africa\", \"europe\", \"asia\", \"mexico\"],\n",
    "\t\t[\"africa\", \"america\", \"china\", \"latin-america\"],\n",
    "    ]\n",
    "\t}\n",
    "\n",
    "#Equalizing pairs for gender debiasing were first published by Bolukbasi et al. in https://github.com/tolga-b/debiaswe/blob/master/data/equalize_pairs.json\n",
    "# Equalizing sets for race where defined by Manzini as equal to the defining set (Manzini et al., 2019.p.3)\n",
    "equalizing_lists = {\n",
    "    \"gender\": [\n",
    "        [\"monastery\", \"convent\"], [\"spokesman\", \"spokeswoman\"], [\n",
    "            \"Catholic_priest\", \"nun\"], [\"Dad\", \"Mom\"], [\"Men\", \"Women\"],\n",
    "        [\"councilman\", \"councilwoman\"], [\"grandpa\", \"grandma\"], [\n",
    "            \"grandsons\", \"granddaughters\"], [\"prostate_cancer\", \"ovarian_cancer\"],\n",
    "        [\"testosterone\", \"estrogen\"], [\"uncle\", \"aunt\"], [\n",
    "            \"wives\", \"husbands\"], [\"Father\", \"Mother\"], [\"Grandpa\", \"Grandma\"],\n",
    "        [\"He\", \"She\"], [\"boy\", \"girl\"], [\"boys\", \"girls\"], [\"brother\", \"sister\"], [\n",
    "            \"brothers\", \"sisters\"], [\"businessman\", \"businesswoman\"],\n",
    "        [\"chairman\", \"chairwoman\"], [\"colt\", \"filly\"], [\"congressman\",\n",
    "                                                        \"congresswoman\"], [\"dad\", \"mom\"], [\"dads\", \"moms\"], [\"dudes\", \"gals\"],\n",
    "        [\"ex_girlfriend\", \"ex_boyfriend\"], [\"father\", \"mother\"], [\n",
    "            \"fatherhood\", \"motherhood\"], [\"fathers\", \"mothers\"], [\"fella\", \"granny\"],\n",
    "        [\"fraternity\", \"sorority\"], [\"gelding\", \"mare\"], [\"gentleman\", \"lady\"], [\n",
    "            \"gentlemen\", \"ladies\"], [\"grandfather\", \"grandmother\"],\n",
    "        [\"grandson\", \"granddaughter\"], [\"he\", \"she\"], [\"himself\", \"herself\"], [\n",
    "            \"his\", \"her\"], [\"king\", \"queen\"], [\"kings\", \"queens\"],\n",
    "        [\"male\", \"female\"], [\"males\", \"females\"], [\"man\", \"woman\"], [\n",
    "            \"men\", \"women\"], [\"nephew\", \"niece\"], [\"prince\", \"princess\"],\n",
    "        [\"schoolboy\", \"schoolgirl\"], [\"son\", \"daughter\"], [\"sons\", \"daughters\"], [\"twin_brother\", \"twin_sister\"]],\n",
    "\n",
    "    \"race\": [\n",
    "        [\"black\", \"caucasian\", \"asian\"],\n",
    "      \t[\"african\", \"caucasian\", \"asian\"],\n",
    "      \t[\"black\", \"white\", \"asian\"],\n",
    "      \t[\"africa\", \"america\", \"asia\"],\n",
    "      \t[\"africa\", \"america\", \"china\"],\n",
    "      \t[\"africa\", \"europe\", \"asia\"]\n",
    "    ]}\n",
    "\n",
    "#Some of the words were taken from the analogies' templates from Cheng and Manzini.\n",
    "#The list is not the same, however, because some of the words were not neutral, but carried some\n",
    "#relation to the social categories.\n",
    "neutral_words = [\"manager\", \"executive\", \"doctor\", \"lawyer\", \"programmer\",\n",
    "                 \"scientist\", \"soldier\", \"supervisor\", \"rancher\", \"janitor\",\n",
    "                 \"firefighter\", \"officer\", \"secretary\", \"nurse\", \"clerk\", \"artist\",\n",
    "                 \"homemaker\", \"dancer\", \"singer\", \"librarian\", \"maid\", \"hairdresser\", \"stylist\",\n",
    "                 \"receptionist\", \"counselor\", \"leader\", \"farmer\",\n",
    "                 \"engineer\", \"laborer\", \"teacher\",\n",
    "                 \"slave\", \"musician\", \"runner\", \"criminal\", \"homeless\",\n",
    "                 \"greedy\", \"cheap\", \"hairy\", \"liberal\",\n",
    "                 \"judgemental\", \"conservative\", \"familial\",\n",
    "                 \"violent\", \"terrorist\", \"dirty\", \"uneducated\", \"educated\"]\n",
    "\n",
    "\n",
    "#However, also the vocabulary without the gendered words from the list can be conceived as neutral, according to Bolukbasi et al.\n"
   ]
  },
  {
   "cell_type": "code",
   "execution_count": 10,
   "metadata": {},
   "outputs": [],
   "source": [
    "#Lists of names for validation\n",
    "#Adapted from Speer's tutorial on racism in sentiment analysis. http://blog.conceptnet.io/posts/2017/how-to-make-a-racist-ai-without-really-trying/\n",
    "names_ethnicity = {\n",
    "    # The first two lists are from the Caliskan et al. appendix describing the\n",
    "    # Word Embedding Association Test.\n",
    "    'White': [\n",
    "        'Adam', 'Chip', 'Harry', 'Josh', 'Roger', 'Alan', 'Frank', 'Ian', 'Justin',\n",
    "        'Ryan', 'Andrew', 'Fred', 'Jack', 'Matthew', 'Stephen', 'Brad', 'Greg', 'Jed',\n",
    "        'Paul', 'Todd', 'Brandon', 'Hank', 'Jonathan', 'Peter', 'Wilbur', 'Amanda',\n",
    "        'Courtney', 'Heather', 'Melanie', 'Sara', 'Amber', 'Crystal', 'Katie',\n",
    "        'Meredith', 'Shannon', 'Betsy', 'Donna', 'Kristin', 'Nancy', 'Stephanie',\n",
    "        'Bobbie-Sue', 'Ellen', 'Lauren', 'Peggy', 'Sue-Ellen', 'Colleen', 'Emily',\n",
    "        'Megan', 'Rachel', 'Wendy'\n",
    "    ],\n",
    "\n",
    "    'Black': [\n",
    "        'Alonzo', 'Jamel', 'Lerone', 'Percell', 'Theo', 'Alphonse', 'Jerome',\n",
    "        'Leroy', 'Rasaan', 'Torrance', 'Darnell', 'Lamar', 'Lionel', 'Rashaun',\n",
    "        'Tyree', 'Deion', 'Lamont', 'Malik', 'Terrence', 'Tyrone', 'Everol',\n",
    "        'Lavon', 'Marcellus', 'Terryl', 'Wardell', 'Aiesha', 'Lashelle', 'Nichelle',\n",
    "        'Shereen', 'Temeka', 'Ebony', 'Latisha', 'Shaniqua', 'Tameisha', 'Teretha',\n",
    "        'Jasmine', 'Latonya', 'Shanise', 'Tanisha', 'Tia', 'Lakisha', 'Latoya',\n",
    "        'Sharise', 'Tashika', 'Yolanda', 'Lashandra', 'Malika', 'Shavonn',\n",
    "        'Tawanda', 'Yvette'\n",
    "    ],\n",
    "    \n",
    "    # This list comes from statistics about common Hispanic-origin names in the US.\n",
    "    'Hispanic': [\n",
    "        'Juan', 'José', 'Miguel', 'Luís', 'Jorge', 'Santiago', 'Matías', 'Sebastián',\n",
    "        'Mateo', 'Nicolás', 'Alejandro', 'Samuel', 'Diego', 'Daniel', 'Tomás',\n",
    "        'Juana', 'Ana', 'Luisa', 'María', 'Elena', 'Sofía', 'Isabella', 'Valentina',\n",
    "        'Camila', 'Valeria', 'Ximena', 'Luciana', 'Mariana', 'Victoria', 'Martina'\n",
    "    ],\n",
    "    \n",
    "   \n",
    "}\n",
    "#Following Bolukbasi et al. Implementing notebook: https://github.com/tolga-b/debiaswe/blob/master/tutorial_example1.ipynb\n",
    "names = [\"Emily\", \"Aisha\", \"Anne\", \"Keisha\", \"Jill\", \"Tamika\", \"Allison\", \"Lakisha\", \"Laurie\", \"Tanisha\", \"Sarah\",\n",
    "         \"Latoya\", \"Meredith\", \"Kenya\", \"Carrie\", \"Latonya\", \"Kristen\", \"Ebony\", \"Todd\", \"Rasheed\", \"Neil\", \"Tremayne\",\n",
    "         \"Geoffrey\", \"Kareem\", \"Brett\", \"Darnell\", \"Brendan\", \"Tyrone\", \"Greg\", \"Hakim\", \"Matthew\", \"Jamal\", \"Jay\",\n",
    "         \"Leroy\", \"Brad\", \"Jermaine\"]\n",
    "#names_group1 = [names[2 * i] for i in range(len(names) // 2)]\n",
    "#names_group2 = [names[2 * i + 1] for i in range(len(names) // 2)]\n",
    "\n"
   ]
  },
  {
   "cell_type": "code",
   "execution_count": 11,
   "metadata": {},
   "outputs": [],
   "source": [
    "#Preparing the definite sets for debiasing\n",
    "def_set_gender=utils.prepare_def_sets_subspace(def_sets[\"gender\"])\n",
    "def_set_race=utils.prepare_def_sets_subspace(def_sets[\"race\"])"
   ]
  },
  {
   "attachments": {},
   "cell_type": "markdown",
   "metadata": {},
   "source": [
    "## What's the better way to find the Bias direction\n",
    "The success of hard debiasing algorithms lies on their capacity to find the appropriate bias direction. "
   ]
  },
  {
   "cell_type": "code",
   "execution_count": 12,
   "metadata": {},
   "outputs": [
    {
     "name": "stdout",
     "output_type": "stream",
     "text": [
      "Number of female words in embeddings: 195\n",
      "Number of male words in embeddings: 204\n"
     ]
    }
   ],
   "source": [
    "#Find the words in the female_vocab that are also in the embeddings\n",
    "female_words_emb=[word for word in female_vocab if word in dict_vec_cleaned.keys()]\n",
    "male_words_emb = [word for word in male_vocab if word in dict_vec_cleaned.keys()]\n",
    "\n",
    "print('Number of female words in embeddings:', len(female_words_emb))\n",
    "print('Number of male words in embeddings:', len(male_words_emb))\n"
   ]
  },
  {
   "cell_type": "code",
   "execution_count": 13,
   "metadata": {},
   "outputs": [
    {
     "name": "stdout",
     "output_type": "stream",
     "text": [
      "Length of vectors set: 22\n",
      "Running PCA with 1 components\n",
      "Length of vectors set: 11\n",
      "Running PCA with 1 components\n"
     ]
    }
   ],
   "source": [
    "#getting the gender directions\n",
    "gen_dir_centralized=identify_bias_subspace(dict_vec_cleaned, def_set_gender, 1, centralizing=True)\n",
    "gen_dir=identify_bias_subspace(dict_vec_cleaned, def_set_gender, 1, centralizing=False)\n",
    "\n",
    "#flattening them\n",
    "gen_dir_centralized_flat=np.squeeze(gen_dir_centralized)\n",
    "gen_dir_flat=np.squeeze(gen_dir)\n"
   ]
  },
  {
   "cell_type": "code",
   "execution_count": 14,
   "metadata": {},
   "outputs": [],
   "source": [
    "#compute the similarity of a word through cosine similarity to the bias direction\n",
    "def compute_similarity_to_bias_direction(dict_vec_cleaned, bias_direction):\n",
    "    bias_direction = bias_direction / np.linalg.norm(bias_direction)\n",
    "    similarity = {}\n",
    "    for word in dict_vec_cleaned.keys():\n",
    "        dict_vec_cleaned[word]=dict_vec_cleaned[word]/np.linalg.norm(dict_vec_cleaned[word])\n",
    "        similarity[word]=utils.cosine_similarity(bias_direction, dict_vec_cleaned[word])\n",
    "    return similarity\n"
   ]
  },
  {
   "cell_type": "code",
   "execution_count": 15,
   "metadata": {},
   "outputs": [],
   "source": [
    "from Scripts.Evaluation import compute_gender_simple_bias, compute_similarity_to_bias_direction\n",
    "similarity=compute_similarity_to_bias_direction(dict_vec_cleaned, gen_dir_flat)\n",
    "similarity_centralized=compute_similarity_to_bias_direction(dict_vec_cleaned, gen_dir_centralized_flat)\n",
    "simple_gender_bias=compute_gender_simple_bias(dict_vec_cleaned, dict_vec_cleaned['he'], dict_vec_cleaned['she'])"
   ]
  },
  {
   "cell_type": "code",
   "execution_count": 41,
   "metadata": {},
   "outputs": [],
   "source": [
    "from operator import itemgetter\n",
    "#function to get the most biased words in dict_vec_cleaned rated my similarity to the bias direction\n",
    "def get_most_biased_words_similarity(similarity, n_words=2500):\n",
    "    sorted_similarity =sorted(similarity.items(), key=itemgetter(1), reverse=True)\n",
    "    biased_words = [word for word, bias in sorted_similarity[:n_words*2]]\n",
    "    neutral_words = [word for word, bias in sorted_similarity[-n_words:]]\n",
    "    return biased_words, neutral_words"
   ]
  },
  {
   "cell_type": "code",
   "execution_count": 75,
   "metadata": {},
   "outputs": [],
   "source": [
    "biased_words, neutral_words=get_most_biased_words_similarity(similarity, n_words=40000)\n"
   ]
  },
  {
   "cell_type": "code",
   "execution_count": 76,
   "metadata": {},
   "outputs": [],
   "source": [
    "#count how many female_words_emb and male_words_emb are in the biased_words\n",
    "def count_gendered_words_in_most_biased(female_words, male_words, biased_words):\n",
    "    count_female=0\n",
    "    count_male=0\n",
    "    data={}\n",
    "    for word in set(female_words):\n",
    "        if word in set(biased_words):\n",
    "            count_female+=1\n",
    "\n",
    "    for word in set(male_words):\n",
    "        if word in set(biased_words):\n",
    "            count_male+=1\n",
    "    \n",
    "    data.update({'count_female': count_female, 'proportion_female': count_female/len(female_words),\n",
    "                     'count_male': count_male, 'proportion_male': count_male/len(male_words)})\n",
    "    return data"
   ]
  },
  {
   "cell_type": "code",
   "execution_count": 77,
   "metadata": {},
   "outputs": [
    {
     "data": {
      "text/plain": [
       "{'count_female': 73,\n",
       " 'proportion_female': 0.37435897435897436,\n",
       " 'count_male': 63,\n",
       " 'proportion_male': 0.3088235294117647}"
      ]
     },
     "execution_count": 77,
     "metadata": {},
     "output_type": "execute_result"
    }
   ],
   "source": [
    "count_gendered_words_in_most_biased(female_words_emb, male_words_emb, biased_words)\n"
   ]
  },
  {
   "cell_type": "code",
   "execution_count": 78,
   "metadata": {},
   "outputs": [
    {
     "data": {
      "text/plain": [
       "{'count_female': 121,\n",
       " 'proportion_female': 0.6205128205128205,\n",
       " 'count_male': 67,\n",
       " 'proportion_male': 0.3284313725490196}"
      ]
     },
     "execution_count": 78,
     "metadata": {},
     "output_type": "execute_result"
    }
   ],
   "source": [
    "biased_words_centralized, neutral_words_centralized=get_most_biased_words_similarity(similarity_centralized, n_words=40000)\n",
    "count_gendered_words_in_most_biased(female_words_emb, male_words_emb, biased_words_centralized)"
   ]
  },
  {
   "cell_type": "code",
   "execution_count": 79,
   "metadata": {},
   "outputs": [
    {
     "data": {
      "text/plain": [
       "{'count_female': 119,\n",
       " 'proportion_female': 0.6102564102564103,\n",
       " 'count_male': 76,\n",
       " 'proportion_male': 0.37254901960784315}"
      ]
     },
     "execution_count": 79,
     "metadata": {},
     "output_type": "execute_result"
    }
   ],
   "source": [
    "_, _, female_simple, male_simple, _ = utils.getting_biased_words(\n",
    "    simple_gender_bias, def_sets['gender'], 40000, word2idx)\n",
    "\n",
    "count_gendered_words_in_most_biased(female_words_emb, male_words_emb,female_simple+male_simple )"
   ]
  },
  {
   "attachments": {},
   "cell_type": "markdown",
   "metadata": {},
   "source": [
    "#### Now let's plot the results"
   ]
  },
  {
   "cell_type": "code",
   "execution_count": 83,
   "metadata": {},
   "outputs": [],
   "source": [
    "import pandas as pd\n",
    "#get a dataframe with the bias scores of the female_words_emb and male_words_emb in the similarity, similarity_centralized and simple_gender_bias\n",
    "def get_df_bias_scores(word_list, similarity, similarity_centralized,simple_bias_score):\n",
    "    scores={}\n",
    "    for word in word_list:\n",
    "        scores[word] = {\"similarity_score\": similarity[word],\n",
    "                        \"centralized_similarity_score\": similarity_centralized[word],\n",
    "                        \"simple_bias_score\": simple_bias_score[word]}\n",
    "    df=pd.DataFrame.from_dict(scores, orient='index')\n",
    "    return df\n",
    "\n"
   ]
  },
  {
   "cell_type": "code",
   "execution_count": 96,
   "metadata": {},
   "outputs": [],
   "source": [
    "df_female=get_df_bias_scores(female_words_emb, similarity, similarity_centralized,simple_gender_bias)\n",
    "df_male=get_df_bias_scores(male_words_emb, similarity, similarity_centralized,simple_gender_bias)"
   ]
  },
  {
   "cell_type": "code",
   "execution_count": 98,
   "metadata": {},
   "outputs": [],
   "source": [
    "#sort the dataframe according to the simple_gender_bias column\n",
    "most_female_bias=df_female.sort_values(by=['simple_bias_score'], ascending=False, inplace=True)\n",
    "most_male_bias=df_male.sort_values(by=['simple_bias_score'], ascending=True, inplace=True)"
   ]
  },
  {
   "cell_type": "code",
   "execution_count": 103,
   "metadata": {},
   "outputs": [],
   "source": [
    "#plot a bar plot of the top 20 most biased words with all the scores of the three methods\n",
    "import plotly_express as px\n",
    "\n",
    "def plot_top_biased_words(df, n_words=20):\n",
    "    df_top=df.head(n_words)\n",
    "    df_top=df_top.reset_index()\n",
    "    df_top=df_top.rename(columns={'index': 'word'})\n",
    "    df_top=df_top.melt(id_vars=['word'], var_name='score_type', value_name='score')\n",
    "    fig = px.bar(df_top, x=\"word\", y=\"score\", color=\"score_type\", barmode=\"group\")\n",
    "    fig.show()\n",
    "\n",
    "\n",
    "plot_top_biased_words(df_female, n_words=20)\n"
   ]
  },
  {
   "cell_type": "code",
   "execution_count": 95,
   "metadata": {},
   "outputs": [
    {
     "data": {
      "text/html": [
       "<div>\n",
       "<style scoped>\n",
       "    .dataframe tbody tr th:only-of-type {\n",
       "        vertical-align: middle;\n",
       "    }\n",
       "\n",
       "    .dataframe tbody tr th {\n",
       "        vertical-align: top;\n",
       "    }\n",
       "\n",
       "    .dataframe thead th {\n",
       "        text-align: right;\n",
       "    }\n",
       "</style>\n",
       "<table border=\"1\" class=\"dataframe\">\n",
       "  <thead>\n",
       "    <tr style=\"text-align: right;\">\n",
       "      <th></th>\n",
       "      <th>similarity_score</th>\n",
       "      <th>centralized_similarity_score</th>\n",
       "      <th>simple_bias_score</th>\n",
       "    </tr>\n",
       "  </thead>\n",
       "  <tbody>\n",
       "    <tr>\n",
       "      <th>diva</th>\n",
       "      <td>0.372622</td>\n",
       "      <td>0.421970</td>\n",
       "      <td>0.270451</td>\n",
       "    </tr>\n",
       "    <tr>\n",
       "      <th>fiancee</th>\n",
       "      <td>0.395955</td>\n",
       "      <td>0.443614</td>\n",
       "      <td>0.253809</td>\n",
       "    </tr>\n",
       "    <tr>\n",
       "      <th>aunt</th>\n",
       "      <td>0.504109</td>\n",
       "      <td>0.438532</td>\n",
       "      <td>0.252506</td>\n",
       "    </tr>\n",
       "    <tr>\n",
       "      <th>girlfriend</th>\n",
       "      <td>0.487989</td>\n",
       "      <td>0.387773</td>\n",
       "      <td>0.236123</td>\n",
       "    </tr>\n",
       "    <tr>\n",
       "      <th>womb</th>\n",
       "      <td>0.267250</td>\n",
       "      <td>0.521725</td>\n",
       "      <td>0.233420</td>\n",
       "    </tr>\n",
       "    <tr>\n",
       "      <th>...</th>\n",
       "      <td>...</td>\n",
       "      <td>...</td>\n",
       "      <td>...</td>\n",
       "    </tr>\n",
       "    <tr>\n",
       "      <th>sororities</th>\n",
       "      <td>0.254547</td>\n",
       "      <td>0.090713</td>\n",
       "      <td>-0.030896</td>\n",
       "    </tr>\n",
       "    <tr>\n",
       "      <th>doe</th>\n",
       "      <td>0.066211</td>\n",
       "      <td>0.110974</td>\n",
       "      <td>-0.032958</td>\n",
       "    </tr>\n",
       "    <tr>\n",
       "      <th>headmistresses</th>\n",
       "      <td>0.365570</td>\n",
       "      <td>0.016649</td>\n",
       "      <td>-0.053225</td>\n",
       "    </tr>\n",
       "    <tr>\n",
       "      <th>landlords</th>\n",
       "      <td>0.058222</td>\n",
       "      <td>0.177305</td>\n",
       "      <td>-0.083148</td>\n",
       "    </tr>\n",
       "    <tr>\n",
       "      <th>horsemen</th>\n",
       "      <td>0.162445</td>\n",
       "      <td>0.312542</td>\n",
       "      <td>-0.094351</td>\n",
       "    </tr>\n",
       "  </tbody>\n",
       "</table>\n",
       "<p>177 rows × 3 columns</p>\n",
       "</div>"
      ],
      "text/plain": [
       "                similarity_score  centralized_similarity_score  \\\n",
       "diva                    0.372622                      0.421970   \n",
       "fiancee                 0.395955                      0.443614   \n",
       "aunt                    0.504109                      0.438532   \n",
       "girlfriend              0.487989                      0.387773   \n",
       "womb                    0.267250                      0.521725   \n",
       "...                          ...                           ...   \n",
       "sororities              0.254547                      0.090713   \n",
       "doe                     0.066211                      0.110974   \n",
       "headmistresses          0.365570                      0.016649   \n",
       "landlords               0.058222                      0.177305   \n",
       "horsemen                0.162445                      0.312542   \n",
       "\n",
       "                simple_bias_score  \n",
       "diva                     0.270451  \n",
       "fiancee                  0.253809  \n",
       "aunt                     0.252506  \n",
       "girlfriend               0.236123  \n",
       "womb                     0.233420  \n",
       "...                           ...  \n",
       "sororities              -0.030896  \n",
       "doe                     -0.032958  \n",
       "headmistresses          -0.053225  \n",
       "landlords               -0.083148  \n",
       "horsemen                -0.094351  \n",
       "\n",
       "[177 rows x 3 columns]"
      ]
     },
     "execution_count": 95,
     "metadata": {},
     "output_type": "execute_result"
    }
   ],
   "source": [
    "df_female"
   ]
  },
  {
   "cell_type": "code",
   "execution_count": 64,
   "metadata": {},
   "outputs": [],
   "source": [
    "#get a histogram of the similarity.values()\n",
    "import matplotlib.pyplot as plt\n",
    "import pandas as pd\n",
    "import numpy as np\n",
    "\n",
    "def plot_histogram(similarity, title):\n",
    "    plt.hist(similarity.values())\n",
    "    plt.title(title)\n",
    "    plt.show()"
   ]
  },
  {
   "cell_type": "code",
   "execution_count": 65,
   "metadata": {},
   "outputs": [
    {
     "data": {
      "image/png": "[encoded data removed]",
      "text/plain": [
       "<Figure size 640x480 with 1 Axes>"
      ]
     },
     "metadata": {},
     "output_type": "display_data"
    }
   ],
   "source": [
    "plot_histogram(similarity, 'Histogram of similarity values')"
   ]
  },
  {
   "cell_type": "code",
   "execution_count": 80,
   "metadata": {},
   "outputs": [
    {
     "data": {
      "image/png": "[encoded data removed]",
      "text/plain": [
       "<Figure size 640x480 with 1 Axes>"
      ]
     },
     "metadata": {},
     "output_type": "display_data"
    }
   ],
   "source": [
    "plot_histogram(similarity_centralized, 'Histogram of centralized similarity values')\n"
   ]
  },
  {
   "cell_type": "code",
   "execution_count": 82,
   "metadata": {},
   "outputs": [
    {
     "data": {
      "image/png": "[encoded data removed]",
      "text/plain": [
       "<Figure size 640x480 with 1 Axes>"
      ]
     },
     "metadata": {},
     "output_type": "display_data"
    }
   ],
   "source": [
    "plot_histogram(simple_gender_bias, 'Histogram of simple gender bias values')\n"
   ]
  },
  {
   "cell_type": "code",
   "execution_count": 20,
   "metadata": {},
   "outputs": [],
   "source": [
    "#get the words in similirity that have values 0\n",
    "def get_words_with_value_zero(similarity):\n",
    "    words=[]\n",
    "    for word in similarity.keys():\n",
    "        if np.allclose(similarity[word],0.5):\n",
    "            words.append(word)\n",
    "    return words"
   ]
  },
  {
   "cell_type": "code",
   "execution_count": 21,
   "metadata": {},
   "outputs": [
    {
     "data": {
      "text/plain": [
       "['mcf']"
      ]
     },
     "execution_count": 21,
     "metadata": {},
     "output_type": "execute_result"
    }
   ],
   "source": [
    "get_words_with_value_zero(similarity)"
   ]
  },
  {
   "attachments": {},
   "cell_type": "markdown",
   "metadata": {},
   "source": [
    "## Evaluation of Slight changes to the algorithm"
   ]
  },
  {
   "cell_type": "code",
   "execution_count": null,
   "metadata": {},
   "outputs": [],
   "source": [
    "from Scripts.Visualization import *\n",
    "from Scripts.Evaluation import *"
   ]
  },
  {
   "attachments": {},
   "cell_type": "markdown",
   "metadata": {},
   "source": [
    "### Setting up parameters and combinations"
   ]
  },
  {
   "cell_type": "code",
   "execution_count": null,
   "metadata": {},
   "outputs": [],
   "source": [
    "# Importing the dataset with all parameter combinations: \n",
    "# norm_direction is a parameter that determines whether the bias direction is normalized or not\n",
    "# normalize is a parameter that determines whether the word vectors are normalized before or after debiasing\n",
    "# centralize is a parameter that determines whether the word vectors are centered before using PCA to find the bias subspace\n",
    "import pandas as pd\n",
    "parameters = pd.read_csv('Data/all_parameter_combinations.csv', header=0)\n",
    "parameters\n"
   ]
  },
  {
   "cell_type": "code",
   "execution_count": null,
   "metadata": {},
   "outputs": [],
   "source": [
    "he_embed = dict_vectors['he']\n",
    "she_embed = dict_vectors['she']\n",
    "occupations = ['assistant', 'secretary', 'data scientist', 'scientist', 'politician', 'janitor', 'hairdresser', 'teacher', 'bartender', 'midwife', 'doctor', 'ballerina', 'dancer', 'pediatrician', 'surgeon', 'physician', 'shopkeeper',  'nurse', 'interior designer', 'architect', 'maid', 'housekeeper', 'soprano', 'baritone', 'servant',  'vocalists', 'guitarists', 'carpenter', 'clerk', 'manager', 'supervisor', 'driver',\n",
    "               'software developer', 'lawyer', 'pitcher', 'bookkeeper', 'infielder', 'receptionist', 'investigator', 'pundit', 'chancellor', 'maestro', 'lecturer', 'salesperson', 'homemaker', 'receptionist', 'librarian', 'nanny', 'bookkeeper', 'stylist', 'housekeeper', 'guidance counselor', 'skipper', 'protege', 'philosopher', 'captain', 'architect', 'financier', 'warrior', 'broadcaster', 'magician', 'figher', 'pilot', 'boss']\n"
   ]
  },
  {
   "cell_type": "code",
   "execution_count": null,
   "metadata": {},
   "outputs": [],
   "source": [
    "# gets the debiased vectors for all the 12 possible scenarios and stores them on a dataframe\n",
    "def get_debiased_vectors(vectors, dict_vectors, word2idx_cleaned,\n",
    "                         vocab_cleaned,\n",
    "                         equalizing_lists,\n",
    "                         def_set, parameters_df):\n",
    "    grand_dictionary = {}\n",
    "    #loop over indexes of the df\n",
    "    for i in range(len(parameters_df)):\n",
    "        #run the hard_debias function with the parameters of the row and generate a dictionary with the results: key=index, value:dictionary, key=name (vectors, vocab, word2idx), value: the result of the function\n",
    "        debiased_vectors, debiased_vocab, debiased_word2idx, debiased_dict= hard_debias(vectors,\n",
    "                             dict_vectors, \n",
    "                             word2idx_cleaned,\n",
    "                             vocab_cleaned, \n",
    "                             equalizing_lists, \n",
    "                             def_set,\n",
    "                             1,\n",
    "                             normalize_dir=parameters_df.iloc[i][0],\n",
    "                             normalize=parameters_df.iloc[i][1],\n",
    "                             centralizing=parameters_df.iloc[i][2])\n",
    "       \n",
    "        #add the variables to the grand dictionary\n",
    "        grand_dictionary[i] = {'vectors': debiased_vectors, 'vocab':debiased_vocab, 'word2idx':debiased_word2idx, 'dict':debiased_dict}\n",
    "                    \n",
    "        \n",
    "    return grand_dictionary"
   ]
  },
  {
   "cell_type": "code",
   "execution_count": null,
   "metadata": {},
   "outputs": [],
   "source": [
    "grand_dict=get_debiased_vectors(vectors, dict_vectors, word2idx_cleaned,\n",
    "                     vocab_cleaned,\n",
    "                     equalizing_lists['gender'],\n",
    "                     def_set_gender, parameters)\n"
   ]
  },
  {
   "attachments": {},
   "cell_type": "markdown",
   "metadata": {},
   "source": [
    "### Bias Pre-Post of selected words. \n",
    "Using the original and debiased vectors, I calculate bias scores in two ways: \n",
    "1. Simple Bias Score: cos(v, she_embed)-cos(v, he_embed) for every v in the vocabulary\n",
    "2. Direct bias score: following Bolukbasi et al. 2016\n",
    "\n",
    "With this, I get a measure of the debiasing effects per word or the chosen list. "
   ]
  },
  {
   "cell_type": "code",
   "execution_count": null,
   "metadata": {},
   "outputs": [],
   "source": [
    "gender_bias_original = compute_gender_simple_bias(\n",
    "    dict_vec_cleaned, he_embed, she_embed)\n",
    "\n",
    "def get_debiased_vectors_scores_plots(grand_dict,dict_vectors,vocab_cleaned,parameters_df,he_embed,she_embed):\n",
    "    scores_dictionary = {}\n",
    "    \n",
    "    #loop over indexes of the df\n",
    "    for i in range(len(parameters_df)):\n",
    "        #debiased_vectors=grand_dict[i]['vectors'] \n",
    "        debiased_vocab=grand_dict[i]['vocab']\n",
    "        #debiased_word2idx=grand_dict[i]['word2idx']\n",
    "        debiased_dict = grand_dict[i]['dict']\n",
    "\n",
    "        # Using the gender bias function to compute the bias of all the words in the limited dataset\n",
    "        #We create a dictionary with the word as key and the bias as value\n",
    "        gender_bias_after_debiasing= compute_gender_simple_bias(debiased_dict, he_embed, she_embed)\n",
    "        \n",
    "        gender_direction = identify_bias_subspace(dict_vectors, def_set_gender, 1, centralizing=parameters_df.iloc[i][2])\n",
    "        if parameters_df.iloc[i][0]:\n",
    "            gender_direction = utils.normalize(gender_direction)\n",
    "        \n",
    "        #use compute_direct_bias to get the scores\n",
    "        direct_gender_bias_original = compute_direct_bias(\n",
    "            dict_vectors, vocab_cleaned, gender_direction)\n",
    "        direct_gender_bias_debiased= compute_direct_bias(debiased_dict, vocab_cleaned, gender_direction)\n",
    "        \n",
    "        scores_dictionary[i] = {'simple_bias': gender_bias_after_debiasing,\n",
    "                                'direct_bias_original': direct_gender_bias_original, \n",
    "                                'direct_bias_debiased': direct_gender_bias_debiased}\n",
    "    return scores_dictionary\n"
   ]
  },
  {
   "cell_type": "code",
   "execution_count": null,
   "metadata": {},
   "outputs": [],
   "source": [
    "scores_dictionary = get_debiased_vectors_scores_plots(\n",
    "    grand_dict,dict_vectors,vocab_cleaned, parameters, he_embed, she_embed)\n"
   ]
  },
  {
   "cell_type": "code",
   "execution_count": null,
   "metadata": {},
   "outputs": [],
   "source": [
    "#Function to get a bar plot comparing pre-post scores for chosen words\n",
    "def getting_plots_simple_scores(grand_dict,test_words, gender_bias_original, scores_dictionary, parameters_df):\n",
    "    for i in range(len(scores_dictionary)):\n",
    "        debiased_vocab=grand_dict[i]['vocab']\n",
    "        gender_bias_debiased=scores_dictionary[i]['simple_bias']\n",
    "        bias_df = get_bias_score_df_from_list(\n",
    "            gender_bias_original, gender_bias_debiased, test_words, vocab_cleaned, debiased_vocab)\n",
    "        print(\"______________________________________\")\n",
    "        print('Experiment_'+str(i), ', normalize_direction:', parameters_df.iloc[i][0], ', normalize_vectors:',parameters_df.iloc[i][1], ', centralize:',parameters_df.iloc[i][2])\n",
    "        plot_bias_bar(bias_df, plot_title=\"Exp_\"+str(i), words_title='words')\n"
   ]
  },
  {
   "cell_type": "code",
   "execution_count": null,
   "metadata": {},
   "outputs": [],
   "source": [
    "#Plots for occupations\n",
    "getting_plots_simple_scores(grand_dict,occupations,gender_bias_original,scores_dictionary, parameters)"
   ]
  },
  {
   "cell_type": "code",
   "execution_count": null,
   "metadata": {},
   "outputs": [],
   "source": [
    "def getting_plots_direct_scores(grand_dict, test_words, scores_dictionary, parameters_df):\n",
    "    for i in range(len(scores_dictionary)):\n",
    "        debiased_vocab = grand_dict[i]['vocab']\n",
    "        direct_gender_bias_original = scores_dictionary[i]['direct_bias_original']\n",
    "        direct_gender_bias_debiased=scores_dictionary[i]['direct_bias_debiased']\n",
    "        bias_df = get_bias_score_df_from_list(\n",
    "            direct_gender_bias_original, direct_gender_bias_debiased, test_words, vocab_cleaned, debiased_vocab)\n",
    "        print(\"______________________________________\")\n",
    "        print('Experiment_'+str(i), ', normalize_direction:',\n",
    "              parameters_df.iloc[i][0], ', normalize_vectors:', parameters_df.iloc[i][1], ', centralize:', parameters_df.iloc[i][2])\n",
    "        plot_bias_bar_direct_bias(\n",
    "            bias_df, plot_title=\"Exp_\"+str(i), words_title='words')\n"
   ]
  },
  {
   "cell_type": "code",
   "execution_count": null,
   "metadata": {},
   "outputs": [],
   "source": [
    "getting_plots_direct_scores(grand_dict,occupations,scores_dictionary, parameters)"
   ]
  },
  {
   "attachments": {},
   "cell_type": "markdown",
   "metadata": {},
   "source": [
    "## Visualizing Clusters of feminine and masculine words\n",
    "Debiasing algorithms are tested through the visualization of the feminine vs masculine clusters. When the clusters are very mingled together, it is said that the debiasing algorithm was successful (as the clusters are no longer linearly separable).\n",
    "\n",
    "I plotted the clusters for all the experiments and interestingly, there are barely any differences between them. I'll still have to check whether the clustering algorithm is working properly. \n"
   ]
  },
  {
   "cell_type": "code",
   "execution_count": null,
   "metadata": {},
   "outputs": [],
   "source": [
    "c_w2i, c_vocab, female_words, male_words, y_true=utils.getting_biased_words(gender_bias_original, def_sets['gender'], 1000, word2idx)"
   ]
  },
  {
   "cell_type": "code",
   "execution_count": null,
   "metadata": {},
   "outputs": [],
   "source": [
    "female_vocab_emb= list(w for w in female_vocab if w in vocab_cleaned)\n",
    "male_vocab_emb= list(w for w in male_vocab if w in vocab_cleaned)"
   ]
  },
  {
   "cell_type": "code",
   "execution_count": null,
   "metadata": {},
   "outputs": [],
   "source": [
    "def visualizing_all_clusters(grand_dict,parameters_df,word_list, y_true): \n",
    "    for i in range(len(parameters_df)):\n",
    "        debiased_vectors=grand_dict[i]['vectors'] \n",
    "        #debiased_vocab=grand_dict[i]['vocab']\n",
    "        debiased_word2idx=grand_dict[i]['word2idx']\n",
    "        #debiased_dict = grand_dict[i]['dict']\n",
    "        gendered_vectors = utils.extract_vectors(\n",
    "            word_list, debiased_vectors, debiased_word2idx)\n",
    "\n",
    "        print('Experiment_'+str(i), ', normalize_direction:',\n",
    "          parameters_df.iloc[i][0], ', normalize_vectors:', parameters_df.iloc[i][1], ', centralize:', parameters_df.iloc[i][2])\n",
    "\n",
    "        cluster_and_visualize(word_list,gendered_vectors, title=('Glove_Exp'+str(i)), y_true=y_true)\n"
   ]
  },
  {
   "cell_type": "code",
   "execution_count": null,
   "metadata": {},
   "outputs": [],
   "source": [
    "gendered_vectors = utils.extract_vectors(\n",
    "    male_words + female_words, vectors_cleaned, word2idx_cleaned)\n",
    "cluster_and_visualize(male_words + female_words,\n",
    "                      gendered_vectors, 'GloVe_original', y_true)\n"
   ]
  },
  {
   "cell_type": "code",
   "execution_count": null,
   "metadata": {},
   "outputs": [],
   "source": [
    "visualizing_all_clusters(grand_dict, parameters,\n",
    "                         male_words + female_words, y_true)\n"
   ]
  },
  {
   "attachments": {},
   "cell_type": "markdown",
   "metadata": {},
   "source": [
    "### MAC Scores\n",
    "The Mean Average Cosine Similarity (MAC) developed by Manzini et al. allows to quantify how big the bias removal was: the closer the score is to one, the largest, the removal. "
   ]
  },
  {
   "cell_type": "code",
   "execution_count": null,
   "metadata": {},
   "outputs": [],
   "source": [
    "targets = [[\"he\", \"she\"],\n",
    "           [\"his\", \"hers\"],\n",
    "           [\"son\", \"daughter\"],\n",
    "           [\"father\", \"mother\"],\n",
    "           [\"male\", \"female\"],\n",
    "           [\"boy\", \"girl\"],\n",
    "           [\"uncle\", \"aunt\"]]\n",
    "\n",
    "Attributes = [[\"manager\", \"executive\", \"doctor\", \"lawyer\", \"programmer\", \"scientist\",\n",
    "                \"soldier\", \"supervisor\", \"rancher\", \"janitor\", \"firefighter\", \"officer\"], [\"secretary\", \"nurse\", \"clerk\", \"artist\", \"homemaker\", \"dancer\", \"singer\", \"librarian\", \"maid\", \"hairdresser\", \"stylist\", \"receptionist\", \"counselor\"]]\n"
   ]
  },
  {
   "cell_type": "code",
   "execution_count": null,
   "metadata": {},
   "outputs": [],
   "source": [
    "def getting_all_mac_scores(grand_dict,parameters_df, dict_vec_cleaned, targets, Attributes): \n",
    "    mac_scores=[]\n",
    "    originalMAC,originalDistribution = multiclass_evaluation_MAC(dict_vec_cleaned, targets, Attributes)\n",
    "    print('Original MAC score:', originalMAC)\n",
    "    mac_scores.append([originalMAC, originalDistribution])\n",
    "    for i in range(len(parameters_df)):\n",
    "        debiased_dict=grand_dict[i]['dict'] \n",
    "        debiasedMAC, debiasedDistribution = multiclass_evaluation_MAC(\n",
    "                debiased_dict, targets, Attributes)\n",
    "        mac_scores.append([debiasedMAC, debiasedDistribution])\n",
    "        \n",
    "        print('Experiment_'+str(i), ', normalize_direction:', parameters_df.iloc[i][0], ', normalize_vectors:',parameters_df.iloc[i][1], ', centralize:',parameters_df.iloc[i][2])\n",
    "        print('Debiased MAC score:', mac_scores[i+1][0])\n",
    "    return mac_scores\n"
   ]
  },
  {
   "cell_type": "code",
   "execution_count": null,
   "metadata": {},
   "outputs": [],
   "source": [
    "mac_scores=getting_all_mac_scores(grand_dict,parameters, dict_vec_cleaned, targets, Attributes)"
   ]
  },
  {
   "attachments": {},
   "cell_type": "markdown",
   "metadata": {},
   "source": [
    "### Random Words Clusters\n",
    "Although debiasing algorithms transform all the embedding vectors, rarely do they report changes in random words, here I explore the closest words to a random list of words (following Ravfogel). I then plot the original neighbors in the debiased embeddings to evaluate what happened to the original clusters"
   ]
  },
  {
   "cell_type": "code",
   "execution_count": null,
   "metadata": {},
   "outputs": [],
   "source": [
    "from collections import defaultdict\n",
    "from sklearn.manifold import TSNE\n",
    "import numpy as np\n",
    "#set a seed for reproducibility\n",
    "np.random.seed(42)\n",
    "#choosing random words from the vocabulary\n",
    "random_words = np.random.choice(vocab_cleaned[:10000], size=20)\n",
    "\n",
    "#setting parameters for the gensim method \"most_similar\"\n",
    "topn = 3\n"
   ]
  },
  {
   "cell_type": "code",
   "execution_count": null,
   "metadata": {},
   "outputs": [],
   "source": [
    "random_words\n"
   ]
  },
  {
   "cell_type": "code",
   "execution_count": null,
   "metadata": {},
   "outputs": [],
   "source": [
    "def get_random_words_clusters(grand_dict, vectors_cleaned,vocab_cleaned, parameters_df, random_words, topn):\n",
    "    model_original = create_KeyedVectors(vectors_cleaned, vocab_cleaned, 50)\n",
    "\n",
    "    for i in range(len(parameters_df)):\n",
    "        debiased_vectors=grand_dict[i]['vectors'] \n",
    "        debiased_vocab=grand_dict[i]['vocab']\n",
    "        model_debiased = create_KeyedVectors(debiased_vectors, debiased_vocab, 50)\n",
    "\n",
    "        words_before_after=finding_neighbors_before_after(random_words, model_original, model_debiased, topn=topn)\n",
    "        print('Experiment_'+str(i), ', normalize_direction:', parameters_df.iloc[i][0], ', normalize_vectors:',parameters_df.iloc[i][1], ', centralize:',parameters_df.iloc[i][2])\n",
    "        print(words_before_after)\n",
    "        \n"
   ]
  },
  {
   "cell_type": "code",
   "execution_count": null,
   "metadata": {},
   "outputs": [],
   "source": [
    "get_random_words_clusters(grand_dict, vectors_cleaned,vocab_cleaned, parameters, random_words, topn)"
   ]
  },
  {
   "cell_type": "code",
   "execution_count": null,
   "metadata": {},
   "outputs": [],
   "source": [
    "def plot_random_words_clusters(parameters_df, random_words, topn):\n",
    "    model_original = create_KeyedVectors(vectors_cleaned, vocab_cleaned, 50)\n",
    "    for i in range(len(parameters_df)):\n",
    "        debiased_vectors = grand_dict[i]['vectors']\n",
    "        debiased_vocab = grand_dict[i]['vocab']\n",
    "        model_debiased = create_KeyedVectors(\n",
    "            debiased_vectors, debiased_vocab, 50)\n",
    "        \n",
    "        #This approach was inspired by the following blog post:https://towardsdatascience.com/google-news-and-leo-tolstoy-visualizing-word2vec-word-embeddings-with-t-sne-11558d8bd4d\n",
    "        keys = random_words\n",
    "        embedding_clusters, db_embedding_clusters, word_clusters = get_embeddings_neighbors(\n",
    "            keys, model_original, model_debiased, topn)\n",
    "\n",
    "        n, m, k = embedding_clusters.shape\n",
    "        tsne_model_en_2d = TSNE(perplexity=2, n_components=2,\n",
    "                                init='pca', n_iter=3500, random_state=32)\n",
    "        embeddings_en_2d = np.array(tsne_model_en_2d.fit_transform(\n",
    "                                embedding_clusters.reshape(n * m, k))).reshape(n, m, 2)\n",
    "        db_embeddings_en_2d = np.array(tsne_model_en_2d.fit_transform(\n",
    "                                db_embedding_clusters.reshape(n * m, k))).reshape(n, m, 2)\n",
    "        print('Experiment_'+str(i), ', normalize_direction:', parameters_df.iloc[i][0], ', normalize_vectors:',parameters_df.iloc[i][1], ', centralize:',parameters_df.iloc[i][2])\n",
    "        \n",
    "        if i==0:\n",
    "            tsne_plot_similar_words('Similar words before Debiasing',\n",
    "                                keys, embeddings_en_2d, word_clusters, 0.7)\n",
    "\n",
    "\n",
    "            tsne_plot_similar_words('Similar words after Debiasing',\n",
    "                        keys, db_embeddings_en_2d, word_clusters, 0.7)\n",
    "        else:\n",
    "            tsne_plot_similar_words('Similar words after Debiasing',\n",
    "                                    keys, db_embeddings_en_2d, word_clusters, 0.7)\n"
   ]
  },
  {
   "cell_type": "code",
   "execution_count": null,
   "metadata": {},
   "outputs": [],
   "source": [
    "plot_random_words_clusters(parameters, random_words, 10)\n"
   ]
  },
  {
   "attachments": {},
   "cell_type": "markdown",
   "metadata": {},
   "source": [
    "### Bias-by-neighbor scores"
   ]
  },
  {
   "cell_type": "code",
   "execution_count": null,
   "metadata": {},
   "outputs": [],
   "source": [
    "#### Bias by neighbor\n",
    "c_w2i, c_vocab, female_words, male_words, y_true = getting_biased_words(\n",
    "    gender_bias_original, def_sets['gender'], 1000, word2idx_cleaned)\n",
    "\n",
    "biased_words = female_words+male_words\n",
    "\n",
    "\n",
    "k_neighbors = finding_neighbors_before_after(\n",
    "    biased_words, model_original, model_debiased, topn=100)\n",
    "\n",
    "#take k_neighbors dictionary and\n",
    "calculate_bias_by_clustering(model_original, model_debiased, biased_words, 50)\n"
   ]
  },
  {
   "attachments": {},
   "cell_type": "markdown",
   "metadata": {},
   "source": [
    "### Saving Embeddings on a txt file.\n",
    "- And loading them as a Gensim model object"
   ]
  },
  {
   "cell_type": "code",
   "execution_count": null,
   "metadata": {},
   "outputs": [],
   "source": [
    "#Saving the debiased vectors and vocab to a text file\n",
    "glove.save_in_word2vec_format(\n",
    "    debiased_vectors, debiased_vocab, \"./Data/vecs.50.cleaned.txt\")\n",
    "\n",
    "#Loading the vectors into a KeyedVectors object 'model_cleaned' that we can use to find the most similar words to a given word\n",
    "model_cleaned, _, _ = load_word_vectors(\n",
    "    fname=\"./Data/vecs.50.cleaned.txt\")\n",
    "\n"
   ]
  }
 ],
 "metadata": {
  "kernelspec": {
   "display_name": ".venv",
   "language": "python",
   "name": "python3"
  },
  "language_info": {
   "codemirror_mode": {
    "name": "ipython",
    "version": 3
   },
   "file_extension": ".py",
   "mimetype": "text/x-python",
   "name": "python",
   "nbconvert_exporter": "python",
   "pygments_lexer": "ipython3",
   "version": "3.10.10"
  },
  "orig_nbformat": 4
 },
 "nbformat": 4,
 "nbformat_minor": 2
}
