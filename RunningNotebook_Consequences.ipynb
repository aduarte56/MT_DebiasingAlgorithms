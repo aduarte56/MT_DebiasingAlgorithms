{
 "cells": [
  {
   "cell_type": "code",
   "execution_count": 1,
   "metadata": {},
   "outputs": [],
   "source": [
    "import codecs\n",
    "import json\n",
    "import numpy as np\n",
    "import sklearn"
   ]
  },
  {
   "cell_type": "code",
   "execution_count": 2,
   "metadata": {},
   "outputs": [],
   "source": [
    "from Scripts.ProcessingEmbeddings import *\n",
    "import Scripts.utils as utils"
   ]
  },
  {
   "cell_type": "code",
   "execution_count": 3,
   "metadata": {},
   "outputs": [
    {
     "name": "stdout",
     "output_type": "stream",
     "text": [
      "Loading Data/glove-wiki-gigaword-300.txt embeddings\n",
      "vectors shape: (400000, 300), word2idx length: 400000, vocab length: 400000\n"
     ]
    }
   ],
   "source": [
    "#Creating an embeddings object: 400k words, 50 dimensions\n",
    "glove=Embeddings('Data/glove-wiki-gigaword-300.txt', gensim=False)\n",
    "#word2vec=Embeddings('Data/word2vec-google-news-300.txt', gensim=False)"
   ]
  },
  {
   "cell_type": "code",
   "execution_count": 4,
   "metadata": {},
   "outputs": [],
   "source": [
    "#Getting the attributes of the embeddings \n",
    "vectors=glove.vectors\n",
    "word2idx=glove.word2idx\n",
    "vocab=glove.words\n",
    "dict_vectors = glove.get_word_vector_dict()\n"
   ]
  },
  {
   "cell_type": "code",
   "execution_count": 5,
   "metadata": {},
   "outputs": [
    {
     "data": {
      "text/plain": [
       "False"
      ]
     },
     "execution_count": 5,
     "metadata": {},
     "output_type": "execute_result"
    }
   ],
   "source": [
    "#Verifying the attributes: there shouldn't be any null values\n",
    "np.isnan(vectors).any()"
   ]
  },
  {
   "cell_type": "code",
   "execution_count": 6,
   "metadata": {},
   "outputs": [
    {
     "name": "stderr",
     "output_type": "stream",
     "text": [
      "100%|██████████| 400000/400000 [00:00<00:00, 634072.26it/s]\n"
     ]
    },
    {
     "name": "stdout",
     "output_type": "stream",
     "text": [
      "Size of limited vocabulary: 327185\n"
     ]
    }
   ],
   "source": [
    "#Removing puntuation and numbers from the embeddings\n",
    "vocab_cleaned, vectors_cleaned, word2idx_cleaned, dict_vec_cleaned = glove.limit_vocab(\n",
    "    vectors, word2idx, vocab)\n"
   ]
  },
  {
   "cell_type": "code",
   "execution_count": 7,
   "metadata": {},
   "outputs": [
    {
     "data": {
      "text/plain": [
       "array([5.18139682, 5.45449219, 5.91459155, ..., 5.73745479, 6.25541744,\n",
       "       3.3774816 ])"
      ]
     },
     "execution_count": 7,
     "metadata": {},
     "output_type": "execute_result"
    }
   ],
   "source": [
    "#Checking if vector are normalized\n",
    "np.apply_along_axis(np.linalg.norm, 1, vectors_cleaned)\n",
    "#They are not!"
   ]
  },
  {
   "attachments": {},
   "cell_type": "markdown",
   "metadata": {},
   "source": [
    "## Hard-Debias Algorithm"
   ]
  },
  {
   "attachments": {},
   "cell_type": "markdown",
   "metadata": {},
   "source": [
    "#### Preliminaries"
   ]
  },
  {
   "cell_type": "code",
   "execution_count": 8,
   "metadata": {},
   "outputs": [],
   "source": [
    "from Scripts.HardDebias import *"
   ]
  },
  {
   "cell_type": "code",
   "execution_count": 9,
   "metadata": {},
   "outputs": [],
   "source": [
    "#Gender specific vocabulary from Bolukbasi's paper.\n",
    "gender_specific = []\n",
    "female_vocab = []\n",
    "male_vocab = []\n",
    "with open('./Data/male_word_file.txt') as f:\n",
    "    male_vocab = [line.strip() for line in f]\n",
    "\n",
    "with open('./Data/female_word_file.txt') as f:\n",
    "    for l in f:\n",
    "        female_vocab.append(l.strip())\n",
    "\n",
    "gender_specific = female_vocab+female_vocab\n",
    "\n",
    "with codecs.open('./Data/gender_specific_full.json') as f:\n",
    "    gender_specific.extend(json.load(f))\n"
   ]
  },
  {
   "cell_type": "code",
   "execution_count": 10,
   "metadata": {},
   "outputs": [],
   "source": [
    "#Getting the definitional sets to calculate afterwards the gender direction. The first 10 gender sets were proposed by Bolukbasi et al. (2016)\n",
    "#Definitional sets for race where proposed by Manzini et al. in Multiclass debiasing of embeddings: https://github.com/TManzini/DebiasMulticlassWordEmbedding/blob/master/Debiasing/data/vocab/race_attributes_optm.json\n",
    "\n",
    "def_sets={\n",
    "    \"gender\" : [\n",
    "    ['she', 'he'], ['herself', 'himself'], ['her', 'his'], ['daughter', 'son'], ['girl', 'boy'],\n",
    "    ['mother', 'father'], ['woman', 'man'], ['mary', 'john'], ['gal', 'guy'], ['female', 'male'],['aunt', 'uncle']],\n",
    "    \n",
    "    \"race\":[\n",
    "\t\t[\"black\", \"caucasian\", \"asian\", \"hispanic\"],\n",
    "\t\t[\"african\", \"caucasian\", \"asian\", \"hispanic\"],\n",
    "\t\t[\"black\", \"white\", \"asian\", \"latino\"],\n",
    "\t\t[\"africa\", \"europe\", \"asia\", \"mexico\"],\n",
    "\t\t[\"africa\", \"america\", \"china\", \"latin-america\"],\n",
    "    ]\n",
    "\t}\n",
    "\n",
    "#Equalizing pairs for gender debiasing were first published by Bolukbasi et al. in https://github.com/tolga-b/debiaswe/blob/master/data/equalize_pairs.json\n",
    "# Equalizing sets for race where defined by Manzini as equal to the defining set (Manzini et al., 2019.p.3)\n",
    "equalizing_lists = {\n",
    "    \"gender\": [\n",
    "        [\"monastery\", \"convent\"], [\"spokesman\", \"spokeswoman\"], [\n",
    "            \"Catholic_priest\", \"nun\"], [\"Dad\", \"Mom\"], [\"Men\", \"Women\"],\n",
    "        [\"councilman\", \"councilwoman\"], [\"grandpa\", \"grandma\"], [\n",
    "            \"grandsons\", \"granddaughters\"], [\"prostate_cancer\", \"ovarian_cancer\"],\n",
    "        [\"testosterone\", \"estrogen\"], [\"uncle\", \"aunt\"], [\n",
    "            \"wives\", \"husbands\"], [\"Father\", \"Mother\"], [\"Grandpa\", \"Grandma\"],\n",
    "        [\"He\", \"She\"], [\"boy\", \"girl\"], [\"boys\", \"girls\"], [\"brother\", \"sister\"], [\n",
    "            \"brothers\", \"sisters\"], [\"businessman\", \"businesswoman\"],\n",
    "        [\"chairman\", \"chairwoman\"], [\"colt\", \"filly\"], [\"congressman\",\n",
    "                                                        \"congresswoman\"], [\"dad\", \"mom\"], [\"dads\", \"moms\"], [\"dudes\", \"gals\"],\n",
    "        [\"ex_girlfriend\", \"ex_boyfriend\"], [\"father\", \"mother\"], [\n",
    "            \"fatherhood\", \"motherhood\"], [\"fathers\", \"mothers\"], [\"fella\", \"granny\"],\n",
    "        [\"fraternity\", \"sorority\"], [\"gelding\", \"mare\"], [\"gentleman\", \"lady\"], [\n",
    "            \"gentlemen\", \"ladies\"], [\"grandfather\", \"grandmother\"],\n",
    "        [\"grandson\", \"granddaughter\"], [\"he\", \"she\"], [\"himself\", \"herself\"], [\n",
    "            \"his\", \"her\"], [\"king\", \"queen\"], [\"kings\", \"queens\"],\n",
    "        [\"male\", \"female\"], [\"males\", \"females\"], [\"man\", \"woman\"], [\n",
    "            \"men\", \"women\"], [\"nephew\", \"niece\"], [\"prince\", \"princess\"],\n",
    "        [\"schoolboy\", \"schoolgirl\"], [\"son\", \"daughter\"], [\"sons\", \"daughters\"], [\"twin_brother\", \"twin_sister\"]],\n",
    "\n",
    "    \"race\": [\n",
    "        [\"black\", \"caucasian\", \"asian\"],\n",
    "      \t[\"african\", \"caucasian\", \"asian\"],\n",
    "      \t[\"black\", \"white\", \"asian\"],\n",
    "      \t[\"africa\", \"america\", \"asia\"],\n",
    "      \t[\"africa\", \"america\", \"china\"],\n",
    "      \t[\"africa\", \"europe\", \"asia\"]\n",
    "    ]}\n",
    "\n",
    "#Some of the words were taken from the analogies' templates from Cheng and Manzini.\n",
    "#The list is not the same, however, because some of the words were not neutral, but carried some\n",
    "#relation to the social categories.\n",
    "neutral_words = [\"manager\", \"executive\", \"doctor\", \"lawyer\", \"programmer\",\n",
    "                 \"scientist\", \"soldier\", \"supervisor\", \"rancher\", \"janitor\",\n",
    "                 \"firefighter\", \"officer\", \"secretary\", \"nurse\", \"clerk\", \"artist\",\n",
    "                 \"homemaker\", \"dancer\", \"singer\", \"librarian\", \"maid\", \"hairdresser\", \"stylist\",\n",
    "                 \"receptionist\", \"counselor\", \"leader\", \"farmer\",\n",
    "                 \"engineer\", \"laborer\", \"teacher\",\n",
    "                 \"slave\", \"musician\", \"runner\", \"criminal\", \"homeless\",\n",
    "                 \"greedy\", \"cheap\", \"hairy\", \"liberal\",\n",
    "                 \"judgemental\", \"conservative\", \"familial\",\n",
    "                 \"violent\", \"terrorist\", \"dirty\", \"uneducated\", \"educated\"]\n",
    "\n",
    "\n",
    "#However, also the vocabulary without the gendered words from the list can be conceived as neutral, according to Bolukbasi et al.\n"
   ]
  },
  {
   "cell_type": "code",
   "execution_count": 11,
   "metadata": {},
   "outputs": [],
   "source": [
    "#Lists of names for validation\n",
    "#Adapted from Speer's tutorial on racism in sentiment analysis. http://blog.conceptnet.io/posts/2017/how-to-make-a-racist-ai-without-really-trying/\n",
    "names_ethnicity = {\n",
    "    # The first two lists are from the Caliskan et al. appendix describing the\n",
    "    # Word Embedding Association Test.\n",
    "    'White': [\n",
    "        'Adam', 'Chip', 'Harry', 'Josh', 'Roger', 'Alan', 'Frank', 'Ian', 'Justin',\n",
    "        'Ryan', 'Andrew', 'Fred', 'Jack', 'Matthew', 'Stephen', 'Brad', 'Greg', 'Jed',\n",
    "        'Paul', 'Todd', 'Brandon', 'Hank', 'Jonathan', 'Peter', 'Wilbur', 'Amanda',\n",
    "        'Courtney', 'Heather', 'Melanie', 'Sara', 'Amber', 'Crystal', 'Katie',\n",
    "        'Meredith', 'Shannon', 'Betsy', 'Donna', 'Kristin', 'Nancy', 'Stephanie',\n",
    "        'Bobbie-Sue', 'Ellen', 'Lauren', 'Peggy', 'Sue-Ellen', 'Colleen', 'Emily',\n",
    "        'Megan', 'Rachel', 'Wendy'\n",
    "    ],\n",
    "\n",
    "    'Black': [\n",
    "        'Alonzo', 'Jamel', 'Jamal', 'Lerone', 'Percell', 'Theo', 'Alphonse', 'Jerome',\n",
    "        'Leroy', 'Rasaan', 'Torrance', 'Darnell', 'Lamar', 'Lionel', 'Rashaun',\n",
    "        'Tyree', 'Deion', 'Lamont', 'Malik', 'Terrence', 'Tyrone', 'Everol',\n",
    "        'Lavon', 'Marcellus', 'Terryl', 'Wardell', 'Aiesha', 'Lashelle', 'Nichelle',\n",
    "        'Shereen', 'Temeka', 'Ebony', 'Latisha', 'Shaniqua', 'Tameisha', 'Teretha',\n",
    "        'Jasmine', 'Latonya', 'Shanise', 'Tanisha', 'Tia', 'Lakisha', 'Latoya',\n",
    "        'Sharise', 'Tashika', 'Yolanda', 'Lashandra', 'Malika', 'Shavonn',\n",
    "        'Tawanda', 'Yvette'\n",
    "    ],\n",
    "    \n",
    "    # This list comes from statistics about common Hispanic-origin names in the US.\n",
    "    'Hispanic': [\n",
    "        'Juan', 'José', 'Miguel', 'Luís', 'Jorge', 'Santiago', 'Matías', 'Sebastián',\n",
    "        'Mateo', 'Nicolás', 'Alejandro', 'Samuel', 'Diego', 'Daniel', 'Tomás',\n",
    "        'Juana', 'Ana', 'Luisa', 'María', 'Elena', 'Sofía', 'Isabella', 'Valentina',\n",
    "        'Camila', 'Valeria', 'Ximena', 'Luciana', 'Mariana', 'Victoria', 'Martina'\n",
    "    ],\n",
    "    \n",
    "   \n",
    "}\n",
    "#Following Bolukbasi et al. Implementing notebook: https://github.com/tolga-b/debiaswe/blob/master/tutorial_example1.ipynb\n",
    "names = [\"Emily\", \"Aisha\", \"Anne\", \"Keisha\", \"Jill\", \"Tamika\", \"Allison\", \"Lakisha\", \"Laurie\", \"Tanisha\", \"Sarah\",\n",
    "         \"Latoya\", \"Meredith\", \"Kenya\", \"Carrie\", \"Latonya\", \"Kristen\", \"Ebony\", \"Todd\", \"Rasheed\", \"Neil\", \"Tremayne\",\n",
    "         \"Geoffrey\", \"Kareem\", \"Brett\", \"Darnell\", \"Brendan\", \"Tyrone\", \"Greg\", \"Hakim\", \"Matthew\", \"Jamal\", \"Jay\",\n",
    "         \"Leroy\", \"Brad\", \"Jermaine\"]\n",
    "#names_group1 = [names[2 * i] for i in range(len(names) // 2)]\n",
    "#names_group2 = [names[2 * i + 1] for i in range(len(names) // 2)]\n",
    "\n"
   ]
  },
  {
   "cell_type": "code",
   "execution_count": 12,
   "metadata": {},
   "outputs": [],
   "source": [
    "#Preparing the definite sets for debiasing\n",
    "def_set_gender=utils.prepare_def_sets_subspace(def_sets[\"gender\"])\n",
    "def_set_race=utils.prepare_def_sets_subspace(def_sets[\"race\"])"
   ]
  },
  {
   "cell_type": "code",
   "execution_count": 13,
   "metadata": {},
   "outputs": [
    {
     "name": "stdout",
     "output_type": "stream",
     "text": [
      "Length of vectors set: 22\n",
      "Running PCA with 1 components\n"
     ]
    }
   ],
   "source": [
    "deb_vect_gender, deb_vocab_gender, deb_word2idx_gender, deb_dict_gender = hard_debias(vectors,\n",
    "                                                                                      dict_vectors,\n",
    "                                                                                      word2idx_cleaned,\n",
    "                                                                                      vocab_cleaned,\n",
    "                                                                                      equalizing_lists['gender'],\n",
    "                                                                                      def_set_gender,\n",
    "                                                                                      1,\n",
    "                                                                                      normalize_dir=False,\n",
    "                                                                                      normalize=None,\n",
    "                                                                                      centralizing=True)\n"
   ]
  },
  {
   "attachments": {},
   "cell_type": "markdown",
   "metadata": {},
   "source": [
    "## Intersectionality study\n",
    "Bias is not binary nor one dimensional, if clusters are shuffled, what is the effect of the shuffling on other social classes? Is there a way to measure it?"
   ]
  },
  {
   "cell_type": "code",
   "execution_count": 14,
   "metadata": {},
   "outputs": [
    {
     "name": "stdout",
     "output_type": "stream",
     "text": [
      "Number of female words in embeddings: 195\n",
      "Number of male words in embeddings: 204\n"
     ]
    }
   ],
   "source": [
    "#Find the words in the female_vocab that are also in the embeddings\n",
    "female_words_emb=[word for word in female_vocab if word in dict_vec_cleaned.keys()]\n",
    "male_words_emb = [word for word in male_vocab if word in dict_vec_cleaned.keys()]\n",
    "\n",
    "print('Number of female words in embeddings:', len(female_words_emb))\n",
    "print('Number of male words in embeddings:', len(male_words_emb))\n"
   ]
  },
  {
   "cell_type": "code",
   "execution_count": 15,
   "metadata": {},
   "outputs": [
    {
     "name": "stdout",
     "output_type": "stream",
     "text": [
      "Length of vectors set: 22\n",
      "Running PCA with 1 components\n"
     ]
    }
   ],
   "source": [
    "#getting the gender directions\n",
    "gen_dir_centralized=identify_bias_subspace(dict_vec_cleaned, def_set_gender, 1, centralizing=True)\n",
    "#flattening them\n",
    "gen_dir_centralized_flat=np.squeeze(gen_dir_centralized)\n"
   ]
  },
  {
   "cell_type": "code",
   "execution_count": 16,
   "metadata": {},
   "outputs": [],
   "source": [
    "from Scripts.Evaluation import compute_gender_simple_bias, compute_similarity_to_bias_direction\n",
    "similarity_centralized=compute_similarity_to_bias_direction(dict_vec_cleaned, gen_dir_centralized_flat)\n",
    "simple_gender_bias=compute_gender_simple_bias(dict_vec_cleaned, dict_vec_cleaned['he'], dict_vec_cleaned['she'])\n",
    "deb_similarity_centralized=compute_similarity_to_bias_direction(deb_dict_gender, gen_dir_centralized_flat)\n",
    "deb_simple_gender_bias=compute_gender_simple_bias(deb_dict_gender, deb_dict_gender['he'], deb_dict_gender['she'])"
   ]
  },
  {
   "cell_type": "code",
   "execution_count": 17,
   "metadata": {},
   "outputs": [
    {
     "name": "stdout",
     "output_type": "stream",
     "text": [
      "Number of white names in embeddings: 48\n",
      "Number of black names in embeddings: 39\n",
      "Number of hispanic names in embeddings: 30\n"
     ]
    }
   ],
   "source": [
    "#Find the words in the female_vocab that are also in the embeddings\n",
    "names_white_emb = [\n",
    "    word.lower() for word in names_ethnicity['White'] if word.lower() in dict_vec_cleaned.keys()]\n",
    "names_black_emb = [\n",
    "    word.lower() for word in names_ethnicity['Black'] if word.lower() in dict_vec_cleaned.keys()]\n",
    "\n",
    "names_hispanic_emb = [\n",
    "    word.lower() for word in names_ethnicity['Hispanic'] if word.lower() in dict_vec_cleaned.keys()]\n",
    "\n",
    "\n",
    "print('Number of white names in embeddings:', len(names_white_emb))\n",
    "print('Number of black names in embeddings:', len(names_black_emb))\n",
    "print('Number of hispanic names in embeddings:', len(names_hispanic_emb))\n",
    "\n"
   ]
  },
  {
   "cell_type": "code",
   "execution_count": 18,
   "metadata": {},
   "outputs": [],
   "source": [
    "import pandas as pd\n",
    "#get a dataframe with the bias scores of the female_words_emb and male_words_emb in the similarity, similarity_centralized and simple_gender_bias\n",
    "\n",
    "\n",
    "def get_df_bias_scores(word_list, similarity_centralized, simple_bias_score):\n",
    "    scores = {}\n",
    "    for word in word_list:\n",
    "        scores[word] = {\"centralized_similarity_score\": (similarity_centralized[word]),\n",
    "                        \"simple_bias_score\": simple_bias_score[word]}\n",
    "    df = pd.DataFrame.from_dict(scores, orient='index')\n",
    "    return df\n"
   ]
  },
  {
   "cell_type": "code",
   "execution_count": 19,
   "metadata": {},
   "outputs": [
    {
     "data": {
      "text/html": [
       "<div>\n",
       "<style scoped>\n",
       "    .dataframe tbody tr th:only-of-type {\n",
       "        vertical-align: middle;\n",
       "    }\n",
       "\n",
       "    .dataframe tbody tr th {\n",
       "        vertical-align: top;\n",
       "    }\n",
       "\n",
       "    .dataframe thead th {\n",
       "        text-align: right;\n",
       "    }\n",
       "</style>\n",
       "<table border=\"1\" class=\"dataframe\">\n",
       "  <thead>\n",
       "    <tr style=\"text-align: right;\">\n",
       "      <th></th>\n",
       "      <th>centralized_similarity_score_orig</th>\n",
       "      <th>simple_bias_score_orig</th>\n",
       "      <th>centralized_similarity_score_deb</th>\n",
       "      <th>simple_bias_score_deb</th>\n",
       "    </tr>\n",
       "  </thead>\n",
       "  <tbody>\n",
       "    <tr>\n",
       "      <th>adam</th>\n",
       "      <td>-0.185898</td>\n",
       "      <td>-0.094373</td>\n",
       "      <td>-1.402362e-07</td>\n",
       "      <td>1.493309e-09</td>\n",
       "    </tr>\n",
       "    <tr>\n",
       "      <th>chip</th>\n",
       "      <td>-0.044571</td>\n",
       "      <td>-0.020428</td>\n",
       "      <td>-7.884275e-08</td>\n",
       "      <td>5.179480e-09</td>\n",
       "    </tr>\n",
       "    <tr>\n",
       "      <th>harry</th>\n",
       "      <td>-0.071752</td>\n",
       "      <td>0.006493</td>\n",
       "      <td>-1.990548e-07</td>\n",
       "      <td>3.913110e-09</td>\n",
       "    </tr>\n",
       "    <tr>\n",
       "      <th>josh</th>\n",
       "      <td>-0.096062</td>\n",
       "      <td>-0.014186</td>\n",
       "      <td>-1.646718e-07</td>\n",
       "      <td>6.410092e-09</td>\n",
       "    </tr>\n",
       "    <tr>\n",
       "      <th>roger</th>\n",
       "      <td>-0.231225</td>\n",
       "      <td>-0.110803</td>\n",
       "      <td>-1.328456e-07</td>\n",
       "      <td>7.128524e-09</td>\n",
       "    </tr>\n",
       "    <tr>\n",
       "      <th>alan</th>\n",
       "      <td>-0.129366</td>\n",
       "      <td>-0.048589</td>\n",
       "      <td>-9.871449e-08</td>\n",
       "      <td>5.221612e-09</td>\n",
       "    </tr>\n",
       "    <tr>\n",
       "      <th>frank</th>\n",
       "      <td>-0.176201</td>\n",
       "      <td>-0.068455</td>\n",
       "      <td>-8.353230e-09</td>\n",
       "      <td>1.151710e-09</td>\n",
       "    </tr>\n",
       "    <tr>\n",
       "      <th>ian</th>\n",
       "      <td>-0.137793</td>\n",
       "      <td>-0.049633</td>\n",
       "      <td>-2.072702e-08</td>\n",
       "      <td>1.013679e-08</td>\n",
       "    </tr>\n",
       "    <tr>\n",
       "      <th>justin</th>\n",
       "      <td>-0.122327</td>\n",
       "      <td>-0.019525</td>\n",
       "      <td>-1.249698e-07</td>\n",
       "      <td>-5.482692e-09</td>\n",
       "    </tr>\n",
       "    <tr>\n",
       "      <th>ryan</th>\n",
       "      <td>-0.077191</td>\n",
       "      <td>-0.017689</td>\n",
       "      <td>-1.789196e-07</td>\n",
       "      <td>1.025711e-08</td>\n",
       "    </tr>\n",
       "    <tr>\n",
       "      <th>andrew</th>\n",
       "      <td>-0.189930</td>\n",
       "      <td>-0.096075</td>\n",
       "      <td>-1.035642e-07</td>\n",
       "      <td>4.218563e-09</td>\n",
       "    </tr>\n",
       "    <tr>\n",
       "      <th>fred</th>\n",
       "      <td>-0.122691</td>\n",
       "      <td>-0.041800</td>\n",
       "      <td>-2.583231e-08</td>\n",
       "      <td>4.867957e-09</td>\n",
       "    </tr>\n",
       "    <tr>\n",
       "      <th>jack</th>\n",
       "      <td>-0.121273</td>\n",
       "      <td>-0.035740</td>\n",
       "      <td>-2.188569e-07</td>\n",
       "      <td>-1.016055e-08</td>\n",
       "    </tr>\n",
       "    <tr>\n",
       "      <th>matthew</th>\n",
       "      <td>-0.110362</td>\n",
       "      <td>-0.020964</td>\n",
       "      <td>-6.771748e-09</td>\n",
       "      <td>1.272975e-08</td>\n",
       "    </tr>\n",
       "    <tr>\n",
       "      <th>stephen</th>\n",
       "      <td>-0.214726</td>\n",
       "      <td>-0.100459</td>\n",
       "      <td>-1.457580e-07</td>\n",
       "      <td>6.677130e-10</td>\n",
       "    </tr>\n",
       "    <tr>\n",
       "      <th>brad</th>\n",
       "      <td>-0.130284</td>\n",
       "      <td>-0.053200</td>\n",
       "      <td>-9.253428e-08</td>\n",
       "      <td>6.253110e-09</td>\n",
       "    </tr>\n",
       "    <tr>\n",
       "      <th>greg</th>\n",
       "      <td>-0.194453</td>\n",
       "      <td>-0.074344</td>\n",
       "      <td>-9.030311e-08</td>\n",
       "      <td>-1.738048e-09</td>\n",
       "    </tr>\n",
       "    <tr>\n",
       "      <th>jed</th>\n",
       "      <td>-0.041211</td>\n",
       "      <td>-0.021692</td>\n",
       "      <td>1.731052e-08</td>\n",
       "      <td>-4.695826e-09</td>\n",
       "    </tr>\n",
       "    <tr>\n",
       "      <th>paul</th>\n",
       "      <td>-0.227191</td>\n",
       "      <td>-0.113225</td>\n",
       "      <td>-1.457010e-07</td>\n",
       "      <td>5.188165e-09</td>\n",
       "    </tr>\n",
       "    <tr>\n",
       "      <th>todd</th>\n",
       "      <td>-0.059653</td>\n",
       "      <td>0.017310</td>\n",
       "      <td>-1.232821e-07</td>\n",
       "      <td>-4.494275e-09</td>\n",
       "    </tr>\n",
       "    <tr>\n",
       "      <th>brandon</th>\n",
       "      <td>-0.070875</td>\n",
       "      <td>-0.022180</td>\n",
       "      <td>-8.625165e-08</td>\n",
       "      <td>-2.554458e-09</td>\n",
       "    </tr>\n",
       "    <tr>\n",
       "      <th>hank</th>\n",
       "      <td>-0.087281</td>\n",
       "      <td>-0.035888</td>\n",
       "      <td>-4.827150e-08</td>\n",
       "      <td>1.666936e-08</td>\n",
       "    </tr>\n",
       "    <tr>\n",
       "      <th>jonathan</th>\n",
       "      <td>-0.126644</td>\n",
       "      <td>-0.042783</td>\n",
       "      <td>-1.856979e-07</td>\n",
       "      <td>8.397771e-09</td>\n",
       "    </tr>\n",
       "    <tr>\n",
       "      <th>peter</th>\n",
       "      <td>-0.216297</td>\n",
       "      <td>-0.090993</td>\n",
       "      <td>-5.452508e-08</td>\n",
       "      <td>7.865946e-09</td>\n",
       "    </tr>\n",
       "    <tr>\n",
       "      <th>wilbur</th>\n",
       "      <td>0.021999</td>\n",
       "      <td>0.063743</td>\n",
       "      <td>7.655740e-08</td>\n",
       "      <td>4.224204e-10</td>\n",
       "    </tr>\n",
       "    <tr>\n",
       "      <th>amanda</th>\n",
       "      <td>0.284590</td>\n",
       "      <td>0.250297</td>\n",
       "      <td>4.488301e-08</td>\n",
       "      <td>1.183238e-08</td>\n",
       "    </tr>\n",
       "    <tr>\n",
       "      <th>courtney</th>\n",
       "      <td>0.083957</td>\n",
       "      <td>0.102521</td>\n",
       "      <td>-2.630273e-08</td>\n",
       "      <td>5.806993e-09</td>\n",
       "    </tr>\n",
       "    <tr>\n",
       "      <th>heather</th>\n",
       "      <td>0.226251</td>\n",
       "      <td>0.193770</td>\n",
       "      <td>1.426730e-07</td>\n",
       "      <td>6.045334e-09</td>\n",
       "    </tr>\n",
       "    <tr>\n",
       "      <th>melanie</th>\n",
       "      <td>0.285961</td>\n",
       "      <td>0.254718</td>\n",
       "      <td>-1.131128e-07</td>\n",
       "      <td>-3.542574e-09</td>\n",
       "    </tr>\n",
       "    <tr>\n",
       "      <th>sara</th>\n",
       "      <td>0.267650</td>\n",
       "      <td>0.187402</td>\n",
       "      <td>-4.692363e-08</td>\n",
       "      <td>4.116392e-09</td>\n",
       "    </tr>\n",
       "    <tr>\n",
       "      <th>amber</th>\n",
       "      <td>0.184056</td>\n",
       "      <td>0.113414</td>\n",
       "      <td>-5.691459e-08</td>\n",
       "      <td>1.429136e-09</td>\n",
       "    </tr>\n",
       "    <tr>\n",
       "      <th>crystal</th>\n",
       "      <td>0.032055</td>\n",
       "      <td>0.022183</td>\n",
       "      <td>-2.229231e-07</td>\n",
       "      <td>4.993375e-10</td>\n",
       "    </tr>\n",
       "    <tr>\n",
       "      <th>katie</th>\n",
       "      <td>0.266298</td>\n",
       "      <td>0.259524</td>\n",
       "      <td>-9.112436e-09</td>\n",
       "      <td>6.032789e-09</td>\n",
       "    </tr>\n",
       "    <tr>\n",
       "      <th>meredith</th>\n",
       "      <td>0.119911</td>\n",
       "      <td>0.100545</td>\n",
       "      <td>-1.807518e-08</td>\n",
       "      <td>5.454919e-09</td>\n",
       "    </tr>\n",
       "    <tr>\n",
       "      <th>shannon</th>\n",
       "      <td>0.069693</td>\n",
       "      <td>0.070266</td>\n",
       "      <td>-2.588014e-08</td>\n",
       "      <td>-3.814843e-09</td>\n",
       "    </tr>\n",
       "    <tr>\n",
       "      <th>betsy</th>\n",
       "      <td>0.216223</td>\n",
       "      <td>0.168720</td>\n",
       "      <td>-5.097439e-08</td>\n",
       "      <td>-1.531861e-08</td>\n",
       "    </tr>\n",
       "    <tr>\n",
       "      <th>donna</th>\n",
       "      <td>0.254052</td>\n",
       "      <td>0.204152</td>\n",
       "      <td>-1.775765e-07</td>\n",
       "      <td>-2.971774e-09</td>\n",
       "    </tr>\n",
       "    <tr>\n",
       "      <th>kristin</th>\n",
       "      <td>0.201049</td>\n",
       "      <td>0.169462</td>\n",
       "      <td>-1.210155e-07</td>\n",
       "      <td>4.371137e-10</td>\n",
       "    </tr>\n",
       "    <tr>\n",
       "      <th>nancy</th>\n",
       "      <td>0.230054</td>\n",
       "      <td>0.203215</td>\n",
       "      <td>-7.814555e-08</td>\n",
       "      <td>-2.225409e-09</td>\n",
       "    </tr>\n",
       "    <tr>\n",
       "      <th>stephanie</th>\n",
       "      <td>0.296362</td>\n",
       "      <td>0.282828</td>\n",
       "      <td>2.044331e-08</td>\n",
       "      <td>-1.189961e-08</td>\n",
       "    </tr>\n",
       "    <tr>\n",
       "      <th>ellen</th>\n",
       "      <td>0.324045</td>\n",
       "      <td>0.240541</td>\n",
       "      <td>5.981530e-08</td>\n",
       "      <td>2.552641e-10</td>\n",
       "    </tr>\n",
       "    <tr>\n",
       "      <th>lauren</th>\n",
       "      <td>0.186109</td>\n",
       "      <td>0.212271</td>\n",
       "      <td>3.097098e-08</td>\n",
       "      <td>2.402670e-09</td>\n",
       "    </tr>\n",
       "    <tr>\n",
       "      <th>peggy</th>\n",
       "      <td>0.231276</td>\n",
       "      <td>0.199953</td>\n",
       "      <td>-7.827369e-08</td>\n",
       "      <td>9.629865e-12</td>\n",
       "    </tr>\n",
       "    <tr>\n",
       "      <th>colleen</th>\n",
       "      <td>0.169323</td>\n",
       "      <td>0.168880</td>\n",
       "      <td>-2.816350e-08</td>\n",
       "      <td>-1.324895e-08</td>\n",
       "    </tr>\n",
       "    <tr>\n",
       "      <th>emily</th>\n",
       "      <td>0.291476</td>\n",
       "      <td>0.241137</td>\n",
       "      <td>2.760817e-08</td>\n",
       "      <td>-7.268021e-10</td>\n",
       "    </tr>\n",
       "    <tr>\n",
       "      <th>megan</th>\n",
       "      <td>0.263545</td>\n",
       "      <td>0.235742</td>\n",
       "      <td>-2.497348e-08</td>\n",
       "      <td>1.885635e-09</td>\n",
       "    </tr>\n",
       "    <tr>\n",
       "      <th>rachel</th>\n",
       "      <td>0.303697</td>\n",
       "      <td>0.259042</td>\n",
       "      <td>-1.372481e-07</td>\n",
       "      <td>-4.347846e-09</td>\n",
       "    </tr>\n",
       "    <tr>\n",
       "      <th>wendy</th>\n",
       "      <td>0.186066</td>\n",
       "      <td>0.191772</td>\n",
       "      <td>3.850626e-08</td>\n",
       "      <td>2.598158e-09</td>\n",
       "    </tr>\n",
       "  </tbody>\n",
       "</table>\n",
       "</div>"
      ],
      "text/plain": [
       "           centralized_similarity_score_orig  simple_bias_score_orig  \\\n",
       "adam                               -0.185898               -0.094373   \n",
       "chip                               -0.044571               -0.020428   \n",
       "harry                              -0.071752                0.006493   \n",
       "josh                               -0.096062               -0.014186   \n",
       "roger                              -0.231225               -0.110803   \n",
       "alan                               -0.129366               -0.048589   \n",
       "frank                              -0.176201               -0.068455   \n",
       "ian                                -0.137793               -0.049633   \n",
       "justin                             -0.122327               -0.019525   \n",
       "ryan                               -0.077191               -0.017689   \n",
       "andrew                             -0.189930               -0.096075   \n",
       "fred                               -0.122691               -0.041800   \n",
       "jack                               -0.121273               -0.035740   \n",
       "matthew                            -0.110362               -0.020964   \n",
       "stephen                            -0.214726               -0.100459   \n",
       "brad                               -0.130284               -0.053200   \n",
       "greg                               -0.194453               -0.074344   \n",
       "jed                                -0.041211               -0.021692   \n",
       "paul                               -0.227191               -0.113225   \n",
       "todd                               -0.059653                0.017310   \n",
       "brandon                            -0.070875               -0.022180   \n",
       "hank                               -0.087281               -0.035888   \n",
       "jonathan                           -0.126644               -0.042783   \n",
       "peter                              -0.216297               -0.090993   \n",
       "wilbur                              0.021999                0.063743   \n",
       "amanda                              0.284590                0.250297   \n",
       "courtney                            0.083957                0.102521   \n",
       "heather                             0.226251                0.193770   \n",
       "melanie                             0.285961                0.254718   \n",
       "sara                                0.267650                0.187402   \n",
       "amber                               0.184056                0.113414   \n",
       "crystal                             0.032055                0.022183   \n",
       "katie                               0.266298                0.259524   \n",
       "meredith                            0.119911                0.100545   \n",
       "shannon                             0.069693                0.070266   \n",
       "betsy                               0.216223                0.168720   \n",
       "donna                               0.254052                0.204152   \n",
       "kristin                             0.201049                0.169462   \n",
       "nancy                               0.230054                0.203215   \n",
       "stephanie                           0.296362                0.282828   \n",
       "ellen                               0.324045                0.240541   \n",
       "lauren                              0.186109                0.212271   \n",
       "peggy                               0.231276                0.199953   \n",
       "colleen                             0.169323                0.168880   \n",
       "emily                               0.291476                0.241137   \n",
       "megan                               0.263545                0.235742   \n",
       "rachel                              0.303697                0.259042   \n",
       "wendy                               0.186066                0.191772   \n",
       "\n",
       "           centralized_similarity_score_deb  simple_bias_score_deb  \n",
       "adam                          -1.402362e-07           1.493309e-09  \n",
       "chip                          -7.884275e-08           5.179480e-09  \n",
       "harry                         -1.990548e-07           3.913110e-09  \n",
       "josh                          -1.646718e-07           6.410092e-09  \n",
       "roger                         -1.328456e-07           7.128524e-09  \n",
       "alan                          -9.871449e-08           5.221612e-09  \n",
       "frank                         -8.353230e-09           1.151710e-09  \n",
       "ian                           -2.072702e-08           1.013679e-08  \n",
       "justin                        -1.249698e-07          -5.482692e-09  \n",
       "ryan                          -1.789196e-07           1.025711e-08  \n",
       "andrew                        -1.035642e-07           4.218563e-09  \n",
       "fred                          -2.583231e-08           4.867957e-09  \n",
       "jack                          -2.188569e-07          -1.016055e-08  \n",
       "matthew                       -6.771748e-09           1.272975e-08  \n",
       "stephen                       -1.457580e-07           6.677130e-10  \n",
       "brad                          -9.253428e-08           6.253110e-09  \n",
       "greg                          -9.030311e-08          -1.738048e-09  \n",
       "jed                            1.731052e-08          -4.695826e-09  \n",
       "paul                          -1.457010e-07           5.188165e-09  \n",
       "todd                          -1.232821e-07          -4.494275e-09  \n",
       "brandon                       -8.625165e-08          -2.554458e-09  \n",
       "hank                          -4.827150e-08           1.666936e-08  \n",
       "jonathan                      -1.856979e-07           8.397771e-09  \n",
       "peter                         -5.452508e-08           7.865946e-09  \n",
       "wilbur                         7.655740e-08           4.224204e-10  \n",
       "amanda                         4.488301e-08           1.183238e-08  \n",
       "courtney                      -2.630273e-08           5.806993e-09  \n",
       "heather                        1.426730e-07           6.045334e-09  \n",
       "melanie                       -1.131128e-07          -3.542574e-09  \n",
       "sara                          -4.692363e-08           4.116392e-09  \n",
       "amber                         -5.691459e-08           1.429136e-09  \n",
       "crystal                       -2.229231e-07           4.993375e-10  \n",
       "katie                         -9.112436e-09           6.032789e-09  \n",
       "meredith                      -1.807518e-08           5.454919e-09  \n",
       "shannon                       -2.588014e-08          -3.814843e-09  \n",
       "betsy                         -5.097439e-08          -1.531861e-08  \n",
       "donna                         -1.775765e-07          -2.971774e-09  \n",
       "kristin                       -1.210155e-07           4.371137e-10  \n",
       "nancy                         -7.814555e-08          -2.225409e-09  \n",
       "stephanie                      2.044331e-08          -1.189961e-08  \n",
       "ellen                          5.981530e-08           2.552641e-10  \n",
       "lauren                         3.097098e-08           2.402670e-09  \n",
       "peggy                         -7.827369e-08           9.629865e-12  \n",
       "colleen                       -2.816350e-08          -1.324895e-08  \n",
       "emily                          2.760817e-08          -7.268021e-10  \n",
       "megan                         -2.497348e-08           1.885635e-09  \n",
       "rachel                        -1.372481e-07          -4.347846e-09  \n",
       "wendy                          3.850626e-08           2.598158e-09  "
      ]
     },
     "execution_count": 19,
     "metadata": {},
     "output_type": "execute_result"
    }
   ],
   "source": [
    "df_names_white=get_df_bias_scores(names_white_emb, similarity_centralized,simple_gender_bias)\n",
    "df_names_black=get_df_bias_scores(names_black_emb, similarity_centralized,simple_gender_bias)\n",
    "df_names_hispanic=get_df_bias_scores(names_hispanic_emb, similarity_centralized,simple_gender_bias)\n",
    "\n",
    "#now the dataframe for the debiased embeddings\n",
    "df_names_white_deb=get_df_bias_scores(names_white_emb, deb_similarity_centralized,deb_simple_gender_bias)\n",
    "df_names_black_deb = get_df_bias_scores(names_black_emb, deb_similarity_centralized,deb_simple_gender_bias)\n",
    "df_names_hispanic_deb = get_df_bias_scores(\n",
    "    names_hispanic_emb, deb_similarity_centralized, deb_simple_gender_bias)\n",
    "\n",
    "#merging the dataframes\n",
    "df_names_white_merged=pd.merge(df_names_white, df_names_white_deb, left_index=True, right_index=True, suffixes=('_orig', '_deb'))\n",
    "df_names_black_merged=pd.merge(df_names_black, df_names_black_deb, left_index=True, right_index=True, suffixes=('_orig', '_deb'))\n",
    "df_names_hispanic_merged=pd.merge(df_names_hispanic, df_names_hispanic_deb, left_index=True, right_index=True, suffixes=('_orig', '_deb'))\n",
    "\n",
    "\n",
    "df_names_white_merged\n"
   ]
  },
  {
   "cell_type": "code",
   "execution_count": 20,
   "metadata": {},
   "outputs": [
    {
     "data": {
      "application/vnd.plotly.v1+json": {
       "config": {
        "plotlyServerURL": "https://plot.ly"
       },
       "data": [
        {
         "marker": {
          "color": "indianred"
         },
         "name": "Original",
         "type": "bar",
         "x": [
          "adam",
          "chip",
          "harry",
          "josh",
          "roger",
          "alan",
          "frank",
          "ian",
          "justin",
          "ryan",
          "andrew",
          "fred",
          "jack",
          "matthew",
          "stephen",
          "brad",
          "greg",
          "jed",
          "paul",
          "todd",
          "brandon",
          "hank",
          "jonathan",
          "peter",
          "wilbur",
          "amanda",
          "courtney",
          "heather",
          "melanie",
          "sara",
          "amber",
          "crystal",
          "katie",
          "meredith",
          "shannon",
          "betsy",
          "donna",
          "kristin",
          "nancy",
          "stephanie",
          "ellen",
          "lauren",
          "peggy",
          "colleen",
          "emily",
          "megan",
          "rachel",
          "wendy"
         ],
         "y": [
          -0.18589805544941254,
          -0.044570565439093886,
          -0.0717523104105927,
          -0.09606160906516643,
          -0.23122539445189969,
          -0.1293658302474666,
          -0.17620134325070846,
          -0.13779256575197196,
          -0.12232691002293584,
          -0.07719114465912867,
          -0.1899297102119825,
          -0.12269110933927636,
          -0.12127316472080224,
          -0.11036157338792975,
          -0.21472628096534593,
          -0.13028371605070652,
          -0.19445251507120065,
          -0.04121149821856899,
          -0.22719135116225433,
          -0.059653172637502146,
          -0.07087461239533929,
          -0.08728067641049381,
          -0.1266440171380168,
          -0.21629689972029814,
          0.02199949428209775,
          0.2845900609411206,
          0.08395706023048181,
          0.22625117386669358,
          0.285960967460518,
          0.2676499234577065,
          0.18405555485242456,
          0.03205520680087955,
          0.2662975772982689,
          0.11991130522556215,
          0.0696928916349015,
          0.21622345398052412,
          0.25405209362866255,
          0.20104901958469398,
          0.2300538887638773,
          0.2963623067303028,
          0.3240446834697261,
          0.1861094796443251,
          0.2312755507631497,
          0.1693226848116439,
          0.2914757952214559,
          0.2635447501191635,
          0.30369724502409245,
          0.1860660610959607
         ]
        },
        {
         "marker": {
          "color": "green"
         },
         "name": "Original_ simple",
         "type": "bar",
         "x": [
          "adam",
          "chip",
          "harry",
          "josh",
          "roger",
          "alan",
          "frank",
          "ian",
          "justin",
          "ryan",
          "andrew",
          "fred",
          "jack",
          "matthew",
          "stephen",
          "brad",
          "greg",
          "jed",
          "paul",
          "todd",
          "brandon",
          "hank",
          "jonathan",
          "peter",
          "wilbur",
          "amanda",
          "courtney",
          "heather",
          "melanie",
          "sara",
          "amber",
          "crystal",
          "katie",
          "meredith",
          "shannon",
          "betsy",
          "donna",
          "kristin",
          "nancy",
          "stephanie",
          "ellen",
          "lauren",
          "peggy",
          "colleen",
          "emily",
          "megan",
          "rachel",
          "wendy"
         ],
         "y": [
          -0.094372804533193,
          -0.020428005328442272,
          0.006492669534465673,
          -0.014186126652990405,
          -0.1108034884245743,
          -0.0485893860488453,
          -0.06845542477270633,
          -0.04963283971552869,
          -0.01952456862517525,
          -0.017689254666563653,
          -0.09607513659400306,
          -0.04179980746188475,
          -0.03574009233045192,
          -0.020963846955861842,
          -0.10045896737599713,
          -0.05320038098097936,
          -0.07434419691544095,
          -0.021692064359288138,
          -0.11322494527537427,
          0.017310393152542153,
          -0.022179752256929072,
          -0.03588756737193467,
          -0.042783409497810704,
          -0.09099316272178704,
          0.06374329188901943,
          0.2502965127913419,
          0.10252073075773421,
          0.19377009982437837,
          0.2547182535377438,
          0.1874021693964443,
          0.11341381737139289,
          0.02218291299846037,
          0.2595235356417964,
          0.10054461181167607,
          0.0702658101364205,
          0.16871998140079847,
          0.20415182002784077,
          0.16946155063896695,
          0.2032153464285895,
          0.2828284935506455,
          0.24054052914387883,
          0.2122712388988563,
          0.19995279650614078,
          0.1688801238841212,
          0.2411372048155459,
          0.2357419242091644,
          0.2590420661405907,
          0.19177233634451413
         ]
        }
       ],
       "layout": {
        "template": {
         "data": {
          "bar": [
           {
            "error_x": {
             "color": "#2a3f5f"
            },
            "error_y": {
             "color": "#2a3f5f"
            },
            "marker": {
             "line": {
              "color": "#E5ECF6",
              "width": 0.5
             },
             "pattern": {
              "fillmode": "overlay",
              "size": 10,
              "solidity": 0.2
             }
            },
            "type": "bar"
           }
          ],
          "barpolar": [
           {
            "marker": {
             "line": {
              "color": "#E5ECF6",
              "width": 0.5
             },
             "pattern": {
              "fillmode": "overlay",
              "size": 10,
              "solidity": 0.2
             }
            },
            "type": "barpolar"
           }
          ],
          "carpet": [
           {
            "aaxis": {
             "endlinecolor": "#2a3f5f",
             "gridcolor": "white",
             "linecolor": "white",
             "minorgridcolor": "white",
             "startlinecolor": "#2a3f5f"
            },
            "baxis": {
             "endlinecolor": "#2a3f5f",
             "gridcolor": "white",
             "linecolor": "white",
             "minorgridcolor": "white",
             "startlinecolor": "#2a3f5f"
            },
            "type": "carpet"
           }
          ],
          "choropleth": [
           {
            "colorbar": {
             "outlinewidth": 0,
             "ticks": ""
            },
            "type": "choropleth"
           }
          ],
          "contour": [
           {
            "colorbar": {
             "outlinewidth": 0,
             "ticks": ""
            },
            "colorscale": [
             [
              0,
              "#0d0887"
             ],
             [
              0.1111111111111111,
              "#46039f"
             ],
             [
              0.2222222222222222,
              "#7201a8"
             ],
             [
              0.3333333333333333,
              "#9c179e"
             ],
             [
              0.4444444444444444,
              "#bd3786"
             ],
             [
              0.5555555555555556,
              "#d8576b"
             ],
             [
              0.6666666666666666,
              "#ed7953"
             ],
             [
              0.7777777777777778,
              "#fb9f3a"
             ],
             [
              0.8888888888888888,
              "#fdca26"
             ],
             [
              1,
              "#f0f921"
             ]
            ],
            "type": "contour"
           }
          ],
          "contourcarpet": [
           {
            "colorbar": {
             "outlinewidth": 0,
             "ticks": ""
            },
            "type": "contourcarpet"
           }
          ],
          "heatmap": [
           {
            "colorbar": {
             "outlinewidth": 0,
             "ticks": ""
            },
            "colorscale": [
             [
              0,
              "#0d0887"
             ],
             [
              0.1111111111111111,
              "#46039f"
             ],
             [
              0.2222222222222222,
              "#7201a8"
             ],
             [
              0.3333333333333333,
              "#9c179e"
             ],
             [
              0.4444444444444444,
              "#bd3786"
             ],
             [
              0.5555555555555556,
              "#d8576b"
             ],
             [
              0.6666666666666666,
              "#ed7953"
             ],
             [
              0.7777777777777778,
              "#fb9f3a"
             ],
             [
              0.8888888888888888,
              "#fdca26"
             ],
             [
              1,
              "#f0f921"
             ]
            ],
            "type": "heatmap"
           }
          ],
          "heatmapgl": [
           {
            "colorbar": {
             "outlinewidth": 0,
             "ticks": ""
            },
            "colorscale": [
             [
              0,
              "#0d0887"
             ],
             [
              0.1111111111111111,
              "#46039f"
             ],
             [
              0.2222222222222222,
              "#7201a8"
             ],
             [
              0.3333333333333333,
              "#9c179e"
             ],
             [
              0.4444444444444444,
              "#bd3786"
             ],
             [
              0.5555555555555556,
              "#d8576b"
             ],
             [
              0.6666666666666666,
              "#ed7953"
             ],
             [
              0.7777777777777778,
              "#fb9f3a"
             ],
             [
              0.8888888888888888,
              "#fdca26"
             ],
             [
              1,
              "#f0f921"
             ]
            ],
            "type": "heatmapgl"
           }
          ],
          "histogram": [
           {
            "marker": {
             "pattern": {
              "fillmode": "overlay",
              "size": 10,
              "solidity": 0.2
             }
            },
            "type": "histogram"
           }
          ],
          "histogram2d": [
           {
            "colorbar": {
             "outlinewidth": 0,
             "ticks": ""
            },
            "colorscale": [
             [
              0,
              "#0d0887"
             ],
             [
              0.1111111111111111,
              "#46039f"
             ],
             [
              0.2222222222222222,
              "#7201a8"
             ],
             [
              0.3333333333333333,
              "#9c179e"
             ],
             [
              0.4444444444444444,
              "#bd3786"
             ],
             [
              0.5555555555555556,
              "#d8576b"
             ],
             [
              0.6666666666666666,
              "#ed7953"
             ],
             [
              0.7777777777777778,
              "#fb9f3a"
             ],
             [
              0.8888888888888888,
              "#fdca26"
             ],
             [
              1,
              "#f0f921"
             ]
            ],
            "type": "histogram2d"
           }
          ],
          "histogram2dcontour": [
           {
            "colorbar": {
             "outlinewidth": 0,
             "ticks": ""
            },
            "colorscale": [
             [
              0,
              "#0d0887"
             ],
             [
              0.1111111111111111,
              "#46039f"
             ],
             [
              0.2222222222222222,
              "#7201a8"
             ],
             [
              0.3333333333333333,
              "#9c179e"
             ],
             [
              0.4444444444444444,
              "#bd3786"
             ],
             [
              0.5555555555555556,
              "#d8576b"
             ],
             [
              0.6666666666666666,
              "#ed7953"
             ],
             [
              0.7777777777777778,
              "#fb9f3a"
             ],
             [
              0.8888888888888888,
              "#fdca26"
             ],
             [
              1,
              "#f0f921"
             ]
            ],
            "type": "histogram2dcontour"
           }
          ],
          "mesh3d": [
           {
            "colorbar": {
             "outlinewidth": 0,
             "ticks": ""
            },
            "type": "mesh3d"
           }
          ],
          "parcoords": [
           {
            "line": {
             "colorbar": {
              "outlinewidth": 0,
              "ticks": ""
             }
            },
            "type": "parcoords"
           }
          ],
          "pie": [
           {
            "automargin": true,
            "type": "pie"
           }
          ],
          "scatter": [
           {
            "fillpattern": {
             "fillmode": "overlay",
             "size": 10,
             "solidity": 0.2
            },
            "type": "scatter"
           }
          ],
          "scatter3d": [
           {
            "line": {
             "colorbar": {
              "outlinewidth": 0,
              "ticks": ""
             }
            },
            "marker": {
             "colorbar": {
              "outlinewidth": 0,
              "ticks": ""
             }
            },
            "type": "scatter3d"
           }
          ],
          "scattercarpet": [
           {
            "marker": {
             "colorbar": {
              "outlinewidth": 0,
              "ticks": ""
             }
            },
            "type": "scattercarpet"
           }
          ],
          "scattergeo": [
           {
            "marker": {
             "colorbar": {
              "outlinewidth": 0,
              "ticks": ""
             }
            },
            "type": "scattergeo"
           }
          ],
          "scattergl": [
           {
            "marker": {
             "colorbar": {
              "outlinewidth": 0,
              "ticks": ""
             }
            },
            "type": "scattergl"
           }
          ],
          "scattermapbox": [
           {
            "marker": {
             "colorbar": {
              "outlinewidth": 0,
              "ticks": ""
             }
            },
            "type": "scattermapbox"
           }
          ],
          "scatterpolar": [
           {
            "marker": {
             "colorbar": {
              "outlinewidth": 0,
              "ticks": ""
             }
            },
            "type": "scatterpolar"
           }
          ],
          "scatterpolargl": [
           {
            "marker": {
             "colorbar": {
              "outlinewidth": 0,
              "ticks": ""
             }
            },
            "type": "scatterpolargl"
           }
          ],
          "scatterternary": [
           {
            "marker": {
             "colorbar": {
              "outlinewidth": 0,
              "ticks": ""
             }
            },
            "type": "scatterternary"
           }
          ],
          "surface": [
           {
            "colorbar": {
             "outlinewidth": 0,
             "ticks": ""
            },
            "colorscale": [
             [
              0,
              "#0d0887"
             ],
             [
              0.1111111111111111,
              "#46039f"
             ],
             [
              0.2222222222222222,
              "#7201a8"
             ],
             [
              0.3333333333333333,
              "#9c179e"
             ],
             [
              0.4444444444444444,
              "#bd3786"
             ],
             [
              0.5555555555555556,
              "#d8576b"
             ],
             [
              0.6666666666666666,
              "#ed7953"
             ],
             [
              0.7777777777777778,
              "#fb9f3a"
             ],
             [
              0.8888888888888888,
              "#fdca26"
             ],
             [
              1,
              "#f0f921"
             ]
            ],
            "type": "surface"
           }
          ],
          "table": [
           {
            "cells": {
             "fill": {
              "color": "#EBF0F8"
             },
             "line": {
              "color": "white"
             }
            },
            "header": {
             "fill": {
              "color": "#C8D4E3"
             },
             "line": {
              "color": "white"
             }
            },
            "type": "table"
           }
          ]
         },
         "layout": {
          "annotationdefaults": {
           "arrowcolor": "#2a3f5f",
           "arrowhead": 0,
           "arrowwidth": 1
          },
          "autotypenumbers": "strict",
          "coloraxis": {
           "colorbar": {
            "outlinewidth": 0,
            "ticks": ""
           }
          },
          "colorscale": {
           "diverging": [
            [
             0,
             "#8e0152"
            ],
            [
             0.1,
             "#c51b7d"
            ],
            [
             0.2,
             "#de77ae"
            ],
            [
             0.3,
             "#f1b6da"
            ],
            [
             0.4,
             "#fde0ef"
            ],
            [
             0.5,
             "#f7f7f7"
            ],
            [
             0.6,
             "#e6f5d0"
            ],
            [
             0.7,
             "#b8e186"
            ],
            [
             0.8,
             "#7fbc41"
            ],
            [
             0.9,
             "#4d9221"
            ],
            [
             1,
             "#276419"
            ]
           ],
           "sequential": [
            [
             0,
             "#0d0887"
            ],
            [
             0.1111111111111111,
             "#46039f"
            ],
            [
             0.2222222222222222,
             "#7201a8"
            ],
            [
             0.3333333333333333,
             "#9c179e"
            ],
            [
             0.4444444444444444,
             "#bd3786"
            ],
            [
             0.5555555555555556,
             "#d8576b"
            ],
            [
             0.6666666666666666,
             "#ed7953"
            ],
            [
             0.7777777777777778,
             "#fb9f3a"
            ],
            [
             0.8888888888888888,
             "#fdca26"
            ],
            [
             1,
             "#f0f921"
            ]
           ],
           "sequentialminus": [
            [
             0,
             "#0d0887"
            ],
            [
             0.1111111111111111,
             "#46039f"
            ],
            [
             0.2222222222222222,
             "#7201a8"
            ],
            [
             0.3333333333333333,
             "#9c179e"
            ],
            [
             0.4444444444444444,
             "#bd3786"
            ],
            [
             0.5555555555555556,
             "#d8576b"
            ],
            [
             0.6666666666666666,
             "#ed7953"
            ],
            [
             0.7777777777777778,
             "#fb9f3a"
            ],
            [
             0.8888888888888888,
             "#fdca26"
            ],
            [
             1,
             "#f0f921"
            ]
           ]
          },
          "colorway": [
           "#636efa",
           "#EF553B",
           "#00cc96",
           "#ab63fa",
           "#FFA15A",
           "#19d3f3",
           "#FF6692",
           "#B6E880",
           "#FF97FF",
           "#FECB52"
          ],
          "font": {
           "color": "#2a3f5f"
          },
          "geo": {
           "bgcolor": "white",
           "lakecolor": "white",
           "landcolor": "#E5ECF6",
           "showlakes": true,
           "showland": true,
           "subunitcolor": "white"
          },
          "hoverlabel": {
           "align": "left"
          },
          "hovermode": "closest",
          "mapbox": {
           "style": "light"
          },
          "paper_bgcolor": "white",
          "plot_bgcolor": "#E5ECF6",
          "polar": {
           "angularaxis": {
            "gridcolor": "white",
            "linecolor": "white",
            "ticks": ""
           },
           "bgcolor": "#E5ECF6",
           "radialaxis": {
            "gridcolor": "white",
            "linecolor": "white",
            "ticks": ""
           }
          },
          "scene": {
           "xaxis": {
            "backgroundcolor": "#E5ECF6",
            "gridcolor": "white",
            "gridwidth": 2,
            "linecolor": "white",
            "showbackground": true,
            "ticks": "",
            "zerolinecolor": "white"
           },
           "yaxis": {
            "backgroundcolor": "#E5ECF6",
            "gridcolor": "white",
            "gridwidth": 2,
            "linecolor": "white",
            "showbackground": true,
            "ticks": "",
            "zerolinecolor": "white"
           },
           "zaxis": {
            "backgroundcolor": "#E5ECF6",
            "gridcolor": "white",
            "gridwidth": 2,
            "linecolor": "white",
            "showbackground": true,
            "ticks": "",
            "zerolinecolor": "white"
           }
          },
          "shapedefaults": {
           "line": {
            "color": "#2a3f5f"
           }
          },
          "ternary": {
           "aaxis": {
            "gridcolor": "white",
            "linecolor": "white",
            "ticks": ""
           },
           "baxis": {
            "gridcolor": "white",
            "linecolor": "white",
            "ticks": ""
           },
           "bgcolor": "#E5ECF6",
           "caxis": {
            "gridcolor": "white",
            "linecolor": "white",
            "ticks": ""
           }
          },
          "title": {
           "x": 0.05
          },
          "xaxis": {
           "automargin": true,
           "gridcolor": "white",
           "linecolor": "white",
           "ticks": "",
           "title": {
            "standoff": 15
           },
           "zerolinecolor": "white",
           "zerolinewidth": 2
          },
          "yaxis": {
           "automargin": true,
           "gridcolor": "white",
           "linecolor": "white",
           "ticks": "",
           "title": {
            "standoff": 15
           },
           "zerolinecolor": "white",
           "zerolinewidth": 2
          }
         }
        }
       }
      }
     },
     "metadata": {},
     "output_type": "display_data"
    },
    {
     "data": {
      "application/vnd.plotly.v1+json": {
       "config": {
        "plotlyServerURL": "https://plot.ly"
       },
       "data": [
        {
         "marker": {
          "color": "lightgreen"
         },
         "name": "Debiased_ simple",
         "type": "bar",
         "x": [
          "adam",
          "chip",
          "harry",
          "josh",
          "roger",
          "alan",
          "frank",
          "ian",
          "justin",
          "ryan",
          "andrew",
          "fred",
          "jack",
          "matthew",
          "stephen",
          "brad",
          "greg",
          "jed",
          "paul",
          "todd",
          "brandon",
          "hank",
          "jonathan",
          "peter",
          "wilbur",
          "amanda",
          "courtney",
          "heather",
          "melanie",
          "sara",
          "amber",
          "crystal",
          "katie",
          "meredith",
          "shannon",
          "betsy",
          "donna",
          "kristin",
          "nancy",
          "stephanie",
          "ellen",
          "lauren",
          "peggy",
          "colleen",
          "emily",
          "megan",
          "rachel",
          "wendy"
         ],
         "y": [
          1.4933088238189285e-9,
          5.17948043655958e-9,
          3.913110335762582e-9,
          6.410092172337567e-9,
          7.128523628156802e-9,
          5.221612281447463e-9,
          1.151710365965286e-9,
          1.0136792377712922e-8,
          -5.4826921405681794e-9,
          1.0257108887939959e-8,
          4.2185628670865505e-9,
          4.867957252574495e-9,
          -1.0160551337790036e-8,
          1.2729746257100771e-8,
          6.677130029442147e-10,
          6.253110374984661e-9,
          -1.7380480110684715e-9,
          -4.695825721323654e-9,
          5.188164713815224e-9,
          -4.494274624954357e-9,
          -2.5544575898983624e-9,
          1.6669364187593683e-8,
          8.39777097860761e-9,
          7.865946359542075e-9,
          4.224203833946838e-10,
          1.183238260149544e-8,
          5.806993354055823e-9,
          6.045334108306655e-9,
          -3.542573828035911e-9,
          4.116392223613152e-9,
          1.4291359623497257e-9,
          4.99337474146877e-10,
          6.032789485847789e-9,
          5.454918988734292e-9,
          -3.814842927662987e-9,
          -1.531861244449817e-8,
          -2.97177430580442e-9,
          4.37113734097494e-10,
          -2.2254090931150827e-9,
          -1.1899611646742914e-8,
          2.5526406682852e-10,
          2.402670069845403e-9,
          9.629864614058015e-12,
          -1.3248950908595347e-8,
          -7.268021323669771e-10,
          1.8856346761797482e-9,
          -4.347846305208236e-9,
          2.5981577722600235e-9
         ]
        },
        {
         "marker": {
          "color": "lightsalmon"
         },
         "name": "Debiased",
         "type": "bar",
         "x": [
          "adam",
          "chip",
          "harry",
          "josh",
          "roger",
          "alan",
          "frank",
          "ian",
          "justin",
          "ryan",
          "andrew",
          "fred",
          "jack",
          "matthew",
          "stephen",
          "brad",
          "greg",
          "jed",
          "paul",
          "todd",
          "brandon",
          "hank",
          "jonathan",
          "peter",
          "wilbur",
          "amanda",
          "courtney",
          "heather",
          "melanie",
          "sara",
          "amber",
          "crystal",
          "katie",
          "meredith",
          "shannon",
          "betsy",
          "donna",
          "kristin",
          "nancy",
          "stephanie",
          "ellen",
          "lauren",
          "peggy",
          "colleen",
          "emily",
          "megan",
          "rachel",
          "wendy"
         ],
         "y": [
          -1.402361619628513e-7,
          -7.884274889121551e-8,
          -1.9905481836619832e-7,
          -1.6467182186894955e-7,
          -1.3284563896631338e-7,
          -9.871448819172635e-8,
          -8.353230041479797e-9,
          -2.0727020734294385e-8,
          -1.249697824392496e-7,
          -1.7891961836147968e-7,
          -1.0356421420529978e-7,
          -2.583230591501201e-8,
          -2.1885693818942537e-7,
          -6.771748488777069e-9,
          -1.4575797422961172e-7,
          -9.2534277523087e-8,
          -9.030311091343804e-8,
          1.7310521311514334e-8,
          -1.4570097463728268e-7,
          -1.2328209277046034e-7,
          -8.62516481934389e-8,
          -4.827150368097097e-8,
          -1.8569786121476473e-7,
          -5.4525083566236976e-8,
          7.655739966034051e-8,
          4.488301154565236e-8,
          -2.6302730079207355e-8,
          1.4267304481569397e-7,
          -1.1311279736296587e-7,
          -4.692363289333228e-8,
          -5.691459262988908e-8,
          -2.2292314110243164e-7,
          -9.112436338484796e-9,
          -1.807518406520339e-8,
          -2.588014146216732e-8,
          -5.0974391646823984e-8,
          -1.7757646161593174e-7,
          -1.210155230147933e-7,
          -7.814554682430282e-8,
          2.0443308963204173e-8,
          5.981530113753629e-8,
          3.097097614132571e-8,
          -7.827368685370609e-8,
          -2.8163504818198848e-8,
          2.760817060815795e-8,
          -2.4973484600600282e-8,
          -1.3724814351993503e-7,
          3.850625717241596e-8
         ]
        }
       ],
       "layout": {
        "template": {
         "data": {
          "bar": [
           {
            "error_x": {
             "color": "#2a3f5f"
            },
            "error_y": {
             "color": "#2a3f5f"
            },
            "marker": {
             "line": {
              "color": "#E5ECF6",
              "width": 0.5
             },
             "pattern": {
              "fillmode": "overlay",
              "size": 10,
              "solidity": 0.2
             }
            },
            "type": "bar"
           }
          ],
          "barpolar": [
           {
            "marker": {
             "line": {
              "color": "#E5ECF6",
              "width": 0.5
             },
             "pattern": {
              "fillmode": "overlay",
              "size": 10,
              "solidity": 0.2
             }
            },
            "type": "barpolar"
           }
          ],
          "carpet": [
           {
            "aaxis": {
             "endlinecolor": "#2a3f5f",
             "gridcolor": "white",
             "linecolor": "white",
             "minorgridcolor": "white",
             "startlinecolor": "#2a3f5f"
            },
            "baxis": {
             "endlinecolor": "#2a3f5f",
             "gridcolor": "white",
             "linecolor": "white",
             "minorgridcolor": "white",
             "startlinecolor": "#2a3f5f"
            },
            "type": "carpet"
           }
          ],
          "choropleth": [
           {
            "colorbar": {
             "outlinewidth": 0,
             "ticks": ""
            },
            "type": "choropleth"
           }
          ],
          "contour": [
           {
            "colorbar": {
             "outlinewidth": 0,
             "ticks": ""
            },
            "colorscale": [
             [
              0,
              "#0d0887"
             ],
             [
              0.1111111111111111,
              "#46039f"
             ],
             [
              0.2222222222222222,
              "#7201a8"
             ],
             [
              0.3333333333333333,
              "#9c179e"
             ],
             [
              0.4444444444444444,
              "#bd3786"
             ],
             [
              0.5555555555555556,
              "#d8576b"
             ],
             [
              0.6666666666666666,
              "#ed7953"
             ],
             [
              0.7777777777777778,
              "#fb9f3a"
             ],
             [
              0.8888888888888888,
              "#fdca26"
             ],
             [
              1,
              "#f0f921"
             ]
            ],
            "type": "contour"
           }
          ],
          "contourcarpet": [
           {
            "colorbar": {
             "outlinewidth": 0,
             "ticks": ""
            },
            "type": "contourcarpet"
           }
          ],
          "heatmap": [
           {
            "colorbar": {
             "outlinewidth": 0,
             "ticks": ""
            },
            "colorscale": [
             [
              0,
              "#0d0887"
             ],
             [
              0.1111111111111111,
              "#46039f"
             ],
             [
              0.2222222222222222,
              "#7201a8"
             ],
             [
              0.3333333333333333,
              "#9c179e"
             ],
             [
              0.4444444444444444,
              "#bd3786"
             ],
             [
              0.5555555555555556,
              "#d8576b"
             ],
             [
              0.6666666666666666,
              "#ed7953"
             ],
             [
              0.7777777777777778,
              "#fb9f3a"
             ],
             [
              0.8888888888888888,
              "#fdca26"
             ],
             [
              1,
              "#f0f921"
             ]
            ],
            "type": "heatmap"
           }
          ],
          "heatmapgl": [
           {
            "colorbar": {
             "outlinewidth": 0,
             "ticks": ""
            },
            "colorscale": [
             [
              0,
              "#0d0887"
             ],
             [
              0.1111111111111111,
              "#46039f"
             ],
             [
              0.2222222222222222,
              "#7201a8"
             ],
             [
              0.3333333333333333,
              "#9c179e"
             ],
             [
              0.4444444444444444,
              "#bd3786"
             ],
             [
              0.5555555555555556,
              "#d8576b"
             ],
             [
              0.6666666666666666,
              "#ed7953"
             ],
             [
              0.7777777777777778,
              "#fb9f3a"
             ],
             [
              0.8888888888888888,
              "#fdca26"
             ],
             [
              1,
              "#f0f921"
             ]
            ],
            "type": "heatmapgl"
           }
          ],
          "histogram": [
           {
            "marker": {
             "pattern": {
              "fillmode": "overlay",
              "size": 10,
              "solidity": 0.2
             }
            },
            "type": "histogram"
           }
          ],
          "histogram2d": [
           {
            "colorbar": {
             "outlinewidth": 0,
             "ticks": ""
            },
            "colorscale": [
             [
              0,
              "#0d0887"
             ],
             [
              0.1111111111111111,
              "#46039f"
             ],
             [
              0.2222222222222222,
              "#7201a8"
             ],
             [
              0.3333333333333333,
              "#9c179e"
             ],
             [
              0.4444444444444444,
              "#bd3786"
             ],
             [
              0.5555555555555556,
              "#d8576b"
             ],
             [
              0.6666666666666666,
              "#ed7953"
             ],
             [
              0.7777777777777778,
              "#fb9f3a"
             ],
             [
              0.8888888888888888,
              "#fdca26"
             ],
             [
              1,
              "#f0f921"
             ]
            ],
            "type": "histogram2d"
           }
          ],
          "histogram2dcontour": [
           {
            "colorbar": {
             "outlinewidth": 0,
             "ticks": ""
            },
            "colorscale": [
             [
              0,
              "#0d0887"
             ],
             [
              0.1111111111111111,
              "#46039f"
             ],
             [
              0.2222222222222222,
              "#7201a8"
             ],
             [
              0.3333333333333333,
              "#9c179e"
             ],
             [
              0.4444444444444444,
              "#bd3786"
             ],
             [
              0.5555555555555556,
              "#d8576b"
             ],
             [
              0.6666666666666666,
              "#ed7953"
             ],
             [
              0.7777777777777778,
              "#fb9f3a"
             ],
             [
              0.8888888888888888,
              "#fdca26"
             ],
             [
              1,
              "#f0f921"
             ]
            ],
            "type": "histogram2dcontour"
           }
          ],
          "mesh3d": [
           {
            "colorbar": {
             "outlinewidth": 0,
             "ticks": ""
            },
            "type": "mesh3d"
           }
          ],
          "parcoords": [
           {
            "line": {
             "colorbar": {
              "outlinewidth": 0,
              "ticks": ""
             }
            },
            "type": "parcoords"
           }
          ],
          "pie": [
           {
            "automargin": true,
            "type": "pie"
           }
          ],
          "scatter": [
           {
            "fillpattern": {
             "fillmode": "overlay",
             "size": 10,
             "solidity": 0.2
            },
            "type": "scatter"
           }
          ],
          "scatter3d": [
           {
            "line": {
             "colorbar": {
              "outlinewidth": 0,
              "ticks": ""
             }
            },
            "marker": {
             "colorbar": {
              "outlinewidth": 0,
              "ticks": ""
             }
            },
            "type": "scatter3d"
           }
          ],
          "scattercarpet": [
           {
            "marker": {
             "colorbar": {
              "outlinewidth": 0,
              "ticks": ""
             }
            },
            "type": "scattercarpet"
           }
          ],
          "scattergeo": [
           {
            "marker": {
             "colorbar": {
              "outlinewidth": 0,
              "ticks": ""
             }
            },
            "type": "scattergeo"
           }
          ],
          "scattergl": [
           {
            "marker": {
             "colorbar": {
              "outlinewidth": 0,
              "ticks": ""
             }
            },
            "type": "scattergl"
           }
          ],
          "scattermapbox": [
           {
            "marker": {
             "colorbar": {
              "outlinewidth": 0,
              "ticks": ""
             }
            },
            "type": "scattermapbox"
           }
          ],
          "scatterpolar": [
           {
            "marker": {
             "colorbar": {
              "outlinewidth": 0,
              "ticks": ""
             }
            },
            "type": "scatterpolar"
           }
          ],
          "scatterpolargl": [
           {
            "marker": {
             "colorbar": {
              "outlinewidth": 0,
              "ticks": ""
             }
            },
            "type": "scatterpolargl"
           }
          ],
          "scatterternary": [
           {
            "marker": {
             "colorbar": {
              "outlinewidth": 0,
              "ticks": ""
             }
            },
            "type": "scatterternary"
           }
          ],
          "surface": [
           {
            "colorbar": {
             "outlinewidth": 0,
             "ticks": ""
            },
            "colorscale": [
             [
              0,
              "#0d0887"
             ],
             [
              0.1111111111111111,
              "#46039f"
             ],
             [
              0.2222222222222222,
              "#7201a8"
             ],
             [
              0.3333333333333333,
              "#9c179e"
             ],
             [
              0.4444444444444444,
              "#bd3786"
             ],
             [
              0.5555555555555556,
              "#d8576b"
             ],
             [
              0.6666666666666666,
              "#ed7953"
             ],
             [
              0.7777777777777778,
              "#fb9f3a"
             ],
             [
              0.8888888888888888,
              "#fdca26"
             ],
             [
              1,
              "#f0f921"
             ]
            ],
            "type": "surface"
           }
          ],
          "table": [
           {
            "cells": {
             "fill": {
              "color": "#EBF0F8"
             },
             "line": {
              "color": "white"
             }
            },
            "header": {
             "fill": {
              "color": "#C8D4E3"
             },
             "line": {
              "color": "white"
             }
            },
            "type": "table"
           }
          ]
         },
         "layout": {
          "annotationdefaults": {
           "arrowcolor": "#2a3f5f",
           "arrowhead": 0,
           "arrowwidth": 1
          },
          "autotypenumbers": "strict",
          "coloraxis": {
           "colorbar": {
            "outlinewidth": 0,
            "ticks": ""
           }
          },
          "colorscale": {
           "diverging": [
            [
             0,
             "#8e0152"
            ],
            [
             0.1,
             "#c51b7d"
            ],
            [
             0.2,
             "#de77ae"
            ],
            [
             0.3,
             "#f1b6da"
            ],
            [
             0.4,
             "#fde0ef"
            ],
            [
             0.5,
             "#f7f7f7"
            ],
            [
             0.6,
             "#e6f5d0"
            ],
            [
             0.7,
             "#b8e186"
            ],
            [
             0.8,
             "#7fbc41"
            ],
            [
             0.9,
             "#4d9221"
            ],
            [
             1,
             "#276419"
            ]
           ],
           "sequential": [
            [
             0,
             "#0d0887"
            ],
            [
             0.1111111111111111,
             "#46039f"
            ],
            [
             0.2222222222222222,
             "#7201a8"
            ],
            [
             0.3333333333333333,
             "#9c179e"
            ],
            [
             0.4444444444444444,
             "#bd3786"
            ],
            [
             0.5555555555555556,
             "#d8576b"
            ],
            [
             0.6666666666666666,
             "#ed7953"
            ],
            [
             0.7777777777777778,
             "#fb9f3a"
            ],
            [
             0.8888888888888888,
             "#fdca26"
            ],
            [
             1,
             "#f0f921"
            ]
           ],
           "sequentialminus": [
            [
             0,
             "#0d0887"
            ],
            [
             0.1111111111111111,
             "#46039f"
            ],
            [
             0.2222222222222222,
             "#7201a8"
            ],
            [
             0.3333333333333333,
             "#9c179e"
            ],
            [
             0.4444444444444444,
             "#bd3786"
            ],
            [
             0.5555555555555556,
             "#d8576b"
            ],
            [
             0.6666666666666666,
             "#ed7953"
            ],
            [
             0.7777777777777778,
             "#fb9f3a"
            ],
            [
             0.8888888888888888,
             "#fdca26"
            ],
            [
             1,
             "#f0f921"
            ]
           ]
          },
          "colorway": [
           "#636efa",
           "#EF553B",
           "#00cc96",
           "#ab63fa",
           "#FFA15A",
           "#19d3f3",
           "#FF6692",
           "#B6E880",
           "#FF97FF",
           "#FECB52"
          ],
          "font": {
           "color": "#2a3f5f"
          },
          "geo": {
           "bgcolor": "white",
           "lakecolor": "white",
           "landcolor": "#E5ECF6",
           "showlakes": true,
           "showland": true,
           "subunitcolor": "white"
          },
          "hoverlabel": {
           "align": "left"
          },
          "hovermode": "closest",
          "mapbox": {
           "style": "light"
          },
          "paper_bgcolor": "white",
          "plot_bgcolor": "#E5ECF6",
          "polar": {
           "angularaxis": {
            "gridcolor": "white",
            "linecolor": "white",
            "ticks": ""
           },
           "bgcolor": "#E5ECF6",
           "radialaxis": {
            "gridcolor": "white",
            "linecolor": "white",
            "ticks": ""
           }
          },
          "scene": {
           "xaxis": {
            "backgroundcolor": "#E5ECF6",
            "gridcolor": "white",
            "gridwidth": 2,
            "linecolor": "white",
            "showbackground": true,
            "ticks": "",
            "zerolinecolor": "white"
           },
           "yaxis": {
            "backgroundcolor": "#E5ECF6",
            "gridcolor": "white",
            "gridwidth": 2,
            "linecolor": "white",
            "showbackground": true,
            "ticks": "",
            "zerolinecolor": "white"
           },
           "zaxis": {
            "backgroundcolor": "#E5ECF6",
            "gridcolor": "white",
            "gridwidth": 2,
            "linecolor": "white",
            "showbackground": true,
            "ticks": "",
            "zerolinecolor": "white"
           }
          },
          "shapedefaults": {
           "line": {
            "color": "#2a3f5f"
           }
          },
          "ternary": {
           "aaxis": {
            "gridcolor": "white",
            "linecolor": "white",
            "ticks": ""
           },
           "baxis": {
            "gridcolor": "white",
            "linecolor": "white",
            "ticks": ""
           },
           "bgcolor": "#E5ECF6",
           "caxis": {
            "gridcolor": "white",
            "linecolor": "white",
            "ticks": ""
           }
          },
          "title": {
           "x": 0.05
          },
          "xaxis": {
           "automargin": true,
           "gridcolor": "white",
           "linecolor": "white",
           "ticks": "",
           "title": {
            "standoff": 15
           },
           "zerolinecolor": "white",
           "zerolinewidth": 2
          },
          "yaxis": {
           "automargin": true,
           "gridcolor": "white",
           "linecolor": "white",
           "ticks": "",
           "title": {
            "standoff": 15
           },
           "zerolinecolor": "white",
           "zerolinewidth": 2
          }
         }
        }
       }
      }
     },
     "metadata": {},
     "output_type": "display_data"
    }
   ],
   "source": [
    "# To do: plot the barplots of similarity and simple bias scores faceted for original and debiased embeddings\n",
    "import plotly_express as px\n",
    "import plotly.graph_objects as go\n",
    "from plotly.subplots import make_subplots\n",
    "\n",
    "fig = go.Figure()\n",
    "#fig= make_subplots(specs=[[{\"secondary_y\": True}]])\n",
    "\n",
    "fig.add_trace(go.Bar(\n",
    "    x=df_names_white_merged.index,\n",
    "    y=df_names_white_merged['centralized_similarity_score_orig'],\n",
    "    name='Original',\n",
    "    marker_color='indianred'),\n",
    "    #secondary_y=False\n",
    ")\n",
    "fig.add_trace(go.Bar(x=df_names_white_merged.index,\n",
    "                     y=df_names_white_merged['simple_bias_score_orig'],\n",
    "                     name='Original_ simple',\n",
    "                     marker_color='green'),\n",
    "                     #secondary_y=False\n",
    "                     )\n",
    "\n",
    "\n",
    "fig1 = go.Figure()\n",
    "fig1.add_trace(go.Bar(x=df_names_white_merged.index,\n",
    "                        y=df_names_white_merged['simple_bias_score_deb'],\n",
    "                        name='Debiased_ simple',\n",
    "                        marker_color='lightgreen'), \n",
    "                        #secondary_y=True\n",
    "                        )\n",
    "\n",
    "\n",
    "fig1.add_trace(go.Bar(\n",
    "    x=df_names_white_merged.index,\n",
    "    y=df_names_white_merged['centralized_similarity_score_deb'],\n",
    "    name='Debiased',\n",
    "    marker_color='lightsalmon'),\n",
    "    #secondary_y=True\n",
    ")\n",
    "\n",
    "fig.show()\n",
    "fig1.show()"
   ]
  },
  {
   "cell_type": "code",
   "execution_count": 21,
   "metadata": {},
   "outputs": [
    {
     "data": {
      "application/vnd.plotly.v1+json": {
       "config": {
        "plotlyServerURL": "https://plot.ly"
       },
       "data": [
        {
         "alignmentgroup": "True",
         "hovertemplate": "score_type=centralized_similarity_score<br>score=%{x}<br>word=%{y}<extra></extra>",
         "legendgroup": "centralized_similarity_score",
         "marker": {
          "color": "#636efa",
          "pattern": {
           "shape": ""
          }
         },
         "name": "centralized_similarity_score",
         "offsetgroup": "centralized_similarity_score",
         "orientation": "h",
         "showlegend": true,
         "textposition": "auto",
         "type": "bar",
         "x": [
          -0.18589805544941254,
          -0.044570565439093886,
          -0.0717523104105927,
          -0.09606160906516643,
          -0.23122539445189969,
          -0.1293658302474666,
          -0.17620134325070846,
          -0.13779256575197196,
          -0.12232691002293584,
          -0.07719114465912867,
          -0.1899297102119825,
          -0.12269110933927636,
          -0.12127316472080224,
          -0.11036157338792975,
          -0.21472628096534593,
          -0.13028371605070652,
          -0.19445251507120065,
          -0.04121149821856899,
          -0.22719135116225433,
          -0.059653172637502146,
          -0.07087461239533929,
          -0.08728067641049381,
          -0.1266440171380168,
          -0.21629689972029814,
          0.02199949428209775,
          0.2845900609411206,
          0.08395706023048181,
          0.22625117386669358,
          0.285960967460518,
          0.2676499234577065,
          0.18405555485242456,
          0.03205520680087955,
          0.2662975772982689,
          0.11991130522556215,
          0.0696928916349015,
          0.21622345398052412,
          0.25405209362866255,
          0.20104901958469398,
          0.2300538887638773,
          0.2963623067303028,
          0.3240446834697261,
          0.1861094796443251,
          0.2312755507631497,
          0.1693226848116439,
          0.2914757952214559,
          0.2635447501191635,
          0.30369724502409245,
          0.1860660610959607
         ],
         "xaxis": "x",
         "y": [
          "adam",
          "chip",
          "harry",
          "josh",
          "roger",
          "alan",
          "frank",
          "ian",
          "justin",
          "ryan",
          "andrew",
          "fred",
          "jack",
          "matthew",
          "stephen",
          "brad",
          "greg",
          "jed",
          "paul",
          "todd",
          "brandon",
          "hank",
          "jonathan",
          "peter",
          "wilbur",
          "amanda",
          "courtney",
          "heather",
          "melanie",
          "sara",
          "amber",
          "crystal",
          "katie",
          "meredith",
          "shannon",
          "betsy",
          "donna",
          "kristin",
          "nancy",
          "stephanie",
          "ellen",
          "lauren",
          "peggy",
          "colleen",
          "emily",
          "megan",
          "rachel",
          "wendy"
         ],
         "yaxis": "y"
        },
        {
         "alignmentgroup": "True",
         "hovertemplate": "score_type=simple_bias_score<br>score=%{x}<br>word=%{y}<extra></extra>",
         "legendgroup": "simple_bias_score",
         "marker": {
          "color": "#EF553B",
          "pattern": {
           "shape": ""
          }
         },
         "name": "simple_bias_score",
         "offsetgroup": "simple_bias_score",
         "orientation": "h",
         "showlegend": true,
         "textposition": "auto",
         "type": "bar",
         "x": [
          -0.094372804533193,
          -0.020428005328442272,
          0.006492669534465673,
          -0.014186126652990405,
          -0.1108034884245743,
          -0.0485893860488453,
          -0.06845542477270633,
          -0.04963283971552869,
          -0.01952456862517525,
          -0.017689254666563653,
          -0.09607513659400306,
          -0.04179980746188475,
          -0.03574009233045192,
          -0.020963846955861842,
          -0.10045896737599713,
          -0.05320038098097936,
          -0.07434419691544095,
          -0.021692064359288138,
          -0.11322494527537427,
          0.017310393152542153,
          -0.022179752256929072,
          -0.03588756737193467,
          -0.042783409497810704,
          -0.09099316272178704,
          0.06374329188901943,
          0.2502965127913419,
          0.10252073075773421,
          0.19377009982437837,
          0.2547182535377438,
          0.1874021693964443,
          0.11341381737139289,
          0.02218291299846037,
          0.2595235356417964,
          0.10054461181167607,
          0.0702658101364205,
          0.16871998140079847,
          0.20415182002784077,
          0.16946155063896695,
          0.2032153464285895,
          0.2828284935506455,
          0.24054052914387883,
          0.2122712388988563,
          0.19995279650614078,
          0.1688801238841212,
          0.2411372048155459,
          0.2357419242091644,
          0.2590420661405907,
          0.19177233634451413
         ],
         "xaxis": "x",
         "y": [
          "adam",
          "chip",
          "harry",
          "josh",
          "roger",
          "alan",
          "frank",
          "ian",
          "justin",
          "ryan",
          "andrew",
          "fred",
          "jack",
          "matthew",
          "stephen",
          "brad",
          "greg",
          "jed",
          "paul",
          "todd",
          "brandon",
          "hank",
          "jonathan",
          "peter",
          "wilbur",
          "amanda",
          "courtney",
          "heather",
          "melanie",
          "sara",
          "amber",
          "crystal",
          "katie",
          "meredith",
          "shannon",
          "betsy",
          "donna",
          "kristin",
          "nancy",
          "stephanie",
          "ellen",
          "lauren",
          "peggy",
          "colleen",
          "emily",
          "megan",
          "rachel",
          "wendy"
         ],
         "yaxis": "y"
        }
       ],
       "layout": {
        "barmode": "group",
        "height": 1000,
        "legend": {
         "title": {
          "text": "score_type"
         },
         "tracegroupgap": 0
        },
        "template": {
         "data": {
          "bar": [
           {
            "error_x": {
             "color": "#2a3f5f"
            },
            "error_y": {
             "color": "#2a3f5f"
            },
            "marker": {
             "line": {
              "color": "#E5ECF6",
              "width": 0.5
             },
             "pattern": {
              "fillmode": "overlay",
              "size": 10,
              "solidity": 0.2
             }
            },
            "type": "bar"
           }
          ],
          "barpolar": [
           {
            "marker": {
             "line": {
              "color": "#E5ECF6",
              "width": 0.5
             },
             "pattern": {
              "fillmode": "overlay",
              "size": 10,
              "solidity": 0.2
             }
            },
            "type": "barpolar"
           }
          ],
          "carpet": [
           {
            "aaxis": {
             "endlinecolor": "#2a3f5f",
             "gridcolor": "white",
             "linecolor": "white",
             "minorgridcolor": "white",
             "startlinecolor": "#2a3f5f"
            },
            "baxis": {
             "endlinecolor": "#2a3f5f",
             "gridcolor": "white",
             "linecolor": "white",
             "minorgridcolor": "white",
             "startlinecolor": "#2a3f5f"
            },
            "type": "carpet"
           }
          ],
          "choropleth": [
           {
            "colorbar": {
             "outlinewidth": 0,
             "ticks": ""
            },
            "type": "choropleth"
           }
          ],
          "contour": [
           {
            "colorbar": {
             "outlinewidth": 0,
             "ticks": ""
            },
            "colorscale": [
             [
              0,
              "#0d0887"
             ],
             [
              0.1111111111111111,
              "#46039f"
             ],
             [
              0.2222222222222222,
              "#7201a8"
             ],
             [
              0.3333333333333333,
              "#9c179e"
             ],
             [
              0.4444444444444444,
              "#bd3786"
             ],
             [
              0.5555555555555556,
              "#d8576b"
             ],
             [
              0.6666666666666666,
              "#ed7953"
             ],
             [
              0.7777777777777778,
              "#fb9f3a"
             ],
             [
              0.8888888888888888,
              "#fdca26"
             ],
             [
              1,
              "#f0f921"
             ]
            ],
            "type": "contour"
           }
          ],
          "contourcarpet": [
           {
            "colorbar": {
             "outlinewidth": 0,
             "ticks": ""
            },
            "type": "contourcarpet"
           }
          ],
          "heatmap": [
           {
            "colorbar": {
             "outlinewidth": 0,
             "ticks": ""
            },
            "colorscale": [
             [
              0,
              "#0d0887"
             ],
             [
              0.1111111111111111,
              "#46039f"
             ],
             [
              0.2222222222222222,
              "#7201a8"
             ],
             [
              0.3333333333333333,
              "#9c179e"
             ],
             [
              0.4444444444444444,
              "#bd3786"
             ],
             [
              0.5555555555555556,
              "#d8576b"
             ],
             [
              0.6666666666666666,
              "#ed7953"
             ],
             [
              0.7777777777777778,
              "#fb9f3a"
             ],
             [
              0.8888888888888888,
              "#fdca26"
             ],
             [
              1,
              "#f0f921"
             ]
            ],
            "type": "heatmap"
           }
          ],
          "heatmapgl": [
           {
            "colorbar": {
             "outlinewidth": 0,
             "ticks": ""
            },
            "colorscale": [
             [
              0,
              "#0d0887"
             ],
             [
              0.1111111111111111,
              "#46039f"
             ],
             [
              0.2222222222222222,
              "#7201a8"
             ],
             [
              0.3333333333333333,
              "#9c179e"
             ],
             [
              0.4444444444444444,
              "#bd3786"
             ],
             [
              0.5555555555555556,
              "#d8576b"
             ],
             [
              0.6666666666666666,
              "#ed7953"
             ],
             [
              0.7777777777777778,
              "#fb9f3a"
             ],
             [
              0.8888888888888888,
              "#fdca26"
             ],
             [
              1,
              "#f0f921"
             ]
            ],
            "type": "heatmapgl"
           }
          ],
          "histogram": [
           {
            "marker": {
             "pattern": {
              "fillmode": "overlay",
              "size": 10,
              "solidity": 0.2
             }
            },
            "type": "histogram"
           }
          ],
          "histogram2d": [
           {
            "colorbar": {
             "outlinewidth": 0,
             "ticks": ""
            },
            "colorscale": [
             [
              0,
              "#0d0887"
             ],
             [
              0.1111111111111111,
              "#46039f"
             ],
             [
              0.2222222222222222,
              "#7201a8"
             ],
             [
              0.3333333333333333,
              "#9c179e"
             ],
             [
              0.4444444444444444,
              "#bd3786"
             ],
             [
              0.5555555555555556,
              "#d8576b"
             ],
             [
              0.6666666666666666,
              "#ed7953"
             ],
             [
              0.7777777777777778,
              "#fb9f3a"
             ],
             [
              0.8888888888888888,
              "#fdca26"
             ],
             [
              1,
              "#f0f921"
             ]
            ],
            "type": "histogram2d"
           }
          ],
          "histogram2dcontour": [
           {
            "colorbar": {
             "outlinewidth": 0,
             "ticks": ""
            },
            "colorscale": [
             [
              0,
              "#0d0887"
             ],
             [
              0.1111111111111111,
              "#46039f"
             ],
             [
              0.2222222222222222,
              "#7201a8"
             ],
             [
              0.3333333333333333,
              "#9c179e"
             ],
             [
              0.4444444444444444,
              "#bd3786"
             ],
             [
              0.5555555555555556,
              "#d8576b"
             ],
             [
              0.6666666666666666,
              "#ed7953"
             ],
             [
              0.7777777777777778,
              "#fb9f3a"
             ],
             [
              0.8888888888888888,
              "#fdca26"
             ],
             [
              1,
              "#f0f921"
             ]
            ],
            "type": "histogram2dcontour"
           }
          ],
          "mesh3d": [
           {
            "colorbar": {
             "outlinewidth": 0,
             "ticks": ""
            },
            "type": "mesh3d"
           }
          ],
          "parcoords": [
           {
            "line": {
             "colorbar": {
              "outlinewidth": 0,
              "ticks": ""
             }
            },
            "type": "parcoords"
           }
          ],
          "pie": [
           {
            "automargin": true,
            "type": "pie"
           }
          ],
          "scatter": [
           {
            "fillpattern": {
             "fillmode": "overlay",
             "size": 10,
             "solidity": 0.2
            },
            "type": "scatter"
           }
          ],
          "scatter3d": [
           {
            "line": {
             "colorbar": {
              "outlinewidth": 0,
              "ticks": ""
             }
            },
            "marker": {
             "colorbar": {
              "outlinewidth": 0,
              "ticks": ""
             }
            },
            "type": "scatter3d"
           }
          ],
          "scattercarpet": [
           {
            "marker": {
             "colorbar": {
              "outlinewidth": 0,
              "ticks": ""
             }
            },
            "type": "scattercarpet"
           }
          ],
          "scattergeo": [
           {
            "marker": {
             "colorbar": {
              "outlinewidth": 0,
              "ticks": ""
             }
            },
            "type": "scattergeo"
           }
          ],
          "scattergl": [
           {
            "marker": {
             "colorbar": {
              "outlinewidth": 0,
              "ticks": ""
             }
            },
            "type": "scattergl"
           }
          ],
          "scattermapbox": [
           {
            "marker": {
             "colorbar": {
              "outlinewidth": 0,
              "ticks": ""
             }
            },
            "type": "scattermapbox"
           }
          ],
          "scatterpolar": [
           {
            "marker": {
             "colorbar": {
              "outlinewidth": 0,
              "ticks": ""
             }
            },
            "type": "scatterpolar"
           }
          ],
          "scatterpolargl": [
           {
            "marker": {
             "colorbar": {
              "outlinewidth": 0,
              "ticks": ""
             }
            },
            "type": "scatterpolargl"
           }
          ],
          "scatterternary": [
           {
            "marker": {
             "colorbar": {
              "outlinewidth": 0,
              "ticks": ""
             }
            },
            "type": "scatterternary"
           }
          ],
          "surface": [
           {
            "colorbar": {
             "outlinewidth": 0,
             "ticks": ""
            },
            "colorscale": [
             [
              0,
              "#0d0887"
             ],
             [
              0.1111111111111111,
              "#46039f"
             ],
             [
              0.2222222222222222,
              "#7201a8"
             ],
             [
              0.3333333333333333,
              "#9c179e"
             ],
             [
              0.4444444444444444,
              "#bd3786"
             ],
             [
              0.5555555555555556,
              "#d8576b"
             ],
             [
              0.6666666666666666,
              "#ed7953"
             ],
             [
              0.7777777777777778,
              "#fb9f3a"
             ],
             [
              0.8888888888888888,
              "#fdca26"
             ],
             [
              1,
              "#f0f921"
             ]
            ],
            "type": "surface"
           }
          ],
          "table": [
           {
            "cells": {
             "fill": {
              "color": "#EBF0F8"
             },
             "line": {
              "color": "white"
             }
            },
            "header": {
             "fill": {
              "color": "#C8D4E3"
             },
             "line": {
              "color": "white"
             }
            },
            "type": "table"
           }
          ]
         },
         "layout": {
          "annotationdefaults": {
           "arrowcolor": "#2a3f5f",
           "arrowhead": 0,
           "arrowwidth": 1
          },
          "autotypenumbers": "strict",
          "coloraxis": {
           "colorbar": {
            "outlinewidth": 0,
            "ticks": ""
           }
          },
          "colorscale": {
           "diverging": [
            [
             0,
             "#8e0152"
            ],
            [
             0.1,
             "#c51b7d"
            ],
            [
             0.2,
             "#de77ae"
            ],
            [
             0.3,
             "#f1b6da"
            ],
            [
             0.4,
             "#fde0ef"
            ],
            [
             0.5,
             "#f7f7f7"
            ],
            [
             0.6,
             "#e6f5d0"
            ],
            [
             0.7,
             "#b8e186"
            ],
            [
             0.8,
             "#7fbc41"
            ],
            [
             0.9,
             "#4d9221"
            ],
            [
             1,
             "#276419"
            ]
           ],
           "sequential": [
            [
             0,
             "#0d0887"
            ],
            [
             0.1111111111111111,
             "#46039f"
            ],
            [
             0.2222222222222222,
             "#7201a8"
            ],
            [
             0.3333333333333333,
             "#9c179e"
            ],
            [
             0.4444444444444444,
             "#bd3786"
            ],
            [
             0.5555555555555556,
             "#d8576b"
            ],
            [
             0.6666666666666666,
             "#ed7953"
            ],
            [
             0.7777777777777778,
             "#fb9f3a"
            ],
            [
             0.8888888888888888,
             "#fdca26"
            ],
            [
             1,
             "#f0f921"
            ]
           ],
           "sequentialminus": [
            [
             0,
             "#0d0887"
            ],
            [
             0.1111111111111111,
             "#46039f"
            ],
            [
             0.2222222222222222,
             "#7201a8"
            ],
            [
             0.3333333333333333,
             "#9c179e"
            ],
            [
             0.4444444444444444,
             "#bd3786"
            ],
            [
             0.5555555555555556,
             "#d8576b"
            ],
            [
             0.6666666666666666,
             "#ed7953"
            ],
            [
             0.7777777777777778,
             "#fb9f3a"
            ],
            [
             0.8888888888888888,
             "#fdca26"
            ],
            [
             1,
             "#f0f921"
            ]
           ]
          },
          "colorway": [
           "#636efa",
           "#EF553B",
           "#00cc96",
           "#ab63fa",
           "#FFA15A",
           "#19d3f3",
           "#FF6692",
           "#B6E880",
           "#FF97FF",
           "#FECB52"
          ],
          "font": {
           "color": "#2a3f5f"
          },
          "geo": {
           "bgcolor": "white",
           "lakecolor": "white",
           "landcolor": "#E5ECF6",
           "showlakes": true,
           "showland": true,
           "subunitcolor": "white"
          },
          "hoverlabel": {
           "align": "left"
          },
          "hovermode": "closest",
          "mapbox": {
           "style": "light"
          },
          "paper_bgcolor": "white",
          "plot_bgcolor": "#E5ECF6",
          "polar": {
           "angularaxis": {
            "gridcolor": "white",
            "linecolor": "white",
            "ticks": ""
           },
           "bgcolor": "#E5ECF6",
           "radialaxis": {
            "gridcolor": "white",
            "linecolor": "white",
            "ticks": ""
           }
          },
          "scene": {
           "xaxis": {
            "backgroundcolor": "#E5ECF6",
            "gridcolor": "white",
            "gridwidth": 2,
            "linecolor": "white",
            "showbackground": true,
            "ticks": "",
            "zerolinecolor": "white"
           },
           "yaxis": {
            "backgroundcolor": "#E5ECF6",
            "gridcolor": "white",
            "gridwidth": 2,
            "linecolor": "white",
            "showbackground": true,
            "ticks": "",
            "zerolinecolor": "white"
           },
           "zaxis": {
            "backgroundcolor": "#E5ECF6",
            "gridcolor": "white",
            "gridwidth": 2,
            "linecolor": "white",
            "showbackground": true,
            "ticks": "",
            "zerolinecolor": "white"
           }
          },
          "shapedefaults": {
           "line": {
            "color": "#2a3f5f"
           }
          },
          "ternary": {
           "aaxis": {
            "gridcolor": "white",
            "linecolor": "white",
            "ticks": ""
           },
           "baxis": {
            "gridcolor": "white",
            "linecolor": "white",
            "ticks": ""
           },
           "bgcolor": "#E5ECF6",
           "caxis": {
            "gridcolor": "white",
            "linecolor": "white",
            "ticks": ""
           }
          },
          "title": {
           "x": 0.05
          },
          "xaxis": {
           "automargin": true,
           "gridcolor": "white",
           "linecolor": "white",
           "ticks": "",
           "title": {
            "standoff": 15
           },
           "zerolinecolor": "white",
           "zerolinewidth": 2
          },
          "yaxis": {
           "automargin": true,
           "gridcolor": "white",
           "linecolor": "white",
           "ticks": "",
           "title": {
            "standoff": 15
           },
           "zerolinecolor": "white",
           "zerolinewidth": 2
          }
         }
        },
        "title": {
         "text": "Top biased words"
        },
        "width": 800,
        "xaxis": {
         "anchor": "y",
         "domain": [
          0,
          1
         ],
         "title": {
          "text": "score"
         }
        },
        "yaxis": {
         "anchor": "x",
         "domain": [
          0,
          1
         ],
         "title": {
          "text": "word"
         }
        }
       }
      }
     },
     "metadata": {},
     "output_type": "display_data"
    },
    {
     "data": {
      "application/vnd.plotly.v1+json": {
       "config": {
        "plotlyServerURL": "https://plot.ly"
       },
       "data": [
        {
         "alignmentgroup": "True",
         "hovertemplate": "score_type=centralized_similarity_score<br>score=%{x}<br>word=%{y}<extra></extra>",
         "legendgroup": "centralized_similarity_score",
         "marker": {
          "color": "#636efa",
          "pattern": {
           "shape": ""
          }
         },
         "name": "centralized_similarity_score",
         "offsetgroup": "centralized_similarity_score",
         "orientation": "h",
         "showlegend": true,
         "textposition": "auto",
         "type": "bar",
         "x": [
          -0.042424656988501216,
          -0.013741349771576547,
          -0.08307825075561412,
          -0.01865492574827037,
          -0.0990926941971812,
          -0.12883789589044403,
          -0.1329958482938826,
          -0.041467191576929255,
          -0.009184670723672657,
          -0.00022991263865291834,
          -0.12934392139997755,
          -0.12708065501687943,
          -0.04496694947820806,
          -0.045297822451883386,
          -0.18068898829190266,
          -0.1258603364243945,
          -0.12266724054304284,
          -0.07132565496882838,
          -0.059170280418964986,
          0.11861214526218156,
          -0.11304474629554907,
          0.026838349083612545,
          -0.004449375708957875,
          0.18270330349212938,
          0.23636366492282906,
          0.1171128698535922,
          0.12532721871979896,
          0.22110049965301257,
          0.20676304386530067,
          0.2200035878549279,
          0.24400352085114524,
          0.1739371106694385,
          0.20999908436137238,
          0.16827170692881332,
          0.17151011733313698,
          0.2655696250187057,
          0.3088555041159645,
          -0.15087433260267039,
          0.2138051261180827
         ],
         "xaxis": "x",
         "y": [
          "alonzo",
          "jamel",
          "jamal",
          "lerone",
          "theo",
          "alphonse",
          "jerome",
          "leroy",
          "torrance",
          "darnell",
          "lamar",
          "lionel",
          "rashaun",
          "tyree",
          "deion",
          "lamont",
          "malik",
          "terrence",
          "tyrone",
          "lavon",
          "marcellus",
          "terryl",
          "wardell",
          "nichelle",
          "shereen",
          "temeka",
          "ebony",
          "latisha",
          "shaniqua",
          "jasmine",
          "latonya",
          "tanisha",
          "tia",
          "lakisha",
          "latoya",
          "yolanda",
          "malika",
          "tawanda",
          "yvette"
         ],
         "yaxis": "y"
        },
        {
         "alignmentgroup": "True",
         "hovertemplate": "score_type=simple_bias_score<br>score=%{x}<br>word=%{y}<extra></extra>",
         "legendgroup": "simple_bias_score",
         "marker": {
          "color": "#EF553B",
          "pattern": {
           "shape": ""
          }
         },
         "name": "simple_bias_score",
         "offsetgroup": "simple_bias_score",
         "orientation": "h",
         "showlegend": true,
         "textposition": "auto",
         "type": "bar",
         "x": [
          -0.007925904760694526,
          0.023506335337617063,
          -0.0618753649295001,
          -0.002545071694115053,
          -0.08460215971745672,
          -0.05879988901518979,
          -0.06271306626044966,
          -0.0015622801214504912,
          0.011412764932142707,
          0.02863893515911308,
          -0.07173452112469264,
          -0.05020006850494875,
          -0.0006211824671946975,
          -0.037116511857186466,
          -0.154485147817844,
          -0.07489139912918806,
          -0.08694248733367849,
          0.03687226124882178,
          -0.028456320020019507,
          0.04055718762484706,
          -0.0973120798448259,
          0.031278543887053895,
          -0.036609979651237634,
          0.15230373537256198,
          0.18075291275781294,
          0.08733171584856683,
          0.11709775483754364,
          0.18218850630069588,
          0.19043193891123236,
          0.1665633519121376,
          0.17507630170181898,
          0.11721131176097893,
          0.15605900513005844,
          0.1297795172924907,
          0.12333765910650614,
          0.19815232190986956,
          0.18043067979423383,
          -0.07926307376567404,
          0.1542240292976837
         ],
         "xaxis": "x",
         "y": [
          "alonzo",
          "jamel",
          "jamal",
          "lerone",
          "theo",
          "alphonse",
          "jerome",
          "leroy",
          "torrance",
          "darnell",
          "lamar",
          "lionel",
          "rashaun",
          "tyree",
          "deion",
          "lamont",
          "malik",
          "terrence",
          "tyrone",
          "lavon",
          "marcellus",
          "terryl",
          "wardell",
          "nichelle",
          "shereen",
          "temeka",
          "ebony",
          "latisha",
          "shaniqua",
          "jasmine",
          "latonya",
          "tanisha",
          "tia",
          "lakisha",
          "latoya",
          "yolanda",
          "malika",
          "tawanda",
          "yvette"
         ],
         "yaxis": "y"
        }
       ],
       "layout": {
        "barmode": "group",
        "height": 1000,
        "legend": {
         "title": {
          "text": "score_type"
         },
         "tracegroupgap": 0
        },
        "template": {
         "data": {
          "bar": [
           {
            "error_x": {
             "color": "#2a3f5f"
            },
            "error_y": {
             "color": "#2a3f5f"
            },
            "marker": {
             "line": {
              "color": "#E5ECF6",
              "width": 0.5
             },
             "pattern": {
              "fillmode": "overlay",
              "size": 10,
              "solidity": 0.2
             }
            },
            "type": "bar"
           }
          ],
          "barpolar": [
           {
            "marker": {
             "line": {
              "color": "#E5ECF6",
              "width": 0.5
             },
             "pattern": {
              "fillmode": "overlay",
              "size": 10,
              "solidity": 0.2
             }
            },
            "type": "barpolar"
           }
          ],
          "carpet": [
           {
            "aaxis": {
             "endlinecolor": "#2a3f5f",
             "gridcolor": "white",
             "linecolor": "white",
             "minorgridcolor": "white",
             "startlinecolor": "#2a3f5f"
            },
            "baxis": {
             "endlinecolor": "#2a3f5f",
             "gridcolor": "white",
             "linecolor": "white",
             "minorgridcolor": "white",
             "startlinecolor": "#2a3f5f"
            },
            "type": "carpet"
           }
          ],
          "choropleth": [
           {
            "colorbar": {
             "outlinewidth": 0,
             "ticks": ""
            },
            "type": "choropleth"
           }
          ],
          "contour": [
           {
            "colorbar": {
             "outlinewidth": 0,
             "ticks": ""
            },
            "colorscale": [
             [
              0,
              "#0d0887"
             ],
             [
              0.1111111111111111,
              "#46039f"
             ],
             [
              0.2222222222222222,
              "#7201a8"
             ],
             [
              0.3333333333333333,
              "#9c179e"
             ],
             [
              0.4444444444444444,
              "#bd3786"
             ],
             [
              0.5555555555555556,
              "#d8576b"
             ],
             [
              0.6666666666666666,
              "#ed7953"
             ],
             [
              0.7777777777777778,
              "#fb9f3a"
             ],
             [
              0.8888888888888888,
              "#fdca26"
             ],
             [
              1,
              "#f0f921"
             ]
            ],
            "type": "contour"
           }
          ],
          "contourcarpet": [
           {
            "colorbar": {
             "outlinewidth": 0,
             "ticks": ""
            },
            "type": "contourcarpet"
           }
          ],
          "heatmap": [
           {
            "colorbar": {
             "outlinewidth": 0,
             "ticks": ""
            },
            "colorscale": [
             [
              0,
              "#0d0887"
             ],
             [
              0.1111111111111111,
              "#46039f"
             ],
             [
              0.2222222222222222,
              "#7201a8"
             ],
             [
              0.3333333333333333,
              "#9c179e"
             ],
             [
              0.4444444444444444,
              "#bd3786"
             ],
             [
              0.5555555555555556,
              "#d8576b"
             ],
             [
              0.6666666666666666,
              "#ed7953"
             ],
             [
              0.7777777777777778,
              "#fb9f3a"
             ],
             [
              0.8888888888888888,
              "#fdca26"
             ],
             [
              1,
              "#f0f921"
             ]
            ],
            "type": "heatmap"
           }
          ],
          "heatmapgl": [
           {
            "colorbar": {
             "outlinewidth": 0,
             "ticks": ""
            },
            "colorscale": [
             [
              0,
              "#0d0887"
             ],
             [
              0.1111111111111111,
              "#46039f"
             ],
             [
              0.2222222222222222,
              "#7201a8"
             ],
             [
              0.3333333333333333,
              "#9c179e"
             ],
             [
              0.4444444444444444,
              "#bd3786"
             ],
             [
              0.5555555555555556,
              "#d8576b"
             ],
             [
              0.6666666666666666,
              "#ed7953"
             ],
             [
              0.7777777777777778,
              "#fb9f3a"
             ],
             [
              0.8888888888888888,
              "#fdca26"
             ],
             [
              1,
              "#f0f921"
             ]
            ],
            "type": "heatmapgl"
           }
          ],
          "histogram": [
           {
            "marker": {
             "pattern": {
              "fillmode": "overlay",
              "size": 10,
              "solidity": 0.2
             }
            },
            "type": "histogram"
           }
          ],
          "histogram2d": [
           {
            "colorbar": {
             "outlinewidth": 0,
             "ticks": ""
            },
            "colorscale": [
             [
              0,
              "#0d0887"
             ],
             [
              0.1111111111111111,
              "#46039f"
             ],
             [
              0.2222222222222222,
              "#7201a8"
             ],
             [
              0.3333333333333333,
              "#9c179e"
             ],
             [
              0.4444444444444444,
              "#bd3786"
             ],
             [
              0.5555555555555556,
              "#d8576b"
             ],
             [
              0.6666666666666666,
              "#ed7953"
             ],
             [
              0.7777777777777778,
              "#fb9f3a"
             ],
             [
              0.8888888888888888,
              "#fdca26"
             ],
             [
              1,
              "#f0f921"
             ]
            ],
            "type": "histogram2d"
           }
          ],
          "histogram2dcontour": [
           {
            "colorbar": {
             "outlinewidth": 0,
             "ticks": ""
            },
            "colorscale": [
             [
              0,
              "#0d0887"
             ],
             [
              0.1111111111111111,
              "#46039f"
             ],
             [
              0.2222222222222222,
              "#7201a8"
             ],
             [
              0.3333333333333333,
              "#9c179e"
             ],
             [
              0.4444444444444444,
              "#bd3786"
             ],
             [
              0.5555555555555556,
              "#d8576b"
             ],
             [
              0.6666666666666666,
              "#ed7953"
             ],
             [
              0.7777777777777778,
              "#fb9f3a"
             ],
             [
              0.8888888888888888,
              "#fdca26"
             ],
             [
              1,
              "#f0f921"
             ]
            ],
            "type": "histogram2dcontour"
           }
          ],
          "mesh3d": [
           {
            "colorbar": {
             "outlinewidth": 0,
             "ticks": ""
            },
            "type": "mesh3d"
           }
          ],
          "parcoords": [
           {
            "line": {
             "colorbar": {
              "outlinewidth": 0,
              "ticks": ""
             }
            },
            "type": "parcoords"
           }
          ],
          "pie": [
           {
            "automargin": true,
            "type": "pie"
           }
          ],
          "scatter": [
           {
            "fillpattern": {
             "fillmode": "overlay",
             "size": 10,
             "solidity": 0.2
            },
            "type": "scatter"
           }
          ],
          "scatter3d": [
           {
            "line": {
             "colorbar": {
              "outlinewidth": 0,
              "ticks": ""
             }
            },
            "marker": {
             "colorbar": {
              "outlinewidth": 0,
              "ticks": ""
             }
            },
            "type": "scatter3d"
           }
          ],
          "scattercarpet": [
           {
            "marker": {
             "colorbar": {
              "outlinewidth": 0,
              "ticks": ""
             }
            },
            "type": "scattercarpet"
           }
          ],
          "scattergeo": [
           {
            "marker": {
             "colorbar": {
              "outlinewidth": 0,
              "ticks": ""
             }
            },
            "type": "scattergeo"
           }
          ],
          "scattergl": [
           {
            "marker": {
             "colorbar": {
              "outlinewidth": 0,
              "ticks": ""
             }
            },
            "type": "scattergl"
           }
          ],
          "scattermapbox": [
           {
            "marker": {
             "colorbar": {
              "outlinewidth": 0,
              "ticks": ""
             }
            },
            "type": "scattermapbox"
           }
          ],
          "scatterpolar": [
           {
            "marker": {
             "colorbar": {
              "outlinewidth": 0,
              "ticks": ""
             }
            },
            "type": "scatterpolar"
           }
          ],
          "scatterpolargl": [
           {
            "marker": {
             "colorbar": {
              "outlinewidth": 0,
              "ticks": ""
             }
            },
            "type": "scatterpolargl"
           }
          ],
          "scatterternary": [
           {
            "marker": {
             "colorbar": {
              "outlinewidth": 0,
              "ticks": ""
             }
            },
            "type": "scatterternary"
           }
          ],
          "surface": [
           {
            "colorbar": {
             "outlinewidth": 0,
             "ticks": ""
            },
            "colorscale": [
             [
              0,
              "#0d0887"
             ],
             [
              0.1111111111111111,
              "#46039f"
             ],
             [
              0.2222222222222222,
              "#7201a8"
             ],
             [
              0.3333333333333333,
              "#9c179e"
             ],
             [
              0.4444444444444444,
              "#bd3786"
             ],
             [
              0.5555555555555556,
              "#d8576b"
             ],
             [
              0.6666666666666666,
              "#ed7953"
             ],
             [
              0.7777777777777778,
              "#fb9f3a"
             ],
             [
              0.8888888888888888,
              "#fdca26"
             ],
             [
              1,
              "#f0f921"
             ]
            ],
            "type": "surface"
           }
          ],
          "table": [
           {
            "cells": {
             "fill": {
              "color": "#EBF0F8"
             },
             "line": {
              "color": "white"
             }
            },
            "header": {
             "fill": {
              "color": "#C8D4E3"
             },
             "line": {
              "color": "white"
             }
            },
            "type": "table"
           }
          ]
         },
         "layout": {
          "annotationdefaults": {
           "arrowcolor": "#2a3f5f",
           "arrowhead": 0,
           "arrowwidth": 1
          },
          "autotypenumbers": "strict",
          "coloraxis": {
           "colorbar": {
            "outlinewidth": 0,
            "ticks": ""
           }
          },
          "colorscale": {
           "diverging": [
            [
             0,
             "#8e0152"
            ],
            [
             0.1,
             "#c51b7d"
            ],
            [
             0.2,
             "#de77ae"
            ],
            [
             0.3,
             "#f1b6da"
            ],
            [
             0.4,
             "#fde0ef"
            ],
            [
             0.5,
             "#f7f7f7"
            ],
            [
             0.6,
             "#e6f5d0"
            ],
            [
             0.7,
             "#b8e186"
            ],
            [
             0.8,
             "#7fbc41"
            ],
            [
             0.9,
             "#4d9221"
            ],
            [
             1,
             "#276419"
            ]
           ],
           "sequential": [
            [
             0,
             "#0d0887"
            ],
            [
             0.1111111111111111,
             "#46039f"
            ],
            [
             0.2222222222222222,
             "#7201a8"
            ],
            [
             0.3333333333333333,
             "#9c179e"
            ],
            [
             0.4444444444444444,
             "#bd3786"
            ],
            [
             0.5555555555555556,
             "#d8576b"
            ],
            [
             0.6666666666666666,
             "#ed7953"
            ],
            [
             0.7777777777777778,
             "#fb9f3a"
            ],
            [
             0.8888888888888888,
             "#fdca26"
            ],
            [
             1,
             "#f0f921"
            ]
           ],
           "sequentialminus": [
            [
             0,
             "#0d0887"
            ],
            [
             0.1111111111111111,
             "#46039f"
            ],
            [
             0.2222222222222222,
             "#7201a8"
            ],
            [
             0.3333333333333333,
             "#9c179e"
            ],
            [
             0.4444444444444444,
             "#bd3786"
            ],
            [
             0.5555555555555556,
             "#d8576b"
            ],
            [
             0.6666666666666666,
             "#ed7953"
            ],
            [
             0.7777777777777778,
             "#fb9f3a"
            ],
            [
             0.8888888888888888,
             "#fdca26"
            ],
            [
             1,
             "#f0f921"
            ]
           ]
          },
          "colorway": [
           "#636efa",
           "#EF553B",
           "#00cc96",
           "#ab63fa",
           "#FFA15A",
           "#19d3f3",
           "#FF6692",
           "#B6E880",
           "#FF97FF",
           "#FECB52"
          ],
          "font": {
           "color": "#2a3f5f"
          },
          "geo": {
           "bgcolor": "white",
           "lakecolor": "white",
           "landcolor": "#E5ECF6",
           "showlakes": true,
           "showland": true,
           "subunitcolor": "white"
          },
          "hoverlabel": {
           "align": "left"
          },
          "hovermode": "closest",
          "mapbox": {
           "style": "light"
          },
          "paper_bgcolor": "white",
          "plot_bgcolor": "#E5ECF6",
          "polar": {
           "angularaxis": {
            "gridcolor": "white",
            "linecolor": "white",
            "ticks": ""
           },
           "bgcolor": "#E5ECF6",
           "radialaxis": {
            "gridcolor": "white",
            "linecolor": "white",
            "ticks": ""
           }
          },
          "scene": {
           "xaxis": {
            "backgroundcolor": "#E5ECF6",
            "gridcolor": "white",
            "gridwidth": 2,
            "linecolor": "white",
            "showbackground": true,
            "ticks": "",
            "zerolinecolor": "white"
           },
           "yaxis": {
            "backgroundcolor": "#E5ECF6",
            "gridcolor": "white",
            "gridwidth": 2,
            "linecolor": "white",
            "showbackground": true,
            "ticks": "",
            "zerolinecolor": "white"
           },
           "zaxis": {
            "backgroundcolor": "#E5ECF6",
            "gridcolor": "white",
            "gridwidth": 2,
            "linecolor": "white",
            "showbackground": true,
            "ticks": "",
            "zerolinecolor": "white"
           }
          },
          "shapedefaults": {
           "line": {
            "color": "#2a3f5f"
           }
          },
          "ternary": {
           "aaxis": {
            "gridcolor": "white",
            "linecolor": "white",
            "ticks": ""
           },
           "baxis": {
            "gridcolor": "white",
            "linecolor": "white",
            "ticks": ""
           },
           "bgcolor": "#E5ECF6",
           "caxis": {
            "gridcolor": "white",
            "linecolor": "white",
            "ticks": ""
           }
          },
          "title": {
           "x": 0.05
          },
          "xaxis": {
           "automargin": true,
           "gridcolor": "white",
           "linecolor": "white",
           "ticks": "",
           "title": {
            "standoff": 15
           },
           "zerolinecolor": "white",
           "zerolinewidth": 2
          },
          "yaxis": {
           "automargin": true,
           "gridcolor": "white",
           "linecolor": "white",
           "ticks": "",
           "title": {
            "standoff": 15
           },
           "zerolinecolor": "white",
           "zerolinewidth": 2
          }
         }
        },
        "title": {
         "text": "Top biased words"
        },
        "width": 800,
        "xaxis": {
         "anchor": "y",
         "domain": [
          0,
          1
         ],
         "title": {
          "text": "score"
         }
        },
        "yaxis": {
         "anchor": "x",
         "domain": [
          0,
          1
         ],
         "title": {
          "text": "word"
         }
        }
       }
      }
     },
     "metadata": {},
     "output_type": "display_data"
    },
    {
     "data": {
      "application/vnd.plotly.v1+json": {
       "config": {
        "plotlyServerURL": "https://plot.ly"
       },
       "data": [
        {
         "alignmentgroup": "True",
         "hovertemplate": "score_type=centralized_similarity_score<br>score=%{x}<br>word=%{y}<extra></extra>",
         "legendgroup": "centralized_similarity_score",
         "marker": {
          "color": "#636efa",
          "pattern": {
           "shape": ""
          }
         },
         "name": "centralized_similarity_score",
         "offsetgroup": "centralized_similarity_score",
         "orientation": "h",
         "showlegend": true,
         "textposition": "auto",
         "type": "bar",
         "x": [
          -0.12057115426722004,
          -0.0896784981425873,
          -0.12958921594957187,
          -0.07486830039020262,
          -0.14235819381310238,
          -0.029098470967543293,
          -0.03435660306958182,
          -0.014805911491420161,
          0.038402820945098254,
          -0.04060072659573051,
          -0.03194385799829472,
          -0.2067488522066678,
          -0.05507807016940558,
          -0.0800652441896665,
          -0.04536586852301967,
          0.2703673051827139,
          0.30101409126282774,
          0.2614301901677939,
          0.23682355733824909,
          0.2923181360487631,
          0.23788456265489605,
          0.2282761496325772,
          0.2851401679626661,
          0.1864798126465894,
          0.2609263707561147,
          0.17583635368553266,
          0.23626491826807952,
          0.21572937524234442,
          0.16946401491027743,
          0.3190029114001292
         ],
         "xaxis": "x",
         "y": [
          "juan",
          "josé",
          "miguel",
          "luís",
          "jorge",
          "santiago",
          "matías",
          "sebastián",
          "mateo",
          "nicolás",
          "alejandro",
          "samuel",
          "diego",
          "daniel",
          "tomás",
          "juana",
          "ana",
          "luisa",
          "maría",
          "elena",
          "sofía",
          "isabella",
          "valentina",
          "camila",
          "valeria",
          "ximena",
          "luciana",
          "mariana",
          "victoria",
          "martina"
         ],
         "yaxis": "y"
        },
        {
         "alignmentgroup": "True",
         "hovertemplate": "score_type=simple_bias_score<br>score=%{x}<br>word=%{y}<extra></extra>",
         "legendgroup": "simple_bias_score",
         "marker": {
          "color": "#EF553B",
          "pattern": {
           "shape": ""
          }
         },
         "name": "simple_bias_score",
         "offsetgroup": "simple_bias_score",
         "orientation": "h",
         "showlegend": true,
         "textposition": "auto",
         "type": "bar",
         "x": [
          -0.06351725957579599,
          -0.055885106439236734,
          -0.09569432549844217,
          -0.055679513665619594,
          -0.10286211795531683,
          -0.03917932941255814,
          -0.0022922352280385083,
          0.01684255860721974,
          0.007086184598445915,
          -0.0054438029258699755,
          0.005861474683737954,
          -0.0919398913619318,
          -0.0051241234061778496,
          0.008863327763149825,
          0.010143862543775459,
          0.16333471751123943,
          0.20309670528771656,
          0.18360013197038283,
          0.1473073628243456,
          0.258243547402769,
          0.11504538242829085,
          0.1837805055458144,
          0.20405087796657645,
          0.16536452212078123,
          0.20144750986519988,
          0.11919469358681277,
          0.15257003705651068,
          0.1772103417259709,
          0.12454396469351794,
          0.2792985489954387
         ],
         "xaxis": "x",
         "y": [
          "juan",
          "josé",
          "miguel",
          "luís",
          "jorge",
          "santiago",
          "matías",
          "sebastián",
          "mateo",
          "nicolás",
          "alejandro",
          "samuel",
          "diego",
          "daniel",
          "tomás",
          "juana",
          "ana",
          "luisa",
          "maría",
          "elena",
          "sofía",
          "isabella",
          "valentina",
          "camila",
          "valeria",
          "ximena",
          "luciana",
          "mariana",
          "victoria",
          "martina"
         ],
         "yaxis": "y"
        }
       ],
       "layout": {
        "barmode": "group",
        "height": 1000,
        "legend": {
         "title": {
          "text": "score_type"
         },
         "tracegroupgap": 0
        },
        "template": {
         "data": {
          "bar": [
           {
            "error_x": {
             "color": "#2a3f5f"
            },
            "error_y": {
             "color": "#2a3f5f"
            },
            "marker": {
             "line": {
              "color": "#E5ECF6",
              "width": 0.5
             },
             "pattern": {
              "fillmode": "overlay",
              "size": 10,
              "solidity": 0.2
             }
            },
            "type": "bar"
           }
          ],
          "barpolar": [
           {
            "marker": {
             "line": {
              "color": "#E5ECF6",
              "width": 0.5
             },
             "pattern": {
              "fillmode": "overlay",
              "size": 10,
              "solidity": 0.2
             }
            },
            "type": "barpolar"
           }
          ],
          "carpet": [
           {
            "aaxis": {
             "endlinecolor": "#2a3f5f",
             "gridcolor": "white",
             "linecolor": "white",
             "minorgridcolor": "white",
             "startlinecolor": "#2a3f5f"
            },
            "baxis": {
             "endlinecolor": "#2a3f5f",
             "gridcolor": "white",
             "linecolor": "white",
             "minorgridcolor": "white",
             "startlinecolor": "#2a3f5f"
            },
            "type": "carpet"
           }
          ],
          "choropleth": [
           {
            "colorbar": {
             "outlinewidth": 0,
             "ticks": ""
            },
            "type": "choropleth"
           }
          ],
          "contour": [
           {
            "colorbar": {
             "outlinewidth": 0,
             "ticks": ""
            },
            "colorscale": [
             [
              0,
              "#0d0887"
             ],
             [
              0.1111111111111111,
              "#46039f"
             ],
             [
              0.2222222222222222,
              "#7201a8"
             ],
             [
              0.3333333333333333,
              "#9c179e"
             ],
             [
              0.4444444444444444,
              "#bd3786"
             ],
             [
              0.5555555555555556,
              "#d8576b"
             ],
             [
              0.6666666666666666,
              "#ed7953"
             ],
             [
              0.7777777777777778,
              "#fb9f3a"
             ],
             [
              0.8888888888888888,
              "#fdca26"
             ],
             [
              1,
              "#f0f921"
             ]
            ],
            "type": "contour"
           }
          ],
          "contourcarpet": [
           {
            "colorbar": {
             "outlinewidth": 0,
             "ticks": ""
            },
            "type": "contourcarpet"
           }
          ],
          "heatmap": [
           {
            "colorbar": {
             "outlinewidth": 0,
             "ticks": ""
            },
            "colorscale": [
             [
              0,
              "#0d0887"
             ],
             [
              0.1111111111111111,
              "#46039f"
             ],
             [
              0.2222222222222222,
              "#7201a8"
             ],
             [
              0.3333333333333333,
              "#9c179e"
             ],
             [
              0.4444444444444444,
              "#bd3786"
             ],
             [
              0.5555555555555556,
              "#d8576b"
             ],
             [
              0.6666666666666666,
              "#ed7953"
             ],
             [
              0.7777777777777778,
              "#fb9f3a"
             ],
             [
              0.8888888888888888,
              "#fdca26"
             ],
             [
              1,
              "#f0f921"
             ]
            ],
            "type": "heatmap"
           }
          ],
          "heatmapgl": [
           {
            "colorbar": {
             "outlinewidth": 0,
             "ticks": ""
            },
            "colorscale": [
             [
              0,
              "#0d0887"
             ],
             [
              0.1111111111111111,
              "#46039f"
             ],
             [
              0.2222222222222222,
              "#7201a8"
             ],
             [
              0.3333333333333333,
              "#9c179e"
             ],
             [
              0.4444444444444444,
              "#bd3786"
             ],
             [
              0.5555555555555556,
              "#d8576b"
             ],
             [
              0.6666666666666666,
              "#ed7953"
             ],
             [
              0.7777777777777778,
              "#fb9f3a"
             ],
             [
              0.8888888888888888,
              "#fdca26"
             ],
             [
              1,
              "#f0f921"
             ]
            ],
            "type": "heatmapgl"
           }
          ],
          "histogram": [
           {
            "marker": {
             "pattern": {
              "fillmode": "overlay",
              "size": 10,
              "solidity": 0.2
             }
            },
            "type": "histogram"
           }
          ],
          "histogram2d": [
           {
            "colorbar": {
             "outlinewidth": 0,
             "ticks": ""
            },
            "colorscale": [
             [
              0,
              "#0d0887"
             ],
             [
              0.1111111111111111,
              "#46039f"
             ],
             [
              0.2222222222222222,
              "#7201a8"
             ],
             [
              0.3333333333333333,
              "#9c179e"
             ],
             [
              0.4444444444444444,
              "#bd3786"
             ],
             [
              0.5555555555555556,
              "#d8576b"
             ],
             [
              0.6666666666666666,
              "#ed7953"
             ],
             [
              0.7777777777777778,
              "#fb9f3a"
             ],
             [
              0.8888888888888888,
              "#fdca26"
             ],
             [
              1,
              "#f0f921"
             ]
            ],
            "type": "histogram2d"
           }
          ],
          "histogram2dcontour": [
           {
            "colorbar": {
             "outlinewidth": 0,
             "ticks": ""
            },
            "colorscale": [
             [
              0,
              "#0d0887"
             ],
             [
              0.1111111111111111,
              "#46039f"
             ],
             [
              0.2222222222222222,
              "#7201a8"
             ],
             [
              0.3333333333333333,
              "#9c179e"
             ],
             [
              0.4444444444444444,
              "#bd3786"
             ],
             [
              0.5555555555555556,
              "#d8576b"
             ],
             [
              0.6666666666666666,
              "#ed7953"
             ],
             [
              0.7777777777777778,
              "#fb9f3a"
             ],
             [
              0.8888888888888888,
              "#fdca26"
             ],
             [
              1,
              "#f0f921"
             ]
            ],
            "type": "histogram2dcontour"
           }
          ],
          "mesh3d": [
           {
            "colorbar": {
             "outlinewidth": 0,
             "ticks": ""
            },
            "type": "mesh3d"
           }
          ],
          "parcoords": [
           {
            "line": {
             "colorbar": {
              "outlinewidth": 0,
              "ticks": ""
             }
            },
            "type": "parcoords"
           }
          ],
          "pie": [
           {
            "automargin": true,
            "type": "pie"
           }
          ],
          "scatter": [
           {
            "fillpattern": {
             "fillmode": "overlay",
             "size": 10,
             "solidity": 0.2
            },
            "type": "scatter"
           }
          ],
          "scatter3d": [
           {
            "line": {
             "colorbar": {
              "outlinewidth": 0,
              "ticks": ""
             }
            },
            "marker": {
             "colorbar": {
              "outlinewidth": 0,
              "ticks": ""
             }
            },
            "type": "scatter3d"
           }
          ],
          "scattercarpet": [
           {
            "marker": {
             "colorbar": {
              "outlinewidth": 0,
              "ticks": ""
             }
            },
            "type": "scattercarpet"
           }
          ],
          "scattergeo": [
           {
            "marker": {
             "colorbar": {
              "outlinewidth": 0,
              "ticks": ""
             }
            },
            "type": "scattergeo"
           }
          ],
          "scattergl": [
           {
            "marker": {
             "colorbar": {
              "outlinewidth": 0,
              "ticks": ""
             }
            },
            "type": "scattergl"
           }
          ],
          "scattermapbox": [
           {
            "marker": {
             "colorbar": {
              "outlinewidth": 0,
              "ticks": ""
             }
            },
            "type": "scattermapbox"
           }
          ],
          "scatterpolar": [
           {
            "marker": {
             "colorbar": {
              "outlinewidth": 0,
              "ticks": ""
             }
            },
            "type": "scatterpolar"
           }
          ],
          "scatterpolargl": [
           {
            "marker": {
             "colorbar": {
              "outlinewidth": 0,
              "ticks": ""
             }
            },
            "type": "scatterpolargl"
           }
          ],
          "scatterternary": [
           {
            "marker": {
             "colorbar": {
              "outlinewidth": 0,
              "ticks": ""
             }
            },
            "type": "scatterternary"
           }
          ],
          "surface": [
           {
            "colorbar": {
             "outlinewidth": 0,
             "ticks": ""
            },
            "colorscale": [
             [
              0,
              "#0d0887"
             ],
             [
              0.1111111111111111,
              "#46039f"
             ],
             [
              0.2222222222222222,
              "#7201a8"
             ],
             [
              0.3333333333333333,
              "#9c179e"
             ],
             [
              0.4444444444444444,
              "#bd3786"
             ],
             [
              0.5555555555555556,
              "#d8576b"
             ],
             [
              0.6666666666666666,
              "#ed7953"
             ],
             [
              0.7777777777777778,
              "#fb9f3a"
             ],
             [
              0.8888888888888888,
              "#fdca26"
             ],
             [
              1,
              "#f0f921"
             ]
            ],
            "type": "surface"
           }
          ],
          "table": [
           {
            "cells": {
             "fill": {
              "color": "#EBF0F8"
             },
             "line": {
              "color": "white"
             }
            },
            "header": {
             "fill": {
              "color": "#C8D4E3"
             },
             "line": {
              "color": "white"
             }
            },
            "type": "table"
           }
          ]
         },
         "layout": {
          "annotationdefaults": {
           "arrowcolor": "#2a3f5f",
           "arrowhead": 0,
           "arrowwidth": 1
          },
          "autotypenumbers": "strict",
          "coloraxis": {
           "colorbar": {
            "outlinewidth": 0,
            "ticks": ""
           }
          },
          "colorscale": {
           "diverging": [
            [
             0,
             "#8e0152"
            ],
            [
             0.1,
             "#c51b7d"
            ],
            [
             0.2,
             "#de77ae"
            ],
            [
             0.3,
             "#f1b6da"
            ],
            [
             0.4,
             "#fde0ef"
            ],
            [
             0.5,
             "#f7f7f7"
            ],
            [
             0.6,
             "#e6f5d0"
            ],
            [
             0.7,
             "#b8e186"
            ],
            [
             0.8,
             "#7fbc41"
            ],
            [
             0.9,
             "#4d9221"
            ],
            [
             1,
             "#276419"
            ]
           ],
           "sequential": [
            [
             0,
             "#0d0887"
            ],
            [
             0.1111111111111111,
             "#46039f"
            ],
            [
             0.2222222222222222,
             "#7201a8"
            ],
            [
             0.3333333333333333,
             "#9c179e"
            ],
            [
             0.4444444444444444,
             "#bd3786"
            ],
            [
             0.5555555555555556,
             "#d8576b"
            ],
            [
             0.6666666666666666,
             "#ed7953"
            ],
            [
             0.7777777777777778,
             "#fb9f3a"
            ],
            [
             0.8888888888888888,
             "#fdca26"
            ],
            [
             1,
             "#f0f921"
            ]
           ],
           "sequentialminus": [
            [
             0,
             "#0d0887"
            ],
            [
             0.1111111111111111,
             "#46039f"
            ],
            [
             0.2222222222222222,
             "#7201a8"
            ],
            [
             0.3333333333333333,
             "#9c179e"
            ],
            [
             0.4444444444444444,
             "#bd3786"
            ],
            [
             0.5555555555555556,
             "#d8576b"
            ],
            [
             0.6666666666666666,
             "#ed7953"
            ],
            [
             0.7777777777777778,
             "#fb9f3a"
            ],
            [
             0.8888888888888888,
             "#fdca26"
            ],
            [
             1,
             "#f0f921"
            ]
           ]
          },
          "colorway": [
           "#636efa",
           "#EF553B",
           "#00cc96",
           "#ab63fa",
           "#FFA15A",
           "#19d3f3",
           "#FF6692",
           "#B6E880",
           "#FF97FF",
           "#FECB52"
          ],
          "font": {
           "color": "#2a3f5f"
          },
          "geo": {
           "bgcolor": "white",
           "lakecolor": "white",
           "landcolor": "#E5ECF6",
           "showlakes": true,
           "showland": true,
           "subunitcolor": "white"
          },
          "hoverlabel": {
           "align": "left"
          },
          "hovermode": "closest",
          "mapbox": {
           "style": "light"
          },
          "paper_bgcolor": "white",
          "plot_bgcolor": "#E5ECF6",
          "polar": {
           "angularaxis": {
            "gridcolor": "white",
            "linecolor": "white",
            "ticks": ""
           },
           "bgcolor": "#E5ECF6",
           "radialaxis": {
            "gridcolor": "white",
            "linecolor": "white",
            "ticks": ""
           }
          },
          "scene": {
           "xaxis": {
            "backgroundcolor": "#E5ECF6",
            "gridcolor": "white",
            "gridwidth": 2,
            "linecolor": "white",
            "showbackground": true,
            "ticks": "",
            "zerolinecolor": "white"
           },
           "yaxis": {
            "backgroundcolor": "#E5ECF6",
            "gridcolor": "white",
            "gridwidth": 2,
            "linecolor": "white",
            "showbackground": true,
            "ticks": "",
            "zerolinecolor": "white"
           },
           "zaxis": {
            "backgroundcolor": "#E5ECF6",
            "gridcolor": "white",
            "gridwidth": 2,
            "linecolor": "white",
            "showbackground": true,
            "ticks": "",
            "zerolinecolor": "white"
           }
          },
          "shapedefaults": {
           "line": {
            "color": "#2a3f5f"
           }
          },
          "ternary": {
           "aaxis": {
            "gridcolor": "white",
            "linecolor": "white",
            "ticks": ""
           },
           "baxis": {
            "gridcolor": "white",
            "linecolor": "white",
            "ticks": ""
           },
           "bgcolor": "#E5ECF6",
           "caxis": {
            "gridcolor": "white",
            "linecolor": "white",
            "ticks": ""
           }
          },
          "title": {
           "x": 0.05
          },
          "xaxis": {
           "automargin": true,
           "gridcolor": "white",
           "linecolor": "white",
           "ticks": "",
           "title": {
            "standoff": 15
           },
           "zerolinecolor": "white",
           "zerolinewidth": 2
          },
          "yaxis": {
           "automargin": true,
           "gridcolor": "white",
           "linecolor": "white",
           "ticks": "",
           "title": {
            "standoff": 15
           },
           "zerolinecolor": "white",
           "zerolinewidth": 2
          }
         }
        },
        "title": {
         "text": "Top biased words"
        },
        "width": 800,
        "xaxis": {
         "anchor": "y",
         "domain": [
          0,
          1
         ],
         "title": {
          "text": "score"
         }
        },
        "yaxis": {
         "anchor": "x",
         "domain": [
          0,
          1
         ],
         "title": {
          "text": "word"
         }
        }
       }
      }
     },
     "metadata": {},
     "output_type": "display_data"
    }
   ],
   "source": [
    "#plot a bar plot of the top 20 most biased words with all the scores of the three methods\n",
    "import plotly_express as px\n",
    "\n",
    "\n",
    "def plot_top_biased_words(df, n_words=20):\n",
    "    df_top = df.head(n_words)\n",
    "    #remove the simple_bias_score column\n",
    "    #df_top = df_top.drop(columns=['simple_bias_score'])\n",
    "    df_top = df_top.reset_index()\n",
    "    df_top = df_top.rename(columns={'index': 'word'})\n",
    "    df_top = df_top.melt(\n",
    "        id_vars=['word'], var_name='score_type', value_name='score')\n",
    "    fig = px.bar(df_top, x=\"score\", y=\"word\",\n",
    "                 color=\"score_type\", barmode=\"group\", orientation='h',\n",
    "                 height=1000, width=800, title=\"Top biased words\")\n",
    "   \n",
    "    \n",
    "    fig.show()\n",
    "\n",
    "\n",
    "plot_top_biased_words(df_names_white, n_words=50)\n",
    "plot_top_biased_words(df_names_black, n_words=50)\n",
    "plot_top_biased_words(df_names_hispanic, n_words=50)\n"
   ]
  },
  {
   "attachments": {},
   "cell_type": "markdown",
   "metadata": {},
   "source": [
    "1.2 Neutral words associated with ethnic names"
   ]
  },
  {
   "cell_type": "code",
   "execution_count": 22,
   "metadata": {},
   "outputs": [],
   "source": [
    "from Scripts.Evaluation import *"
   ]
  },
  {
   "cell_type": "code",
   "execution_count": 23,
   "metadata": {},
   "outputs": [],
   "source": [
    "def get_frequency_neutral_words(names, neutral_words, dict_vect_debiased, vocab_debiased, vectors_debiased, w2i_debiased, neighbours_num=50):\n",
    "    \"\"\"\"\n",
    "    Function to get the frequency of the original neighbors among the 50 nearest neighbors of selected words\n",
    "    :param list_words: list of words to compute the bias for\n",
    "    :param list_neigh: list of the neighbors for each word of the dictionary k_neigh\n",
    "    :param dict_vect_debiased: dictionary of words and their embeddings\n",
    "    :param vocab_debiased: list of words in the vocabulary\n",
    "    :param vectors_debiased: list of embeddings\n",
    "    :param w2i_debiased: dictionary of words and their indices\n",
    "    :param neighbours_num: number of neighbors to find\n",
    "    :return: list of the frequency of the original neighbors among the 50 nearest neighbors of selected words\n",
    "    \"\"\"\n",
    "    scores = []\n",
    "    for word in tqdm(set(names)):\n",
    "        which_words=[]\n",
    "        #get the top 50 neighbors of the word\n",
    "        _, top = get_topK_neighbors(word, dict_vect_debiased, vocab_debiased, vectors_debiased, w2i_debiased,\n",
    "                                    k=neighbours_num)\n",
    "\n",
    "        count = 0\n",
    "        #check if the original neighbors are in the top 50\n",
    "        for t in top:\n",
    "            if t in set(neutral_words):\n",
    "                print(t)\n",
    "                count += 1\n",
    "                which_words.append(t)\n",
    "\n",
    "        scores.append([word, which_words, count, count/neighbours_num])\n",
    "        #print(top)\n",
    "    return scores\n"
   ]
  },
  {
   "cell_type": "code",
   "execution_count": 24,
   "metadata": {},
   "outputs": [
    {
     "data": {
      "text/plain": [
       "['manager',\n",
       " 'executive',\n",
       " 'doctor',\n",
       " 'lawyer',\n",
       " 'programmer',\n",
       " 'scientist',\n",
       " 'soldier',\n",
       " 'supervisor',\n",
       " 'rancher',\n",
       " 'janitor',\n",
       " 'firefighter',\n",
       " 'officer',\n",
       " 'secretary',\n",
       " 'nurse',\n",
       " 'clerk',\n",
       " 'artist',\n",
       " 'homemaker',\n",
       " 'dancer',\n",
       " 'singer',\n",
       " 'librarian',\n",
       " 'maid',\n",
       " 'hairdresser',\n",
       " 'stylist',\n",
       " 'receptionist',\n",
       " 'counselor',\n",
       " 'leader',\n",
       " 'farmer',\n",
       " 'engineer',\n",
       " 'laborer',\n",
       " 'teacher',\n",
       " 'slave',\n",
       " 'musician',\n",
       " 'runner',\n",
       " 'criminal',\n",
       " 'homeless',\n",
       " 'greedy',\n",
       " 'cheap',\n",
       " 'hairy',\n",
       " 'liberal',\n",
       " 'judgemental',\n",
       " 'conservative',\n",
       " 'familial',\n",
       " 'violent',\n",
       " 'terrorist',\n",
       " 'dirty',\n",
       " 'uneducated',\n",
       " 'educated']"
      ]
     },
     "execution_count": 24,
     "metadata": {},
     "output_type": "execute_result"
    }
   ],
   "source": [
    "neutral_words"
   ]
  },
  {
   "cell_type": "code",
   "execution_count": 25,
   "metadata": {},
   "outputs": [
    {
     "name": "stderr",
     "output_type": "stream",
     "text": [
      " 50%|█████     | 24/48 [00:42<00:42,  1.77s/it]"
     ]
    },
    {
     "name": "stdout",
     "output_type": "stream",
     "text": [
      "singer\n"
     ]
    },
    {
     "name": "stderr",
     "output_type": "stream",
     "text": [
      " 58%|█████▊    | 28/48 [00:49<00:35,  1.77s/it]"
     ]
    },
    {
     "name": "stdout",
     "output_type": "stream",
     "text": [
      "executive\n"
     ]
    },
    {
     "name": "stderr",
     "output_type": "stream",
     "text": [
      " 81%|████████▏ | 39/48 [01:08<00:15,  1.75s/it]"
     ]
    },
    {
     "name": "stdout",
     "output_type": "stream",
     "text": [
      "executive\n",
      "manager\n"
     ]
    },
    {
     "name": "stderr",
     "output_type": "stream",
     "text": [
      " 83%|████████▎ | 40/48 [01:10<00:14,  1.75s/it]"
     ]
    },
    {
     "name": "stdout",
     "output_type": "stream",
     "text": [
      "manager\n"
     ]
    },
    {
     "name": "stderr",
     "output_type": "stream",
     "text": [
      "100%|██████████| 48/48 [01:24<00:00,  1.76s/it]\n",
      "  4%|▍         | 2/48 [00:03<01:15,  1.64s/it]"
     ]
    },
    {
     "name": "stdout",
     "output_type": "stream",
     "text": [
      "counselor\n"
     ]
    },
    {
     "name": "stderr",
     "output_type": "stream",
     "text": [
      " 25%|██▌       | 12/48 [00:18<00:56,  1.56s/it]"
     ]
    },
    {
     "name": "stdout",
     "output_type": "stream",
     "text": [
      "counselor\n"
     ]
    },
    {
     "name": "stderr",
     "output_type": "stream",
     "text": [
      " 31%|███▏      | 15/48 [00:23<00:51,  1.56s/it]"
     ]
    },
    {
     "name": "stdout",
     "output_type": "stream",
     "text": [
      "liberal\n"
     ]
    },
    {
     "name": "stderr",
     "output_type": "stream",
     "text": [
      " 38%|███▊      | 18/48 [00:28<00:47,  1.57s/it]"
     ]
    },
    {
     "name": "stdout",
     "output_type": "stream",
     "text": [
      "homeless\n"
     ]
    },
    {
     "name": "stderr",
     "output_type": "stream",
     "text": [
      " 40%|███▉      | 19/48 [00:29<00:45,  1.57s/it]"
     ]
    },
    {
     "name": "stdout",
     "output_type": "stream",
     "text": [
      "secretary\n"
     ]
    },
    {
     "name": "stderr",
     "output_type": "stream",
     "text": [
      " 46%|████▌     | 22/48 [00:34<00:40,  1.57s/it]"
     ]
    },
    {
     "name": "stdout",
     "output_type": "stream",
     "text": [
      "musician\n"
     ]
    },
    {
     "name": "stderr",
     "output_type": "stream",
     "text": [
      " 48%|████▊     | 23/48 [00:36<00:39,  1.57s/it]"
     ]
    },
    {
     "name": "stdout",
     "output_type": "stream",
     "text": [
      "scientist\n",
      "secretary\n"
     ]
    },
    {
     "name": "stderr",
     "output_type": "stream",
     "text": [
      " 81%|████████▏ | 39/48 [01:01<00:14,  1.57s/it]"
     ]
    },
    {
     "name": "stdout",
     "output_type": "stream",
     "text": [
      "executive\n"
     ]
    },
    {
     "name": "stderr",
     "output_type": "stream",
     "text": [
      " 83%|████████▎ | 40/48 [01:02<00:12,  1.57s/it]"
     ]
    },
    {
     "name": "stdout",
     "output_type": "stream",
     "text": [
      "dirty\n"
     ]
    },
    {
     "name": "stderr",
     "output_type": "stream",
     "text": [
      " 85%|████████▌ | 41/48 [01:04<00:11,  1.57s/it]"
     ]
    },
    {
     "name": "stdout",
     "output_type": "stream",
     "text": [
      "homeless\n"
     ]
    },
    {
     "name": "stderr",
     "output_type": "stream",
     "text": [
      "100%|██████████| 48/48 [01:15<00:00,  1.57s/it]"
     ]
    },
    {
     "name": "stdout",
     "output_type": "stream",
     "text": [
      "executive\n"
     ]
    },
    {
     "name": "stderr",
     "output_type": "stream",
     "text": [
      "\n"
     ]
    }
   ],
   "source": [
    "#frequencies of neighbors\n",
    "neutral_on_white=get_frequency_neutral_words(\n",
    "    names_white_emb, neutral_words, dict_vectors, vocab_cleaned, vectors_cleaned, word2idx_cleaned, neighbours_num=100)\n",
    "\n",
    "neutral_on_white_deb = get_frequency_neutral_words(\n",
    "    names_white_emb, neutral_words, deb_dict_gender, deb_vocab_gender, deb_vect_gender, deb_word2idx_gender, neighbours_num=100)\n"
   ]
  },
  {
   "cell_type": "code",
   "execution_count": 26,
   "metadata": {},
   "outputs": [
    {
     "name": "stderr",
     "output_type": "stream",
     "text": [
      "100%|██████████| 39/39 [01:09<00:00,  1.77s/it]\n",
      " 74%|███████▍  | 29/39 [00:45<00:15,  1.57s/it]"
     ]
    },
    {
     "name": "stdout",
     "output_type": "stream",
     "text": [
      "counselor\n"
     ]
    },
    {
     "name": "stderr",
     "output_type": "stream",
     "text": [
      "100%|██████████| 39/39 [01:01<00:00,  1.57s/it]\n"
     ]
    }
   ],
   "source": [
    "neutral_on_black = get_frequency_neutral_words(\n",
    "    names_black_emb, neutral_words, dict_vectors, vocab_cleaned, vectors_cleaned, word2idx_cleaned, neighbours_num=100)\n",
    "\n",
    "\n",
    "neutral_on_black_deb = get_frequency_neutral_words(\n",
    "    names_black_emb, neutral_words, deb_dict_gender, deb_vocab_gender, deb_vect_gender, deb_word2idx_gender, neighbours_num=100)\n"
   ]
  },
  {
   "cell_type": "code",
   "execution_count": null,
   "metadata": {},
   "outputs": [
    {
     "data": {
      "text/plain": [
       "[['darnell', [], 0, 0.0],\n",
       " ['shereen', [], 0, 0.0],\n",
       " ['lerone', [], 0, 0.0],\n",
       " ['leroy', [], 0, 0.0],\n",
       " ['latisha', [], 0, 0.0],\n",
       " ['tyrone', [], 0, 0.0],\n",
       " ['jamal', [], 0, 0.0],\n",
       " ['jamel', [], 0, 0.0],\n",
       " ['latonya', [], 0, 0.0],\n",
       " ['ebony', [], 0, 0.0],\n",
       " ['tawanda', [], 0, 0.0],\n",
       " ['lamont', [], 0, 0.0],\n",
       " ['yvette', [], 0, 0.0],\n",
       " ['nichelle', [], 0, 0.0],\n",
       " ['malik', [], 0, 0.0],\n",
       " ['tanisha', [], 0, 0.0],\n",
       " ['latoya', [], 0, 0.0],\n",
       " ['lamar', [], 0, 0.0],\n",
       " ['shaniqua', [], 0, 0.0],\n",
       " ['lakisha', [], 0, 0.0],\n",
       " ['jasmine', [], 0, 0.0],\n",
       " ['tia', [], 0, 0.0],\n",
       " ['tyree', [], 0, 0.0],\n",
       " ['torrance', [], 0, 0.0],\n",
       " ['deion', [], 0, 0.0],\n",
       " ['marcellus', [], 0, 0.0],\n",
       " ['temeka', [], 0, 0.0],\n",
       " ['malika', [], 0, 0.0],\n",
       " ['jerome', ['counselor'], 1, 0.01],\n",
       " ['alphonse', [], 0, 0.0],\n",
       " ['rashaun', [], 0, 0.0],\n",
       " ['theo', [], 0, 0.0],\n",
       " ['yolanda', [], 0, 0.0],\n",
       " ['terryl', [], 0, 0.0],\n",
       " ['alonzo', [], 0, 0.0],\n",
       " ['wardell', [], 0, 0.0],\n",
       " ['lionel', [], 0, 0.0],\n",
       " ['terrence', [], 0, 0.0],\n",
       " ['lavon', [], 0, 0.0]]"
      ]
     },
     "execution_count": 27,
     "metadata": {},
     "output_type": "execute_result"
    }
   ],
   "source": [
    "neutral_on_black_deb\n"
   ]
  },
  {
   "cell_type": "code",
   "execution_count": 28,
   "metadata": {},
   "outputs": [
    {
     "name": "stderr",
     "output_type": "stream",
     "text": [
      " 67%|██████▋   | 20/30 [00:36<00:18,  1.84s/it]\n"
     ]
    },
    {
     "ename": "KeyboardInterrupt",
     "evalue": "",
     "output_type": "error",
     "traceback": [
      "\u001b[0;31m---------------------------------------------------------------------------\u001b[0m",
      "\u001b[0;31mKeyboardInterrupt\u001b[0m                         Traceback (most recent call last)",
      "Cell \u001b[0;32mIn[28], line 1\u001b[0m\n\u001b[0;32m----> 1\u001b[0m neutral_on_hispanic \u001b[39m=\u001b[39m get_frequency_neutral_words(\n\u001b[1;32m      2\u001b[0m     names_hispanic_emb, neutral_words, dict_vectors, vocab_cleaned, vectors_cleaned, word2idx_cleaned, neighbours_num\u001b[39m=\u001b[39;49m\u001b[39m100\u001b[39;49m)\n\u001b[1;32m      4\u001b[0m neutral_on_hispanic_deb \u001b[39m=\u001b[39m get_frequency_neutral_words(\n\u001b[1;32m      5\u001b[0m     names_hispanic_emb, neutral_words, deb_dict_gender, deb_vocab_gender, deb_vect_gender, deb_word2idx_gender, neighbours_num\u001b[39m=\u001b[39m\u001b[39m100\u001b[39m)\n",
      "Cell \u001b[0;32mIn[23], line 17\u001b[0m, in \u001b[0;36mget_frequency_neutral_words\u001b[0;34m(names, neutral_words, dict_vect_debiased, vocab_debiased, vectors_debiased, w2i_debiased, neighbours_num)\u001b[0m\n\u001b[1;32m     15\u001b[0m which_words\u001b[39m=\u001b[39m[]\n\u001b[1;32m     16\u001b[0m \u001b[39m#get the top 50 neighbors of the word\u001b[39;00m\n\u001b[0;32m---> 17\u001b[0m _, top \u001b[39m=\u001b[39m get_topK_neighbors(word, dict_vect_debiased, vocab_debiased, vectors_debiased, w2i_debiased,\n\u001b[1;32m     18\u001b[0m                             k\u001b[39m=\u001b[39;49mneighbours_num)\n\u001b[1;32m     20\u001b[0m count \u001b[39m=\u001b[39m \u001b[39m0\u001b[39m\n\u001b[1;32m     21\u001b[0m \u001b[39m#check if the original neighbors are in the top 50\u001b[39;00m\n",
      "File \u001b[0;32m~/Python/VersionControl/MT_DebiasingAlgorithms/Scripts/Evaluation.py:257\u001b[0m, in \u001b[0;36mget_topK_neighbors\u001b[0;34m(word, dict_vect, vocab, vectors, w2i, k)\u001b[0m\n\u001b[1;32m    255\u001b[0m similarities \u001b[39m=\u001b[39m np\u001b[39m.\u001b[39mzeros(\u001b[39mlen\u001b[39m(vocab))\n\u001b[1;32m    256\u001b[0m \u001b[39mfor\u001b[39;00m i \u001b[39min\u001b[39;00m \u001b[39mrange\u001b[39m(\u001b[39mlen\u001b[39m(vocab)):\n\u001b[0;32m--> 257\u001b[0m     similarities[i] \u001b[39m=\u001b[39m cosine_similarity(chosen_vec, vectors[i])\n\u001b[1;32m    258\u001b[0m \u001b[39m#similarities =[cosine_similarity(vectors.dot(chosen_vec)\u001b[39;00m\n\u001b[1;32m    259\u001b[0m \u001b[39m# sort similarities by descending order\u001b[39;00m\n\u001b[1;32m    260\u001b[0m sorted_similarities \u001b[39m=\u001b[39m (similarities\u001b[39m.\u001b[39margsort())[::\u001b[39m-\u001b[39m\u001b[39m1\u001b[39m]\n",
      "File \u001b[0;32m~/Python/VersionControl/MT_DebiasingAlgorithms/Scripts/utils.py:96\u001b[0m, in \u001b[0;36mcosine_similarity\u001b[0;34m(v, w)\u001b[0m\n\u001b[1;32m     88\u001b[0m \u001b[39m\u001b[39m\u001b[39m\"\"\"\"\u001b[39;00m\n\u001b[1;32m     89\u001b[0m \u001b[39mComputes the cosine similarity between two vectors\u001b[39;00m\n\u001b[1;32m     90\u001b[0m \u001b[39m----\u001b[39;00m\n\u001b[0;32m   (...)\u001b[0m\n\u001b[1;32m     93\u001b[0m \u001b[39m:return: cosine similarity\u001b[39;00m\n\u001b[1;32m     94\u001b[0m \u001b[39m\"\"\"\u001b[39;00m\n\u001b[1;32m     95\u001b[0m dot_product \u001b[39m=\u001b[39m np\u001b[39m.\u001b[39mdot(v, w)\n\u001b[0;32m---> 96\u001b[0m product_norms \u001b[39m=\u001b[39m np\u001b[39m.\u001b[39;49mlinalg\u001b[39m.\u001b[39;49mnorm(v)\u001b[39m*\u001b[39mnp\u001b[39m.\u001b[39mlinalg\u001b[39m.\u001b[39mnorm(w)\n\u001b[1;32m     97\u001b[0m \u001b[39m# 1e-6 is a small number to avoid division by zero\u001b[39;00m\n\u001b[1;32m     98\u001b[0m cosine_similarity \u001b[39m=\u001b[39m dot_product\u001b[39m/\u001b[39m\u001b[39mmax\u001b[39m(product_norms, \u001b[39m1e-6\u001b[39m)\n",
      "File \u001b[0;32m<__array_function__ internals>:180\u001b[0m, in \u001b[0;36mnorm\u001b[0;34m(*args, **kwargs)\u001b[0m\n",
      "File \u001b[0;32m~/opt/miniconda3/envs/MT_env/lib/python3.10/site-packages/numpy/linalg/linalg.py:2510\u001b[0m, in \u001b[0;36mnorm\u001b[0;34m(x, ord, axis, keepdims)\u001b[0m\n\u001b[1;32m   2359\u001b[0m \u001b[39m\u001b[39m\u001b[39m\"\"\"\u001b[39;00m\n\u001b[1;32m   2360\u001b[0m \u001b[39mMatrix or vector norm.\u001b[39;00m\n\u001b[1;32m   2361\u001b[0m \n\u001b[0;32m   (...)\u001b[0m\n\u001b[1;32m   2506\u001b[0m \n\u001b[1;32m   2507\u001b[0m \u001b[39m\"\"\"\u001b[39;00m\n\u001b[1;32m   2508\u001b[0m x \u001b[39m=\u001b[39m asarray(x)\n\u001b[0;32m-> 2510\u001b[0m \u001b[39mif\u001b[39;00m \u001b[39mnot\u001b[39;00m \u001b[39missubclass\u001b[39;49m(x\u001b[39m.\u001b[39;49mdtype\u001b[39m.\u001b[39;49mtype, (inexact, object_)):\n\u001b[1;32m   2511\u001b[0m     x \u001b[39m=\u001b[39m x\u001b[39m.\u001b[39mastype(\u001b[39mfloat\u001b[39m)\n\u001b[1;32m   2513\u001b[0m \u001b[39m# Immediately handle some default, simple, fast, and common cases.\u001b[39;00m\n",
      "\u001b[0;31mKeyboardInterrupt\u001b[0m: "
     ]
    }
   ],
   "source": [
    "neutral_on_hispanic = get_frequency_neutral_words(\n",
    "    names_hispanic_emb, neutral_words, dict_vectors, vocab_cleaned, vectors_cleaned, word2idx_cleaned, neighbours_num=100)\n",
    "\n",
    "neutral_on_hispanic_deb = get_frequency_neutral_words(\n",
    "    names_hispanic_emb, neutral_words, deb_dict_gender, deb_vocab_gender, deb_vect_gender, deb_word2idx_gender, neighbours_num=100)\n"
   ]
  },
  {
   "cell_type": "code",
   "execution_count": null,
   "metadata": {},
   "outputs": [],
   "source": [
    "\n",
    "#df2 = pd.DataFrame(neig_freq2, columns=['word', 'previous_neighbours', 'freq'])\n",
    "#merge the two dataframes on the word column\n",
    "#merge df and df average on word\n",
    "#df_merged_punct = df2.merge(df_average, on='word')\n",
    "#df=pd.concat([df,df_merged], axis=1, keys='words')\n"
   ]
  },
  {
   "cell_type": "code",
   "execution_count": 29,
   "metadata": {},
   "outputs": [],
   "source": [
    "#WEAT\n",
    "# Auxiliary functions for experiments by Caliskan et al.\n",
    "\n",
    "import scipy\n",
    "import scipy.misc as misc\n",
    "import itertools\n",
    "from Scripts.utils import *\n",
    "\n",
    "\n",
    "def similarity(word_dict, word1, word2):\n",
    "\n",
    "    \n",
    "    vec1 = word_dict[word1]\n",
    "    vec2 = word_dict[word2]\n",
    "\n",
    "    return cosine_similarity(vec1, vec2)\n",
    "\n",
    "def s_word(word_dict,w, A, B,all_s_words):\n",
    "\n",
    "    if w in all_s_words:\n",
    "        return all_s_words[w]\n",
    "\n",
    "    mean_a = []\n",
    "    mean_b = []\n",
    "\n",
    "    for a in A:\n",
    "        mean_a.append(similarity(word_dict,w, a))\n",
    "    for b in B:\n",
    "        mean_b.append(similarity(word_dict,w, b))\n",
    "\n",
    "    mean_a = sum(mean_a)/float(len(mean_a))\n",
    "    mean_b = sum(mean_b)/float(len(mean_b))\n",
    "\n",
    "    all_s_words[w] = mean_a - mean_b\n",
    "\n",
    "    return all_s_words[w]\n",
    "\n",
    "\n",
    "def s_group(word_dict,X, Y, A, B,all_s_words):\n",
    "\n",
    "    total = 0\n",
    "    for x in X:\n",
    "        total += s_word(word_dict,x, A, B,all_s_words)\n",
    "    for y in Y:\n",
    "        total -= s_word(word_dict,y, A, B, all_s_words)\n",
    "\n",
    "    return total\n",
    "\n",
    "\n",
    "def p_value_exhust(word_dict,X, Y, A, B):\n",
    "\n",
    "    if len(X) > 20:\n",
    "        print('might take too long, use sampled version: p_value')\n",
    "        return\n",
    "\n",
    "    assert(len(X) == len(Y))\n",
    "\n",
    "    all_s_words = {}\n",
    "    s_orig = s_group(word_dict,X, Y, A, B, all_s_words)\n",
    "\n",
    "    union = set(X+Y)\n",
    "    subset_size = len(union)/2\n",
    "\n",
    "    larger = 0\n",
    "    total = 0\n",
    "    for subset in tqdm(set(itertools.combinations(union, int(subset_size)))):\n",
    "        total += 1\n",
    "        Xi = list(set(subset))\n",
    "        Yi = list(union - set(subset))\n",
    "        if s_group(word_dict,Xi, Yi, A, B, all_s_words) > s_orig:\n",
    "            larger += 1\n",
    "    print('num of samples', total)\n",
    "    #print(all_s_words)\n",
    "    return larger/float(total)\n",
    "\n",
    "\n",
    "def p_value_sample(word_dict,X, Y, A, B):\n",
    "\n",
    "    np.random.seed(42)\n",
    "    \n",
    "    all_s_words = {}\n",
    "\n",
    "    assert(len(X) == len(Y))\n",
    "    length = len(X)\n",
    "\n",
    "    s_orig = s_group(word_dict, X, Y, A, B, all_s_words)\n",
    "\n",
    "    num_of_samples = min(1000000, int(\n",
    "        scipy.special.comb(length*2, length)*100))\n",
    "    print('num of samples', num_of_samples)\n",
    "    larger = 0\n",
    "    for i in range(num_of_samples):\n",
    "        permute = np.random.permutation(X+Y)\n",
    "        Xi = permute[:length]\n",
    "        Yi = permute[length:]\n",
    "        if s_group(word_dict,Xi, Yi, A, B, all_s_words) > s_orig:\n",
    "            larger += 1\n",
    "\n",
    "    return larger/float(num_of_samples)\n"
   ]
  },
  {
   "cell_type": "code",
   "execution_count": 113,
   "metadata": {},
   "outputs": [],
   "source": [
    "\n",
    "def effect_size(X, Y, A, B,  wv, w2i, vocab):\n",
    "\n",
    "    assert(len(X) == len(Y))\n",
    "    assert(len(A) == len(B))\n",
    "\n",
    "    norm_x = []\n",
    "    norm_y = []\n",
    "\n",
    "    for x in X:\n",
    "        norm_x.append(association_diff(x, A, B, wv, w2i))\n",
    "    for y in Y:\n",
    "        norm_y.append(association_diff(y, A, B, wv, w2i))\n",
    "\n",
    "    std = np.std(norm_x+norm_y, ddof=1)\n",
    "    norm_x = sum(norm_x) / float(len(norm_x))\n",
    "    norm_y = sum(norm_y) / float(len(norm_y))\n",
    "\n",
    "    return (norm_x-norm_y)/std\n"
   ]
  },
  {
   "cell_type": "code",
   "execution_count": 30,
   "metadata": {},
   "outputs": [
    {
     "name": "stderr",
     "output_type": "stream",
     "text": [
      "100%|██████████| 12870/12870 [00:00<00:00, 222945.55it/s]\n"
     ]
    },
    {
     "name": "stdout",
     "output_type": "stream",
     "text": [
      "num of samples 12870\n",
      "0.0\n"
     ]
    },
    {
     "name": "stderr",
     "output_type": "stream",
     "text": [
      "100%|██████████| 12870/12870 [00:00<00:00, 239652.17it/s]\n"
     ]
    },
    {
     "name": "stdout",
     "output_type": "stream",
     "text": [
      "num of samples 12870\n",
      "0.0005439005439005439\n"
     ]
    },
    {
     "name": "stderr",
     "output_type": "stream",
     "text": [
      "100%|██████████| 12870/12870 [00:00<00:00, 238122.45it/s]\n"
     ]
    },
    {
     "name": "stdout",
     "output_type": "stream",
     "text": [
      "num of samples 12870\n",
      "0.0\n"
     ]
    },
    {
     "name": "stderr",
     "output_type": "stream",
     "text": [
      "100%|██████████| 12870/12870 [00:00<00:00, 241083.17it/s]\n"
     ]
    },
    {
     "name": "stdout",
     "output_type": "stream",
     "text": [
      "num of samples 12870\n",
      "0.34444444444444444\n"
     ]
    },
    {
     "name": "stderr",
     "output_type": "stream",
     "text": [
      "100%|██████████| 12870/12870 [00:00<00:00, 240813.22it/s]"
     ]
    },
    {
     "name": "stdout",
     "output_type": "stream",
     "text": [
      "num of samples 12870\n",
      "0.31445221445221444\n"
     ]
    },
    {
     "name": "stderr",
     "output_type": "stream",
     "text": [
      "\n"
     ]
    }
   ],
   "source": [
    "# Experiment 1\n",
    "\n",
    "A = ['john', 'paul', 'mike', 'kevin', 'steve', 'greg', 'jeff', 'bill']\n",
    "B = ['amy', 'joan', 'lisa', 'sarah', 'diana', 'kate', 'ann', 'donna']\n",
    "C = ['executive', 'management', 'professional',\n",
    "     'corporation', 'salary', 'office', 'business', 'career']\n",
    "D = ['home', 'parents', 'children', 'family',\n",
    "     'cousins', 'marriage', 'wedding', 'relatives']\n",
    "\n",
    "print(p_value_exhust(dict_vec_cleaned,A, B, C, D))\n",
    "\n",
    "\n",
    "# Experiment 2\n",
    "\n",
    "E = ['math', 'algebra', 'geometry', 'calculus',\n",
    "     'equations', 'computation', 'numbers', 'addition']\n",
    "F = ['poetry', 'art', 'dance', 'literature',\n",
    "     'novel', 'symphony', 'drama', 'sculpture']\n",
    "\n",
    "print(p_value_exhust(dict_vec_cleaned,A, B, E, F))\n",
    "\n",
    "low_wage_occupations=['janitor', 'maid', 'clerk', 'assistant', 'laborer', 'operator', 'helper', 'fireman', 'guard', 'carpenter', 'electrician', 'plumber', 'mechanic', 'cook', 'waiter', 'porter', 'cleaner', 'tailor', 'mechanic', 'hairdresser', 'janitor', 'maid', 'clerk', 'assistant', 'laborer', 'operator', 'helper', 'fireman', 'guard', 'carpenter', 'electrician', 'plumber', 'mechanic', 'cook', 'waiter', 'porter', 'cleaner', 'tailor', 'mechanic', 'hairdresser', 'janitor', 'maid', 'clerk', 'assistant', 'laborer', 'operator', 'helper', 'fireman', 'guard', 'carpenter', 'electrician', 'plumber', 'mechanic', 'cook', 'waiter', 'porter', 'cleaner', 'tailor', 'mechanic', 'hairdresser', 'janitor', 'maid', 'clerk', 'assistant', 'laborer', 'operator', 'helper', 'fireman', 'guard', 'carpenter', 'electrician', 'plumber', 'mechanic', 'cook', 'waiter', 'porter', 'cleaner', 'tailor', 'mechanic', 'hairdresser', 'janitor', 'maid', 'clerk', 'assistant', 'laborer', 'operator', 'helper', 'fireman', 'guard', 'carpenter', 'electrician', 'plumber', 'mechanic', 'cook', 'waiter', 'porter', 'cleaner', 'tailor', 'mechanic', 'hairdresser', 'janitor', 'maid', 'clerk', 'assistant', 'laborer', 'operator', 'helper', 'fireman', 'guard', 'carpenter', 'electrician', 'plumber', 'mechanic', 'cook', 'waiter', 'porter', 'cleaner', 'tailor', 'mechanic', 'hairdresser', 'janitor', 'maid', 'clerk', 'assistant', 'laborer', 'operator', 'helper', 'fireman', 'guard',]\n",
    "\n",
    "# Experiment 3\n",
    "\n",
    "G = ['science', 'technology', 'physics', 'chemistry',\n",
    "     'einstein', 'nasa', 'experiment', 'astronomy']\n",
    "H = ['poetry', 'art', 'shakespeare', 'dance',\n",
    "     'literature', 'novel', 'symphony', 'drama']\n",
    "\n",
    "print(p_value_exhust(dict_vec_cleaned,A, B, G, H))\n",
    "\n",
    "pleasant = [\"caress\", \"freedom\", \"health\", \"love\", \"peace\", \"cheer\", \"friend\", \"heaven\", \"loyal\", \"pleasure\", \"diamond\", \"gentle\",\n",
    "            \"honest\", \"lucky\", \"rainbow\", \"diploma\", \"gift\", \"honor\", \"miracle\", \"sunrise\", \"family\", \"happy\", \"laughter\", \"paradise\", \"vacation\"]\n",
    "\n",
    "unpleasant=[\"abuse\",\"crash\",\"filth\",\"murder\",\"sickness\",\"accident\",\"death\",\"grief\",\"poison\",\"stink\",\"assault\",\"disaster\",\"hatred\",\"pollute\",\"tragedy\",\"bomb\",\"divorce\",\"jail\",\"poverty\",\"ugly\",\"cancer\",\"evil\",\"kill\",\"rotten\",\"vomit\"]\n",
    "\n",
    "\n",
    "print(p_value_exhust(dict_vec_cleaned,A, B, pleasant, unpleasant))\n",
    "\n",
    "\n",
    "music=[\"bagpipe\",\"cello\",\"guitar\",\"lute\",\"trombone\",\"banjo\",\"clarinet\",\"harmonica\",\"mandolin\", \"trumpet\",\"bassoon\",\"drum\",\"harp\",\"oboe\",\"tuba\",\"bell\",\"fiddle\",\"harpsichord\",\"piano\",\"viola\",\"bongo\",\"flute\",\"horn\",\"saxophone\",\"violin\",\"voice\"]\n",
    "guns=[\"arrow\",\"club\",\"gun\",\"missile\",\"spear\",\"axe\",\"dagger\",\"harpoon\",\"pistol\",\"sword\",\"blade\",\"dynamite\",\"hatchet\",\"rifle\",\"tank\",\"bomb\",\"firearm\",\"knife\",\"shotgun\",\"teargas\",\"cannon\",\"grenade\",\"mace\",\"slingshot\",\"whip\"]\n",
    "\n",
    "\n",
    "print(p_value_exhust(dict_vec_cleaned,A, B, guns, music))"
   ]
  },
  {
   "cell_type": "code",
   "execution_count": 79,
   "metadata": {},
   "outputs": [
    {
     "name": "stderr",
     "output_type": "stream",
     "text": [
      "100%|██████████| 12870/12870 [00:00<00:00, 217244.49it/s]\n"
     ]
    },
    {
     "name": "stdout",
     "output_type": "stream",
     "text": [
      "num of samples 12870\n",
      "0.002874902874902875\n"
     ]
    },
    {
     "name": "stderr",
     "output_type": "stream",
     "text": [
      "100%|██████████| 12870/12870 [00:00<00:00, 240831.49it/s]\n"
     ]
    },
    {
     "name": "stdout",
     "output_type": "stream",
     "text": [
      "num of samples 12870\n",
      "0.7176379176379176\n"
     ]
    },
    {
     "name": "stderr",
     "output_type": "stream",
     "text": [
      "100%|██████████| 12870/12870 [00:00<00:00, 234544.68it/s]\n"
     ]
    },
    {
     "name": "stdout",
     "output_type": "stream",
     "text": [
      "num of samples 12870\n",
      "0.671095571095571\n"
     ]
    },
    {
     "name": "stderr",
     "output_type": "stream",
     "text": [
      "100%|██████████| 12870/12870 [00:00<00:00, 242012.71it/s]\n"
     ]
    },
    {
     "name": "stdout",
     "output_type": "stream",
     "text": [
      "num of samples 12870\n",
      "0.662004662004662\n"
     ]
    },
    {
     "name": "stderr",
     "output_type": "stream",
     "text": [
      "100%|██████████| 12870/12870 [00:00<00:00, 239972.85it/s]"
     ]
    },
    {
     "name": "stdout",
     "output_type": "stream",
     "text": [
      "num of samples 12870\n",
      "0.021056721056721055\n"
     ]
    },
    {
     "name": "stderr",
     "output_type": "stream",
     "text": [
      "\n"
     ]
    }
   ],
   "source": [
    "print(p_value_exhust(deb_dict_gender,A, B, C, D))\n",
    "print(p_value_exhust(deb_dict_gender, A, B, E, F))\n",
    "print(p_value_exhust(deb_dict_gender, A, B, G, H))\n",
    "\n",
    "print(p_value_exhust(deb_dict_gender,A, B, pleasant, unpleasant))\n",
    "print(p_value_exhust(deb_dict_gender,A, B, guns, music))"
   ]
  },
  {
   "cell_type": "code",
   "execution_count": 28,
   "metadata": {},
   "outputs": [],
   "source": [
    "male_black_names=names_black_emb[:8]\n",
    "male_white_names=names_white_emb[:8]\n",
    "female_black_names=names_black_emb[-8:]\n",
    "female_white_names=names_white_emb[-8:]\n",
    "neutral_test=neutral_words[-9:-1]"
   ]
  },
  {
   "cell_type": "code",
   "execution_count": 29,
   "metadata": {},
   "outputs": [
    {
     "name": "stdout",
     "output_type": "stream",
     "text": [
      "Black and white male names with career and family\n"
     ]
    },
    {
     "name": "stderr",
     "output_type": "stream",
     "text": [
      "100%|██████████| 12870/12870 [00:00<00:00, 221084.65it/s]"
     ]
    },
    {
     "name": "stdout",
     "output_type": "stream",
     "text": [
      "num of samples 12870\n",
      "0.13263403263403264\n",
      "num of samples 1000000\n"
     ]
    },
    {
     "name": "stderr",
     "output_type": "stream",
     "text": [
      "\n"
     ]
    },
    {
     "name": "stdout",
     "output_type": "stream",
     "text": [
      "0.132708\n"
     ]
    },
    {
     "name": "stderr",
     "output_type": "stream",
     "text": [
      "100%|██████████| 12870/12870 [00:00<00:00, 235476.76it/s]\n"
     ]
    },
    {
     "name": "stdout",
     "output_type": "stream",
     "text": [
      "num of samples 12870\n",
      "0.44638694638694637\n",
      "Black and white male names with math and arts\n"
     ]
    },
    {
     "name": "stderr",
     "output_type": "stream",
     "text": [
      "100%|██████████| 12870/12870 [00:00<00:00, 222630.17it/s]\n"
     ]
    },
    {
     "name": "stdout",
     "output_type": "stream",
     "text": [
      "num of samples 12870\n",
      "0.9848484848484849\n"
     ]
    },
    {
     "name": "stderr",
     "output_type": "stream",
     "text": [
      "100%|██████████| 12870/12870 [00:00<00:00, 226984.16it/s]\n"
     ]
    },
    {
     "name": "stdout",
     "output_type": "stream",
     "text": [
      "num of samples 12870\n",
      "0.9828282828282828\n",
      "Black and white male names with science and arts\n"
     ]
    },
    {
     "name": "stderr",
     "output_type": "stream",
     "text": [
      "100%|██████████| 12870/12870 [00:00<00:00, 230310.74it/s]\n"
     ]
    },
    {
     "name": "stdout",
     "output_type": "stream",
     "text": [
      "num of samples 12870\n",
      "0.5732711732711733\n"
     ]
    },
    {
     "name": "stderr",
     "output_type": "stream",
     "text": [
      "100%|██████████| 12870/12870 [00:00<00:00, 229216.40it/s]\n"
     ]
    },
    {
     "name": "stdout",
     "output_type": "stream",
     "text": [
      "num of samples 12870\n",
      "0.8450660450660451\n",
      "Black and white male names with career and values (liberality, education, violence)\n"
     ]
    },
    {
     "name": "stderr",
     "output_type": "stream",
     "text": [
      "100%|██████████| 12870/12870 [00:00<00:00, 210497.00it/s]\n"
     ]
    },
    {
     "name": "stdout",
     "output_type": "stream",
     "text": [
      "num of samples 12870\n",
      "7.77000777000777e-05\n"
     ]
    },
    {
     "name": "stderr",
     "output_type": "stream",
     "text": [
      "100%|██████████| 12870/12870 [00:00<00:00, 228450.06it/s]\n"
     ]
    },
    {
     "name": "stdout",
     "output_type": "stream",
     "text": [
      "num of samples 12870\n",
      "0.06557886557886558\n",
      "Black and white male names with career and low_wage_occupations\n"
     ]
    },
    {
     "name": "stderr",
     "output_type": "stream",
     "text": [
      "100%|██████████| 12870/12870 [00:00<00:00, 228515.82it/s]\n"
     ]
    },
    {
     "name": "stdout",
     "output_type": "stream",
     "text": [
      "num of samples 12870\n",
      "0.0\n"
     ]
    },
    {
     "name": "stderr",
     "output_type": "stream",
     "text": [
      "100%|██████████| 12870/12870 [00:00<00:00, 228705.58it/s]\n"
     ]
    },
    {
     "name": "stdout",
     "output_type": "stream",
     "text": [
      "num of samples 12870\n",
      "0.008158508158508158\n",
      "Black and white male names with pleasant and unpleasant words\n"
     ]
    },
    {
     "name": "stderr",
     "output_type": "stream",
     "text": [
      "100%|██████████| 12870/12870 [00:00<00:00, 226265.83it/s]\n"
     ]
    },
    {
     "name": "stdout",
     "output_type": "stream",
     "text": [
      "num of samples 12870\n",
      "0.002874902874902875\n"
     ]
    },
    {
     "name": "stderr",
     "output_type": "stream",
     "text": [
      "100%|██████████| 12870/12870 [00:00<00:00, 229313.78it/s]"
     ]
    },
    {
     "name": "stdout",
     "output_type": "stream",
     "text": [
      "num of samples 12870\n",
      "0.1972027972027972\n"
     ]
    },
    {
     "name": "stderr",
     "output_type": "stream",
     "text": [
      "\n"
     ]
    }
   ],
   "source": [
    "#Black and white names with career and family\n",
    "print('Black and white male names with career and family')\n",
    "print(p_value_exhust(dict_vec_cleaned,male_white_names, male_black_names, C, D))\n",
    "print(p_value_sample(dict_vec_cleaned,male_white_names, male_black_names, C, D))\n",
    "print(p_value_exhust(deb_dict_gender,male_white_names, male_black_names, C, D))\n",
    "\n",
    "#Black and white names with math and arts\n",
    "print('Black and white male names with math and arts')\n",
    "print(p_value_exhust(dict_vec_cleaned,male_white_names, male_black_names, E, F))\n",
    "print(p_value_exhust(deb_dict_gender,male_white_names, male_black_names, E, F))\n",
    "\n",
    "#Black and white names with science and arts\n",
    "print('Black and white male names with science and arts')\n",
    "print(p_value_exhust(dict_vec_cleaned,male_white_names, male_black_names, G,H))\n",
    "print(p_value_exhust(deb_dict_gender, male_white_names, male_black_names, G, H))\n",
    "\n",
    "#Black and white names with career and values (liberality, education, violence)\n",
    "print('Black and white male names with career and values (liberality, education, violence)')\n",
    "print(p_value_exhust(dict_vec_cleaned,male_white_names, male_black_names, C, neutral_test))\n",
    "print(p_value_exhust(deb_dict_gender, male_white_names,\n",
    "      male_black_names, C, neutral_test))\n",
    "\n",
    "#Black and white names with career and values (liberality, education, violence)\n",
    "print('Black and white male names with career and low_wage_occupations')\n",
    "print(p_value_exhust(dict_vec_cleaned, male_white_names,\n",
    "      male_black_names, C, low_wage_occupations))\n",
    "print(p_value_exhust(deb_dict_gender, male_white_names,\n",
    "      male_black_names, C, low_wage_occupations))\n",
    "\n",
    "#Black and white names with career and values (liberality, education, violence)\n",
    "print('Black and white male names with pleasant and unpleasant words')\n",
    "print(p_value_exhust(dict_vec_cleaned,male_white_names, male_black_names, pleasant, unpleasant))\n",
    "print(p_value_exhust(deb_dict_gender,male_white_names, male_black_names, pleasant, unpleasant))"
   ]
  },
  {
   "cell_type": "code",
   "execution_count": 30,
   "metadata": {},
   "outputs": [
    {
     "name": "stdout",
     "output_type": "stream",
     "text": [
      "Black and white male names with pleasant and unpleasant words\n"
     ]
    },
    {
     "name": "stderr",
     "output_type": "stream",
     "text": [
      "100%|██████████| 12870/12870 [00:00<00:00, 234315.61it/s]\n"
     ]
    },
    {
     "name": "stdout",
     "output_type": "stream",
     "text": [
      "num of samples 12870\n",
      "0.7242424242424242\n"
     ]
    },
    {
     "name": "stderr",
     "output_type": "stream",
     "text": [
      "100%|██████████| 12870/12870 [00:00<00:00, 230948.26it/s]"
     ]
    },
    {
     "name": "stdout",
     "output_type": "stream",
     "text": [
      "num of samples 12870\n",
      "0.978010878010878\n"
     ]
    },
    {
     "name": "stderr",
     "output_type": "stream",
     "text": [
      "\n"
     ]
    }
   ],
   "source": [
    "#Black and white names with career and values (liberality, education, violence)\n",
    "print('Black and white male names with pleasant and unpleasant words')\n",
    "print(p_value_exhust(dict_vec_cleaned,male_white_names, male_black_names, music, guns))\n",
    "print(p_value_exhust(deb_dict_gender,male_white_names, male_black_names, music, guns))"
   ]
  },
  {
   "cell_type": "code",
   "execution_count": 118,
   "metadata": {},
   "outputs": [
    {
     "name": "stdout",
     "output_type": "stream",
     "text": [
      "Black and white female names with career and family\n"
     ]
    },
    {
     "name": "stderr",
     "output_type": "stream",
     "text": [
      "100%|██████████| 12870/12870 [00:00<00:00, 227076.78it/s]\n"
     ]
    },
    {
     "name": "stdout",
     "output_type": "stream",
     "text": [
      "num of samples 12870\n",
      "0.7837606837606838\n"
     ]
    },
    {
     "name": "stderr",
     "output_type": "stream",
     "text": [
      "100%|██████████| 12870/12870 [00:00<00:00, 232570.14it/s]\n"
     ]
    },
    {
     "name": "stdout",
     "output_type": "stream",
     "text": [
      "num of samples 12870\n",
      "0.01724941724941725\n",
      "Black and white female names with math and arts\n"
     ]
    },
    {
     "name": "stderr",
     "output_type": "stream",
     "text": [
      "100%|██████████| 12870/12870 [00:00<00:00, 235119.83it/s]\n"
     ]
    },
    {
     "name": "stdout",
     "output_type": "stream",
     "text": [
      "num of samples 12870\n",
      "0.9988344988344988\n"
     ]
    },
    {
     "name": "stderr",
     "output_type": "stream",
     "text": [
      "100%|██████████| 12870/12870 [00:00<00:00, 235091.16it/s]\n"
     ]
    },
    {
     "name": "stdout",
     "output_type": "stream",
     "text": [
      "num of samples 12870\n",
      "0.9642579642579643\n",
      "Black and white female names with science and arts\n"
     ]
    },
    {
     "name": "stderr",
     "output_type": "stream",
     "text": [
      "100%|██████████| 12870/12870 [00:00<00:00, 229313.78it/s]\n"
     ]
    },
    {
     "name": "stdout",
     "output_type": "stream",
     "text": [
      "num of samples 12870\n",
      "0.9918414918414918\n"
     ]
    },
    {
     "name": "stderr",
     "output_type": "stream",
     "text": [
      "100%|██████████| 12870/12870 [00:00<00:00, 237165.18it/s]\n"
     ]
    },
    {
     "name": "stdout",
     "output_type": "stream",
     "text": [
      "num of samples 12870\n",
      "0.8168609168609169\n",
      "Black and white female names with career and values (liberality, education, violence)\n"
     ]
    },
    {
     "name": "stderr",
     "output_type": "stream",
     "text": [
      "100%|██████████| 12870/12870 [00:00<00:00, 233886.16it/s]\n"
     ]
    },
    {
     "name": "stdout",
     "output_type": "stream",
     "text": [
      "num of samples 12870\n",
      "0.030691530691530692\n"
     ]
    },
    {
     "name": "stderr",
     "output_type": "stream",
     "text": [
      "100%|██████████| 12870/12870 [00:00<00:00, 227997.52it/s]\n"
     ]
    },
    {
     "name": "stdout",
     "output_type": "stream",
     "text": [
      "num of samples 12870\n",
      "0.020590520590520592\n",
      "Black and white female names with pleasant and unpleasant words\n"
     ]
    },
    {
     "name": "stderr",
     "output_type": "stream",
     "text": [
      "100%|██████████| 12870/12870 [00:00<00:00, 230553.71it/s]\n"
     ]
    },
    {
     "name": "stdout",
     "output_type": "stream",
     "text": [
      "num of samples 12870\n",
      "0.002097902097902098\n"
     ]
    },
    {
     "name": "stderr",
     "output_type": "stream",
     "text": [
      "100%|██████████| 12870/12870 [00:00<00:00, 233584.57it/s]"
     ]
    },
    {
     "name": "stdout",
     "output_type": "stream",
     "text": [
      "num of samples 12870\n",
      "0.2236208236208236\n"
     ]
    },
    {
     "name": "stderr",
     "output_type": "stream",
     "text": [
      "\n"
     ]
    }
   ],
   "source": [
    "print('Black and white female names with career and family')\n",
    "print(p_value_exhust(dict_vec_cleaned,female_white_names, female_black_names, C, D))\n",
    "print(p_value_exhust(deb_dict_gender,female_white_names, female_black_names, C, D))\n",
    "\n",
    "#Black and white names with math and arts\n",
    "print('Black and white female names with math and arts')\n",
    "print(p_value_exhust(dict_vec_cleaned,female_white_names, female_black_names, E, F))\n",
    "print(p_value_exhust(deb_dict_gender,female_white_names, female_black_names, E, F))\n",
    "\n",
    "#Black and white names with science and arts\n",
    "print('Black and white female names with science and arts')\n",
    "print(p_value_exhust(dict_vec_cleaned,female_white_names, female_black_names, G,H))\n",
    "print(p_value_exhust(deb_dict_gender, female_white_names, female_black_names, G, H))\n",
    "\n",
    "#Black and white names with career and values (liberality, education, violence)\n",
    "print('Black and white female names with career and values (liberality, education, violence)')\n",
    "print(p_value_exhust(dict_vec_cleaned,female_white_names, female_black_names, C, neutral_test))\n",
    "print(p_value_exhust(deb_dict_gender, female_white_names,\n",
    "      female_black_names, C, neutral_test))\n",
    "\n",
    "\n",
    "print('Black and white female names with pleasant and unpleasant words')\n",
    "print(p_value_exhust(dict_vec_cleaned, female_white_names,\n",
    "      female_black_names, pleasant,unpleasant))\n",
    "print(p_value_exhust(deb_dict_gender, female_white_names,\n",
    "      female_black_names, pleasant, unpleasant))\n"
   ]
  },
  {
   "cell_type": "code",
   "execution_count": 31,
   "metadata": {},
   "outputs": [
    {
     "name": "stdout",
     "output_type": "stream",
     "text": [
      "Black and white female names with pleasant and unpleasant words\n"
     ]
    },
    {
     "name": "stderr",
     "output_type": "stream",
     "text": [
      "100%|██████████| 12870/12870 [00:00<00:00, 229526.34it/s]\n"
     ]
    },
    {
     "name": "stdout",
     "output_type": "stream",
     "text": [
      "num of samples 12870\n",
      "0.9226107226107226\n"
     ]
    },
    {
     "name": "stderr",
     "output_type": "stream",
     "text": [
      "100%|██████████| 12870/12870 [00:00<00:00, 235296.11it/s]"
     ]
    },
    {
     "name": "stdout",
     "output_type": "stream",
     "text": [
      "num of samples 12870\n",
      "0.9789432789432789\n"
     ]
    },
    {
     "name": "stderr",
     "output_type": "stream",
     "text": [
      "\n"
     ]
    }
   ],
   "source": [
    "print('Black and white female names with pleasant and unpleasant words')\n",
    "print(p_value_exhust(dict_vec_cleaned, female_white_names,\n",
    "      female_black_names, music, guns))\n",
    "print(p_value_exhust(deb_dict_gender, female_white_names,\n",
    "      female_black_names, music, guns))\n"
   ]
  },
  {
   "cell_type": "code",
   "execution_count": 119,
   "metadata": {},
   "outputs": [
    {
     "name": "stdout",
     "output_type": "stream",
     "text": [
      "males vs female names with career and family\n",
      "num of samples 1000000\n",
      "1e-05\n",
      "num of samples 1000000\n",
      "0.029729\n",
      "Black and white female names with math and arts\n",
      "num of samples 1000000\n",
      "0.611626\n",
      "num of samples 1000000\n",
      "0.977509\n",
      "Black and white female names with science and arts\n",
      "num of samples 1000000\n",
      "0.346551\n",
      "num of samples 1000000\n",
      "0.391843\n",
      "Black and white female names with career and values (liberality, education, violence)\n",
      "num of samples 1000000\n",
      "0.011032\n",
      "num of samples 1000000\n",
      "0.090137\n",
      "Black and white female names with pleasant and unpleasant words\n",
      "num of samples 1000000\n",
      "0.222511\n",
      "num of samples 1000000\n",
      "0.769125\n"
     ]
    }
   ],
   "source": [
    "print('males vs female names with career and family')\n",
    "print(p_value_sample(dict_vec_cleaned,male_black_names+male_white_names, female_white_names+female_black_names, C, D))\n",
    "print(p_value_sample(deb_dict_gender,male_black_names+male_white_names, female_white_names+female_black_names, C, D))\n",
    "\n",
    "#Black and white names with math and arts\n",
    "print('Black and white female names with math and arts')\n",
    "print(p_value_sample(dict_vec_cleaned, male_black_names +\n",
    "      male_white_names, female_white_names+female_black_names, E, F))\n",
    "print(p_value_sample(deb_dict_gender,male_black_names+male_white_names, female_white_names+female_black_names, E, F))\n",
    "\n",
    "#Black and white names with science and arts\n",
    "print('Black and white female names with science and arts')\n",
    "print(p_value_sample(dict_vec_cleaned, male_black_names +\n",
    "      male_white_names, female_white_names+female_black_names, G, H))\n",
    "print(p_value_sample(deb_dict_gender, male_black_names +\n",
    "      male_white_names, female_white_names+female_black_names, G, H))\n",
    "\n",
    "#Black and white names with career and values (liberality, education, violence)\n",
    "print('Black and white female names with career and values (liberality, education, violence)')\n",
    "print(p_value_sample(dict_vec_cleaned,male_black_names+male_white_names, female_white_names+female_black_names, C, neutral_words[-17:-1]))\n",
    "print(p_value_sample(deb_dict_gender,male_black_names+male_white_names, female_white_names+female_black_names, C, neutral_words[-17:-1]))\n",
    "\n",
    "print('Black and white female names with pleasant and unpleasant words')\n",
    "print(p_value_sample(dict_vec_cleaned,male_black_names+male_white_names, female_white_names+female_black_names, pleasant, unpleasant))\n",
    "print(p_value_sample(deb_dict_gender,male_black_names+male_white_names, female_white_names+female_black_names, pleasant, unpleasant))"
   ]
  },
  {
   "cell_type": "code",
   "execution_count": 37,
   "metadata": {},
   "outputs": [
    {
     "name": "stdout",
     "output_type": "stream",
     "text": [
      "Black and white female names with pleasant and unpleasant words\n",
      "num of samples 1000000\n",
      "0.362065\n",
      "num of samples 1000000\n",
      "0.012881\n"
     ]
    }
   ],
   "source": [
    "print('Black and white female names with pleasant and unpleasant words')\n",
    "print(p_value_sample(dict_vec_cleaned,male_black_names+male_white_names, female_white_names+female_black_names, guns, music))\n",
    "print(p_value_sample(deb_dict_gender,male_black_names+male_white_names, female_white_names+female_black_names, guns, music))"
   ]
  },
  {
   "cell_type": "code",
   "execution_count": 120,
   "metadata": {},
   "outputs": [
    {
     "name": "stdout",
     "output_type": "stream",
     "text": [
      "Black and white names with career and low wage occupations\n",
      "num of samples 1000000\n",
      "0.002291\n",
      "num of samples 1000000\n",
      "0.015557\n"
     ]
    }
   ],
   "source": [
    "#Black and white names with career and values (liberality, education, violence)\n",
    "print('Black and white names with career and low wage occupations')\n",
    "print(p_value_sample(dict_vec_cleaned,male_black_names+male_white_names, female_white_names+female_black_names, C, low_wage_occupations))\n",
    "print(p_value_sample(deb_dict_gender,male_black_names+male_white_names, female_white_names+female_black_names, C, low_wage_occupations))"
   ]
  },
  {
   "cell_type": "code",
   "execution_count": 123,
   "metadata": {},
   "outputs": [
    {
     "name": "stdout",
     "output_type": "stream",
     "text": [
      "Black and white female names with career and family\n"
     ]
    },
    {
     "name": "stderr",
     "output_type": "stream",
     "text": [
      "100%|██████████| 12870/12870 [00:00<00:00, 228494.54it/s]\n"
     ]
    },
    {
     "name": "stdout",
     "output_type": "stream",
     "text": [
      "num of samples 12870\n",
      "0.00202020202020202\n"
     ]
    },
    {
     "name": "stderr",
     "output_type": "stream",
     "text": [
      "100%|██████████| 12870/12870 [00:00<00:00, 228954.88it/s]\n"
     ]
    },
    {
     "name": "stdout",
     "output_type": "stream",
     "text": [
      "num of samples 12870\n",
      "0.34763014763014766\n",
      "Black and white female names with math and arts\n"
     ]
    },
    {
     "name": "stderr",
     "output_type": "stream",
     "text": [
      "100%|██████████| 12870/12870 [00:00<00:00, 225034.88it/s]\n"
     ]
    },
    {
     "name": "stdout",
     "output_type": "stream",
     "text": [
      "num of samples 12870\n",
      "0.0016317016317016317\n"
     ]
    },
    {
     "name": "stderr",
     "output_type": "stream",
     "text": [
      "100%|██████████| 12870/12870 [00:00<00:00, 225417.35it/s]\n"
     ]
    },
    {
     "name": "stdout",
     "output_type": "stream",
     "text": [
      "num of samples 12870\n",
      "0.31033411033411035\n",
      "Black and white female names with science and arts\n"
     ]
    },
    {
     "name": "stderr",
     "output_type": "stream",
     "text": [
      "100%|██████████| 12870/12870 [00:00<00:00, 230629.56it/s]\n"
     ]
    },
    {
     "name": "stdout",
     "output_type": "stream",
     "text": [
      "num of samples 12870\n",
      "0.022999222999223\n"
     ]
    },
    {
     "name": "stderr",
     "output_type": "stream",
     "text": [
      "100%|██████████| 12870/12870 [00:00<00:00, 232360.91it/s]\n"
     ]
    },
    {
     "name": "stdout",
     "output_type": "stream",
     "text": [
      "num of samples 12870\n",
      "0.11810411810411811\n",
      "Black and white female names with career and values (liberality, education, violence)\n"
     ]
    },
    {
     "name": "stderr",
     "output_type": "stream",
     "text": [
      "100%|██████████| 12870/12870 [00:00<00:00, 229627.88it/s]\n"
     ]
    },
    {
     "name": "stdout",
     "output_type": "stream",
     "text": [
      "num of samples 12870\n",
      "0.4881118881118881\n"
     ]
    },
    {
     "name": "stderr",
     "output_type": "stream",
     "text": [
      "100%|██████████| 12870/12870 [00:00<00:00, 211871.78it/s]\n"
     ]
    },
    {
     "name": "stdout",
     "output_type": "stream",
     "text": [
      "num of samples 12870\n",
      "0.5063714063714063\n",
      "Black and white female names with pleasant and unpleasant words\n"
     ]
    },
    {
     "name": "stderr",
     "output_type": "stream",
     "text": [
      "100%|██████████| 12870/12870 [00:00<00:00, 228276.16it/s]\n"
     ]
    },
    {
     "name": "stdout",
     "output_type": "stream",
     "text": [
      "num of samples 12870\n",
      "0.01554001554001554\n"
     ]
    },
    {
     "name": "stderr",
     "output_type": "stream",
     "text": [
      "100%|██████████| 12870/12870 [00:00<00:00, 230402.16it/s]\n"
     ]
    },
    {
     "name": "stdout",
     "output_type": "stream",
     "text": [
      "num of samples 12870\n",
      "0.1041958041958042\n",
      "Black and white female names with pleasant and unpleasant words\n"
     ]
    },
    {
     "name": "stderr",
     "output_type": "stream",
     "text": [
      "100%|██████████| 12870/12870 [00:00<00:00, 230897.88it/s]\n"
     ]
    },
    {
     "name": "stdout",
     "output_type": "stream",
     "text": [
      "num of samples 12870\n",
      "0.8462315462315463\n"
     ]
    },
    {
     "name": "stderr",
     "output_type": "stream",
     "text": [
      "100%|██████████| 12870/12870 [00:00<00:00, 224266.38it/s]"
     ]
    },
    {
     "name": "stdout",
     "output_type": "stream",
     "text": [
      "num of samples 12870\n",
      "0.9298368298368298\n"
     ]
    },
    {
     "name": "stderr",
     "output_type": "stream",
     "text": [
      "\n"
     ]
    }
   ],
   "source": [
    "print('Black and white female names with career and family')\n",
    "print(p_value_exhust(dict_vec_cleaned,male_black_names, female_white_names, C, D))\n",
    "print(p_value_exhust(deb_dict_gender,male_black_names, female_white_names, C, D))\n",
    "\n",
    "#Black and white names with math and arts\n",
    "print('Black and white female names with math and arts')\n",
    "print(p_value_exhust(dict_vec_cleaned,male_black_names, female_white_names, E, F))\n",
    "print(p_value_exhust(deb_dict_gender,male_black_names, female_white_names, E, F))\n",
    "\n",
    "#Black and white names with science and arts\n",
    "print('Black and white female names with science and arts')\n",
    "print(p_value_exhust(dict_vec_cleaned,male_black_names, female_white_names, G,H))\n",
    "print(p_value_exhust(deb_dict_gender, male_black_names, female_white_names, G, H))\n",
    "\n",
    "#Black and white names with career and values (liberality, education, violence)\n",
    "print('Black and white female names with career and values (liberality, education, violence)')\n",
    "print(p_value_exhust(dict_vec_cleaned,male_black_names, female_white_names, C, neutral_test))\n",
    "print(p_value_exhust(deb_dict_gender,male_black_names, female_white_names, C, neutral_test))\n",
    "\n",
    "#Black and white names with pleasant and unpleasant words\n",
    "print('Black and white female names with pleasant and unpleasant words')\n",
    "print(p_value_exhust(dict_vec_cleaned,male_black_names, female_white_names, unpleasant, pleasant))\n",
    "print(p_value_exhust(deb_dict_gender,male_black_names, female_white_names, unpleasant, pleasant))\n",
    "\n",
    "#Black and white names with career and low wage occupations\n",
    "print('Black and white female names with pleasant and unpleasant words')\n",
    "print(p_value_exhust(dict_vec_cleaned,male_black_names, female_white_names, C, low_wage_occupations))\n",
    "print(p_value_exhust(deb_dict_gender,male_black_names, female_white_names, C, low_wage_occupations))"
   ]
  },
  {
   "cell_type": "code",
   "execution_count": 36,
   "metadata": {},
   "outputs": [
    {
     "name": "stdout",
     "output_type": "stream",
     "text": [
      "Black and white female names with pleasant and unpleasant words\n"
     ]
    },
    {
     "name": "stderr",
     "output_type": "stream",
     "text": [
      "100%|██████████| 12870/12870 [00:00<00:00, 216918.86it/s]\n"
     ]
    },
    {
     "name": "stdout",
     "output_type": "stream",
     "text": [
      "num of samples 12870\n",
      "0.8160839160839161\n"
     ]
    },
    {
     "name": "stderr",
     "output_type": "stream",
     "text": [
      "100%|██████████| 12870/12870 [00:00<00:00, 234226.14it/s]"
     ]
    },
    {
     "name": "stdout",
     "output_type": "stream",
     "text": [
      "num of samples 12870\n",
      "0.6232323232323232\n"
     ]
    },
    {
     "name": "stderr",
     "output_type": "stream",
     "text": [
      "\n"
     ]
    }
   ],
   "source": [
    "#Black and white names with career and low wage occupations\n",
    "print('Black and white female names with pleasant and unpleasant words')\n",
    "print(p_value_exhust(dict_vec_cleaned,male_black_names, female_white_names, guns, music))\n",
    "print(p_value_exhust(deb_dict_gender,male_black_names, female_white_names, guns, music))"
   ]
  },
  {
   "cell_type": "code",
   "execution_count": 122,
   "metadata": {},
   "outputs": [
    {
     "name": "stdout",
     "output_type": "stream",
     "text": [
      "Black and white female names with career and family\n"
     ]
    },
    {
     "name": "stderr",
     "output_type": "stream",
     "text": [
      "100%|██████████| 12870/12870 [00:00<00:00, 232802.84it/s]\n"
     ]
    },
    {
     "name": "stdout",
     "output_type": "stream",
     "text": [
      "num of samples 12870\n",
      "0.0017094017094017094\n"
     ]
    },
    {
     "name": "stderr",
     "output_type": "stream",
     "text": [
      "100%|██████████| 12870/12870 [00:00<00:00, 244370.42it/s]\n"
     ]
    },
    {
     "name": "stdout",
     "output_type": "stream",
     "text": [
      "num of samples 12870\n",
      "0.014452214452214453\n",
      "Black and white female names with math and arts\n"
     ]
    },
    {
     "name": "stderr",
     "output_type": "stream",
     "text": [
      "100%|██████████| 12870/12870 [00:00<00:00, 240965.87it/s]\n"
     ]
    },
    {
     "name": "stdout",
     "output_type": "stream",
     "text": [
      "num of samples 12870\n",
      "0.9926184926184927\n"
     ]
    },
    {
     "name": "stderr",
     "output_type": "stream",
     "text": [
      "100%|██████████| 12870/12870 [00:00<00:00, 240690.82it/s]\n"
     ]
    },
    {
     "name": "stdout",
     "output_type": "stream",
     "text": [
      "num of samples 12870\n",
      "0.9986790986790987\n",
      "Black and white female names with science and arts\n"
     ]
    },
    {
     "name": "stderr",
     "output_type": "stream",
     "text": [
      "100%|██████████| 12870/12870 [00:00<00:00, 244645.08it/s]\n"
     ]
    },
    {
     "name": "stdout",
     "output_type": "stream",
     "text": [
      "num of samples 12870\n",
      "0.8206682206682206\n"
     ]
    },
    {
     "name": "stderr",
     "output_type": "stream",
     "text": [
      "100%|██████████| 12870/12870 [00:00<00:00, 242258.17it/s]\n"
     ]
    },
    {
     "name": "stdout",
     "output_type": "stream",
     "text": [
      "num of samples 12870\n",
      "0.7691530691530691\n",
      "Black and white female names with career and values (liberality, education, violence)\n"
     ]
    },
    {
     "name": "stderr",
     "output_type": "stream",
     "text": [
      "100%|██████████| 12870/12870 [00:00<00:00, 244779.31it/s]\n"
     ]
    },
    {
     "name": "stdout",
     "output_type": "stream",
     "text": [
      "num of samples 12870\n",
      "0.0003108003108003108\n"
     ]
    },
    {
     "name": "stderr",
     "output_type": "stream",
     "text": [
      "100%|██████████| 12870/12870 [00:00<00:00, 247466.88it/s]\n"
     ]
    },
    {
     "name": "stdout",
     "output_type": "stream",
     "text": [
      "num of samples 12870\n",
      "0.003962703962703963\n",
      "Black and white female names with career and low wage occupations\n"
     ]
    },
    {
     "name": "stderr",
     "output_type": "stream",
     "text": [
      "100%|██████████| 12870/12870 [00:00<00:00, 238231.74it/s]\n"
     ]
    },
    {
     "name": "stdout",
     "output_type": "stream",
     "text": [
      "num of samples 12870\n",
      "0.0003108003108003108\n"
     ]
    },
    {
     "name": "stderr",
     "output_type": "stream",
     "text": [
      "100%|██████████| 12870/12870 [00:00<00:00, 245073.81it/s]\n"
     ]
    },
    {
     "name": "stdout",
     "output_type": "stream",
     "text": [
      "num of samples 12870\n",
      "0.003962703962703963\n",
      "Black and white female names with pleasant and unpleasant words\n"
     ]
    },
    {
     "name": "stderr",
     "output_type": "stream",
     "text": [
      "100%|██████████| 12870/12870 [00:00<00:00, 246448.92it/s]\n"
     ]
    },
    {
     "name": "stdout",
     "output_type": "stream",
     "text": [
      "num of samples 12870\n",
      "0.0\n"
     ]
    },
    {
     "name": "stderr",
     "output_type": "stream",
     "text": [
      "100%|██████████| 12870/12870 [00:00<00:00, 242963.65it/s]"
     ]
    },
    {
     "name": "stdout",
     "output_type": "stream",
     "text": [
      "num of samples 12870\n",
      "0.38585858585858585\n"
     ]
    },
    {
     "name": "stderr",
     "output_type": "stream",
     "text": [
      "\n"
     ]
    }
   ],
   "source": [
    "print('Black and white female names with career and family')\n",
    "print(p_value_exhust(dict_vec_cleaned,male_white_names, female_black_names, C, D))\n",
    "print(p_value_exhust(deb_dict_gender,male_white_names, female_black_names, C, D))\n",
    "\n",
    "#Black and white names with math and arts\n",
    "print('Black and white female names with math and arts')\n",
    "print(p_value_exhust(dict_vec_cleaned,male_white_names, female_black_names, E, F))\n",
    "print(p_value_exhust(deb_dict_gender,male_white_names, female_black_names, E, F))\n",
    "\n",
    "#Black and white names with science and arts\n",
    "print('Black and white female names with science and arts')\n",
    "print(p_value_exhust(dict_vec_cleaned,male_white_names, female_black_names, G,H))\n",
    "print(p_value_exhust(deb_dict_gender, male_white_names, female_black_names, G, H))\n",
    "\n",
    "#Black and white names with career and values (liberality, education, violence)\n",
    "print('Black and white female names with career and values (liberality, education, violence)')\n",
    "print(p_value_exhust(dict_vec_cleaned,male_white_names, female_black_names, C, neutral_test))\n",
    "print(p_value_exhust(deb_dict_gender,male_white_names, female_black_names, C, neutral_test))\n",
    "\n",
    "#Black and white names with career and low wage occupations\n",
    "print('Black and white female names with career and low wage occupations')\n",
    "print(p_value_exhust(dict_vec_cleaned, male_white_names,\n",
    "      female_black_names, C, neutral_test))\n",
    "print(p_value_exhust(deb_dict_gender, male_white_names,\n",
    "      female_black_names, C, neutral_test))\n",
    "\n",
    "#Black and white names with pleasant and unpleasant words\n",
    "print('Black and white female names with pleasant and unpleasant words')\n",
    "print(p_value_exhust(dict_vec_cleaned,male_white_names, female_black_names, pleasant, unpleasant))\n",
    "print(p_value_exhust(deb_dict_gender,male_white_names, female_black_names, pleasant, unpleasant))"
   ]
  },
  {
   "cell_type": "code",
   "execution_count": 35,
   "metadata": {},
   "outputs": [
    {
     "name": "stdout",
     "output_type": "stream",
     "text": [
      "Black and white female names with pleasant and unpleasant words\n"
     ]
    },
    {
     "name": "stderr",
     "output_type": "stream",
     "text": [
      "100%|██████████| 12870/12870 [00:00<00:00, 225496.45it/s]\n"
     ]
    },
    {
     "name": "stdout",
     "output_type": "stream",
     "text": [
      "num of samples 12870\n",
      "0.1163947163947164\n"
     ]
    },
    {
     "name": "stderr",
     "output_type": "stream",
     "text": [
      "100%|██████████| 12870/12870 [00:00<00:00, 228425.89it/s]"
     ]
    },
    {
     "name": "stdout",
     "output_type": "stream",
     "text": [
      "num of samples 12870\n",
      "0.0004662004662004662\n"
     ]
    },
    {
     "name": "stderr",
     "output_type": "stream",
     "text": [
      "\n"
     ]
    }
   ],
   "source": [
    "#Black and white names with pleasant and unpleasant words\n",
    "print('Black and white female names with pleasant and unpleasant words')\n",
    "print(p_value_exhust(dict_vec_cleaned,male_white_names, female_black_names, guns, music))\n",
    "print(p_value_exhust(deb_dict_gender,male_white_names, female_black_names, guns, music))"
   ]
  },
  {
   "cell_type": "code",
   "execution_count": 30,
   "metadata": {},
   "outputs": [
    {
     "name": "stderr",
     "output_type": "stream",
     "text": [
      "100%|██████████| 8/8 [00:12<00:00,  1.62s/it]\n"
     ]
    },
    {
     "data": {
      "text/plain": [
       "{'alonzo': [('hardaway', 0.5379857689890515),\n",
       "  ('spellman', 0.5182878712491152),\n",
       "  ('shaquille', 0.4967650291072689),\n",
       "  ('ewing', 0.49513849932707643),\n",
       "  ('stagg', 0.48844014559528665),\n",
       "  ('mutombo', 0.48137173595412924),\n",
       "  ('dikembe', 0.463585350669268),\n",
       "  ('carmelo', 0.45620124268678086),\n",
       "  ('mourning', 0.4542563978864473),\n",
       "  ('payton', 0.4493028654912735),\n",
       "  ('mcgrady', 0.44726573050390284),\n",
       "  ('swingman', 0.4393276497737105),\n",
       "  ('mashburn', 0.422731183761308),\n",
       "  ('dwyane', 0.4155443872834702),\n",
       "  ('starks', 0.4138208601892629),\n",
       "  ('garnett', 0.41236925326945906),\n",
       "  ('kidd', 0.3905409810689945),\n",
       "  ('olajuwon', 0.3901380581441789),\n",
       "  ('juwan', 0.38796517428264304),\n",
       "  ('seikaly', 0.38178323841958556),\n",
       "  ('mayes', 0.3817807875060268),\n",
       "  ('majerle', 0.38158700324979505),\n",
       "  ('stackhouse', 0.37712781612592733),\n",
       "  ('rebounds', 0.3768081855947864),\n",
       "  ('rodman', 0.37601212188470867),\n",
       "  ('redick', 0.37473688026117397),\n",
       "  ('kersey', 0.3742588326543091),\n",
       "  ('lebron', 0.37346730905400055),\n",
       "  ('silas', 0.3723140622072465),\n",
       "  ('szczerbiak', 0.3714387814662478),\n",
       "  ('camby', 0.37106632824329433),\n",
       "  ('otis', 0.3708257161426691),\n",
       "  ('turkoglu', 0.3697037888681304),\n",
       "  ('randle', 0.3686959564826269),\n",
       "  ('haslem', 0.36680300201099414),\n",
       "  ('iguodala', 0.3667120966460631),\n",
       "  ('scottie', 0.36545193771273893),\n",
       "  ('amos', 0.36480820121572616),\n",
       "  ('kareem', 0.3615582698909929),\n",
       "  ('reggie', 0.35555498744992),\n",
       "  ('hornets', 0.3553822919537866),\n",
       "  ('jerome', 0.35443956458263187),\n",
       "  ('erving', 0.3541535693427819),\n",
       "  ('pippen', 0.3536384949390416),\n",
       "  ('bosh', 0.3534033874991013),\n",
       "  ('strahan', 0.3532121370887612),\n",
       "  ('sixers', 0.35242040847779305),\n",
       "  ('jermaine', 0.351989228633343),\n",
       "  ('erick', 0.35044631631737966),\n",
       "  ('iverson', 0.35006196961364344)],\n",
       " 'jamel': [('debbouze', 0.5920716276399668),\n",
       "  ('wakley', 0.41467418867206185),\n",
       "  ('dharmawan', 0.40651776073394347),\n",
       "  ('bradly', 0.4002110167840509),\n",
       "  ('brancker', 0.3904484349023563),\n",
       "  ('mermillod', 0.3895251067168844),\n",
       "  ('bluett', 0.3851806697860314),\n",
       "  ('tahar', 0.3825347539643502),\n",
       "  ('jammes', 0.3807901276470214),\n",
       "  ('curson', 0.37623565793847347),\n",
       "  ('óge', 0.3753957710284973),\n",
       "  ('bampfylde', 0.37359669560231046),\n",
       "  ('fogge', 0.3732048668466174),\n",
       "  ('mirnawan', 0.37279783322608917),\n",
       "  ('elsaesser', 0.3701420765025099),\n",
       "  ('telemaque', 0.367057521183426),\n",
       "  ('leandre', 0.366386171791633),\n",
       "  ('betterton', 0.36604985993851785),\n",
       "  ('thiruchelvam', 0.36604296782824913),\n",
       "  ('osmar', 0.36582076543481745),\n",
       "  ('abdessalam', 0.3657006211697879),\n",
       "  ('lendale', 0.3650820667981331),\n",
       "  ('mcclarty', 0.3633079990697968),\n",
       "  ('bradwardine', 0.36223089340749376),\n",
       "  ('guiry', 0.3619779094474808),\n",
       "  ('blackmer', 0.3614928272840867),\n",
       "  ('pamphile', 0.3611059352572269),\n",
       "  ('winnington', 0.3607872628030311),\n",
       "  ('belenois', 0.3601744810988596),\n",
       "  ('neriah', 0.35997110276735556),\n",
       "  ('hubler', 0.35930442831548165),\n",
       "  ('breakwell', 0.3587544755793951),\n",
       "  ('yacov', 0.35803631782573053),\n",
       "  ('clete', 0.3573504231057456),\n",
       "  ('drummondii', 0.3566100958944755),\n",
       "  ('odoyo', 0.35652159313464304),\n",
       "  ('perronet', 0.3561463571192118),\n",
       "  ('macan', 0.3546239194640866),\n",
       "  ('peartree', 0.35440252187177973),\n",
       "  ('seydoux', 0.35317338898316125),\n",
       "  ('sergen', 0.35295512480969277),\n",
       "  ('guillemard', 0.352852424132015),\n",
       "  ('geoffry', 0.3523683661819547),\n",
       "  ('reniban', 0.3522658046076207),\n",
       "  ('herennius', 0.3520109549856017),\n",
       "  ('safrole', 0.3519632788342601),\n",
       "  ('veber', 0.3511492793123577),\n",
       "  ('jamario', 0.3502075024633649),\n",
       "  ('karimirad', 0.3496367960757774),\n",
       "  ('autotrophic', 0.3496126368200895)],\n",
       " 'jamal': [('mashburn', 0.5759563420278203),\n",
       "  ('ahmad', 0.4886474845215022),\n",
       "  ('rashad', 0.47661324599243116),\n",
       "  ('ahbd', 0.4761341723282169),\n",
       "  ('mustafa', 0.4737447264140228),\n",
       "  ('yusuf', 0.47028678650120165),\n",
       "  ('mumia', 0.46813901992455836),\n",
       "  ('fadl', 0.46712727973875406),\n",
       "  ('abdel', 0.46390334216054346),\n",
       "  ('hashem', 0.46373401627209865),\n",
       "  ('mohammed', 0.46290344281908674),\n",
       "  ('omar', 0.4587576783097816),\n",
       "  ('zougam', 0.45619649339471735),\n",
       "  ('khalid', 0.45574572619188763),\n",
       "  ('ahmed', 0.44697982484942866),\n",
       "  ('abdul', 0.4373620369811551),\n",
       "  ('ismail', 0.43218724231171296),\n",
       "  ('othman', 0.4314757749890961),\n",
       "  ('ali', 0.42953232335615643),\n",
       "  ('karim', 0.4274175431375004),\n",
       "  ('karimi', 0.42707496721235777),\n",
       "  ('mohammad', 0.4241551897421317),\n",
       "  ('qatradullah', 0.4224514700733805),\n",
       "  ('akkal', 0.42111944337812757),\n",
       "  ('khaled', 0.420528328885862),\n",
       "  ('jawad', 0.41891136891842357),\n",
       "  ('abu', 0.41674887803055155),\n",
       "  ('rahman', 0.4142637063630956),\n",
       "  ('rasheed', 0.4132162936081886),\n",
       "  ('salah', 0.41196350295947914),\n",
       "  ('hamza', 0.41142527588620287),\n",
       "  ('tehf', 0.4113560172569577),\n",
       "  ('khalil', 0.4104173287636479),\n",
       "  ('tariq', 0.4099011497254036),\n",
       "  ('mayers', 0.40313004836751337),\n",
       "  ('maryam', 0.4029876654376077),\n",
       "  ('rahim', 0.39796897872122156),\n",
       "  ('hashim', 0.3960519696321809),\n",
       "  ('abdur', 0.3933968200828507),\n",
       "  ('hakim', 0.39174603701856886),\n",
       "  ('trah', 0.39010865064675043),\n",
       "  ('al', 0.38857629585767695),\n",
       "  ('mohsen', 0.3843617234629387),\n",
       "  ('shaikh', 0.3841762635125446),\n",
       "  ('ibrahim', 0.38354643045102055),\n",
       "  ('sheik', 0.3826880562220101),\n",
       "  ('nasir', 0.3826497887166502),\n",
       "  ('muhammad', 0.38243644093414786),\n",
       "  ('uddin', 0.38085445086913455),\n",
       "  ('khalifa', 0.380832779815857)],\n",
       " 'lerone': [('lacena', 0.4653803729718802),\n",
       "  ('davian', 0.44710536069377493),\n",
       "  ('guehrer', 0.3905052207772779),\n",
       "  ('agerskov', 0.3811647581497936),\n",
       "  ('pancer', 0.37962425254809),\n",
       "  ('tanju', 0.3790825009420553),\n",
       "  ('mulheren', 0.3776314256409155),\n",
       "  ('germay', 0.3774519125810649),\n",
       "  ('qasmi', 0.37710937424709295),\n",
       "  ('wixon', 0.3741121131716686),\n",
       "  ('nondualism', 0.3719262441161583),\n",
       "  ('kalahasti', 0.3679195497719709),\n",
       "  ('maccambridge', 0.3675540056679307),\n",
       "  ('millenarianism', 0.36582839305598797),\n",
       "  ('frankenreiter', 0.36534435279159827),\n",
       "  ('šuker', 0.3653367735666539),\n",
       "  ('liran', 0.3652831581656548),\n",
       "  ('novogratz', 0.36501269292907695),\n",
       "  ('payla', 0.36329569457775024),\n",
       "  ('hocke', 0.3622767557833408),\n",
       "  ('paschalis', 0.3611098712379363),\n",
       "  ('happonen', 0.36033288183259443),\n",
       "  ('donavon', 0.3594816159802165),\n",
       "  ('margareth', 0.35910251997048653),\n",
       "  ('dolora', 0.358358894948082),\n",
       "  ('sharbel', 0.3579025621302191),\n",
       "  ('aureola', 0.3577650823472237),\n",
       "  ('watcharapong', 0.35762330675042314),\n",
       "  ('sabbatarianism', 0.3575260723296402),\n",
       "  ('alured', 0.3572173877807183),\n",
       "  ('coverly', 0.35673438562906046),\n",
       "  ('giustina', 0.35650825686613885),\n",
       "  ('blachman', 0.3564292123223144),\n",
       "  ('schweder', 0.35592406665779724),\n",
       "  ('falch', 0.3555191451944079),\n",
       "  ('wilm', 0.35541288893894407),\n",
       "  ('optica', 0.3551247237346085),\n",
       "  ('chatchawal', 0.35504762347132324),\n",
       "  ('olusoji', 0.35431704735012426),\n",
       "  ('astrocaryum', 0.3534783507753786),\n",
       "  ('mohanna', 0.35315900735389083),\n",
       "  ('houdet', 0.3530220294222488),\n",
       "  ('trosten', 0.35249978540791455),\n",
       "  ('nyqvist', 0.3520860123399437),\n",
       "  ('golshiri', 0.3520301482978683),\n",
       "  ('ragale', 0.3520073016773515),\n",
       "  ('gebser', 0.3519652989259211),\n",
       "  ('huitt', 0.3517864497162254),\n",
       "  ('domhoff', 0.3516118963570316),\n",
       "  ('holeman', 0.35121303915882696)],\n",
       " 'theo': [('waigel', 0.5599470925435681),\n",
       "  ('epstein', 0.5318014343768982),\n",
       "  ('walcott', 0.5119416430546917),\n",
       "  ('ratliff', 0.5010559786800622),\n",
       "  ('fleury', 0.496914676576357),\n",
       "  ('gogh', 0.4949907188601047),\n",
       "  ('zwanziger', 0.4664938973789276),\n",
       "  ('sambuaga', 0.42680866693812436),\n",
       "  ('doesburg', 0.409721520159284),\n",
       "  ('gurirab', 0.3977488636184304),\n",
       "  ('thierry', 0.38286756071575856),\n",
       "  ('van', 0.3818972221649618),\n",
       "  ('filmmaker', 0.3773613679282647),\n",
       "  ('persie', 0.36783670770293997),\n",
       "  ('luc', 0.36738974916770134),\n",
       "  ('zagorakis', 0.367009763876486),\n",
       "  ('vennemann', 0.36019592080220436),\n",
       "  ('bos', 0.3586465979913677),\n",
       "  ('jansen', 0.3555972698825375),\n",
       "  ('janssen', 0.35300927948275357),\n",
       "  ('ribery', 0.34569764963077226),\n",
       "  ('angelopoulos', 0.3435233470425309),\n",
       "  ('franck', 0.34020178496029324),\n",
       "  ('leni', 0.3398414284160967),\n",
       "  ('winger', 0.3389438862405925),\n",
       "  ('rooij', 0.3335434454762649),\n",
       "  ('wenger', 0.33276764320420255),\n",
       "  ('wim', 0.33160959583022803),\n",
       "  ('herzog', 0.3309649882575486),\n",
       "  ('kukoc', 0.3303971979500514),\n",
       "  ('rensburg', 0.33024892078973594),\n",
       "  ('elias', 0.3294214727603526),\n",
       "  ('werner', 0.32834808711000846),\n",
       "  ('karel', 0.32741425996962226),\n",
       "  ('fabregas', 0.3237434493945784),\n",
       "  ('jacob', 0.3226006227865921),\n",
       "  ('bommel', 0.322451950779266),\n",
       "  ('arthuis', 0.3203580502097461),\n",
       "  ('bergkamp', 0.31950781605360906),\n",
       "  ('claude', 0.3192571202553026),\n",
       "  ('arsene', 0.31721386122129697),\n",
       "  ('raadt', 0.3171609999591304),\n",
       "  ('lucchino', 0.3167902625635369),\n",
       "  ('vossen', 0.3161028558433439),\n",
       "  ('nasri', 0.31533476068860133),\n",
       "  ('gerrit', 0.31430053383773404),\n",
       "  ('antoine', 0.3138845201621214),\n",
       "  ('haller', 0.31244761454688347),\n",
       "  ('lindros', 0.3122607043316406),\n",
       "  ('decosta', 0.31119546356219785)],\n",
       " 'alphonse': [('daudet', 0.5098035913200166),\n",
       "  ('édouard', 0.5007515558261495),\n",
       "  ('gustave', 0.49886399892931976),\n",
       "  ('françois', 0.4885861853890278),\n",
       "  ('émile', 0.4797590989151351),\n",
       "  ('armand', 0.4620057057082671),\n",
       "  ('désiré', 0.45811814654032534),\n",
       "  ('henri', 0.4557800950469393),\n",
       "  ('legros', 0.45534424305830196),\n",
       "  ('eugène', 0.44832022133613525),\n",
       "  ('kadege', 0.44116699132924897),\n",
       "  ('léon', 0.4300290304246014),\n",
       "  ('étienne', 0.42852836987153936),\n",
       "  ('auguste', 0.42631502213013234),\n",
       "  ('tchami', 0.4154955264016845),\n",
       "  ('abbé', 0.41414546645111305),\n",
       "  ('mouzon', 0.4099486393904782),\n",
       "  ('lamartine', 0.3984004457559546),\n",
       "  ('théophile', 0.3967966924707794),\n",
       "  ('alfonse', 0.39596801856221164),\n",
       "  ('philippe', 0.3949034678142081),\n",
       "  ('nkubito', 0.39196625362883014),\n",
       "  ('mady', 0.38715689456014746),\n",
       "  ('hippolyte', 0.38698682828509784),\n",
       "  ('andré', 0.38622950990604776),\n",
       "  ('pierre', 0.38472558135758456),\n",
       "  ('leweck', 0.3837077969735576),\n",
       "  ('dufour', 0.38369150399085916),\n",
       "  ('fernand', 0.38365884654619364),\n",
       "  ('antoine', 0.38341533896622493),\n",
       "  ('dressler', 0.382532012197257),\n",
       "  ('georges', 0.381328392470532),\n",
       "  ('rené', 0.37807903814008975),\n",
       "  ('djedje', 0.3774117885047851),\n",
       "  ('alexandre', 0.3771252075448254),\n",
       "  ('lucien', 0.37591579511793977),\n",
       "  ('donatien', 0.37427211589639975),\n",
       "  ('théodore', 0.37322255814699745),\n",
       "  ('adolphe', 0.37182443719635894),\n",
       "  ('comte', 0.3700728659318341),\n",
       "  ('monsieur', 0.3700092443269679),\n",
       "  ('marie', 0.3681162538776364),\n",
       "  ('marchand', 0.36760267020284443),\n",
       "  ('éditions', 0.3675240712578909),\n",
       "  ('amédée', 0.36528340516458907),\n",
       "  ('fulke', 0.36456686279410666),\n",
       "  ('bertillon', 0.36299237258660694),\n",
       "  ('protégé', 0.3629011489870977),\n",
       "  ('grégoire', 0.362802874022846),\n",
       "  ('mucha', 0.36207737954355224)],\n",
       " 'jerome': [('bernard', 0.4873541861511355),\n",
       "  ('bettis', 0.48596272186316974),\n",
       "  ('kersey', 0.4662258599849282),\n",
       "  ('corey', 0.4468114271801831),\n",
       "  ('kern', 0.43790596728315573),\n",
       "  ('robbins', 0.434323379081601),\n",
       "  ('gregory', 0.429946880643724),\n",
       "  ('leroy', 0.426664017737505),\n",
       "  ('daren', 0.41812343222392223),\n",
       "  ('maurice', 0.4063787816675575),\n",
       "  ('golmard', 0.3991889916227418),\n",
       "  ('rothen', 0.3975119646737803),\n",
       "  ('moiso', 0.3900196594026148),\n",
       "  ('samuels', 0.38943346802692613),\n",
       "  ('bonnafont', 0.38676317517899245),\n",
       "  ('julien', 0.3762095572633257),\n",
       "  ('kaino', 0.37511118384459263),\n",
       "  ('frenchman', 0.37116185875654895),\n",
       "  ('pathon', 0.36971098752751974),\n",
       "  ('antoine', 0.36959468534328904),\n",
       "  ('valcke', 0.3660081236508967),\n",
       "  ('ramdin', 0.36504805387546835),\n",
       "  ('darren', 0.36446321279338145),\n",
       "  ('thion', 0.3641370701130284),\n",
       "  ('dwayne', 0.3622801777102461),\n",
       "  ('pineau', 0.36170229768862255),\n",
       "  ('collins', 0.36036018197485176),\n",
       "  ('groopman', 0.35964245680836554),\n",
       "  ('rasetti', 0.3579665774667036),\n",
       "  ('anthony', 0.3565691572652526),\n",
       "  ('alonzo', 0.35443956458263204),\n",
       "  ('boateng', 0.35420468362313795),\n",
       "  ('joseph', 0.3535581542934717),\n",
       "  ('kehrv', 0.35293031770402034),\n",
       "  ('gerald', 0.35246544708843297),\n",
       "  ('matthew', 0.35152591163418284),\n",
       "  ('jenkins', 0.35046360491887785),\n",
       "  ('dillon', 0.3503229193732496),\n",
       "  ('taylor', 0.3501959468087482),\n",
       "  ('webster', 0.35010609371907603),\n",
       "  ('marc', 0.35009311294239337),\n",
       "  ('dimitri', 0.35005653875541126),\n",
       "  ('raphael', 0.3488086167014976),\n",
       "  ('samuel', 0.34775785366731804),\n",
       "  ('xavier', 0.34757935134124474),\n",
       "  ('eddy', 0.3457122858766268),\n",
       "  ('ndiho', 0.3448399558999143),\n",
       "  ('jacobs', 0.3444709933671885),\n",
       "  ('sulieman', 0.34407410433325564),\n",
       "  ('florian', 0.34205079839644015)],\n",
       " 'leroy': [('chiao', 0.4994546272137116),\n",
       "  ('cain', 0.4529690504151251),\n",
       "  ('nolwenn', 0.4359252573427802),\n",
       "  ('burrell', 0.4349337296390094),\n",
       "  ('jerome', 0.4266640177375049),\n",
       "  ('jt', 0.3968855268539078),\n",
       "  ('aarons', 0.395429605918991),\n",
       "  ('mcgee', 0.3738969801029948),\n",
       "  ('alain', 0.3714222515509685),\n",
       "  ('butler', 0.3676414613493665),\n",
       "  ('millette', 0.3668125530463358),\n",
       "  ('mervyn', 0.36665013516040557),\n",
       "  ('bernard', 0.3608699979079226),\n",
       "  ('willie', 0.35964595224821766),\n",
       "  ('steele', 0.35672583215117165),\n",
       "  ('lita', 0.3566598618481992),\n",
       "  ('maurice', 0.3543605520811808),\n",
       "  ('bullard', 0.3542372882035981),\n",
       "  ('kenny', 0.35134389734683924),\n",
       "  ('blount', 0.3510433057986498),\n",
       "  ('garrett', 0.3493829162151054),\n",
       "  ('jolley', 0.34702819191048845),\n",
       "  ('vivian', 0.3465107054849259),\n",
       "  ('jérôme', 0.3463780702868819),\n",
       "  ('jacque', 0.3459221278409425),\n",
       "  ('hoard', 0.34450192105896144),\n",
       "  ('chow', 0.34347608002587926),\n",
       "  ('turpin', 0.342322136955292),\n",
       "  ('anderson', 0.34218455752847177),\n",
       "  ('dixon', 0.3397554902393598),\n",
       "  ('jethro', 0.33897832913808573),\n",
       "  ('darnell', 0.3382782422093779),\n",
       "  ('marion', 0.3367070730163814),\n",
       "  ('mcarthur', 0.33568117688158144),\n",
       "  ('vance', 0.3345128101484048),\n",
       "  ('percy', 0.33429653892035754),\n",
       "  ('travis', 0.33121686782560594),\n",
       "  ('randall', 0.3294847142092455),\n",
       "  ('rosenior', 0.3288116122266636),\n",
       "  ('pardew', 0.32860426708606766),\n",
       "  ('sievers', 0.32855374966078554),\n",
       "  ('claude', 0.3284798013879324),\n",
       "  ('vernon', 0.3264109813011231),\n",
       "  ('hutson', 0.32584871019439854),\n",
       "  ('paulette', 0.32437738388500587),\n",
       "  ('emile', 0.3224054203078289),\n",
       "  ('coleman', 0.31989320927441084),\n",
       "  ('frederic', 0.3152127131324623),\n",
       "  ('flagg', 0.3139265196533134),\n",
       "  ('jenkins', 0.313145577221045)]}"
      ]
     },
     "execution_count": 30,
     "metadata": {},
     "output_type": "execute_result"
    }
   ],
   "source": [
    "get_k_nearest_neighbors(male_black_names, dict_vec_cleaned, vocab_cleaned,vectors_cleaned,word2idx_cleaned, 50)\n",
    "#word, dict_vect_debiased, vocab_debiased, vectors_debiased, w2i_debiased,k=neighbours_num"
   ]
  },
  {
   "attachments": {},
   "cell_type": "markdown",
   "metadata": {},
   "source": [
    "2. Words associated with race: "
   ]
  },
  {
   "cell_type": "code",
   "execution_count": 60,
   "metadata": {},
   "outputs": [],
   "source": [
    "from Scripts.utils import get_pairs_from_equalizing_sets, prepare_def_sets_subspace\n",
    "#function to get the pairs of words from the biased words lists\n",
    "pairs_race=get_pairs_from_equalizing_sets(def_sets['race'])\n",
    "pairs_race=prepare_def_sets_subspace(pairs_race)"
   ]
  },
  {
   "cell_type": "code",
   "execution_count": 60,
   "metadata": {},
   "outputs": [
    {
     "name": "stdout",
     "output_type": "stream",
     "text": [
      "Length of vectors set: 19\n",
      "Running PCA with 1 components\n"
     ]
    }
   ],
   "source": [
    "race_direction = identify_bias_subspace(\n",
    "    deb_dict_gender, def_set_race, 1, centralizing=True)\n"
   ]
  },
  {
   "cell_type": "code",
   "execution_count": 61,
   "metadata": {},
   "outputs": [],
   "source": [
    "from Scripts.Evaluation import compute_similarity_to_bias_direction\n",
    "similarity=compute_similarity_to_bias_direction(dict_vec_cleaned, race_direction)\n",
    "deb_similarity=compute_similarity_to_bias_direction(deb_dict_gender, race_direction)"
   ]
  },
  {
   "cell_type": "code",
   "execution_count": 77,
   "metadata": {},
   "outputs": [],
   "source": [
    "df_names_white=get_df_bias_scores(names_white_emb, similarity,deb_similarity)\n",
    "df_names_black=get_df_bias_scores(names_black_emb, similarity,deb_similarity)\n",
    "df_names_hispanic=get_df_bias_scores(names_hispanic_emb, similarity,deb_similarity)"
   ]
  },
  {
   "cell_type": "code",
   "execution_count": 78,
   "metadata": {},
   "outputs": [],
   "source": [
    "#plot a bar plot of the top 20 most biased words with all the scores of the three methods\n",
    "import plotly_express as px\n",
    "\n",
    "\n",
    "def plot_top_biased_words(df, n_words=20):\n",
    "    df_top = df.head(n_words)\n",
    "    #remove the simple_bias_score column\n",
    "    #df_top = df_top.drop(columns=['simple_bias_score'])\n",
    "    df_top = df_top.reset_index()\n",
    "    df_top = df_top.rename(columns={'index': 'word'})\n",
    "    df_top = df_top.melt(\n",
    "        id_vars=['word'], var_name='score_type', value_name='score')\n",
    "    fig = px.bar(df_top, x=\"score\", y=\"word\",\n",
    "                 color=\"score_type\", barmode=\"group\", orientation='h',\n",
    "                 height=1000, width=800, title=\"Top biased words\")\n",
    "\n",
    "    fig.show()\n",
    "\n",
    "\n"
   ]
  },
  {
   "cell_type": "code",
   "execution_count": 79,
   "metadata": {},
   "outputs": [
    {
     "data": {
      "application/vnd.plotly.v1+json": {
       "config": {
        "plotlyServerURL": "https://plot.ly"
       },
       "data": [
        {
         "alignmentgroup": "True",
         "hovertemplate": "score_type=original_similarity<br>score=%{x}<br>word=%{y}<extra></extra>",
         "legendgroup": "original_similarity",
         "marker": {
          "color": "#636efa",
          "pattern": {
           "shape": ""
          }
         },
         "name": "original_similarity",
         "offsetgroup": "original_similarity",
         "orientation": "h",
         "showlegend": true,
         "textposition": "auto",
         "type": "bar",
         "x": [
          -0.05283398012788724,
          -0.1139459320086057,
          0.0019360580035608145,
          0.029273814879279297,
          -0.029481395743606788,
          -0.02497111231800329,
          -0.043752494954667244,
          -0.03831320326413515,
          0.00938916854004081,
          -0.054462102623616476,
          -0.04046981556616542,
          0.011264145713658757,
          -0.13745787809385807,
          -0.02418768651620162,
          0.0003954267400405677,
          -0.018651233657156884,
          0.07694717907801224,
          0.1518686079671002,
          -0.0574997248896017,
          0.027754106298831405,
          0.10803019134955025,
          -0.053505449161428006,
          0.1247351162725323,
          -0.04079493615559499,
          0.18396788219285,
          0.007212254040266985,
          -0.010238174607643867,
          0.027992348271183482,
          0.11677716216309202,
          0.08075940293482498,
          0.03235917448222912,
          0.006435231819178233,
          -0.05658380927765806,
          0.12088565051815808,
          0.02269005317221275,
          0.1332184788863986,
          -0.000012908473893530163,
          0.1348745798445781,
          -0.04106483504802735,
          0.09338298433967764,
          0.03813722385593314,
          0.04134050909608083,
          0.0416248813951338,
          0.011847366326353814,
          0.01758480229761781,
          0.06809505650724036,
          0.06122329077642194,
          0.1297508120149914
         ],
         "xaxis": "x",
         "y": [
          "adam",
          "chip",
          "harry",
          "josh",
          "roger",
          "alan",
          "frank",
          "ian",
          "justin",
          "ryan",
          "andrew",
          "fred",
          "jack",
          "matthew",
          "stephen",
          "brad",
          "greg",
          "jed",
          "paul",
          "todd",
          "brandon",
          "hank",
          "jonathan",
          "peter",
          "wilbur",
          "amanda",
          "courtney",
          "heather",
          "melanie",
          "sara",
          "amber",
          "crystal",
          "katie",
          "meredith",
          "shannon",
          "betsy",
          "donna",
          "kristin",
          "nancy",
          "stephanie",
          "ellen",
          "lauren",
          "peggy",
          "colleen",
          "emily",
          "megan",
          "rachel",
          "wendy"
         ],
         "yaxis": "y"
        },
        {
         "alignmentgroup": "True",
         "hovertemplate": "score_type=similarity_in _debiased<br>score=%{x}<br>word=%{y}<extra></extra>",
         "legendgroup": "similarity_in _debiased",
         "marker": {
          "color": "#EF553B",
          "pattern": {
           "shape": ""
          }
         },
         "name": "similarity_in _debiased",
         "offsetgroup": "similarity_in _debiased",
         "orientation": "h",
         "showlegend": true,
         "textposition": "auto",
         "type": "bar",
         "x": [
          -0.13344181038117722,
          -0.19706047332234844,
          -0.23027906427785186,
          0.15102851129320483,
          -0.05462508960288067,
          -0.24075918825288126,
          -0.06578837139425048,
          -0.0844777590521789,
          -0.22745192243379928,
          -0.15107419795607446,
          -0.16463566540938487,
          -0.06094615605673521,
          -0.17716965977613758,
          -0.26568059655859816,
          -0.28735036589321367,
          -0.18336271606719204,
          -0.029768197894416912,
          -0.021708301473295753,
          -0.3400867869400639,
          -0.25191782873099544,
          -0.09764769509883925,
          -0.02040752073910137,
          -0.18060332832515258,
          -0.20333128961139577,
          0.10098564160794354,
          -0.21578872801340793,
          0.09430111679288594,
          -0.2221295857849723,
          -0.017381965710386884,
          -0.02987972264496088,
          -0.13507132931349522,
          -0.27163334333239025,
          0.1183292061941436,
          -0.04805611564446619,
          0.113783051679806,
          -0.07208457432928317,
          -0.1931564836997238,
          -0.003146029154966927,
          -0.16262212816077345,
          -0.15874201070905145,
          -0.20997353627879986,
          -0.04272734879430999,
          -0.04220295862094175,
          -0.05951640529420875,
          -0.2271480815963711,
          -0.07135459181422255,
          -0.06741835830541623,
          -0.2633651733270812
         ],
         "xaxis": "x",
         "y": [
          "adam",
          "chip",
          "harry",
          "josh",
          "roger",
          "alan",
          "frank",
          "ian",
          "justin",
          "ryan",
          "andrew",
          "fred",
          "jack",
          "matthew",
          "stephen",
          "brad",
          "greg",
          "jed",
          "paul",
          "todd",
          "brandon",
          "hank",
          "jonathan",
          "peter",
          "wilbur",
          "amanda",
          "courtney",
          "heather",
          "melanie",
          "sara",
          "amber",
          "crystal",
          "katie",
          "meredith",
          "shannon",
          "betsy",
          "donna",
          "kristin",
          "nancy",
          "stephanie",
          "ellen",
          "lauren",
          "peggy",
          "colleen",
          "emily",
          "megan",
          "rachel",
          "wendy"
         ],
         "yaxis": "y"
        }
       ],
       "layout": {
        "barmode": "group",
        "height": 1000,
        "legend": {
         "title": {
          "text": "score_type"
         },
         "tracegroupgap": 0
        },
        "template": {
         "data": {
          "bar": [
           {
            "error_x": {
             "color": "#2a3f5f"
            },
            "error_y": {
             "color": "#2a3f5f"
            },
            "marker": {
             "line": {
              "color": "#E5ECF6",
              "width": 0.5
             },
             "pattern": {
              "fillmode": "overlay",
              "size": 10,
              "solidity": 0.2
             }
            },
            "type": "bar"
           }
          ],
          "barpolar": [
           {
            "marker": {
             "line": {
              "color": "#E5ECF6",
              "width": 0.5
             },
             "pattern": {
              "fillmode": "overlay",
              "size": 10,
              "solidity": 0.2
             }
            },
            "type": "barpolar"
           }
          ],
          "carpet": [
           {
            "aaxis": {
             "endlinecolor": "#2a3f5f",
             "gridcolor": "white",
             "linecolor": "white",
             "minorgridcolor": "white",
             "startlinecolor": "#2a3f5f"
            },
            "baxis": {
             "endlinecolor": "#2a3f5f",
             "gridcolor": "white",
             "linecolor": "white",
             "minorgridcolor": "white",
             "startlinecolor": "#2a3f5f"
            },
            "type": "carpet"
           }
          ],
          "choropleth": [
           {
            "colorbar": {
             "outlinewidth": 0,
             "ticks": ""
            },
            "type": "choropleth"
           }
          ],
          "contour": [
           {
            "colorbar": {
             "outlinewidth": 0,
             "ticks": ""
            },
            "colorscale": [
             [
              0,
              "#0d0887"
             ],
             [
              0.1111111111111111,
              "#46039f"
             ],
             [
              0.2222222222222222,
              "#7201a8"
             ],
             [
              0.3333333333333333,
              "#9c179e"
             ],
             [
              0.4444444444444444,
              "#bd3786"
             ],
             [
              0.5555555555555556,
              "#d8576b"
             ],
             [
              0.6666666666666666,
              "#ed7953"
             ],
             [
              0.7777777777777778,
              "#fb9f3a"
             ],
             [
              0.8888888888888888,
              "#fdca26"
             ],
             [
              1,
              "#f0f921"
             ]
            ],
            "type": "contour"
           }
          ],
          "contourcarpet": [
           {
            "colorbar": {
             "outlinewidth": 0,
             "ticks": ""
            },
            "type": "contourcarpet"
           }
          ],
          "heatmap": [
           {
            "colorbar": {
             "outlinewidth": 0,
             "ticks": ""
            },
            "colorscale": [
             [
              0,
              "#0d0887"
             ],
             [
              0.1111111111111111,
              "#46039f"
             ],
             [
              0.2222222222222222,
              "#7201a8"
             ],
             [
              0.3333333333333333,
              "#9c179e"
             ],
             [
              0.4444444444444444,
              "#bd3786"
             ],
             [
              0.5555555555555556,
              "#d8576b"
             ],
             [
              0.6666666666666666,
              "#ed7953"
             ],
             [
              0.7777777777777778,
              "#fb9f3a"
             ],
             [
              0.8888888888888888,
              "#fdca26"
             ],
             [
              1,
              "#f0f921"
             ]
            ],
            "type": "heatmap"
           }
          ],
          "heatmapgl": [
           {
            "colorbar": {
             "outlinewidth": 0,
             "ticks": ""
            },
            "colorscale": [
             [
              0,
              "#0d0887"
             ],
             [
              0.1111111111111111,
              "#46039f"
             ],
             [
              0.2222222222222222,
              "#7201a8"
             ],
             [
              0.3333333333333333,
              "#9c179e"
             ],
             [
              0.4444444444444444,
              "#bd3786"
             ],
             [
              0.5555555555555556,
              "#d8576b"
             ],
             [
              0.6666666666666666,
              "#ed7953"
             ],
             [
              0.7777777777777778,
              "#fb9f3a"
             ],
             [
              0.8888888888888888,
              "#fdca26"
             ],
             [
              1,
              "#f0f921"
             ]
            ],
            "type": "heatmapgl"
           }
          ],
          "histogram": [
           {
            "marker": {
             "pattern": {
              "fillmode": "overlay",
              "size": 10,
              "solidity": 0.2
             }
            },
            "type": "histogram"
           }
          ],
          "histogram2d": [
           {
            "colorbar": {
             "outlinewidth": 0,
             "ticks": ""
            },
            "colorscale": [
             [
              0,
              "#0d0887"
             ],
             [
              0.1111111111111111,
              "#46039f"
             ],
             [
              0.2222222222222222,
              "#7201a8"
             ],
             [
              0.3333333333333333,
              "#9c179e"
             ],
             [
              0.4444444444444444,
              "#bd3786"
             ],
             [
              0.5555555555555556,
              "#d8576b"
             ],
             [
              0.6666666666666666,
              "#ed7953"
             ],
             [
              0.7777777777777778,
              "#fb9f3a"
             ],
             [
              0.8888888888888888,
              "#fdca26"
             ],
             [
              1,
              "#f0f921"
             ]
            ],
            "type": "histogram2d"
           }
          ],
          "histogram2dcontour": [
           {
            "colorbar": {
             "outlinewidth": 0,
             "ticks": ""
            },
            "colorscale": [
             [
              0,
              "#0d0887"
             ],
             [
              0.1111111111111111,
              "#46039f"
             ],
             [
              0.2222222222222222,
              "#7201a8"
             ],
             [
              0.3333333333333333,
              "#9c179e"
             ],
             [
              0.4444444444444444,
              "#bd3786"
             ],
             [
              0.5555555555555556,
              "#d8576b"
             ],
             [
              0.6666666666666666,
              "#ed7953"
             ],
             [
              0.7777777777777778,
              "#fb9f3a"
             ],
             [
              0.8888888888888888,
              "#fdca26"
             ],
             [
              1,
              "#f0f921"
             ]
            ],
            "type": "histogram2dcontour"
           }
          ],
          "mesh3d": [
           {
            "colorbar": {
             "outlinewidth": 0,
             "ticks": ""
            },
            "type": "mesh3d"
           }
          ],
          "parcoords": [
           {
            "line": {
             "colorbar": {
              "outlinewidth": 0,
              "ticks": ""
             }
            },
            "type": "parcoords"
           }
          ],
          "pie": [
           {
            "automargin": true,
            "type": "pie"
           }
          ],
          "scatter": [
           {
            "fillpattern": {
             "fillmode": "overlay",
             "size": 10,
             "solidity": 0.2
            },
            "type": "scatter"
           }
          ],
          "scatter3d": [
           {
            "line": {
             "colorbar": {
              "outlinewidth": 0,
              "ticks": ""
             }
            },
            "marker": {
             "colorbar": {
              "outlinewidth": 0,
              "ticks": ""
             }
            },
            "type": "scatter3d"
           }
          ],
          "scattercarpet": [
           {
            "marker": {
             "colorbar": {
              "outlinewidth": 0,
              "ticks": ""
             }
            },
            "type": "scattercarpet"
           }
          ],
          "scattergeo": [
           {
            "marker": {
             "colorbar": {
              "outlinewidth": 0,
              "ticks": ""
             }
            },
            "type": "scattergeo"
           }
          ],
          "scattergl": [
           {
            "marker": {
             "colorbar": {
              "outlinewidth": 0,
              "ticks": ""
             }
            },
            "type": "scattergl"
           }
          ],
          "scattermapbox": [
           {
            "marker": {
             "colorbar": {
              "outlinewidth": 0,
              "ticks": ""
             }
            },
            "type": "scattermapbox"
           }
          ],
          "scatterpolar": [
           {
            "marker": {
             "colorbar": {
              "outlinewidth": 0,
              "ticks": ""
             }
            },
            "type": "scatterpolar"
           }
          ],
          "scatterpolargl": [
           {
            "marker": {
             "colorbar": {
              "outlinewidth": 0,
              "ticks": ""
             }
            },
            "type": "scatterpolargl"
           }
          ],
          "scatterternary": [
           {
            "marker": {
             "colorbar": {
              "outlinewidth": 0,
              "ticks": ""
             }
            },
            "type": "scatterternary"
           }
          ],
          "surface": [
           {
            "colorbar": {
             "outlinewidth": 0,
             "ticks": ""
            },
            "colorscale": [
             [
              0,
              "#0d0887"
             ],
             [
              0.1111111111111111,
              "#46039f"
             ],
             [
              0.2222222222222222,
              "#7201a8"
             ],
             [
              0.3333333333333333,
              "#9c179e"
             ],
             [
              0.4444444444444444,
              "#bd3786"
             ],
             [
              0.5555555555555556,
              "#d8576b"
             ],
             [
              0.6666666666666666,
              "#ed7953"
             ],
             [
              0.7777777777777778,
              "#fb9f3a"
             ],
             [
              0.8888888888888888,
              "#fdca26"
             ],
             [
              1,
              "#f0f921"
             ]
            ],
            "type": "surface"
           }
          ],
          "table": [
           {
            "cells": {
             "fill": {
              "color": "#EBF0F8"
             },
             "line": {
              "color": "white"
             }
            },
            "header": {
             "fill": {
              "color": "#C8D4E3"
             },
             "line": {
              "color": "white"
             }
            },
            "type": "table"
           }
          ]
         },
         "layout": {
          "annotationdefaults": {
           "arrowcolor": "#2a3f5f",
           "arrowhead": 0,
           "arrowwidth": 1
          },
          "autotypenumbers": "strict",
          "coloraxis": {
           "colorbar": {
            "outlinewidth": 0,
            "ticks": ""
           }
          },
          "colorscale": {
           "diverging": [
            [
             0,
             "#8e0152"
            ],
            [
             0.1,
             "#c51b7d"
            ],
            [
             0.2,
             "#de77ae"
            ],
            [
             0.3,
             "#f1b6da"
            ],
            [
             0.4,
             "#fde0ef"
            ],
            [
             0.5,
             "#f7f7f7"
            ],
            [
             0.6,
             "#e6f5d0"
            ],
            [
             0.7,
             "#b8e186"
            ],
            [
             0.8,
             "#7fbc41"
            ],
            [
             0.9,
             "#4d9221"
            ],
            [
             1,
             "#276419"
            ]
           ],
           "sequential": [
            [
             0,
             "#0d0887"
            ],
            [
             0.1111111111111111,
             "#46039f"
            ],
            [
             0.2222222222222222,
             "#7201a8"
            ],
            [
             0.3333333333333333,
             "#9c179e"
            ],
            [
             0.4444444444444444,
             "#bd3786"
            ],
            [
             0.5555555555555556,
             "#d8576b"
            ],
            [
             0.6666666666666666,
             "#ed7953"
            ],
            [
             0.7777777777777778,
             "#fb9f3a"
            ],
            [
             0.8888888888888888,
             "#fdca26"
            ],
            [
             1,
             "#f0f921"
            ]
           ],
           "sequentialminus": [
            [
             0,
             "#0d0887"
            ],
            [
             0.1111111111111111,
             "#46039f"
            ],
            [
             0.2222222222222222,
             "#7201a8"
            ],
            [
             0.3333333333333333,
             "#9c179e"
            ],
            [
             0.4444444444444444,
             "#bd3786"
            ],
            [
             0.5555555555555556,
             "#d8576b"
            ],
            [
             0.6666666666666666,
             "#ed7953"
            ],
            [
             0.7777777777777778,
             "#fb9f3a"
            ],
            [
             0.8888888888888888,
             "#fdca26"
            ],
            [
             1,
             "#f0f921"
            ]
           ]
          },
          "colorway": [
           "#636efa",
           "#EF553B",
           "#00cc96",
           "#ab63fa",
           "#FFA15A",
           "#19d3f3",
           "#FF6692",
           "#B6E880",
           "#FF97FF",
           "#FECB52"
          ],
          "font": {
           "color": "#2a3f5f"
          },
          "geo": {
           "bgcolor": "white",
           "lakecolor": "white",
           "landcolor": "#E5ECF6",
           "showlakes": true,
           "showland": true,
           "subunitcolor": "white"
          },
          "hoverlabel": {
           "align": "left"
          },
          "hovermode": "closest",
          "mapbox": {
           "style": "light"
          },
          "paper_bgcolor": "white",
          "plot_bgcolor": "#E5ECF6",
          "polar": {
           "angularaxis": {
            "gridcolor": "white",
            "linecolor": "white",
            "ticks": ""
           },
           "bgcolor": "#E5ECF6",
           "radialaxis": {
            "gridcolor": "white",
            "linecolor": "white",
            "ticks": ""
           }
          },
          "scene": {
           "xaxis": {
            "backgroundcolor": "#E5ECF6",
            "gridcolor": "white",
            "gridwidth": 2,
            "linecolor": "white",
            "showbackground": true,
            "ticks": "",
            "zerolinecolor": "white"
           },
           "yaxis": {
            "backgroundcolor": "#E5ECF6",
            "gridcolor": "white",
            "gridwidth": 2,
            "linecolor": "white",
            "showbackground": true,
            "ticks": "",
            "zerolinecolor": "white"
           },
           "zaxis": {
            "backgroundcolor": "#E5ECF6",
            "gridcolor": "white",
            "gridwidth": 2,
            "linecolor": "white",
            "showbackground": true,
            "ticks": "",
            "zerolinecolor": "white"
           }
          },
          "shapedefaults": {
           "line": {
            "color": "#2a3f5f"
           }
          },
          "ternary": {
           "aaxis": {
            "gridcolor": "white",
            "linecolor": "white",
            "ticks": ""
           },
           "baxis": {
            "gridcolor": "white",
            "linecolor": "white",
            "ticks": ""
           },
           "bgcolor": "#E5ECF6",
           "caxis": {
            "gridcolor": "white",
            "linecolor": "white",
            "ticks": ""
           }
          },
          "title": {
           "x": 0.05
          },
          "xaxis": {
           "automargin": true,
           "gridcolor": "white",
           "linecolor": "white",
           "ticks": "",
           "title": {
            "standoff": 15
           },
           "zerolinecolor": "white",
           "zerolinewidth": 2
          },
          "yaxis": {
           "automargin": true,
           "gridcolor": "white",
           "linecolor": "white",
           "ticks": "",
           "title": {
            "standoff": 15
           },
           "zerolinecolor": "white",
           "zerolinewidth": 2
          }
         }
        },
        "title": {
         "text": "Top biased words"
        },
        "width": 800,
        "xaxis": {
         "anchor": "y",
         "domain": [
          0,
          1
         ],
         "title": {
          "text": "score"
         }
        },
        "yaxis": {
         "anchor": "x",
         "domain": [
          0,
          1
         ],
         "title": {
          "text": "word"
         }
        }
       }
      }
     },
     "metadata": {},
     "output_type": "display_data"
    },
    {
     "data": {
      "application/vnd.plotly.v1+json": {
       "config": {
        "plotlyServerURL": "https://plot.ly"
       },
       "data": [
        {
         "alignmentgroup": "True",
         "hovertemplate": "score_type=original_similarity<br>score=%{x}<br>word=%{y}<extra></extra>",
         "legendgroup": "original_similarity",
         "marker": {
          "color": "#636efa",
          "pattern": {
           "shape": ""
          }
         },
         "name": "original_similarity",
         "offsetgroup": "original_similarity",
         "orientation": "h",
         "showlegend": true,
         "textposition": "auto",
         "type": "bar",
         "x": [
          0.09573648331058349,
          0.19109161236142264,
          0.05113277126722191,
          0.12549920650180518,
          0.019954538063324416,
          0.12400594160134921,
          0.07015705261448744,
          0.09220645330296076,
          0.17349207540303105,
          0.21021148630576905,
          0.16917880178176212,
          -0.013208312863660568,
          0.18757551219774862,
          0.136244705685148,
          -0.023234826682131893,
          0.02017702866910063,
          0.0029190529373275416,
          0.1692927754662259,
          0.08773470201316426,
          0.18160179404390706,
          0.18314051227774886,
          0.14022478902560867,
          0.08991015179178564,
          0.16175205756886452,
          0.07195899710808865,
          0.13187606037069352,
          0.07772694633742355,
          0.1573111097591338,
          0.12739944087754312,
          0.04316296424032164,
          0.09686301558856814,
          0.13093348969988935,
          0.04511306459859836,
          0.010633768648489125,
          0.11454835794343636,
          0.12559968020187864,
          0.19375855464078107,
          0.10220895305648127,
          0.0756249650458787
         ],
         "xaxis": "x",
         "y": [
          "alonzo",
          "jamel",
          "jamal",
          "lerone",
          "theo",
          "alphonse",
          "jerome",
          "leroy",
          "torrance",
          "darnell",
          "lamar",
          "lionel",
          "rashaun",
          "tyree",
          "deion",
          "lamont",
          "malik",
          "terrence",
          "tyrone",
          "lavon",
          "marcellus",
          "terryl",
          "wardell",
          "nichelle",
          "shereen",
          "temeka",
          "ebony",
          "latisha",
          "shaniqua",
          "jasmine",
          "latonya",
          "tanisha",
          "tia",
          "lakisha",
          "latoya",
          "yolanda",
          "malika",
          "tawanda",
          "yvette"
         ],
         "yaxis": "y"
        },
        {
         "alignmentgroup": "True",
         "hovertemplate": "score_type=similarity_in _debiased<br>score=%{x}<br>word=%{y}<extra></extra>",
         "legendgroup": "similarity_in _debiased",
         "marker": {
          "color": "#EF553B",
          "pattern": {
           "shape": ""
          }
         },
         "name": "similarity_in _debiased",
         "offsetgroup": "similarity_in _debiased",
         "orientation": "h",
         "showlegend": true,
         "textposition": "auto",
         "type": "bar",
         "x": [
          -0.03828596344726394,
          0.043609921790703436,
          -0.031370348891192355,
          0.08695143382463925,
          0.03974515357160334,
          -0.010337623198209562,
          -0.2318419491888094,
          0.020433865598667448,
          -0.13051396787962846,
          -0.004992369821363208,
          -0.16719385556280575,
          -0.07181497197047568,
          0.10558070893460075,
          0.1403010188253029,
          0.1149643676109841,
          -0.010521133791136955,
          -0.11373247808800302,
          0.02038358216183739,
          -0.024392083976512203,
          0.14912828938568543,
          0.11633492751288421,
          0.10629314074468177,
          0.01731848403437811,
          0.05125535504893379,
          0.13284349214608154,
          0.128954619515837,
          0.0742519667122578,
          0.14615381628505703,
          0.18521338570032153,
          -0.023409406860870192,
          0.11830613171848761,
          0.08969363668131435,
          0.07177463869191977,
          0.0238000375147692,
          -0.056197272743707685,
          -0.07598566500300771,
          -0.009087881715773424,
          0.16406684057623255,
          0.15622534438173888
         ],
         "xaxis": "x",
         "y": [
          "alonzo",
          "jamel",
          "jamal",
          "lerone",
          "theo",
          "alphonse",
          "jerome",
          "leroy",
          "torrance",
          "darnell",
          "lamar",
          "lionel",
          "rashaun",
          "tyree",
          "deion",
          "lamont",
          "malik",
          "terrence",
          "tyrone",
          "lavon",
          "marcellus",
          "terryl",
          "wardell",
          "nichelle",
          "shereen",
          "temeka",
          "ebony",
          "latisha",
          "shaniqua",
          "jasmine",
          "latonya",
          "tanisha",
          "tia",
          "lakisha",
          "latoya",
          "yolanda",
          "malika",
          "tawanda",
          "yvette"
         ],
         "yaxis": "y"
        }
       ],
       "layout": {
        "barmode": "group",
        "height": 1000,
        "legend": {
         "title": {
          "text": "score_type"
         },
         "tracegroupgap": 0
        },
        "template": {
         "data": {
          "bar": [
           {
            "error_x": {
             "color": "#2a3f5f"
            },
            "error_y": {
             "color": "#2a3f5f"
            },
            "marker": {
             "line": {
              "color": "#E5ECF6",
              "width": 0.5
             },
             "pattern": {
              "fillmode": "overlay",
              "size": 10,
              "solidity": 0.2
             }
            },
            "type": "bar"
           }
          ],
          "barpolar": [
           {
            "marker": {
             "line": {
              "color": "#E5ECF6",
              "width": 0.5
             },
             "pattern": {
              "fillmode": "overlay",
              "size": 10,
              "solidity": 0.2
             }
            },
            "type": "barpolar"
           }
          ],
          "carpet": [
           {
            "aaxis": {
             "endlinecolor": "#2a3f5f",
             "gridcolor": "white",
             "linecolor": "white",
             "minorgridcolor": "white",
             "startlinecolor": "#2a3f5f"
            },
            "baxis": {
             "endlinecolor": "#2a3f5f",
             "gridcolor": "white",
             "linecolor": "white",
             "minorgridcolor": "white",
             "startlinecolor": "#2a3f5f"
            },
            "type": "carpet"
           }
          ],
          "choropleth": [
           {
            "colorbar": {
             "outlinewidth": 0,
             "ticks": ""
            },
            "type": "choropleth"
           }
          ],
          "contour": [
           {
            "colorbar": {
             "outlinewidth": 0,
             "ticks": ""
            },
            "colorscale": [
             [
              0,
              "#0d0887"
             ],
             [
              0.1111111111111111,
              "#46039f"
             ],
             [
              0.2222222222222222,
              "#7201a8"
             ],
             [
              0.3333333333333333,
              "#9c179e"
             ],
             [
              0.4444444444444444,
              "#bd3786"
             ],
             [
              0.5555555555555556,
              "#d8576b"
             ],
             [
              0.6666666666666666,
              "#ed7953"
             ],
             [
              0.7777777777777778,
              "#fb9f3a"
             ],
             [
              0.8888888888888888,
              "#fdca26"
             ],
             [
              1,
              "#f0f921"
             ]
            ],
            "type": "contour"
           }
          ],
          "contourcarpet": [
           {
            "colorbar": {
             "outlinewidth": 0,
             "ticks": ""
            },
            "type": "contourcarpet"
           }
          ],
          "heatmap": [
           {
            "colorbar": {
             "outlinewidth": 0,
             "ticks": ""
            },
            "colorscale": [
             [
              0,
              "#0d0887"
             ],
             [
              0.1111111111111111,
              "#46039f"
             ],
             [
              0.2222222222222222,
              "#7201a8"
             ],
             [
              0.3333333333333333,
              "#9c179e"
             ],
             [
              0.4444444444444444,
              "#bd3786"
             ],
             [
              0.5555555555555556,
              "#d8576b"
             ],
             [
              0.6666666666666666,
              "#ed7953"
             ],
             [
              0.7777777777777778,
              "#fb9f3a"
             ],
             [
              0.8888888888888888,
              "#fdca26"
             ],
             [
              1,
              "#f0f921"
             ]
            ],
            "type": "heatmap"
           }
          ],
          "heatmapgl": [
           {
            "colorbar": {
             "outlinewidth": 0,
             "ticks": ""
            },
            "colorscale": [
             [
              0,
              "#0d0887"
             ],
             [
              0.1111111111111111,
              "#46039f"
             ],
             [
              0.2222222222222222,
              "#7201a8"
             ],
             [
              0.3333333333333333,
              "#9c179e"
             ],
             [
              0.4444444444444444,
              "#bd3786"
             ],
             [
              0.5555555555555556,
              "#d8576b"
             ],
             [
              0.6666666666666666,
              "#ed7953"
             ],
             [
              0.7777777777777778,
              "#fb9f3a"
             ],
             [
              0.8888888888888888,
              "#fdca26"
             ],
             [
              1,
              "#f0f921"
             ]
            ],
            "type": "heatmapgl"
           }
          ],
          "histogram": [
           {
            "marker": {
             "pattern": {
              "fillmode": "overlay",
              "size": 10,
              "solidity": 0.2
             }
            },
            "type": "histogram"
           }
          ],
          "histogram2d": [
           {
            "colorbar": {
             "outlinewidth": 0,
             "ticks": ""
            },
            "colorscale": [
             [
              0,
              "#0d0887"
             ],
             [
              0.1111111111111111,
              "#46039f"
             ],
             [
              0.2222222222222222,
              "#7201a8"
             ],
             [
              0.3333333333333333,
              "#9c179e"
             ],
             [
              0.4444444444444444,
              "#bd3786"
             ],
             [
              0.5555555555555556,
              "#d8576b"
             ],
             [
              0.6666666666666666,
              "#ed7953"
             ],
             [
              0.7777777777777778,
              "#fb9f3a"
             ],
             [
              0.8888888888888888,
              "#fdca26"
             ],
             [
              1,
              "#f0f921"
             ]
            ],
            "type": "histogram2d"
           }
          ],
          "histogram2dcontour": [
           {
            "colorbar": {
             "outlinewidth": 0,
             "ticks": ""
            },
            "colorscale": [
             [
              0,
              "#0d0887"
             ],
             [
              0.1111111111111111,
              "#46039f"
             ],
             [
              0.2222222222222222,
              "#7201a8"
             ],
             [
              0.3333333333333333,
              "#9c179e"
             ],
             [
              0.4444444444444444,
              "#bd3786"
             ],
             [
              0.5555555555555556,
              "#d8576b"
             ],
             [
              0.6666666666666666,
              "#ed7953"
             ],
             [
              0.7777777777777778,
              "#fb9f3a"
             ],
             [
              0.8888888888888888,
              "#fdca26"
             ],
             [
              1,
              "#f0f921"
             ]
            ],
            "type": "histogram2dcontour"
           }
          ],
          "mesh3d": [
           {
            "colorbar": {
             "outlinewidth": 0,
             "ticks": ""
            },
            "type": "mesh3d"
           }
          ],
          "parcoords": [
           {
            "line": {
             "colorbar": {
              "outlinewidth": 0,
              "ticks": ""
             }
            },
            "type": "parcoords"
           }
          ],
          "pie": [
           {
            "automargin": true,
            "type": "pie"
           }
          ],
          "scatter": [
           {
            "fillpattern": {
             "fillmode": "overlay",
             "size": 10,
             "solidity": 0.2
            },
            "type": "scatter"
           }
          ],
          "scatter3d": [
           {
            "line": {
             "colorbar": {
              "outlinewidth": 0,
              "ticks": ""
             }
            },
            "marker": {
             "colorbar": {
              "outlinewidth": 0,
              "ticks": ""
             }
            },
            "type": "scatter3d"
           }
          ],
          "scattercarpet": [
           {
            "marker": {
             "colorbar": {
              "outlinewidth": 0,
              "ticks": ""
             }
            },
            "type": "scattercarpet"
           }
          ],
          "scattergeo": [
           {
            "marker": {
             "colorbar": {
              "outlinewidth": 0,
              "ticks": ""
             }
            },
            "type": "scattergeo"
           }
          ],
          "scattergl": [
           {
            "marker": {
             "colorbar": {
              "outlinewidth": 0,
              "ticks": ""
             }
            },
            "type": "scattergl"
           }
          ],
          "scattermapbox": [
           {
            "marker": {
             "colorbar": {
              "outlinewidth": 0,
              "ticks": ""
             }
            },
            "type": "scattermapbox"
           }
          ],
          "scatterpolar": [
           {
            "marker": {
             "colorbar": {
              "outlinewidth": 0,
              "ticks": ""
             }
            },
            "type": "scatterpolar"
           }
          ],
          "scatterpolargl": [
           {
            "marker": {
             "colorbar": {
              "outlinewidth": 0,
              "ticks": ""
             }
            },
            "type": "scatterpolargl"
           }
          ],
          "scatterternary": [
           {
            "marker": {
             "colorbar": {
              "outlinewidth": 0,
              "ticks": ""
             }
            },
            "type": "scatterternary"
           }
          ],
          "surface": [
           {
            "colorbar": {
             "outlinewidth": 0,
             "ticks": ""
            },
            "colorscale": [
             [
              0,
              "#0d0887"
             ],
             [
              0.1111111111111111,
              "#46039f"
             ],
             [
              0.2222222222222222,
              "#7201a8"
             ],
             [
              0.3333333333333333,
              "#9c179e"
             ],
             [
              0.4444444444444444,
              "#bd3786"
             ],
             [
              0.5555555555555556,
              "#d8576b"
             ],
             [
              0.6666666666666666,
              "#ed7953"
             ],
             [
              0.7777777777777778,
              "#fb9f3a"
             ],
             [
              0.8888888888888888,
              "#fdca26"
             ],
             [
              1,
              "#f0f921"
             ]
            ],
            "type": "surface"
           }
          ],
          "table": [
           {
            "cells": {
             "fill": {
              "color": "#EBF0F8"
             },
             "line": {
              "color": "white"
             }
            },
            "header": {
             "fill": {
              "color": "#C8D4E3"
             },
             "line": {
              "color": "white"
             }
            },
            "type": "table"
           }
          ]
         },
         "layout": {
          "annotationdefaults": {
           "arrowcolor": "#2a3f5f",
           "arrowhead": 0,
           "arrowwidth": 1
          },
          "autotypenumbers": "strict",
          "coloraxis": {
           "colorbar": {
            "outlinewidth": 0,
            "ticks": ""
           }
          },
          "colorscale": {
           "diverging": [
            [
             0,
             "#8e0152"
            ],
            [
             0.1,
             "#c51b7d"
            ],
            [
             0.2,
             "#de77ae"
            ],
            [
             0.3,
             "#f1b6da"
            ],
            [
             0.4,
             "#fde0ef"
            ],
            [
             0.5,
             "#f7f7f7"
            ],
            [
             0.6,
             "#e6f5d0"
            ],
            [
             0.7,
             "#b8e186"
            ],
            [
             0.8,
             "#7fbc41"
            ],
            [
             0.9,
             "#4d9221"
            ],
            [
             1,
             "#276419"
            ]
           ],
           "sequential": [
            [
             0,
             "#0d0887"
            ],
            [
             0.1111111111111111,
             "#46039f"
            ],
            [
             0.2222222222222222,
             "#7201a8"
            ],
            [
             0.3333333333333333,
             "#9c179e"
            ],
            [
             0.4444444444444444,
             "#bd3786"
            ],
            [
             0.5555555555555556,
             "#d8576b"
            ],
            [
             0.6666666666666666,
             "#ed7953"
            ],
            [
             0.7777777777777778,
             "#fb9f3a"
            ],
            [
             0.8888888888888888,
             "#fdca26"
            ],
            [
             1,
             "#f0f921"
            ]
           ],
           "sequentialminus": [
            [
             0,
             "#0d0887"
            ],
            [
             0.1111111111111111,
             "#46039f"
            ],
            [
             0.2222222222222222,
             "#7201a8"
            ],
            [
             0.3333333333333333,
             "#9c179e"
            ],
            [
             0.4444444444444444,
             "#bd3786"
            ],
            [
             0.5555555555555556,
             "#d8576b"
            ],
            [
             0.6666666666666666,
             "#ed7953"
            ],
            [
             0.7777777777777778,
             "#fb9f3a"
            ],
            [
             0.8888888888888888,
             "#fdca26"
            ],
            [
             1,
             "#f0f921"
            ]
           ]
          },
          "colorway": [
           "#636efa",
           "#EF553B",
           "#00cc96",
           "#ab63fa",
           "#FFA15A",
           "#19d3f3",
           "#FF6692",
           "#B6E880",
           "#FF97FF",
           "#FECB52"
          ],
          "font": {
           "color": "#2a3f5f"
          },
          "geo": {
           "bgcolor": "white",
           "lakecolor": "white",
           "landcolor": "#E5ECF6",
           "showlakes": true,
           "showland": true,
           "subunitcolor": "white"
          },
          "hoverlabel": {
           "align": "left"
          },
          "hovermode": "closest",
          "mapbox": {
           "style": "light"
          },
          "paper_bgcolor": "white",
          "plot_bgcolor": "#E5ECF6",
          "polar": {
           "angularaxis": {
            "gridcolor": "white",
            "linecolor": "white",
            "ticks": ""
           },
           "bgcolor": "#E5ECF6",
           "radialaxis": {
            "gridcolor": "white",
            "linecolor": "white",
            "ticks": ""
           }
          },
          "scene": {
           "xaxis": {
            "backgroundcolor": "#E5ECF6",
            "gridcolor": "white",
            "gridwidth": 2,
            "linecolor": "white",
            "showbackground": true,
            "ticks": "",
            "zerolinecolor": "white"
           },
           "yaxis": {
            "backgroundcolor": "#E5ECF6",
            "gridcolor": "white",
            "gridwidth": 2,
            "linecolor": "white",
            "showbackground": true,
            "ticks": "",
            "zerolinecolor": "white"
           },
           "zaxis": {
            "backgroundcolor": "#E5ECF6",
            "gridcolor": "white",
            "gridwidth": 2,
            "linecolor": "white",
            "showbackground": true,
            "ticks": "",
            "zerolinecolor": "white"
           }
          },
          "shapedefaults": {
           "line": {
            "color": "#2a3f5f"
           }
          },
          "ternary": {
           "aaxis": {
            "gridcolor": "white",
            "linecolor": "white",
            "ticks": ""
           },
           "baxis": {
            "gridcolor": "white",
            "linecolor": "white",
            "ticks": ""
           },
           "bgcolor": "#E5ECF6",
           "caxis": {
            "gridcolor": "white",
            "linecolor": "white",
            "ticks": ""
           }
          },
          "title": {
           "x": 0.05
          },
          "xaxis": {
           "automargin": true,
           "gridcolor": "white",
           "linecolor": "white",
           "ticks": "",
           "title": {
            "standoff": 15
           },
           "zerolinecolor": "white",
           "zerolinewidth": 2
          },
          "yaxis": {
           "automargin": true,
           "gridcolor": "white",
           "linecolor": "white",
           "ticks": "",
           "title": {
            "standoff": 15
           },
           "zerolinecolor": "white",
           "zerolinewidth": 2
          }
         }
        },
        "title": {
         "text": "Top biased words"
        },
        "width": 800,
        "xaxis": {
         "anchor": "y",
         "domain": [
          0,
          1
         ],
         "title": {
          "text": "score"
         }
        },
        "yaxis": {
         "anchor": "x",
         "domain": [
          0,
          1
         ],
         "title": {
          "text": "word"
         }
        }
       }
      }
     },
     "metadata": {},
     "output_type": "display_data"
    },
    {
     "data": {
      "application/vnd.plotly.v1+json": {
       "config": {
        "plotlyServerURL": "https://plot.ly"
       },
       "data": [
        {
         "alignmentgroup": "True",
         "hovertemplate": "score_type=original_similarity<br>score=%{x}<br>word=%{y}<extra></extra>",
         "legendgroup": "original_similarity",
         "marker": {
          "color": "#636efa",
          "pattern": {
           "shape": ""
          }
         },
         "name": "original_similarity",
         "offsetgroup": "original_similarity",
         "orientation": "h",
         "showlegend": true,
         "textposition": "auto",
         "type": "bar",
         "x": [
          -0.07759613410571344,
          0.015236512123182548,
          -0.07313215815358953,
          0.054051449300230724,
          -0.06294926517834262,
          -0.01872452169165031,
          0.11799329181066087,
          0.15256306434190214,
          0.08606890609292044,
          0.15309322518048596,
          0.06342355679287859,
          0.08401935703071033,
          -0.01963593614086498,
          -0.06755446129557371,
          0.05243222937450727,
          0.020799990744803792,
          -0.03608016851286399,
          0.0769546512160832,
          0.08730178578163077,
          0.02056559783408852,
          0.04621520180390722,
          0.10476543433405998,
          0.04121007162772426,
          0.09605906869326274,
          0.18070712427040797,
          0.14575617108423872,
          0.11056636873363322,
          0.0470312973006123,
          0.047001540221741155,
          0.0350167761972639
         ],
         "xaxis": "x",
         "y": [
          "juan",
          "josé",
          "miguel",
          "luís",
          "jorge",
          "santiago",
          "matías",
          "sebastián",
          "mateo",
          "nicolás",
          "alejandro",
          "samuel",
          "diego",
          "daniel",
          "tomás",
          "juana",
          "ana",
          "luisa",
          "maría",
          "elena",
          "sofía",
          "isabella",
          "valentina",
          "camila",
          "valeria",
          "ximena",
          "luciana",
          "mariana",
          "victoria",
          "martina"
         ],
         "yaxis": "y"
        },
        {
         "alignmentgroup": "True",
         "hovertemplate": "score_type=similarity_in _debiased<br>score=%{x}<br>word=%{y}<extra></extra>",
         "legendgroup": "similarity_in _debiased",
         "marker": {
          "color": "#EF553B",
          "pattern": {
           "shape": ""
          }
         },
         "name": "similarity_in _debiased",
         "offsetgroup": "similarity_in _debiased",
         "orientation": "h",
         "showlegend": true,
         "textposition": "auto",
         "type": "bar",
         "x": [
          -0.3176806644707289,
          -0.10475550690388839,
          -0.07774146434423486,
          0.19101037996944678,
          0.010296169244211815,
          -0.053828945691157294,
          0.0845665114586311,
          0.11103024533629652,
          0.153174914702401,
          -0.041259164807953816,
          -0.08958879904470582,
          -0.335784016610202,
          -0.15739596479232182,
          -0.38814171181227874,
          -0.03523418457167828,
          0.13836860743423074,
          0.058192262841827345,
          -0.05076943766620111,
          -0.13109511771801868,
          -0.14216955343093846,
          0.15850668726075576,
          -0.12413961778834717,
          0.04698539977338769,
          0.135407302083354,
          0.04061862620739152,
          0.0384411264405123,
          0.09471039570771513,
          0.09000755724077616,
          -0.15906836937678306,
          -0.0010790715732183433
         ],
         "xaxis": "x",
         "y": [
          "juan",
          "josé",
          "miguel",
          "luís",
          "jorge",
          "santiago",
          "matías",
          "sebastián",
          "mateo",
          "nicolás",
          "alejandro",
          "samuel",
          "diego",
          "daniel",
          "tomás",
          "juana",
          "ana",
          "luisa",
          "maría",
          "elena",
          "sofía",
          "isabella",
          "valentina",
          "camila",
          "valeria",
          "ximena",
          "luciana",
          "mariana",
          "victoria",
          "martina"
         ],
         "yaxis": "y"
        }
       ],
       "layout": {
        "barmode": "group",
        "height": 1000,
        "legend": {
         "title": {
          "text": "score_type"
         },
         "tracegroupgap": 0
        },
        "template": {
         "data": {
          "bar": [
           {
            "error_x": {
             "color": "#2a3f5f"
            },
            "error_y": {
             "color": "#2a3f5f"
            },
            "marker": {
             "line": {
              "color": "#E5ECF6",
              "width": 0.5
             },
             "pattern": {
              "fillmode": "overlay",
              "size": 10,
              "solidity": 0.2
             }
            },
            "type": "bar"
           }
          ],
          "barpolar": [
           {
            "marker": {
             "line": {
              "color": "#E5ECF6",
              "width": 0.5
             },
             "pattern": {
              "fillmode": "overlay",
              "size": 10,
              "solidity": 0.2
             }
            },
            "type": "barpolar"
           }
          ],
          "carpet": [
           {
            "aaxis": {
             "endlinecolor": "#2a3f5f",
             "gridcolor": "white",
             "linecolor": "white",
             "minorgridcolor": "white",
             "startlinecolor": "#2a3f5f"
            },
            "baxis": {
             "endlinecolor": "#2a3f5f",
             "gridcolor": "white",
             "linecolor": "white",
             "minorgridcolor": "white",
             "startlinecolor": "#2a3f5f"
            },
            "type": "carpet"
           }
          ],
          "choropleth": [
           {
            "colorbar": {
             "outlinewidth": 0,
             "ticks": ""
            },
            "type": "choropleth"
           }
          ],
          "contour": [
           {
            "colorbar": {
             "outlinewidth": 0,
             "ticks": ""
            },
            "colorscale": [
             [
              0,
              "#0d0887"
             ],
             [
              0.1111111111111111,
              "#46039f"
             ],
             [
              0.2222222222222222,
              "#7201a8"
             ],
             [
              0.3333333333333333,
              "#9c179e"
             ],
             [
              0.4444444444444444,
              "#bd3786"
             ],
             [
              0.5555555555555556,
              "#d8576b"
             ],
             [
              0.6666666666666666,
              "#ed7953"
             ],
             [
              0.7777777777777778,
              "#fb9f3a"
             ],
             [
              0.8888888888888888,
              "#fdca26"
             ],
             [
              1,
              "#f0f921"
             ]
            ],
            "type": "contour"
           }
          ],
          "contourcarpet": [
           {
            "colorbar": {
             "outlinewidth": 0,
             "ticks": ""
            },
            "type": "contourcarpet"
           }
          ],
          "heatmap": [
           {
            "colorbar": {
             "outlinewidth": 0,
             "ticks": ""
            },
            "colorscale": [
             [
              0,
              "#0d0887"
             ],
             [
              0.1111111111111111,
              "#46039f"
             ],
             [
              0.2222222222222222,
              "#7201a8"
             ],
             [
              0.3333333333333333,
              "#9c179e"
             ],
             [
              0.4444444444444444,
              "#bd3786"
             ],
             [
              0.5555555555555556,
              "#d8576b"
             ],
             [
              0.6666666666666666,
              "#ed7953"
             ],
             [
              0.7777777777777778,
              "#fb9f3a"
             ],
             [
              0.8888888888888888,
              "#fdca26"
             ],
             [
              1,
              "#f0f921"
             ]
            ],
            "type": "heatmap"
           }
          ],
          "heatmapgl": [
           {
            "colorbar": {
             "outlinewidth": 0,
             "ticks": ""
            },
            "colorscale": [
             [
              0,
              "#0d0887"
             ],
             [
              0.1111111111111111,
              "#46039f"
             ],
             [
              0.2222222222222222,
              "#7201a8"
             ],
             [
              0.3333333333333333,
              "#9c179e"
             ],
             [
              0.4444444444444444,
              "#bd3786"
             ],
             [
              0.5555555555555556,
              "#d8576b"
             ],
             [
              0.6666666666666666,
              "#ed7953"
             ],
             [
              0.7777777777777778,
              "#fb9f3a"
             ],
             [
              0.8888888888888888,
              "#fdca26"
             ],
             [
              1,
              "#f0f921"
             ]
            ],
            "type": "heatmapgl"
           }
          ],
          "histogram": [
           {
            "marker": {
             "pattern": {
              "fillmode": "overlay",
              "size": 10,
              "solidity": 0.2
             }
            },
            "type": "histogram"
           }
          ],
          "histogram2d": [
           {
            "colorbar": {
             "outlinewidth": 0,
             "ticks": ""
            },
            "colorscale": [
             [
              0,
              "#0d0887"
             ],
             [
              0.1111111111111111,
              "#46039f"
             ],
             [
              0.2222222222222222,
              "#7201a8"
             ],
             [
              0.3333333333333333,
              "#9c179e"
             ],
             [
              0.4444444444444444,
              "#bd3786"
             ],
             [
              0.5555555555555556,
              "#d8576b"
             ],
             [
              0.6666666666666666,
              "#ed7953"
             ],
             [
              0.7777777777777778,
              "#fb9f3a"
             ],
             [
              0.8888888888888888,
              "#fdca26"
             ],
             [
              1,
              "#f0f921"
             ]
            ],
            "type": "histogram2d"
           }
          ],
          "histogram2dcontour": [
           {
            "colorbar": {
             "outlinewidth": 0,
             "ticks": ""
            },
            "colorscale": [
             [
              0,
              "#0d0887"
             ],
             [
              0.1111111111111111,
              "#46039f"
             ],
             [
              0.2222222222222222,
              "#7201a8"
             ],
             [
              0.3333333333333333,
              "#9c179e"
             ],
             [
              0.4444444444444444,
              "#bd3786"
             ],
             [
              0.5555555555555556,
              "#d8576b"
             ],
             [
              0.6666666666666666,
              "#ed7953"
             ],
             [
              0.7777777777777778,
              "#fb9f3a"
             ],
             [
              0.8888888888888888,
              "#fdca26"
             ],
             [
              1,
              "#f0f921"
             ]
            ],
            "type": "histogram2dcontour"
           }
          ],
          "mesh3d": [
           {
            "colorbar": {
             "outlinewidth": 0,
             "ticks": ""
            },
            "type": "mesh3d"
           }
          ],
          "parcoords": [
           {
            "line": {
             "colorbar": {
              "outlinewidth": 0,
              "ticks": ""
             }
            },
            "type": "parcoords"
           }
          ],
          "pie": [
           {
            "automargin": true,
            "type": "pie"
           }
          ],
          "scatter": [
           {
            "fillpattern": {
             "fillmode": "overlay",
             "size": 10,
             "solidity": 0.2
            },
            "type": "scatter"
           }
          ],
          "scatter3d": [
           {
            "line": {
             "colorbar": {
              "outlinewidth": 0,
              "ticks": ""
             }
            },
            "marker": {
             "colorbar": {
              "outlinewidth": 0,
              "ticks": ""
             }
            },
            "type": "scatter3d"
           }
          ],
          "scattercarpet": [
           {
            "marker": {
             "colorbar": {
              "outlinewidth": 0,
              "ticks": ""
             }
            },
            "type": "scattercarpet"
           }
          ],
          "scattergeo": [
           {
            "marker": {
             "colorbar": {
              "outlinewidth": 0,
              "ticks": ""
             }
            },
            "type": "scattergeo"
           }
          ],
          "scattergl": [
           {
            "marker": {
             "colorbar": {
              "outlinewidth": 0,
              "ticks": ""
             }
            },
            "type": "scattergl"
           }
          ],
          "scattermapbox": [
           {
            "marker": {
             "colorbar": {
              "outlinewidth": 0,
              "ticks": ""
             }
            },
            "type": "scattermapbox"
           }
          ],
          "scatterpolar": [
           {
            "marker": {
             "colorbar": {
              "outlinewidth": 0,
              "ticks": ""
             }
            },
            "type": "scatterpolar"
           }
          ],
          "scatterpolargl": [
           {
            "marker": {
             "colorbar": {
              "outlinewidth": 0,
              "ticks": ""
             }
            },
            "type": "scatterpolargl"
           }
          ],
          "scatterternary": [
           {
            "marker": {
             "colorbar": {
              "outlinewidth": 0,
              "ticks": ""
             }
            },
            "type": "scatterternary"
           }
          ],
          "surface": [
           {
            "colorbar": {
             "outlinewidth": 0,
             "ticks": ""
            },
            "colorscale": [
             [
              0,
              "#0d0887"
             ],
             [
              0.1111111111111111,
              "#46039f"
             ],
             [
              0.2222222222222222,
              "#7201a8"
             ],
             [
              0.3333333333333333,
              "#9c179e"
             ],
             [
              0.4444444444444444,
              "#bd3786"
             ],
             [
              0.5555555555555556,
              "#d8576b"
             ],
             [
              0.6666666666666666,
              "#ed7953"
             ],
             [
              0.7777777777777778,
              "#fb9f3a"
             ],
             [
              0.8888888888888888,
              "#fdca26"
             ],
             [
              1,
              "#f0f921"
             ]
            ],
            "type": "surface"
           }
          ],
          "table": [
           {
            "cells": {
             "fill": {
              "color": "#EBF0F8"
             },
             "line": {
              "color": "white"
             }
            },
            "header": {
             "fill": {
              "color": "#C8D4E3"
             },
             "line": {
              "color": "white"
             }
            },
            "type": "table"
           }
          ]
         },
         "layout": {
          "annotationdefaults": {
           "arrowcolor": "#2a3f5f",
           "arrowhead": 0,
           "arrowwidth": 1
          },
          "autotypenumbers": "strict",
          "coloraxis": {
           "colorbar": {
            "outlinewidth": 0,
            "ticks": ""
           }
          },
          "colorscale": {
           "diverging": [
            [
             0,
             "#8e0152"
            ],
            [
             0.1,
             "#c51b7d"
            ],
            [
             0.2,
             "#de77ae"
            ],
            [
             0.3,
             "#f1b6da"
            ],
            [
             0.4,
             "#fde0ef"
            ],
            [
             0.5,
             "#f7f7f7"
            ],
            [
             0.6,
             "#e6f5d0"
            ],
            [
             0.7,
             "#b8e186"
            ],
            [
             0.8,
             "#7fbc41"
            ],
            [
             0.9,
             "#4d9221"
            ],
            [
             1,
             "#276419"
            ]
           ],
           "sequential": [
            [
             0,
             "#0d0887"
            ],
            [
             0.1111111111111111,
             "#46039f"
            ],
            [
             0.2222222222222222,
             "#7201a8"
            ],
            [
             0.3333333333333333,
             "#9c179e"
            ],
            [
             0.4444444444444444,
             "#bd3786"
            ],
            [
             0.5555555555555556,
             "#d8576b"
            ],
            [
             0.6666666666666666,
             "#ed7953"
            ],
            [
             0.7777777777777778,
             "#fb9f3a"
            ],
            [
             0.8888888888888888,
             "#fdca26"
            ],
            [
             1,
             "#f0f921"
            ]
           ],
           "sequentialminus": [
            [
             0,
             "#0d0887"
            ],
            [
             0.1111111111111111,
             "#46039f"
            ],
            [
             0.2222222222222222,
             "#7201a8"
            ],
            [
             0.3333333333333333,
             "#9c179e"
            ],
            [
             0.4444444444444444,
             "#bd3786"
            ],
            [
             0.5555555555555556,
             "#d8576b"
            ],
            [
             0.6666666666666666,
             "#ed7953"
            ],
            [
             0.7777777777777778,
             "#fb9f3a"
            ],
            [
             0.8888888888888888,
             "#fdca26"
            ],
            [
             1,
             "#f0f921"
            ]
           ]
          },
          "colorway": [
           "#636efa",
           "#EF553B",
           "#00cc96",
           "#ab63fa",
           "#FFA15A",
           "#19d3f3",
           "#FF6692",
           "#B6E880",
           "#FF97FF",
           "#FECB52"
          ],
          "font": {
           "color": "#2a3f5f"
          },
          "geo": {
           "bgcolor": "white",
           "lakecolor": "white",
           "landcolor": "#E5ECF6",
           "showlakes": true,
           "showland": true,
           "subunitcolor": "white"
          },
          "hoverlabel": {
           "align": "left"
          },
          "hovermode": "closest",
          "mapbox": {
           "style": "light"
          },
          "paper_bgcolor": "white",
          "plot_bgcolor": "#E5ECF6",
          "polar": {
           "angularaxis": {
            "gridcolor": "white",
            "linecolor": "white",
            "ticks": ""
           },
           "bgcolor": "#E5ECF6",
           "radialaxis": {
            "gridcolor": "white",
            "linecolor": "white",
            "ticks": ""
           }
          },
          "scene": {
           "xaxis": {
            "backgroundcolor": "#E5ECF6",
            "gridcolor": "white",
            "gridwidth": 2,
            "linecolor": "white",
            "showbackground": true,
            "ticks": "",
            "zerolinecolor": "white"
           },
           "yaxis": {
            "backgroundcolor": "#E5ECF6",
            "gridcolor": "white",
            "gridwidth": 2,
            "linecolor": "white",
            "showbackground": true,
            "ticks": "",
            "zerolinecolor": "white"
           },
           "zaxis": {
            "backgroundcolor": "#E5ECF6",
            "gridcolor": "white",
            "gridwidth": 2,
            "linecolor": "white",
            "showbackground": true,
            "ticks": "",
            "zerolinecolor": "white"
           }
          },
          "shapedefaults": {
           "line": {
            "color": "#2a3f5f"
           }
          },
          "ternary": {
           "aaxis": {
            "gridcolor": "white",
            "linecolor": "white",
            "ticks": ""
           },
           "baxis": {
            "gridcolor": "white",
            "linecolor": "white",
            "ticks": ""
           },
           "bgcolor": "#E5ECF6",
           "caxis": {
            "gridcolor": "white",
            "linecolor": "white",
            "ticks": ""
           }
          },
          "title": {
           "x": 0.05
          },
          "xaxis": {
           "automargin": true,
           "gridcolor": "white",
           "linecolor": "white",
           "ticks": "",
           "title": {
            "standoff": 15
           },
           "zerolinecolor": "white",
           "zerolinewidth": 2
          },
          "yaxis": {
           "automargin": true,
           "gridcolor": "white",
           "linecolor": "white",
           "ticks": "",
           "title": {
            "standoff": 15
           },
           "zerolinecolor": "white",
           "zerolinewidth": 2
          }
         }
        },
        "title": {
         "text": "Top biased words"
        },
        "width": 800,
        "xaxis": {
         "anchor": "y",
         "domain": [
          0,
          1
         ],
         "title": {
          "text": "score"
         }
        },
        "yaxis": {
         "anchor": "x",
         "domain": [
          0,
          1
         ],
         "title": {
          "text": "word"
         }
        }
       }
      }
     },
     "metadata": {},
     "output_type": "display_data"
    }
   ],
   "source": [
    "df_names_white.centralized_similarity_score = df_names_white.centralized_similarity_score.astype(\n",
    "    'float64')\n",
    "df_names_white.simple_bias_score = df_names_white.simple_bias_score.astype(\n",
    "    'float64')\n",
    "df_names_white.rename(columns={'centralized_similarity_score': 'original_similarity',\n",
    "                      'simple_bias_score': 'similarity_in _debiased'}, inplace=True)\n",
    "plot_top_biased_words(df_names_white, n_words=50)\n",
    "\n",
    "df_names_black.centralized_similarity_score = df_names_black.centralized_similarity_score.astype(\n",
    "    'float64')\n",
    "df_names_black.simple_bias_score = df_names_black.simple_bias_score.astype(\n",
    "    'float64')\n",
    "df_names_black.rename(columns={'centralized_similarity_score': 'original_similarity',\n",
    "                      'simple_bias_score': 'similarity_in _debiased'}, inplace=True)\n",
    "plot_top_biased_words(df_names_black, n_words=50)\n",
    "\n",
    "df_names_hispanic.centralized_similarity_score = df_names_hispanic.centralized_similarity_score.astype(\n",
    "    'float64')\n",
    "df_names_hispanic.simple_bias_score = df_names_hispanic.simple_bias_score.astype(\n",
    "    'float64')\n",
    "df_names_hispanic.rename(columns={'centralized_similarity_score': 'original_similarity',\n",
    "                      'simple_bias_score': 'similarity_in _debiased'}, inplace=True)\n",
    "plot_top_biased_words(df_names_hispanic, n_words=50)\n"
   ]
  },
  {
   "cell_type": "code",
   "execution_count": 75,
   "metadata": {},
   "outputs": [
    {
     "data": {
      "application/vnd.plotly.v1+json": {
       "config": {
        "plotlyServerURL": "https://plot.ly"
       },
       "data": [
        {
         "alignmentgroup": "True",
         "hovertemplate": "score_type=original_similarity<br>score=%{x}<br>word=%{y}<extra></extra>",
         "legendgroup": "original_similarity",
         "marker": {
          "color": "#636efa",
          "pattern": {
           "shape": ""
          }
         },
         "name": "original_similarity",
         "offsetgroup": "original_similarity",
         "orientation": "h",
         "showlegend": true,
         "textposition": "auto",
         "type": "bar",
         "x": [
          -0.05283398012788724,
          -0.1139459320086057,
          0.0019360580035608145,
          0.029273814879279297,
          -0.029481395743606788,
          -0.02497111231800329,
          -0.043752494954667244,
          -0.03831320326413515,
          0.00938916854004081,
          -0.054462102623616476,
          -0.04046981556616542,
          0.011264145713658757,
          -0.13745787809385807,
          -0.02418768651620162,
          0.0003954267400405677,
          -0.018651233657156884,
          0.07694717907801224,
          0.1518686079671002,
          -0.0574997248896017,
          0.027754106298831405,
          0.10803019134955025,
          -0.053505449161428006,
          0.1247351162725323,
          -0.04079493615559499,
          0.18396788219285,
          0.007212254040266985,
          -0.010238174607643867,
          0.027992348271183482,
          0.11677716216309202,
          0.08075940293482498,
          0.03235917448222912,
          0.006435231819178233,
          -0.05658380927765806,
          0.12088565051815808,
          0.02269005317221275,
          0.1332184788863986,
          -0.000012908473893530163,
          0.1348745798445781,
          -0.04106483504802735,
          0.09338298433967764,
          0.03813722385593314,
          0.04134050909608083,
          0.0416248813951338,
          0.011847366326353814,
          0.01758480229761781,
          0.06809505650724036,
          0.06122329077642194,
          0.1297508120149914
         ],
         "xaxis": "x",
         "y": [
          "adam",
          "chip",
          "harry",
          "josh",
          "roger",
          "alan",
          "frank",
          "ian",
          "justin",
          "ryan",
          "andrew",
          "fred",
          "jack",
          "matthew",
          "stephen",
          "brad",
          "greg",
          "jed",
          "paul",
          "todd",
          "brandon",
          "hank",
          "jonathan",
          "peter",
          "wilbur",
          "amanda",
          "courtney",
          "heather",
          "melanie",
          "sara",
          "amber",
          "crystal",
          "katie",
          "meredith",
          "shannon",
          "betsy",
          "donna",
          "kristin",
          "nancy",
          "stephanie",
          "ellen",
          "lauren",
          "peggy",
          "colleen",
          "emily",
          "megan",
          "rachel",
          "wendy"
         ],
         "yaxis": "y"
        },
        {
         "alignmentgroup": "True",
         "hovertemplate": "score_type=similarity_in _debiased<br>score=%{x}<br>word=%{y}<extra></extra>",
         "legendgroup": "similarity_in _debiased",
         "marker": {
          "color": "#EF553B",
          "pattern": {
           "shape": ""
          }
         },
         "name": "similarity_in _debiased",
         "offsetgroup": "similarity_in _debiased",
         "orientation": "h",
         "showlegend": true,
         "textposition": "auto",
         "type": "bar",
         "x": [
          -0.13344181038117722,
          -0.19706047332234844,
          -0.23027906427785186,
          0.15102851129320483,
          -0.05462508960288067,
          -0.24075918825288126,
          -0.06578837139425048,
          -0.0844777590521789,
          -0.22745192243379928,
          -0.15107419795607446,
          -0.16463566540938487,
          -0.06094615605673521,
          -0.17716965977613758,
          -0.26568059655859816,
          -0.28735036589321367,
          -0.18336271606719204,
          -0.029768197894416912,
          -0.021708301473295753,
          -0.3400867869400639,
          -0.25191782873099544,
          -0.09764769509883925,
          -0.02040752073910137,
          -0.18060332832515258,
          -0.20333128961139577,
          0.10098564160794354,
          -0.21578872801340793,
          0.09430111679288594,
          -0.2221295857849723,
          -0.017381965710386884,
          -0.02987972264496088,
          -0.13507132931349522,
          -0.27163334333239025,
          0.1183292061941436,
          -0.04805611564446619,
          0.113783051679806,
          -0.07208457432928317,
          -0.1931564836997238,
          -0.003146029154966927,
          -0.16262212816077345,
          -0.15874201070905145,
          -0.20997353627879986,
          -0.04272734879430999,
          -0.04220295862094175,
          -0.05951640529420875,
          -0.2271480815963711,
          -0.07135459181422255,
          -0.06741835830541623,
          -0.2633651733270812
         ],
         "xaxis": "x",
         "y": [
          "adam",
          "chip",
          "harry",
          "josh",
          "roger",
          "alan",
          "frank",
          "ian",
          "justin",
          "ryan",
          "andrew",
          "fred",
          "jack",
          "matthew",
          "stephen",
          "brad",
          "greg",
          "jed",
          "paul",
          "todd",
          "brandon",
          "hank",
          "jonathan",
          "peter",
          "wilbur",
          "amanda",
          "courtney",
          "heather",
          "melanie",
          "sara",
          "amber",
          "crystal",
          "katie",
          "meredith",
          "shannon",
          "betsy",
          "donna",
          "kristin",
          "nancy",
          "stephanie",
          "ellen",
          "lauren",
          "peggy",
          "colleen",
          "emily",
          "megan",
          "rachel",
          "wendy"
         ],
         "yaxis": "y"
        }
       ],
       "layout": {
        "barmode": "group",
        "height": 1000,
        "legend": {
         "title": {
          "text": "score_type"
         },
         "tracegroupgap": 0
        },
        "template": {
         "data": {
          "bar": [
           {
            "error_x": {
             "color": "#2a3f5f"
            },
            "error_y": {
             "color": "#2a3f5f"
            },
            "marker": {
             "line": {
              "color": "#E5ECF6",
              "width": 0.5
             },
             "pattern": {
              "fillmode": "overlay",
              "size": 10,
              "solidity": 0.2
             }
            },
            "type": "bar"
           }
          ],
          "barpolar": [
           {
            "marker": {
             "line": {
              "color": "#E5ECF6",
              "width": 0.5
             },
             "pattern": {
              "fillmode": "overlay",
              "size": 10,
              "solidity": 0.2
             }
            },
            "type": "barpolar"
           }
          ],
          "carpet": [
           {
            "aaxis": {
             "endlinecolor": "#2a3f5f",
             "gridcolor": "white",
             "linecolor": "white",
             "minorgridcolor": "white",
             "startlinecolor": "#2a3f5f"
            },
            "baxis": {
             "endlinecolor": "#2a3f5f",
             "gridcolor": "white",
             "linecolor": "white",
             "minorgridcolor": "white",
             "startlinecolor": "#2a3f5f"
            },
            "type": "carpet"
           }
          ],
          "choropleth": [
           {
            "colorbar": {
             "outlinewidth": 0,
             "ticks": ""
            },
            "type": "choropleth"
           }
          ],
          "contour": [
           {
            "colorbar": {
             "outlinewidth": 0,
             "ticks": ""
            },
            "colorscale": [
             [
              0,
              "#0d0887"
             ],
             [
              0.1111111111111111,
              "#46039f"
             ],
             [
              0.2222222222222222,
              "#7201a8"
             ],
             [
              0.3333333333333333,
              "#9c179e"
             ],
             [
              0.4444444444444444,
              "#bd3786"
             ],
             [
              0.5555555555555556,
              "#d8576b"
             ],
             [
              0.6666666666666666,
              "#ed7953"
             ],
             [
              0.7777777777777778,
              "#fb9f3a"
             ],
             [
              0.8888888888888888,
              "#fdca26"
             ],
             [
              1,
              "#f0f921"
             ]
            ],
            "type": "contour"
           }
          ],
          "contourcarpet": [
           {
            "colorbar": {
             "outlinewidth": 0,
             "ticks": ""
            },
            "type": "contourcarpet"
           }
          ],
          "heatmap": [
           {
            "colorbar": {
             "outlinewidth": 0,
             "ticks": ""
            },
            "colorscale": [
             [
              0,
              "#0d0887"
             ],
             [
              0.1111111111111111,
              "#46039f"
             ],
             [
              0.2222222222222222,
              "#7201a8"
             ],
             [
              0.3333333333333333,
              "#9c179e"
             ],
             [
              0.4444444444444444,
              "#bd3786"
             ],
             [
              0.5555555555555556,
              "#d8576b"
             ],
             [
              0.6666666666666666,
              "#ed7953"
             ],
             [
              0.7777777777777778,
              "#fb9f3a"
             ],
             [
              0.8888888888888888,
              "#fdca26"
             ],
             [
              1,
              "#f0f921"
             ]
            ],
            "type": "heatmap"
           }
          ],
          "heatmapgl": [
           {
            "colorbar": {
             "outlinewidth": 0,
             "ticks": ""
            },
            "colorscale": [
             [
              0,
              "#0d0887"
             ],
             [
              0.1111111111111111,
              "#46039f"
             ],
             [
              0.2222222222222222,
              "#7201a8"
             ],
             [
              0.3333333333333333,
              "#9c179e"
             ],
             [
              0.4444444444444444,
              "#bd3786"
             ],
             [
              0.5555555555555556,
              "#d8576b"
             ],
             [
              0.6666666666666666,
              "#ed7953"
             ],
             [
              0.7777777777777778,
              "#fb9f3a"
             ],
             [
              0.8888888888888888,
              "#fdca26"
             ],
             [
              1,
              "#f0f921"
             ]
            ],
            "type": "heatmapgl"
           }
          ],
          "histogram": [
           {
            "marker": {
             "pattern": {
              "fillmode": "overlay",
              "size": 10,
              "solidity": 0.2
             }
            },
            "type": "histogram"
           }
          ],
          "histogram2d": [
           {
            "colorbar": {
             "outlinewidth": 0,
             "ticks": ""
            },
            "colorscale": [
             [
              0,
              "#0d0887"
             ],
             [
              0.1111111111111111,
              "#46039f"
             ],
             [
              0.2222222222222222,
              "#7201a8"
             ],
             [
              0.3333333333333333,
              "#9c179e"
             ],
             [
              0.4444444444444444,
              "#bd3786"
             ],
             [
              0.5555555555555556,
              "#d8576b"
             ],
             [
              0.6666666666666666,
              "#ed7953"
             ],
             [
              0.7777777777777778,
              "#fb9f3a"
             ],
             [
              0.8888888888888888,
              "#fdca26"
             ],
             [
              1,
              "#f0f921"
             ]
            ],
            "type": "histogram2d"
           }
          ],
          "histogram2dcontour": [
           {
            "colorbar": {
             "outlinewidth": 0,
             "ticks": ""
            },
            "colorscale": [
             [
              0,
              "#0d0887"
             ],
             [
              0.1111111111111111,
              "#46039f"
             ],
             [
              0.2222222222222222,
              "#7201a8"
             ],
             [
              0.3333333333333333,
              "#9c179e"
             ],
             [
              0.4444444444444444,
              "#bd3786"
             ],
             [
              0.5555555555555556,
              "#d8576b"
             ],
             [
              0.6666666666666666,
              "#ed7953"
             ],
             [
              0.7777777777777778,
              "#fb9f3a"
             ],
             [
              0.8888888888888888,
              "#fdca26"
             ],
             [
              1,
              "#f0f921"
             ]
            ],
            "type": "histogram2dcontour"
           }
          ],
          "mesh3d": [
           {
            "colorbar": {
             "outlinewidth": 0,
             "ticks": ""
            },
            "type": "mesh3d"
           }
          ],
          "parcoords": [
           {
            "line": {
             "colorbar": {
              "outlinewidth": 0,
              "ticks": ""
             }
            },
            "type": "parcoords"
           }
          ],
          "pie": [
           {
            "automargin": true,
            "type": "pie"
           }
          ],
          "scatter": [
           {
            "fillpattern": {
             "fillmode": "overlay",
             "size": 10,
             "solidity": 0.2
            },
            "type": "scatter"
           }
          ],
          "scatter3d": [
           {
            "line": {
             "colorbar": {
              "outlinewidth": 0,
              "ticks": ""
             }
            },
            "marker": {
             "colorbar": {
              "outlinewidth": 0,
              "ticks": ""
             }
            },
            "type": "scatter3d"
           }
          ],
          "scattercarpet": [
           {
            "marker": {
             "colorbar": {
              "outlinewidth": 0,
              "ticks": ""
             }
            },
            "type": "scattercarpet"
           }
          ],
          "scattergeo": [
           {
            "marker": {
             "colorbar": {
              "outlinewidth": 0,
              "ticks": ""
             }
            },
            "type": "scattergeo"
           }
          ],
          "scattergl": [
           {
            "marker": {
             "colorbar": {
              "outlinewidth": 0,
              "ticks": ""
             }
            },
            "type": "scattergl"
           }
          ],
          "scattermapbox": [
           {
            "marker": {
             "colorbar": {
              "outlinewidth": 0,
              "ticks": ""
             }
            },
            "type": "scattermapbox"
           }
          ],
          "scatterpolar": [
           {
            "marker": {
             "colorbar": {
              "outlinewidth": 0,
              "ticks": ""
             }
            },
            "type": "scatterpolar"
           }
          ],
          "scatterpolargl": [
           {
            "marker": {
             "colorbar": {
              "outlinewidth": 0,
              "ticks": ""
             }
            },
            "type": "scatterpolargl"
           }
          ],
          "scatterternary": [
           {
            "marker": {
             "colorbar": {
              "outlinewidth": 0,
              "ticks": ""
             }
            },
            "type": "scatterternary"
           }
          ],
          "surface": [
           {
            "colorbar": {
             "outlinewidth": 0,
             "ticks": ""
            },
            "colorscale": [
             [
              0,
              "#0d0887"
             ],
             [
              0.1111111111111111,
              "#46039f"
             ],
             [
              0.2222222222222222,
              "#7201a8"
             ],
             [
              0.3333333333333333,
              "#9c179e"
             ],
             [
              0.4444444444444444,
              "#bd3786"
             ],
             [
              0.5555555555555556,
              "#d8576b"
             ],
             [
              0.6666666666666666,
              "#ed7953"
             ],
             [
              0.7777777777777778,
              "#fb9f3a"
             ],
             [
              0.8888888888888888,
              "#fdca26"
             ],
             [
              1,
              "#f0f921"
             ]
            ],
            "type": "surface"
           }
          ],
          "table": [
           {
            "cells": {
             "fill": {
              "color": "#EBF0F8"
             },
             "line": {
              "color": "white"
             }
            },
            "header": {
             "fill": {
              "color": "#C8D4E3"
             },
             "line": {
              "color": "white"
             }
            },
            "type": "table"
           }
          ]
         },
         "layout": {
          "annotationdefaults": {
           "arrowcolor": "#2a3f5f",
           "arrowhead": 0,
           "arrowwidth": 1
          },
          "autotypenumbers": "strict",
          "coloraxis": {
           "colorbar": {
            "outlinewidth": 0,
            "ticks": ""
           }
          },
          "colorscale": {
           "diverging": [
            [
             0,
             "#8e0152"
            ],
            [
             0.1,
             "#c51b7d"
            ],
            [
             0.2,
             "#de77ae"
            ],
            [
             0.3,
             "#f1b6da"
            ],
            [
             0.4,
             "#fde0ef"
            ],
            [
             0.5,
             "#f7f7f7"
            ],
            [
             0.6,
             "#e6f5d0"
            ],
            [
             0.7,
             "#b8e186"
            ],
            [
             0.8,
             "#7fbc41"
            ],
            [
             0.9,
             "#4d9221"
            ],
            [
             1,
             "#276419"
            ]
           ],
           "sequential": [
            [
             0,
             "#0d0887"
            ],
            [
             0.1111111111111111,
             "#46039f"
            ],
            [
             0.2222222222222222,
             "#7201a8"
            ],
            [
             0.3333333333333333,
             "#9c179e"
            ],
            [
             0.4444444444444444,
             "#bd3786"
            ],
            [
             0.5555555555555556,
             "#d8576b"
            ],
            [
             0.6666666666666666,
             "#ed7953"
            ],
            [
             0.7777777777777778,
             "#fb9f3a"
            ],
            [
             0.8888888888888888,
             "#fdca26"
            ],
            [
             1,
             "#f0f921"
            ]
           ],
           "sequentialminus": [
            [
             0,
             "#0d0887"
            ],
            [
             0.1111111111111111,
             "#46039f"
            ],
            [
             0.2222222222222222,
             "#7201a8"
            ],
            [
             0.3333333333333333,
             "#9c179e"
            ],
            [
             0.4444444444444444,
             "#bd3786"
            ],
            [
             0.5555555555555556,
             "#d8576b"
            ],
            [
             0.6666666666666666,
             "#ed7953"
            ],
            [
             0.7777777777777778,
             "#fb9f3a"
            ],
            [
             0.8888888888888888,
             "#fdca26"
            ],
            [
             1,
             "#f0f921"
            ]
           ]
          },
          "colorway": [
           "#636efa",
           "#EF553B",
           "#00cc96",
           "#ab63fa",
           "#FFA15A",
           "#19d3f3",
           "#FF6692",
           "#B6E880",
           "#FF97FF",
           "#FECB52"
          ],
          "font": {
           "color": "#2a3f5f"
          },
          "geo": {
           "bgcolor": "white",
           "lakecolor": "white",
           "landcolor": "#E5ECF6",
           "showlakes": true,
           "showland": true,
           "subunitcolor": "white"
          },
          "hoverlabel": {
           "align": "left"
          },
          "hovermode": "closest",
          "mapbox": {
           "style": "light"
          },
          "paper_bgcolor": "white",
          "plot_bgcolor": "#E5ECF6",
          "polar": {
           "angularaxis": {
            "gridcolor": "white",
            "linecolor": "white",
            "ticks": ""
           },
           "bgcolor": "#E5ECF6",
           "radialaxis": {
            "gridcolor": "white",
            "linecolor": "white",
            "ticks": ""
           }
          },
          "scene": {
           "xaxis": {
            "backgroundcolor": "#E5ECF6",
            "gridcolor": "white",
            "gridwidth": 2,
            "linecolor": "white",
            "showbackground": true,
            "ticks": "",
            "zerolinecolor": "white"
           },
           "yaxis": {
            "backgroundcolor": "#E5ECF6",
            "gridcolor": "white",
            "gridwidth": 2,
            "linecolor": "white",
            "showbackground": true,
            "ticks": "",
            "zerolinecolor": "white"
           },
           "zaxis": {
            "backgroundcolor": "#E5ECF6",
            "gridcolor": "white",
            "gridwidth": 2,
            "linecolor": "white",
            "showbackground": true,
            "ticks": "",
            "zerolinecolor": "white"
           }
          },
          "shapedefaults": {
           "line": {
            "color": "#2a3f5f"
           }
          },
          "ternary": {
           "aaxis": {
            "gridcolor": "white",
            "linecolor": "white",
            "ticks": ""
           },
           "baxis": {
            "gridcolor": "white",
            "linecolor": "white",
            "ticks": ""
           },
           "bgcolor": "#E5ECF6",
           "caxis": {
            "gridcolor": "white",
            "linecolor": "white",
            "ticks": ""
           }
          },
          "title": {
           "x": 0.05
          },
          "xaxis": {
           "automargin": true,
           "gridcolor": "white",
           "linecolor": "white",
           "ticks": "",
           "title": {
            "standoff": 15
           },
           "zerolinecolor": "white",
           "zerolinewidth": 2
          },
          "yaxis": {
           "automargin": true,
           "gridcolor": "white",
           "linecolor": "white",
           "ticks": "",
           "title": {
            "standoff": 15
           },
           "zerolinecolor": "white",
           "zerolinewidth": 2
          }
         }
        },
        "title": {
         "text": "Top biased words"
        },
        "width": 800,
        "xaxis": {
         "anchor": "y",
         "domain": [
          0,
          1
         ],
         "title": {
          "text": "score"
         }
        },
        "yaxis": {
         "anchor": "x",
         "domain": [
          0,
          1
         ],
         "title": {
          "text": "word"
         }
        }
       }
      }
     },
     "metadata": {},
     "output_type": "display_data"
    }
   ],
   "source": [
    "df_names_white.centralized_similarity_score=df_names_white.centralized_similarity_score.astype('float64')\n",
    "df_names_white.simple_bias_score = df_names_white.simple_bias_score.astype(\n",
    "    'float64')\n",
    "df_names_white.rename(columns={'centralized_similarity_score': 'original_similarity', 'simple_bias_score':'similarity_in _debiased'}, inplace=True)\n",
    "plot_top_biased_words(df_names_white, n_words=50)\n"
   ]
  },
  {
   "cell_type": "code",
   "execution_count": 97,
   "metadata": {},
   "outputs": [],
   "source": [
    "from operator import itemgetter\n",
    "#function to get the most biased words in dict_vec_cleaned rated my similarity to the bias direction\n",
    "\n",
    "\n",
    "def get_most_biased_words_similarity(similarity, n_words=500):\n",
    "    #get the absolute values of the similarity values\n",
    "    similarity = {word: sim for word, sim in similarity.items()}\n",
    "    #sort the similarity values\n",
    "    sorted_similarity = sorted(\n",
    "        similarity.items(), key=itemgetter(1), reverse=True)\n",
    "    biased_words = [word for word, bias in sorted_similarity[:n_words]]\n",
    "    biased_words2 = [word for word, bias in sorted_similarity[-n_words:]]\n",
    "    neutral_words = [word for word, bias in sorted_similarity[n_words:-n_words]]\n",
    "    return biased_words, biased_words2, neutral_words\n"
   ]
  },
  {
   "cell_type": "code",
   "execution_count": 98,
   "metadata": {},
   "outputs": [],
   "source": [
    "biased_words, biased_words2, neutral_words = get_most_biased_words_similarity(\n",
    "    similarity, n_words=500)\n"
   ]
  },
  {
   "cell_type": "code",
   "execution_count": 100,
   "metadata": {},
   "outputs": [],
   "source": [
    "deb_biased_words, deb_biased_words2, deb_neutral_words = get_most_biased_words_similarity(\n",
    "    deb_similarity, n_words=500)"
   ]
  },
  {
   "cell_type": "code",
   "execution_count": 105,
   "metadata": {},
   "outputs": [
    {
     "data": {
      "text/plain": [
       "['tavistock',\n",
       " 'bomans',\n",
       " 'bouphavanh',\n",
       " 'vimto',\n",
       " 'norn',\n",
       " 'otoe',\n",
       " 'derdiyok',\n",
       " 'minica',\n",
       " 'accountings',\n",
       " 'aqmd',\n",
       " 'memorie',\n",
       " 'tauter',\n",
       " 'lutosławski',\n",
       " 'discua',\n",
       " 'equerry',\n",
       " 'kleanthis',\n",
       " 'netto',\n",
       " 'skripal',\n",
       " 'kettling',\n",
       " 'seiff',\n",
       " 'eustatic',\n",
       " 'unnamable',\n",
       " 'juwanna',\n",
       " 'windisch',\n",
       " 'lyles',\n",
       " 'inveighed',\n",
       " 'epenthetic',\n",
       " 'abaz',\n",
       " 'mělník',\n",
       " 'schottland',\n",
       " 'steiff',\n",
       " 'sampoorna',\n",
       " 'desams',\n",
       " 'vechten',\n",
       " 'polytechnical',\n",
       " 'bielenberg',\n",
       " 'clément',\n",
       " 'myanmese',\n",
       " 'zongquan',\n",
       " 'wickenden',\n",
       " 'jeannine',\n",
       " 'sujud',\n",
       " 'sheeler',\n",
       " 'nicoline',\n",
       " 'deild',\n",
       " 'chonju',\n",
       " 'lodgepole',\n",
       " 'ebbets',\n",
       " 'bassinas',\n",
       " 'telemark',\n",
       " 'shiren',\n",
       " 'establecer',\n",
       " 'lachaise',\n",
       " 'levitow',\n",
       " 'dossi',\n",
       " 'volksbühne',\n",
       " 'malmoe',\n",
       " 'kinabatangan',\n",
       " 'witherspoon',\n",
       " 'ucbh',\n",
       " 'remixer',\n",
       " 'csv',\n",
       " 'scummvm',\n",
       " 'montgomeryshire',\n",
       " 'rowlings',\n",
       " 'interviewers',\n",
       " 'kahsh',\n",
       " 'ramic',\n",
       " 'sheneman',\n",
       " 'zuhdi',\n",
       " 'hurndall',\n",
       " 'fahrholz',\n",
       " 'smeekens',\n",
       " 'kumud',\n",
       " 'brunzell',\n",
       " 'sollefteå',\n",
       " 'daemonite',\n",
       " 'capitonidae',\n",
       " 'klaa',\n",
       " 'collocation',\n",
       " 'novena',\n",
       " 'praecox',\n",
       " 'phichai',\n",
       " 'sahuarita',\n",
       " 'jimbaran',\n",
       " 'synthesiser',\n",
       " 'guaranties',\n",
       " 'qaderi',\n",
       " 'hargeisa',\n",
       " 'dring',\n",
       " 'blayne',\n",
       " 'maunier',\n",
       " 'comprimario',\n",
       " 'hastens',\n",
       " 'lieutenent',\n",
       " 'bucerotidae',\n",
       " 'chapoutier',\n",
       " 'phac',\n",
       " 'ploiesti',\n",
       " 'pheomelanin',\n",
       " 'herbin',\n",
       " 'suzerain',\n",
       " 'lorine',\n",
       " 'ballena',\n",
       " 'earflaps',\n",
       " 'soeoth',\n",
       " 'puzzlement',\n",
       " 'monogyna',\n",
       " 'amoureux',\n",
       " 'bartolotta',\n",
       " 'stambha',\n",
       " 'schneur',\n",
       " 'wolter',\n",
       " 'rakhal',\n",
       " 'chandrapala',\n",
       " 'gursel',\n",
       " 'mccallan',\n",
       " 'pmtct',\n",
       " 'iais',\n",
       " 'arambula',\n",
       " 'llaneza',\n",
       " 'gittis',\n",
       " 'nereus',\n",
       " 'wolpoff',\n",
       " 'yubileinaya',\n",
       " 'kuka',\n",
       " 'zurfi',\n",
       " 'ujc',\n",
       " 'uzumaki',\n",
       " 'gcos',\n",
       " 'narcolepsy',\n",
       " 'loic',\n",
       " 'yusmeiro',\n",
       " 'luro',\n",
       " 'niezabitowska',\n",
       " 'atorres',\n",
       " 'akkad',\n",
       " 'wangari',\n",
       " 'sanilac',\n",
       " 'wegener',\n",
       " 'banales',\n",
       " 'restructurings',\n",
       " 'herpoel',\n",
       " 'procyon',\n",
       " 'limacina',\n",
       " 'postdated',\n",
       " 'postoperative',\n",
       " 'gildon',\n",
       " 'mennonites',\n",
       " 'linemate',\n",
       " 'kamandi',\n",
       " 'lianga',\n",
       " 'rebooked',\n",
       " 'smirk',\n",
       " 'flowerbed',\n",
       " 'vatia',\n",
       " 'laraque',\n",
       " 'arzuaga',\n",
       " 'hemostatic',\n",
       " 'asiasec',\n",
       " 'naqba',\n",
       " 'zetkin',\n",
       " 'theorizing',\n",
       " 'phoebus',\n",
       " 'ojukwu',\n",
       " 'nassariidae',\n",
       " 'bsfc',\n",
       " 'marfatia',\n",
       " 'mayol',\n",
       " 'lausitzer',\n",
       " 'porthleven',\n",
       " 'bristols',\n",
       " 'ricchiuto',\n",
       " 'edwy',\n",
       " 'relicensing',\n",
       " 'jayaratne',\n",
       " 'workrate',\n",
       " 'roubaud',\n",
       " 'táin',\n",
       " 'trenčín',\n",
       " 'wigton',\n",
       " 'mutase',\n",
       " 'insilco',\n",
       " 'minetta',\n",
       " 'swineherd',\n",
       " 'carnback',\n",
       " 'budiharjo',\n",
       " 'undrawn',\n",
       " 'bayram',\n",
       " 'celanese',\n",
       " 'chynów',\n",
       " 'plagiarize',\n",
       " 'opta',\n",
       " 'tramped',\n",
       " 'narcoleptic',\n",
       " 'bookending',\n",
       " 'funda',\n",
       " 'gießen',\n",
       " 'sülze',\n",
       " 'bessus',\n",
       " 'euboea',\n",
       " 'digitigrade',\n",
       " 'atractivo',\n",
       " 'monteverdi',\n",
       " 'venison',\n",
       " 'balick',\n",
       " 'xiangtan',\n",
       " 'minturn',\n",
       " 'dza',\n",
       " 'krongard',\n",
       " 'scholastics',\n",
       " 'lanfranco',\n",
       " 'kargozaran',\n",
       " 'andhrapradesh',\n",
       " 'pegleg',\n",
       " 'belyi',\n",
       " 'akwaaba',\n",
       " 'adonijah',\n",
       " 'tobis',\n",
       " 'gral',\n",
       " 'evergood',\n",
       " 'watercourse',\n",
       " 'carner',\n",
       " 'aquilo',\n",
       " 'samashky',\n",
       " 'puffleg',\n",
       " 'socratis',\n",
       " 'radusa',\n",
       " 'amortized',\n",
       " 'imperatriz',\n",
       " 'rizer',\n",
       " 'sölvi',\n",
       " 'vyksa',\n",
       " 'hidenobu',\n",
       " 'wemmer',\n",
       " 'romancer',\n",
       " 'coffield',\n",
       " 'cornouaille',\n",
       " 'omd',\n",
       " 'ringmasters',\n",
       " 'anthonioz',\n",
       " 'monroney',\n",
       " 'brakel',\n",
       " 'mowlana',\n",
       " 'o’keeffe',\n",
       " 'kalmen',\n",
       " 'burdines',\n",
       " 'hktdc',\n",
       " 'napolioni',\n",
       " 'śląsk',\n",
       " 'byamugisha',\n",
       " 'druzes',\n",
       " 'stroock',\n",
       " 'chumba',\n",
       " 'oviparous',\n",
       " 'atid',\n",
       " 'blasdel',\n",
       " 'prepay',\n",
       " 'crisscrosses',\n",
       " 'wust',\n",
       " 'dragster',\n",
       " 'desperadoes',\n",
       " 'birote',\n",
       " 'transcribes',\n",
       " 'spacelike',\n",
       " 'disgracefully',\n",
       " 'pirouetted',\n",
       " 'leukopenia',\n",
       " 'zafaryab',\n",
       " 'rupnarayan',\n",
       " 'kierkegaard',\n",
       " 'cumbum',\n",
       " 'koyunlu',\n",
       " 'hassayampa',\n",
       " 'peniston',\n",
       " 'drydocking',\n",
       " 'peroxidases',\n",
       " 'nikolova',\n",
       " 'kunte',\n",
       " 'amiens',\n",
       " 'thất',\n",
       " 'grevenmacher',\n",
       " 'kindermann',\n",
       " 'fortieth',\n",
       " 'mesker',\n",
       " 'gso',\n",
       " 'bjt',\n",
       " 'rushden',\n",
       " 'dignitatum',\n",
       " 'vails',\n",
       " 'documentarians',\n",
       " 'kamille',\n",
       " 'arges',\n",
       " 'masao',\n",
       " 'kadzik',\n",
       " 'memeber',\n",
       " 'rappaccini',\n",
       " 'coey',\n",
       " 'cholesky',\n",
       " 'dentzel',\n",
       " 'evaristo',\n",
       " 'sasl',\n",
       " 'amoria',\n",
       " 'lishi',\n",
       " 'scheungraber',\n",
       " 'xpw',\n",
       " 'chitalu',\n",
       " 'motorail',\n",
       " 'maia',\n",
       " 'izzedine',\n",
       " 'saroyan',\n",
       " 'despotovski',\n",
       " 'magen',\n",
       " 'cyco',\n",
       " 'cottonelle',\n",
       " 'towser',\n",
       " 'anganwadi',\n",
       " 'verhagen',\n",
       " 'jarc',\n",
       " 'udoto',\n",
       " 'stainforth',\n",
       " 'wurm',\n",
       " 'auxier',\n",
       " 'bathsheba',\n",
       " 'bando',\n",
       " 'renovator',\n",
       " 'grieb',\n",
       " 'wesendonck',\n",
       " 'mooca',\n",
       " 'khazanah',\n",
       " 'citytrust',\n",
       " 'abdic',\n",
       " 'naborsind',\n",
       " 'oriskany',\n",
       " 'mtech',\n",
       " 'cannelton',\n",
       " 'ejnar',\n",
       " 'serendip',\n",
       " 'seikaly',\n",
       " 'fcic',\n",
       " 'mogilevich',\n",
       " 'hatty',\n",
       " 'substorms',\n",
       " 'manbazar',\n",
       " 'romberg',\n",
       " 'olivio',\n",
       " 'reposting',\n",
       " 'dreamweaver',\n",
       " 'hagadone',\n",
       " 'ås',\n",
       " 'kandiyohi',\n",
       " 'paterfamilias',\n",
       " 'kipushi',\n",
       " 'laureano',\n",
       " 'babeldaob',\n",
       " 'scarecrows',\n",
       " 'kirstenbosch',\n",
       " 'breitenthal',\n",
       " 'matoian',\n",
       " 'bản',\n",
       " 'radiolarians',\n",
       " 'rdr',\n",
       " 'bpg',\n",
       " 'lnah',\n",
       " 'godino',\n",
       " 'hikma',\n",
       " 'gerritsz',\n",
       " 'quarreled',\n",
       " 'thun',\n",
       " 'vasconcelos',\n",
       " 'kaziranga',\n",
       " 'tooms',\n",
       " 'muntemba',\n",
       " 'calleja',\n",
       " 'turbie',\n",
       " 'cxb',\n",
       " 'bearable',\n",
       " 'panevezys',\n",
       " 'discoursing',\n",
       " 'piteous',\n",
       " 'revlimid',\n",
       " 'gamber',\n",
       " 'carbombing',\n",
       " 'sabogal',\n",
       " 'pyridostigmine',\n",
       " 'salka',\n",
       " 'mashghara',\n",
       " 'ozanian',\n",
       " 'asako',\n",
       " 'necker',\n",
       " 'perungudi',\n",
       " 'postville',\n",
       " 'asiaticos',\n",
       " 'gfr',\n",
       " 'morilov',\n",
       " 'osler',\n",
       " 'sharman',\n",
       " 'ayvalık',\n",
       " 'deodorants',\n",
       " 'wuzong',\n",
       " 'worths',\n",
       " 'wegelin',\n",
       " 'carminati',\n",
       " 'polska',\n",
       " 'joli',\n",
       " 'matsutake',\n",
       " 'habibur',\n",
       " 'transcode',\n",
       " 'kulob',\n",
       " 'norrbottens',\n",
       " 'kannberg',\n",
       " 'madrone',\n",
       " 'mohiudin',\n",
       " 'waszak',\n",
       " 'touchups',\n",
       " 'sasi',\n",
       " 'stereographic',\n",
       " 'wlne',\n",
       " 'cks',\n",
       " 'unroll',\n",
       " 'prb',\n",
       " 'gadzhiyev',\n",
       " 'chosŏn',\n",
       " 'mahasiddhas',\n",
       " 'huascarán',\n",
       " 'sylvite',\n",
       " 'stell',\n",
       " 'sissy',\n",
       " 'cyberpunk',\n",
       " 'catinat',\n",
       " 'feelies',\n",
       " 'coulby',\n",
       " 'hasmonean',\n",
       " 'ellahi',\n",
       " 'subtasks',\n",
       " 'disgorges',\n",
       " 'splaine',\n",
       " 'tylenol',\n",
       " 'stridently',\n",
       " 'repasky',\n",
       " 'mirelson',\n",
       " 'sancti',\n",
       " 'palmettos',\n",
       " 'blonay',\n",
       " 'burgstaller',\n",
       " 'respun',\n",
       " 'batavi',\n",
       " 'shumlin',\n",
       " 'kaitlyn',\n",
       " 'zackheim',\n",
       " 'heydrich',\n",
       " 'whiteout',\n",
       " 'neuenfels',\n",
       " 'morus',\n",
       " 'contaminations',\n",
       " 'regulary',\n",
       " 'pillco',\n",
       " 'gulli',\n",
       " 'xle',\n",
       " 'copulations',\n",
       " 'ione',\n",
       " 'muindi',\n",
       " 'wyszogród',\n",
       " 'tsomet',\n",
       " 'seigal',\n",
       " 'radiotelevizija',\n",
       " 'notturno',\n",
       " 'beitunya',\n",
       " 'blotting',\n",
       " 'nannetti',\n",
       " 'masar',\n",
       " 'carabiners',\n",
       " 'paunescu',\n",
       " 'mirjan',\n",
       " 'wallenpaupack',\n",
       " 'gartin',\n",
       " 'quetiapine',\n",
       " 'murbach',\n",
       " 'peptic',\n",
       " 'bücker',\n",
       " 'tugs',\n",
       " 'huitlacoche',\n",
       " 'womenfolk',\n",
       " 'otway',\n",
       " 'carbonaria',\n",
       " 'debuchy',\n",
       " 'bula',\n",
       " 'ogae',\n",
       " 'saliya',\n",
       " 'delin',\n",
       " 'karbis',\n",
       " 'komm',\n",
       " 'capbreton',\n",
       " 'backstabbers',\n",
       " 'castoff',\n",
       " 'driveway',\n",
       " 'anning',\n",
       " 'atrai',\n",
       " 'yasini',\n",
       " 'preannouncement',\n",
       " 'almanach',\n",
       " 'kwesi',\n",
       " 'sazanovich',\n",
       " 'tude',\n",
       " 'quarmby',\n",
       " 'crimmel',\n",
       " 'heartline',\n",
       " 'cky',\n",
       " 'pumila',\n",
       " 'dielectric',\n",
       " 'andrez',\n",
       " 'morgaon',\n",
       " 'elka',\n",
       " 'dressingroom',\n",
       " 'balzan',\n",
       " 'delicias',\n",
       " 'manyara',\n",
       " 'inácio',\n",
       " 'azkargorta',\n",
       " 'ashia',\n",
       " 'ritt',\n",
       " 'khadzhimba',\n",
       " 'cathlamet',\n",
       " 'hockenheim',\n",
       " 'cnidaria',\n",
       " 'misinterpretations',\n",
       " 'phalangists',\n",
       " 'cartones',\n",
       " 'goathland',\n",
       " 'goldenberg',\n",
       " 'driesen',\n",
       " 'hammadi',\n",
       " 'frugivorous',\n",
       " 'saussy',\n",
       " 'backerman',\n",
       " 'sprawls',\n",
       " 'cardoons',\n",
       " 'guu',\n",
       " 'd’italia',\n",
       " 'boutonniere',\n",
       " 'macaluso',\n",
       " 'onca',\n",
       " 'interpublic',\n",
       " 'optimus',\n",
       " 'gumbleton',\n",
       " 'bhel',\n",
       " 'athlétique',\n",
       " 'froberger',\n",
       " 'untv',\n",
       " 'karankawa',\n",
       " 'underwhelmed',\n",
       " 'colosimo',\n",
       " 'entheogens',\n",
       " 'kolahun',\n",
       " 'tahiliyani',\n",
       " 'shippan',\n",
       " 'refner',\n",
       " 'jowar',\n",
       " 'almaleki',\n",
       " 'petridis',\n",
       " 'bukar',\n",
       " 'odontoblasts',\n",
       " 'northman',\n",
       " 'vaananen',\n",
       " 'cowhand',\n",
       " 'betterment',\n",
       " 'micrometeoroids',\n",
       " 'cartagines',\n",
       " 'spiritedness',\n",
       " 'macys',\n",
       " 'devastators',\n",
       " 'fogleman',\n",
       " 'rakić',\n",
       " 'collectivised',\n",
       " 'gindi',\n",
       " 'cwi',\n",
       " 'louvers',\n",
       " 'amarendra',\n",
       " 'ranthambhore',\n",
       " 'yejju',\n",
       " 'infantes',\n",
       " 'homothetic',\n",
       " 'tzemach',\n",
       " 'gourley',\n",
       " 'ashy',\n",
       " 'eureko',\n",
       " 'hanauma',\n",
       " 'hiders',\n",
       " 'reanimator',\n",
       " 'kinneil',\n",
       " 'viso',\n",
       " 'duni',\n",
       " 'mannu',\n",
       " 'voxware',\n",
       " 'yamunotri',\n",
       " 'nonchalant',\n",
       " 'carduus',\n",
       " 'jodar',\n",
       " 'yaniv',\n",
       " 'satcher',\n",
       " 'vvc',\n",
       " 'toricelli',\n",
       " 'consilium',\n",
       " 'sametime',\n",
       " 'adell',\n",
       " 'protocal',\n",
       " 'crosswhite',\n",
       " 'piously',\n",
       " 'celestials',\n",
       " 'hafslund',\n",
       " 'hermina',\n",
       " 'torchitorio',\n",
       " 'obfuscated',\n",
       " 'witthaus',\n",
       " 'postulating',\n",
       " 'mischke',\n",
       " 'maktab',\n",
       " 'złotniki',\n",
       " 'anúna',\n",
       " 'kieckhefer',\n",
       " 'niittymaki',\n",
       " 'fabrigas',\n",
       " 'filarski',\n",
       " 'guajira',\n",
       " 'largie',\n",
       " 'ploetz',\n",
       " 'utla',\n",
       " 'unawares',\n",
       " 'hendardi',\n",
       " 'coalgate',\n",
       " 'tropicalia',\n",
       " 'commandery',\n",
       " 'trihatmojo',\n",
       " 'acquistions',\n",
       " 'hariharpur',\n",
       " 'starye',\n",
       " 'talvela',\n",
       " 'abjar',\n",
       " 'backhanded',\n",
       " 'richilde',\n",
       " 'assitance',\n",
       " 'magique',\n",
       " 'beart',\n",
       " 'muscovite',\n",
       " 'rautavaara',\n",
       " 'escueta',\n",
       " 'artiodactyls',\n",
       " 'vashistha',\n",
       " 'spoofing',\n",
       " 'codons',\n",
       " 'njn',\n",
       " 'noes',\n",
       " 'whoops',\n",
       " 'psig',\n",
       " 'aahp',\n",
       " 'terroristic',\n",
       " 'rottman',\n",
       " 'sandwicense',\n",
       " 'volkstheater',\n",
       " 'turia',\n",
       " 'trimmel',\n",
       " 'departamentos',\n",
       " 'plasminogen',\n",
       " 'kral',\n",
       " 'faghih',\n",
       " 'plevris',\n",
       " 'beaulieu',\n",
       " 'peotone',\n",
       " 'miah',\n",
       " 'musick',\n",
       " 'phủ',\n",
       " 'schenkel',\n",
       " 'yuengling',\n",
       " 'linzy',\n",
       " 'mescheloff',\n",
       " 'cryptonomicon',\n",
       " 'aal',\n",
       " 'marielle',\n",
       " 'conrado',\n",
       " 'actros',\n",
       " 'hardhearted',\n",
       " 'hayel',\n",
       " 'kranji',\n",
       " 'mounsey',\n",
       " 'phycor',\n",
       " 'jovenes',\n",
       " 'keleti',\n",
       " 'neurogenesis',\n",
       " 'alexanderplatz',\n",
       " 'dillinger',\n",
       " 'justiniana',\n",
       " 'gendler',\n",
       " 'quandry',\n",
       " 'odrowąż',\n",
       " 'skynet',\n",
       " 'wienerwald',\n",
       " 'viharn',\n",
       " 'boulkheir',\n",
       " 'verdad',\n",
       " 'cadmus',\n",
       " 'pacoima',\n",
       " 'okine',\n",
       " 'murigande',\n",
       " 'paternally',\n",
       " 'bronchiolitis',\n",
       " 'tirard',\n",
       " 'cva',\n",
       " 'thrips',\n",
       " 'declaraciones',\n",
       " 'selskab',\n",
       " 'muqdadiya',\n",
       " 'commey',\n",
       " 'loathes',\n",
       " 'velar',\n",
       " 'melanson',\n",
       " 'völsunga',\n",
       " 'gatecrashed',\n",
       " 'dravidians',\n",
       " 'gulfstreams',\n",
       " 'localizing',\n",
       " 'kampungs',\n",
       " 'hiraga',\n",
       " 'fabrique',\n",
       " 'kfs',\n",
       " 'montour',\n",
       " 'europlace',\n",
       " 'ismaïlia',\n",
       " 'atomics',\n",
       " 'cameronians',\n",
       " 'belozersk',\n",
       " 'hebra',\n",
       " 'bonaqa',\n",
       " 'conaculta',\n",
       " 'bhikkhu',\n",
       " 'hachi',\n",
       " 'frescati',\n",
       " 'yut',\n",
       " 'mastitis',\n",
       " 'smx',\n",
       " 'helvetia',\n",
       " 'pranoto',\n",
       " 'arleigh',\n",
       " 'tienes',\n",
       " 'mangalam',\n",
       " 'waln',\n",
       " 'radii',\n",
       " 'investigaciones',\n",
       " 'ylki',\n",
       " 'soledons',\n",
       " 'hian',\n",
       " 'tubbataha',\n",
       " 'narodowa',\n",
       " 'panglima',\n",
       " 'saxbe',\n",
       " 'castera',\n",
       " 'pimlott',\n",
       " 'unrefueled',\n",
       " 'piroplasmosis',\n",
       " 'eschatological',\n",
       " 'jegou',\n",
       " 'toxicant',\n",
       " 'bor',\n",
       " 'hippodamia',\n",
       " 'beckles',\n",
       " 'tunb',\n",
       " 'crosshouse',\n",
       " 'gevorgyan',\n",
       " 'wissenschaftliche',\n",
       " 'ndongou',\n",
       " 'insomniacs',\n",
       " 'gaffigan',\n",
       " 'billett',\n",
       " 'novkovic',\n",
       " 'naddaff',\n",
       " 'spadafora',\n",
       " 'zadig',\n",
       " 'hesterberg',\n",
       " 'qū',\n",
       " 'tieck',\n",
       " 'eleutheria',\n",
       " 'sanpete',\n",
       " 'tammer',\n",
       " 'ocasion',\n",
       " 'spackle',\n",
       " 'buvaysa',\n",
       " 'pyrazinamide',\n",
       " 'tourville',\n",
       " 'wadsworth',\n",
       " 'nadiri',\n",
       " 'kolobkov',\n",
       " 'arcana',\n",
       " 'orcl',\n",
       " 'pacifier',\n",
       " 'demoratic',\n",
       " 'topsport',\n",
       " 'gessner',\n",
       " 'queensferry',\n",
       " 'anoma',\n",
       " 'alandi',\n",
       " 'beom',\n",
       " 'deeded',\n",
       " 'talboys',\n",
       " 'ilu',\n",
       " 'conry',\n",
       " 'merrihew',\n",
       " 'omanthai',\n",
       " 'appadurai',\n",
       " 'orkin',\n",
       " 'stragglers',\n",
       " 'prouteau',\n",
       " 'afula',\n",
       " 'rezulin',\n",
       " 'tragicomedies',\n",
       " 'antiquus',\n",
       " 'baskett',\n",
       " 'shahida',\n",
       " 'creche',\n",
       " 'pizjuan',\n",
       " 'hermione',\n",
       " 'chifney',\n",
       " 'grainge',\n",
       " 'zani',\n",
       " 'chunkin',\n",
       " 'brainwashed',\n",
       " 'nmsp',\n",
       " 'photomultiplier',\n",
       " 'trysting',\n",
       " 'concluye',\n",
       " 'szentendre',\n",
       " 'balurghat',\n",
       " 'viviers',\n",
       " 'denotified',\n",
       " 'heylyn',\n",
       " 'skopelitis',\n",
       " 'ledo',\n",
       " 'tritle',\n",
       " 'netherne',\n",
       " 'cofferdams',\n",
       " 'ombati',\n",
       " 'ballerinas',\n",
       " 'conversano',\n",
       " 'żelechlinek',\n",
       " 'pompeo',\n",
       " 'shamim',\n",
       " 'fairytales',\n",
       " 'eliseo',\n",
       " 'galbally',\n",
       " 'bardoczky',\n",
       " 'luridly',\n",
       " 'croche',\n",
       " 'dalbello',\n",
       " 'shorthaul',\n",
       " 'cynder',\n",
       " 'akbayan',\n",
       " 'zubayr',\n",
       " 'knoch',\n",
       " 'goodbar',\n",
       " 'maalik',\n",
       " 'deoxygenation',\n",
       " 'eliška',\n",
       " 'lycee',\n",
       " 'tox',\n",
       " 'manulis',\n",
       " 'neij',\n",
       " 'dharmendra',\n",
       " 'hanxin',\n",
       " 'heathcoat',\n",
       " 'breading',\n",
       " 'avara',\n",
       " 'kunbi',\n",
       " 'wallichiana',\n",
       " 'zetter',\n",
       " 'yalahow',\n",
       " 'tootsie',\n",
       " 'larks',\n",
       " 'parity',\n",
       " 'harenberg',\n",
       " 'piccio',\n",
       " 'hershel',\n",
       " 'shafter',\n",
       " 'libellus',\n",
       " 'otmuchów',\n",
       " 'strömgren',\n",
       " 'perimeters',\n",
       " 'cee',\n",
       " 'lyght',\n",
       " 'folktale',\n",
       " 'soulsby',\n",
       " 'wcp',\n",
       " 'twyman',\n",
       " 'joumana',\n",
       " 'contrives',\n",
       " 'ricciarelli',\n",
       " 'korvus',\n",
       " 'gigant',\n",
       " 'vogels',\n",
       " 'parseval',\n",
       " 'amidror',\n",
       " 'ilieva',\n",
       " 'lamari',\n",
       " 'sămănătorul',\n",
       " 'giresun',\n",
       " 'homely',\n",
       " 'prescriber',\n",
       " 'peschiera',\n",
       " 'annik',\n",
       " 'gasse',\n",
       " 'interconnectedness',\n",
       " 'périgord',\n",
       " 'yolen',\n",
       " 'klubi',\n",
       " 'surakiat',\n",
       " 'nowshehra',\n",
       " 'wjb',\n",
       " 'cluniac',\n",
       " 'daß',\n",
       " 'affric',\n",
       " 'sabol',\n",
       " 'nastos',\n",
       " 'appraisers',\n",
       " 'annexe',\n",
       " 'otlk',\n",
       " 'scoutmasters',\n",
       " 'konstantine',\n",
       " 'duve',\n",
       " 'evaluative',\n",
       " 'snored',\n",
       " 'köfte',\n",
       " 'shontelle',\n",
       " 'skanska',\n",
       " 'mundell',\n",
       " 'obsolescent',\n",
       " 'bonfoh',\n",
       " 'exaggeratedly',\n",
       " 'haryono',\n",
       " 'deposes',\n",
       " 'i̇znik',\n",
       " 'lázně',\n",
       " 'zhidong',\n",
       " 'vikram',\n",
       " 'warioware',\n",
       " 'sugisaki',\n",
       " 'trini',\n",
       " 'manipulable',\n",
       " 'zhanybek',\n",
       " 'lesk',\n",
       " 'sariñana',\n",
       " 'zephaniah',\n",
       " 'ohe',\n",
       " 'tsoumeleka',\n",
       " 'só',\n",
       " 'bitawi',\n",
       " 'tissaphernes',\n",
       " 'sfs',\n",
       " 'høst',\n",
       " 'zinin',\n",
       " 'courtrai',\n",
       " 'kaizen',\n",
       " 'kabab',\n",
       " 'ashigaru',\n",
       " 'botox',\n",
       " 'surveillante',\n",
       " 'degerfors',\n",
       " 'mande',\n",
       " 'flexuosa',\n",
       " 'brzeźnio',\n",
       " 'zalmai',\n",
       " 'magoni',\n",
       " 'fromstein',\n",
       " 'desislava',\n",
       " 'acomb',\n",
       " 'sedins',\n",
       " 'zbrojovka',\n",
       " 'rajai',\n",
       " 'nicha',\n",
       " 'muser',\n",
       " 'muscovado',\n",
       " 'wnbl',\n",
       " 'triticum',\n",
       " 'antártica',\n",
       " 'colisee',\n",
       " 'byakuya',\n",
       " 'hidajet',\n",
       " 'michaelian',\n",
       " 'pilu',\n",
       " 'pilarz',\n",
       " 'straßenbahn',\n",
       " 'isobars',\n",
       " 'jishuitan',\n",
       " 'dräger',\n",
       " 'kilmister',\n",
       " 'vliegen',\n",
       " 'nasar',\n",
       " 'schagrin',\n",
       " 'lovera',\n",
       " 'caffi',\n",
       " 'arrangments',\n",
       " 'alpesh',\n",
       " 'tochinowaka',\n",
       " 'pusey',\n",
       " ...]"
      ]
     },
     "execution_count": 105,
     "metadata": {},
     "output_type": "execute_result"
    }
   ],
   "source": [
    "deb_neutral_words\n"
   ]
  },
  {
   "cell_type": "code",
   "execution_count": 18,
   "metadata": {},
   "outputs": [],
   "source": [
    "from operator import itemgetter\n",
    "#function to get the most biased words in dict_vec_cleaned rated my similarity to the bias direction\n",
    "\n",
    "\n",
    "def get_most_biased_words_similarity(similarity, n_words=2500):\n",
    "    #get the absolute values of the similarity values\n",
    "    similarity = {word: abs(sim) for word, sim in similarity.items()}\n",
    "    #sort the similarity values\n",
    "    sorted_similarity = sorted(\n",
    "        similarity.items(), key=itemgetter(1), reverse=True)\n",
    "    biased_words = [word for word, bias in sorted_similarity[:n_words*2]]\n",
    "    neutral_words = [word for word, bias in sorted_similarity[-n_words:]]\n",
    "    return biased_words, neutral_words\n",
    "\n",
    "\n",
    "#count how many female_words_emb and male_words_emb are in the biased_words\n",
    "def count_gendered_words_in_most_biased(female_words, male_words, biased_words):\n",
    "    count_female=0\n",
    "    count_male=0\n",
    "    data={}\n",
    "    for word in set(female_words):\n",
    "        if word in set(biased_words):\n",
    "            count_female+=1\n",
    "\n",
    "    for word in set(male_words):\n",
    "        if word in set(biased_words):\n",
    "            count_male+=1\n",
    "    \n",
    "    data.update({'count_female': count_female, 'proportion_female': count_female/len(female_words),\n",
    "                     'count_male': count_male, 'proportion_male': count_male/len(male_words)})\n",
    "    return data"
   ]
  },
  {
   "cell_type": "code",
   "execution_count": 20,
   "metadata": {},
   "outputs": [],
   "source": [
    "biased_words, neutral_words=get_most_biased_words_similarity(similarity_centralized, n_words=40000)"
   ]
  },
  {
   "cell_type": "code",
   "execution_count": null,
   "metadata": {},
   "outputs": [],
   "source": [
    "count_gendered_words_in_most_biased(female_words_emb, male_words_emb, biased_words)\n"
   ]
  },
  {
   "cell_type": "code",
   "execution_count": null,
   "metadata": {},
   "outputs": [],
   "source": [
    "biased_words_centralized, neutral_words_centralized=get_most_biased_words_similarity(similarity_centralized, n_words=40000)\n",
    "count_gendered_words_in_most_biased(female_words_emb, male_words_emb, biased_words_centralized)"
   ]
  },
  {
   "cell_type": "code",
   "execution_count": null,
   "metadata": {},
   "outputs": [],
   "source": [
    "_, _, female_simple, male_simple, _ = utils.getting_biased_words(\n",
    "    simple_gender_bias, def_sets['gender'], 40000, word2idx)\n",
    "\n",
    "count_gendered_words_in_most_biased(female_words_emb, male_words_emb,female_simple+male_simple )"
   ]
  },
  {
   "attachments": {},
   "cell_type": "markdown",
   "metadata": {},
   "source": [
    "#### Now let's plot the results"
   ]
  },
  {
   "cell_type": "code",
   "execution_count": null,
   "metadata": {},
   "outputs": [],
   "source": [
    "#turn the similarity scores into a dataframe to find the 20 words with the highest similarity score\n",
    "df_similarity=pd.DataFrame.from_dict(similarity, orient='index')\n",
    "df_similarity=df_similarity.rename(columns={0: 'similarity_score'})\n",
    "df_similarity.sort_values(by=['similarity_score'], ascending=False, inplace=True)\n",
    "df_similarity_male=df_similarity.head(20)\n",
    "df_similarity_female=df_similarity.tail(20)\n",
    "\n",
    "print('Top biased words according to the similarity score:',biased_words[:20])\n",
    "\n",
    "#turn the centralized similarity scores into a dataframe to find the 20 words with the highest similarity score\n",
    "df_similarity_centralized=pd.DataFrame.from_dict(similarity_centralized, orient='index')\n",
    "df_similarity_centralized=df_similarity_centralized.rename(columns={0: 'similarity_score'})\n",
    "df_similarity_centralized.sort_values(by=['similarity_score'], ascending=False, inplace=True)\n",
    "df_centralized_female= df_similarity_centralized.head(20)\n",
    "df_centralized_male=df_similarity_centralized.tail(20)\n",
    "\n",
    "print('Top biased words according to the centralized similarity score:',biased_words_centralized[:20])\n",
    "\n",
    "#simple_biased = {word: abs(sim) for word, sim in simple_gender_bias.items()}\n",
    "df_simple_bias = pd.DataFrame.from_dict(simple_gender_bias, orient='index')\n",
    "df_simple_bias=df_simple_bias.rename(columns={0: 'simple_bias_score'})\n",
    "df_simple_bias.sort_values(by=['simple_bias_score'], ascending=False, inplace=True)\n",
    "df_simple_fem=df_simple_bias.head(20)\n",
    "df_simple_masc=df_simple_bias.tail(20)\n",
    "print('Top biased words simple_score', list(df_simple_bias.head(10).index)+list(df_simple_bias.tail(10).index))\n",
    "\n"
   ]
  },
  {
   "cell_type": "code",
   "execution_count": null,
   "metadata": {},
   "outputs": [],
   "source": [
    "df_centralized_male\n"
   ]
  },
  {
   "cell_type": "code",
   "execution_count": null,
   "metadata": {},
   "outputs": [],
   "source": [
    "#get a histogram of the similarity.values()\n",
    "import matplotlib.pyplot as plt\n",
    "import pandas as pd\n",
    "import numpy as np\n",
    "\n",
    "def plot_histogram(similarity, title):\n",
    "    plt.hist(similarity.values())\n",
    "    plt.title(title)\n",
    "    plt.show()"
   ]
  },
  {
   "cell_type": "code",
   "execution_count": null,
   "metadata": {},
   "outputs": [],
   "source": [
    "plot_histogram(similarity, 'Histogram of similarity values')"
   ]
  },
  {
   "cell_type": "code",
   "execution_count": null,
   "metadata": {},
   "outputs": [],
   "source": [
    "plot_histogram(similarity_centralized, 'Histogram of centralized similarity values')\n"
   ]
  },
  {
   "cell_type": "code",
   "execution_count": null,
   "metadata": {},
   "outputs": [],
   "source": [
    "plot_histogram(simple_gender_bias, 'Histogram of simple gender bias values')\n"
   ]
  },
  {
   "cell_type": "code",
   "execution_count": null,
   "metadata": {},
   "outputs": [],
   "source": [
    "#get the words in similirity that have values 0\n",
    "def get_words_with_value_zero(similarity):\n",
    "    words=[]\n",
    "    for word in similarity.keys():\n",
    "        if np.allclose(similarity[word],0.5):\n",
    "            words.append(word)\n",
    "    return words"
   ]
  },
  {
   "cell_type": "code",
   "execution_count": null,
   "metadata": {},
   "outputs": [],
   "source": [
    "get_words_with_value_zero(similarity)"
   ]
  },
  {
   "cell_type": "code",
   "execution_count": 17,
   "metadata": {},
   "outputs": [
    {
     "data": {
      "text/plain": [
       "('contemporary', 0.657694681563497)"
      ]
     },
     "execution_count": 17,
     "metadata": {},
     "output_type": "execute_result"
    }
   ],
   "source": [
    "from Scripts.Evaluation import get_term_analogies\n",
    "get_term_analogies(dict_vec_cleaned, \"white\", \"classical\", \"black\", include_triplet=False)"
   ]
  },
  {
   "cell_type": "code",
   "execution_count": 18,
   "metadata": {},
   "outputs": [
    {
     "data": {
      "text/plain": [
       "('hindustani', 0.48948406497736247)"
      ]
     },
     "execution_count": 18,
     "metadata": {},
     "output_type": "execute_result"
    }
   ],
   "source": [
    "from Scripts.Evaluation import get_term_analogies\n",
    "get_term_analogies(dict_vec_cleaned, \"european\", \"classical\", \"african\", include_triplet=False)"
   ]
  },
  {
   "attachments": {},
   "cell_type": "markdown",
   "metadata": {},
   "source": [
    "EMBEDDINGS DESCRIPTIVES"
   ]
  },
  {
   "cell_type": "code",
   "execution_count": null,
   "metadata": {},
   "outputs": [],
   "source": [
    "w2c = dict()\n",
    "for item in model.wv.vocab:\n",
    "    w2c[item]=model.wv.vocab[item].count"
   ]
  },
  {
   "cell_type": "code",
   "execution_count": null,
   "metadata": {},
   "outputs": [],
   "source": [
    "w2cSorted=dict(sorted(w2c.items(), key=lambda x: x[1],reverse=True))"
   ]
  }
 ],
 "metadata": {
  "kernelspec": {
   "display_name": ".venv",
   "language": "python",
   "name": "python3"
  },
  "language_info": {
   "codemirror_mode": {
    "name": "ipython",
    "version": 3
   },
   "file_extension": ".py",
   "mimetype": "text/x-python",
   "name": "python",
   "nbconvert_exporter": "python",
   "pygments_lexer": "ipython3",
   "version": "3.10.10"
  },
  "orig_nbformat": 4
 },
 "nbformat": 4,
 "nbformat_minor": 2
}
