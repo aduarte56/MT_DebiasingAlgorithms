{
 "cells": [
  {
   "cell_type": "code",
   "execution_count": 1,
   "metadata": {},
   "outputs": [],
   "source": [
    "import codecs\n",
    "import json\n",
    "import numpy as np\n",
    "import sklearn"
   ]
  },
  {
   "cell_type": "code",
   "execution_count": 2,
   "metadata": {},
   "outputs": [],
   "source": [
    "from Scripts.ProcessingEmbeddings import *\n",
    "import Scripts.utils as utils"
   ]
  },
  {
   "cell_type": "code",
   "execution_count": 3,
   "metadata": {},
   "outputs": [
    {
     "name": "stdout",
     "output_type": "stream",
     "text": [
      "Loading Data/glove-wiki-gigaword-300.txt embeddings\n",
      "vectors shape: (400000, 300), word2idx length: 400000, vocab length: 400000\n"
     ]
    }
   ],
   "source": [
    "#Creating an embeddings object: 400k words, 50 dimensions\n",
    "glove=Embeddings('Data/glove-wiki-gigaword-300.txt', gensim=False)\n",
    "#word2vec=Embeddings('Data/word2vec-google-news-300.txt', gensim=False)"
   ]
  },
  {
   "cell_type": "code",
   "execution_count": 4,
   "metadata": {},
   "outputs": [
    {
     "name": "stdout",
     "output_type": "stream",
     "text": [
      "['the', ',', '.', 'of', 'to', 'and', 'in', 'a', '\"', \"'s\", 'for', '-', 'that', 'on', 'is', 'was', 'said', 'with', 'he', 'as']\n",
      "vectors shape (400000, 300)\n",
      "Missing values in vectors? False\n"
     ]
    }
   ],
   "source": [
    "# From the embeddings object, get the vectors, the word2idx dictionary, the vocab list, and the dict_vectors dictionary\n",
    "# Because the gensim embeddings carry no information on the file, we need to use the built-in function from gensim to get the vocab in descending frequency.\n",
    "glove.model.sort_by_descending_frequency()\n",
    "vectors = glove.vectors\n",
    "word2idx = glove.word2idx\n",
    "vocab = glove.words\n",
    "dict_vectors = glove.get_word_vector_dict()\n",
    "\n",
    "#print the first 20 words in the vocab\n",
    "print(vocab[:20])\n",
    "\n",
    "#Print the shape of the vectors\n",
    "print(\"vectors shape\", vectors.shape)\n",
    "\n",
    "#Print a boolean to check if there are any NaNs in the vectors\n",
    "print(\"Missing values in vectors?\", np.isnan(vectors).any())\n"
   ]
  },
  {
   "cell_type": "code",
   "execution_count": 5,
   "metadata": {},
   "outputs": [
    {
     "name": "stderr",
     "output_type": "stream",
     "text": [
      "100%|██████████| 400000/400000 [00:00<00:00, 628418.99it/s]\n"
     ]
    },
    {
     "name": "stdout",
     "output_type": "stream",
     "text": [
      "Size of limited vocabulary: 327185\n"
     ]
    }
   ],
   "source": [
    "# Cleaning the vocabulary from pounctuation and numbers\n",
    "vocab_cleaned, vectors_cleaned, word2idx_cleaned, dict_vec_cleaned = glove.limit_vocab(\n",
    "    vectors, word2idx, vocab)\n"
   ]
  },
  {
   "attachments": {},
   "cell_type": "markdown",
   "metadata": {},
   "source": [
    "## Hard-Debias Algorithm"
   ]
  },
  {
   "attachments": {},
   "cell_type": "markdown",
   "metadata": {},
   "source": [
    "#### Preliminaries"
   ]
  },
  {
   "cell_type": "code",
   "execution_count": 6,
   "metadata": {},
   "outputs": [],
   "source": [
    "from Scripts.HardDebias import *"
   ]
  },
  {
   "cell_type": "code",
   "execution_count": 7,
   "metadata": {},
   "outputs": [],
   "source": [
    "#Getting the definitional sets to calculate afterwards the gender direction. The first 10 gender sets were proposed by Bolukbasi et al. (2016)\n",
    "#Definitional sets for race where proposed by Manzini et al. in Multiclass debiasing of embeddings: https://github.com/TManzini/DebiasMulticlassWordEmbedding/blob/master/Debiasing/data/vocab/race_attributes_optm.json\n",
    "\n",
    "def_sets = {\n",
    "    \"gender\": [\n",
    "        ['she', 'he'], ['herself', 'himself'],\n",
    "        ['her', 'his'], ['daughter', 'son'], ['girl', 'boy'],\n",
    "        ['mother', 'father'], ['woman', 'man'], ['mary', 'john'],\n",
    "        ['gal', 'guy'], ['female', 'male'], ['aunt', 'uncle']],\n",
    "\n",
    "    \"race\": [\n",
    "        [\"black\", \"caucasian\", \"asian\", \"hispanic\"],\n",
    "      \t\t[\"african\", \"caucasian\", \"asian\", \"hispanic\"],\n",
    "      \t\t[\"black\", \"white\", \"asian\", \"latino\"],\n",
    "      \t\t[\"africa\", \"europe\", \"asia\", \"mexico\"],\n",
    "      \t\t[\"africa\", \"america\", \"china\", \"latin-america\"],\n",
    "    ]\n",
    "}\n",
    "\n",
    "#Equalizing pairs for gender debiasing were first published by Bolukbasi et al. in https://github.com/tolga-b/debiaswe/blob/master/data/equalize_pairs.json\n",
    "# Equalizing sets for race where defined by Manzini as equal to the defining set (Manzini et al., 2019.p.3)\n",
    "equalizing_lists = {\n",
    "    \"gender\": [\n",
    "        [\"monastery\", \"convent\"], [\"spokesman\", \"spokeswoman\"],\n",
    "        [\"Catholic_priest\", \"nun\"], [\"Dad\", \"Mom\"], [\"Men\", \"Women\"],\n",
    "        [\"councilman\", \"councilwoman\"], [\"grandpa\", \"grandma\"],\n",
    "        [\"grandsons\", \"granddaughters\"], [\"prostate_cancer\", \"ovarian_cancer\"],\n",
    "        [\"testosterone\", \"estrogen\"], [\"uncle\", \"aunt\"],\n",
    "        [\"wives\", \"husbands\"], [\"Father\", \"Mother\"], [\"Grandpa\", \"Grandma\"],\n",
    "        [\"He\", \"She\"], [\"boy\", \"girl\"], [\n",
    "            \"boys\", \"girls\"], [\"brother\", \"sister\"],\n",
    "        [\"brothers\", \"sisters\"], [\"businessman\", \"businesswoman\"],\n",
    "        [\"chairman\", \"chairwoman\"], [\"colt\", \"filly\"], [\n",
    "            \"congressman\", \"congresswoman\"],\n",
    "        [\"dad\", \"mom\"], [\"dads\", \"moms\"], [\"dudes\", \"gals\"],\n",
    "        [\"ex_girlfriend\", \"ex_boyfriend\"], [\"father\", \"mother\"],\n",
    "        [\"fatherhood\", \"motherhood\"], [\"fathers\", \"mothers\"], [\"fella\", \"granny\"],\n",
    "        [\"fraternity\", \"sorority\"], [\"gelding\", \"mare\"], [\"gentleman\", \"lady\"],\n",
    "        [\"gentlemen\", \"ladies\"], [\"grandfather\", \"grandmother\"],\n",
    "        [\"grandson\", \"granddaughter\"], [\"he\", \"she\"], [\"himself\", \"herself\"],\n",
    "        [\"his\", \"her\"], [\"king\", \"queen\"], [\"kings\", \"queens\"],\n",
    "        [\"male\", \"female\"], [\"males\", \"females\"], [\"man\", \"woman\"],\n",
    "        [\"men\", \"women\"], [\"nephew\", \"niece\"], [\"prince\", \"princess\"],\n",
    "        [\"schoolboy\", \"schoolgirl\"], [\"son\", \"daughter\"], [\"sons\", \"daughters\"],\n",
    "        [\"twin_brother\", \"twin_sister\"]]}\n",
    "\n",
    "#Words taken from Wang et al. to enrich the equalizing pairs\n",
    "female_vocab = ['countrywoman',  'witches',  'maidservant',  'mothers',  'diva',  'actress',  'spinster',  'mama',  'duchesses',  'countrywomen',  'hostesses',  'suitors',  'menopause',  'clitoris',  'princess',  'governesses',  'abbess',  'women',  'widow',  'ladies',  'sorceresses',  'madam',  'brides',  'baroness',  'niece',  'widows',  'lady',  'sister',  'brides',  'nun',  'obstetrics',  'her',  'marchioness',  'princesses',  'empresses',  'mare',  'chairwoman',  'convent',  'priestesses',  'girlhood',  'ladies',  'queen',  'gals',  'mommies',  'maid',  'spokeswoman',  'seamstress',  'cowgirls',  'chick',  'spinsters',  'empress',  'mommy',  'gals',  'enchantress',  'gal',  'motherhood',  'estrogen',  'godmother',  'strongwoman',  'goddess',  'matriarch',  'aunt',  'chairwomen',  'maam',\n",
    "                'sisterhood',  'hostess',  'estradiol',  'wife',  'mom',  'stewardess',  'females',  'spokeswomen',  'ma',  'belle',  'minx',  'maiden',  'witch',  'miss',  'nieces',  'mothered',  'cow',  'belles',  'granddaughter',  'fiancees',  'stepmothers',  'grandmothers',  'schoolgirl',  'hen',  'granddaughters',  'bachelorette',  'camerawoman',  'moms',  'her',  'mistress',  'lass',  'policewoman',  'nun',  'actresses',  'saleswomen',  'girlfriend',  'councilwoman',  'lady',  'stateswoman',  'maternal',  'lass',  'landlady',  'ladies',  'wenches',  'sorority',  'duchess',  'ballerina',  'chicks',  'fiancee',  'fillies',  'wives',  'she',  'businesswoman',  'masseuses',  'heroine',  'doe',  'girlfriends',  'queens',  'sisters',  'stepmother',  'daughter',  'cowgirl',  'daughters',  'mezzo',\n",
    "                'saleswoman',  'mistress',  'nuns',  'headmistresses',  'lasses',  'congresswoman',  'housewife',  'priestess',  'abbesses',  'toque',  'sororities',  'stewardesses',  'filly',  'czarina',  'stepdaughters',  'herself',  'girls',  'lionesses',  'lady',  'vagina',  'hers',  'masseuse',  'cows',  'aunts',  'wench',  'toques',  'wife',  'lioness',  'sorceress',  'mother',  'lesbians',  'female',  'waitresses',  'ovum',  'ovary',  'stepdaughter',  'businesswomen',  'heiress',  'waitress',  'headmistress',  'woman',  'governess',  'bride',  'grandma',  'bride',  'gal',  'lesbian',  'ladies',  'girl',  'grandmother',  'mare',  'hens',  'nuns',  'maidservants',  'heroines']\n",
    "male_vocab = ['countryman',  'wizards',  'manservant',  'fathers',  'divo',  'actor',  'bachelor',  'papa',  'dukes',  'countrymen',  'hosts',  'airmen',  'andropause',  'penis',  'prince',  'governors',  'abbot',  'men',  'widower',  'gentlemen',  'sorcerers',  'sir',  'bridegrooms',  'baron',  'nephew',  'widowers',  'lord',  'brother',  'grooms',  'priest',  'andrology',  'his',  'marquis',  'princes',  'emperors',  'stallion',  'chairman',  'monastery',  'priests',  'boyhood',  'fellas',  'king',  'dudes',  'daddies',  'manservant',  'spokesman',  'tailor',  'cowboys',  'dude',  'bachelors',  'emperor',  'daddy',  'guys',  'enchanter',  'guy',  'fatherhood',\n",
    "              'androgen',  'godfather',  'strongman',  'god',  'patriarch',  'uncle',  'chairmen',  'sir',  'brotherhood',  'host',  'testosterone',  'husband',  'dad',  'steward',  'males',  'spokesmen',  'pa',  'beau',  'stud',  'bachelor',  'wizard',  'sir',  'nephews',  'fathered',  'bull',  'beaus',  'grandson',  'fiances',  'stepfathers',  'grandfathers',  'schoolboy',  'rooster',  'grandsons',  'bachelor',  'cameraman',  'dads',  'him',  'master',  'lad',  'policeman',  'monk',  'actors',  'salesmen',  'boyfriend',  'councilman',  'fella',  'statesman',  'paternal',  'chap',  'landlord',  'lords',  'blokes',  'fraternity',  'duke',  'dancer',  'dudes',  'fiance',\n",
    "              'colts',  'husbands',  'he',  'businessman',  'masseurs',  'hero',  'deer',  'boyfriends',  'kings',  'brothers',  'stepfather',  'son',  'cowboy',  'sons',  'baritone',  'salesman',  'paramour',  'monks',  'headmasters',  'lads',  'congressman',  'househusband',  'priest',  'abbots',  'beard',  'fraternities',  'stewards',  'colt',  'czar',  'stepsons',  'himself',  'boys',  'lions',  'gentleman',  'penis',  'his',  'masseur',  'bulls',  'uncles',  'bloke',  'beards',  'hubby',  'lion',  'sorcerer',  'father',  'gays',  'male',  'waiters',  'sperm',  'prostate',  'stepson',  'businessmen',  'heir',  'waiter',  'headmaster',  'man',  'governor',  'bridegroom',\n",
    "              'grandpa',  'groom',  'dude',  'gay',  'gents',  'boy',  'grandfather',  'gelding',  'roosters',  'priests',  'busboy',  'heros']\n",
    "\n",
    "#added the gendered pairs to the equalizing list (equalizing_lists['gender'] if the pairs are not there already\n",
    "gendered_pairs = list(zip(male_vocab, female_vocab))\n",
    "list_pairs = [\n",
    "    tuple for tuple in gendered_pairs if tuple not in equalizing_lists['gender']]\n",
    "equalizing_lists['gender'] = equalizing_lists['gender']+list_pairs\n",
    "\n",
    "#Some of the words were taken from the analogies' templates from Cheng and Manzini.\n",
    "#The list is not the same, however, because some of the words were not neutral, but carried some\n",
    "#relation to the social categories.\n",
    "neutral_words = [\"manager\", \"executive\", \"doctor\", \"lawyer\", \"programmer\",\n",
    "                 \"scientist\", \"soldier\", \"supervisor\", \"rancher\", \"janitor\",\n",
    "                 \"firefighter\", \"officer\", \"secretary\", \"nurse\", \"clerk\", \"artist\",\n",
    "                 \"homemaker\", \"dancer\", \"singer\", \"librarian\", \"maid\", \"hairdresser\", \"stylist\",\n",
    "                 \"receptionist\", \"counselor\", \"leader\", \"farmer\",\n",
    "                 \"engineer\", \"laborer\", \"teacher\",\n",
    "                 \"slave\", \"musician\", \"runner\", \"criminal\", \"homeless\",\n",
    "                 \"greedy\", \"cheap\", \"hairy\", \"liberal\",\n",
    "                 \"judgemental\", \"conservative\", \"familial\",\n",
    "                 \"violent\", \"terrorist\", \"dirty\", \"uneducated\", \"educated\"]\n",
    "\n",
    "\n",
    "#However, also the vocabulary without the gendered words from the list can be conceived as neutral, according to Bolukbasi et al.\n"
   ]
  },
  {
   "cell_type": "code",
   "execution_count": 8,
   "metadata": {},
   "outputs": [],
   "source": [
    "#Lists of names for validation\n",
    "#Adapted from Speer's tutorial on racism in sentiment analysis. http://blog.conceptnet.io/posts/2017/how-to-make-a-racist-ai-without-really-trying/\n",
    "names_ethnicity = {\n",
    "    # The first two lists are from the Caliskan et al. appendix describing the\n",
    "    # Word Embedding Association Test.\n",
    "    'White': [\n",
    "        'Adam', 'Chip', 'Harry', 'Josh', 'Roger', 'Alan', 'Frank', 'Ian', 'Justin',\n",
    "        'Ryan', 'Andrew', 'Fred', 'Jack', 'Matthew', 'Stephen', 'Brad', 'Greg', 'Jed',\n",
    "        'Paul', 'Todd', 'Brandon', 'Hank', 'Jonathan', 'Peter', 'Wilbur', 'Amanda',\n",
    "        'Courtney', 'Heather', 'Melanie', 'Sara', 'Amber', 'Crystal', 'Katie',\n",
    "        'Meredith', 'Shannon', 'Betsy', 'Donna', 'Kristin', 'Nancy', 'Stephanie',\n",
    "        'Bobbie-Sue', 'Ellen', 'Lauren', 'Peggy', 'Sue-Ellen', 'Colleen', 'Emily',\n",
    "        'Megan', 'Rachel', 'Wendy'\n",
    "    ],\n",
    "\n",
    "    'Black': [\n",
    "        'Alonzo', 'Jamel', 'Jamal', 'Lerone', 'Percell', 'Theo', 'Alphonse', 'Jerome',\n",
    "        'Leroy', 'Rasaan', 'Torrance', 'Darnell', 'Lamar', 'Lionel', 'Rashaun',\n",
    "        'Tyree', 'Deion', 'Lamont', 'Malik', 'Terrence', 'Tyrone', 'Everol',\n",
    "        'Lavon', 'Marcellus', 'Terryl', 'Wardell', 'Aiesha', 'Lashelle', 'Nichelle',\n",
    "        'Shereen', 'Temeka', 'Ebony', 'Latisha', 'Shaniqua', 'Tameisha', 'Teretha',\n",
    "        'Jasmine', 'Latonya', 'Shanise', 'Tanisha', 'Tia', 'Lakisha', 'Latoya',\n",
    "        'Sharise', 'Tashika', 'Yolanda', 'Lashandra', 'Malika', 'Shavonn',\n",
    "        'Tawanda', 'Yvette'\n",
    "    ],\n",
    "    \n",
    "    # This list comes from statistics about common Hispanic-origin names in the US.\n",
    "    'Hispanic': [\n",
    "        'Juan', 'José', 'Miguel', 'Luís', 'Jorge', 'Santiago', 'Matías', 'Sebastián',\n",
    "        'Mateo', 'Nicolás', 'Alejandro', 'Samuel', 'Diego', 'Daniel', 'Tomás',\n",
    "        'Juana', 'Ana', 'Luisa', 'María', 'Elena', 'Sofía', 'Isabella', 'Valentina',\n",
    "        'Camila', 'Valeria', 'Ximena', 'Luciana', 'Mariana', 'Victoria', 'Martina'\n",
    "    ],\n",
    "    \n",
    "   \n",
    "}\n",
    "#Following Bolukbasi et al. Implementing notebook: https://github.com/tolga-b/debiaswe/blob/master/tutorial_example1.ipynb\n",
    "names = [\"Emily\", \"Aisha\", \"Anne\", \"Keisha\", \"Jill\", \"Tamika\", \"Allison\", \"Lakisha\", \"Laurie\", \"Tanisha\", \"Sarah\",\n",
    "         \"Latoya\", \"Meredith\", \"Kenya\", \"Carrie\", \"Latonya\", \"Kristen\", \"Ebony\", \"Todd\", \"Rasheed\", \"Neil\", \"Tremayne\",\n",
    "         \"Geoffrey\", \"Kareem\", \"Brett\", \"Darnell\", \"Brendan\", \"Tyrone\", \"Greg\", \"Hakim\", \"Matthew\", \"Jamal\", \"Jay\",\n",
    "         \"Leroy\", \"Brad\", \"Jermaine\"]\n",
    "#names_group1 = [names[2 * i] for i in range(len(names) // 2)]\n",
    "#names_group2 = [names[2 * i + 1] for i in range(len(names) // 2)]\n",
    "\n"
   ]
  },
  {
   "cell_type": "code",
   "execution_count": 9,
   "metadata": {},
   "outputs": [],
   "source": [
    "#Preparing the definite sets for debiasing\n",
    "def_set_gender=utils.prepare_def_sets_subspace(def_sets[\"gender\"])\n",
    "def_set_race=utils.prepare_def_sets_subspace(def_sets[\"race\"])"
   ]
  },
  {
   "cell_type": "code",
   "execution_count": 10,
   "metadata": {},
   "outputs": [
    {
     "name": "stdout",
     "output_type": "stream",
     "text": [
      "Length of vectors set: 22\n",
      "Running PCA with 1 components\n"
     ]
    }
   ],
   "source": [
    "deb_vect_gender, deb_vocab_gender, deb_word2idx_gender, deb_dict_gender = hard_debias(vectors,\n",
    "                                                                                      dict_vectors,\n",
    "                                                                                      word2idx_cleaned,\n",
    "                                                                                      vocab_cleaned,\n",
    "                                                                                      equalizing_lists['gender'],\n",
    "                                                                                      def_set_gender,\n",
    "                                                                                      1,\n",
    "                                                                                      normalize_dir=False,\n",
    "                                                                                      normalize=None,\n",
    "                                                                                      centralizing=True)\n"
   ]
  },
  {
   "attachments": {},
   "cell_type": "markdown",
   "metadata": {},
   "source": [
    "## Intersectionality study\n",
    "Bias is not binary nor one dimensional, if clusters are shuffled, what is the effect of the shuffling on other social classes? Is there a way to measure it?"
   ]
  },
  {
   "cell_type": "code",
   "execution_count": 11,
   "metadata": {},
   "outputs": [
    {
     "name": "stdout",
     "output_type": "stream",
     "text": [
      "Number of female words in embeddings: 182\n",
      "Number of male words in embeddings: 183\n"
     ]
    }
   ],
   "source": [
    "#Find the words in the female_vocab that are also in the embeddings\n",
    "female_words_emb=[word for word in female_vocab if word in dict_vec_cleaned.keys()]\n",
    "male_words_emb = [word for word in male_vocab if word in dict_vec_cleaned.keys()]\n",
    "\n",
    "print('Number of female words in embeddings:', len(female_words_emb))\n",
    "print('Number of male words in embeddings:', len(male_words_emb))\n"
   ]
  },
  {
   "cell_type": "code",
   "execution_count": 12,
   "metadata": {},
   "outputs": [
    {
     "name": "stdout",
     "output_type": "stream",
     "text": [
      "Number of white names in embeddings: 48\n",
      "Number of black names in embeddings: 39\n",
      "Number of hispanic names in embeddings: 30\n"
     ]
    }
   ],
   "source": [
    "#Find the words in the female_vocab that are also in the embeddings\n",
    "names_white_emb = [\n",
    "    word.lower() for word in names_ethnicity['White'] if word.lower() in dict_vec_cleaned.keys()]\n",
    "names_black_emb = [\n",
    "    word.lower() for word in names_ethnicity['Black'] if word.lower() in dict_vec_cleaned.keys()]\n",
    "\n",
    "names_hispanic_emb = [\n",
    "    word.lower() for word in names_ethnicity['Hispanic'] if word.lower() in dict_vec_cleaned.keys()]\n",
    "\n",
    "\n",
    "print('Number of white names in embeddings:', len(names_white_emb))\n",
    "print('Number of black names in embeddings:', len(names_black_emb))\n",
    "print('Number of hispanic names in embeddings:', len(names_hispanic_emb))\n",
    "\n"
   ]
  },
  {
   "cell_type": "code",
   "execution_count": 13,
   "metadata": {},
   "outputs": [
    {
     "name": "stdout",
     "output_type": "stream",
     "text": [
      "Length of vectors set: 22\n",
      "Running PCA with 1 components\n"
     ]
    }
   ],
   "source": [
    "#getting the gender directions\n",
    "gen_dir_centralized=identify_bias_subspace(dict_vec_cleaned, def_set_gender, 1, centralizing=True)\n",
    "#flattening them\n",
    "gen_dir_centralized_flat=np.squeeze(gen_dir_centralized)\n"
   ]
  },
  {
   "cell_type": "code",
   "execution_count": 14,
   "metadata": {},
   "outputs": [],
   "source": [
    "from Scripts.Evaluation import compute_gender_simple_bias, compute_similarity_to_bias_direction\n",
    "similarity_centralized=compute_similarity_to_bias_direction(dict_vec_cleaned, gen_dir_centralized_flat)\n",
    "simple_gender_bias=compute_gender_simple_bias(dict_vec_cleaned, dict_vec_cleaned['he'], dict_vec_cleaned['she'])\n",
    "deb_similarity_centralized=compute_similarity_to_bias_direction(deb_dict_gender, gen_dir_centralized_flat)\n",
    "deb_simple_gender_bias=compute_gender_simple_bias(deb_dict_gender, deb_dict_gender['he'], deb_dict_gender['she'])"
   ]
  },
  {
   "cell_type": "code",
   "execution_count": 15,
   "metadata": {},
   "outputs": [],
   "source": [
    "import pandas as pd\n",
    "#get a dataframe with the bias scores of the female_words_emb and male_words_emb in the similarity, similarity_centralized and simple_gender_bias\n",
    "\n",
    "\n",
    "def get_df_bias_scores(word_list, similarity_centralized, simple_bias_score):\n",
    "    scores = {}\n",
    "    for word in word_list:\n",
    "        scores[word] = {\"centralized_similarity_score\": (similarity_centralized[word]),\n",
    "                        \"simple_bias_score\": simple_bias_score[word]}\n",
    "    df = pd.DataFrame.from_dict(scores, orient='index')\n",
    "    return df\n"
   ]
  },
  {
   "cell_type": "code",
   "execution_count": 16,
   "metadata": {},
   "outputs": [
    {
     "data": {
      "text/html": [
       "<div>\n",
       "<style scoped>\n",
       "    .dataframe tbody tr th:only-of-type {\n",
       "        vertical-align: middle;\n",
       "    }\n",
       "\n",
       "    .dataframe tbody tr th {\n",
       "        vertical-align: top;\n",
       "    }\n",
       "\n",
       "    .dataframe thead th {\n",
       "        text-align: right;\n",
       "    }\n",
       "</style>\n",
       "<table border=\"1\" class=\"dataframe\">\n",
       "  <thead>\n",
       "    <tr style=\"text-align: right;\">\n",
       "      <th></th>\n",
       "      <th>centralized_similarity_score_orig</th>\n",
       "      <th>simple_bias_score_orig</th>\n",
       "      <th>centralized_similarity_score_deb</th>\n",
       "      <th>simple_bias_score_deb</th>\n",
       "    </tr>\n",
       "  </thead>\n",
       "  <tbody>\n",
       "    <tr>\n",
       "      <th>adam</th>\n",
       "      <td>-0.185898</td>\n",
       "      <td>-0.094373</td>\n",
       "      <td>-1.402362e-07</td>\n",
       "      <td>-1.493309e-09</td>\n",
       "    </tr>\n",
       "    <tr>\n",
       "      <th>chip</th>\n",
       "      <td>-0.044571</td>\n",
       "      <td>-0.020428</td>\n",
       "      <td>-7.884275e-08</td>\n",
       "      <td>-5.179480e-09</td>\n",
       "    </tr>\n",
       "    <tr>\n",
       "      <th>harry</th>\n",
       "      <td>-0.071752</td>\n",
       "      <td>0.006493</td>\n",
       "      <td>-1.990548e-07</td>\n",
       "      <td>-3.913110e-09</td>\n",
       "    </tr>\n",
       "    <tr>\n",
       "      <th>josh</th>\n",
       "      <td>-0.096062</td>\n",
       "      <td>-0.014186</td>\n",
       "      <td>-1.646718e-07</td>\n",
       "      <td>-6.410092e-09</td>\n",
       "    </tr>\n",
       "    <tr>\n",
       "      <th>roger</th>\n",
       "      <td>-0.231225</td>\n",
       "      <td>-0.110803</td>\n",
       "      <td>-1.328456e-07</td>\n",
       "      <td>-7.128524e-09</td>\n",
       "    </tr>\n",
       "    <tr>\n",
       "      <th>alan</th>\n",
       "      <td>-0.129366</td>\n",
       "      <td>-0.048589</td>\n",
       "      <td>-9.871449e-08</td>\n",
       "      <td>-5.221612e-09</td>\n",
       "    </tr>\n",
       "    <tr>\n",
       "      <th>frank</th>\n",
       "      <td>-0.176201</td>\n",
       "      <td>-0.068455</td>\n",
       "      <td>-8.353230e-09</td>\n",
       "      <td>-1.151710e-09</td>\n",
       "    </tr>\n",
       "    <tr>\n",
       "      <th>ian</th>\n",
       "      <td>-0.137793</td>\n",
       "      <td>-0.049633</td>\n",
       "      <td>-2.072702e-08</td>\n",
       "      <td>-1.013679e-08</td>\n",
       "    </tr>\n",
       "    <tr>\n",
       "      <th>justin</th>\n",
       "      <td>-0.122327</td>\n",
       "      <td>-0.019525</td>\n",
       "      <td>-1.249698e-07</td>\n",
       "      <td>5.482692e-09</td>\n",
       "    </tr>\n",
       "    <tr>\n",
       "      <th>ryan</th>\n",
       "      <td>-0.077191</td>\n",
       "      <td>-0.017689</td>\n",
       "      <td>-1.789196e-07</td>\n",
       "      <td>-1.025711e-08</td>\n",
       "    </tr>\n",
       "    <tr>\n",
       "      <th>andrew</th>\n",
       "      <td>-0.189930</td>\n",
       "      <td>-0.096075</td>\n",
       "      <td>-1.035642e-07</td>\n",
       "      <td>-4.218563e-09</td>\n",
       "    </tr>\n",
       "    <tr>\n",
       "      <th>fred</th>\n",
       "      <td>-0.122691</td>\n",
       "      <td>-0.041800</td>\n",
       "      <td>-2.583231e-08</td>\n",
       "      <td>-4.867957e-09</td>\n",
       "    </tr>\n",
       "    <tr>\n",
       "      <th>jack</th>\n",
       "      <td>-0.121273</td>\n",
       "      <td>-0.035740</td>\n",
       "      <td>-2.188569e-07</td>\n",
       "      <td>1.016055e-08</td>\n",
       "    </tr>\n",
       "    <tr>\n",
       "      <th>matthew</th>\n",
       "      <td>-0.110362</td>\n",
       "      <td>-0.020964</td>\n",
       "      <td>-6.771748e-09</td>\n",
       "      <td>-1.272975e-08</td>\n",
       "    </tr>\n",
       "    <tr>\n",
       "      <th>stephen</th>\n",
       "      <td>-0.214726</td>\n",
       "      <td>-0.100459</td>\n",
       "      <td>-1.457580e-07</td>\n",
       "      <td>-6.677130e-10</td>\n",
       "    </tr>\n",
       "    <tr>\n",
       "      <th>brad</th>\n",
       "      <td>-0.130284</td>\n",
       "      <td>-0.053200</td>\n",
       "      <td>-9.253428e-08</td>\n",
       "      <td>-6.253110e-09</td>\n",
       "    </tr>\n",
       "    <tr>\n",
       "      <th>greg</th>\n",
       "      <td>-0.194453</td>\n",
       "      <td>-0.074344</td>\n",
       "      <td>-9.030311e-08</td>\n",
       "      <td>1.738048e-09</td>\n",
       "    </tr>\n",
       "    <tr>\n",
       "      <th>jed</th>\n",
       "      <td>-0.041211</td>\n",
       "      <td>-0.021692</td>\n",
       "      <td>1.731052e-08</td>\n",
       "      <td>4.695826e-09</td>\n",
       "    </tr>\n",
       "    <tr>\n",
       "      <th>paul</th>\n",
       "      <td>-0.227191</td>\n",
       "      <td>-0.113225</td>\n",
       "      <td>-1.457010e-07</td>\n",
       "      <td>-5.188165e-09</td>\n",
       "    </tr>\n",
       "    <tr>\n",
       "      <th>todd</th>\n",
       "      <td>-0.059653</td>\n",
       "      <td>0.017310</td>\n",
       "      <td>-1.232821e-07</td>\n",
       "      <td>4.494275e-09</td>\n",
       "    </tr>\n",
       "    <tr>\n",
       "      <th>brandon</th>\n",
       "      <td>-0.070875</td>\n",
       "      <td>-0.022180</td>\n",
       "      <td>-8.625165e-08</td>\n",
       "      <td>2.554458e-09</td>\n",
       "    </tr>\n",
       "    <tr>\n",
       "      <th>hank</th>\n",
       "      <td>-0.087281</td>\n",
       "      <td>-0.035888</td>\n",
       "      <td>-4.827150e-08</td>\n",
       "      <td>-1.666936e-08</td>\n",
       "    </tr>\n",
       "    <tr>\n",
       "      <th>jonathan</th>\n",
       "      <td>-0.126644</td>\n",
       "      <td>-0.042783</td>\n",
       "      <td>-1.856979e-07</td>\n",
       "      <td>-8.397771e-09</td>\n",
       "    </tr>\n",
       "    <tr>\n",
       "      <th>peter</th>\n",
       "      <td>-0.216297</td>\n",
       "      <td>-0.090993</td>\n",
       "      <td>-5.452508e-08</td>\n",
       "      <td>-7.865946e-09</td>\n",
       "    </tr>\n",
       "    <tr>\n",
       "      <th>wilbur</th>\n",
       "      <td>0.021999</td>\n",
       "      <td>0.063743</td>\n",
       "      <td>7.655740e-08</td>\n",
       "      <td>-4.224204e-10</td>\n",
       "    </tr>\n",
       "    <tr>\n",
       "      <th>amanda</th>\n",
       "      <td>0.284590</td>\n",
       "      <td>0.250297</td>\n",
       "      <td>4.488301e-08</td>\n",
       "      <td>-1.183238e-08</td>\n",
       "    </tr>\n",
       "    <tr>\n",
       "      <th>courtney</th>\n",
       "      <td>0.083957</td>\n",
       "      <td>0.102521</td>\n",
       "      <td>-2.630273e-08</td>\n",
       "      <td>-5.806993e-09</td>\n",
       "    </tr>\n",
       "    <tr>\n",
       "      <th>heather</th>\n",
       "      <td>0.226251</td>\n",
       "      <td>0.193770</td>\n",
       "      <td>1.426730e-07</td>\n",
       "      <td>-6.045334e-09</td>\n",
       "    </tr>\n",
       "    <tr>\n",
       "      <th>melanie</th>\n",
       "      <td>0.285961</td>\n",
       "      <td>0.254718</td>\n",
       "      <td>-1.131128e-07</td>\n",
       "      <td>3.542574e-09</td>\n",
       "    </tr>\n",
       "    <tr>\n",
       "      <th>sara</th>\n",
       "      <td>0.267650</td>\n",
       "      <td>0.187402</td>\n",
       "      <td>-4.692363e-08</td>\n",
       "      <td>-4.116392e-09</td>\n",
       "    </tr>\n",
       "    <tr>\n",
       "      <th>amber</th>\n",
       "      <td>0.184056</td>\n",
       "      <td>0.113414</td>\n",
       "      <td>-5.691459e-08</td>\n",
       "      <td>-1.429136e-09</td>\n",
       "    </tr>\n",
       "    <tr>\n",
       "      <th>crystal</th>\n",
       "      <td>0.032055</td>\n",
       "      <td>0.022183</td>\n",
       "      <td>-2.229231e-07</td>\n",
       "      <td>-4.993375e-10</td>\n",
       "    </tr>\n",
       "    <tr>\n",
       "      <th>katie</th>\n",
       "      <td>0.266298</td>\n",
       "      <td>0.259524</td>\n",
       "      <td>-9.112436e-09</td>\n",
       "      <td>-6.032789e-09</td>\n",
       "    </tr>\n",
       "    <tr>\n",
       "      <th>meredith</th>\n",
       "      <td>0.119911</td>\n",
       "      <td>0.100545</td>\n",
       "      <td>-1.807518e-08</td>\n",
       "      <td>-5.454919e-09</td>\n",
       "    </tr>\n",
       "    <tr>\n",
       "      <th>shannon</th>\n",
       "      <td>0.069693</td>\n",
       "      <td>0.070266</td>\n",
       "      <td>-2.588014e-08</td>\n",
       "      <td>3.814843e-09</td>\n",
       "    </tr>\n",
       "    <tr>\n",
       "      <th>betsy</th>\n",
       "      <td>0.216223</td>\n",
       "      <td>0.168720</td>\n",
       "      <td>-5.097439e-08</td>\n",
       "      <td>1.531861e-08</td>\n",
       "    </tr>\n",
       "    <tr>\n",
       "      <th>donna</th>\n",
       "      <td>0.254052</td>\n",
       "      <td>0.204152</td>\n",
       "      <td>-1.775765e-07</td>\n",
       "      <td>2.971774e-09</td>\n",
       "    </tr>\n",
       "    <tr>\n",
       "      <th>kristin</th>\n",
       "      <td>0.201049</td>\n",
       "      <td>0.169462</td>\n",
       "      <td>-1.210155e-07</td>\n",
       "      <td>-4.371137e-10</td>\n",
       "    </tr>\n",
       "    <tr>\n",
       "      <th>nancy</th>\n",
       "      <td>0.230054</td>\n",
       "      <td>0.203215</td>\n",
       "      <td>-7.814555e-08</td>\n",
       "      <td>2.225409e-09</td>\n",
       "    </tr>\n",
       "    <tr>\n",
       "      <th>stephanie</th>\n",
       "      <td>0.296362</td>\n",
       "      <td>0.282828</td>\n",
       "      <td>2.044331e-08</td>\n",
       "      <td>1.189961e-08</td>\n",
       "    </tr>\n",
       "    <tr>\n",
       "      <th>ellen</th>\n",
       "      <td>0.324045</td>\n",
       "      <td>0.240541</td>\n",
       "      <td>5.981530e-08</td>\n",
       "      <td>-2.552641e-10</td>\n",
       "    </tr>\n",
       "    <tr>\n",
       "      <th>lauren</th>\n",
       "      <td>0.186109</td>\n",
       "      <td>0.212271</td>\n",
       "      <td>3.097098e-08</td>\n",
       "      <td>-2.402670e-09</td>\n",
       "    </tr>\n",
       "    <tr>\n",
       "      <th>peggy</th>\n",
       "      <td>0.231276</td>\n",
       "      <td>0.199953</td>\n",
       "      <td>-7.827369e-08</td>\n",
       "      <td>-9.629865e-12</td>\n",
       "    </tr>\n",
       "    <tr>\n",
       "      <th>colleen</th>\n",
       "      <td>0.169323</td>\n",
       "      <td>0.168880</td>\n",
       "      <td>-2.816350e-08</td>\n",
       "      <td>1.324895e-08</td>\n",
       "    </tr>\n",
       "    <tr>\n",
       "      <th>emily</th>\n",
       "      <td>0.291476</td>\n",
       "      <td>0.241137</td>\n",
       "      <td>2.760817e-08</td>\n",
       "      <td>7.268021e-10</td>\n",
       "    </tr>\n",
       "    <tr>\n",
       "      <th>megan</th>\n",
       "      <td>0.263545</td>\n",
       "      <td>0.235742</td>\n",
       "      <td>-2.497348e-08</td>\n",
       "      <td>-1.885635e-09</td>\n",
       "    </tr>\n",
       "    <tr>\n",
       "      <th>rachel</th>\n",
       "      <td>0.303697</td>\n",
       "      <td>0.259042</td>\n",
       "      <td>-1.372481e-07</td>\n",
       "      <td>4.347846e-09</td>\n",
       "    </tr>\n",
       "    <tr>\n",
       "      <th>wendy</th>\n",
       "      <td>0.186066</td>\n",
       "      <td>0.191772</td>\n",
       "      <td>3.850626e-08</td>\n",
       "      <td>-2.598158e-09</td>\n",
       "    </tr>\n",
       "  </tbody>\n",
       "</table>\n",
       "</div>"
      ],
      "text/plain": [
       "           centralized_similarity_score_orig  simple_bias_score_orig  \\\n",
       "adam                               -0.185898               -0.094373   \n",
       "chip                               -0.044571               -0.020428   \n",
       "harry                              -0.071752                0.006493   \n",
       "josh                               -0.096062               -0.014186   \n",
       "roger                              -0.231225               -0.110803   \n",
       "alan                               -0.129366               -0.048589   \n",
       "frank                              -0.176201               -0.068455   \n",
       "ian                                -0.137793               -0.049633   \n",
       "justin                             -0.122327               -0.019525   \n",
       "ryan                               -0.077191               -0.017689   \n",
       "andrew                             -0.189930               -0.096075   \n",
       "fred                               -0.122691               -0.041800   \n",
       "jack                               -0.121273               -0.035740   \n",
       "matthew                            -0.110362               -0.020964   \n",
       "stephen                            -0.214726               -0.100459   \n",
       "brad                               -0.130284               -0.053200   \n",
       "greg                               -0.194453               -0.074344   \n",
       "jed                                -0.041211               -0.021692   \n",
       "paul                               -0.227191               -0.113225   \n",
       "todd                               -0.059653                0.017310   \n",
       "brandon                            -0.070875               -0.022180   \n",
       "hank                               -0.087281               -0.035888   \n",
       "jonathan                           -0.126644               -0.042783   \n",
       "peter                              -0.216297               -0.090993   \n",
       "wilbur                              0.021999                0.063743   \n",
       "amanda                              0.284590                0.250297   \n",
       "courtney                            0.083957                0.102521   \n",
       "heather                             0.226251                0.193770   \n",
       "melanie                             0.285961                0.254718   \n",
       "sara                                0.267650                0.187402   \n",
       "amber                               0.184056                0.113414   \n",
       "crystal                             0.032055                0.022183   \n",
       "katie                               0.266298                0.259524   \n",
       "meredith                            0.119911                0.100545   \n",
       "shannon                             0.069693                0.070266   \n",
       "betsy                               0.216223                0.168720   \n",
       "donna                               0.254052                0.204152   \n",
       "kristin                             0.201049                0.169462   \n",
       "nancy                               0.230054                0.203215   \n",
       "stephanie                           0.296362                0.282828   \n",
       "ellen                               0.324045                0.240541   \n",
       "lauren                              0.186109                0.212271   \n",
       "peggy                               0.231276                0.199953   \n",
       "colleen                             0.169323                0.168880   \n",
       "emily                               0.291476                0.241137   \n",
       "megan                               0.263545                0.235742   \n",
       "rachel                              0.303697                0.259042   \n",
       "wendy                               0.186066                0.191772   \n",
       "\n",
       "           centralized_similarity_score_deb  simple_bias_score_deb  \n",
       "adam                          -1.402362e-07          -1.493309e-09  \n",
       "chip                          -7.884275e-08          -5.179480e-09  \n",
       "harry                         -1.990548e-07          -3.913110e-09  \n",
       "josh                          -1.646718e-07          -6.410092e-09  \n",
       "roger                         -1.328456e-07          -7.128524e-09  \n",
       "alan                          -9.871449e-08          -5.221612e-09  \n",
       "frank                         -8.353230e-09          -1.151710e-09  \n",
       "ian                           -2.072702e-08          -1.013679e-08  \n",
       "justin                        -1.249698e-07           5.482692e-09  \n",
       "ryan                          -1.789196e-07          -1.025711e-08  \n",
       "andrew                        -1.035642e-07          -4.218563e-09  \n",
       "fred                          -2.583231e-08          -4.867957e-09  \n",
       "jack                          -2.188569e-07           1.016055e-08  \n",
       "matthew                       -6.771748e-09          -1.272975e-08  \n",
       "stephen                       -1.457580e-07          -6.677130e-10  \n",
       "brad                          -9.253428e-08          -6.253110e-09  \n",
       "greg                          -9.030311e-08           1.738048e-09  \n",
       "jed                            1.731052e-08           4.695826e-09  \n",
       "paul                          -1.457010e-07          -5.188165e-09  \n",
       "todd                          -1.232821e-07           4.494275e-09  \n",
       "brandon                       -8.625165e-08           2.554458e-09  \n",
       "hank                          -4.827150e-08          -1.666936e-08  \n",
       "jonathan                      -1.856979e-07          -8.397771e-09  \n",
       "peter                         -5.452508e-08          -7.865946e-09  \n",
       "wilbur                         7.655740e-08          -4.224204e-10  \n",
       "amanda                         4.488301e-08          -1.183238e-08  \n",
       "courtney                      -2.630273e-08          -5.806993e-09  \n",
       "heather                        1.426730e-07          -6.045334e-09  \n",
       "melanie                       -1.131128e-07           3.542574e-09  \n",
       "sara                          -4.692363e-08          -4.116392e-09  \n",
       "amber                         -5.691459e-08          -1.429136e-09  \n",
       "crystal                       -2.229231e-07          -4.993375e-10  \n",
       "katie                         -9.112436e-09          -6.032789e-09  \n",
       "meredith                      -1.807518e-08          -5.454919e-09  \n",
       "shannon                       -2.588014e-08           3.814843e-09  \n",
       "betsy                         -5.097439e-08           1.531861e-08  \n",
       "donna                         -1.775765e-07           2.971774e-09  \n",
       "kristin                       -1.210155e-07          -4.371137e-10  \n",
       "nancy                         -7.814555e-08           2.225409e-09  \n",
       "stephanie                      2.044331e-08           1.189961e-08  \n",
       "ellen                          5.981530e-08          -2.552641e-10  \n",
       "lauren                         3.097098e-08          -2.402670e-09  \n",
       "peggy                         -7.827369e-08          -9.629865e-12  \n",
       "colleen                       -2.816350e-08           1.324895e-08  \n",
       "emily                          2.760817e-08           7.268021e-10  \n",
       "megan                         -2.497348e-08          -1.885635e-09  \n",
       "rachel                        -1.372481e-07           4.347846e-09  \n",
       "wendy                          3.850626e-08          -2.598158e-09  "
      ]
     },
     "execution_count": 16,
     "metadata": {},
     "output_type": "execute_result"
    }
   ],
   "source": [
    "df_names_white=get_df_bias_scores(names_white_emb, similarity_centralized,simple_gender_bias)\n",
    "df_names_black=get_df_bias_scores(names_black_emb, similarity_centralized,simple_gender_bias)\n",
    "df_names_hispanic=get_df_bias_scores(names_hispanic_emb, similarity_centralized,simple_gender_bias)\n",
    "\n",
    "#now the dataframe for the debiased embeddings\n",
    "df_names_white_deb=get_df_bias_scores(names_white_emb, deb_similarity_centralized,deb_simple_gender_bias)\n",
    "df_names_black_deb = get_df_bias_scores(names_black_emb, deb_similarity_centralized,deb_simple_gender_bias)\n",
    "df_names_hispanic_deb = get_df_bias_scores(\n",
    "    names_hispanic_emb, deb_similarity_centralized, deb_simple_gender_bias)\n",
    "\n",
    "#merging the dataframes\n",
    "df_names_white_merged=pd.merge(df_names_white, df_names_white_deb, left_index=True, right_index=True, suffixes=('_orig', '_deb'))\n",
    "df_names_black_merged=pd.merge(df_names_black, df_names_black_deb, left_index=True, right_index=True, suffixes=('_orig', '_deb'))\n",
    "df_names_hispanic_merged=pd.merge(df_names_hispanic, df_names_hispanic_deb, left_index=True, right_index=True, suffixes=('_orig', '_deb'))\n",
    "\n",
    "\n",
    "df_names_white_merged\n"
   ]
  },
  {
   "cell_type": "code",
   "execution_count": 32,
   "metadata": {},
   "outputs": [
    {
     "data": {
      "application/vnd.plotly.v1+json": {
       "config": {
        "plotlyServerURL": "https://plot.ly"
       },
       "data": [
        {
         "alignmentgroup": "True",
         "hovertemplate": "score_type=centralized_similarity_score<br>score=%{x}<br>word=%{y}<extra></extra>",
         "legendgroup": "centralized_similarity_score",
         "marker": {
          "color": "#636efa",
          "pattern": {
           "shape": ""
          }
         },
         "name": "centralized_similarity_score",
         "offsetgroup": "centralized_similarity_score",
         "orientation": "h",
         "showlegend": true,
         "textposition": "auto",
         "type": "bar",
         "x": [
          -0.18589805544941254,
          -0.044570565439093886,
          -0.0717523104105927,
          -0.09606160906516643,
          -0.23122539445189969,
          -0.1293658302474666,
          -0.17620134325070846,
          -0.13779256575197196,
          -0.12232691002293584,
          -0.07719114465912867,
          -0.1899297102119825,
          -0.12269110933927636,
          -0.12127316472080224,
          -0.11036157338792975,
          -0.21472628096534593,
          -0.13028371605070652,
          -0.19445251507120065,
          -0.04121149821856899,
          -0.22719135116225433,
          -0.059653172637502146,
          -0.07087461239533929,
          -0.08728067641049381,
          -0.1266440171380168,
          -0.21629689972029814,
          0.02199949428209775,
          0.2845900609411206,
          0.08395706023048181,
          0.22625117386669358,
          0.285960967460518,
          0.2676499234577065,
          0.18405555485242456,
          0.03205520680087955,
          0.2662975772982689,
          0.11991130522556215,
          0.0696928916349015,
          0.21622345398052412,
          0.25405209362866255,
          0.20104901958469398,
          0.2300538887638773,
          0.2963623067303028,
          0.3240446834697261,
          0.1861094796443251,
          0.2312755507631497,
          0.1693226848116439,
          0.2914757952214559,
          0.2635447501191635,
          0.30369724502409245,
          0.1860660610959607
         ],
         "xaxis": "x",
         "y": [
          "adam",
          "chip",
          "harry",
          "josh",
          "roger",
          "alan",
          "frank",
          "ian",
          "justin",
          "ryan",
          "andrew",
          "fred",
          "jack",
          "matthew",
          "stephen",
          "brad",
          "greg",
          "jed",
          "paul",
          "todd",
          "brandon",
          "hank",
          "jonathan",
          "peter",
          "wilbur",
          "amanda",
          "courtney",
          "heather",
          "melanie",
          "sara",
          "amber",
          "crystal",
          "katie",
          "meredith",
          "shannon",
          "betsy",
          "donna",
          "kristin",
          "nancy",
          "stephanie",
          "ellen",
          "lauren",
          "peggy",
          "colleen",
          "emily",
          "megan",
          "rachel",
          "wendy"
         ],
         "yaxis": "y"
        },
        {
         "alignmentgroup": "True",
         "hovertemplate": "score_type=simple_bias_score<br>score=%{x}<br>word=%{y}<extra></extra>",
         "legendgroup": "simple_bias_score",
         "marker": {
          "color": "#EF553B",
          "pattern": {
           "shape": ""
          }
         },
         "name": "simple_bias_score",
         "offsetgroup": "simple_bias_score",
         "orientation": "h",
         "showlegend": true,
         "textposition": "auto",
         "type": "bar",
         "x": [
          -0.094372804533193,
          -0.020428005328442272,
          0.006492669534465673,
          -0.014186126652990405,
          -0.1108034884245743,
          -0.0485893860488453,
          -0.06845542477270633,
          -0.04963283971552869,
          -0.01952456862517525,
          -0.017689254666563653,
          -0.09607513659400306,
          -0.04179980746188475,
          -0.03574009233045192,
          -0.020963846955861842,
          -0.10045896737599713,
          -0.05320038098097936,
          -0.07434419691544095,
          -0.021692064359288138,
          -0.11322494527537427,
          0.017310393152542153,
          -0.022179752256929072,
          -0.03588756737193467,
          -0.042783409497810704,
          -0.09099316272178704,
          0.06374329188901943,
          0.2502965127913419,
          0.10252073075773421,
          0.19377009982437837,
          0.2547182535377438,
          0.1874021693964443,
          0.11341381737139289,
          0.02218291299846037,
          0.2595235356417964,
          0.10054461181167607,
          0.0702658101364205,
          0.16871998140079847,
          0.20415182002784077,
          0.16946155063896695,
          0.2032153464285895,
          0.2828284935506455,
          0.24054052914387883,
          0.2122712388988563,
          0.19995279650614078,
          0.1688801238841212,
          0.2411372048155459,
          0.2357419242091644,
          0.2590420661405907,
          0.19177233634451413
         ],
         "xaxis": "x",
         "y": [
          "adam",
          "chip",
          "harry",
          "josh",
          "roger",
          "alan",
          "frank",
          "ian",
          "justin",
          "ryan",
          "andrew",
          "fred",
          "jack",
          "matthew",
          "stephen",
          "brad",
          "greg",
          "jed",
          "paul",
          "todd",
          "brandon",
          "hank",
          "jonathan",
          "peter",
          "wilbur",
          "amanda",
          "courtney",
          "heather",
          "melanie",
          "sara",
          "amber",
          "crystal",
          "katie",
          "meredith",
          "shannon",
          "betsy",
          "donna",
          "kristin",
          "nancy",
          "stephanie",
          "ellen",
          "lauren",
          "peggy",
          "colleen",
          "emily",
          "megan",
          "rachel",
          "wendy"
         ],
         "yaxis": "y"
        }
       ],
       "layout": {
        "barmode": "group",
        "height": 1000,
        "legend": {
         "title": {
          "text": "score_type"
         },
         "tracegroupgap": 0
        },
        "template": {
         "data": {
          "bar": [
           {
            "error_x": {
             "color": "#2a3f5f"
            },
            "error_y": {
             "color": "#2a3f5f"
            },
            "marker": {
             "line": {
              "color": "#E5ECF6",
              "width": 0.5
             },
             "pattern": {
              "fillmode": "overlay",
              "size": 10,
              "solidity": 0.2
             }
            },
            "type": "bar"
           }
          ],
          "barpolar": [
           {
            "marker": {
             "line": {
              "color": "#E5ECF6",
              "width": 0.5
             },
             "pattern": {
              "fillmode": "overlay",
              "size": 10,
              "solidity": 0.2
             }
            },
            "type": "barpolar"
           }
          ],
          "carpet": [
           {
            "aaxis": {
             "endlinecolor": "#2a3f5f",
             "gridcolor": "white",
             "linecolor": "white",
             "minorgridcolor": "white",
             "startlinecolor": "#2a3f5f"
            },
            "baxis": {
             "endlinecolor": "#2a3f5f",
             "gridcolor": "white",
             "linecolor": "white",
             "minorgridcolor": "white",
             "startlinecolor": "#2a3f5f"
            },
            "type": "carpet"
           }
          ],
          "choropleth": [
           {
            "colorbar": {
             "outlinewidth": 0,
             "ticks": ""
            },
            "type": "choropleth"
           }
          ],
          "contour": [
           {
            "colorbar": {
             "outlinewidth": 0,
             "ticks": ""
            },
            "colorscale": [
             [
              0,
              "#0d0887"
             ],
             [
              0.1111111111111111,
              "#46039f"
             ],
             [
              0.2222222222222222,
              "#7201a8"
             ],
             [
              0.3333333333333333,
              "#9c179e"
             ],
             [
              0.4444444444444444,
              "#bd3786"
             ],
             [
              0.5555555555555556,
              "#d8576b"
             ],
             [
              0.6666666666666666,
              "#ed7953"
             ],
             [
              0.7777777777777778,
              "#fb9f3a"
             ],
             [
              0.8888888888888888,
              "#fdca26"
             ],
             [
              1,
              "#f0f921"
             ]
            ],
            "type": "contour"
           }
          ],
          "contourcarpet": [
           {
            "colorbar": {
             "outlinewidth": 0,
             "ticks": ""
            },
            "type": "contourcarpet"
           }
          ],
          "heatmap": [
           {
            "colorbar": {
             "outlinewidth": 0,
             "ticks": ""
            },
            "colorscale": [
             [
              0,
              "#0d0887"
             ],
             [
              0.1111111111111111,
              "#46039f"
             ],
             [
              0.2222222222222222,
              "#7201a8"
             ],
             [
              0.3333333333333333,
              "#9c179e"
             ],
             [
              0.4444444444444444,
              "#bd3786"
             ],
             [
              0.5555555555555556,
              "#d8576b"
             ],
             [
              0.6666666666666666,
              "#ed7953"
             ],
             [
              0.7777777777777778,
              "#fb9f3a"
             ],
             [
              0.8888888888888888,
              "#fdca26"
             ],
             [
              1,
              "#f0f921"
             ]
            ],
            "type": "heatmap"
           }
          ],
          "heatmapgl": [
           {
            "colorbar": {
             "outlinewidth": 0,
             "ticks": ""
            },
            "colorscale": [
             [
              0,
              "#0d0887"
             ],
             [
              0.1111111111111111,
              "#46039f"
             ],
             [
              0.2222222222222222,
              "#7201a8"
             ],
             [
              0.3333333333333333,
              "#9c179e"
             ],
             [
              0.4444444444444444,
              "#bd3786"
             ],
             [
              0.5555555555555556,
              "#d8576b"
             ],
             [
              0.6666666666666666,
              "#ed7953"
             ],
             [
              0.7777777777777778,
              "#fb9f3a"
             ],
             [
              0.8888888888888888,
              "#fdca26"
             ],
             [
              1,
              "#f0f921"
             ]
            ],
            "type": "heatmapgl"
           }
          ],
          "histogram": [
           {
            "marker": {
             "pattern": {
              "fillmode": "overlay",
              "size": 10,
              "solidity": 0.2
             }
            },
            "type": "histogram"
           }
          ],
          "histogram2d": [
           {
            "colorbar": {
             "outlinewidth": 0,
             "ticks": ""
            },
            "colorscale": [
             [
              0,
              "#0d0887"
             ],
             [
              0.1111111111111111,
              "#46039f"
             ],
             [
              0.2222222222222222,
              "#7201a8"
             ],
             [
              0.3333333333333333,
              "#9c179e"
             ],
             [
              0.4444444444444444,
              "#bd3786"
             ],
             [
              0.5555555555555556,
              "#d8576b"
             ],
             [
              0.6666666666666666,
              "#ed7953"
             ],
             [
              0.7777777777777778,
              "#fb9f3a"
             ],
             [
              0.8888888888888888,
              "#fdca26"
             ],
             [
              1,
              "#f0f921"
             ]
            ],
            "type": "histogram2d"
           }
          ],
          "histogram2dcontour": [
           {
            "colorbar": {
             "outlinewidth": 0,
             "ticks": ""
            },
            "colorscale": [
             [
              0,
              "#0d0887"
             ],
             [
              0.1111111111111111,
              "#46039f"
             ],
             [
              0.2222222222222222,
              "#7201a8"
             ],
             [
              0.3333333333333333,
              "#9c179e"
             ],
             [
              0.4444444444444444,
              "#bd3786"
             ],
             [
              0.5555555555555556,
              "#d8576b"
             ],
             [
              0.6666666666666666,
              "#ed7953"
             ],
             [
              0.7777777777777778,
              "#fb9f3a"
             ],
             [
              0.8888888888888888,
              "#fdca26"
             ],
             [
              1,
              "#f0f921"
             ]
            ],
            "type": "histogram2dcontour"
           }
          ],
          "mesh3d": [
           {
            "colorbar": {
             "outlinewidth": 0,
             "ticks": ""
            },
            "type": "mesh3d"
           }
          ],
          "parcoords": [
           {
            "line": {
             "colorbar": {
              "outlinewidth": 0,
              "ticks": ""
             }
            },
            "type": "parcoords"
           }
          ],
          "pie": [
           {
            "automargin": true,
            "type": "pie"
           }
          ],
          "scatter": [
           {
            "fillpattern": {
             "fillmode": "overlay",
             "size": 10,
             "solidity": 0.2
            },
            "type": "scatter"
           }
          ],
          "scatter3d": [
           {
            "line": {
             "colorbar": {
              "outlinewidth": 0,
              "ticks": ""
             }
            },
            "marker": {
             "colorbar": {
              "outlinewidth": 0,
              "ticks": ""
             }
            },
            "type": "scatter3d"
           }
          ],
          "scattercarpet": [
           {
            "marker": {
             "colorbar": {
              "outlinewidth": 0,
              "ticks": ""
             }
            },
            "type": "scattercarpet"
           }
          ],
          "scattergeo": [
           {
            "marker": {
             "colorbar": {
              "outlinewidth": 0,
              "ticks": ""
             }
            },
            "type": "scattergeo"
           }
          ],
          "scattergl": [
           {
            "marker": {
             "colorbar": {
              "outlinewidth": 0,
              "ticks": ""
             }
            },
            "type": "scattergl"
           }
          ],
          "scattermapbox": [
           {
            "marker": {
             "colorbar": {
              "outlinewidth": 0,
              "ticks": ""
             }
            },
            "type": "scattermapbox"
           }
          ],
          "scatterpolar": [
           {
            "marker": {
             "colorbar": {
              "outlinewidth": 0,
              "ticks": ""
             }
            },
            "type": "scatterpolar"
           }
          ],
          "scatterpolargl": [
           {
            "marker": {
             "colorbar": {
              "outlinewidth": 0,
              "ticks": ""
             }
            },
            "type": "scatterpolargl"
           }
          ],
          "scatterternary": [
           {
            "marker": {
             "colorbar": {
              "outlinewidth": 0,
              "ticks": ""
             }
            },
            "type": "scatterternary"
           }
          ],
          "surface": [
           {
            "colorbar": {
             "outlinewidth": 0,
             "ticks": ""
            },
            "colorscale": [
             [
              0,
              "#0d0887"
             ],
             [
              0.1111111111111111,
              "#46039f"
             ],
             [
              0.2222222222222222,
              "#7201a8"
             ],
             [
              0.3333333333333333,
              "#9c179e"
             ],
             [
              0.4444444444444444,
              "#bd3786"
             ],
             [
              0.5555555555555556,
              "#d8576b"
             ],
             [
              0.6666666666666666,
              "#ed7953"
             ],
             [
              0.7777777777777778,
              "#fb9f3a"
             ],
             [
              0.8888888888888888,
              "#fdca26"
             ],
             [
              1,
              "#f0f921"
             ]
            ],
            "type": "surface"
           }
          ],
          "table": [
           {
            "cells": {
             "fill": {
              "color": "#EBF0F8"
             },
             "line": {
              "color": "white"
             }
            },
            "header": {
             "fill": {
              "color": "#C8D4E3"
             },
             "line": {
              "color": "white"
             }
            },
            "type": "table"
           }
          ]
         },
         "layout": {
          "annotationdefaults": {
           "arrowcolor": "#2a3f5f",
           "arrowhead": 0,
           "arrowwidth": 1
          },
          "autotypenumbers": "strict",
          "coloraxis": {
           "colorbar": {
            "outlinewidth": 0,
            "ticks": ""
           }
          },
          "colorscale": {
           "diverging": [
            [
             0,
             "#8e0152"
            ],
            [
             0.1,
             "#c51b7d"
            ],
            [
             0.2,
             "#de77ae"
            ],
            [
             0.3,
             "#f1b6da"
            ],
            [
             0.4,
             "#fde0ef"
            ],
            [
             0.5,
             "#f7f7f7"
            ],
            [
             0.6,
             "#e6f5d0"
            ],
            [
             0.7,
             "#b8e186"
            ],
            [
             0.8,
             "#7fbc41"
            ],
            [
             0.9,
             "#4d9221"
            ],
            [
             1,
             "#276419"
            ]
           ],
           "sequential": [
            [
             0,
             "#0d0887"
            ],
            [
             0.1111111111111111,
             "#46039f"
            ],
            [
             0.2222222222222222,
             "#7201a8"
            ],
            [
             0.3333333333333333,
             "#9c179e"
            ],
            [
             0.4444444444444444,
             "#bd3786"
            ],
            [
             0.5555555555555556,
             "#d8576b"
            ],
            [
             0.6666666666666666,
             "#ed7953"
            ],
            [
             0.7777777777777778,
             "#fb9f3a"
            ],
            [
             0.8888888888888888,
             "#fdca26"
            ],
            [
             1,
             "#f0f921"
            ]
           ],
           "sequentialminus": [
            [
             0,
             "#0d0887"
            ],
            [
             0.1111111111111111,
             "#46039f"
            ],
            [
             0.2222222222222222,
             "#7201a8"
            ],
            [
             0.3333333333333333,
             "#9c179e"
            ],
            [
             0.4444444444444444,
             "#bd3786"
            ],
            [
             0.5555555555555556,
             "#d8576b"
            ],
            [
             0.6666666666666666,
             "#ed7953"
            ],
            [
             0.7777777777777778,
             "#fb9f3a"
            ],
            [
             0.8888888888888888,
             "#fdca26"
            ],
            [
             1,
             "#f0f921"
            ]
           ]
          },
          "colorway": [
           "#636efa",
           "#EF553B",
           "#00cc96",
           "#ab63fa",
           "#FFA15A",
           "#19d3f3",
           "#FF6692",
           "#B6E880",
           "#FF97FF",
           "#FECB52"
          ],
          "font": {
           "color": "#2a3f5f"
          },
          "geo": {
           "bgcolor": "white",
           "lakecolor": "white",
           "landcolor": "#E5ECF6",
           "showlakes": true,
           "showland": true,
           "subunitcolor": "white"
          },
          "hoverlabel": {
           "align": "left"
          },
          "hovermode": "closest",
          "mapbox": {
           "style": "light"
          },
          "paper_bgcolor": "white",
          "plot_bgcolor": "#E5ECF6",
          "polar": {
           "angularaxis": {
            "gridcolor": "white",
            "linecolor": "white",
            "ticks": ""
           },
           "bgcolor": "#E5ECF6",
           "radialaxis": {
            "gridcolor": "white",
            "linecolor": "white",
            "ticks": ""
           }
          },
          "scene": {
           "xaxis": {
            "backgroundcolor": "#E5ECF6",
            "gridcolor": "white",
            "gridwidth": 2,
            "linecolor": "white",
            "showbackground": true,
            "ticks": "",
            "zerolinecolor": "white"
           },
           "yaxis": {
            "backgroundcolor": "#E5ECF6",
            "gridcolor": "white",
            "gridwidth": 2,
            "linecolor": "white",
            "showbackground": true,
            "ticks": "",
            "zerolinecolor": "white"
           },
           "zaxis": {
            "backgroundcolor": "#E5ECF6",
            "gridcolor": "white",
            "gridwidth": 2,
            "linecolor": "white",
            "showbackground": true,
            "ticks": "",
            "zerolinecolor": "white"
           }
          },
          "shapedefaults": {
           "line": {
            "color": "#2a3f5f"
           }
          },
          "ternary": {
           "aaxis": {
            "gridcolor": "white",
            "linecolor": "white",
            "ticks": ""
           },
           "baxis": {
            "gridcolor": "white",
            "linecolor": "white",
            "ticks": ""
           },
           "bgcolor": "#E5ECF6",
           "caxis": {
            "gridcolor": "white",
            "linecolor": "white",
            "ticks": ""
           }
          },
          "title": {
           "x": 0.05
          },
          "xaxis": {
           "automargin": true,
           "gridcolor": "white",
           "linecolor": "white",
           "ticks": "",
           "title": {
            "standoff": 15
           },
           "zerolinecolor": "white",
           "zerolinewidth": 2
          },
          "yaxis": {
           "automargin": true,
           "gridcolor": "white",
           "linecolor": "white",
           "ticks": "",
           "title": {
            "standoff": 15
           },
           "zerolinecolor": "white",
           "zerolinewidth": 2
          }
         }
        },
        "title": {
         "text": "Names per ethnicity"
        },
        "width": 800,
        "xaxis": {
         "anchor": "y",
         "domain": [
          0,
          1
         ],
         "title": {
          "text": "score"
         }
        },
        "yaxis": {
         "anchor": "x",
         "domain": [
          0,
          1
         ],
         "title": {
          "text": "word"
         }
        }
       }
      }
     },
     "metadata": {},
     "output_type": "display_data"
    },
    {
     "data": {
      "application/vnd.plotly.v1+json": {
       "config": {
        "plotlyServerURL": "https://plot.ly"
       },
       "data": [
        {
         "alignmentgroup": "True",
         "hovertemplate": "score_type=centralized_similarity_score<br>score=%{x}<br>word=%{y}<extra></extra>",
         "legendgroup": "centralized_similarity_score",
         "marker": {
          "color": "#636efa",
          "pattern": {
           "shape": ""
          }
         },
         "name": "centralized_similarity_score",
         "offsetgroup": "centralized_similarity_score",
         "orientation": "h",
         "showlegend": true,
         "textposition": "auto",
         "type": "bar",
         "x": [
          -0.042424656988501216,
          -0.013741349771576547,
          -0.08307825075561412,
          -0.01865492574827037,
          -0.0990926941971812,
          -0.12883789589044403,
          -0.1329958482938826,
          -0.041467191576929255,
          -0.009184670723672657,
          -0.00022991263865291834,
          -0.12934392139997755,
          -0.12708065501687943,
          -0.04496694947820806,
          -0.045297822451883386,
          -0.18068898829190266,
          -0.1258603364243945,
          -0.12266724054304284,
          -0.07132565496882838,
          -0.059170280418964986,
          0.11861214526218156,
          -0.11304474629554907,
          0.026838349083612545,
          -0.004449375708957875,
          0.18270330349212938,
          0.23636366492282906,
          0.1171128698535922,
          0.12532721871979896,
          0.22110049965301257,
          0.20676304386530067,
          0.2200035878549279,
          0.24400352085114524,
          0.1739371106694385,
          0.20999908436137238,
          0.16827170692881332,
          0.17151011733313698,
          0.2655696250187057,
          0.3088555041159645,
          -0.15087433260267039,
          0.2138051261180827
         ],
         "xaxis": "x",
         "y": [
          "alonzo",
          "jamel",
          "jamal",
          "lerone",
          "theo",
          "alphonse",
          "jerome",
          "leroy",
          "torrance",
          "darnell",
          "lamar",
          "lionel",
          "rashaun",
          "tyree",
          "deion",
          "lamont",
          "malik",
          "terrence",
          "tyrone",
          "lavon",
          "marcellus",
          "terryl",
          "wardell",
          "nichelle",
          "shereen",
          "temeka",
          "ebony",
          "latisha",
          "shaniqua",
          "jasmine",
          "latonya",
          "tanisha",
          "tia",
          "lakisha",
          "latoya",
          "yolanda",
          "malika",
          "tawanda",
          "yvette"
         ],
         "yaxis": "y"
        },
        {
         "alignmentgroup": "True",
         "hovertemplate": "score_type=simple_bias_score<br>score=%{x}<br>word=%{y}<extra></extra>",
         "legendgroup": "simple_bias_score",
         "marker": {
          "color": "#EF553B",
          "pattern": {
           "shape": ""
          }
         },
         "name": "simple_bias_score",
         "offsetgroup": "simple_bias_score",
         "orientation": "h",
         "showlegend": true,
         "textposition": "auto",
         "type": "bar",
         "x": [
          -0.007925904760694526,
          0.023506335337617063,
          -0.0618753649295001,
          -0.002545071694115053,
          -0.08460215971745672,
          -0.05879988901518979,
          -0.06271306626044966,
          -0.0015622801214504912,
          0.011412764932142707,
          0.02863893515911308,
          -0.07173452112469264,
          -0.05020006850494875,
          -0.0006211824671946975,
          -0.037116511857186466,
          -0.154485147817844,
          -0.07489139912918806,
          -0.08694248733367849,
          0.03687226124882178,
          -0.028456320020019507,
          0.04055718762484706,
          -0.0973120798448259,
          0.031278543887053895,
          -0.036609979651237634,
          0.15230373537256198,
          0.18075291275781294,
          0.08733171584856683,
          0.11709775483754364,
          0.18218850630069588,
          0.19043193891123236,
          0.1665633519121376,
          0.17507630170181898,
          0.11721131176097893,
          0.15605900513005844,
          0.1297795172924907,
          0.12333765910650614,
          0.19815232190986956,
          0.18043067979423383,
          -0.07926307376567404,
          0.1542240292976837
         ],
         "xaxis": "x",
         "y": [
          "alonzo",
          "jamel",
          "jamal",
          "lerone",
          "theo",
          "alphonse",
          "jerome",
          "leroy",
          "torrance",
          "darnell",
          "lamar",
          "lionel",
          "rashaun",
          "tyree",
          "deion",
          "lamont",
          "malik",
          "terrence",
          "tyrone",
          "lavon",
          "marcellus",
          "terryl",
          "wardell",
          "nichelle",
          "shereen",
          "temeka",
          "ebony",
          "latisha",
          "shaniqua",
          "jasmine",
          "latonya",
          "tanisha",
          "tia",
          "lakisha",
          "latoya",
          "yolanda",
          "malika",
          "tawanda",
          "yvette"
         ],
         "yaxis": "y"
        }
       ],
       "layout": {
        "barmode": "group",
        "height": 1000,
        "legend": {
         "title": {
          "text": "score_type"
         },
         "tracegroupgap": 0
        },
        "template": {
         "data": {
          "bar": [
           {
            "error_x": {
             "color": "#2a3f5f"
            },
            "error_y": {
             "color": "#2a3f5f"
            },
            "marker": {
             "line": {
              "color": "#E5ECF6",
              "width": 0.5
             },
             "pattern": {
              "fillmode": "overlay",
              "size": 10,
              "solidity": 0.2
             }
            },
            "type": "bar"
           }
          ],
          "barpolar": [
           {
            "marker": {
             "line": {
              "color": "#E5ECF6",
              "width": 0.5
             },
             "pattern": {
              "fillmode": "overlay",
              "size": 10,
              "solidity": 0.2
             }
            },
            "type": "barpolar"
           }
          ],
          "carpet": [
           {
            "aaxis": {
             "endlinecolor": "#2a3f5f",
             "gridcolor": "white",
             "linecolor": "white",
             "minorgridcolor": "white",
             "startlinecolor": "#2a3f5f"
            },
            "baxis": {
             "endlinecolor": "#2a3f5f",
             "gridcolor": "white",
             "linecolor": "white",
             "minorgridcolor": "white",
             "startlinecolor": "#2a3f5f"
            },
            "type": "carpet"
           }
          ],
          "choropleth": [
           {
            "colorbar": {
             "outlinewidth": 0,
             "ticks": ""
            },
            "type": "choropleth"
           }
          ],
          "contour": [
           {
            "colorbar": {
             "outlinewidth": 0,
             "ticks": ""
            },
            "colorscale": [
             [
              0,
              "#0d0887"
             ],
             [
              0.1111111111111111,
              "#46039f"
             ],
             [
              0.2222222222222222,
              "#7201a8"
             ],
             [
              0.3333333333333333,
              "#9c179e"
             ],
             [
              0.4444444444444444,
              "#bd3786"
             ],
             [
              0.5555555555555556,
              "#d8576b"
             ],
             [
              0.6666666666666666,
              "#ed7953"
             ],
             [
              0.7777777777777778,
              "#fb9f3a"
             ],
             [
              0.8888888888888888,
              "#fdca26"
             ],
             [
              1,
              "#f0f921"
             ]
            ],
            "type": "contour"
           }
          ],
          "contourcarpet": [
           {
            "colorbar": {
             "outlinewidth": 0,
             "ticks": ""
            },
            "type": "contourcarpet"
           }
          ],
          "heatmap": [
           {
            "colorbar": {
             "outlinewidth": 0,
             "ticks": ""
            },
            "colorscale": [
             [
              0,
              "#0d0887"
             ],
             [
              0.1111111111111111,
              "#46039f"
             ],
             [
              0.2222222222222222,
              "#7201a8"
             ],
             [
              0.3333333333333333,
              "#9c179e"
             ],
             [
              0.4444444444444444,
              "#bd3786"
             ],
             [
              0.5555555555555556,
              "#d8576b"
             ],
             [
              0.6666666666666666,
              "#ed7953"
             ],
             [
              0.7777777777777778,
              "#fb9f3a"
             ],
             [
              0.8888888888888888,
              "#fdca26"
             ],
             [
              1,
              "#f0f921"
             ]
            ],
            "type": "heatmap"
           }
          ],
          "heatmapgl": [
           {
            "colorbar": {
             "outlinewidth": 0,
             "ticks": ""
            },
            "colorscale": [
             [
              0,
              "#0d0887"
             ],
             [
              0.1111111111111111,
              "#46039f"
             ],
             [
              0.2222222222222222,
              "#7201a8"
             ],
             [
              0.3333333333333333,
              "#9c179e"
             ],
             [
              0.4444444444444444,
              "#bd3786"
             ],
             [
              0.5555555555555556,
              "#d8576b"
             ],
             [
              0.6666666666666666,
              "#ed7953"
             ],
             [
              0.7777777777777778,
              "#fb9f3a"
             ],
             [
              0.8888888888888888,
              "#fdca26"
             ],
             [
              1,
              "#f0f921"
             ]
            ],
            "type": "heatmapgl"
           }
          ],
          "histogram": [
           {
            "marker": {
             "pattern": {
              "fillmode": "overlay",
              "size": 10,
              "solidity": 0.2
             }
            },
            "type": "histogram"
           }
          ],
          "histogram2d": [
           {
            "colorbar": {
             "outlinewidth": 0,
             "ticks": ""
            },
            "colorscale": [
             [
              0,
              "#0d0887"
             ],
             [
              0.1111111111111111,
              "#46039f"
             ],
             [
              0.2222222222222222,
              "#7201a8"
             ],
             [
              0.3333333333333333,
              "#9c179e"
             ],
             [
              0.4444444444444444,
              "#bd3786"
             ],
             [
              0.5555555555555556,
              "#d8576b"
             ],
             [
              0.6666666666666666,
              "#ed7953"
             ],
             [
              0.7777777777777778,
              "#fb9f3a"
             ],
             [
              0.8888888888888888,
              "#fdca26"
             ],
             [
              1,
              "#f0f921"
             ]
            ],
            "type": "histogram2d"
           }
          ],
          "histogram2dcontour": [
           {
            "colorbar": {
             "outlinewidth": 0,
             "ticks": ""
            },
            "colorscale": [
             [
              0,
              "#0d0887"
             ],
             [
              0.1111111111111111,
              "#46039f"
             ],
             [
              0.2222222222222222,
              "#7201a8"
             ],
             [
              0.3333333333333333,
              "#9c179e"
             ],
             [
              0.4444444444444444,
              "#bd3786"
             ],
             [
              0.5555555555555556,
              "#d8576b"
             ],
             [
              0.6666666666666666,
              "#ed7953"
             ],
             [
              0.7777777777777778,
              "#fb9f3a"
             ],
             [
              0.8888888888888888,
              "#fdca26"
             ],
             [
              1,
              "#f0f921"
             ]
            ],
            "type": "histogram2dcontour"
           }
          ],
          "mesh3d": [
           {
            "colorbar": {
             "outlinewidth": 0,
             "ticks": ""
            },
            "type": "mesh3d"
           }
          ],
          "parcoords": [
           {
            "line": {
             "colorbar": {
              "outlinewidth": 0,
              "ticks": ""
             }
            },
            "type": "parcoords"
           }
          ],
          "pie": [
           {
            "automargin": true,
            "type": "pie"
           }
          ],
          "scatter": [
           {
            "fillpattern": {
             "fillmode": "overlay",
             "size": 10,
             "solidity": 0.2
            },
            "type": "scatter"
           }
          ],
          "scatter3d": [
           {
            "line": {
             "colorbar": {
              "outlinewidth": 0,
              "ticks": ""
             }
            },
            "marker": {
             "colorbar": {
              "outlinewidth": 0,
              "ticks": ""
             }
            },
            "type": "scatter3d"
           }
          ],
          "scattercarpet": [
           {
            "marker": {
             "colorbar": {
              "outlinewidth": 0,
              "ticks": ""
             }
            },
            "type": "scattercarpet"
           }
          ],
          "scattergeo": [
           {
            "marker": {
             "colorbar": {
              "outlinewidth": 0,
              "ticks": ""
             }
            },
            "type": "scattergeo"
           }
          ],
          "scattergl": [
           {
            "marker": {
             "colorbar": {
              "outlinewidth": 0,
              "ticks": ""
             }
            },
            "type": "scattergl"
           }
          ],
          "scattermapbox": [
           {
            "marker": {
             "colorbar": {
              "outlinewidth": 0,
              "ticks": ""
             }
            },
            "type": "scattermapbox"
           }
          ],
          "scatterpolar": [
           {
            "marker": {
             "colorbar": {
              "outlinewidth": 0,
              "ticks": ""
             }
            },
            "type": "scatterpolar"
           }
          ],
          "scatterpolargl": [
           {
            "marker": {
             "colorbar": {
              "outlinewidth": 0,
              "ticks": ""
             }
            },
            "type": "scatterpolargl"
           }
          ],
          "scatterternary": [
           {
            "marker": {
             "colorbar": {
              "outlinewidth": 0,
              "ticks": ""
             }
            },
            "type": "scatterternary"
           }
          ],
          "surface": [
           {
            "colorbar": {
             "outlinewidth": 0,
             "ticks": ""
            },
            "colorscale": [
             [
              0,
              "#0d0887"
             ],
             [
              0.1111111111111111,
              "#46039f"
             ],
             [
              0.2222222222222222,
              "#7201a8"
             ],
             [
              0.3333333333333333,
              "#9c179e"
             ],
             [
              0.4444444444444444,
              "#bd3786"
             ],
             [
              0.5555555555555556,
              "#d8576b"
             ],
             [
              0.6666666666666666,
              "#ed7953"
             ],
             [
              0.7777777777777778,
              "#fb9f3a"
             ],
             [
              0.8888888888888888,
              "#fdca26"
             ],
             [
              1,
              "#f0f921"
             ]
            ],
            "type": "surface"
           }
          ],
          "table": [
           {
            "cells": {
             "fill": {
              "color": "#EBF0F8"
             },
             "line": {
              "color": "white"
             }
            },
            "header": {
             "fill": {
              "color": "#C8D4E3"
             },
             "line": {
              "color": "white"
             }
            },
            "type": "table"
           }
          ]
         },
         "layout": {
          "annotationdefaults": {
           "arrowcolor": "#2a3f5f",
           "arrowhead": 0,
           "arrowwidth": 1
          },
          "autotypenumbers": "strict",
          "coloraxis": {
           "colorbar": {
            "outlinewidth": 0,
            "ticks": ""
           }
          },
          "colorscale": {
           "diverging": [
            [
             0,
             "#8e0152"
            ],
            [
             0.1,
             "#c51b7d"
            ],
            [
             0.2,
             "#de77ae"
            ],
            [
             0.3,
             "#f1b6da"
            ],
            [
             0.4,
             "#fde0ef"
            ],
            [
             0.5,
             "#f7f7f7"
            ],
            [
             0.6,
             "#e6f5d0"
            ],
            [
             0.7,
             "#b8e186"
            ],
            [
             0.8,
             "#7fbc41"
            ],
            [
             0.9,
             "#4d9221"
            ],
            [
             1,
             "#276419"
            ]
           ],
           "sequential": [
            [
             0,
             "#0d0887"
            ],
            [
             0.1111111111111111,
             "#46039f"
            ],
            [
             0.2222222222222222,
             "#7201a8"
            ],
            [
             0.3333333333333333,
             "#9c179e"
            ],
            [
             0.4444444444444444,
             "#bd3786"
            ],
            [
             0.5555555555555556,
             "#d8576b"
            ],
            [
             0.6666666666666666,
             "#ed7953"
            ],
            [
             0.7777777777777778,
             "#fb9f3a"
            ],
            [
             0.8888888888888888,
             "#fdca26"
            ],
            [
             1,
             "#f0f921"
            ]
           ],
           "sequentialminus": [
            [
             0,
             "#0d0887"
            ],
            [
             0.1111111111111111,
             "#46039f"
            ],
            [
             0.2222222222222222,
             "#7201a8"
            ],
            [
             0.3333333333333333,
             "#9c179e"
            ],
            [
             0.4444444444444444,
             "#bd3786"
            ],
            [
             0.5555555555555556,
             "#d8576b"
            ],
            [
             0.6666666666666666,
             "#ed7953"
            ],
            [
             0.7777777777777778,
             "#fb9f3a"
            ],
            [
             0.8888888888888888,
             "#fdca26"
            ],
            [
             1,
             "#f0f921"
            ]
           ]
          },
          "colorway": [
           "#636efa",
           "#EF553B",
           "#00cc96",
           "#ab63fa",
           "#FFA15A",
           "#19d3f3",
           "#FF6692",
           "#B6E880",
           "#FF97FF",
           "#FECB52"
          ],
          "font": {
           "color": "#2a3f5f"
          },
          "geo": {
           "bgcolor": "white",
           "lakecolor": "white",
           "landcolor": "#E5ECF6",
           "showlakes": true,
           "showland": true,
           "subunitcolor": "white"
          },
          "hoverlabel": {
           "align": "left"
          },
          "hovermode": "closest",
          "mapbox": {
           "style": "light"
          },
          "paper_bgcolor": "white",
          "plot_bgcolor": "#E5ECF6",
          "polar": {
           "angularaxis": {
            "gridcolor": "white",
            "linecolor": "white",
            "ticks": ""
           },
           "bgcolor": "#E5ECF6",
           "radialaxis": {
            "gridcolor": "white",
            "linecolor": "white",
            "ticks": ""
           }
          },
          "scene": {
           "xaxis": {
            "backgroundcolor": "#E5ECF6",
            "gridcolor": "white",
            "gridwidth": 2,
            "linecolor": "white",
            "showbackground": true,
            "ticks": "",
            "zerolinecolor": "white"
           },
           "yaxis": {
            "backgroundcolor": "#E5ECF6",
            "gridcolor": "white",
            "gridwidth": 2,
            "linecolor": "white",
            "showbackground": true,
            "ticks": "",
            "zerolinecolor": "white"
           },
           "zaxis": {
            "backgroundcolor": "#E5ECF6",
            "gridcolor": "white",
            "gridwidth": 2,
            "linecolor": "white",
            "showbackground": true,
            "ticks": "",
            "zerolinecolor": "white"
           }
          },
          "shapedefaults": {
           "line": {
            "color": "#2a3f5f"
           }
          },
          "ternary": {
           "aaxis": {
            "gridcolor": "white",
            "linecolor": "white",
            "ticks": ""
           },
           "baxis": {
            "gridcolor": "white",
            "linecolor": "white",
            "ticks": ""
           },
           "bgcolor": "#E5ECF6",
           "caxis": {
            "gridcolor": "white",
            "linecolor": "white",
            "ticks": ""
           }
          },
          "title": {
           "x": 0.05
          },
          "xaxis": {
           "automargin": true,
           "gridcolor": "white",
           "linecolor": "white",
           "ticks": "",
           "title": {
            "standoff": 15
           },
           "zerolinecolor": "white",
           "zerolinewidth": 2
          },
          "yaxis": {
           "automargin": true,
           "gridcolor": "white",
           "linecolor": "white",
           "ticks": "",
           "title": {
            "standoff": 15
           },
           "zerolinecolor": "white",
           "zerolinewidth": 2
          }
         }
        },
        "title": {
         "text": "Names per ethnicity"
        },
        "width": 800,
        "xaxis": {
         "anchor": "y",
         "domain": [
          0,
          1
         ],
         "title": {
          "text": "score"
         }
        },
        "yaxis": {
         "anchor": "x",
         "domain": [
          0,
          1
         ],
         "title": {
          "text": "word"
         }
        }
       }
      }
     },
     "metadata": {},
     "output_type": "display_data"
    },
    {
     "data": {
      "application/vnd.plotly.v1+json": {
       "config": {
        "plotlyServerURL": "https://plot.ly"
       },
       "data": [
        {
         "alignmentgroup": "True",
         "hovertemplate": "score_type=centralized_similarity_score<br>score=%{x}<br>word=%{y}<extra></extra>",
         "legendgroup": "centralized_similarity_score",
         "marker": {
          "color": "#636efa",
          "pattern": {
           "shape": ""
          }
         },
         "name": "centralized_similarity_score",
         "offsetgroup": "centralized_similarity_score",
         "orientation": "h",
         "showlegend": true,
         "textposition": "auto",
         "type": "bar",
         "x": [
          -0.12057115426722004,
          -0.0896784981425873,
          -0.12958921594957187,
          -0.07486830039020262,
          -0.14235819381310238,
          -0.029098470967543293,
          -0.03435660306958182,
          -0.014805911491420161,
          0.038402820945098254,
          -0.04060072659573051,
          -0.03194385799829472,
          -0.2067488522066678,
          -0.05507807016940558,
          -0.0800652441896665,
          -0.04536586852301967,
          0.2703673051827139,
          0.30101409126282774,
          0.2614301901677939,
          0.23682355733824909,
          0.2923181360487631,
          0.23788456265489605,
          0.2282761496325772,
          0.2851401679626661,
          0.1864798126465894,
          0.2609263707561147,
          0.17583635368553266,
          0.23626491826807952,
          0.21572937524234442,
          0.16946401491027743,
          0.3190029114001292
         ],
         "xaxis": "x",
         "y": [
          "juan",
          "josé",
          "miguel",
          "luís",
          "jorge",
          "santiago",
          "matías",
          "sebastián",
          "mateo",
          "nicolás",
          "alejandro",
          "samuel",
          "diego",
          "daniel",
          "tomás",
          "juana",
          "ana",
          "luisa",
          "maría",
          "elena",
          "sofía",
          "isabella",
          "valentina",
          "camila",
          "valeria",
          "ximena",
          "luciana",
          "mariana",
          "victoria",
          "martina"
         ],
         "yaxis": "y"
        },
        {
         "alignmentgroup": "True",
         "hovertemplate": "score_type=simple_bias_score<br>score=%{x}<br>word=%{y}<extra></extra>",
         "legendgroup": "simple_bias_score",
         "marker": {
          "color": "#EF553B",
          "pattern": {
           "shape": ""
          }
         },
         "name": "simple_bias_score",
         "offsetgroup": "simple_bias_score",
         "orientation": "h",
         "showlegend": true,
         "textposition": "auto",
         "type": "bar",
         "x": [
          -0.06351725957579599,
          -0.055885106439236734,
          -0.09569432549844217,
          -0.055679513665619594,
          -0.10286211795531683,
          -0.03917932941255814,
          -0.0022922352280385083,
          0.01684255860721974,
          0.007086184598445915,
          -0.0054438029258699755,
          0.005861474683737954,
          -0.0919398913619318,
          -0.0051241234061778496,
          0.008863327763149825,
          0.010143862543775459,
          0.16333471751123943,
          0.20309670528771656,
          0.18360013197038283,
          0.1473073628243456,
          0.258243547402769,
          0.11504538242829085,
          0.1837805055458144,
          0.20405087796657645,
          0.16536452212078123,
          0.20144750986519988,
          0.11919469358681277,
          0.15257003705651068,
          0.1772103417259709,
          0.12454396469351794,
          0.2792985489954387
         ],
         "xaxis": "x",
         "y": [
          "juan",
          "josé",
          "miguel",
          "luís",
          "jorge",
          "santiago",
          "matías",
          "sebastián",
          "mateo",
          "nicolás",
          "alejandro",
          "samuel",
          "diego",
          "daniel",
          "tomás",
          "juana",
          "ana",
          "luisa",
          "maría",
          "elena",
          "sofía",
          "isabella",
          "valentina",
          "camila",
          "valeria",
          "ximena",
          "luciana",
          "mariana",
          "victoria",
          "martina"
         ],
         "yaxis": "y"
        }
       ],
       "layout": {
        "barmode": "group",
        "height": 1000,
        "legend": {
         "title": {
          "text": "score_type"
         },
         "tracegroupgap": 0
        },
        "template": {
         "data": {
          "bar": [
           {
            "error_x": {
             "color": "#2a3f5f"
            },
            "error_y": {
             "color": "#2a3f5f"
            },
            "marker": {
             "line": {
              "color": "#E5ECF6",
              "width": 0.5
             },
             "pattern": {
              "fillmode": "overlay",
              "size": 10,
              "solidity": 0.2
             }
            },
            "type": "bar"
           }
          ],
          "barpolar": [
           {
            "marker": {
             "line": {
              "color": "#E5ECF6",
              "width": 0.5
             },
             "pattern": {
              "fillmode": "overlay",
              "size": 10,
              "solidity": 0.2
             }
            },
            "type": "barpolar"
           }
          ],
          "carpet": [
           {
            "aaxis": {
             "endlinecolor": "#2a3f5f",
             "gridcolor": "white",
             "linecolor": "white",
             "minorgridcolor": "white",
             "startlinecolor": "#2a3f5f"
            },
            "baxis": {
             "endlinecolor": "#2a3f5f",
             "gridcolor": "white",
             "linecolor": "white",
             "minorgridcolor": "white",
             "startlinecolor": "#2a3f5f"
            },
            "type": "carpet"
           }
          ],
          "choropleth": [
           {
            "colorbar": {
             "outlinewidth": 0,
             "ticks": ""
            },
            "type": "choropleth"
           }
          ],
          "contour": [
           {
            "colorbar": {
             "outlinewidth": 0,
             "ticks": ""
            },
            "colorscale": [
             [
              0,
              "#0d0887"
             ],
             [
              0.1111111111111111,
              "#46039f"
             ],
             [
              0.2222222222222222,
              "#7201a8"
             ],
             [
              0.3333333333333333,
              "#9c179e"
             ],
             [
              0.4444444444444444,
              "#bd3786"
             ],
             [
              0.5555555555555556,
              "#d8576b"
             ],
             [
              0.6666666666666666,
              "#ed7953"
             ],
             [
              0.7777777777777778,
              "#fb9f3a"
             ],
             [
              0.8888888888888888,
              "#fdca26"
             ],
             [
              1,
              "#f0f921"
             ]
            ],
            "type": "contour"
           }
          ],
          "contourcarpet": [
           {
            "colorbar": {
             "outlinewidth": 0,
             "ticks": ""
            },
            "type": "contourcarpet"
           }
          ],
          "heatmap": [
           {
            "colorbar": {
             "outlinewidth": 0,
             "ticks": ""
            },
            "colorscale": [
             [
              0,
              "#0d0887"
             ],
             [
              0.1111111111111111,
              "#46039f"
             ],
             [
              0.2222222222222222,
              "#7201a8"
             ],
             [
              0.3333333333333333,
              "#9c179e"
             ],
             [
              0.4444444444444444,
              "#bd3786"
             ],
             [
              0.5555555555555556,
              "#d8576b"
             ],
             [
              0.6666666666666666,
              "#ed7953"
             ],
             [
              0.7777777777777778,
              "#fb9f3a"
             ],
             [
              0.8888888888888888,
              "#fdca26"
             ],
             [
              1,
              "#f0f921"
             ]
            ],
            "type": "heatmap"
           }
          ],
          "heatmapgl": [
           {
            "colorbar": {
             "outlinewidth": 0,
             "ticks": ""
            },
            "colorscale": [
             [
              0,
              "#0d0887"
             ],
             [
              0.1111111111111111,
              "#46039f"
             ],
             [
              0.2222222222222222,
              "#7201a8"
             ],
             [
              0.3333333333333333,
              "#9c179e"
             ],
             [
              0.4444444444444444,
              "#bd3786"
             ],
             [
              0.5555555555555556,
              "#d8576b"
             ],
             [
              0.6666666666666666,
              "#ed7953"
             ],
             [
              0.7777777777777778,
              "#fb9f3a"
             ],
             [
              0.8888888888888888,
              "#fdca26"
             ],
             [
              1,
              "#f0f921"
             ]
            ],
            "type": "heatmapgl"
           }
          ],
          "histogram": [
           {
            "marker": {
             "pattern": {
              "fillmode": "overlay",
              "size": 10,
              "solidity": 0.2
             }
            },
            "type": "histogram"
           }
          ],
          "histogram2d": [
           {
            "colorbar": {
             "outlinewidth": 0,
             "ticks": ""
            },
            "colorscale": [
             [
              0,
              "#0d0887"
             ],
             [
              0.1111111111111111,
              "#46039f"
             ],
             [
              0.2222222222222222,
              "#7201a8"
             ],
             [
              0.3333333333333333,
              "#9c179e"
             ],
             [
              0.4444444444444444,
              "#bd3786"
             ],
             [
              0.5555555555555556,
              "#d8576b"
             ],
             [
              0.6666666666666666,
              "#ed7953"
             ],
             [
              0.7777777777777778,
              "#fb9f3a"
             ],
             [
              0.8888888888888888,
              "#fdca26"
             ],
             [
              1,
              "#f0f921"
             ]
            ],
            "type": "histogram2d"
           }
          ],
          "histogram2dcontour": [
           {
            "colorbar": {
             "outlinewidth": 0,
             "ticks": ""
            },
            "colorscale": [
             [
              0,
              "#0d0887"
             ],
             [
              0.1111111111111111,
              "#46039f"
             ],
             [
              0.2222222222222222,
              "#7201a8"
             ],
             [
              0.3333333333333333,
              "#9c179e"
             ],
             [
              0.4444444444444444,
              "#bd3786"
             ],
             [
              0.5555555555555556,
              "#d8576b"
             ],
             [
              0.6666666666666666,
              "#ed7953"
             ],
             [
              0.7777777777777778,
              "#fb9f3a"
             ],
             [
              0.8888888888888888,
              "#fdca26"
             ],
             [
              1,
              "#f0f921"
             ]
            ],
            "type": "histogram2dcontour"
           }
          ],
          "mesh3d": [
           {
            "colorbar": {
             "outlinewidth": 0,
             "ticks": ""
            },
            "type": "mesh3d"
           }
          ],
          "parcoords": [
           {
            "line": {
             "colorbar": {
              "outlinewidth": 0,
              "ticks": ""
             }
            },
            "type": "parcoords"
           }
          ],
          "pie": [
           {
            "automargin": true,
            "type": "pie"
           }
          ],
          "scatter": [
           {
            "fillpattern": {
             "fillmode": "overlay",
             "size": 10,
             "solidity": 0.2
            },
            "type": "scatter"
           }
          ],
          "scatter3d": [
           {
            "line": {
             "colorbar": {
              "outlinewidth": 0,
              "ticks": ""
             }
            },
            "marker": {
             "colorbar": {
              "outlinewidth": 0,
              "ticks": ""
             }
            },
            "type": "scatter3d"
           }
          ],
          "scattercarpet": [
           {
            "marker": {
             "colorbar": {
              "outlinewidth": 0,
              "ticks": ""
             }
            },
            "type": "scattercarpet"
           }
          ],
          "scattergeo": [
           {
            "marker": {
             "colorbar": {
              "outlinewidth": 0,
              "ticks": ""
             }
            },
            "type": "scattergeo"
           }
          ],
          "scattergl": [
           {
            "marker": {
             "colorbar": {
              "outlinewidth": 0,
              "ticks": ""
             }
            },
            "type": "scattergl"
           }
          ],
          "scattermapbox": [
           {
            "marker": {
             "colorbar": {
              "outlinewidth": 0,
              "ticks": ""
             }
            },
            "type": "scattermapbox"
           }
          ],
          "scatterpolar": [
           {
            "marker": {
             "colorbar": {
              "outlinewidth": 0,
              "ticks": ""
             }
            },
            "type": "scatterpolar"
           }
          ],
          "scatterpolargl": [
           {
            "marker": {
             "colorbar": {
              "outlinewidth": 0,
              "ticks": ""
             }
            },
            "type": "scatterpolargl"
           }
          ],
          "scatterternary": [
           {
            "marker": {
             "colorbar": {
              "outlinewidth": 0,
              "ticks": ""
             }
            },
            "type": "scatterternary"
           }
          ],
          "surface": [
           {
            "colorbar": {
             "outlinewidth": 0,
             "ticks": ""
            },
            "colorscale": [
             [
              0,
              "#0d0887"
             ],
             [
              0.1111111111111111,
              "#46039f"
             ],
             [
              0.2222222222222222,
              "#7201a8"
             ],
             [
              0.3333333333333333,
              "#9c179e"
             ],
             [
              0.4444444444444444,
              "#bd3786"
             ],
             [
              0.5555555555555556,
              "#d8576b"
             ],
             [
              0.6666666666666666,
              "#ed7953"
             ],
             [
              0.7777777777777778,
              "#fb9f3a"
             ],
             [
              0.8888888888888888,
              "#fdca26"
             ],
             [
              1,
              "#f0f921"
             ]
            ],
            "type": "surface"
           }
          ],
          "table": [
           {
            "cells": {
             "fill": {
              "color": "#EBF0F8"
             },
             "line": {
              "color": "white"
             }
            },
            "header": {
             "fill": {
              "color": "#C8D4E3"
             },
             "line": {
              "color": "white"
             }
            },
            "type": "table"
           }
          ]
         },
         "layout": {
          "annotationdefaults": {
           "arrowcolor": "#2a3f5f",
           "arrowhead": 0,
           "arrowwidth": 1
          },
          "autotypenumbers": "strict",
          "coloraxis": {
           "colorbar": {
            "outlinewidth": 0,
            "ticks": ""
           }
          },
          "colorscale": {
           "diverging": [
            [
             0,
             "#8e0152"
            ],
            [
             0.1,
             "#c51b7d"
            ],
            [
             0.2,
             "#de77ae"
            ],
            [
             0.3,
             "#f1b6da"
            ],
            [
             0.4,
             "#fde0ef"
            ],
            [
             0.5,
             "#f7f7f7"
            ],
            [
             0.6,
             "#e6f5d0"
            ],
            [
             0.7,
             "#b8e186"
            ],
            [
             0.8,
             "#7fbc41"
            ],
            [
             0.9,
             "#4d9221"
            ],
            [
             1,
             "#276419"
            ]
           ],
           "sequential": [
            [
             0,
             "#0d0887"
            ],
            [
             0.1111111111111111,
             "#46039f"
            ],
            [
             0.2222222222222222,
             "#7201a8"
            ],
            [
             0.3333333333333333,
             "#9c179e"
            ],
            [
             0.4444444444444444,
             "#bd3786"
            ],
            [
             0.5555555555555556,
             "#d8576b"
            ],
            [
             0.6666666666666666,
             "#ed7953"
            ],
            [
             0.7777777777777778,
             "#fb9f3a"
            ],
            [
             0.8888888888888888,
             "#fdca26"
            ],
            [
             1,
             "#f0f921"
            ]
           ],
           "sequentialminus": [
            [
             0,
             "#0d0887"
            ],
            [
             0.1111111111111111,
             "#46039f"
            ],
            [
             0.2222222222222222,
             "#7201a8"
            ],
            [
             0.3333333333333333,
             "#9c179e"
            ],
            [
             0.4444444444444444,
             "#bd3786"
            ],
            [
             0.5555555555555556,
             "#d8576b"
            ],
            [
             0.6666666666666666,
             "#ed7953"
            ],
            [
             0.7777777777777778,
             "#fb9f3a"
            ],
            [
             0.8888888888888888,
             "#fdca26"
            ],
            [
             1,
             "#f0f921"
            ]
           ]
          },
          "colorway": [
           "#636efa",
           "#EF553B",
           "#00cc96",
           "#ab63fa",
           "#FFA15A",
           "#19d3f3",
           "#FF6692",
           "#B6E880",
           "#FF97FF",
           "#FECB52"
          ],
          "font": {
           "color": "#2a3f5f"
          },
          "geo": {
           "bgcolor": "white",
           "lakecolor": "white",
           "landcolor": "#E5ECF6",
           "showlakes": true,
           "showland": true,
           "subunitcolor": "white"
          },
          "hoverlabel": {
           "align": "left"
          },
          "hovermode": "closest",
          "mapbox": {
           "style": "light"
          },
          "paper_bgcolor": "white",
          "plot_bgcolor": "#E5ECF6",
          "polar": {
           "angularaxis": {
            "gridcolor": "white",
            "linecolor": "white",
            "ticks": ""
           },
           "bgcolor": "#E5ECF6",
           "radialaxis": {
            "gridcolor": "white",
            "linecolor": "white",
            "ticks": ""
           }
          },
          "scene": {
           "xaxis": {
            "backgroundcolor": "#E5ECF6",
            "gridcolor": "white",
            "gridwidth": 2,
            "linecolor": "white",
            "showbackground": true,
            "ticks": "",
            "zerolinecolor": "white"
           },
           "yaxis": {
            "backgroundcolor": "#E5ECF6",
            "gridcolor": "white",
            "gridwidth": 2,
            "linecolor": "white",
            "showbackground": true,
            "ticks": "",
            "zerolinecolor": "white"
           },
           "zaxis": {
            "backgroundcolor": "#E5ECF6",
            "gridcolor": "white",
            "gridwidth": 2,
            "linecolor": "white",
            "showbackground": true,
            "ticks": "",
            "zerolinecolor": "white"
           }
          },
          "shapedefaults": {
           "line": {
            "color": "#2a3f5f"
           }
          },
          "ternary": {
           "aaxis": {
            "gridcolor": "white",
            "linecolor": "white",
            "ticks": ""
           },
           "baxis": {
            "gridcolor": "white",
            "linecolor": "white",
            "ticks": ""
           },
           "bgcolor": "#E5ECF6",
           "caxis": {
            "gridcolor": "white",
            "linecolor": "white",
            "ticks": ""
           }
          },
          "title": {
           "x": 0.05
          },
          "xaxis": {
           "automargin": true,
           "gridcolor": "white",
           "linecolor": "white",
           "ticks": "",
           "title": {
            "standoff": 15
           },
           "zerolinecolor": "white",
           "zerolinewidth": 2
          },
          "yaxis": {
           "automargin": true,
           "gridcolor": "white",
           "linecolor": "white",
           "ticks": "",
           "title": {
            "standoff": 15
           },
           "zerolinecolor": "white",
           "zerolinewidth": 2
          }
         }
        },
        "title": {
         "text": "Names per ethnicity"
        },
        "width": 800,
        "xaxis": {
         "anchor": "y",
         "domain": [
          0,
          1
         ],
         "title": {
          "text": "score"
         }
        },
        "yaxis": {
         "anchor": "x",
         "domain": [
          0,
          1
         ],
         "title": {
          "text": "word"
         }
        }
       }
      }
     },
     "metadata": {},
     "output_type": "display_data"
    }
   ],
   "source": [
    "#plot a bar plot of the top 20 most biased words with all the scores of the three methods\n",
    "import plotly_express as px\n",
    "\n",
    "\n",
    "def plot_top_biased_words(df, n_words=20):\n",
    "    df_top = df.head(n_words)\n",
    "    #remove the simple_bias_score column\n",
    "    #df_top = df_top.drop(columns=['simple_bias_score'])\n",
    "    df_top = df_top.reset_index()\n",
    "    df_top = df_top.rename(columns={'index': 'word'})\n",
    "    df_top = df_top.melt(\n",
    "        id_vars=['word'], var_name='score_type', value_name='score')\n",
    "    fig = px.bar(df_top, x=\"score\", y=\"word\",\n",
    "                 color=\"score_type\", barmode=\"group\", orientation='h',\n",
    "                 height=1000, width=800, title=\"Names per ethnicity\")\n",
    "   \n",
    "    \n",
    "    fig.show()\n",
    "\n",
    "\n",
    "plot_top_biased_words(df_names_white, n_words=50)\n",
    "plot_top_biased_words(df_names_black, n_words=50)\n",
    "plot_top_biased_words(df_names_hispanic, n_words=50)\n"
   ]
  },
  {
   "attachments": {},
   "cell_type": "markdown",
   "metadata": {},
   "source": [
    "1.2 Neutral words associated with ethnic names"
   ]
  },
  {
   "cell_type": "code",
   "execution_count": 19,
   "metadata": {},
   "outputs": [],
   "source": [
    "from Scripts.Evaluation import *"
   ]
  },
  {
   "cell_type": "code",
   "execution_count": 25,
   "metadata": {},
   "outputs": [],
   "source": [
    "#WEAT\n",
    "# Auxiliary functions for experiments by Caliskan et al.\n",
    "\n",
    "import scipy\n",
    "import scipy.misc as misc\n",
    "import itertools\n",
    "from Scripts.utils import *\n",
    "\n",
    "\n",
    "def similarity(word_dict, word1, word2):\n",
    "\n",
    "    \n",
    "    vec1 = word_dict[word1]\n",
    "    vec2 = word_dict[word2]\n",
    "\n",
    "    return cosine_similarity(vec1, vec2)\n",
    "\n",
    "def s_word(word_dict,w, A, B,all_s_words):\n",
    "\n",
    "    if w in all_s_words:\n",
    "        return all_s_words[w]\n",
    "\n",
    "    mean_a = []\n",
    "    mean_b = []\n",
    "\n",
    "    for a in A:\n",
    "        mean_a.append(similarity(word_dict,w, a))\n",
    "    for b in B:\n",
    "        mean_b.append(similarity(word_dict,w, b))\n",
    "\n",
    "    mean_a = sum(mean_a)/float(len(mean_a))\n",
    "    mean_b = sum(mean_b)/float(len(mean_b))\n",
    "\n",
    "    all_s_words[w] = mean_a - mean_b\n",
    "\n",
    "    return all_s_words[w]\n",
    "\n",
    "\n",
    "def s_group(word_dict,X, Y, A, B,all_s_words):\n",
    "\n",
    "    total = 0\n",
    "    for x in X:\n",
    "        total += s_word(word_dict,x, A, B,all_s_words)\n",
    "    for y in Y:\n",
    "        total -= s_word(word_dict,y, A, B, all_s_words)\n",
    "\n",
    "    return total\n",
    "\n",
    "\n",
    "def p_value_exhust(word_dict,X, Y, A, B):\n",
    "\n",
    "    if len(X) > 20:\n",
    "        print('might take too long, use sampled version: p_value')\n",
    "        return\n",
    "\n",
    "    assert(len(X) == len(Y))\n",
    "\n",
    "    all_s_words = {}\n",
    "    s_orig = s_group(word_dict,X, Y, A, B, all_s_words)\n",
    "\n",
    "    union = set(X+Y)\n",
    "    subset_size = len(union)/2\n",
    "\n",
    "    larger = 0\n",
    "    total = 0\n",
    "    for subset in tqdm(set(itertools.combinations(union, int(subset_size)))):\n",
    "        total += 1\n",
    "        Xi = list(set(subset))\n",
    "        Yi = list(union - set(subset))\n",
    "        if s_group(word_dict,Xi, Yi, A, B, all_s_words) > s_orig:\n",
    "            larger += 1\n",
    "    print('num of samples', total)\n",
    "    #print(all_s_words)\n",
    "    return larger/float(total)\n",
    "\n",
    "\n",
    "def p_value_sample(word_dict,X, Y, A, B):\n",
    "\n",
    "    np.random.seed(42)\n",
    "    \n",
    "    all_s_words = {}\n",
    "\n",
    "    assert(len(X) == len(Y))\n",
    "    length = len(X)\n",
    "\n",
    "    s_orig = s_group(word_dict, X, Y, A, B, all_s_words)\n",
    "\n",
    "    num_of_samples = min(1000000, int(\n",
    "        scipy.special.comb(length*2, length)*100))\n",
    "    print('num of samples', num_of_samples)\n",
    "    larger = 0\n",
    "    for i in range(num_of_samples):\n",
    "        permute = np.random.permutation(X+Y)\n",
    "        Xi = permute[:length]\n",
    "        Yi = permute[length:]\n",
    "        if s_group(word_dict,Xi, Yi, A, B, all_s_words) > s_orig:\n",
    "            larger += 1\n",
    "\n",
    "    return larger/float(num_of_samples)\n"
   ]
  },
  {
   "attachments": {},
   "cell_type": "markdown",
   "metadata": {},
   "source": [
    "Let's first define the sets to be used at weat:"
   ]
  },
  {
   "cell_type": "code",
   "execution_count": 61,
   "metadata": {},
   "outputs": [],
   "source": [
    "career = ['executive', 'management', 'professional',\n",
    "     'corporation', 'salary', 'office', 'business', 'career']\n",
    "family = ['home', 'parents', 'children', 'family',\n",
    "     'cousins', 'marriage', 'wedding', 'relatives']\n",
    "\n",
    "\n",
    "low_wage_occupations = ['operator','laborer', 'cleaner', 'guard',\n",
    "                        'plumber', 'janitor', 'fireman', 'waiter',\n",
    "                        'maid','cook','clerk','assistant','mechanic',\n",
    "                        'porter','electrician','carpenter','tailor',\n",
    "                        'hairdresser','helper']\n",
    "\n",
    "\n",
    "pleasant = [\"caress\", \"freedom\", \"health\", \"love\", \"peace\", \"cheer\", \n",
    "            \"friend\", \"heaven\", \"loyal\", \"pleasure\", \"diamond\", \"gentle\",\n",
    "            \"honest\", \"lucky\", \"rainbow\", \"diploma\", \"gift\", \"honor\",\n",
    "            \"miracle\", \"sunrise\", \"family\", \"happy\", \"laughter\", \"paradise\", \"vacation\"]\n",
    "\n",
    "unpleasant = [\"abuse\", \"crash\", \"filth\", \"murder\", \"sickness\", \"accident\", \"death\", \n",
    "              \"grief\", \"poison\", \"stink\", \"assault\", \"disaster\",\n",
    "              \"hatred\", \"pollute\", \"tragedy\", \"bomb\", \"divorce\", \"jail\", \n",
    "              \"poverty\", \"ugly\", \"cancer\", \"evil\", \"kill\", \"rotten\", \"vomit\"]\n",
    "\n",
    "music = [\"bagpipe\", \"cello\", \"guitar\", \"lute\", \"trombone\", \"banjo\", \"clarinet\", \"harmonica\",\n",
    "          \"mandolin\", \"trumpet\", \"bassoon\", \"drum\",\"harp\", \"oboe\", \"tuba\", \"bell\", \"fiddle\", \n",
    "          \"harpsichord\", \"piano\", \"viola\", \"bongo\", \"flute\", \"horn\", \"saxophone\", \"violin\", \"voice\"]\n",
    "guns = [\"arrow\", \"club\", \"gun\", \"missile\", \"spear\", \"axe\", \"dagger\", \"harpoon\", \"pistol\", \"sword\",\n",
    "         \"blade\", \"dynamite\",\"hatchet\", \"rifle\", \"tank\", \"bomb\", \"firearm\", \"knife\", \"shotgun\",\n",
    "         \"teargas\", \"cannon\", \"grenade\", \"mace\", \"slingshot\", \"whip\"]\n"
   ]
  },
  {
   "cell_type": "code",
   "execution_count": 55,
   "metadata": {},
   "outputs": [
    {
     "name": "stdout",
     "output_type": "stream",
     "text": [
      "Male names; black ethnicity: ['alonzo', 'jamel', 'jamal', 'lerone', 'theo', 'alphonse', 'jerome', 'leroy', 'torrance', 'darnell']\n",
      "Female names; black ethnicity: ['jasmine', 'latonya', 'tanisha', 'tia', 'lakisha', 'latoya', 'yolanda', 'malika', 'tawanda', 'yvette']\n",
      "Male names; hispanic ethnicity: ['juan', 'josé', 'miguel', 'luís', 'jorge', 'santiago', 'matías', 'sebastián', 'mateo', 'nicolás']\n",
      "Female names; hispanic ethnicity: ['sofía', 'isabella', 'valentina', 'camila', 'valeria', 'ximena', 'luciana', 'mariana', 'victoria', 'martina']\n",
      "Male names; white ethnicity: ['adam', 'chip', 'harry', 'josh', 'roger', 'alan', 'frank', 'ian', 'justin', 'ryan']\n",
      "Female names; white ethnicity: ['nancy', 'stephanie', 'ellen', 'lauren', 'peggy', 'colleen', 'emily', 'megan', 'rachel', 'wendy']\n"
     ]
    }
   ],
   "source": [
    "male_black_names=names_black_emb[:10]\n",
    "male_white_names=names_white_emb[:10]\n",
    "female_black_names=names_black_emb[-10:]\n",
    "female_white_names=names_white_emb[-10:]\n",
    "female_hispanic_names=names_hispanic_emb[-10:]\n",
    "male_hispanic_names = names_hispanic_emb[:10]\n",
    "\n",
    "\n",
    "#printing the above lists of names\n",
    "print(\"Male names; black ethnicity:\", male_black_names)\n",
    "print(\"Female names; black ethnicity:\", female_black_names)\n",
    "print(\"Male names; hispanic ethnicity:\", male_hispanic_names)\n",
    "print(\"Female names; hispanic ethnicity:\", female_hispanic_names)\n",
    "print(\"Male names; white ethnicity:\", male_white_names)\n",
    "print(\"Female names; white ethnicity:\", female_white_names)\n"
   ]
  },
  {
   "cell_type": "code",
   "execution_count": 58,
   "metadata": {},
   "outputs": [
    {
     "name": "stdout",
     "output_type": "stream",
     "text": [
      "Female and male names with guns and music words\n",
      "Before Debiasing\n",
      "num of samples 1000000\n",
      "0.838351\n",
      "After Debiasing\n",
      "num of samples 1000000\n",
      "0.00973\n"
     ]
    }
   ],
   "source": [
    "# Experiment 1:\n",
    "# Pleasant and unpleasant words\n",
    "print('Female and male names with guns and music words')\n",
    "print('Before Debiasing')\n",
    "print(p_value_sample(dict_vec_cleaned,male_black_names+male_white_names+male_hispanic_names, female_white_names+female_black_names+female_hispanic_names, guns, music))\n",
    "print('After Debiasing')\n",
    "print(p_value_sample(deb_dict_gender,male_black_names+male_white_names+male_hispanic_names, female_white_names+female_black_names+female_hispanic_names, guns, music))"
   ]
  },
  {
   "cell_type": "code",
   "execution_count": 59,
   "metadata": {},
   "outputs": [
    {
     "name": "stdout",
     "output_type": "stream",
     "text": [
      "Female and male names with pleasant and unpleasant words\n",
      "Before Debiasing\n",
      "num of samples 1000000\n",
      "0.076277\n",
      "After Debiasing\n",
      "num of samples 1000000\n",
      "0.880367\n"
     ]
    }
   ],
   "source": [
    "# Experiment 2:\n",
    "# Pleasant and unpleasant words\n",
    "print('Female and male names with pleasant and unpleasant words')\n",
    "print('Before Debiasing')\n",
    "print(p_value_sample(dict_vec_cleaned,male_black_names+male_white_names+male_hispanic_names, female_white_names+female_black_names+female_hispanic_names, pleasant, unpleasant))\n",
    "print('After Debiasing')\n",
    "print(p_value_sample(deb_dict_gender,male_black_names+male_white_names+male_hispanic_names, female_white_names+female_black_names+female_hispanic_names, pleasant, unpleasant))"
   ]
  },
  {
   "cell_type": "code",
   "execution_count": 62,
   "metadata": {},
   "outputs": [
    {
     "name": "stdout",
     "output_type": "stream",
     "text": [
      "Female and male names with career and family words\n",
      "Before Debiasing\n",
      "num of samples 1000000\n",
      "0.0\n",
      "After Debiasing\n",
      "num of samples 1000000\n",
      "0.171387\n"
     ]
    }
   ],
   "source": [
    "# Experiment 3:\n",
    "# career and family words\n",
    "print('Female and male names with career and family words')\n",
    "print('Before Debiasing')\n",
    "print(p_value_sample(dict_vec_cleaned,male_black_names+male_white_names+male_hispanic_names, female_white_names+female_black_names+female_hispanic_names, career, family))\n",
    "print('After Debiasing')\n",
    "print(p_value_sample(deb_dict_gender,male_black_names+male_white_names+male_hispanic_names, female_white_names+female_black_names+female_hispanic_names, career, family))"
   ]
  },
  {
   "cell_type": "code",
   "execution_count": 63,
   "metadata": {},
   "outputs": [
    {
     "name": "stdout",
     "output_type": "stream",
     "text": [
      "Female and male names with career and family words\n",
      "Before Debiasing\n",
      "num of samples 1000000\n",
      "4.5e-05\n",
      "After Debiasing\n",
      "num of samples 1000000\n",
      "0.009467\n"
     ]
    }
   ],
   "source": [
    "# Experiment 4:\n",
    "# career and low_wage_occupations words\n",
    "print('Female and male names with career and low wage words')\n",
    "print('Before Debiasing')\n",
    "print(p_value_sample(dict_vec_cleaned,male_black_names+male_white_names+male_hispanic_names, female_white_names+female_black_names+female_hispanic_names, career, low_wage_occupations))\n",
    "print('After Debiasing')\n",
    "print(p_value_sample(deb_dict_gender,male_black_names+male_white_names+male_hispanic_names, female_white_names+female_black_names+female_hispanic_names, career, low_wage_occupations))"
   ]
  },
  {
   "cell_type": "code",
   "execution_count": 75,
   "metadata": {},
   "outputs": [
    {
     "name": "stdout",
     "output_type": "stream",
     "text": [
      "Female and male names with guns and music words\n",
      "Before Debiasing\n",
      "num of samples 1000000\n",
      "0.359863\n",
      "After Debiasing\n",
      "num of samples 1000000\n",
      "0.019912\n",
      "_________________________________________________________\n",
      "Female and male names with pleasant and unpleasant words\n",
      "Before Debiasing\n",
      "num of samples 1000000\n",
      "0.220284\n",
      "After Debiasing\n",
      "num of samples 1000000\n",
      "0.814952\n",
      "_________________________________________________________\n",
      "Female and male names with career and family words\n",
      "Before Debiasing\n",
      "num of samples 1000000\n",
      "1e-06\n",
      "After Debiasing\n",
      "num of samples 1000000\n",
      "0.163114\n",
      "_________________________________________________________\n",
      "Female and male names with career and low wage words\n",
      "Before Debiasing\n",
      "num of samples 1000000\n",
      "0.000788\n",
      "After Debiasing\n",
      "num of samples 1000000\n",
      "0.01632\n"
     ]
    }
   ],
   "source": [
    "# Experiment 1:\n",
    "# Pleasant and unpleasant words\n",
    "print('Female and male names with guns and music words')\n",
    "print('Before Debiasing')\n",
    "print(p_value_sample(dict_vec_cleaned, male_black_names+male_white_names,\n",
    "      female_white_names+female_black_names, guns, music))\n",
    "print('After Debiasing')\n",
    "print(p_value_sample(deb_dict_gender, male_black_names+male_white_names,\n",
    "      female_white_names+female_black_names, guns, music))\n",
    "\n",
    "\n",
    "print('_________________________________________________________')\n",
    "# Experiment 2:\n",
    "# Pleasant and unpleasant words\n",
    "print('Female and male names with pleasant and unpleasant words')\n",
    "print('Before Debiasing')\n",
    "print(p_value_sample(dict_vec_cleaned, male_black_names+male_white_names,\n",
    "      female_white_names+female_black_names, pleasant, unpleasant))\n",
    "print('After Debiasing')\n",
    "print(p_value_sample(deb_dict_gender, male_black_names+male_white_names,\n",
    "      female_white_names+female_black_names, pleasant, unpleasant))\n",
    "\n",
    "\n",
    "print('_________________________________________________________')\n",
    "# Experiment 3:\n",
    "# career and family words\n",
    "print('Female and male names with career and family words')\n",
    "print('Before Debiasing')\n",
    "print(p_value_sample(dict_vec_cleaned, male_black_names+male_white_names,\n",
    "      female_white_names+female_black_names, career, family))\n",
    "print('After Debiasing')\n",
    "print(p_value_sample(deb_dict_gender, male_black_names+male_white_names,\n",
    "      female_white_names+female_black_names, career, family))\n",
    "\n",
    "print('_________________________________________________________')\n",
    "# Experiment 4:\n",
    "# career and low_wage_occupations words\n",
    "print('Female and male names with career and low wage words')\n",
    "print('Before Debiasing')\n",
    "print(p_value_sample(dict_vec_cleaned,male_black_names+male_white_names, \n",
    "                     female_white_names+female_black_names, career, low_wage_occupations))\n",
    "print('After Debiasing')\n",
    "print(p_value_sample(deb_dict_gender,male_black_names+male_white_names, \n",
    "                     female_white_names+female_black_names, career, low_wage_occupations))"
   ]
  },
  {
   "attachments": {},
   "cell_type": "markdown",
   "metadata": {},
   "source": [
    "Intersections"
   ]
  },
  {
   "cell_type": "code",
   "execution_count": 71,
   "metadata": {},
   "outputs": [
    {
     "name": "stdout",
     "output_type": "stream",
     "text": [
      "Black and white male names with career and family\n",
      "Before Debiasing\n"
     ]
    },
    {
     "name": "stderr",
     "output_type": "stream",
     "text": [
      "100%|██████████| 184756/184756 [00:00<00:00, 186673.29it/s]\n"
     ]
    },
    {
     "name": "stdout",
     "output_type": "stream",
     "text": [
      "num of samples 184756\n",
      "0.1992357487713525\n",
      "After Debiasing\n"
     ]
    },
    {
     "name": "stderr",
     "output_type": "stream",
     "text": [
      "100%|██████████| 184756/184756 [00:00<00:00, 202648.61it/s]\n"
     ]
    },
    {
     "name": "stdout",
     "output_type": "stream",
     "text": [
      "num of samples 184756\n",
      "0.34103899196778453\n",
      "----------------------------------------------------\n",
      "Black and white male names with career and low_wage_occupations\n",
      "Before Debiasing\n"
     ]
    },
    {
     "name": "stderr",
     "output_type": "stream",
     "text": [
      "100%|██████████| 184756/184756 [00:00<00:00, 209600.56it/s]\n"
     ]
    },
    {
     "name": "stdout",
     "output_type": "stream",
     "text": [
      "num of samples 184756\n",
      "0.0\n",
      "After Debiasing\n"
     ]
    },
    {
     "name": "stderr",
     "output_type": "stream",
     "text": [
      "100%|██████████| 184756/184756 [00:00<00:00, 203762.12it/s]\n"
     ]
    },
    {
     "name": "stdout",
     "output_type": "stream",
     "text": [
      "num of samples 184756\n",
      "0.0021758427331182747\n",
      "----------------------------------------------------\n",
      "Black and white male names with pleasant and unpleasant words\n",
      "Before Debiasing\n"
     ]
    },
    {
     "name": "stderr",
     "output_type": "stream",
     "text": [
      "100%|██████████| 184756/184756 [00:00<00:00, 199497.28it/s]\n"
     ]
    },
    {
     "name": "stdout",
     "output_type": "stream",
     "text": [
      "num of samples 184756\n",
      "0.0008335317932841152\n",
      "After Debiasing\n"
     ]
    },
    {
     "name": "stderr",
     "output_type": "stream",
     "text": [
      "100%|██████████| 184756/184756 [00:00<00:00, 198733.93it/s]\n"
     ]
    },
    {
     "name": "stdout",
     "output_type": "stream",
     "text": [
      "num of samples 184756\n",
      "0.11043755006603304\n",
      "----------------------------------------------------\n",
      "Black and white male names with music and guns\n",
      "Before Debiasing\n"
     ]
    },
    {
     "name": "stderr",
     "output_type": "stream",
     "text": [
      "100%|██████████| 184756/184756 [00:00<00:00, 203544.66it/s]\n"
     ]
    },
    {
     "name": "stdout",
     "output_type": "stream",
     "text": [
      "num of samples 184756\n",
      "0.16658187014224166\n",
      "After Debiasing\n"
     ]
    },
    {
     "name": "stderr",
     "output_type": "stream",
     "text": [
      "100%|██████████| 184756/184756 [00:00<00:00, 203890.74it/s]"
     ]
    },
    {
     "name": "stdout",
     "output_type": "stream",
     "text": [
      "num of samples 184756\n",
      "0.0028686483794842926\n"
     ]
    },
    {
     "name": "stderr",
     "output_type": "stream",
     "text": [
      "\n"
     ]
    }
   ],
   "source": [
    "#Black and white names with career and family\n",
    "print('Black and white male names with career and family')\n",
    "print('Before Debiasing')\n",
    "print(p_value_exhust(dict_vec_cleaned,male_white_names, male_black_names, career, family))\n",
    "print('After Debiasing')\n",
    "print(p_value_exhust(deb_dict_gender,male_white_names, male_black_names, career, family))\n",
    "print('----------------------------------------------------')\n",
    "\n",
    "#Black and white names with career and low wage occupations\n",
    "print('Black and white male names with career and low_wage_occupations')\n",
    "print('Before Debiasing')\n",
    "print(p_value_exhust(dict_vec_cleaned, male_white_names,\n",
    "      male_black_names, career, low_wage_occupations))\n",
    "print('After Debiasing')\n",
    "print(p_value_exhust(deb_dict_gender, male_white_names,\n",
    "      male_black_names, career, low_wage_occupations))\n",
    "print('----------------------------------------------------')\n",
    "#Black and white names with pleasant and unpleasant words\n",
    "print('Black and white male names with pleasant and unpleasant words')\n",
    "print('Before Debiasing')\n",
    "print(p_value_exhust(dict_vec_cleaned,male_white_names, male_black_names, pleasant, unpleasant))\n",
    "print('After Debiasing')\n",
    "print(p_value_exhust(deb_dict_gender,male_white_names, male_black_names, pleasant, unpleasant))\n",
    "\n",
    "print('----------------------------------------------------')\n",
    "\n",
    "#Black and white names with music and guns\n",
    "print('Black and white male names with music and guns')\n",
    "print('Before Debiasing')\n",
    "print(p_value_exhust(dict_vec_cleaned,\n",
    "      male_white_names, male_black_names, guns, music))\n",
    "print('After Debiasing')\n",
    "print(p_value_exhust(deb_dict_gender, male_white_names, male_black_names, guns, music))\n",
    "\n"
   ]
  },
  {
   "cell_type": "code",
   "execution_count": 72,
   "metadata": {},
   "outputs": [
    {
     "name": "stdout",
     "output_type": "stream",
     "text": [
      "Black and white female names with career and family\n",
      "Before Debiasing\n"
     ]
    },
    {
     "name": "stderr",
     "output_type": "stream",
     "text": [
      "100%|██████████| 184756/184756 [00:00<00:00, 202116.63it/s]\n"
     ]
    },
    {
     "name": "stdout",
     "output_type": "stream",
     "text": [
      "num of samples 184756\n",
      "0.8410931174089069\n",
      "After Debiasing\n"
     ]
    },
    {
     "name": "stderr",
     "output_type": "stream",
     "text": [
      "100%|██████████| 184756/184756 [00:00<00:00, 195841.78it/s]\n"
     ]
    },
    {
     "name": "stdout",
     "output_type": "stream",
     "text": [
      "num of samples 184756\n",
      "0.010473272857173786\n",
      "----------------------------------------------------\n",
      "Black and white female names with career and low_wage_occupations\n",
      "Before Debiasing\n"
     ]
    },
    {
     "name": "stderr",
     "output_type": "stream",
     "text": [
      "100%|██████████| 184756/184756 [00:00<00:00, 202085.90it/s]\n"
     ]
    },
    {
     "name": "stdout",
     "output_type": "stream",
     "text": [
      "num of samples 184756\n",
      "3.247526467340709e-05\n",
      "After Debiasing\n"
     ]
    },
    {
     "name": "stderr",
     "output_type": "stream",
     "text": [
      "100%|██████████| 184756/184756 [00:00<00:00, 199327.83it/s]\n"
     ]
    },
    {
     "name": "stdout",
     "output_type": "stream",
     "text": [
      "num of samples 184756\n",
      "3.78878087856416e-05\n",
      "----------------------------------------------------\n",
      "Black and white female names with pleasant and unpleasant words\n",
      "Before Debiasing\n"
     ]
    },
    {
     "name": "stderr",
     "output_type": "stream",
     "text": [
      "100%|██████████| 184756/184756 [00:00<00:00, 199263.35it/s]\n"
     ]
    },
    {
     "name": "stdout",
     "output_type": "stream",
     "text": [
      "num of samples 184756\n",
      "0.0012124098811405312\n",
      "After Debiasing\n"
     ]
    },
    {
     "name": "stderr",
     "output_type": "stream",
     "text": [
      "100%|██████████| 184756/184756 [00:00<00:00, 201238.88it/s]\n"
     ]
    },
    {
     "name": "stdout",
     "output_type": "stream",
     "text": [
      "num of samples 184756\n",
      "0.16180800623525082\n",
      "----------------------------------------------------\n",
      "Black and white female names with music and guns\n",
      "Before Debiasing\n"
     ]
    },
    {
     "name": "stderr",
     "output_type": "stream",
     "text": [
      "100%|██████████| 184756/184756 [00:00<00:00, 199477.71it/s]\n"
     ]
    },
    {
     "name": "stdout",
     "output_type": "stream",
     "text": [
      "num of samples 184756\n",
      "0.02562298382731819\n",
      "After Debiasing\n"
     ]
    },
    {
     "name": "stderr",
     "output_type": "stream",
     "text": [
      "100%|██████████| 184756/184756 [00:00<00:00, 201099.76it/s]"
     ]
    },
    {
     "name": "stdout",
     "output_type": "stream",
     "text": [
      "num of samples 184756\n",
      "0.014023901794799627\n"
     ]
    },
    {
     "name": "stderr",
     "output_type": "stream",
     "text": [
      "\n"
     ]
    }
   ],
   "source": [
    "#Black and white female names with career and family\n",
    "print('Black and white female names with career and family')\n",
    "print('Before Debiasing')\n",
    "print(p_value_exhust(dict_vec_cleaned, female_white_names,\n",
    "      female_black_names, career, family))\n",
    "print('After Debiasing')\n",
    "print(p_value_exhust(deb_dict_gender, female_white_names,\n",
    "      female_black_names, career, family))\n",
    "print('----------------------------------------------------')\n",
    "\n",
    "#Black and white female names with career and low wage occupations\n",
    "print('Black and white female names with career and low_wage_occupations')\n",
    "print('Before Debiasing')\n",
    "print(p_value_exhust(dict_vec_cleaned, female_white_names,\n",
    "      female_black_names, career, low_wage_occupations))\n",
    "print('After Debiasing')\n",
    "print(p_value_exhust(deb_dict_gender, female_white_names,\n",
    "      female_black_names, career, low_wage_occupations))\n",
    "print('----------------------------------------------------')\n",
    "#Black and white female names with pleasant and unpleasant words\n",
    "print('Black and white female names with pleasant and unpleasant words')\n",
    "print('Before Debiasing')\n",
    "print(p_value_exhust(dict_vec_cleaned, female_white_names,\n",
    "      female_black_names, pleasant, unpleasant))\n",
    "print('After Debiasing')\n",
    "print(p_value_exhust(deb_dict_gender, female_white_names,\n",
    "      female_black_names, pleasant, unpleasant))\n",
    "\n",
    "print('----------------------------------------------------')\n",
    "\n",
    "#Black and white female names with music and guns\n",
    "print('Black and white female names with music and guns')\n",
    "print('Before Debiasing')\n",
    "print(p_value_exhust(dict_vec_cleaned,\n",
    "      female_white_names, female_black_names, guns, music))\n",
    "print('After Debiasing')\n",
    "print(p_value_exhust(deb_dict_gender, female_white_names, female_black_names, guns, music))\n"
   ]
  },
  {
   "cell_type": "code",
   "execution_count": 73,
   "metadata": {},
   "outputs": [
    {
     "name": "stdout",
     "output_type": "stream",
     "text": [
      "Black male and white female names with career and family\n",
      "Before Debiasing\n"
     ]
    },
    {
     "name": "stderr",
     "output_type": "stream",
     "text": [
      "100%|██████████| 184756/184756 [00:00<00:00, 194328.41it/s]\n"
     ]
    },
    {
     "name": "stdout",
     "output_type": "stream",
     "text": [
      "num of samples 184756\n",
      "0.0001840264998159735\n",
      "After Debiasing\n"
     ]
    },
    {
     "name": "stderr",
     "output_type": "stream",
     "text": [
      "100%|██████████| 184756/184756 [00:00<00:00, 198756.00it/s]\n"
     ]
    },
    {
     "name": "stdout",
     "output_type": "stream",
     "text": [
      "num of samples 184756\n",
      "0.742243824287168\n",
      "----------------------------------------------------\n",
      "Black male and white female names with career and low_wage_occupations\n",
      "Before Debiasing\n"
     ]
    },
    {
     "name": "stderr",
     "output_type": "stream",
     "text": [
      "100%|██████████| 184756/184756 [00:00<00:00, 194170.75it/s]\n"
     ]
    },
    {
     "name": "stdout",
     "output_type": "stream",
     "text": [
      "num of samples 184756\n",
      "0.8989045010716837\n",
      "After Debiasing\n"
     ]
    },
    {
     "name": "stderr",
     "output_type": "stream",
     "text": [
      "100%|██████████| 184756/184756 [00:00<00:00, 196393.86it/s]\n"
     ]
    },
    {
     "name": "stdout",
     "output_type": "stream",
     "text": [
      "num of samples 184756\n",
      "0.9679090259585615\n",
      "----------------------------------------------------\n",
      "Black male and white female names with pleasant and unpleasant words\n",
      "Before Debiasing\n"
     ]
    },
    {
     "name": "stderr",
     "output_type": "stream",
     "text": [
      "100%|██████████| 184756/184756 [00:00<00:00, 196337.93it/s]\n"
     ]
    },
    {
     "name": "stdout",
     "output_type": "stream",
     "text": [
      "num of samples 184756\n",
      "0.9937106237415835\n",
      "After Debiasing\n"
     ]
    },
    {
     "name": "stderr",
     "output_type": "stream",
     "text": [
      "100%|██████████| 184756/184756 [00:00<00:00, 196774.61it/s]\n"
     ]
    },
    {
     "name": "stdout",
     "output_type": "stream",
     "text": [
      "num of samples 184756\n",
      "0.9479746259932018\n",
      "----------------------------------------------------\n",
      "Black male and white female names with music and guns\n",
      "Before Debiasing\n"
     ]
    },
    {
     "name": "stderr",
     "output_type": "stream",
     "text": [
      "100%|██████████| 184756/184756 [00:00<00:00, 197153.84it/s]\n"
     ]
    },
    {
     "name": "stdout",
     "output_type": "stream",
     "text": [
      "num of samples 184756\n",
      "0.9126253003961983\n",
      "After Debiasing\n"
     ]
    },
    {
     "name": "stderr",
     "output_type": "stream",
     "text": [
      "100%|██████████| 184756/184756 [00:00<00:00, 196871.30it/s]"
     ]
    },
    {
     "name": "stdout",
     "output_type": "stream",
     "text": [
      "num of samples 184756\n",
      "0.835994500855182\n"
     ]
    },
    {
     "name": "stderr",
     "output_type": "stream",
     "text": [
      "\n"
     ]
    }
   ],
   "source": [
    "#Black male and white female names with career and family\n",
    "print('Black male and white female names with career and family')\n",
    "print('Before Debiasing')\n",
    "print(p_value_exhust(dict_vec_cleaned, male_black_names,\n",
    "      female_white_names, career, family))\n",
    "print('After Debiasing')\n",
    "print(p_value_exhust(deb_dict_gender, male_black_names,\n",
    "      female_white_names, career, family))\n",
    "print('----------------------------------------------------')\n",
    "\n",
    "#Black and white female names with career and low wage occupations\n",
    "print('Black male and white female names with career and low_wage_occupations')\n",
    "print('Before Debiasing')\n",
    "print(p_value_exhust(dict_vec_cleaned, male_black_names,\n",
    "      female_white_names, career, low_wage_occupations))\n",
    "print('After Debiasing')\n",
    "print(p_value_exhust(deb_dict_gender, male_black_names,\n",
    "      female_white_names, career, low_wage_occupations))\n",
    "print('----------------------------------------------------')\n",
    "#Black and white female names with pleasant and unpleasant words\n",
    "print('Black male and white female names with pleasant and unpleasant words')\n",
    "print('Before Debiasing')\n",
    "print(p_value_exhust(dict_vec_cleaned, male_black_names,\n",
    "      female_white_names, pleasant, unpleasant))\n",
    "print('After Debiasing')\n",
    "print(p_value_exhust(deb_dict_gender, male_black_names,\n",
    "      female_white_names, pleasant, unpleasant))\n",
    "\n",
    "print('----------------------------------------------------')\n",
    "\n",
    "#Black and white female names with music and guns\n",
    "print('Black male and white female names with music and guns')\n",
    "print('Before Debiasing')\n",
    "print(p_value_exhust(dict_vec_cleaned,\n",
    "      male_black_names, female_white_names, guns, music))\n",
    "print('After Debiasing')\n",
    "print(p_value_exhust(deb_dict_gender,\n",
    "      male_black_names, female_white_names, guns, music))\n"
   ]
  },
  {
   "cell_type": "code",
   "execution_count": 74,
   "metadata": {},
   "outputs": [
    {
     "name": "stdout",
     "output_type": "stream",
     "text": [
      "Black female and white male names with career and family\n",
      "Before Debiasing\n"
     ]
    },
    {
     "name": "stderr",
     "output_type": "stream",
     "text": [
      "100%|██████████| 184756/184756 [00:00<00:00, 200970.68it/s]\n"
     ]
    },
    {
     "name": "stdout",
     "output_type": "stream",
     "text": [
      "num of samples 184756\n",
      "0.0009634328519777436\n",
      "After Debiasing\n"
     ]
    },
    {
     "name": "stderr",
     "output_type": "stream",
     "text": [
      "100%|██████████| 184756/184756 [00:00<00:00, 199639.95it/s]\n"
     ]
    },
    {
     "name": "stdout",
     "output_type": "stream",
     "text": [
      "num of samples 184756\n",
      "0.02463790079889151\n",
      "----------------------------------------------------\n",
      "Black female and white male names with career and low_wage_occupations\n",
      "Before Debiasing\n"
     ]
    },
    {
     "name": "stderr",
     "output_type": "stream",
     "text": [
      "100%|██████████| 184756/184756 [00:00<00:00, 200959.11it/s]\n"
     ]
    },
    {
     "name": "stdout",
     "output_type": "stream",
     "text": [
      "num of samples 184756\n",
      "0.0\n",
      "After Debiasing\n"
     ]
    },
    {
     "name": "stderr",
     "output_type": "stream",
     "text": [
      "100%|██████████| 184756/184756 [00:00<00:00, 199641.03it/s]\n"
     ]
    },
    {
     "name": "stdout",
     "output_type": "stream",
     "text": [
      "num of samples 184756\n",
      "1.082508822446903e-05\n",
      "----------------------------------------------------\n",
      "Black female and white male names with pleasant and unpleasant words\n",
      "Before Debiasing\n"
     ]
    },
    {
     "name": "stderr",
     "output_type": "stream",
     "text": [
      "100%|██████████| 184756/184756 [00:00<00:00, 205230.65it/s]\n"
     ]
    },
    {
     "name": "stdout",
     "output_type": "stream",
     "text": [
      "num of samples 184756\n",
      "5.953798523457966e-05\n",
      "After Debiasing\n"
     ]
    },
    {
     "name": "stderr",
     "output_type": "stream",
     "text": [
      "100%|██████████| 184756/184756 [00:00<00:00, 201080.76it/s]\n"
     ]
    },
    {
     "name": "stdout",
     "output_type": "stream",
     "text": [
      "num of samples 184756\n",
      "0.31610881378683237\n",
      "----------------------------------------------------\n",
      "Black female and white male names with music and guns\n",
      "Before Debiasing\n"
     ]
    },
    {
     "name": "stderr",
     "output_type": "stream",
     "text": [
      "100%|██████████| 184756/184756 [00:00<00:00, 206447.24it/s]\n"
     ]
    },
    {
     "name": "stdout",
     "output_type": "stream",
     "text": [
      "num of samples 184756\n",
      "0.05073718850808634\n",
      "After Debiasing\n"
     ]
    },
    {
     "name": "stderr",
     "output_type": "stream",
     "text": [
      "100%|██████████| 184756/184756 [00:00<00:00, 204164.48it/s]"
     ]
    },
    {
     "name": "stdout",
     "output_type": "stream",
     "text": [
      "num of samples 184756\n",
      "0.00011907597046915932\n"
     ]
    },
    {
     "name": "stderr",
     "output_type": "stream",
     "text": [
      "\n"
     ]
    }
   ],
   "source": [
    "#Black female and white male names with career and family\n",
    "print('Black female and white male names with career and family')\n",
    "print('Before Debiasing')\n",
    "print(p_value_exhust(dict_vec_cleaned, male_white_names,\n",
    "      female_black_names, career, family))\n",
    "print('After Debiasing')\n",
    "print(p_value_exhust(deb_dict_gender, male_white_names,\n",
    "      female_black_names, career, family))\n",
    "print('----------------------------------------------------')\n",
    "\n",
    "#Black and white female names with career and low wage occupations\n",
    "print('Black female and white male names with career and low_wage_occupations')\n",
    "print('Before Debiasing')\n",
    "print(p_value_exhust(dict_vec_cleaned, male_white_names,\n",
    "      female_black_names, career, low_wage_occupations))\n",
    "print('After Debiasing')\n",
    "print(p_value_exhust(deb_dict_gender, male_white_names,\n",
    "      female_black_names, career, low_wage_occupations))\n",
    "print('----------------------------------------------------')\n",
    "#Black and white female names with pleasant and unpleasant words\n",
    "print('Black female and white male names with pleasant and unpleasant words')\n",
    "print('Before Debiasing')\n",
    "print(p_value_exhust(dict_vec_cleaned, male_white_names,\n",
    "      female_black_names, pleasant, unpleasant))\n",
    "print('After Debiasing')\n",
    "print(p_value_exhust(deb_dict_gender, male_white_names,\n",
    "      female_black_names, pleasant, unpleasant))\n",
    "\n",
    "print('----------------------------------------------------')\n",
    "\n",
    "#Black and white female names with music and guns\n",
    "print('Black female and white male names with music and guns')\n",
    "print('Before Debiasing')\n",
    "print(p_value_exhust(dict_vec_cleaned,\n",
    "      male_white_names, female_black_names, guns, music))\n",
    "print('After Debiasing')\n",
    "print(p_value_exhust(deb_dict_gender,\n",
    "      male_white_names, female_black_names, guns, music))\n"
   ]
  }
 ],
 "metadata": {
  "kernelspec": {
   "display_name": ".venv",
   "language": "python",
   "name": "python3"
  },
  "language_info": {
   "codemirror_mode": {
    "name": "ipython",
    "version": 3
   },
   "file_extension": ".py",
   "mimetype": "text/x-python",
   "name": "python",
   "nbconvert_exporter": "python",
   "pygments_lexer": "ipython3",
   "version": "3.10.10"
  },
  "orig_nbformat": 4
 },
 "nbformat": 4,
 "nbformat_minor": 2
}
