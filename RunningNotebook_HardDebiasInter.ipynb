{
 "cells": [
  {
   "cell_type": "code",
   "execution_count": 1,
   "metadata": {},
   "outputs": [],
   "source": [
    "from Scripts.ProcessingEmbeddings import *\n",
    "from Scripts.HardDebias import *\n",
    "from Scripts.utils import *"
   ]
  },
  {
   "cell_type": "code",
   "execution_count": 2,
   "metadata": {},
   "outputs": [],
   "source": [
    "import codecs\n",
    "import json\n",
    "import numpy as np\n",
    "import sklearn"
   ]
  },
  {
   "cell_type": "code",
   "execution_count": 3,
   "metadata": {},
   "outputs": [
    {
     "name": "stdout",
     "output_type": "stream",
     "text": [
      "Loading glove-wiki-gigaword-50 embeddings\n",
      "vectors shape: (400000, 50), word2idx length: 400000, vocab length: 400000\n"
     ]
    }
   ],
   "source": [
    "glove=Embeddings('glove-wiki-gigaword-50')"
   ]
  },
  {
   "cell_type": "code",
   "execution_count": 4,
   "metadata": {},
   "outputs": [],
   "source": [
    "vectors=glove.vectors\n",
    "word2idx=glove.word2idx\n",
    "vocab=glove.words\n",
    "dict_vectors = glove.get_word_vector_dict()"
   ]
  },
  {
   "cell_type": "code",
   "execution_count": 5,
   "metadata": {},
   "outputs": [
    {
     "data": {
      "text/plain": [
       "False"
      ]
     },
     "execution_count": 5,
     "metadata": {},
     "output_type": "execute_result"
    }
   ],
   "source": [
    "np.isnan(vectors).any()"
   ]
  },
  {
   "cell_type": "code",
   "execution_count": 6,
   "metadata": {},
   "outputs": [
    {
     "name": "stderr",
     "output_type": "stream",
     "text": [
      "100%|██████████| 400000/400000 [00:00<00:00, 611739.40it/s]\n"
     ]
    },
    {
     "name": "stdout",
     "output_type": "stream",
     "text": [
      "Size of limited vocabulary: 327185\n"
     ]
    }
   ],
   "source": [
    "# Getting a limited vocabulary to debias the embeddings.\n",
    "vocab_cleaned, vectors_cleaned, word2idx_cleaned, dict_vec_cleaned = glove.limit_vocab(vectors, word2idx, vocab)"
   ]
  },
  {
   "attachments": {},
   "cell_type": "markdown",
   "metadata": {},
   "source": [
    "## Hard-Debias Algorithm"
   ]
  },
  {
   "attachments": {},
   "cell_type": "markdown",
   "metadata": {},
   "source": [
    "#### Preliminaries"
   ]
  },
  {
   "cell_type": "code",
   "execution_count": 7,
   "metadata": {},
   "outputs": [],
   "source": [
    "#Gender specific vocabulary:\n",
    "gender_specific=[]\n",
    "female_vocab=[]\n",
    "male_vocab=[]\n",
    "with open('./Data/male_word_file.txt') as f:\n",
    "    male_vocab = [line.strip() for line in f]\n",
    "\n",
    "with open('./Data/female_word_file.txt') as f:\n",
    "    for l in f:\n",
    "        female_vocab.append(l.strip())\n",
    "\n",
    "gender_specific=female_vocab+female_vocab\n",
    "\n",
    "with codecs.open('./Data/gender_specific_full.json') as f:\n",
    "    gender_specific.extend(json.load(f))"
   ]
  },
  {
   "cell_type": "code",
   "execution_count": 90,
   "metadata": {},
   "outputs": [],
   "source": [
    "#Getting the definitional sets to calculate afterwards the gender direction. The first 10 gender sets were proposed by Bolukbasi et al. (2016)\n",
    "#Definitional sets for race where proposed by Manzini et al. in Multiclass debiasing of embeddings: https://github.com/TManzini/DebiasMulticlassWordEmbedding/blob/master/Debiasing/data/vocab/race_attributes_optm.json\n",
    "\n",
    "def_sets = {\n",
    "    \"gender\": [\n",
    "        ['she', 'he'], ['herself', 'himself'], [\n",
    "            'her', 'his'], ['daughter', 'son'], ['girl', 'boy'],\n",
    "        ['mother', 'father'], ['woman', 'man'], ['mary', 'john'], ['gal', 'guy'], ['female', 'male'], ['aunt', 'uncle']],\n",
    "\n",
    "    \"race\": [\n",
    "        [\"black\", \"caucasian\", \"asian\", \"hispanic\"],\n",
    "      \t\t[\"african\", \"caucasian\", \"asian\", \"hispanic\"],\n",
    "      \t\t[\"black\", \"white\", \"asian\", \"latino\"],\n",
    "      \t\t[\"africa\", \"europe\", \"asia\", \"mexico\"],\n",
    "      \t\t[\"africa\", \"america\", \"china\", \"latin-america\"],\n",
    "    ]\n",
    "}\n",
    "\n",
    "#Equalizing pairs for gender debiasing were first published by Bolukbasi et al. in https://github.com/tolga-b/debiaswe/blob/master/data/equalize_pairs.json\n",
    "# Equalizing sets for race where defined by Manzini as equal to the defining set (Manzini et al., 2019.p.3)\n",
    "equalizing_lists = {\n",
    "    \"gender\": [\n",
    "        [\"monastery\", \"convent\"], [\"spokesman\", \"spokeswoman\"], [\n",
    "            \"Catholic_priest\", \"nun\"], [\"Dad\", \"Mom\"], [\"Men\", \"Women\"],\n",
    "        [\"councilman\", \"councilwoman\"], [\"grandpa\", \"grandma\"], [\n",
    "            \"grandsons\", \"granddaughters\"], [\"prostate_cancer\", \"ovarian_cancer\"],\n",
    "        [\"testosterone\", \"estrogen\"], [\"uncle\", \"aunt\"], [\n",
    "            \"wives\", \"husbands\"], [\"Father\", \"Mother\"], [\"Grandpa\", \"Grandma\"],\n",
    "        [\"He\", \"She\"], [\"boy\", \"girl\"], [\"boys\", \"girls\"], [\"brother\", \"sister\"], [\n",
    "            \"brothers\", \"sisters\"], [\"businessman\", \"businesswoman\"],\n",
    "        [\"chairman\", \"chairwoman\"], [\"colt\", \"filly\"], [\"congressman\",\n",
    "                                                        \"congresswoman\"], [\"dad\", \"mom\"], [\"dads\", \"moms\"], [\"dudes\", \"gals\"],\n",
    "        [\"ex_girlfriend\", \"ex_boyfriend\"], [\"father\", \"mother\"], [\n",
    "            \"fatherhood\", \"motherhood\"], [\"fathers\", \"mothers\"], [\"fella\", \"granny\"],\n",
    "        [\"fraternity\", \"sorority\"], [\"gelding\", \"mare\"], [\"gentleman\", \"lady\"], [\n",
    "            \"gentlemen\", \"ladies\"], [\"grandfather\", \"grandmother\"],\n",
    "        [\"grandson\", \"granddaughter\"], [\"he\", \"she\"], [\"himself\", \"herself\"], [\n",
    "            \"his\", \"her\"], [\"king\", \"queen\"], [\"kings\", \"queens\"],\n",
    "        [\"male\", \"female\"], [\"males\", \"females\"], [\"man\", \"woman\"], [\n",
    "            \"men\", \"women\"], [\"nephew\", \"niece\"], [\"prince\", \"princess\"],\n",
    "        [\"schoolboy\", \"schoolgirl\"], [\"son\", \"daughter\"], [\"sons\", \"daughters\"], [\"twin_brother\", \"twin_sister\"]]}\n",
    "\n",
    "#Some of the words were taken from the analogies' templates from Cheng and Manzini.\n",
    "#The list is not the same, however, because some of the words were not neutral, but carried some\n",
    "#relation to the social categories.\n",
    "neutral_words = [\"manager\", \"executive\", \"doctor\", \"lawyer\", \"programmer\",\n",
    "                 \"scientist\", \"soldier\", \"supervisor\", \"rancher\", \"janitor\",\n",
    "                 \"firefighter\", \"officer\", \"secretary\", \"nurse\", \"clerk\", \"artist\",\n",
    "                 \"homemaker\", \"dancer\", \"singer\", \"librarian\", \"maid\", \"hairdresser\", \"stylist\",\n",
    "                 \"receptionist\", \"counselor\", \"leader\", \"farmer\",\n",
    "                 \"engineer\", \"laborer\", \"teacher\",\n",
    "                 \"slave\", \"musician\", \"runner\", \"criminal\", \"homeless\",\n",
    "                 \"greedy\", \"cheap\", \"hairy\", \"liberal\",\n",
    "                 \"judgemental\", \"conservative\", \"familial\",\n",
    "                 \"violent\", \"terrorist\", \"dirty\", \"uneducated\", \"educated\"]\n",
    "\n",
    "\n",
    "#However, also the vocabulary without the gendered words from the list can be conceived as neutral, according to Bolukbasi et al.\n"
   ]
  },
  {
   "cell_type": "code",
   "execution_count": 9,
   "metadata": {},
   "outputs": [],
   "source": [
    "#Lists of names for validation\n",
    "#Adapted from Speer's tutorial on racism in sentiment analysis. http://blog.conceptnet.io/posts/2017/how-to-make-a-racist-ai-without-really-trying/\n",
    "names_ethnicity = {\n",
    "    # The first two lists are from the Caliskan et al. appendix describing the\n",
    "    # Word Embedding Association Test.\n",
    "    'White': [\n",
    "        'Adam', 'Chip', 'Harry', 'Josh', 'Roger', 'Alan', 'Frank', 'Ian', 'Justin',\n",
    "        'Ryan', 'Andrew', 'Fred', 'Jack', 'Matthew', 'Stephen', 'Brad', 'Greg', 'Jed',\n",
    "        'Paul', 'Todd', 'Brandon', 'Hank', 'Jonathan', 'Peter', 'Wilbur', 'Amanda',\n",
    "        'Courtney', 'Heather', 'Melanie', 'Sara', 'Amber', 'Crystal', 'Katie',\n",
    "        'Meredith', 'Shannon', 'Betsy', 'Donna', 'Kristin', 'Nancy', 'Stephanie',\n",
    "        'Bobbie-Sue', 'Ellen', 'Lauren', 'Peggy', 'Sue-Ellen', 'Colleen', 'Emily',\n",
    "        'Megan', 'Rachel', 'Wendy'\n",
    "    ],\n",
    "\n",
    "    'Black': [\n",
    "        'Alonzo', 'Jamel', 'Lerone', 'Percell', 'Theo', 'Alphonse', 'Jerome',\n",
    "        'Leroy', 'Rasaan', 'Torrance', 'Darnell', 'Lamar', 'Lionel', 'Rashaun',\n",
    "        'Tyree', 'Deion', 'Lamont', 'Malik', 'Terrence', 'Tyrone', 'Everol',\n",
    "        'Lavon', 'Marcellus', 'Terryl', 'Wardell', 'Aiesha', 'Lashelle', 'Nichelle',\n",
    "        'Shereen', 'Temeka', 'Ebony', 'Latisha', 'Shaniqua', 'Tameisha', 'Teretha',\n",
    "        'Jasmine', 'Latonya', 'Shanise', 'Tanisha', 'Tia', 'Lakisha', 'Latoya',\n",
    "        'Sharise', 'Tashika', 'Yolanda', 'Lashandra', 'Malika', 'Shavonn',\n",
    "        'Tawanda', 'Yvette'\n",
    "    ],\n",
    "\n",
    "    # This list comes from statistics about common Hispanic-origin names in the US.\n",
    "    'Hispanic': [\n",
    "        'Juan', 'José', 'Miguel', 'Luís', 'Jorge', 'Santiago', 'Matías', 'Sebastián',\n",
    "        'Mateo', 'Nicolás', 'Alejandro', 'Samuel', 'Diego', 'Daniel', 'Tomás',\n",
    "        'Juana', 'Ana', 'Luisa', 'María', 'Elena', 'Sofía', 'Isabella', 'Valentina',\n",
    "        'Camila', 'Valeria', 'Ximena', 'Luciana', 'Mariana', 'Victoria', 'Martina'\n",
    "    ],\n",
    "\n",
    "\n",
    "}\n",
    "#Following Bolukbasi et al. Implementing notebook: https://github.com/tolga-b/debiaswe/blob/master/tutorial_example1.ipynb\n",
    "names = [\"Emily\", \"Aisha\", \"Anne\", \"Keisha\", \"Jill\", \"Tamika\", \"Allison\", \"Lakisha\", \"Laurie\", \"Tanisha\", \"Sarah\",\n",
    "         \"Latoya\", \"Meredith\", \"Kenya\", \"Carrie\", \"Latonya\", \"Kristen\", \"Ebony\", \"Todd\", \"Rasheed\", \"Neil\", \"Tremayne\",\n",
    "         \"Geoffrey\", \"Kareem\", \"Brett\", \"Darnell\", \"Brendan\", \"Tyrone\", \"Greg\", \"Hakim\", \"Matthew\", \"Jamal\", \"Jay\",\n",
    "         \"Leroy\", \"Brad\", \"Jermaine\"]\n",
    "#names_group1 = [names[2 * i] for i in range(len(names) // 2)]\n",
    "#names_group2 = [names[2 * i + 1] for i in range(len(names) // 2)]\n"
   ]
  },
  {
   "cell_type": "code",
   "execution_count": 91,
   "metadata": {},
   "outputs": [],
   "source": [
    "#Function to prepare the def_set_lists for the debiasing\n",
    "def prepare_def_sets_subspace(list_def_sets):\n",
    "  def_sets={i: v for i, v in enumerate(list_def_sets)}\n",
    "  return def_sets\n",
    "\n",
    "def_set_gender=utils.prepare_def_sets_subspace(def_sets[\"gender\"])\n",
    "def_set_race=utils.prepare_def_sets_subspace(def_sets[\"race\"])\n",
    "def_set_joined=utils.prepare_def_sets_subspace(def_sets[\"gender\"]+ def_sets[\"race\"])"
   ]
  },
  {
   "cell_type": "code",
   "execution_count": 128,
   "metadata": {},
   "outputs": [],
   "source": [
    "import itertools\n",
    "\n",
    "def get_pairs_from_equalizing_sets(def_sets):\n",
    "    data = {i: v for i, v in enumerate(def_sets)}\n",
    "    #print(data)\n",
    "    pairs = []\n",
    "    for _, values in data.items():\n",
    "\t    #Get all possible combinations of pairs\n",
    "\t    for v1 in values:\n",
    "\t\t    for v2 in values:\n",
    "                           s = set([v1, v2])\n",
    "                           if(len(s) > 1 and not (v1 in pairs and v2 in pairs)):\n",
    "                                pairs.append([v1, v2])\n",
    "                      #     if (v1 in pairs or v2 in pairs):\n",
    "                       #          print(v1,v2)\n",
    "\t#Remove duplicates\n",
    "    pairs.sort()\n",
    "    cleaned_pairs=list(k for k, _ in itertools.groupby(pairs))\n",
    "    return cleaned_pairs"
   ]
  },
  {
   "cell_type": "code",
   "execution_count": 139,
   "metadata": {},
   "outputs": [],
   "source": [
    "from itertools import product\n",
    "\n",
    "\n",
    "def get_pairs(p1, p2):\n",
    "    pairs = set()\n",
    "    for v1, v2 in product(p1, p2):\n",
    "        for val1, val2 in product(v1, v2):\n",
    "            pairs.add((val1, val2))\n",
    "    return list(pairs)\n"
   ]
  },
  {
   "cell_type": "code",
   "execution_count": 92,
   "metadata": {},
   "outputs": [],
   "source": [
    "equalizing_lists['race']=get_pairs_from_equalizing_sets(def_sets['race'])\n"
   ]
  },
  {
   "cell_type": "code",
   "execution_count": 141,
   "metadata": {},
   "outputs": [],
   "source": [
    "equalizing_lists['intersection']=get_pairs(def_sets['gender'], def_sets['race'])\n"
   ]
  },
  {
   "attachments": {},
   "cell_type": "markdown",
   "metadata": {},
   "source": [
    "#### Gender"
   ]
  },
  {
   "cell_type": "code",
   "execution_count": 35,
   "metadata": {},
   "outputs": [
    {
     "name": "stdout",
     "output_type": "stream",
     "text": [
      "Length of vectors set: 22\n",
      "Running PCA with 1 components\n"
     ]
    }
   ],
   "source": [
    "deb_vect_gender, deb_vocab_gender, deb_word2idx_gender,deb_dict_gender = hard_debias(vectors,\n",
    "                             dict_vectors, \n",
    "                             word2idx_cleaned,\n",
    "                             vocab_cleaned, \n",
    "                             equalizing_lists['gender'], \n",
    "                             def_set_gender,\n",
    "                             1,\n",
    "                             normalize_dir=False,\n",
    "                             normalize=None,\n",
    "                             centralizing=True)"
   ]
  },
  {
   "attachments": {},
   "cell_type": "markdown",
   "metadata": {},
   "source": [
    "#### Race"
   ]
  },
  {
   "cell_type": "code",
   "execution_count": 94,
   "metadata": {},
   "outputs": [
    {
     "name": "stdout",
     "output_type": "stream",
     "text": [
      "Length of vectors set: 20\n",
      "Running PCA with 1 components\n"
     ]
    }
   ],
   "source": [
    "deb_vect_race, deb_vocab_race, deb_word2idx_race,deb_dict_race = hard_debias(vectors,\n",
    "                             dict_vectors, \n",
    "                             word2idx_cleaned,\n",
    "                             vocab_cleaned, \n",
    "                             equalizing_lists['race'], \n",
    "                             def_set_race,\n",
    "                             1,\n",
    "                             normalize_dir=False,\n",
    "                             normalize=None,\n",
    "                             centralizing=True)"
   ]
  },
  {
   "attachments": {},
   "cell_type": "markdown",
   "metadata": {},
   "source": [
    "#### Joint"
   ]
  },
  {
   "cell_type": "code",
   "execution_count": 142,
   "metadata": {},
   "outputs": [
    {
     "name": "stdout",
     "output_type": "stream",
     "text": [
      "Length of vectors set: 42\n",
      "Running PCA with 1 components\n"
     ]
    }
   ],
   "source": [
    "deb_vect_joined, deb_vocab_joined, deb_word2idx_joined, deb_dict_joined = hard_debias(vectors,\n",
    "                                                                            dict_vectors,\n",
    "                                                                              word2idx_cleaned,\n",
    "                                                                              vocab_cleaned,\n",
    "                                                                              equalizing_lists['intersection'],\n",
    "                                                                              def_set_joined,\n",
    "                                                                              1,\n",
    "                                                                              normalize_dir=False,\n",
    "                                                                              normalize=None,\n",
    "                                                                              centralizing=True)\n"
   ]
  },
  {
   "attachments": {},
   "cell_type": "markdown",
   "metadata": {},
   "source": [
    "## Evaluation"
   ]
  },
  {
   "cell_type": "code",
   "execution_count": 97,
   "metadata": {},
   "outputs": [],
   "source": [
    "from Scripts.Visualization import *\n",
    "from Scripts.Evaluation import *\n",
    "import pandas as pd"
   ]
  },
  {
   "attachments": {},
   "cell_type": "markdown",
   "metadata": {},
   "source": [
    "### Gender Bias Pre-Post"
   ]
  },
  {
   "cell_type": "code",
   "execution_count": 19,
   "metadata": {},
   "outputs": [],
   "source": [
    "# To compute the gender bias, we need to get the embeddings of \"he\" and \"she\"\n",
    "he_embed = dict_vectors['he']\n",
    "she_embed = dict_vectors['she']\n",
    "\n",
    "# Using the gender bias function to compute the bias of all the words in the limited dataset\n",
    "#We create a dictionary with the word as key and the bias as value\n",
    "gender_bias_original = compute_gender_simple_bias(dict_vec_cleaned, he_embed, she_embed)"
   ]
  },
  {
   "cell_type": "code",
   "execution_count": 20,
   "metadata": {},
   "outputs": [
    {
     "name": "stdout",
     "output_type": "stream",
     "text": [
      "Length of vectors set: 22\n",
      "Running PCA with 1 components\n"
     ]
    }
   ],
   "source": [
    "gender_direction = identify_bias_subspace(\n",
    "    dict_vectors, def_set_gender, 1, centralizing=True)\n"
   ]
  },
  {
   "cell_type": "code",
   "execution_count": 21,
   "metadata": {},
   "outputs": [],
   "source": [
    "gender_bias_original2 = compute_direct_bias(\n",
    "    dict_vectors, vocab_cleaned, gender_direction)\n"
   ]
  },
  {
   "cell_type": "code",
   "execution_count": 22,
   "metadata": {},
   "outputs": [
    {
     "data": {
      "text/plain": [
       "3.208409218599592e-08"
      ]
     },
     "execution_count": 22,
     "metadata": {},
     "output_type": "execute_result"
    }
   ],
   "source": [
    "compute_average_bias(debiased_dict, neutral_words, gender_direction)\n"
   ]
  },
  {
   "cell_type": "code",
   "execution_count": 24,
   "metadata": {},
   "outputs": [],
   "source": [
    "gender_bias_original2 = compute_direct_bias(\n",
    "    debiased_dict, neutral_words, gender_direction)"
   ]
  },
  {
   "cell_type": "code",
   "execution_count": 25,
   "metadata": {},
   "outputs": [],
   "source": [
    "gender_bias_after_debiasing=compute_gender_simple_bias(debiased_dict, he_embed, she_embed)"
   ]
  },
  {
   "cell_type": "code",
   "execution_count": 26,
   "metadata": {},
   "outputs": [],
   "source": [
    "occupations = ['assistant','secretary','data scientist', 'scientist', 'politician','janitor', 'hairdresser','teacher', 'bartender','midwife','doctor','ballerina','dancer','pediatrician','surgeon', 'physician', 'shopkeeper',  'nurse', 'interior designer', 'architect', 'maid', 'housekeeper', 'soprano', 'baritone', 'servant',  'vocalists', 'guitarists','carpenter','clerk','manager','supervisor','driver','software developer','lawyer','pitcher', 'bookkeeper', 'infielder', 'receptionist', 'investigator', 'pundit', 'chancellor', 'maestro','lecturer','salesperson','homemaker', 'receptionist','librarian', 'nanny', 'bookkeeper', 'stylist','housekeeper','guidance counselor','skipper', 'protege','philosopher','captain', 'architect', 'financier', 'warrior', 'broadcaster', 'magician', 'figher','pilot', 'boss']\n"
   ]
  },
  {
   "cell_type": "code",
   "execution_count": 27,
   "metadata": {},
   "outputs": [
    {
     "data": {
      "application/vnd.plotly.v1+json": {
       "config": {
        "plotlyServerURL": "https://plot.ly"
       },
       "data": [
        {
         "alignmentgroup": "True",
         "hovertemplate": "Embeddings=original_score<br>Gender Bias=%{x}<br>Wino Gender Occupations=%{y}<extra></extra>",
         "legendgroup": "original_score",
         "marker": {
          "color": "#636efa",
          "pattern": {
           "shape": ""
          }
         },
         "name": "original_score",
         "offsetgroup": "original_score",
         "orientation": "h",
         "showlegend": true,
         "textposition": "auto",
         "type": "bar",
         "x": [
          -0.12688011511039876,
          -0.11817844246558729,
          -0.03238820847839968,
          -0.10899890142000024,
          0.01842216617804332,
          0.16630618890402324,
          0.02820189149703567,
          0.09285357388955634,
          0.17986044902425977,
          0.03695430378468989,
          0.15667075590138813,
          0.10644427162252507,
          0.011494292999038036,
          -0.048680816119856196,
          0.027349961734541295,
          0.16518802500311797,
          -0.11994782765179662,
          0.167689050925245,
          0.20188732128908293,
          -0.01658546664715732,
          0.09841450845447927,
          -0.07308406691492261,
          0.03405206914058778,
          0.0002944113232246637,
          -0.16162738002070132,
          0.04786440926693808,
          -0.007653463264688409,
          -0.04748998328951848,
          -0.14447209319514984,
          -0.00015997182638649576,
          -0.11368553133448307,
          0.16901756909644036,
          -0.03672719916865058,
          -0.046506353412093915,
          -0.08449185336895187,
          -0.08463861103780448,
          -0.07915905493244146,
          0.1233499886260778,
          0.16930386126832692,
          0.03957823583397607,
          0.15538783127367115,
          0.20641838035111323,
          -0.15356333971232627,
          -0.05332071340542399,
          -0.07953373140905584,
          -0.16768840600732204,
          -0.11206653192984739,
          -0.022924575628985533,
          -0.05421894611765263,
          0.0029886882967237183,
          0.0017720083289529676,
          -0.13371747936481815
         ],
         "xaxis": "x",
         "y": [
          "assistant",
          "secretary",
          "scientist",
          "politician",
          "janitor",
          "hairdresser",
          "teacher",
          "bartender",
          "midwife",
          "doctor",
          "dancer",
          "pediatrician",
          "surgeon",
          "physician",
          "shopkeeper",
          "nurse",
          "architect",
          "housekeeper",
          "soprano",
          "servant",
          "vocalists",
          "guitarists",
          "carpenter",
          "clerk",
          "manager",
          "supervisor",
          "driver",
          "lawyer",
          "pitcher",
          "bookkeeper",
          "infielder",
          "receptionist",
          "investigator",
          "pundit",
          "chancellor",
          "maestro",
          "lecturer",
          "salesperson",
          "homemaker",
          "librarian",
          "nanny",
          "stylist",
          "skipper",
          "protege",
          "philosopher",
          "captain",
          "financier",
          "warrior",
          "broadcaster",
          "magician",
          "pilot",
          "boss"
         ],
         "yaxis": "y"
        },
        {
         "alignmentgroup": "True",
         "hovertemplate": "Embeddings=debiased_score<br>Gender Bias=%{x}<br>Wino Gender Occupations=%{y}<extra></extra>",
         "legendgroup": "debiased_score",
         "marker": {
          "color": "#EF553B",
          "pattern": {
           "shape": ""
          }
         },
         "name": "debiased_score",
         "offsetgroup": "debiased_score",
         "orientation": "h",
         "showlegend": true,
         "textposition": "auto",
         "type": "bar",
         "x": [
          -0.04471777043320002,
          0.005537252453917063,
          -0.015186110348584497,
          0.02214208334640977,
          -0.019162883297561578,
          -0.017487319642561006,
          -0.025530797234852742,
          -0.04021295686923909,
          -0.0057881661528952355,
          -0.00665624289898363,
          -0.023615831255427072,
          -0.050605233042935516,
          -0.02108916759751646,
          0.014962350740431174,
          -0.01659239970443921,
          0.026735960498924682,
          0.042816094306542096,
          0.0036635116647811272,
          -0.019584835121132446,
          -0.020134064477184216,
          -0.026783517541236312,
          -0.028827186978864314,
          0.06601088396771854,
          0.05007873871694529,
          -0.01607376089568266,
          0.02479719663613944,
          -0.05404288345055869,
          0.022223814216909332,
          -0.019991087018707693,
          -0.06671264693643605,
          0.0096648270549958,
          -0.0007354636890308242,
          -0.06450396220316801,
          -0.012112759579561316,
          -0.040831593496050145,
          0.03279446076687878,
          -0.021880130324885463,
          -0.022594506157155927,
          -0.01154194992854074,
          -0.018631817748702567,
          0.01712957695055957,
          -0.020397875012900357,
          -0.031614052984862306,
          -0.022390175619740105,
          -0.02398524634248919,
          0.035457668287547886,
          -0.026630112671949258,
          0.03515346188219409,
          0.018065627734091372,
          -0.032636357124504606,
          0.008888989703302208,
          -0.049280836064716727
         ],
         "xaxis": "x",
         "y": [
          "assistant",
          "secretary",
          "scientist",
          "politician",
          "janitor",
          "hairdresser",
          "teacher",
          "bartender",
          "midwife",
          "doctor",
          "dancer",
          "pediatrician",
          "surgeon",
          "physician",
          "shopkeeper",
          "nurse",
          "architect",
          "housekeeper",
          "soprano",
          "servant",
          "vocalists",
          "guitarists",
          "carpenter",
          "clerk",
          "manager",
          "supervisor",
          "driver",
          "lawyer",
          "pitcher",
          "bookkeeper",
          "infielder",
          "receptionist",
          "investigator",
          "pundit",
          "chancellor",
          "maestro",
          "lecturer",
          "salesperson",
          "homemaker",
          "librarian",
          "nanny",
          "stylist",
          "skipper",
          "protege",
          "philosopher",
          "captain",
          "financier",
          "warrior",
          "broadcaster",
          "magician",
          "pilot",
          "boss"
         ],
         "yaxis": "y"
        }
       ],
       "layout": {
        "barmode": "group",
        "height": 1000,
        "legend": {
         "title": {
          "text": "Embeddings"
         },
         "tracegroupgap": 0
        },
        "margin": {
         "t": 60
        },
        "template": {
         "data": {
          "bar": [
           {
            "error_x": {
             "color": "#2a3f5f"
            },
            "error_y": {
             "color": "#2a3f5f"
            },
            "marker": {
             "line": {
              "color": "#E5ECF6",
              "width": 0.5
             },
             "pattern": {
              "fillmode": "overlay",
              "size": 10,
              "solidity": 0.2
             }
            },
            "type": "bar"
           }
          ],
          "barpolar": [
           {
            "marker": {
             "line": {
              "color": "#E5ECF6",
              "width": 0.5
             },
             "pattern": {
              "fillmode": "overlay",
              "size": 10,
              "solidity": 0.2
             }
            },
            "type": "barpolar"
           }
          ],
          "carpet": [
           {
            "aaxis": {
             "endlinecolor": "#2a3f5f",
             "gridcolor": "white",
             "linecolor": "white",
             "minorgridcolor": "white",
             "startlinecolor": "#2a3f5f"
            },
            "baxis": {
             "endlinecolor": "#2a3f5f",
             "gridcolor": "white",
             "linecolor": "white",
             "minorgridcolor": "white",
             "startlinecolor": "#2a3f5f"
            },
            "type": "carpet"
           }
          ],
          "choropleth": [
           {
            "colorbar": {
             "outlinewidth": 0,
             "ticks": ""
            },
            "type": "choropleth"
           }
          ],
          "contour": [
           {
            "colorbar": {
             "outlinewidth": 0,
             "ticks": ""
            },
            "colorscale": [
             [
              0,
              "#0d0887"
             ],
             [
              0.1111111111111111,
              "#46039f"
             ],
             [
              0.2222222222222222,
              "#7201a8"
             ],
             [
              0.3333333333333333,
              "#9c179e"
             ],
             [
              0.4444444444444444,
              "#bd3786"
             ],
             [
              0.5555555555555556,
              "#d8576b"
             ],
             [
              0.6666666666666666,
              "#ed7953"
             ],
             [
              0.7777777777777778,
              "#fb9f3a"
             ],
             [
              0.8888888888888888,
              "#fdca26"
             ],
             [
              1,
              "#f0f921"
             ]
            ],
            "type": "contour"
           }
          ],
          "contourcarpet": [
           {
            "colorbar": {
             "outlinewidth": 0,
             "ticks": ""
            },
            "type": "contourcarpet"
           }
          ],
          "heatmap": [
           {
            "colorbar": {
             "outlinewidth": 0,
             "ticks": ""
            },
            "colorscale": [
             [
              0,
              "#0d0887"
             ],
             [
              0.1111111111111111,
              "#46039f"
             ],
             [
              0.2222222222222222,
              "#7201a8"
             ],
             [
              0.3333333333333333,
              "#9c179e"
             ],
             [
              0.4444444444444444,
              "#bd3786"
             ],
             [
              0.5555555555555556,
              "#d8576b"
             ],
             [
              0.6666666666666666,
              "#ed7953"
             ],
             [
              0.7777777777777778,
              "#fb9f3a"
             ],
             [
              0.8888888888888888,
              "#fdca26"
             ],
             [
              1,
              "#f0f921"
             ]
            ],
            "type": "heatmap"
           }
          ],
          "heatmapgl": [
           {
            "colorbar": {
             "outlinewidth": 0,
             "ticks": ""
            },
            "colorscale": [
             [
              0,
              "#0d0887"
             ],
             [
              0.1111111111111111,
              "#46039f"
             ],
             [
              0.2222222222222222,
              "#7201a8"
             ],
             [
              0.3333333333333333,
              "#9c179e"
             ],
             [
              0.4444444444444444,
              "#bd3786"
             ],
             [
              0.5555555555555556,
              "#d8576b"
             ],
             [
              0.6666666666666666,
              "#ed7953"
             ],
             [
              0.7777777777777778,
              "#fb9f3a"
             ],
             [
              0.8888888888888888,
              "#fdca26"
             ],
             [
              1,
              "#f0f921"
             ]
            ],
            "type": "heatmapgl"
           }
          ],
          "histogram": [
           {
            "marker": {
             "pattern": {
              "fillmode": "overlay",
              "size": 10,
              "solidity": 0.2
             }
            },
            "type": "histogram"
           }
          ],
          "histogram2d": [
           {
            "colorbar": {
             "outlinewidth": 0,
             "ticks": ""
            },
            "colorscale": [
             [
              0,
              "#0d0887"
             ],
             [
              0.1111111111111111,
              "#46039f"
             ],
             [
              0.2222222222222222,
              "#7201a8"
             ],
             [
              0.3333333333333333,
              "#9c179e"
             ],
             [
              0.4444444444444444,
              "#bd3786"
             ],
             [
              0.5555555555555556,
              "#d8576b"
             ],
             [
              0.6666666666666666,
              "#ed7953"
             ],
             [
              0.7777777777777778,
              "#fb9f3a"
             ],
             [
              0.8888888888888888,
              "#fdca26"
             ],
             [
              1,
              "#f0f921"
             ]
            ],
            "type": "histogram2d"
           }
          ],
          "histogram2dcontour": [
           {
            "colorbar": {
             "outlinewidth": 0,
             "ticks": ""
            },
            "colorscale": [
             [
              0,
              "#0d0887"
             ],
             [
              0.1111111111111111,
              "#46039f"
             ],
             [
              0.2222222222222222,
              "#7201a8"
             ],
             [
              0.3333333333333333,
              "#9c179e"
             ],
             [
              0.4444444444444444,
              "#bd3786"
             ],
             [
              0.5555555555555556,
              "#d8576b"
             ],
             [
              0.6666666666666666,
              "#ed7953"
             ],
             [
              0.7777777777777778,
              "#fb9f3a"
             ],
             [
              0.8888888888888888,
              "#fdca26"
             ],
             [
              1,
              "#f0f921"
             ]
            ],
            "type": "histogram2dcontour"
           }
          ],
          "mesh3d": [
           {
            "colorbar": {
             "outlinewidth": 0,
             "ticks": ""
            },
            "type": "mesh3d"
           }
          ],
          "parcoords": [
           {
            "line": {
             "colorbar": {
              "outlinewidth": 0,
              "ticks": ""
             }
            },
            "type": "parcoords"
           }
          ],
          "pie": [
           {
            "automargin": true,
            "type": "pie"
           }
          ],
          "scatter": [
           {
            "fillpattern": {
             "fillmode": "overlay",
             "size": 10,
             "solidity": 0.2
            },
            "type": "scatter"
           }
          ],
          "scatter3d": [
           {
            "line": {
             "colorbar": {
              "outlinewidth": 0,
              "ticks": ""
             }
            },
            "marker": {
             "colorbar": {
              "outlinewidth": 0,
              "ticks": ""
             }
            },
            "type": "scatter3d"
           }
          ],
          "scattercarpet": [
           {
            "marker": {
             "colorbar": {
              "outlinewidth": 0,
              "ticks": ""
             }
            },
            "type": "scattercarpet"
           }
          ],
          "scattergeo": [
           {
            "marker": {
             "colorbar": {
              "outlinewidth": 0,
              "ticks": ""
             }
            },
            "type": "scattergeo"
           }
          ],
          "scattergl": [
           {
            "marker": {
             "colorbar": {
              "outlinewidth": 0,
              "ticks": ""
             }
            },
            "type": "scattergl"
           }
          ],
          "scattermapbox": [
           {
            "marker": {
             "colorbar": {
              "outlinewidth": 0,
              "ticks": ""
             }
            },
            "type": "scattermapbox"
           }
          ],
          "scatterpolar": [
           {
            "marker": {
             "colorbar": {
              "outlinewidth": 0,
              "ticks": ""
             }
            },
            "type": "scatterpolar"
           }
          ],
          "scatterpolargl": [
           {
            "marker": {
             "colorbar": {
              "outlinewidth": 0,
              "ticks": ""
             }
            },
            "type": "scatterpolargl"
           }
          ],
          "scatterternary": [
           {
            "marker": {
             "colorbar": {
              "outlinewidth": 0,
              "ticks": ""
             }
            },
            "type": "scatterternary"
           }
          ],
          "surface": [
           {
            "colorbar": {
             "outlinewidth": 0,
             "ticks": ""
            },
            "colorscale": [
             [
              0,
              "#0d0887"
             ],
             [
              0.1111111111111111,
              "#46039f"
             ],
             [
              0.2222222222222222,
              "#7201a8"
             ],
             [
              0.3333333333333333,
              "#9c179e"
             ],
             [
              0.4444444444444444,
              "#bd3786"
             ],
             [
              0.5555555555555556,
              "#d8576b"
             ],
             [
              0.6666666666666666,
              "#ed7953"
             ],
             [
              0.7777777777777778,
              "#fb9f3a"
             ],
             [
              0.8888888888888888,
              "#fdca26"
             ],
             [
              1,
              "#f0f921"
             ]
            ],
            "type": "surface"
           }
          ],
          "table": [
           {
            "cells": {
             "fill": {
              "color": "#EBF0F8"
             },
             "line": {
              "color": "white"
             }
            },
            "header": {
             "fill": {
              "color": "#C8D4E3"
             },
             "line": {
              "color": "white"
             }
            },
            "type": "table"
           }
          ]
         },
         "layout": {
          "annotationdefaults": {
           "arrowcolor": "#2a3f5f",
           "arrowhead": 0,
           "arrowwidth": 1
          },
          "autotypenumbers": "strict",
          "coloraxis": {
           "colorbar": {
            "outlinewidth": 0,
            "ticks": ""
           }
          },
          "colorscale": {
           "diverging": [
            [
             0,
             "#8e0152"
            ],
            [
             0.1,
             "#c51b7d"
            ],
            [
             0.2,
             "#de77ae"
            ],
            [
             0.3,
             "#f1b6da"
            ],
            [
             0.4,
             "#fde0ef"
            ],
            [
             0.5,
             "#f7f7f7"
            ],
            [
             0.6,
             "#e6f5d0"
            ],
            [
             0.7,
             "#b8e186"
            ],
            [
             0.8,
             "#7fbc41"
            ],
            [
             0.9,
             "#4d9221"
            ],
            [
             1,
             "#276419"
            ]
           ],
           "sequential": [
            [
             0,
             "#0d0887"
            ],
            [
             0.1111111111111111,
             "#46039f"
            ],
            [
             0.2222222222222222,
             "#7201a8"
            ],
            [
             0.3333333333333333,
             "#9c179e"
            ],
            [
             0.4444444444444444,
             "#bd3786"
            ],
            [
             0.5555555555555556,
             "#d8576b"
            ],
            [
             0.6666666666666666,
             "#ed7953"
            ],
            [
             0.7777777777777778,
             "#fb9f3a"
            ],
            [
             0.8888888888888888,
             "#fdca26"
            ],
            [
             1,
             "#f0f921"
            ]
           ],
           "sequentialminus": [
            [
             0,
             "#0d0887"
            ],
            [
             0.1111111111111111,
             "#46039f"
            ],
            [
             0.2222222222222222,
             "#7201a8"
            ],
            [
             0.3333333333333333,
             "#9c179e"
            ],
            [
             0.4444444444444444,
             "#bd3786"
            ],
            [
             0.5555555555555556,
             "#d8576b"
            ],
            [
             0.6666666666666666,
             "#ed7953"
            ],
            [
             0.7777777777777778,
             "#fb9f3a"
            ],
            [
             0.8888888888888888,
             "#fdca26"
            ],
            [
             1,
             "#f0f921"
            ]
           ]
          },
          "colorway": [
           "#636efa",
           "#EF553B",
           "#00cc96",
           "#ab63fa",
           "#FFA15A",
           "#19d3f3",
           "#FF6692",
           "#B6E880",
           "#FF97FF",
           "#FECB52"
          ],
          "font": {
           "color": "#2a3f5f"
          },
          "geo": {
           "bgcolor": "white",
           "lakecolor": "white",
           "landcolor": "#E5ECF6",
           "showlakes": true,
           "showland": true,
           "subunitcolor": "white"
          },
          "hoverlabel": {
           "align": "left"
          },
          "hovermode": "closest",
          "mapbox": {
           "style": "light"
          },
          "paper_bgcolor": "white",
          "plot_bgcolor": "#E5ECF6",
          "polar": {
           "angularaxis": {
            "gridcolor": "white",
            "linecolor": "white",
            "ticks": ""
           },
           "bgcolor": "#E5ECF6",
           "radialaxis": {
            "gridcolor": "white",
            "linecolor": "white",
            "ticks": ""
           }
          },
          "scene": {
           "xaxis": {
            "backgroundcolor": "#E5ECF6",
            "gridcolor": "white",
            "gridwidth": 2,
            "linecolor": "white",
            "showbackground": true,
            "ticks": "",
            "zerolinecolor": "white"
           },
           "yaxis": {
            "backgroundcolor": "#E5ECF6",
            "gridcolor": "white",
            "gridwidth": 2,
            "linecolor": "white",
            "showbackground": true,
            "ticks": "",
            "zerolinecolor": "white"
           },
           "zaxis": {
            "backgroundcolor": "#E5ECF6",
            "gridcolor": "white",
            "gridwidth": 2,
            "linecolor": "white",
            "showbackground": true,
            "ticks": "",
            "zerolinecolor": "white"
           }
          },
          "shapedefaults": {
           "line": {
            "color": "#2a3f5f"
           }
          },
          "ternary": {
           "aaxis": {
            "gridcolor": "white",
            "linecolor": "white",
            "ticks": ""
           },
           "baxis": {
            "gridcolor": "white",
            "linecolor": "white",
            "ticks": ""
           },
           "bgcolor": "#E5ECF6",
           "caxis": {
            "gridcolor": "white",
            "linecolor": "white",
            "ticks": ""
           }
          },
          "title": {
           "x": 0.05
          },
          "xaxis": {
           "automargin": true,
           "gridcolor": "white",
           "linecolor": "white",
           "ticks": "",
           "title": {
            "standoff": 15
           },
           "zerolinecolor": "white",
           "zerolinewidth": 2
          },
          "yaxis": {
           "automargin": true,
           "gridcolor": "white",
           "linecolor": "white",
           "ticks": "",
           "title": {
            "standoff": 15
           },
           "zerolinecolor": "white",
           "zerolinewidth": 2
          }
         }
        },
        "width": 800,
        "xaxis": {
         "anchor": "y",
         "domain": [
          0,
          1
         ],
         "range": [
          -0.5,
          0.5
         ],
         "title": {
          "text": "Gender Bias"
         }
        },
        "yaxis": {
         "anchor": "x",
         "domain": [
          0,
          1
         ],
         "title": {
          "text": "Wino Gender Occupations"
         }
        }
       }
      }
     },
     "metadata": {},
     "output_type": "display_data"
    }
   ],
   "source": [
    "bias_df=get_bias_score_df_from_list(gender_bias_original,gender_bias_after_debiasing, occupations,vocab_cleaned,debiased_vocab)\n",
    "plot_bias_bar(bias_df)"
   ]
  },
  {
   "cell_type": "code",
   "execution_count": 28,
   "metadata": {},
   "outputs": [],
   "source": [
    "c_w2i, c_vocab, female_words, male_words, y_true=getting_biased_words(gender_bias_original, def_sets['gender'], 1000, word2idx)\n"
   ]
  },
  {
   "cell_type": "code",
   "execution_count": 30,
   "metadata": {},
   "outputs": [
    {
     "data": {
      "text/plain": [
       "['sacked',\n",
       " 'sacking',\n",
       " 'gowon',\n",
       " 'achaean',\n",
       " 'patriots',\n",
       " 'mamluk',\n",
       " 'kassam',\n",
       " 'umayyad',\n",
       " 'rashidun',\n",
       " 'chiefs',\n",
       " 'colonels',\n",
       " 'buccaneers',\n",
       " 'caliphs',\n",
       " 'vikings',\n",
       " 'ravens',\n",
       " 'umps',\n",
       " 'kff',\n",
       " 'seahawks',\n",
       " 'meraj',\n",
       " 'cardinals',\n",
       " 'abdulsalami',\n",
       " 'league',\n",
       " 'umayyads',\n",
       " 'defensive',\n",
       " 'latics',\n",
       " 'kanu',\n",
       " 'bengals',\n",
       " 'divisional',\n",
       " 'technicals',\n",
       " 'negated',\n",
       " 'pacers',\n",
       " 'browns',\n",
       " 'sabean',\n",
       " 'redskins',\n",
       " 'pistons',\n",
       " 'putsch',\n",
       " 'sack',\n",
       " 'brees',\n",
       " 'rangers',\n",
       " 'amre',\n",
       " 'pompey',\n",
       " 'aetolian',\n",
       " 'chargers',\n",
       " 'led',\n",
       " 'ejection',\n",
       " 'abbasid',\n",
       " 'atomics',\n",
       " 'giants',\n",
       " 'raiders',\n",
       " 'timberwolves',\n",
       " 'fdd',\n",
       " 'supersonics',\n",
       " 'bucs',\n",
       " 'nl',\n",
       " 'steelers',\n",
       " 'assemblymen',\n",
       " 'keynes',\n",
       " 'nfl',\n",
       " 'rams',\n",
       " 'admirals',\n",
       " 'sonics',\n",
       " 'broncos',\n",
       " 'rra',\n",
       " 'packers',\n",
       " 'goodell',\n",
       " 'td',\n",
       " 'fatimid',\n",
       " 'huskers',\n",
       " 'crusaders',\n",
       " 'cgt',\n",
       " 'hvo',\n",
       " 'offensive',\n",
       " 'backfield',\n",
       " 'substitutions',\n",
       " 'olympiakos',\n",
       " 'formio',\n",
       " 'knicks',\n",
       " 'tagliabue',\n",
       " 'decimal',\n",
       " 'megson',\n",
       " 'ayyubids',\n",
       " 'modi',\n",
       " 'hardliner',\n",
       " 'qasim',\n",
       " 'wigan',\n",
       " 'acb',\n",
       " 'mls',\n",
       " 'mlb',\n",
       " 'delian',\n",
       " 'arl',\n",
       " 'offense',\n",
       " 'covenanter',\n",
       " 'interception',\n",
       " 'carthaginian',\n",
       " 'spurs',\n",
       " 'nkurunziza',\n",
       " 'baibars',\n",
       " 'boro',\n",
       " 'boonyaratglin',\n",
       " 'sooners',\n",
       " 'belichick',\n",
       " 'meguid',\n",
       " 'nhl',\n",
       " 'ejected',\n",
       " 'mavericks',\n",
       " 'parcells',\n",
       " 'nla',\n",
       " 'widnes',\n",
       " 'interceptions',\n",
       " 'fahim',\n",
       " 'falcons',\n",
       " 'nfa',\n",
       " 'billick',\n",
       " 'amphictyonic',\n",
       " 'panathinaikos',\n",
       " 'defence',\n",
       " 'ezzedin',\n",
       " 'algebraically',\n",
       " 'fielded',\n",
       " 'staubach',\n",
       " 'umpires',\n",
       " 'niners',\n",
       " 'fatimids',\n",
       " 'putouts',\n",
       " 'saints',\n",
       " 'interim',\n",
       " 'bruins',\n",
       " 'suns',\n",
       " 'celtics',\n",
       " 'kickoff',\n",
       " 'bullpens',\n",
       " 'sonthi',\n",
       " 'drafted',\n",
       " 'abdulsalam',\n",
       " 'ntc',\n",
       " 'mahuad',\n",
       " 'nuggets',\n",
       " 'coefficients',\n",
       " 'jets',\n",
       " 'hoeness',\n",
       " 'kamotho',\n",
       " 'touchdown',\n",
       " 'defense',\n",
       " 'afl',\n",
       " 'instigator',\n",
       " 'mavs',\n",
       " 'mbf',\n",
       " 'outgained',\n",
       " 'jol',\n",
       " 'breveted',\n",
       " 'gompers',\n",
       " 'plaek',\n",
       " 'boilermakers',\n",
       " 'rasheed',\n",
       " 'mamluks',\n",
       " 'lateran',\n",
       " 'issel',\n",
       " 'hossam',\n",
       " 'shogunate',\n",
       " 'tds',\n",
       " 'claymores',\n",
       " 'caliphate',\n",
       " 'grunfeld',\n",
       " 'gunners',\n",
       " 'navier',\n",
       " 'filmon',\n",
       " 'touchdowns',\n",
       " 'cavaliers',\n",
       " 'inienger',\n",
       " 'general',\n",
       " 'muckler',\n",
       " 'realignment',\n",
       " 'fumble',\n",
       " 'vfa',\n",
       " 'owais',\n",
       " 'ibrox',\n",
       " 'yakubu',\n",
       " 'sassanid',\n",
       " 'abubakar',\n",
       " 'mysorean',\n",
       " 'whinlatter',\n",
       " 'rushers',\n",
       " 'habibur',\n",
       " 'metrostars',\n",
       " 'strikers',\n",
       " 'mourinho',\n",
       " 'gostkowski',\n",
       " 'mandaric',\n",
       " 'muromachi',\n",
       " 'managerial',\n",
       " 'habier',\n",
       " 'bullpen',\n",
       " 'sather',\n",
       " 'dáil',\n",
       " 'disallowed',\n",
       " 'marshalling',\n",
       " 'vinatieri',\n",
       " 'rcd',\n",
       " 'pcc',\n",
       " 'vfl',\n",
       " 'arians',\n",
       " 'shalrie',\n",
       " 'artest',\n",
       " 'gcc',\n",
       " 'tortorella',\n",
       " 'zidan',\n",
       " 'legionary',\n",
       " 'linemen',\n",
       " 'cndd',\n",
       " 'uf',\n",
       " 'deccan',\n",
       " 'safavids',\n",
       " 'aafc',\n",
       " 'ldk',\n",
       " 'ottoman',\n",
       " 'buyoya',\n",
       " 'nzrfu',\n",
       " 'rockets',\n",
       " 'spartans',\n",
       " 'moores',\n",
       " 'reds',\n",
       " 'toshack',\n",
       " 'dellaverson',\n",
       " 'singirok',\n",
       " 'koeman',\n",
       " 'punt',\n",
       " 'depodesta',\n",
       " 'pennant',\n",
       " 'boussinesq',\n",
       " 'bettman',\n",
       " 'lineman',\n",
       " 'dadis',\n",
       " 'perpetuities',\n",
       " 'pndc',\n",
       " 'arsenal',\n",
       " 'minaya',\n",
       " 'psg',\n",
       " 'lockout',\n",
       " 'venizelos',\n",
       " 'quarterbacks',\n",
       " 'tailend',\n",
       " 'awami',\n",
       " 'jaguars',\n",
       " 'andranik',\n",
       " 'magpies',\n",
       " 'abdur',\n",
       " 'addai',\n",
       " 'sfa',\n",
       " 'pervaiz',\n",
       " 'rauff',\n",
       " 'bahmani',\n",
       " 'provisionals',\n",
       " 'bench',\n",
       " 'nba',\n",
       " 'rusher',\n",
       " 'favre',\n",
       " 'ciro',\n",
       " 'resigned',\n",
       " 'dismissed',\n",
       " 'militia',\n",
       " 'mahdi',\n",
       " 'peshwas',\n",
       " 'lepper',\n",
       " 'mehmet',\n",
       " 'tuc',\n",
       " 'ballparks',\n",
       " 'salam',\n",
       " 'abbasids',\n",
       " 'comrie',\n",
       " 'benched',\n",
       " 'brevetted',\n",
       " 'bainimarama',\n",
       " 'iaf',\n",
       " 'lfp',\n",
       " 'kicker',\n",
       " 'isiah',\n",
       " 'retaken',\n",
       " 'afc',\n",
       " 'dupuy',\n",
       " 'slorc',\n",
       " 'nwankwo',\n",
       " 'dilfer',\n",
       " 'bradway',\n",
       " 'seljuk',\n",
       " 'mcdaniels',\n",
       " 'oilers',\n",
       " 'ksu',\n",
       " 'serie',\n",
       " 'fired',\n",
       " 'zcu',\n",
       " 'panthers',\n",
       " 'rout',\n",
       " 'tocchet',\n",
       " 'schalke',\n",
       " 'brigadier',\n",
       " 'shanahan',\n",
       " 'demoted',\n",
       " 'ngāpuhi',\n",
       " 'fassel',\n",
       " 'draft',\n",
       " 'kickers',\n",
       " 'rookmangud',\n",
       " 'olympiacos',\n",
       " 'camerlengo',\n",
       " 'palaly',\n",
       " 'voreqe',\n",
       " 'shula',\n",
       " 'appointing',\n",
       " 'ditka',\n",
       " 'knick',\n",
       " 'cndp',\n",
       " 'gaal',\n",
       " 'monarchist',\n",
       " 'janjawid',\n",
       " 'souness',\n",
       " 'reappointed',\n",
       " 'strahan',\n",
       " 'scoring',\n",
       " 'traded',\n",
       " 'overthrew',\n",
       " 'sagia',\n",
       " 'neftchi',\n",
       " 'spl',\n",
       " 'byzantines',\n",
       " 'chamberlain',\n",
       " 'ottomans',\n",
       " 'fatih',\n",
       " 'scrimmage',\n",
       " 'sldf',\n",
       " 'opposing',\n",
       " 'starters',\n",
       " 'hibs',\n",
       " 'football',\n",
       " 'tevzadze',\n",
       " 'ejections',\n",
       " 'carthaginians',\n",
       " 'archbishops',\n",
       " 'controversially',\n",
       " 'babangida',\n",
       " 'astros',\n",
       " 'hoddle',\n",
       " 'goals',\n",
       " 'yobo',\n",
       " 'cashiered',\n",
       " 'anfield',\n",
       " 'carmona',\n",
       " 'nullified',\n",
       " 'dismissal',\n",
       " 'sixers',\n",
       " 'fahmi',\n",
       " 'phoenicians',\n",
       " 'successive',\n",
       " 'tigers',\n",
       " 'hatimy',\n",
       " 'steeler',\n",
       " 'amodu',\n",
       " 'fáil',\n",
       " 'phillies',\n",
       " 'totesport',\n",
       " 'sassanids',\n",
       " 'premierships',\n",
       " 'hardline',\n",
       " 'visigoths',\n",
       " 'szczesny',\n",
       " 'afrc',\n",
       " 'enforcer',\n",
       " 'aratus',\n",
       " 'cardinal',\n",
       " 'régimen',\n",
       " 'osu',\n",
       " 'pdpa',\n",
       " 'switzer',\n",
       " 'field',\n",
       " 'cellou',\n",
       " 'ioannidis',\n",
       " 'centralised',\n",
       " 'emirs',\n",
       " 'reshuffle',\n",
       " 'esmat',\n",
       " 'qpr',\n",
       " 'maccabean',\n",
       " 'chambersburg',\n",
       " 'psu',\n",
       " 'rhein',\n",
       " 'ruck',\n",
       " 'boskamp',\n",
       " 'prawit',\n",
       " 'psv',\n",
       " 'gfa',\n",
       " 'captaincy',\n",
       " 'raptors',\n",
       " 'gruden',\n",
       " 'swalec',\n",
       " 'mobilisation',\n",
       " 'doctrinal',\n",
       " 'wahid',\n",
       " 'lebed',\n",
       " 'triumvirate',\n",
       " 'retook',\n",
       " 'rongen',\n",
       " 'ilker',\n",
       " 'faction',\n",
       " 'scorers',\n",
       " 'ionikos',\n",
       " 'collingwood',\n",
       " 'teulon',\n",
       " 'celtic',\n",
       " 'takeaways',\n",
       " 'edl',\n",
       " 'olechowski',\n",
       " 'yiannis',\n",
       " 'valentim',\n",
       " 'canons',\n",
       " 'turnovers',\n",
       " 'latif',\n",
       " 'chaban',\n",
       " 'caliphates',\n",
       " 'tactical',\n",
       " 'bednar',\n",
       " 'reorganisation',\n",
       " 'campo',\n",
       " 'bayern',\n",
       " 'phibunsongkhram',\n",
       " 'defenders',\n",
       " 'gargano',\n",
       " 'gaddafi',\n",
       " 'linebackers',\n",
       " 'dzungar',\n",
       " 'bledsoe',\n",
       " 'luxemburgo',\n",
       " 'shaibu',\n",
       " 'quarterback',\n",
       " 'upc',\n",
       " 'fenerbahce',\n",
       " 'francona',\n",
       " 'malik',\n",
       " 'outfielders',\n",
       " 'fsu',\n",
       " 'baulked',\n",
       " 'ruffinen',\n",
       " 'stavka',\n",
       " 'thrashers',\n",
       " 'spdc',\n",
       " 'nrm',\n",
       " 'bolshevik',\n",
       " 'barca',\n",
       " 'nfc',\n",
       " 'expos',\n",
       " 'narron',\n",
       " 'buckeyes',\n",
       " 'lakers',\n",
       " 'numerals',\n",
       " 'orioles',\n",
       " 'urquiza',\n",
       " 'terim',\n",
       " 'radislav',\n",
       " 'nscn',\n",
       " 'gmb',\n",
       " 'keheliya',\n",
       " 'angelos',\n",
       " 'askin',\n",
       " 'leweni',\n",
       " 'bavarians',\n",
       " 'farooq',\n",
       " 'scarnecchia',\n",
       " 'cavs',\n",
       " 'emile',\n",
       " 'venables',\n",
       " 'dumars',\n",
       " 'holmgren',\n",
       " 'lett',\n",
       " 'disarray',\n",
       " 'stevenage',\n",
       " 'ajax',\n",
       " 'maratha',\n",
       " 'privity',\n",
       " 'fielders',\n",
       " 'mangini',\n",
       " 'ulster',\n",
       " 'ipl',\n",
       " 'iginla',\n",
       " 'nasser',\n",
       " 'mooted',\n",
       " 'siad',\n",
       " 'exercised',\n",
       " 'shehu',\n",
       " 'georgios',\n",
       " 'dionysius',\n",
       " 'ucf',\n",
       " 'premiership',\n",
       " 'crossmaglen',\n",
       " 'relievers',\n",
       " 'fbs',\n",
       " 'referees',\n",
       " 'marlins',\n",
       " 'hospitallers',\n",
       " 'jabbar',\n",
       " 'samaras',\n",
       " 'féin',\n",
       " 'eleftherios',\n",
       " 'bluechips',\n",
       " 'razakar',\n",
       " 'coach',\n",
       " 'slmc',\n",
       " 'mossadegh',\n",
       " 'aerojet',\n",
       " 'canucks',\n",
       " 'grizzlies',\n",
       " 'sani',\n",
       " 'appointed',\n",
       " 'vanderjagt',\n",
       " 'crennel',\n",
       " 'campanis',\n",
       " 'cholas',\n",
       " 'modell',\n",
       " 'episcopacy',\n",
       " 'soofi',\n",
       " 'kosdaq',\n",
       " 'rule',\n",
       " 'generals',\n",
       " 'leibniz',\n",
       " 'hakeem',\n",
       " 'substituted',\n",
       " 'dacians',\n",
       " 'brewers',\n",
       " 'akali',\n",
       " 'against',\n",
       " 'hideki',\n",
       " 'resignations',\n",
       " 'shagari',\n",
       " 'kasserine',\n",
       " 'midfield',\n",
       " 'ruled',\n",
       " 'nyachae',\n",
       " 'advocaat',\n",
       " 'pitchers',\n",
       " 'chidambaram',\n",
       " 'nlc',\n",
       " 'mets',\n",
       " 'hanseatic',\n",
       " 'mainz',\n",
       " 'magners',\n",
       " 'numerical',\n",
       " 'amin',\n",
       " 'hitesh',\n",
       " 'accumulators',\n",
       " 'goalkeeping',\n",
       " 'cashman',\n",
       " 'confiscations',\n",
       " 'dunleavy',\n",
       " 'conceded',\n",
       " 'overthrown',\n",
       " 'midam',\n",
       " 'loyalists',\n",
       " 'nycz',\n",
       " 'sadrists',\n",
       " 'dála',\n",
       " 'gundy',\n",
       " 'aggies',\n",
       " 'oberalp',\n",
       " 'winnowing',\n",
       " 'epaminondas',\n",
       " 'hokies',\n",
       " 'archbishopric',\n",
       " 'bailable',\n",
       " 'trades',\n",
       " 'sleiman',\n",
       " 'ancelotti',\n",
       " 'wafiq',\n",
       " 'dibyo',\n",
       " 'sluggers',\n",
       " 'histadrut',\n",
       " 'inaa',\n",
       " 'palaiologan',\n",
       " 'voronin',\n",
       " 'mirwaiz',\n",
       " 'zamalek',\n",
       " 'furka',\n",
       " 'renegades',\n",
       " 'juve',\n",
       " 'ndma',\n",
       " 'dse',\n",
       " 'kotite',\n",
       " 'nacchio',\n",
       " 'ummayad',\n",
       " 'hamilcar',\n",
       " 'colletti',\n",
       " 'theodoros',\n",
       " 'aimers',\n",
       " 'stelios',\n",
       " 'cleamons',\n",
       " 'pim',\n",
       " 'ul',\n",
       " 'mozeliak',\n",
       " 'goal',\n",
       " 'reserves',\n",
       " 'blunder',\n",
       " 'inter',\n",
       " 'nnpc',\n",
       " 'fr',\n",
       " 'shas',\n",
       " 'warriors',\n",
       " 'canadiens',\n",
       " 'paok',\n",
       " 'gyude',\n",
       " 'richborough',\n",
       " 'confederation',\n",
       " 'reserve',\n",
       " 'naib',\n",
       " 'varennikov',\n",
       " 'quadrature',\n",
       " 'stadium',\n",
       " 'stingiest',\n",
       " 'shortstops',\n",
       " 'pasha',\n",
       " 'rashid',\n",
       " 'icl',\n",
       " 'chubais',\n",
       " 'avs',\n",
       " 'dihg',\n",
       " 'brom',\n",
       " 'palali',\n",
       " 'harun',\n",
       " 'happ',\n",
       " 'ineffective',\n",
       " 'lds',\n",
       " 'hacky',\n",
       " 'reinsdorf',\n",
       " 'benitez',\n",
       " 'elway',\n",
       " 'achaemenid',\n",
       " 'capitalized',\n",
       " 'pahs',\n",
       " 'coaltion',\n",
       " 'yards',\n",
       " 'subedar',\n",
       " 'nordiques',\n",
       " 'reinstated',\n",
       " 'uli',\n",
       " 'royalist',\n",
       " 'ut',\n",
       " 'conceding',\n",
       " 'speyer',\n",
       " 'makhdoom',\n",
       " 'captaincies',\n",
       " 'schottenheimer',\n",
       " 'millwall',\n",
       " 'bowa',\n",
       " 'brighouse',\n",
       " 'highbury',\n",
       " 'camara',\n",
       " 'revolt',\n",
       " 'ranieri',\n",
       " 'valiquette',\n",
       " 'jagodzinski',\n",
       " 'offside',\n",
       " 'blitzing',\n",
       " 'lokendra',\n",
       " 'tobback',\n",
       " 'tottenham',\n",
       " 'volcanologists',\n",
       " 'qayyum',\n",
       " 'klinsmann',\n",
       " 'katawal',\n",
       " 'thihr',\n",
       " 'koetter',\n",
       " 'cornhuskers',\n",
       " 'cinergy',\n",
       " 'misl',\n",
       " 'mahele',\n",
       " 'rectors',\n",
       " 'zaki',\n",
       " 'modin',\n",
       " 'magath',\n",
       " 'loyalist',\n",
       " 'unita',\n",
       " 'positions',\n",
       " 'flec',\n",
       " 'halftime',\n",
       " 'rafa',\n",
       " 'basemen',\n",
       " 'ptolemies',\n",
       " 'eiland',\n",
       " 'texans',\n",
       " 'chaudhry',\n",
       " 'strike',\n",
       " 'ensured',\n",
       " 'urabi',\n",
       " 'trojans',\n",
       " 'bremer',\n",
       " 'fbu',\n",
       " 'daladier',\n",
       " 'ayyubid',\n",
       " 'jaromir',\n",
       " 'ecclesiastical',\n",
       " 'roussopoulos',\n",
       " 'elected',\n",
       " 'crouch',\n",
       " 'starcaps',\n",
       " 'conte',\n",
       " 'sabres',\n",
       " 'authority',\n",
       " 'cpjp',\n",
       " 'instituted',\n",
       " 'paramilitary',\n",
       " 'reshuffling',\n",
       " 'dostam',\n",
       " 'rajas',\n",
       " 'pleat',\n",
       " 'vijayanagar',\n",
       " 'westhead',\n",
       " 'scrums',\n",
       " 'shakeups',\n",
       " 'tantawi',\n",
       " 'olañeta',\n",
       " 'mutiny',\n",
       " 'fa',\n",
       " 'hardliners',\n",
       " 'undrafted',\n",
       " 'leafs',\n",
       " 'tikhomirov',\n",
       " 'guei',\n",
       " 'julius',\n",
       " 'wanderers',\n",
       " 'fumbled',\n",
       " 'pallavas',\n",
       " 'jarome',\n",
       " 'fundamentalist',\n",
       " 'hotspur',\n",
       " 'covariant',\n",
       " 'qmjhl',\n",
       " 'marathas',\n",
       " 'moratti',\n",
       " 'kostrad',\n",
       " 'dorrell',\n",
       " 'equations',\n",
       " 'fuad',\n",
       " 'shankly',\n",
       " 'sox',\n",
       " 'finex',\n",
       " 'councils',\n",
       " 'mazzone',\n",
       " 'leagues',\n",
       " 'gadaffi',\n",
       " 'inzamam',\n",
       " 'bearcats',\n",
       " 'governing',\n",
       " 'irineos',\n",
       " 'maharero',\n",
       " 'manning',\n",
       " 'issa',\n",
       " 'adjutants',\n",
       " 'hitters',\n",
       " 'churov',\n",
       " 'simeon',\n",
       " 'noldor',\n",
       " 'khalid',\n",
       " 'opponents',\n",
       " 'replaced',\n",
       " 'zeo',\n",
       " 'zakir',\n",
       " 'mohammad',\n",
       " 'andreychuk',\n",
       " 'olajuwon',\n",
       " 'fractional',\n",
       " 'alkatiri',\n",
       " 'firing',\n",
       " 'uefa',\n",
       " 'consistories',\n",
       " 'spaatz',\n",
       " 'miandad',\n",
       " 'tammany',\n",
       " 'integer',\n",
       " 'nagpur',\n",
       " 'innovest',\n",
       " 'grivas',\n",
       " 'nivelle',\n",
       " 'hugoton',\n",
       " 'flyers',\n",
       " 'mido',\n",
       " 'rawabdeh',\n",
       " 'vijayanagara',\n",
       " 'shujat',\n",
       " 'visvesvaraya',\n",
       " 'coup',\n",
       " 'feisal',\n",
       " 'irgc',\n",
       " 'tlass',\n",
       " 'stamkos',\n",
       " 'padres',\n",
       " 'lefebvre',\n",
       " 'valdano',\n",
       " 'milovan',\n",
       " 'gyanendra',\n",
       " 'coaching',\n",
       " 'provisional',\n",
       " 'danelaw',\n",
       " 'wismoyo',\n",
       " 'essendon',\n",
       " 'fouls',\n",
       " 'trapattoni',\n",
       " 'scorer',\n",
       " 'umar',\n",
       " 'žalgiris',\n",
       " 'kivuitu',\n",
       " 'biu',\n",
       " 'psoe',\n",
       " 'schmalkaldic',\n",
       " 'madejski',\n",
       " 'padroado',\n",
       " 'enforcers',\n",
       " 'almoravid',\n",
       " 'aragones',\n",
       " 'huaji',\n",
       " 'ensuing',\n",
       " 'burnley',\n",
       " 'quarterbacked',\n",
       " 'mughals',\n",
       " 'linesman',\n",
       " 'fatah',\n",
       " 'azharuddin',\n",
       " 'twellman',\n",
       " 'mahmood',\n",
       " 'templars',\n",
       " 'rector',\n",
       " 'epl',\n",
       " 'unitary',\n",
       " 'voorhoeve',\n",
       " 'cruyff',\n",
       " 'dunsterville',\n",
       " 'capitals',\n",
       " 'pahlawan',\n",
       " 'wizkids',\n",
       " 'seljuq',\n",
       " 'premadasa',\n",
       " 'counterattack',\n",
       " 'orangist',\n",
       " 'hourmadji',\n",
       " 'latief',\n",
       " 'dirección',\n",
       " 'punted',\n",
       " 'pcb',\n",
       " 'ebbets',\n",
       " 'romans',\n",
       " 'shamil',\n",
       " 'chittagong',\n",
       " 'faqir',\n",
       " 'hazem',\n",
       " 'khazar',\n",
       " 'kickoffs',\n",
       " 'cornerback',\n",
       " 'murtala',\n",
       " 'relegated',\n",
       " 'therrien',\n",
       " 'ouster',\n",
       " 'enugu',\n",
       " 'nol',\n",
       " 'zvinavashe',\n",
       " 'superheterodyne',\n",
       " 'wicbc',\n",
       " 'lezhë',\n",
       " 'shakeup',\n",
       " 'hizb',\n",
       " 'tfg',\n",
       " 'kfir',\n",
       " 'bundesliga',\n",
       " 'poplasen',\n",
       " 'marcellus',\n",
       " 'quadratic',\n",
       " 'penev',\n",
       " 'vyacheslav',\n",
       " 'nha',\n",
       " 'armories',\n",
       " 'stoppage',\n",
       " 'regime',\n",
       " 'tomislav',\n",
       " 'milan',\n",
       " 'handed',\n",
       " 'burghs',\n",
       " 'cuper',\n",
       " 'gauss',\n",
       " 'sultans',\n",
       " 'nlcs',\n",
       " 'adcom',\n",
       " 'parthians',\n",
       " 'jozef',\n",
       " 'mariners',\n",
       " 'krishnadevaraya',\n",
       " 'jna',\n",
       " 'parthian',\n",
       " 'syrian',\n",
       " 'numeral',\n",
       " 'corinthians',\n",
       " 'utes',\n",
       " 'onside',\n",
       " 'deenar',\n",
       " 'aek',\n",
       " 'position',\n",
       " 'wishbone',\n",
       " 'putschists',\n",
       " 'moussa',\n",
       " 'cochems',\n",
       " 'caliph',\n",
       " 'jagr',\n",
       " 'defoe',\n",
       " 'zanu',\n",
       " 'fnl',\n",
       " 'msika',\n",
       " 'spagnuolo',\n",
       " 'mujahedin',\n",
       " 'commanders',\n",
       " 'kabwe',\n",
       " 'yoshito',\n",
       " 'obote',\n",
       " 'multan',\n",
       " 'utep',\n",
       " 'everbank',\n",
       " 'airtricity',\n",
       " 'metalworkers',\n",
       " 'juventus',\n",
       " 'hawks',\n",
       " 'rambis',\n",
       " 'nizam',\n",
       " 'bakhshi',\n",
       " 'guardiola',\n",
       " 'mahdist',\n",
       " 'dgca',\n",
       " 'overthrowing',\n",
       " 'feyenoord',\n",
       " 'siles',\n",
       " 'linescores',\n",
       " 'maroons',\n",
       " 'deion',\n",
       " 'baath',\n",
       " 'leadership',\n",
       " 'neumi',\n",
       " 'stampeders',\n",
       " 'rauf',\n",
       " 'nda',\n",
       " 'successor',\n",
       " 'ceneri',\n",
       " 'juande',\n",
       " 'paterno',\n",
       " 'villanueva',\n",
       " 'uic',\n",
       " 'mcclaren',\n",
       " 'neutralized',\n",
       " 'proteas',\n",
       " 'rijkaard',\n",
       " 'securitisation',\n",
       " 'baybars',\n",
       " 'angevin',\n",
       " 'nioc',\n",
       " 'madjid',\n",
       " 'promoted',\n",
       " 'aghlabid',\n",
       " 'gamal',\n",
       " 'hammam',\n",
       " 'offsides',\n",
       " 'allocation',\n",
       " 'signed',\n",
       " 'portsmouth',\n",
       " 'helvetii',\n",
       " 'clippers',\n",
       " 'pp',\n",
       " 'aztecs',\n",
       " 'mutambara',\n",
       " 'villines',\n",
       " 'bickerstaff',\n",
       " 'mackovic',\n",
       " 'waikato',\n",
       " 'athanasius',\n",
       " 'ezzedine',\n",
       " 'maada',\n",
       " 'testaverde',\n",
       " 'bases',\n",
       " 'decreed',\n",
       " 'rearguard',\n",
       " 'galatasaray',\n",
       " 'forwards',\n",
       " 'mrad',\n",
       " 'khaplang',\n",
       " 'boonyaratkalin',\n",
       " 'qb',\n",
       " 'tōjō',\n",
       " 'abdel',\n",
       " 'persians',\n",
       " 'ntuyahaga',\n",
       " 'adebayor',\n",
       " 'supremo',\n",
       " 'griese',\n",
       " 'caretaker',\n",
       " 'kubiak',\n",
       " 'dimitar',\n",
       " 'liga',\n",
       " 'evangelos',\n",
       " 'fianna',\n",
       " 'liverpool',\n",
       " 'gauls',\n",
       " 'dugouts']"
      ]
     },
     "execution_count": 30,
     "metadata": {},
     "output_type": "execute_result"
    }
   ],
   "source": [
    "male_words"
   ]
  },
  {
   "cell_type": "code",
   "execution_count": null,
   "metadata": {},
   "outputs": [],
   "source": [
    "gendered_vectors=utils.extract_vectors(male_words + female_words, vectors_cleaned, word2idx_cleaned)\n",
    "cluster_and_visualize(male_words + female_words,\n",
    "                      gendered_vectors, 'GloVe_original', y_true)\n"
   ]
  },
  {
   "cell_type": "code",
   "execution_count": null,
   "metadata": {},
   "outputs": [],
   "source": [
    "gendered_debiased_vectors = utils.extract_vectors(\n",
    "    male_words + female_words, debiased_vectors, debiased_word2idx)\n",
    "\n",
    "cluster_and_visualize(male_words + female_words, gendered_debiased_vectors,\n",
    "                      'Debiased_GloVe', y_true)\n"
   ]
  },
  {
   "attachments": {},
   "cell_type": "markdown",
   "metadata": {},
   "source": [
    "###  Random Words: bias scores and neighbors"
   ]
  },
  {
   "cell_type": "code",
   "execution_count": 143,
   "metadata": {},
   "outputs": [],
   "source": [
    "from collections import defaultdict\n",
    "#set a seed for reproducibility\n",
    "np.random.seed(42)\n",
    "#choosing random words from the vocabulary\n",
    "random_words = np.random.choice(vocab_cleaned[:10000], size=20)\n",
    "\n",
    "#setting parameters for the gensim method \"most_similar\"\n",
    "topn = 3\n"
   ]
  },
  {
   "cell_type": "code",
   "execution_count": 144,
   "metadata": {},
   "outputs": [
    {
     "data": {
      "text/plain": [
       "array(['clouds', 'italy', 'anymore', 'cardinals', 'honest', 'eventual',\n",
       "       'community', 'staying', 'sadr', 'vertical', 'henry', 'love',\n",
       "       'rubin', 'drawn', 'monument', 'breast', 'jeffrey', 'pass',\n",
       "       'rushed', 'maryland'], dtype='<U18')"
      ]
     },
     "execution_count": 144,
     "metadata": {},
     "output_type": "execute_result"
    }
   ],
   "source": [
    "random_words"
   ]
  },
  {
   "cell_type": "code",
   "execution_count": 145,
   "metadata": {},
   "outputs": [
    {
     "data": {
      "text/plain": [
       "[('cloud', 0.8214010000228882),\n",
       " ('mist', 0.7935919761657715),\n",
       " ('dust', 0.7828845977783203)]"
      ]
     },
     "execution_count": 145,
     "metadata": {},
     "output_type": "execute_result"
    }
   ],
   "source": [
    "#Gensim's .most_similar() method finds the top-N most similar words to a given word.\n",
    "#See documentation: https://tedboy.github.io/nlps/generated/generated/gensim.models.Word2Vec.most_similar.html\n",
    "glove.model.most_similar(random_words[0], topn=topn)\n"
   ]
  },
  {
   "cell_type": "code",
   "execution_count": 152,
   "metadata": {},
   "outputs": [],
   "source": [
    "model_original = create_KeyedVectors(vectors_cleaned, vocab_cleaned, 50)\n",
    "gender_debiased = create_KeyedVectors(deb_vect_gender, deb_vocab_gender, 50)\n",
    "race_debiased = create_KeyedVectors(deb_vect_race, deb_vocab_race, 50)\n",
    "joined_debiased = create_KeyedVectors(deb_vect_joined, deb_vocab_joined, 50)\n"
   ]
  },
  {
   "cell_type": "code",
   "execution_count": 147,
   "metadata": {},
   "outputs": [
    {
     "data": {
      "text/plain": [
       "[('cloud', 0.8214010000228882), ('mist', 0.7935919761657715)]"
      ]
     },
     "execution_count": 147,
     "metadata": {},
     "output_type": "execute_result"
    }
   ],
   "source": [
    "model_original.most_similar(random_words[0], topn=2)\n"
   ]
  },
  {
   "cell_type": "code",
   "execution_count": 153,
   "metadata": {},
   "outputs": [
    {
     "name": "stdout",
     "output_type": "stream",
     "text": [
      "----------------------------------\n",
      "word: clouds\n",
      " most-similar-before: ('cloud', 'mist')\n",
      " most-similar-after: ('dprk', 'longtime')\n",
      "----------------------------------\n",
      "word: italy\n",
      " most-similar-before: ('spain', 'italian')\n",
      " most-similar-after: ('best', 'trust')\n",
      "----------------------------------\n",
      "word: anymore\n",
      " most-similar-before: ('else', 'everybody')\n",
      " most-similar-after: ('yorkshire', 'chaos')\n",
      "----------------------------------\n",
      "word: cardinals\n",
      " most-similar-before: ('mets', 'sox')\n",
      " most-similar-after: ('ahl', 'rushed')\n",
      "----------------------------------\n",
      "word: honest\n",
      " most-similar-before: ('thoughtful', 'absolutely')\n",
      " most-similar-after: ('appearing', 'nicole')\n",
      "----------------------------------\n",
      "word: eventual\n",
      " most-similar-before: ('securing', 'elimination')\n",
      " most-similar-after: ('mcintosh', 'skinny')\n",
      "----------------------------------\n",
      "word: community\n",
      " most-similar-before: ('communities', 'schools')\n",
      " most-similar-after: ('million', 'food')\n",
      "----------------------------------\n",
      "word: staying\n",
      " most-similar-before: ('stay', 'stayed')\n",
      " most-similar-after: ('dash', 'caribbean')\n",
      "----------------------------------\n",
      "word: sadr\n",
      " most-similar-before: ('moqtada', 'mahdi')\n",
      " most-similar-after: ('bombs', 'began')\n",
      "----------------------------------\n",
      "word: vertical\n",
      " most-similar-before: ('horizontal', 'circular')\n",
      " most-similar-after: ('unmatched', 'prosperity')\n",
      "----------------------------------\n",
      "word: henry\n",
      " most-similar-before: ('william', 'charles')\n",
      " most-similar-after: ('operations', 'contributed')\n",
      "----------------------------------\n",
      "word: love\n",
      " most-similar-before: ('dream', 'life')\n",
      " most-similar-after: ('most', 'everything')\n",
      "----------------------------------\n",
      "word: rubin\n",
      " most-similar-before: ('paulson', 'becker')\n",
      " most-similar-after: ('observers', 'conflict')\n",
      "----------------------------------\n",
      "word: drawn\n",
      " most-similar-before: ('drawing', 'both')\n",
      " most-similar-after: ('stretch', 'investments')\n",
      "----------------------------------\n",
      "word: monument\n",
      " most-similar-before: ('statue', 'erected')\n",
      " most-similar-after: ('encourage', 'slogans')\n",
      "----------------------------------\n",
      "word: breast\n",
      " most-similar-before: ('cancer', 'cancers')\n",
      " most-similar-after: ('turns', 'removing')\n",
      "----------------------------------\n",
      "word: jeffrey\n",
      " most-similar-before: ('shapiro', 'schwartz')\n",
      " most-similar-after: ('thunder', 'caller')\n",
      "----------------------------------\n",
      "word: pass\n",
      " most-similar-before: ('passes', 'passing')\n",
      " most-similar-after: ('tuesday', 'coverage')\n",
      "----------------------------------\n",
      "word: rushed\n",
      " most-similar-before: ('waited', 'ambulances')\n",
      " most-similar-after: ('ahl', 'cardinals')\n",
      "----------------------------------\n",
      "word: maryland\n",
      " most-similar-before: ('virginia', 'connecticut')\n",
      " most-similar-after: ('omar', 'tourists')\n"
     ]
    },
    {
     "data": {
      "text/plain": [
       "defaultdict(dict,\n",
       "            {'clouds': {'before': ('cloud', 'mist'),\n",
       "              'after': ('dprk', 'longtime')},\n",
       "             'italy': {'before': ('spain', 'italian'),\n",
       "              'after': ('best', 'trust')},\n",
       "             'anymore': {'before': ('else', 'everybody'),\n",
       "              'after': ('yorkshire', 'chaos')},\n",
       "             'cardinals': {'before': ('mets', 'sox'),\n",
       "              'after': ('ahl', 'rushed')},\n",
       "             'honest': {'before': ('thoughtful', 'absolutely'),\n",
       "              'after': ('appearing', 'nicole')},\n",
       "             'eventual': {'before': ('securing', 'elimination'),\n",
       "              'after': ('mcintosh', 'skinny')},\n",
       "             'community': {'before': ('communities', 'schools'),\n",
       "              'after': ('million', 'food')},\n",
       "             'staying': {'before': ('stay', 'stayed'),\n",
       "              'after': ('dash', 'caribbean')},\n",
       "             'sadr': {'before': ('moqtada', 'mahdi'),\n",
       "              'after': ('bombs', 'began')},\n",
       "             'vertical': {'before': ('horizontal', 'circular'),\n",
       "              'after': ('unmatched', 'prosperity')},\n",
       "             'henry': {'before': ('william', 'charles'),\n",
       "              'after': ('operations', 'contributed')},\n",
       "             'love': {'before': ('dream', 'life'),\n",
       "              'after': ('most', 'everything')},\n",
       "             'rubin': {'before': ('paulson', 'becker'),\n",
       "              'after': ('observers', 'conflict')},\n",
       "             'drawn': {'before': ('drawing', 'both'),\n",
       "              'after': ('stretch', 'investments')},\n",
       "             'monument': {'before': ('statue', 'erected'),\n",
       "              'after': ('encourage', 'slogans')},\n",
       "             'breast': {'before': ('cancer', 'cancers'),\n",
       "              'after': ('turns', 'removing')},\n",
       "             'jeffrey': {'before': ('shapiro', 'schwartz'),\n",
       "              'after': ('thunder', 'caller')},\n",
       "             'pass': {'before': ('passes', 'passing'),\n",
       "              'after': ('tuesday', 'coverage')},\n",
       "             'rushed': {'before': ('waited', 'ambulances'),\n",
       "              'after': ('ahl', 'cardinals')},\n",
       "             'maryland': {'before': ('virginia', 'connecticut'),\n",
       "              'after': ('omar', 'tourists')}})"
      ]
     },
     "execution_count": 153,
     "metadata": {},
     "output_type": "execute_result"
    }
   ],
   "source": [
    "finding_neighbors_before_after(random_words, model_original, gender_debiased, topn=2)"
   ]
  },
  {
   "cell_type": "code",
   "execution_count": 154,
   "metadata": {},
   "outputs": [
    {
     "name": "stdout",
     "output_type": "stream",
     "text": [
      "----------------------------------\n",
      "word: clouds\n",
      " most-similar-before: ('cloud', 'mist')\n",
      " most-similar-after: ('dprk', 'longtime')\n",
      "----------------------------------\n",
      "word: italy\n",
      " most-similar-before: ('spain', 'italian')\n",
      " most-similar-after: ('best', 'trust')\n",
      "----------------------------------\n",
      "word: anymore\n",
      " most-similar-before: ('else', 'everybody')\n",
      " most-similar-after: ('christine', 'yorkshire')\n",
      "----------------------------------\n",
      "word: cardinals\n",
      " most-similar-before: ('mets', 'sox')\n",
      " most-similar-after: ('ahl', 'culminated')\n",
      "----------------------------------\n",
      "word: honest\n",
      " most-similar-before: ('thoughtful', 'absolutely')\n",
      " most-similar-after: ('appearing', 'nicole')\n",
      "----------------------------------\n",
      "word: eventual\n",
      " most-similar-before: ('securing', 'elimination')\n",
      " most-similar-after: ('mcintosh', 'skinny')\n",
      "----------------------------------\n",
      "word: community\n",
      " most-similar-before: ('communities', 'schools')\n",
      " most-similar-after: ('million', 'food')\n",
      "----------------------------------\n",
      "word: staying\n",
      " most-similar-before: ('stay', 'stayed')\n",
      " most-similar-after: ('dash', 'doherty')\n",
      "----------------------------------\n",
      "word: sadr\n",
      " most-similar-before: ('moqtada', 'mahdi')\n",
      " most-similar-after: ('bombs', 'galaxy')\n",
      "----------------------------------\n",
      "word: vertical\n",
      " most-similar-before: ('horizontal', 'circular')\n",
      " most-similar-after: ('unmatched', 'prosperity')\n",
      "----------------------------------\n",
      "word: henry\n",
      " most-similar-before: ('william', 'charles')\n",
      " most-similar-after: ('operations', 'contributed')\n",
      "----------------------------------\n",
      "word: love\n",
      " most-similar-before: ('dream', 'life')\n",
      " most-similar-after: ('most', 'lake')\n",
      "----------------------------------\n",
      "word: rubin\n",
      " most-similar-before: ('paulson', 'becker')\n",
      " most-similar-after: ('observers', 'possession')\n",
      "----------------------------------\n",
      "word: drawn\n",
      " most-similar-before: ('drawing', 'both')\n",
      " most-similar-after: ('stretch', 'investments')\n",
      "----------------------------------\n",
      "word: monument\n",
      " most-similar-before: ('statue', 'erected')\n",
      " most-similar-after: ('encourage', 'slogans')\n",
      "----------------------------------\n",
      "word: breast\n",
      " most-similar-before: ('cancer', 'cancers')\n",
      " most-similar-after: ('turns', 'removing')\n",
      "----------------------------------\n",
      "word: jeffrey\n",
      " most-similar-before: ('shapiro', 'schwartz')\n",
      " most-similar-after: ('thunder', 'caller')\n",
      "----------------------------------\n",
      "word: pass\n",
      " most-similar-before: ('passes', 'passing')\n",
      " most-similar-after: ('tuesday', 'premier')\n",
      "----------------------------------\n",
      "word: rushed\n",
      " most-similar-before: ('waited', 'ambulances')\n",
      " most-similar-after: ('ahl', 'cardinals')\n",
      "----------------------------------\n",
      "word: maryland\n",
      " most-similar-before: ('virginia', 'connecticut')\n",
      " most-similar-after: ('omar', 'tourists')\n"
     ]
    },
    {
     "data": {
      "text/plain": [
       "defaultdict(dict,\n",
       "            {'clouds': {'before': ('cloud', 'mist'),\n",
       "              'after': ('dprk', 'longtime')},\n",
       "             'italy': {'before': ('spain', 'italian'),\n",
       "              'after': ('best', 'trust')},\n",
       "             'anymore': {'before': ('else', 'everybody'),\n",
       "              'after': ('christine', 'yorkshire')},\n",
       "             'cardinals': {'before': ('mets', 'sox'),\n",
       "              'after': ('ahl', 'culminated')},\n",
       "             'honest': {'before': ('thoughtful', 'absolutely'),\n",
       "              'after': ('appearing', 'nicole')},\n",
       "             'eventual': {'before': ('securing', 'elimination'),\n",
       "              'after': ('mcintosh', 'skinny')},\n",
       "             'community': {'before': ('communities', 'schools'),\n",
       "              'after': ('million', 'food')},\n",
       "             'staying': {'before': ('stay', 'stayed'),\n",
       "              'after': ('dash', 'doherty')},\n",
       "             'sadr': {'before': ('moqtada', 'mahdi'),\n",
       "              'after': ('bombs', 'galaxy')},\n",
       "             'vertical': {'before': ('horizontal', 'circular'),\n",
       "              'after': ('unmatched', 'prosperity')},\n",
       "             'henry': {'before': ('william', 'charles'),\n",
       "              'after': ('operations', 'contributed')},\n",
       "             'love': {'before': ('dream', 'life'), 'after': ('most', 'lake')},\n",
       "             'rubin': {'before': ('paulson', 'becker'),\n",
       "              'after': ('observers', 'possession')},\n",
       "             'drawn': {'before': ('drawing', 'both'),\n",
       "              'after': ('stretch', 'investments')},\n",
       "             'monument': {'before': ('statue', 'erected'),\n",
       "              'after': ('encourage', 'slogans')},\n",
       "             'breast': {'before': ('cancer', 'cancers'),\n",
       "              'after': ('turns', 'removing')},\n",
       "             'jeffrey': {'before': ('shapiro', 'schwartz'),\n",
       "              'after': ('thunder', 'caller')},\n",
       "             'pass': {'before': ('passes', 'passing'),\n",
       "              'after': ('tuesday', 'premier')},\n",
       "             'rushed': {'before': ('waited', 'ambulances'),\n",
       "              'after': ('ahl', 'cardinals')},\n",
       "             'maryland': {'before': ('virginia', 'connecticut'),\n",
       "              'after': ('omar', 'tourists')}})"
      ]
     },
     "execution_count": 154,
     "metadata": {},
     "output_type": "execute_result"
    }
   ],
   "source": [
    "finding_neighbors_before_after(random_words, model_original, race_debiased, topn=2)"
   ]
  },
  {
   "cell_type": "code",
   "execution_count": 155,
   "metadata": {},
   "outputs": [
    {
     "name": "stdout",
     "output_type": "stream",
     "text": [
      "----------------------------------\n",
      "word: clouds\n",
      " most-similar-before: ('cloud', 'mist')\n",
      " most-similar-after: ('dprk', 'longtime')\n",
      "----------------------------------\n",
      "word: italy\n",
      " most-similar-before: ('spain', 'italian')\n",
      " most-similar-after: ('best', 'trust')\n",
      "----------------------------------\n",
      "word: anymore\n",
      " most-similar-before: ('else', 'everybody')\n",
      " most-similar-after: ('christine', 'yorkshire')\n",
      "----------------------------------\n",
      "word: cardinals\n",
      " most-similar-before: ('mets', 'sox')\n",
      " most-similar-after: ('ahl', 'culminated')\n",
      "----------------------------------\n",
      "word: honest\n",
      " most-similar-before: ('thoughtful', 'absolutely')\n",
      " most-similar-after: ('appearing', 'nicole')\n",
      "----------------------------------\n",
      "word: eventual\n",
      " most-similar-before: ('securing', 'elimination')\n",
      " most-similar-after: ('mcintosh', 'skinny')\n",
      "----------------------------------\n",
      "word: community\n",
      " most-similar-before: ('communities', 'schools')\n",
      " most-similar-after: ('million', 'today')\n",
      "----------------------------------\n",
      "word: staying\n",
      " most-similar-before: ('stay', 'stayed')\n",
      " most-similar-after: ('dash', 'doherty')\n",
      "----------------------------------\n",
      "word: sadr\n",
      " most-similar-before: ('moqtada', 'mahdi')\n",
      " most-similar-after: ('bombs', 'galaxy')\n",
      "----------------------------------\n",
      "word: vertical\n",
      " most-similar-before: ('horizontal', 'circular')\n",
      " most-similar-after: ('unmatched', 'prosperity')\n",
      "----------------------------------\n",
      "word: henry\n",
      " most-similar-before: ('william', 'charles')\n",
      " most-similar-after: ('operations', 'contributed')\n",
      "----------------------------------\n",
      "word: love\n",
      " most-similar-before: ('dream', 'life')\n",
      " most-similar-after: ('most', 'lake')\n",
      "----------------------------------\n",
      "word: rubin\n",
      " most-similar-before: ('paulson', 'becker')\n",
      " most-similar-after: ('observers', 'fc')\n",
      "----------------------------------\n",
      "word: drawn\n",
      " most-similar-before: ('drawing', 'both')\n",
      " most-similar-after: ('stretch', 'investments')\n",
      "----------------------------------\n",
      "word: monument\n",
      " most-similar-before: ('statue', 'erected')\n",
      " most-similar-after: ('encourage', 'slogans')\n",
      "----------------------------------\n",
      "word: breast\n",
      " most-similar-before: ('cancer', 'cancers')\n",
      " most-similar-after: ('turns', 'removing')\n",
      "----------------------------------\n",
      "word: jeffrey\n",
      " most-similar-before: ('shapiro', 'schwartz')\n",
      " most-similar-after: ('thunder', 'caller')\n",
      "----------------------------------\n",
      "word: pass\n",
      " most-similar-before: ('passes', 'passing')\n",
      " most-similar-after: ('tuesday', 'premier')\n",
      "----------------------------------\n",
      "word: rushed\n",
      " most-similar-before: ('waited', 'ambulances')\n",
      " most-similar-after: ('ahl', 'cardinals')\n",
      "----------------------------------\n",
      "word: maryland\n",
      " most-similar-before: ('virginia', 'connecticut')\n",
      " most-similar-after: ('omar', 'tourists')\n"
     ]
    },
    {
     "data": {
      "text/plain": [
       "defaultdict(dict,\n",
       "            {'clouds': {'before': ('cloud', 'mist'),\n",
       "              'after': ('dprk', 'longtime')},\n",
       "             'italy': {'before': ('spain', 'italian'),\n",
       "              'after': ('best', 'trust')},\n",
       "             'anymore': {'before': ('else', 'everybody'),\n",
       "              'after': ('christine', 'yorkshire')},\n",
       "             'cardinals': {'before': ('mets', 'sox'),\n",
       "              'after': ('ahl', 'culminated')},\n",
       "             'honest': {'before': ('thoughtful', 'absolutely'),\n",
       "              'after': ('appearing', 'nicole')},\n",
       "             'eventual': {'before': ('securing', 'elimination'),\n",
       "              'after': ('mcintosh', 'skinny')},\n",
       "             'community': {'before': ('communities', 'schools'),\n",
       "              'after': ('million', 'today')},\n",
       "             'staying': {'before': ('stay', 'stayed'),\n",
       "              'after': ('dash', 'doherty')},\n",
       "             'sadr': {'before': ('moqtada', 'mahdi'),\n",
       "              'after': ('bombs', 'galaxy')},\n",
       "             'vertical': {'before': ('horizontal', 'circular'),\n",
       "              'after': ('unmatched', 'prosperity')},\n",
       "             'henry': {'before': ('william', 'charles'),\n",
       "              'after': ('operations', 'contributed')},\n",
       "             'love': {'before': ('dream', 'life'), 'after': ('most', 'lake')},\n",
       "             'rubin': {'before': ('paulson', 'becker'),\n",
       "              'after': ('observers', 'fc')},\n",
       "             'drawn': {'before': ('drawing', 'both'),\n",
       "              'after': ('stretch', 'investments')},\n",
       "             'monument': {'before': ('statue', 'erected'),\n",
       "              'after': ('encourage', 'slogans')},\n",
       "             'breast': {'before': ('cancer', 'cancers'),\n",
       "              'after': ('turns', 'removing')},\n",
       "             'jeffrey': {'before': ('shapiro', 'schwartz'),\n",
       "              'after': ('thunder', 'caller')},\n",
       "             'pass': {'before': ('passes', 'passing'),\n",
       "              'after': ('tuesday', 'premier')},\n",
       "             'rushed': {'before': ('waited', 'ambulances'),\n",
       "              'after': ('ahl', 'cardinals')},\n",
       "             'maryland': {'before': ('virginia', 'connecticut'),\n",
       "              'after': ('omar', 'tourists')}})"
      ]
     },
     "execution_count": 155,
     "metadata": {},
     "output_type": "execute_result"
    }
   ],
   "source": [
    "finding_neighbors_before_after(\n",
    "    random_words, model_original, joined_debiased, topn=2)\n"
   ]
  },
  {
   "cell_type": "code",
   "execution_count": 31,
   "metadata": {},
   "outputs": [],
   "source": [
    "from sklearn.manifold import TSNE\n",
    "import numpy as np\n",
    "\n",
    "#This approach was inspired by the following blog post:https://towardsdatascience.com/google-news-and-leo-tolstoy-visualizing-word2vec-word-embeddings-with-t-sne-11558d8bd4d\n",
    "keys = random_words\n",
    "embedding_clusters, db_embedding_clusters, word_clusters = get_embeddings_neighbors(\n",
    "    keys, model_original, model_debiased, 10)\n",
    "\n",
    "n, m, k = embedding_clusters.shape\n",
    "tsne_model_en_2d = TSNE(perplexity=2, n_components=2,\n",
    "                        init='pca', n_iter=3500, random_state=32)\n",
    "embeddings_en_2d = np.array(tsne_model_en_2d.fit_transform(\n",
    "    embedding_clusters.reshape(n * m, k))).reshape(n, m, 2)\n",
    "db_embeddings_en_2d = np.array(tsne_model_en_2d.fit_transform(\n",
    "    db_embedding_clusters.reshape(n * m, k))).reshape(n, m, 2)\n"
   ]
  },
  {
   "cell_type": "code",
   "execution_count": 32,
   "metadata": {},
   "outputs": [
    {
     "data": {
      "image/png": "[encoded data removed]",
      "text/plain": [
       "<Figure size 1000x600 with 1 Axes>"
      ]
     },
     "metadata": {},
     "output_type": "display_data"
    },
    {
     "data": {
      "image/png": "[encoded data removed]",
      "text/plain": [
       "<Figure size 1000x600 with 1 Axes>"
      ]
     },
     "metadata": {},
     "output_type": "display_data"
    }
   ],
   "source": [
    "tsne_plot_similar_words('Similar words before Debiasing',\n",
    "                        keys, embeddings_en_2d, word_clusters, 0.7)\n",
    "tsne_plot_similar_words('Similar words after Debiasing',\n",
    "                        keys, db_embeddings_en_2d, word_clusters, 0.7)\n"
   ]
  },
  {
   "cell_type": "code",
   "execution_count": 25,
   "metadata": {},
   "outputs": [
    {
     "name": "stdout",
     "output_type": "stream",
     "text": [
      "----------------------------------\n",
      "word: ruth\n",
      " most-similar-before: ('joyce', 'ted', 'doris')\n",
      " most-similar-after: ('composer', 'threatening', 'greenspan')\n",
      "----------------------------------\n",
      "word: charlotte\n",
      " most-similar-before: ('portland', 'detroit', 'cleveland')\n",
      " most-similar-after: ('parallel', 'livewire', 'mischief')\n",
      "----------------------------------\n",
      "word: abigail\n",
      " most-similar-before: ('breslin', 'melanie', 'zachary')\n",
      " most-similar-after: ('playmate', 'payne', 'masquerading')\n",
      "----------------------------------\n",
      "word: sophie\n",
      " most-similar-before: ('kate', 'caroline', 'anna')\n",
      " most-similar-after: ('competes', 'runaway', 'graeme')\n",
      "----------------------------------\n",
      "word: nichole\n",
      " most-similar-before: ('nordeman', 'philipson', 'hotaling')\n",
      " most-similar-after: ('cranston', 'archway', 'stellation')\n",
      "----------------------------------\n",
      "word: emma\n",
      " most-similar-before: ('helen', 'julia', 'emily')\n",
      " most-similar-after: ('manipulated', 'barrow', 'reviewer')\n",
      "----------------------------------\n",
      "word: olivia\n",
      " most-similar-before: ('finch', 'isabel', 'alicia')\n",
      " most-similar-after: ('jankovic', 'raged', 'neurological')\n",
      "----------------------------------\n",
      "word: ava\n",
      " most-similar-before: ('nimba', 'tenasserim', 'himalaya')\n",
      " most-similar-after: ('cunningly', 'kozarac', 'diehl')\n",
      "----------------------------------\n",
      "word: isabella\n",
      " most-similar-before: ('theresa', 'countess', 'matilda')\n",
      " most-similar-after: ('lingering', 'gao', 'interactions')\n",
      "----------------------------------\n",
      "word: sophia\n",
      " most-similar-before: ('hagia', 'antipolis', 'gertrude')\n",
      " most-similar-after: ('wilmington', 'abuses', 'nino')\n",
      "----------------------------------\n",
      "word: charlotte\n",
      " most-similar-before: ('portland', 'detroit', 'cleveland')\n",
      " most-similar-after: ('parallel', 'livewire', 'mischief')\n",
      "----------------------------------\n",
      "word: mia\n",
      " most-similar-before: ('wasikowska', 'mamma', 'farrow')\n",
      " most-similar-after: ('rocha', 'contrived', 'gymnast')\n",
      "----------------------------------\n",
      "word: amelia\n",
      " most-similar-before: ('earhart', 'louisa', 'penelope')\n",
      " most-similar-after: ('comptroller', 'anathema', 'vladislav')\n"
     ]
    }
   ],
   "source": [
    "gendered_names = [\"ruth\", \"charlotte\", \"abigail\", \"sophie\", \"nichole\", \"emma\", \"olivia\", \"ava\", \"isabella\", \"sophia\", \"charlotte\", \"mia\", \"amelia\"]\n",
    "                 # \"james\", \"john\", \"robert\", \"michael\", \"william\", \"david\", \"richard\", \"joseph\", \"thomas\", \"ariel\", \"mike\", \"nurse\", \"secretary\", \"nursery\"]\n",
    "#words_chosen = [\"miss\", \"mrs\", \"mr\", \"john\", \"rachel\",\n",
    "# \"wife\", \"mom\", \"family\", \"father\", \"lady\", \"he\", \"she\"]\n",
    "\n",
    "gendered_words_before_and_after=finding_neighbors_before_after(gendered_names, model_original, model_debiased, topn=3)"
   ]
  },
  {
   "cell_type": "code",
   "execution_count": 26,
   "metadata": {},
   "outputs": [
    {
     "data": {
      "image/png": "[encoded data removed]",
      "text/plain": [
       "<Figure size 1000x600 with 1 Axes>"
      ]
     },
     "metadata": {},
     "output_type": "display_data"
    },
    {
     "data": {
      "image/png": "[encoded data removed]",
      "text/plain": [
       "<Figure size 1000x600 with 1 Axes>"
      ]
     },
     "metadata": {},
     "output_type": "display_data"
    }
   ],
   "source": [
    "keys2=gendered_names\n",
    "embedding_clusters, db_embedding_clusters, word_clusters = get_embeddings_neighbors(keys2, model_original, model_debiased, topn)\n",
    "\n",
    "n, m, k = embedding_clusters.shape\n",
    "tsne_model_en_2d = TSNE(perplexity=2, n_components=2,\n",
    "                        init='pca', n_iter=3500, random_state=32)\n",
    "embeddings_en_2d = np.array(tsne_model_en_2d.fit_transform(\n",
    "    embedding_clusters.reshape(n * m, k))).reshape(n, m, 2)\n",
    "db_embeddings_en_2d = np.array(tsne_model_en_2d.fit_transform(\n",
    "    db_embedding_clusters.reshape(n * m, k))).reshape(n, m, 2)\n",
    "\n",
    "\n",
    "tsne_plot_similar_words('Similar words before Debiasing', keys2, embeddings_en_2d, word_clusters, 0.7)\n",
    "tsne_plot_similar_words('Similar words after Debiasing',\n",
    "                        keys2, db_embeddings_en_2d, word_clusters, 0.7)\n"
   ]
  },
  {
   "attachments": {},
   "cell_type": "markdown",
   "metadata": {},
   "source": [
    "### MAC Scores"
   ]
  },
  {
   "cell_type": "code",
   "execution_count": null,
   "metadata": {},
   "outputs": [],
   "source": [
    "targets = [[\"he\", \"she\"],\n",
    "            [\"his\", \"hers\"],\n",
    "            [\"son\", \"daughter\"],\n",
    "            [\"father\", \"mother\"],\n",
    "            [\"male\", \"female\"],\n",
    "            [\"boy\", \"girl\"],\n",
    "            [\"uncle\", \"aunt\"]]\n",
    "\n",
    "Attribtutes = [[\"manager\", \"executive\", \"doctor\", \"lawyer\", \"programmer\", \"scientist\",\n",
    "                \"soldier\", \"supervisor\", \"rancher\", \"janitor\", \"firefighter\", \"officer\"], [\"secretary\", \"nurse\", \"clerk\", \"artist\", \"homemaker\", \"dancer\", \"singer\", \"librarian\", \"maid\", \"hairdresser\", \"stylist\", \"receptionist\", \"counselor\"]]\n"
   ]
  },
  {
   "cell_type": "code",
   "execution_count": null,
   "metadata": {},
   "outputs": [],
   "source": [
    "debiasedMAC, debiasedDistribution=multiclass_evaluation_MAC(\n",
    "    debiased_dict, targets, Attribtutes)\n",
    "\n",
    "originalMAC,originalDistribution = multiclass_evaluation_MAC(\n",
    "    dict_vec_cleaned, targets, Attribtutes)\n"
   ]
  },
  {
   "cell_type": "code",
   "execution_count": null,
   "metadata": {},
   "outputs": [],
   "source": [
    "from scipy.stats import ttest_rel, spearmanr\n",
    "statistics, pvalue = ttest_rel(originalDistribution, debiasedDistribution)\n"
   ]
  },
  {
   "attachments": {},
   "cell_type": "markdown",
   "metadata": {},
   "source": [
    "### Bias by neighbor"
   ]
  },
  {
   "cell_type": "code",
   "execution_count": null,
   "metadata": {},
   "outputs": [],
   "source": [
    "c_w2i, c_vocab, female_words, male_words, y_true=getting_biased_words(\n",
    "    gender_bias_original, def_sets['gender'], 1000, word2idx_cleaned)\n"
   ]
  },
  {
   "cell_type": "code",
   "execution_count": null,
   "metadata": {},
   "outputs": [],
   "source": [
    "biased_words=female_words+male_words"
   ]
  },
  {
   "cell_type": "code",
   "execution_count": null,
   "metadata": {},
   "outputs": [],
   "source": [
    "\n",
    "\n",
    "k_neighbors=finding_neighbors_before_after(\n",
    "    biased_words, model_original, model_debiased, topn=100)\n"
   ]
  },
  {
   "cell_type": "code",
   "execution_count": null,
   "metadata": {},
   "outputs": [],
   "source": [
    "#take k_neighbors dictionary and"
   ]
  },
  {
   "cell_type": "code",
   "execution_count": null,
   "metadata": {},
   "outputs": [],
   "source": [
    "calculate_bias_by_clustering(model_original, model_debiased, biased_words, 50)"
   ]
  },
  {
   "attachments": {},
   "cell_type": "markdown",
   "metadata": {},
   "source": [
    "### Saving Embeddings on a txt file.\n",
    "- And loading them as a Gensim model object"
   ]
  },
  {
   "cell_type": "code",
   "execution_count": null,
   "metadata": {},
   "outputs": [],
   "source": [
    "#Saving the debiased vectors and vocab to a text file\n",
    "glove.save_in_word2vec_format(\n",
    "    debiased_vectors, debiased_vocab, \"./Data/vecs.50.cleaned.txt\")\n",
    "\n",
    "#Loading the vectors into a KeyedVectors object 'model_cleaned' that we can use to find the most similar words to a given word\n",
    "model_cleaned, _, _ = load_word_vectors(\n",
    "    fname=\"./Data/vecs.50.cleaned.txt\")\n",
    "\n"
   ]
  }
 ],
 "metadata": {
  "kernelspec": {
   "display_name": ".venv",
   "language": "python",
   "name": "python3"
  },
  "language_info": {
   "codemirror_mode": {
    "name": "ipython",
    "version": 3
   },
   "file_extension": ".py",
   "mimetype": "text/x-python",
   "name": "python",
   "nbconvert_exporter": "python",
   "pygments_lexer": "ipython3",
   "version": "3.10.10"
  },
  "orig_nbformat": 4
 },
 "nbformat": 4,
 "nbformat_minor": 2
}
